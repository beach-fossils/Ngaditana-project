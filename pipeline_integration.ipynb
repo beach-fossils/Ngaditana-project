{
 "cells": [
  {
   "cell_type": "code",
   "execution_count": 2,
   "outputs": [],
   "source": [
    "from mewpy.omics.expression import ExpressionSet\n",
    "import numpy as np\n",
    "import pandas as pd\n",
    "from src.integration import *"
   ],
   "metadata": {
    "collapsed": false,
    "pycharm": {
     "name": "#%%\n"
    }
   }
  },
  {
   "cell_type": "code",
   "execution_count": 36,
   "outputs": [],
   "source": [
    "#Args:\n",
    "# identifiers (list): Gene or Proteins identifiers\n",
    "# conditions (list): Time, experiment,... identifiers.\n",
    "# expression (np.array): expression values.\n",
    "\n",
    "# read data as numpy array\n",
    "expr = pd.read_csv('data/inputs/tpm.tsv', sep='\\t')\n",
    "\n",
    "# get size of the data\n",
    "n_genes = expr.shape[0]"
   ],
   "metadata": {
    "collapsed": false,
    "pycharm": {
     "name": "#%%\n"
    }
   }
  },
  {
   "cell_type": "code",
   "execution_count": 33,
   "outputs": [
    {
     "name": "stdout",
     "output_type": "stream",
     "text": [
      "    Geneid  tpm\n",
      "0  Ng00001  0.0\n",
      "1  Ng00002  0.0\n",
      "2  Ng00003  0.0\n",
      "3  Ng00004  0.0\n",
      "4  Ng00005  0.0\n"
     ]
    }
   ],
   "source": [
    "# print dataset\n",
    "print(expr.head())"
   ],
   "metadata": {
    "collapsed": false,
    "pycharm": {
     "name": "#%%\n"
    }
   }
  },
  {
   "cell_type": "code",
   "execution_count": 49,
   "outputs": [],
   "source": [
    "identifiers: list = expr['Geneid'].tolist()\n",
    "conditions: list = ['tpm']\n",
    "expression = expr['tpm'].to_numpy()[:, np.newaxis]\n",
    "\n",
    "set_expression = ExpressionSet(identifiers, conditions, expression)"
   ],
   "metadata": {
    "collapsed": false,
    "pycharm": {
     "name": "#%%\n"
    }
   }
  },
  {
   "cell_type": "code",
   "execution_count": 50,
   "outputs": [
    {
     "name": "stdout",
     "output_type": "stream",
     "text": [
      "<mewpy.omics.expression.ExpressionSet object at 0x7f81eec7d370>\n"
     ]
    }
   ],
   "source": [
    "print(set_expression)"
   ],
   "metadata": {
    "collapsed": false,
    "pycharm": {
     "name": "#%%\n"
    }
   }
  },
  {
   "cell_type": "code",
   "execution_count": null,
   "outputs": [],
   "source": [
    "from mewpy.omics.integration.gimme import GIMME\n",
    "\n",
    "GIMME("
   ],
   "metadata": {
    "collapsed": false,
    "pycharm": {
     "name": "#%%\n"
    }
   }
  }
 ],
 "metadata": {
  "kernelspec": {
   "display_name": "Python 3",
   "language": "python",
   "name": "python3"
  },
  "language_info": {
   "codemirror_mode": {
    "name": "ipython",
    "version": 2
   },
   "file_extension": ".py",
   "mimetype": "text/x-python",
   "name": "python",
   "nbconvert_exporter": "python",
   "pygments_lexer": "ipython2",
   "version": "2.7.6"
  }
 },
 "nbformat": 4,
 "nbformat_minor": 0
}
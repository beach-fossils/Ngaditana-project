{
 "cells": [
  {
   "cell_type": "code",
   "execution_count": null,
   "outputs": [],
   "source": [
    "from mewpy.omics.expression import ExpressionSet\n",
    "import numpy as np\n",
    "import pandas as pd\n",
    "from src.integration import *\n",
    "from mewpy import *\n",
    "from mewpy.omics.integration.gimme import GIMME"
   ],
   "metadata": {
    "collapsed": false,
    "pycharm": {
     "name": "#%%\n"
    }
   }
  },
  {
   "cell_type": "markdown",
   "source": [
    "At this phase the data is ready to be integrated into a metabolic model. To do so, MewPy will be used, which is a Python library that allows to integrate data into a metabolic model. Two methods were implemented: GIMME and eFlux. To run both of them the gene expression dataset will be necessary TPM file to be integrated in a in house GEM."
   ],
   "metadata": {
    "collapsed": false,
    "pycharm": {
     "name": "#%% md\n"
    }
   }
  },
  {
   "cell_type": "markdown",
   "source": [
    "Load your model. It will give you a brief description of the model, and also understand if the model was properly loaded."
   ],
   "metadata": {
    "collapsed": false,
    "pycharm": {
     "name": "#%% md\n"
    }
   }
  },
  {
   "cell_type": "code",
   "execution_count": 10,
   "outputs": [
    {
     "name": "stderr",
     "output_type": "stream",
     "text": [
      "72520 does not conform to 'http(s)://identifiers.org/collection/id' or'http(s)://identifiers.org/COLLECTION:id\n"
     ]
    },
    {
     "name": "stdout",
     "output_type": "stream",
     "text": [
      "Scaling...\n",
      " A: min|aij| =  1.000e+00  max|aij| =  1.000e+00  ratio =  1.000e+00\n",
      "Problem data seem to be well scaled\n",
      "Model loaded\n",
      "Objective\n",
      "=========\n",
      "1.0 e_Biomass__cytop = 1904.504803688504\n",
      "\n",
      "Uptake\n",
      "------\n",
      "  Metabolite       Reaction      Flux  C-Number  C-Flux\n",
      "C00001__extr EX_C00001__dra 7.011E+04         0   0.00%\n",
      "C00009__extr EX_C00009__dra      2499         0   0.00%\n",
      "C00011__extr EX_C00011__dra 9.842E+04         1 100.00%\n",
      "C00059__extr EX_C00059__dra     177.3         0   0.00%\n",
      "C00080__extr EX_C00080__dra      2676         0   0.00%\n",
      "C00205__extr EX_C00205__dra     1E+06         0   0.00%\n",
      "C00244__extr EX_C00244__dra 1.611E+04         0   0.00%\n",
      "C00305__extr EX_C00305__dra     187.2         0   0.00%\n",
      "C14818__extr EX_C14818__dra     0.136         0   0.00%\n",
      "\n",
      "Secretion\n",
      "---------\n",
      "      Metabolite           Reaction       Flux  C-Number  C-Flux\n",
      " photon646__chlo DM_photon646__chlo -2.655E+05         0   0.00%\n",
      " photon680__chlo DM_photon680__chlo -6.486E+04         0   0.00%\n",
      "    C00007__extr     EX_C00007__dra -1.489E+05         0   0.00%\n",
      "    C00237__extr     EX_C00237__dra    -0.1972         1 100.00%\n",
      "e_Biomass__cytop  EX_e_Biomass__dra      -1905         0   0.00%\n",
      "\n"
     ]
    }
   ],
   "source": [
    "from src.integration import Integration\n",
    "\n",
    "my_model = Integration(model=\"data/inputs/model_ngaditana.xml\")"
   ],
   "metadata": {
    "collapsed": false,
    "pycharm": {
     "name": "#%%\n"
    }
   }
  },
  {
   "cell_type": "code",
   "execution_count": null,
   "outputs": [],
   "source": [
    "expr = pd.read_csv('data/inputs/wt_tpm.tsv', sep='\\t') # load expression data\n",
    "expr.columns = [\"Geneid\", 'tpm']\n",
    "expr[\"Geneid\"] = expr[\"Geneid\"] + \"_RA\" # add a suffix to the geneid to avoid conflicts with the model\n",
    "n_genes = expr.shape[0] # number of genes\n",
    "print(\"Number of genes:\", n_genes)\n",
    "print(\"Number of samples:\", expr.shape[1]-1)\n",
    "print(\"Head of the expression data:\")\n",
    "print(expr.head())\n",
    "print(\"\\n\")\n",
    "print(\"Summary of expression data:\")\n",
    "print(expr.describe())"
   ],
   "metadata": {
    "collapsed": false,
    "pycharm": {
     "name": "#%%\n"
    }
   }
  },
  {
   "cell_type": "code",
   "execution_count": null,
   "outputs": [],
   "source": [
    "identifiers = expr['Geneid'].tolist() # list of gene identifiers\n",
    "conditions = ['tpm'] # list of conditions\n",
    "gimme_res = my_model.gimme(expr=expr, condition=conditions, local_path=\"data/outputs/gimme/\", file_name= 'gimme')"
   ],
   "metadata": {
    "collapsed": false,
    "pycharm": {
     "name": "#%%\n"
    }
   }
  },
  {
   "cell_type": "code",
   "execution_count": null,
   "outputs": [],
   "source": [
    "gimme_res.to_dataframe().to_csv(\"data/outputs/gimme/nd.tsv\", sep=\"\\t\")"
   ],
   "metadata": {
    "collapsed": false,
    "pycharm": {
     "name": "#%%\n"
    }
   }
  },
  {
   "cell_type": "code",
   "execution_count": null,
   "outputs": [],
   "source": [
    "def integrate_multiple_expr_gimme(expr_list):\n",
    "    for expr_name in expr_list:\n",
    "        expr = pd.read_csv(f'data/inputs/{expr_name}', sep='\\t') # load expression data\n",
    "        expr.columns = [\"Geneid\", 'tpm']\n",
    "        expr[\"Geneid\"] = expr[\"Geneid\"] + \"_RA\" # add a suffix to the geneid to avoid conflicts with the model\n",
    "        n_genes = expr.shape[0] # number of genes\n",
    "        print(\"Number of genes:\", n_genes)\n",
    "        print(\"Number of samples:\", expr.shape[1]-1)\n",
    "        print(\"Head of the expression data:\")\n",
    "        print(expr.head())\n",
    "        print(\"\\n\")\n",
    "        print(\"Summary of expression data:\")\n",
    "        print(expr.describe())\n",
    "        identifiers = expr['Geneid'].tolist() # list of gene identifiers\n",
    "        conditions = ['tpm'] # list of conditions\n",
    "        gimme_res = my_model.gimme(expr=expr, conditions=conditions) # local_path=\"data/outputs/gimme/\", file_name= 'gimme')\n",
    "        out_path = expr_name.replace(\"_tpm\", \"\")\n",
    "        gimme_res.to_dataframe().to_csv(f\"data/outputs/gimme/{out_path}\", sep=\"\\t\")\n",
    "        \n",
    "def integrate_multiple_expr_eflux(expr_list):\n",
    "    for expr_name in expr_list:\n",
    "        expr = pd.read_csv(f'data/inputs/{expr_name}', sep='\\t') # load expression data\n",
    "        expr.columns = [\"Geneid\", 'tpm']\n",
    "        expr[\"Geneid\"] = expr[\"Geneid\"] + \"_RA\" # add a suffix to the geneid to avoid conflicts with the model\n",
    "        n_genes = expr.shape[0] # number of genes\n",
    "        print(\"Number of genes:\", n_genes)\n",
    "        print(\"Number of samples:\", expr.shape[1]-1)\n",
    "        print(\"Head of the expression data:\")\n",
    "        print(expr.head())\n",
    "        print(\"\\n\")\n",
    "        print(\"Summary of expression data:\")\n",
    "        print(expr.describe())\n",
    "        identifiers = expr['Geneid'].tolist() # list of gene identifiers\n",
    "        conditions = ['tpm'] # list of conditions\n",
    "        eflux_res = my_model.eflux(expr=expr, conditions=conditions) #local_path=\"data/outputs/eflux/\", file_name= 'eflux', parsimonious=True)\n",
    "        out_path = expr_name.replace(\"_tpm\", \"\")\n",
    "        eflux_res.dataframe.to_csv(f\"data/outputs/eflux/{out_path}\", sep=\"\\t\")\n"
   ],
   "metadata": {
    "collapsed": false,
    "pycharm": {
     "name": "#%%\n"
    }
   }
  },
  {
   "cell_type": "code",
   "execution_count": 8,
   "outputs": [
    {
     "ename": "NameError",
     "evalue": "name 'integrate_multiple_expr_eflux' is not defined",
     "output_type": "error",
     "traceback": [
      "\u001B[0;31m---------------------------------------------------------------------------\u001B[0m",
      "\u001B[0;31mNameError\u001B[0m                                 Traceback (most recent call last)",
      "Input \u001B[0;32mIn [8]\u001B[0m, in \u001B[0;36m<cell line: 1>\u001B[0;34m()\u001B[0m\n\u001B[0;32m----> 1\u001B[0m eflux_res \u001B[38;5;241m=\u001B[39m \u001B[43mintegrate_multiple_expr_eflux\u001B[49m([\u001B[38;5;124m\"\u001B[39m\u001B[38;5;124mwt_tpm.tsv\u001B[39m\u001B[38;5;124m\"\u001B[39m, \u001B[38;5;124m\"\u001B[39m\u001B[38;5;124mnd_tpm.tsv\u001B[39m\u001B[38;5;124m\"\u001B[39m])\n",
      "\u001B[0;31mNameError\u001B[0m: name 'integrate_multiple_expr_eflux' is not defined"
     ]
    }
   ],
   "source": [
    "eflux_res = integrate_multiple_expr_eflux([\"wt_tpm.tsv\", \"nd_tpm.tsv\"])"
   ],
   "metadata": {
    "collapsed": false,
    "pycharm": {
     "name": "#%%\n"
    }
   }
  },
  {
   "cell_type": "code",
   "execution_count": null,
   "outputs": [],
   "source": [
    "eflux_res"
   ],
   "metadata": {
    "collapsed": false,
    "pycharm": {
     "name": "#%%\n"
    }
   }
  },
  {
   "cell_type": "code",
   "execution_count": null,
   "outputs": [],
   "source": [
    "eflux_res"
   ],
   "metadata": {
    "collapsed": false,
    "pycharm": {
     "name": "#%%\n"
    }
   }
  },
  {
   "cell_type": "code",
   "execution_count": 3,
   "outputs": [],
   "source": [
    "nd = pd.read_csv(\"data/outputs/gimme/nd.tsv\", sep=\"\\t\")\n",
    "wt = pd.read_csv(\"data/outputs/gimme/wt.tsv\", sep=\"\\t\")"
   ],
   "metadata": {
    "collapsed": false,
    "pycharm": {
     "name": "#%%\n"
    }
   }
  },
  {
   "cell_type": "code",
   "execution_count": 4,
   "outputs": [],
   "source": [
    "expr_nd = pd.read_csv(f'data/inputs/nd_tpm.tsv', sep='\\t') # load expression data\n",
    "expr_nd.columns = [\"Geneid\", 'tpm']\n",
    "expr_wt = pd.read_csv(f'data/inputs/wt_tpm.tsv', sep='\\t') # load expression data\n",
    "expr_wt.columns = [\"Geneid\", 'tpm']"
   ],
   "metadata": {
    "collapsed": false,
    "pycharm": {
     "name": "#%%\n"
    }
   }
  },
  {
   "cell_type": "code",
   "execution_count": 7,
   "outputs": [
    {
     "data": {
      "text/plain": "(    Geneid       tpm\n 0  Ng00001  0.000000\n 1  Ng00002  0.000000\n 2  Ng00003  0.000000\n 3  Ng00004  0.184044\n 4  Ng00005  0.243088,\n     Geneid       tpm\n 0  Ng00001  0.000000\n 1  Ng00002  0.000000\n 2  Ng00003  0.000000\n 3  Ng00004  0.000000\n 4  Ng00005  1.595594,\n                 Unnamed: 0        value\n 0             R02434__chlo     0.000000\n 1  T_L_Tyrosine_V2__mitmem     0.087430\n 2    TR0011455_PLAS__ermem     0.000000\n 3            R01652__cytop     0.000000\n 4             R00243__mito -6796.166165,\n                 Unnamed: 0        value\n 0             R02434__chlo     0.000000\n 1  T_L_Tyrosine_V2__mitmem     0.087430\n 2    TR0011455_PLAS__ermem     0.000000\n 3            R01652__cytop     0.000000\n 4             R00243__mito -6796.166165)"
     },
     "execution_count": 7,
     "metadata": {},
     "output_type": "execute_result"
    }
   ],
   "source": [
    "expr_nd.head(), expr_wt.head(), nd.head(), wt.head()"
   ],
   "metadata": {
    "collapsed": false,
    "pycharm": {
     "name": "#%%\n"
    }
   }
  },
  {
   "cell_type": "markdown",
   "source": [
    "In order to run GIMME or eFlux, you need to set your expression data."
   ],
   "metadata": {
    "collapsed": false,
    "pycharm": {
     "name": "#%% md\n"
    }
   }
  },
  {
   "cell_type": "code",
   "execution_count": null,
   "outputs": [],
   "source": [
    "expr = pd.read_csv('data/inputs/tpm.tsv', sep='\\t') # load expression data\n",
    "\n",
    "expr[\"Geneid\"] = expr[\"Geneid\"] + \"_RA\" # add a suffix to the geneid to avoid conflicts with the model\n",
    "n_genes = expr.shape[0] # number of genes\n",
    "print(\"Number of genes:\", n_genes)\n",
    "print(\"Number of samples:\", expr.shape[1]-1)\n",
    "print(\"Head of the expression data:\")\n",
    "print(expr.head())\n",
    "print(\"\\n\")\n",
    "print(\"Summary of expression data:\")\n",
    "print(expr.describe())"
   ],
   "metadata": {
    "collapsed": false,
    "pycharm": {
     "name": "#%%\n"
    }
   }
  },
  {
   "cell_type": "markdown",
   "source": [
    "Set the desired solver to be used. In this case the Gurobi solver will be used."
   ],
   "metadata": {
    "collapsed": false,
    "pycharm": {
     "name": "#%% md\n"
    }
   }
  },
  {
   "cell_type": "code",
   "execution_count": null,
   "outputs": [],
   "source": [
    "import mewpy.solvers\n",
    "\n",
    "mewpy.solvers.set_default_solver('gurobi')\n",
    "print(mewpy.solvers.get_default_solver())"
   ],
   "metadata": {
    "collapsed": false,
    "pycharm": {
     "name": "#%%\n"
    }
   }
  },
  {
   "cell_type": "markdown",
   "source": [],
   "metadata": {
    "collapsed": false,
    "pycharm": {
     "name": "#%% md\n"
    }
   }
  },
  {
   "cell_type": "code",
   "execution_count": null,
   "outputs": [],
   "source": [
    "my_model.gimme(expr=set_expression, condition=conditions, local_path=\"data/outputs/gimme/\", file_name= 'gimme')"
   ],
   "metadata": {
    "collapsed": false,
    "pycharm": {
     "name": "#%%\n"
    }
   }
  },
  {
   "cell_type": "code",
   "execution_count": null,
   "outputs": [],
   "source": [
    "my_model.eflux(set_expression, local_path=\"data/outputs/gimme/\", file_name= 'eflux')"
   ],
   "metadata": {
    "collapsed": false,
    "pycharm": {
     "name": "#%%\n"
    }
   }
  },
  {
   "cell_type": "code",
   "execution_count": null,
   "outputs": [],
   "source": [
    "#identifiers: list = expr['Geneid'].tolist()\n",
    "#conditions: list = ['tpm']\n",
    "#expression = expr['tpm'].to_numpy()[:, np.newaxis]\n",
    "\n",
    "#set_expression = ExpressionSet(identifiers, conditions, expression)"
   ],
   "metadata": {
    "collapsed": false,
    "pycharm": {
     "name": "#%%\n"
    }
   }
  },
  {
   "cell_type": "code",
   "execution_count": null,
   "outputs": [],
   "source": [],
   "metadata": {
    "collapsed": false,
    "pycharm": {
     "name": "#%%\n"
    }
   }
  },
  {
   "cell_type": "code",
   "execution_count": null,
   "outputs": [],
   "source": [],
   "metadata": {
    "collapsed": false,
    "pycharm": {
     "name": "#%%\n"
    }
   }
  },
  {
   "cell_type": "code",
   "execution_count": null,
   "outputs": [],
   "source": [
    "integration = Integration(\"data/inputs/model_ngaditana.xml\")"
   ],
   "metadata": {
    "collapsed": false,
    "pycharm": {
     "name": "#%%\n"
    }
   }
  },
  {
   "cell_type": "code",
   "execution_count": null,
   "outputs": [],
   "source": [
    "expr = pd.read_csv('data/inputs/tpm.tsv', sep='\\t')\n",
    "expr[\"Geneid\"] = expr[\"Geneid\"] + \"_RA\"\n",
    "condition = ['tpm']"
   ],
   "metadata": {
    "collapsed": false,
    "pycharm": {
     "name": "#%%\n"
    }
   }
  },
  {
   "cell_type": "code",
   "execution_count": null,
   "outputs": [],
   "source": [
    "gimme_res = integration.gimme(expr, condition, \"data/results\", \"gimme_results\")"
   ],
   "metadata": {
    "collapsed": false,
    "pycharm": {
     "name": "#%%\n"
    }
   }
  },
  {
   "cell_type": "code",
   "execution_count": null,
   "outputs": [],
   "source": [
    "solution = gimme_res.to_dataframe()"
   ],
   "metadata": {
    "collapsed": false,
    "pycharm": {
     "name": "#%%\n"
    }
   }
  },
  {
   "cell_type": "code",
   "execution_count": null,
   "outputs": [],
   "source": [
    "eflux = integration.eflux(expr, \"data/results\", \"gimme_results\", condition)"
   ],
   "metadata": {
    "collapsed": false,
    "pycharm": {
     "name": "#%%\n"
    }
   }
  },
  {
   "cell_type": "code",
   "execution_count": null,
   "outputs": [],
   "source": [
    "eflux"
   ],
   "metadata": {
    "collapsed": false,
    "pycharm": {
     "name": "#%%\n"
    }
   }
  },
  {
   "cell_type": "code",
   "execution_count": null,
   "outputs": [],
   "source": [
    "eflux"
   ],
   "metadata": {
    "collapsed": false,
    "pycharm": {
     "name": "#%%\n"
    }
   }
  },
  {
   "cell_type": "code",
   "execution_count": 1,
   "outputs": [],
   "source": [
    "import pandas as pd\n",
    "from integration import Integration"
   ],
   "metadata": {
    "collapsed": false,
    "pycharm": {
     "name": "#%%\n"
    }
   }
  },
  {
   "cell_type": "code",
   "execution_count": 2,
   "outputs": [],
   "source": [
    "nd_model = pd.read_csv('data/inputs/pfba/nd_model.xml', sep='\\t') # load expression data"
   ],
   "metadata": {
    "collapsed": false,
    "pycharm": {
     "name": "#%%\n"
    }
   }
  },
  {
   "cell_type": "code",
   "execution_count": 3,
   "outputs": [
    {
     "name": "stdout",
     "output_type": "stream",
     "text": [
      "Scaling...\n",
      " A: min|aij| =  1.000e+00  max|aij| =  1.000e+00  ratio =  1.000e+00\n",
      "Problem data seem to be well scaled\n",
      "Model loaded\n",
      "Objective\n",
      "=========\n",
      "1.0 e_Biomass__cytop = 0.009950042454122277\n",
      "\n",
      "Uptake\n",
      "------\n",
      "  Metabolite       Reaction      Flux  C-Number  C-Flux\n",
      "C00001__extr EX_C00001__dra     1.409         0   0.00%\n",
      "C00009__extr EX_C00009__dra   0.01306         0   0.00%\n",
      "C00011__extr EX_C00011__dra    0.5142         1 100.00%\n",
      "C00059__extr EX_C00059__dra 0.0009262         0   0.00%\n",
      "C00080__extr EX_C00080__dra   0.01398         0   0.00%\n",
      "C00205__extr EX_C00205__dra     11.09         0   0.00%\n",
      "C00244__extr EX_C00244__dra    0.0891         0   0.00%\n",
      "C00305__extr EX_C00305__dra  0.000978         0   0.00%\n",
      "C14818__extr EX_C14818__dra 7.107E-07         0   0.00%\n",
      "\n",
      "Secretion\n",
      "---------\n",
      "      Metabolite           Reaction      Flux  C-Number  C-Flux\n",
      " photon646__chlo DM_photon646__chlo    -2.945         0   0.00%\n",
      " photon680__chlo DM_photon680__chlo   -0.7209         0   0.00%\n",
      "    C00007__extr     EX_C00007__dra    -0.184         0   0.00%\n",
      "    C00014__extr     EX_C00014__dra  -0.00492         0   0.00%\n",
      "    C00027__extr     EX_C00027__dra        -1         0   0.00%\n",
      "    C00237__extr     EX_C00237__dra -1.03E-06         1 100.00%\n",
      "    C00282__extr     EX_C00282__dra  -0.03244         0   0.00%\n",
      "    C00704__extr     EX_C00704__dra   -0.1223         0   0.00%\n",
      "e_Biomass__cytop  EX_e_Biomass__dra  -0.00995         0   0.00%\n",
      "\n"
     ]
    }
   ],
   "source": [
    "nd_model = Integration(\"data/inputs/pfba/nd_model.xml\")"
   ],
   "metadata": {
    "collapsed": false,
    "pycharm": {
     "name": "#%%\n"
    }
   }
  },
  {
   "cell_type": "code",
   "execution_count": 4,
   "outputs": [
    {
     "data": {
      "text/plain": "2.42861286636753e-17"
     },
     "execution_count": 4,
     "metadata": {},
     "output_type": "execute_result"
    }
   ],
   "source": [
    "nd_model.pFBA()"
   ],
   "metadata": {
    "collapsed": false,
    "pycharm": {
     "name": "#%%\n"
    }
   }
  },
  {
   "cell_type": "code",
   "execution_count": 16,
   "outputs": [
    {
     "name": "stdout",
     "output_type": "stream",
     "text": [
      "FVA finds the ranges of each metabolic flux at the optimum.\n",
      "                               minimum       maximum\n",
      "R02434__chlo                  0.000000      0.000000\n",
      "T_L_Tyrosine_V2__mitmem -548343.564066      0.097144\n",
      "TR0011455_PLAS__ermem         0.000000      0.000000\n",
      "R01652__cytop                 0.000000  12666.539865\n",
      "R00243__mito            -561792.117499  13128.334099\n",
      "PKS_C204__cytop               0.000000    161.567387\n",
      "EX_C00188__dra                0.000000      0.000000\n",
      "EX_C05839__dra                0.000000      0.000000\n",
      "R03362__cytop                 0.000000  66546.188139\n",
      "R04537__cytop                 0.000000   1823.094117\n"
     ]
    },
    {
     "ename": "AttributeError",
     "evalue": "DictList has no attribute or entry FRD7",
     "output_type": "error",
     "traceback": [
      "\u001B[0;31m---------------------------------------------------------------------------\u001B[0m",
      "\u001B[0;31mKeyError\u001B[0m                                  Traceback (most recent call last)",
      "File \u001B[0;32m~/Documents/GitHub/bioinformatics-project/venv/lib/python3.9/site-packages/cobra/core/dictlist.py:526\u001B[0m, in \u001B[0;36mDictList.__getattr__\u001B[0;34m(self, attr)\u001B[0m\n\u001B[1;32m    525\u001B[0m \u001B[38;5;28;01mtry\u001B[39;00m:\n\u001B[0;32m--> 526\u001B[0m     \u001B[38;5;28;01mreturn\u001B[39;00m \u001B[43mDictList\u001B[49m\u001B[38;5;241;43m.\u001B[39;49m\u001B[43mget_by_id\u001B[49m\u001B[43m(\u001B[49m\u001B[38;5;28;43mself\u001B[39;49m\u001B[43m,\u001B[49m\u001B[43m \u001B[49m\u001B[43mattr\u001B[49m\u001B[43m)\u001B[49m\n\u001B[1;32m    527\u001B[0m \u001B[38;5;28;01mexcept\u001B[39;00m \u001B[38;5;167;01mKeyError\u001B[39;00m:\n",
      "File \u001B[0;32m~/Documents/GitHub/bioinformatics-project/venv/lib/python3.9/site-packages/cobra/core/dictlist.py:74\u001B[0m, in \u001B[0;36mDictList.get_by_id\u001B[0;34m(self, id)\u001B[0m\n\u001B[1;32m     73\u001B[0m \u001B[38;5;124;03m\"\"\"Return the element with a matching id.\"\"\"\u001B[39;00m\n\u001B[0;32m---> 74\u001B[0m \u001B[38;5;28;01mreturn\u001B[39;00m \u001B[38;5;28mlist\u001B[39m\u001B[38;5;241m.\u001B[39m\u001B[38;5;21m__getitem__\u001B[39m(\u001B[38;5;28mself\u001B[39m, \u001B[38;5;28;43mself\u001B[39;49m\u001B[38;5;241;43m.\u001B[39;49m\u001B[43m_dict\u001B[49m\u001B[43m[\u001B[49m\u001B[38;5;28;43mid\u001B[39;49m\u001B[43m]\u001B[49m)\n",
      "\u001B[0;31mKeyError\u001B[0m: 'FRD7'",
      "\nDuring handling of the above exception, another exception occurred:\n",
      "\u001B[0;31mAttributeError\u001B[0m                            Traceback (most recent call last)",
      "Input \u001B[0;32mIn [16]\u001B[0m, in \u001B[0;36m<cell line: 1>\u001B[0;34m()\u001B[0m\n\u001B[0;32m----> 1\u001B[0m \u001B[43mmy_model\u001B[49m\u001B[38;5;241;43m.\u001B[39;49m\u001B[43mfva\u001B[49m\u001B[43m(\u001B[49m\u001B[43m)\u001B[49m\n",
      "File \u001B[0;32m~/Documents/GitHub/bioinformatics-project/src/integration.py:104\u001B[0m, in \u001B[0;36mIntegration.fva\u001B[0;34m(self, fva, fraction_of_optimum, loopless, **kwargs)\u001B[0m\n\u001B[1;32m     99\u001B[0m \u001B[38;5;28mprint\u001B[39m(\u001B[38;5;124m'\u001B[39m\u001B[38;5;124mFVA finds the ranges of each metabolic flux at the optimum.\u001B[39m\u001B[38;5;124m'\u001B[39m)\n\u001B[1;32m    101\u001B[0m \u001B[38;5;28mprint\u001B[39m(cobra\u001B[38;5;241m.\u001B[39mflux_analysis\u001B[38;5;241m.\u001B[39mflux_variability_analysis(\n\u001B[1;32m    102\u001B[0m     \u001B[38;5;28mself\u001B[39m\u001B[38;5;241m.\u001B[39mmodel, \u001B[38;5;28mself\u001B[39m\u001B[38;5;241m.\u001B[39mmodel\u001B[38;5;241m.\u001B[39mreactions[:\u001B[38;5;241m10\u001B[39m], fraction_of_optimum\u001B[38;5;241m=\u001B[39mfraction_of_optimum))\n\u001B[0;32m--> 104\u001B[0m loop_reactions \u001B[38;5;241m=\u001B[39m [\u001B[38;5;28;43mself\u001B[39;49m\u001B[38;5;241;43m.\u001B[39;49m\u001B[43mmodel\u001B[49m\u001B[38;5;241;43m.\u001B[39;49m\u001B[43mreactions\u001B[49m\u001B[38;5;241;43m.\u001B[39;49m\u001B[43mFRD7\u001B[49m, \u001B[38;5;28mself\u001B[39m\u001B[38;5;241m.\u001B[39mmodel\u001B[38;5;241m.\u001B[39mreactions\u001B[38;5;241m.\u001B[39mSUCDi]\n\u001B[1;32m    105\u001B[0m flux_variability_analysis(\u001B[38;5;28mself\u001B[39m\u001B[38;5;241m.\u001B[39mmodel, reaction_list\u001B[38;5;241m=\u001B[39mloop_reactions, loopless\u001B[38;5;241m=\u001B[39mloopless)\n\u001B[1;32m    106\u001B[0m \u001B[38;5;28mprint\u001B[39m(\u001B[38;5;124mf\u001B[39m\u001B[38;5;124m'\u001B[39m\u001B[38;5;124mLoop reactions: \u001B[39m\u001B[38;5;132;01m{\u001B[39;00mloop_reactions\u001B[38;5;132;01m}\u001B[39;00m\u001B[38;5;124m'\u001B[39m)\n",
      "File \u001B[0;32m~/Documents/GitHub/bioinformatics-project/venv/lib/python3.9/site-packages/cobra/core/dictlist.py:528\u001B[0m, in \u001B[0;36mDictList.__getattr__\u001B[0;34m(self, attr)\u001B[0m\n\u001B[1;32m    526\u001B[0m     \u001B[38;5;28;01mreturn\u001B[39;00m DictList\u001B[38;5;241m.\u001B[39mget_by_id(\u001B[38;5;28mself\u001B[39m, attr)\n\u001B[1;32m    527\u001B[0m \u001B[38;5;28;01mexcept\u001B[39;00m \u001B[38;5;167;01mKeyError\u001B[39;00m:\n\u001B[0;32m--> 528\u001B[0m     \u001B[38;5;28;01mraise\u001B[39;00m \u001B[38;5;167;01mAttributeError\u001B[39;00m(\u001B[38;5;124mf\u001B[39m\u001B[38;5;124m\"\u001B[39m\u001B[38;5;124mDictList has no attribute or entry \u001B[39m\u001B[38;5;132;01m{\u001B[39;00mattr\u001B[38;5;132;01m}\u001B[39;00m\u001B[38;5;124m\"\u001B[39m)\n",
      "\u001B[0;31mAttributeError\u001B[0m: DictList has no attribute or entry FRD7"
     ]
    }
   ],
   "source": [
    "my_model.fva()"
   ],
   "metadata": {
    "collapsed": false,
    "pycharm": {
     "name": "#%%\n"
    }
   }
  },
  {
   "cell_type": "code",
   "execution_count": 5,
   "outputs": [
    {
     "name": "stdout",
     "output_type": "stream",
     "text": [
      "Model loaded\n",
      "Objective\n",
      "=========\n",
      "1.0 e_Biomass__cytop = 0.010041327328290849\n",
      "\n",
      "Uptake\n",
      "------\n",
      "  Metabolite       Reaction      Flux  C-Number  C-Flux\n",
      "C00001__extr EX_C00001__dra    0.4504         0   0.00%\n",
      "C00009__extr EX_C00009__dra   0.01318         0   0.00%\n",
      "C00011__extr EX_C00011__dra    0.5292         1 100.00%\n",
      "C00059__extr EX_C00059__dra 0.0009347         0   0.00%\n",
      "C00080__extr EX_C00080__dra   0.03222         0   0.00%\n",
      "C00205__extr EX_C00205__dra     11.67         0   0.00%\n",
      "C00244__extr EX_C00244__dra   0.08854         0   0.00%\n",
      "C00305__extr EX_C00305__dra  0.000987         0   0.00%\n",
      "C14818__extr EX_C14818__dra 7.173E-07         0   0.00%\n",
      "\n",
      "Secretion\n",
      "---------\n",
      "      Metabolite            Reaction      Flux  C-Number C-Flux\n",
      "photon298__cytop DM_photon298__cytop  -0.03192         0  0.00%\n",
      " photon450__chlo  DM_photon450__chlo   -0.7258         0  0.00%\n",
      " photon490__chlo  DM_photon490__chlo   -0.9142         0  0.00%\n",
      " photon646__chlo  DM_photon646__chlo     -2.54         0  0.00%\n",
      " photon673__chlo  DM_photon673__chlo   -0.0554         0  0.00%\n",
      "    C00007__extr      EX_C00007__dra   -0.6807         0  0.00%\n",
      "    C00014__extr      EX_C00014__dra -0.003586         0  0.00%\n",
      "    C00027__extr      EX_C00027__dra  -0.05387         0  0.00%\n",
      "    C00237__extr      EX_C00237__dra -1.04E-06         1  0.01%\n",
      "    C00282__extr      EX_C00282__dra   -0.0237         0  0.00%\n",
      "    C00288__extr      EX_C00288__dra  -0.01024         1 99.99%\n",
      "    C00704__extr      EX_C00704__dra  -0.09095         0  0.00%\n",
      "e_Biomass__cytop   EX_e_Biomass__dra  -0.01004         0  0.00%\n",
      "\n"
     ]
    },
    {
     "data": {
      "text/plain": "6.071532165918825e-17"
     },
     "execution_count": 5,
     "metadata": {},
     "output_type": "execute_result"
    }
   ],
   "source": [
    "wt_model = Integration(\"data/inputs/pfba/wt_model.xml\")\n",
    "wt_model.pFBA()"
   ],
   "metadata": {
    "collapsed": false,
    "pycharm": {
     "name": "#%%\n"
    }
   }
  },
  {
   "cell_type": "code",
   "execution_count": 7,
   "outputs": [
    {
     "name": "stdout",
     "output_type": "stream",
     "text": [
      "Model deleted\n"
     ]
    }
   ],
   "source": [
    "import cobra\n",
    "from cobra.flux_analysis import flux_variability_analysis\n",
    "wt_model = cobra.io.read_sbml_model(\"data/inputs/pfba/wt_model.xml\")"
   ],
   "metadata": {
    "collapsed": false,
    "pycharm": {
     "name": "#%%\n"
    }
   }
  },
  {
   "cell_type": "code",
   "execution_count": 8,
   "outputs": [
    {
     "data": {
      "text/plain": "<Solution 0.010 at 0x7f8a59ebfc70>",
      "text/html": "<strong><em>Optimal</em> solution with objective value 0.010</strong><br><div>\n<style scoped>\n    .dataframe tbody tr th:only-of-type {\n        vertical-align: middle;\n    }\n\n    .dataframe tbody tr th {\n        vertical-align: top;\n    }\n\n    .dataframe thead th {\n        text-align: right;\n    }\n</style>\n<table border=\"1\" class=\"dataframe\">\n  <thead>\n    <tr style=\"text-align: right;\">\n      <th></th>\n      <th>fluxes</th>\n      <th>reduced_costs</th>\n    </tr>\n  </thead>\n  <tbody>\n    <tr>\n      <th>R02434__chlo</th>\n      <td>0.000000e+00</td>\n      <td>0.000000</td>\n    </tr>\n    <tr>\n      <th>T_L_Tyrosine_V2__mitmem</th>\n      <td>5.121830e-07</td>\n      <td>0.000000</td>\n    </tr>\n    <tr>\n      <th>TR0011455_PLAS__ermem</th>\n      <td>0.000000e+00</td>\n      <td>0.000000</td>\n    </tr>\n    <tr>\n      <th>R01652__cytop</th>\n      <td>0.000000e+00</td>\n      <td>0.000000</td>\n    </tr>\n    <tr>\n      <th>R00243__mito</th>\n      <td>-1.522511e-02</td>\n      <td>-0.052294</td>\n    </tr>\n    <tr>\n      <th>...</th>\n      <td>...</td>\n      <td>...</td>\n    </tr>\n    <tr>\n      <th>R05165__cytop</th>\n      <td>0.000000e+00</td>\n      <td>0.000000</td>\n    </tr>\n    <tr>\n      <th>R08270__chlo</th>\n      <td>0.000000e+00</td>\n      <td>0.000000</td>\n    </tr>\n    <tr>\n      <th>T_HMGCOAtm__mitmem</th>\n      <td>0.000000e+00</td>\n      <td>-0.000000</td>\n    </tr>\n    <tr>\n      <th>EX_C00009__dra</th>\n      <td>-1.317618e-02</td>\n      <td>0.000000</td>\n    </tr>\n    <tr>\n      <th>R05052__chlo</th>\n      <td>0.000000e+00</td>\n      <td>0.000000</td>\n    </tr>\n  </tbody>\n</table>\n<p>3516 rows × 2 columns</p>\n</div>"
     },
     "execution_count": 8,
     "metadata": {},
     "output_type": "execute_result"
    }
   ],
   "source": [
    "wt_model.optimize() # optimize the model"
   ],
   "metadata": {
    "collapsed": false,
    "pycharm": {
     "name": "#%%\n"
    }
   }
  },
  {
   "cell_type": "code",
   "execution_count": 9,
   "outputs": [
    {
     "ename": "TypeError",
     "evalue": "flux_variability_analysis() got an unexpected keyword argument 'objective_sense'",
     "output_type": "error",
     "traceback": [
      "\u001B[0;31m---------------------------------------------------------------------------\u001B[0m",
      "\u001B[0;31mTypeError\u001B[0m                                 Traceback (most recent call last)",
      "Input \u001B[0;32mIn [9]\u001B[0m, in \u001B[0;36m<cell line: 1>\u001B[0;34m()\u001B[0m\n\u001B[0;32m----> 1\u001B[0m \u001B[43mflux_variability_analysis\u001B[49m\u001B[43m(\u001B[49m\u001B[43mwt_model\u001B[49m\u001B[43m,\u001B[49m\u001B[43m \u001B[49m\u001B[43mobjective_sense\u001B[49m\u001B[38;5;241;43m=\u001B[39;49m\u001B[38;5;124;43m'\u001B[39;49m\u001B[38;5;124;43mmaximize\u001B[39;49m\u001B[38;5;124;43m'\u001B[39;49m\u001B[43m)\u001B[49m\n",
      "\u001B[0;31mTypeError\u001B[0m: flux_variability_analysis() got an unexpected keyword argument 'objective_sense'"
     ]
    }
   ],
   "source": [
    "flux_variability_analysis(wt_model, ) # perform FVA"
   ],
   "metadata": {
    "collapsed": false,
    "pycharm": {
     "name": "#%%\n"
    }
   }
  },
  {
   "cell_type": "code",
   "execution_count": 10,
   "outputs": [],
   "source": [
    "reaction_list = \"data/inputs/fva/nd.tsv\" # load reaction list"
   ],
   "metadata": {
    "collapsed": false,
    "pycharm": {
     "name": "#%%\n"
    }
   }
  },
  {
   "cell_type": "code",
   "execution_count": 11,
   "outputs": [],
   "source": [
    "reaction_list = pd.read_csv(reaction_list, sep='\\t') # load reaction list"
   ],
   "metadata": {
    "collapsed": false,
    "pycharm": {
     "name": "#%%\n"
    }
   }
  },
  {
   "cell_type": "code",
   "execution_count": 12,
   "outputs": [
    {
     "data": {
      "text/plain": "                Unnamed: 0        fluxes  reduced_costs\n0             R02434__chlo  0.000000e+00      -2.000000\n1  T_L_Tyrosine_V2__mitmem  5.075268e-07      -2.000000\n2    TR0011455_PLAS__ermem  0.000000e+00      -2.000000\n3            R01652__cytop  0.000000e+00      -2.000000\n4             R00243__mito -3.953082e-03     854.988265",
      "text/html": "<div>\n<style scoped>\n    .dataframe tbody tr th:only-of-type {\n        vertical-align: middle;\n    }\n\n    .dataframe tbody tr th {\n        vertical-align: top;\n    }\n\n    .dataframe thead th {\n        text-align: right;\n    }\n</style>\n<table border=\"1\" class=\"dataframe\">\n  <thead>\n    <tr style=\"text-align: right;\">\n      <th></th>\n      <th>Unnamed: 0</th>\n      <th>fluxes</th>\n      <th>reduced_costs</th>\n    </tr>\n  </thead>\n  <tbody>\n    <tr>\n      <th>0</th>\n      <td>R02434__chlo</td>\n      <td>0.000000e+00</td>\n      <td>-2.000000</td>\n    </tr>\n    <tr>\n      <th>1</th>\n      <td>T_L_Tyrosine_V2__mitmem</td>\n      <td>5.075268e-07</td>\n      <td>-2.000000</td>\n    </tr>\n    <tr>\n      <th>2</th>\n      <td>TR0011455_PLAS__ermem</td>\n      <td>0.000000e+00</td>\n      <td>-2.000000</td>\n    </tr>\n    <tr>\n      <th>3</th>\n      <td>R01652__cytop</td>\n      <td>0.000000e+00</td>\n      <td>-2.000000</td>\n    </tr>\n    <tr>\n      <th>4</th>\n      <td>R00243__mito</td>\n      <td>-3.953082e-03</td>\n      <td>854.988265</td>\n    </tr>\n  </tbody>\n</table>\n</div>"
     },
     "execution_count": 12,
     "metadata": {},
     "output_type": "execute_result"
    }
   ],
   "source": [
    "reaction_list.head()"
   ],
   "metadata": {
    "collapsed": false,
    "pycharm": {
     "name": "#%%\n"
    }
   }
  },
  {
   "cell_type": "code",
   "execution_count": 17,
   "outputs": [
    {
     "ename": "TypeError",
     "evalue": "unhashable type: 'DataFrame'",
     "output_type": "error",
     "traceback": [
      "\u001B[0;31m---------------------------------------------------------------------------\u001B[0m",
      "\u001B[0;31mTypeError\u001B[0m                                 Traceback (most recent call last)",
      "Input \u001B[0;32mIn [17]\u001B[0m, in \u001B[0;36m<cell line: 4>\u001B[0;34m()\u001B[0m\n\u001B[1;32m      2\u001B[0m \u001B[38;5;66;03m# make reaction list as dataframe\u001B[39;00m\n\u001B[1;32m      3\u001B[0m reaction_list \u001B[38;5;241m=\u001B[39m pd\u001B[38;5;241m.\u001B[39mDataFrame(reaction_list)\n\u001B[0;32m----> 4\u001B[0m final_fva \u001B[38;5;241m=\u001B[39m \u001B[43mflux_variability_analysis\u001B[49m\u001B[43m(\u001B[49m\u001B[43mnd_model\u001B[49m\u001B[43m,\u001B[49m\u001B[43m \u001B[49m\u001B[43mreaction_list\u001B[49m\u001B[38;5;241;43m=\u001B[39;49m\u001B[43mreaction_list\u001B[49m\u001B[43m)\u001B[49m\n",
      "File \u001B[0;32m~/Documents/GitHub/bioinformatics-project/venv/lib/python3.9/site-packages/cobra/flux_analysis/variability.py:170\u001B[0m, in \u001B[0;36mflux_variability_analysis\u001B[0;34m(model, reaction_list, loopless, fraction_of_optimum, pfba_factor, processes)\u001B[0m\n\u001B[1;32m    168\u001B[0m     reaction_ids \u001B[38;5;241m=\u001B[39m [r\u001B[38;5;241m.\u001B[39mid \u001B[38;5;28;01mfor\u001B[39;00m r \u001B[38;5;129;01min\u001B[39;00m model\u001B[38;5;241m.\u001B[39mreactions]\n\u001B[1;32m    169\u001B[0m \u001B[38;5;28;01melse\u001B[39;00m:\n\u001B[0;32m--> 170\u001B[0m     reaction_ids \u001B[38;5;241m=\u001B[39m [r\u001B[38;5;241m.\u001B[39mid \u001B[38;5;28;01mfor\u001B[39;00m r \u001B[38;5;129;01min\u001B[39;00m \u001B[43mmodel\u001B[49m\u001B[38;5;241;43m.\u001B[39;49m\u001B[43mreactions\u001B[49m\u001B[38;5;241;43m.\u001B[39;49m\u001B[43mget_by_any\u001B[49m\u001B[43m(\u001B[49m\u001B[43mreaction_list\u001B[49m\u001B[43m)\u001B[49m]\n\u001B[1;32m    172\u001B[0m \u001B[38;5;28;01mif\u001B[39;00m processes \u001B[38;5;129;01mis\u001B[39;00m \u001B[38;5;28;01mNone\u001B[39;00m:\n\u001B[1;32m    173\u001B[0m     processes \u001B[38;5;241m=\u001B[39m configuration\u001B[38;5;241m.\u001B[39mprocesses\n",
      "File \u001B[0;32m~/Documents/GitHub/bioinformatics-project/venv/lib/python3.9/site-packages/cobra/core/dictlist.py:108\u001B[0m, in \u001B[0;36mDictList.get_by_any\u001B[0;34m(self, iterable)\u001B[0m\n\u001B[1;32m    106\u001B[0m \u001B[38;5;28;01mif\u001B[39;00m \u001B[38;5;129;01mnot\u001B[39;00m \u001B[38;5;28misinstance\u001B[39m(iterable, \u001B[38;5;28mlist\u001B[39m):\n\u001B[1;32m    107\u001B[0m     iterable \u001B[38;5;241m=\u001B[39m [iterable]\n\u001B[0;32m--> 108\u001B[0m \u001B[38;5;28;01mreturn\u001B[39;00m [get_item(item) \u001B[38;5;28;01mfor\u001B[39;00m item \u001B[38;5;129;01min\u001B[39;00m iterable]\n",
      "File \u001B[0;32m~/Documents/GitHub/bioinformatics-project/venv/lib/python3.9/site-packages/cobra/core/dictlist.py:108\u001B[0m, in \u001B[0;36m<listcomp>\u001B[0;34m(.0)\u001B[0m\n\u001B[1;32m    106\u001B[0m \u001B[38;5;28;01mif\u001B[39;00m \u001B[38;5;129;01mnot\u001B[39;00m \u001B[38;5;28misinstance\u001B[39m(iterable, \u001B[38;5;28mlist\u001B[39m):\n\u001B[1;32m    107\u001B[0m     iterable \u001B[38;5;241m=\u001B[39m [iterable]\n\u001B[0;32m--> 108\u001B[0m \u001B[38;5;28;01mreturn\u001B[39;00m [\u001B[43mget_item\u001B[49m\u001B[43m(\u001B[49m\u001B[43mitem\u001B[49m\u001B[43m)\u001B[49m \u001B[38;5;28;01mfor\u001B[39;00m item \u001B[38;5;129;01min\u001B[39;00m iterable]\n",
      "File \u001B[0;32m~/Documents/GitHub/bioinformatics-project/venv/lib/python3.9/site-packages/cobra/core/dictlist.py:101\u001B[0m, in \u001B[0;36mDictList.get_by_any.<locals>.get_item\u001B[0;34m(item)\u001B[0m\n\u001B[1;32m     99\u001B[0m \u001B[38;5;28;01melif\u001B[39;00m \u001B[38;5;28misinstance\u001B[39m(item, \u001B[38;5;28mstr\u001B[39m):\n\u001B[1;32m    100\u001B[0m     \u001B[38;5;28;01mreturn\u001B[39;00m \u001B[38;5;28mself\u001B[39m\u001B[38;5;241m.\u001B[39mget_by_id(item)\n\u001B[0;32m--> 101\u001B[0m \u001B[38;5;28;01melif\u001B[39;00m \u001B[43mitem\u001B[49m\u001B[43m \u001B[49m\u001B[38;5;129;43;01min\u001B[39;49;00m\u001B[43m \u001B[49m\u001B[38;5;28;43mself\u001B[39;49m:\n\u001B[1;32m    102\u001B[0m     \u001B[38;5;28;01mreturn\u001B[39;00m item\n\u001B[1;32m    103\u001B[0m \u001B[38;5;28;01melse\u001B[39;00m:\n",
      "File \u001B[0;32m~/Documents/GitHub/bioinformatics-project/venv/lib/python3.9/site-packages/cobra/core/dictlist.py:379\u001B[0m, in \u001B[0;36mDictList.__contains__\u001B[0;34m(self, entity)\u001B[0m\n\u001B[1;32m    376\u001B[0m \u001B[38;5;66;03m# allow to check with the object itself in addition to the id\u001B[39;00m\n\u001B[1;32m    377\u001B[0m \u001B[38;5;28;01melse\u001B[39;00m:\n\u001B[1;32m    378\u001B[0m     the_id \u001B[38;5;241m=\u001B[39m entity\n\u001B[0;32m--> 379\u001B[0m \u001B[38;5;28;01mreturn\u001B[39;00m \u001B[43mthe_id\u001B[49m\u001B[43m \u001B[49m\u001B[38;5;129;43;01min\u001B[39;49;00m\u001B[43m \u001B[49m\u001B[38;5;28;43mself\u001B[39;49m\u001B[38;5;241;43m.\u001B[39;49m\u001B[43m_dict\u001B[49m\n",
      "\u001B[0;31mTypeError\u001B[0m: unhashable type: 'DataFrame'"
     ]
    }
   ],
   "source": [
    "nd_model = cobra.io.read_sbml_model(\"data/inputs/pfba/nd_model.xml\")\n",
    "# make reaction list as dataframe\n",
    "reaction_list = pd.DataFrame(reaction_list)\n",
    "final_fva = flux_variability_analysis(nd_model, reaction_list=reaction_list) # perform FVA"
   ],
   "metadata": {
    "collapsed": false,
    "pycharm": {
     "name": "#%%\n"
    }
   }
  },
  {
   "cell_type": "code",
   "execution_count": null,
   "outputs": [],
   "source": [],
   "metadata": {
    "collapsed": false,
    "pycharm": {
     "name": "#%%\n"
    }
   }
  },
  {
   "cell_type": "code",
   "execution_count": 3,
   "outputs": [],
   "source": [
    "import pandas as pd\n",
    "nd_tsv = \"data/inputs/fva/nd.tsv\"\n",
    "wt_tsv = \"data/inputs/fva/wt.tsv\"\n",
    "\n",
    "# as data frame tsv\n",
    "nd_tsv = pd.read_csv(nd_tsv, sep='\\t')"
   ],
   "metadata": {
    "collapsed": false,
    "pycharm": {
     "name": "#%%\n"
    }
   }
  },
  {
   "cell_type": "code",
   "execution_count": 4,
   "outputs": [
    {
     "data": {
      "text/plain": "                Unnamed: 0        fluxes  reduced_costs\n0             R02434__chlo  0.000000e+00      -2.000000\n1  T_L_Tyrosine_V2__mitmem  5.075268e-07      -2.000000\n2    TR0011455_PLAS__ermem  0.000000e+00      -2.000000\n3            R01652__cytop  0.000000e+00      -2.000000\n4             R00243__mito -3.953082e-03     854.988265",
      "text/html": "<div>\n<style scoped>\n    .dataframe tbody tr th:only-of-type {\n        vertical-align: middle;\n    }\n\n    .dataframe tbody tr th {\n        vertical-align: top;\n    }\n\n    .dataframe thead th {\n        text-align: right;\n    }\n</style>\n<table border=\"1\" class=\"dataframe\">\n  <thead>\n    <tr style=\"text-align: right;\">\n      <th></th>\n      <th>Unnamed: 0</th>\n      <th>fluxes</th>\n      <th>reduced_costs</th>\n    </tr>\n  </thead>\n  <tbody>\n    <tr>\n      <th>0</th>\n      <td>R02434__chlo</td>\n      <td>0.000000e+00</td>\n      <td>-2.000000</td>\n    </tr>\n    <tr>\n      <th>1</th>\n      <td>T_L_Tyrosine_V2__mitmem</td>\n      <td>5.075268e-07</td>\n      <td>-2.000000</td>\n    </tr>\n    <tr>\n      <th>2</th>\n      <td>TR0011455_PLAS__ermem</td>\n      <td>0.000000e+00</td>\n      <td>-2.000000</td>\n    </tr>\n    <tr>\n      <th>3</th>\n      <td>R01652__cytop</td>\n      <td>0.000000e+00</td>\n      <td>-2.000000</td>\n    </tr>\n    <tr>\n      <th>4</th>\n      <td>R00243__mito</td>\n      <td>-3.953082e-03</td>\n      <td>854.988265</td>\n    </tr>\n  </tbody>\n</table>\n</div>"
     },
     "execution_count": 4,
     "metadata": {},
     "output_type": "execute_result"
    }
   ],
   "source": [
    "from cobra.io import load_model\n",
    "model = load_model('textbook')nd_tsv.head()"
   ],
   "metadata": {
    "collapsed": false,
    "pycharm": {
     "name": "#%%\n"
    }
   }
  },
  {
   "cell_type": "code",
   "execution_count": 3,
   "outputs": [],
   "source": [
    "import cobra.io\n",
    "from cobra.flux_analysis import flux_variability_analysis\n",
    "import pandas as pd\n",
    "nd_model = cobra.io.read_sbml_model(\"data/inputs/fva/nd_model.xml\")\n",
    "nd_constraints = pd.read_csv(\"data/inputs/pfba/nd.tsv\", sep='\\t')\n",
    "\n"
   ],
   "metadata": {
    "collapsed": false,
    "pycharm": {
     "name": "#%%\n"
    }
   }
  },
  {
   "cell_type": "code",
   "execution_count": 6,
   "outputs": [
    {
     "ename": "TypeError",
     "evalue": "unhashable type: 'DataFrame'",
     "output_type": "error",
     "traceback": [
      "\u001B[0;31m---------------------------------------------------------------------------\u001B[0m",
      "\u001B[0;31mTypeError\u001B[0m                                 Traceback (most recent call last)",
      "Input \u001B[0;32mIn [6]\u001B[0m, in \u001B[0;36m<cell line: 6>\u001B[0;34m()\u001B[0m\n\u001B[1;32m      4\u001B[0m wt_constraints \u001B[38;5;241m=\u001B[39m pd\u001B[38;5;241m.\u001B[39mread_csv(\u001B[38;5;124m\"\u001B[39m\u001B[38;5;124mdata/inputs/pfba/wt.tsv\u001B[39m\u001B[38;5;124m\"\u001B[39m, sep\u001B[38;5;241m=\u001B[39m\u001B[38;5;124m'\u001B[39m\u001B[38;5;130;01m\\t\u001B[39;00m\u001B[38;5;124m'\u001B[39m)\n\u001B[1;32m      5\u001B[0m wt_model\u001B[38;5;241m.\u001B[39moptimize() \u001B[38;5;66;03m# optimize the model\u001B[39;00m\n\u001B[0;32m----> 6\u001B[0m \u001B[43mflux_variability_analysis\u001B[49m\u001B[43m(\u001B[49m\u001B[43mwt_model\u001B[49m\u001B[43m,\u001B[49m\u001B[43m \u001B[49m\u001B[43mwt_constraints\u001B[49m\u001B[43m)\u001B[49m\n",
      "File \u001B[0;32m~/Documents/GitHub/bioinformatics-project/venv/lib/python3.9/site-packages/cobra/flux_analysis/variability.py:170\u001B[0m, in \u001B[0;36mflux_variability_analysis\u001B[0;34m(model, reaction_list, loopless, fraction_of_optimum, pfba_factor, processes)\u001B[0m\n\u001B[1;32m    168\u001B[0m     reaction_ids \u001B[38;5;241m=\u001B[39m [r\u001B[38;5;241m.\u001B[39mid \u001B[38;5;28;01mfor\u001B[39;00m r \u001B[38;5;129;01min\u001B[39;00m model\u001B[38;5;241m.\u001B[39mreactions]\n\u001B[1;32m    169\u001B[0m \u001B[38;5;28;01melse\u001B[39;00m:\n\u001B[0;32m--> 170\u001B[0m     reaction_ids \u001B[38;5;241m=\u001B[39m [r\u001B[38;5;241m.\u001B[39mid \u001B[38;5;28;01mfor\u001B[39;00m r \u001B[38;5;129;01min\u001B[39;00m \u001B[43mmodel\u001B[49m\u001B[38;5;241;43m.\u001B[39;49m\u001B[43mreactions\u001B[49m\u001B[38;5;241;43m.\u001B[39;49m\u001B[43mget_by_any\u001B[49m\u001B[43m(\u001B[49m\u001B[43mreaction_list\u001B[49m\u001B[43m)\u001B[49m]\n\u001B[1;32m    172\u001B[0m \u001B[38;5;28;01mif\u001B[39;00m processes \u001B[38;5;129;01mis\u001B[39;00m \u001B[38;5;28;01mNone\u001B[39;00m:\n\u001B[1;32m    173\u001B[0m     processes \u001B[38;5;241m=\u001B[39m configuration\u001B[38;5;241m.\u001B[39mprocesses\n",
      "File \u001B[0;32m~/Documents/GitHub/bioinformatics-project/venv/lib/python3.9/site-packages/cobra/core/dictlist.py:108\u001B[0m, in \u001B[0;36mDictList.get_by_any\u001B[0;34m(self, iterable)\u001B[0m\n\u001B[1;32m    106\u001B[0m \u001B[38;5;28;01mif\u001B[39;00m \u001B[38;5;129;01mnot\u001B[39;00m \u001B[38;5;28misinstance\u001B[39m(iterable, \u001B[38;5;28mlist\u001B[39m):\n\u001B[1;32m    107\u001B[0m     iterable \u001B[38;5;241m=\u001B[39m [iterable]\n\u001B[0;32m--> 108\u001B[0m \u001B[38;5;28;01mreturn\u001B[39;00m [get_item(item) \u001B[38;5;28;01mfor\u001B[39;00m item \u001B[38;5;129;01min\u001B[39;00m iterable]\n",
      "File \u001B[0;32m~/Documents/GitHub/bioinformatics-project/venv/lib/python3.9/site-packages/cobra/core/dictlist.py:108\u001B[0m, in \u001B[0;36m<listcomp>\u001B[0;34m(.0)\u001B[0m\n\u001B[1;32m    106\u001B[0m \u001B[38;5;28;01mif\u001B[39;00m \u001B[38;5;129;01mnot\u001B[39;00m \u001B[38;5;28misinstance\u001B[39m(iterable, \u001B[38;5;28mlist\u001B[39m):\n\u001B[1;32m    107\u001B[0m     iterable \u001B[38;5;241m=\u001B[39m [iterable]\n\u001B[0;32m--> 108\u001B[0m \u001B[38;5;28;01mreturn\u001B[39;00m [\u001B[43mget_item\u001B[49m\u001B[43m(\u001B[49m\u001B[43mitem\u001B[49m\u001B[43m)\u001B[49m \u001B[38;5;28;01mfor\u001B[39;00m item \u001B[38;5;129;01min\u001B[39;00m iterable]\n",
      "File \u001B[0;32m~/Documents/GitHub/bioinformatics-project/venv/lib/python3.9/site-packages/cobra/core/dictlist.py:101\u001B[0m, in \u001B[0;36mDictList.get_by_any.<locals>.get_item\u001B[0;34m(item)\u001B[0m\n\u001B[1;32m     99\u001B[0m \u001B[38;5;28;01melif\u001B[39;00m \u001B[38;5;28misinstance\u001B[39m(item, \u001B[38;5;28mstr\u001B[39m):\n\u001B[1;32m    100\u001B[0m     \u001B[38;5;28;01mreturn\u001B[39;00m \u001B[38;5;28mself\u001B[39m\u001B[38;5;241m.\u001B[39mget_by_id(item)\n\u001B[0;32m--> 101\u001B[0m \u001B[38;5;28;01melif\u001B[39;00m \u001B[43mitem\u001B[49m\u001B[43m \u001B[49m\u001B[38;5;129;43;01min\u001B[39;49;00m\u001B[43m \u001B[49m\u001B[38;5;28;43mself\u001B[39;49m:\n\u001B[1;32m    102\u001B[0m     \u001B[38;5;28;01mreturn\u001B[39;00m item\n\u001B[1;32m    103\u001B[0m \u001B[38;5;28;01melse\u001B[39;00m:\n",
      "File \u001B[0;32m~/Documents/GitHub/bioinformatics-project/venv/lib/python3.9/site-packages/cobra/core/dictlist.py:379\u001B[0m, in \u001B[0;36mDictList.__contains__\u001B[0;34m(self, entity)\u001B[0m\n\u001B[1;32m    376\u001B[0m \u001B[38;5;66;03m# allow to check with the object itself in addition to the id\u001B[39;00m\n\u001B[1;32m    377\u001B[0m \u001B[38;5;28;01melse\u001B[39;00m:\n\u001B[1;32m    378\u001B[0m     the_id \u001B[38;5;241m=\u001B[39m entity\n\u001B[0;32m--> 379\u001B[0m \u001B[38;5;28;01mreturn\u001B[39;00m \u001B[43mthe_id\u001B[49m\u001B[43m \u001B[49m\u001B[38;5;129;43;01min\u001B[39;49;00m\u001B[43m \u001B[49m\u001B[38;5;28;43mself\u001B[39;49m\u001B[38;5;241;43m.\u001B[39;49m\u001B[43m_dict\u001B[49m\n",
      "\u001B[0;31mTypeError\u001B[0m: unhashable type: 'DataFrame'"
     ]
    }
   ],
   "source": [
    "# add constraints to the model\n",
    "\n",
    "\n",
    "\n",
    "\n"
   ],
   "metadata": {
    "collapsed": false,
    "pycharm": {
     "name": "#%%\n"
    }
   }
  },
  {
   "cell_type": "code",
   "execution_count": 9,
   "outputs": [
    {
     "ename": "RecursionError",
     "evalue": "maximum recursion depth exceeded in comparison",
     "output_type": "error",
     "traceback": [
      "\u001B[0;31m---------------------------------------------------------------------------\u001B[0m",
      "\u001B[0;31mRecursionError\u001B[0m                            Traceback (most recent call last)",
      "Input \u001B[0;32mIn [9]\u001B[0m, in \u001B[0;36m<cell line: 2>\u001B[0;34m()\u001B[0m\n\u001B[1;32m      1\u001B[0m \u001B[38;5;66;03m# add constraints to the model\u001B[39;00m\n\u001B[0;32m----> 2\u001B[0m \u001B[43mnd_model\u001B[49m\u001B[38;5;241;43m.\u001B[39;49m\u001B[43madd_cons_vars\u001B[49m\u001B[43m(\u001B[49m\u001B[43mnd_constraints\u001B[49m\u001B[43m)\u001B[49m\n",
      "File \u001B[0;32m~/Documents/GitHub/bioinformatics-project/venv/lib/python3.9/site-packages/cobra/core/model.py:891\u001B[0m, in \u001B[0;36mModel.add_cons_vars\u001B[0;34m(self, what, **kwargs)\u001B[0m\n\u001B[1;32m    873\u001B[0m \u001B[38;5;28;01mdef\u001B[39;00m \u001B[38;5;21madd_cons_vars\u001B[39m(\u001B[38;5;28mself\u001B[39m, what, \u001B[38;5;241m*\u001B[39m\u001B[38;5;241m*\u001B[39mkwargs):\n\u001B[1;32m    874\u001B[0m     \u001B[38;5;124;03m\"\"\"Add constraints and variables to the model's mathematical problem.\u001B[39;00m\n\u001B[1;32m    875\u001B[0m \n\u001B[1;32m    876\u001B[0m \u001B[38;5;124;03m    Useful for variables and constraints that can not be expressed with\u001B[39;00m\n\u001B[0;32m   (...)\u001B[0m\n\u001B[1;32m    889\u001B[0m \u001B[38;5;124;03m       Passed to solver.add()\u001B[39;00m\n\u001B[1;32m    890\u001B[0m \u001B[38;5;124;03m    \"\"\"\u001B[39;00m\n\u001B[0;32m--> 891\u001B[0m     \u001B[43madd_cons_vars_to_problem\u001B[49m\u001B[43m(\u001B[49m\u001B[38;5;28;43mself\u001B[39;49m\u001B[43m,\u001B[49m\u001B[43m \u001B[49m\u001B[43mwhat\u001B[49m\u001B[43m,\u001B[49m\u001B[43m \u001B[49m\u001B[38;5;241;43m*\u001B[39;49m\u001B[38;5;241;43m*\u001B[39;49m\u001B[43mkwargs\u001B[49m\u001B[43m)\u001B[49m\n",
      "File \u001B[0;32m~/Documents/GitHub/bioinformatics-project/venv/lib/python3.9/site-packages/cobra/util/solver.py:384\u001B[0m, in \u001B[0;36madd_cons_vars_to_problem\u001B[0;34m(model, what, **kwargs)\u001B[0m\n\u001B[1;32m    362\u001B[0m \u001B[38;5;28;01mdef\u001B[39;00m \u001B[38;5;21madd_cons_vars_to_problem\u001B[39m(\n\u001B[1;32m    363\u001B[0m     model: \u001B[38;5;124m\"\u001B[39m\u001B[38;5;124mModel\u001B[39m\u001B[38;5;124m\"\u001B[39m,\n\u001B[1;32m    364\u001B[0m     what: Union[List[CONS_VARS], Tuple[CONS_VARS], Components],\n\u001B[1;32m    365\u001B[0m     \u001B[38;5;241m*\u001B[39m\u001B[38;5;241m*\u001B[39mkwargs,\n\u001B[1;32m    366\u001B[0m ) \u001B[38;5;241m-\u001B[39m\u001B[38;5;241m>\u001B[39m \u001B[38;5;28;01mNone\u001B[39;00m:\n\u001B[1;32m    367\u001B[0m     \u001B[38;5;124;03m\"\"\"Add variables and constraints to a model's solver object.\u001B[39;00m\n\u001B[1;32m    368\u001B[0m \n\u001B[1;32m    369\u001B[0m \u001B[38;5;124;03m    Useful for variables and constraints that can not be expressed with\u001B[39;00m\n\u001B[0;32m   (...)\u001B[0m\n\u001B[1;32m    382\u001B[0m \n\u001B[1;32m    383\u001B[0m \u001B[38;5;124;03m    \"\"\"\u001B[39;00m\n\u001B[0;32m--> 384\u001B[0m     \u001B[43mmodel\u001B[49m\u001B[38;5;241;43m.\u001B[39;49m\u001B[43msolver\u001B[49m\u001B[38;5;241;43m.\u001B[39;49m\u001B[43madd\u001B[49m\u001B[43m(\u001B[49m\u001B[43mwhat\u001B[49m\u001B[43m,\u001B[49m\u001B[43m \u001B[49m\u001B[38;5;241;43m*\u001B[39;49m\u001B[38;5;241;43m*\u001B[39;49m\u001B[43mkwargs\u001B[49m\u001B[43m)\u001B[49m\n\u001B[1;32m    386\u001B[0m     context \u001B[38;5;241m=\u001B[39m get_context(model)\n\u001B[1;32m    387\u001B[0m     \u001B[38;5;28;01mif\u001B[39;00m context:\n",
      "File \u001B[0;32m~/Documents/GitHub/bioinformatics-project/venv/lib/python3.9/site-packages/optlang/interface.py:1406\u001B[0m, in \u001B[0;36mModel.add\u001B[0;34m(self, stuff, sloppy)\u001B[0m\n\u001B[1;32m   1404\u001B[0m \u001B[38;5;28;01mif\u001B[39;00m \u001B[38;5;28misinstance\u001B[39m(stuff, Iterable):\n\u001B[1;32m   1405\u001B[0m     \u001B[38;5;28;01mfor\u001B[39;00m elem \u001B[38;5;129;01min\u001B[39;00m stuff:\n\u001B[0;32m-> 1406\u001B[0m         \u001B[38;5;28;43mself\u001B[39;49m\u001B[38;5;241;43m.\u001B[39;49m\u001B[43madd\u001B[49m\u001B[43m(\u001B[49m\u001B[43melem\u001B[49m\u001B[43m,\u001B[49m\u001B[43m \u001B[49m\u001B[43msloppy\u001B[49m\u001B[38;5;241;43m=\u001B[39;49m\u001B[43msloppy\u001B[49m\u001B[43m)\u001B[49m\n\u001B[1;32m   1407\u001B[0m \u001B[38;5;28;01melif\u001B[39;00m \u001B[38;5;28misinstance\u001B[39m(stuff, Variable):\n\u001B[1;32m   1408\u001B[0m     \u001B[38;5;28;01mif\u001B[39;00m stuff\u001B[38;5;241m.\u001B[39m\u001B[38;5;18m__module__\u001B[39m \u001B[38;5;241m!=\u001B[39m \u001B[38;5;28mself\u001B[39m\u001B[38;5;241m.\u001B[39m\u001B[38;5;18m__module__\u001B[39m:\n",
      "File \u001B[0;32m~/Documents/GitHub/bioinformatics-project/venv/lib/python3.9/site-packages/optlang/interface.py:1406\u001B[0m, in \u001B[0;36mModel.add\u001B[0;34m(self, stuff, sloppy)\u001B[0m\n\u001B[1;32m   1404\u001B[0m \u001B[38;5;28;01mif\u001B[39;00m \u001B[38;5;28misinstance\u001B[39m(stuff, Iterable):\n\u001B[1;32m   1405\u001B[0m     \u001B[38;5;28;01mfor\u001B[39;00m elem \u001B[38;5;129;01min\u001B[39;00m stuff:\n\u001B[0;32m-> 1406\u001B[0m         \u001B[38;5;28;43mself\u001B[39;49m\u001B[38;5;241;43m.\u001B[39;49m\u001B[43madd\u001B[49m\u001B[43m(\u001B[49m\u001B[43melem\u001B[49m\u001B[43m,\u001B[49m\u001B[43m \u001B[49m\u001B[43msloppy\u001B[49m\u001B[38;5;241;43m=\u001B[39;49m\u001B[43msloppy\u001B[49m\u001B[43m)\u001B[49m\n\u001B[1;32m   1407\u001B[0m \u001B[38;5;28;01melif\u001B[39;00m \u001B[38;5;28misinstance\u001B[39m(stuff, Variable):\n\u001B[1;32m   1408\u001B[0m     \u001B[38;5;28;01mif\u001B[39;00m stuff\u001B[38;5;241m.\u001B[39m\u001B[38;5;18m__module__\u001B[39m \u001B[38;5;241m!=\u001B[39m \u001B[38;5;28mself\u001B[39m\u001B[38;5;241m.\u001B[39m\u001B[38;5;18m__module__\u001B[39m:\n",
      "    \u001B[0;31m[... skipping similar frames: Model.add at line 1406 (2962 times)]\u001B[0m\n",
      "File \u001B[0;32m~/Documents/GitHub/bioinformatics-project/venv/lib/python3.9/site-packages/optlang/interface.py:1406\u001B[0m, in \u001B[0;36mModel.add\u001B[0;34m(self, stuff, sloppy)\u001B[0m\n\u001B[1;32m   1404\u001B[0m \u001B[38;5;28;01mif\u001B[39;00m \u001B[38;5;28misinstance\u001B[39m(stuff, Iterable):\n\u001B[1;32m   1405\u001B[0m     \u001B[38;5;28;01mfor\u001B[39;00m elem \u001B[38;5;129;01min\u001B[39;00m stuff:\n\u001B[0;32m-> 1406\u001B[0m         \u001B[38;5;28;43mself\u001B[39;49m\u001B[38;5;241;43m.\u001B[39;49m\u001B[43madd\u001B[49m\u001B[43m(\u001B[49m\u001B[43melem\u001B[49m\u001B[43m,\u001B[49m\u001B[43m \u001B[49m\u001B[43msloppy\u001B[49m\u001B[38;5;241;43m=\u001B[39;49m\u001B[43msloppy\u001B[49m\u001B[43m)\u001B[49m\n\u001B[1;32m   1407\u001B[0m \u001B[38;5;28;01melif\u001B[39;00m \u001B[38;5;28misinstance\u001B[39m(stuff, Variable):\n\u001B[1;32m   1408\u001B[0m     \u001B[38;5;28;01mif\u001B[39;00m stuff\u001B[38;5;241m.\u001B[39m\u001B[38;5;18m__module__\u001B[39m \u001B[38;5;241m!=\u001B[39m \u001B[38;5;28mself\u001B[39m\u001B[38;5;241m.\u001B[39m\u001B[38;5;18m__module__\u001B[39m:\n",
      "File \u001B[0;32m~/Documents/GitHub/bioinformatics-project/venv/lib/python3.9/site-packages/optlang/interface.py:1404\u001B[0m, in \u001B[0;36mModel.add\u001B[0;34m(self, stuff, sloppy)\u001B[0m\n\u001B[1;32m   1402\u001B[0m     \u001B[38;5;28mself\u001B[39m\u001B[38;5;241m.\u001B[39mupdate()\n\u001B[1;32m   1403\u001B[0m     \u001B[38;5;28mself\u001B[39m\u001B[38;5;241m.\u001B[39m_pending_modifications\u001B[38;5;241m.\u001B[39mtoggle \u001B[38;5;241m=\u001B[39m \u001B[38;5;124m'\u001B[39m\u001B[38;5;124madd\u001B[39m\u001B[38;5;124m'\u001B[39m\n\u001B[0;32m-> 1404\u001B[0m \u001B[38;5;28;01mif\u001B[39;00m \u001B[38;5;28;43misinstance\u001B[39;49m\u001B[43m(\u001B[49m\u001B[43mstuff\u001B[49m\u001B[43m,\u001B[49m\u001B[43m \u001B[49m\u001B[43mIterable\u001B[49m\u001B[43m)\u001B[49m:\n\u001B[1;32m   1405\u001B[0m     \u001B[38;5;28;01mfor\u001B[39;00m elem \u001B[38;5;129;01min\u001B[39;00m stuff:\n\u001B[1;32m   1406\u001B[0m         \u001B[38;5;28mself\u001B[39m\u001B[38;5;241m.\u001B[39madd(elem, sloppy\u001B[38;5;241m=\u001B[39msloppy)\n",
      "File \u001B[0;32m/Library/Frameworks/Python.framework/Versions/3.9/lib/python3.9/abc.py:119\u001B[0m, in \u001B[0;36mABCMeta.__instancecheck__\u001B[0;34m(cls, instance)\u001B[0m\n\u001B[1;32m    117\u001B[0m \u001B[38;5;28;01mdef\u001B[39;00m \u001B[38;5;21m__instancecheck__\u001B[39m(\u001B[38;5;28mcls\u001B[39m, instance):\n\u001B[1;32m    118\u001B[0m     \u001B[38;5;124;03m\"\"\"Override for isinstance(instance, cls).\"\"\"\u001B[39;00m\n\u001B[0;32m--> 119\u001B[0m     \u001B[38;5;28;01mreturn\u001B[39;00m \u001B[43m_abc_instancecheck\u001B[49m\u001B[43m(\u001B[49m\u001B[38;5;28;43mcls\u001B[39;49m\u001B[43m,\u001B[49m\u001B[43m \u001B[49m\u001B[43minstance\u001B[49m\u001B[43m)\u001B[49m\n",
      "\u001B[0;31mRecursionError\u001B[0m: maximum recursion depth exceeded in comparison"
     ]
    }
   ],
   "source": [
    "# add constraints to the model\n",
    "nd_model.add_cons_vars(nd_constraints)"
   ],
   "metadata": {
    "collapsed": false,
    "pycharm": {
     "name": "#%%\n"
    }
   }
  },
  {
   "cell_type": "code",
   "execution_count": null,
   "outputs": [],
   "source": [
    "nd_model.optimize() # optimize the model"
   ],
   "metadata": {
    "collapsed": false,
    "pycharm": {
     "name": "#%%\n",
     "is_executing": true
    }
   }
  },
  {
   "cell_type": "code",
   "execution_count": null,
   "outputs": [],
   "source": [
    "\n",
    "flux_variability_analysis(nd_model) # perform FVA"
   ],
   "metadata": {
    "collapsed": false,
    "pycharm": {
     "name": "#%%\n",
     "is_executing": true
    }
   }
  },
  {
   "cell_type": "code",
   "execution_count": 5,
   "outputs": [
    {
     "name": "stdout",
     "output_type": "stream",
     "text": [
      "Model loaded\n",
      "Objective\n",
      "=========\n",
      "1.0 e_Biomass__cytop = 0.010041327328290849\n",
      "\n",
      "Uptake\n",
      "------\n",
      "  Metabolite       Reaction      Flux  C-Number  C-Flux\n",
      "C00001__extr EX_C00001__dra    0.4504         0   0.00%\n",
      "C00009__extr EX_C00009__dra   0.01318         0   0.00%\n",
      "C00011__extr EX_C00011__dra    0.5292         1 100.00%\n",
      "C00059__extr EX_C00059__dra 0.0009347         0   0.00%\n",
      "C00080__extr EX_C00080__dra   0.03222         0   0.00%\n",
      "C00205__extr EX_C00205__dra     11.67         0   0.00%\n",
      "C00244__extr EX_C00244__dra   0.08854         0   0.00%\n",
      "C00305__extr EX_C00305__dra  0.000987         0   0.00%\n",
      "C14818__extr EX_C14818__dra 7.173E-07         0   0.00%\n",
      "\n",
      "Secretion\n",
      "---------\n",
      "      Metabolite            Reaction      Flux  C-Number C-Flux\n",
      "photon298__cytop DM_photon298__cytop  -0.03192         0  0.00%\n",
      " photon450__chlo  DM_photon450__chlo   -0.7258         0  0.00%\n",
      " photon490__chlo  DM_photon490__chlo   -0.9142         0  0.00%\n",
      " photon646__chlo  DM_photon646__chlo     -2.54         0  0.00%\n",
      " photon673__chlo  DM_photon673__chlo   -0.0554         0  0.00%\n",
      "    C00007__extr      EX_C00007__dra   -0.6807         0  0.00%\n",
      "    C00014__extr      EX_C00014__dra -0.003586         0  0.00%\n",
      "    C00027__extr      EX_C00027__dra  -0.05387         0  0.00%\n",
      "    C00237__extr      EX_C00237__dra -1.04E-06         1  0.01%\n",
      "    C00282__extr      EX_C00282__dra   -0.0237         0  0.00%\n",
      "    C00288__extr      EX_C00288__dra  -0.01024         1 99.99%\n",
      "    C00704__extr      EX_C00704__dra  -0.09095         0  0.00%\n",
      "e_Biomass__cytop   EX_e_Biomass__dra  -0.01004         0  0.00%\n",
      "\n"
     ]
    },
    {
     "data": {
      "text/plain": "6.071532165918825e-17"
     },
     "execution_count": 5,
     "metadata": {},
     "output_type": "execute_result"
    }
   ],
   "source": [
    "import cobra\n",
    "import pandas as pd\n",
    "from src.integration import Integration\n",
    "\n",
    "wt_model = Integration(\"data/inputs/fva/wt_model.xml\")\n",
    "wt_model.pFBA()\n",
    "\n"
   ],
   "metadata": {
    "collapsed": false,
    "pycharm": {
     "name": "#%%\n"
    }
   }
  },
  {
   "cell_type": "code",
   "execution_count": 6,
   "outputs": [
    {
     "name": "stdout",
     "output_type": "stream",
     "text": [
      "Model loaded\n",
      "Objective\n",
      "=========\n",
      "1.0 e_Biomass__cytop = 0.009950042454122277\n",
      "\n",
      "Uptake\n",
      "------\n",
      "  Metabolite       Reaction      Flux  C-Number  C-Flux\n",
      "C00001__extr EX_C00001__dra     1.409         0   0.00%\n",
      "C00009__extr EX_C00009__dra   0.01306         0   0.00%\n",
      "C00011__extr EX_C00011__dra    0.5142         1 100.00%\n",
      "C00059__extr EX_C00059__dra 0.0009262         0   0.00%\n",
      "C00080__extr EX_C00080__dra   0.01398         0   0.00%\n",
      "C00205__extr EX_C00205__dra     11.09         0   0.00%\n",
      "C00244__extr EX_C00244__dra    0.0891         0   0.00%\n",
      "C00305__extr EX_C00305__dra  0.000978         0   0.00%\n",
      "C14818__extr EX_C14818__dra 7.107E-07         0   0.00%\n",
      "\n",
      "Secretion\n",
      "---------\n",
      "      Metabolite           Reaction      Flux  C-Number  C-Flux\n",
      " photon646__chlo DM_photon646__chlo    -2.945         0   0.00%\n",
      " photon680__chlo DM_photon680__chlo   -0.7209         0   0.00%\n",
      "    C00007__extr     EX_C00007__dra    -0.184         0   0.00%\n",
      "    C00014__extr     EX_C00014__dra  -0.00492         0   0.00%\n",
      "    C00027__extr     EX_C00027__dra        -1         0   0.00%\n",
      "    C00237__extr     EX_C00237__dra -1.03E-06         1 100.00%\n",
      "    C00282__extr     EX_C00282__dra  -0.03244         0   0.00%\n",
      "    C00704__extr     EX_C00704__dra   -0.1223         0   0.00%\n",
      "e_Biomass__cytop  EX_e_Biomass__dra  -0.00995         0   0.00%\n",
      "\n"
     ]
    },
    {
     "data": {
      "text/plain": "2.42861286636753e-17"
     },
     "execution_count": 6,
     "metadata": {},
     "output_type": "execute_result"
    }
   ],
   "source": [
    "import cobra\n",
    "import pandas as pd\n",
    "from src.integration import Integration\n",
    "\n",
    "nd_model = Integration(\"data/inputs/fva/nd_model.xml\")\n",
    "nd_model.pFBA()\n",
    "\n",
    "\n",
    "\n"
   ],
   "metadata": {
    "collapsed": false,
    "pycharm": {
     "name": "#%%\n"
    }
   }
  },
  {
   "cell_type": "code",
   "execution_count": null,
   "outputs": [],
   "source": [
    "import cobra\n",
    "import pandas as pd\n",
    "from src.integration import Integration\n",
    "\n",
    "wt_model = Integration(\"data/inputs/fva/wt_model.xml\")\n",
    "wt_model.fva()"
   ],
   "metadata": {
    "collapsed": false,
    "pycharm": {
     "name": "#%%\n",
     "is_executing": true
    }
   }
  },
  {
   "cell_type": "code",
   "execution_count": null,
   "outputs": [],
   "source": [
    "import cobra\n",
    "import pandas as pd\n",
    "from src.integration import Integration\n",
    "\n",
    "wt_model = Integration(\"data/inputs/fva/wt_model.xml\")\n",
    "wt_model.fva()"
   ],
   "metadata": {
    "collapsed": false,
    "pycharm": {
     "name": "#%%\n",
     "is_executing": true
    }
   }
  },
  {
   "cell_type": "code",
   "execution_count": 2,
   "outputs": [
    {
     "name": "stdout",
     "output_type": "stream",
     "text": [
      "Scaling...\n",
      " A: min|aij| =  1.000e+00  max|aij| =  1.000e+00  ratio =  1.000e+00\n",
      "Problem data seem to be well scaled\n"
     ]
    }
   ],
   "source": [
    "import cobra\n",
    "import pandas as pd\n",
    "\n",
    "\n",
    "nd_model = cobra.io.read_sbml_model(\"data/outputs/gems/nd_model.xml\")\n",
    "#nd_model.fva()"
   ],
   "metadata": {
    "collapsed": false,
    "pycharm": {
     "name": "#%%\n"
    }
   }
  },
  {
   "cell_type": "code",
   "execution_count": 10,
   "outputs": [
    {
     "data": {
      "text/plain": "<cobra.summary.model_summary.ModelSummary at 0x7f971e90f4f0>",
      "text/html": "<h3>Objective</h3><p>1.0 e_Biomass__cytop = 0.009950042454122277</p><h4>Uptake</h4><table border=\"1\" class=\"dataframe\">\n  <thead>\n    <tr style=\"text-align: right;\">\n      <th>Metabolite</th>\n      <th>Reaction</th>\n      <th>Flux</th>\n      <th>C-Number</th>\n      <th>C-Flux</th>\n    </tr>\n  </thead>\n  <tbody>\n    <tr>\n      <td>C00001__extr</td>\n      <td>EX_C00001__dra</td>\n      <td>1.409</td>\n      <td>0</td>\n      <td>0.00%</td>\n    </tr>\n    <tr>\n      <td>C00009__extr</td>\n      <td>EX_C00009__dra</td>\n      <td>0.01306</td>\n      <td>0</td>\n      <td>0.00%</td>\n    </tr>\n    <tr>\n      <td>C00011__extr</td>\n      <td>EX_C00011__dra</td>\n      <td>0.5142</td>\n      <td>1</td>\n      <td>100.00%</td>\n    </tr>\n    <tr>\n      <td>C00059__extr</td>\n      <td>EX_C00059__dra</td>\n      <td>0.0009262</td>\n      <td>0</td>\n      <td>0.00%</td>\n    </tr>\n    <tr>\n      <td>C00080__extr</td>\n      <td>EX_C00080__dra</td>\n      <td>0.01398</td>\n      <td>0</td>\n      <td>0.00%</td>\n    </tr>\n    <tr>\n      <td>C00205__extr</td>\n      <td>EX_C00205__dra</td>\n      <td>11.09</td>\n      <td>0</td>\n      <td>0.00%</td>\n    </tr>\n    <tr>\n      <td>C00244__extr</td>\n      <td>EX_C00244__dra</td>\n      <td>0.0891</td>\n      <td>0</td>\n      <td>0.00%</td>\n    </tr>\n    <tr>\n      <td>C00305__extr</td>\n      <td>EX_C00305__dra</td>\n      <td>0.000978</td>\n      <td>0</td>\n      <td>0.00%</td>\n    </tr>\n    <tr>\n      <td>C14818__extr</td>\n      <td>EX_C14818__dra</td>\n      <td>7.107E-07</td>\n      <td>0</td>\n      <td>0.00%</td>\n    </tr>\n  </tbody>\n</table><h4>Secretion</h4><table border=\"1\" class=\"dataframe\">\n  <thead>\n    <tr style=\"text-align: right;\">\n      <th>Metabolite</th>\n      <th>Reaction</th>\n      <th>Flux</th>\n      <th>C-Number</th>\n      <th>C-Flux</th>\n    </tr>\n  </thead>\n  <tbody>\n    <tr>\n      <td>photon646__chlo</td>\n      <td>DM_photon646__chlo</td>\n      <td>-2.945</td>\n      <td>0</td>\n      <td>0.00%</td>\n    </tr>\n    <tr>\n      <td>photon680__chlo</td>\n      <td>DM_photon680__chlo</td>\n      <td>-0.7209</td>\n      <td>0</td>\n      <td>0.00%</td>\n    </tr>\n    <tr>\n      <td>C00007__extr</td>\n      <td>EX_C00007__dra</td>\n      <td>-0.184</td>\n      <td>0</td>\n      <td>0.00%</td>\n    </tr>\n    <tr>\n      <td>C00014__extr</td>\n      <td>EX_C00014__dra</td>\n      <td>-0.00492</td>\n      <td>0</td>\n      <td>0.00%</td>\n    </tr>\n    <tr>\n      <td>C00027__extr</td>\n      <td>EX_C00027__dra</td>\n      <td>-1</td>\n      <td>0</td>\n      <td>0.00%</td>\n    </tr>\n    <tr>\n      <td>C00237__extr</td>\n      <td>EX_C00237__dra</td>\n      <td>-1.03E-06</td>\n      <td>1</td>\n      <td>100.00%</td>\n    </tr>\n    <tr>\n      <td>C00282__extr</td>\n      <td>EX_C00282__dra</td>\n      <td>-0.03244</td>\n      <td>0</td>\n      <td>0.00%</td>\n    </tr>\n    <tr>\n      <td>C00704__extr</td>\n      <td>EX_C00704__dra</td>\n      <td>-0.1223</td>\n      <td>0</td>\n      <td>0.00%</td>\n    </tr>\n    <tr>\n      <td>e_Biomass__cytop</td>\n      <td>EX_e_Biomass__dra</td>\n      <td>-0.00995</td>\n      <td>0</td>\n      <td>0.00%</td>\n    </tr>\n  </tbody>\n</table>"
     },
     "execution_count": 10,
     "metadata": {},
     "output_type": "execute_result"
    }
   ],
   "source": [
    "nd_model.summary()"
   ],
   "metadata": {
    "collapsed": false,
    "pycharm": {
     "name": "#%%\n"
    }
   }
  },
  {
   "cell_type": "code",
   "execution_count": null,
   "outputs": [],
   "source": [
    "metabolite_id_dic = {}\n",
    "for metabolite in nd_model.metabolites:\n",
    "    metabolite_id_dic[metabolite.id] = metabolite.name, metabolite.formula\n",
    "\n",
    "for id in metabolite_id_dic:\n",
    "    print(id, metabolite_id_dic[id])"
   ],
   "metadata": {
    "collapsed": false,
    "pycharm": {
     "name": "#%%\n",
     "is_executing": true
    }
   }
  },
  {
   "cell_type": "code",
   "execution_count": null,
   "outputs": [],
   "source": [
    "\n",
    "lipids = ['Fatty acid', ]\n",
    "pigments = []\n",
    "others_of_interest = ['L-Carnitine', 'L-Glutamine', 'L-Glutamic acid', 'L-Histidine', 'L-Lactate', 'L-Leucine', 'L-Lysine', 'L-Methionine', 'L-Phenylalanine', 'L-Proline', 'L-Serine', 'L-Threonine', 'L-Tryptophan', 'L-Tyrosine', 'L-Valine', 'L-Arginine', 'L-Asparagine', 'L-Aspartate', 'L-Cysteine', 'L-Glutamate', 'L-Glycine', 'L-Histidine', 'L-Isoleucine', 'L-Leucine', 'L-Lysine', 'L-Methionine', 'L-Phenylalanine', 'L-Proline', 'L-Serine', 'L-Threonine', 'L-Tryptophan', 'L-Tyrosine', 'L-Valine', 'L-Arginine', 'L-Asparagine', 'L-Aspartate', 'L-Cysteine', 'L-Glutamate', 'L-Glycine', 'L-Histidine', 'L-Isoleucine', 'L-Leucine', 'L-Lysine', 'L-Methionine', 'L-Phenylalanine', 'L-Proline', 'L-Serine', 'L-Threonine', 'L-Tryptophan', 'L-Tyrosine', 'L-Valine', 'L-Arginine', 'L-Asparagine', 'L-Aspartate', 'L-Cysteine', 'L-Glutamate', 'L-Glycine', 'L-Histidine', 'L-Isoleucine', 'L-Leucine', 'L-Lysine', 'L-Methionine', 'L-Phenylalanine', 'L-Proline', 'L-Serine', 'L-Threonine', 'L-Tryptophan', 'L-Tyrosine', 'L-Valine', 'L-Arginine', 'L-Asparagine', 'Morphine', 'Vitamine D-3' , 'Vitamine D-5']"
   ],
   "metadata": {
    "collapsed": false,
    "pycharm": {
     "name": "#%%\n"
    }
   }
  },
  {
   "cell_type": "code",
   "execution_count": 54,
   "outputs": [
    {
     "name": "stdout",
     "output_type": "stream",
     "text": [
      "omega-(Methylthio)alkyl-glucosinolate C21691__chlo C11H21NO9S3\n",
      "omega-(Methylsulfinyl)alkyl-glucosinolate C21692__chlo C11H21NO10S3\n"
     ]
    }
   ],
   "source": [
    "import re\n",
    "for metabolite in nd_model.metabolites:\n",
    "    if re.search(\"omega\", metabolite.name) or re.search(\"Omega\", metabolite.name):\n",
    "        print(metabolite.name, metabolite.id, metabolite.formula)\n"
   ],
   "metadata": {
    "collapsed": false,
    "pycharm": {
     "name": "#%%\n"
    }
   }
  },
  {
   "cell_type": "code",
   "execution_count": null,
   "outputs": [],
   "source": [
    "for metabolite in nd_model.metabolites:\n",
    "    if re.search(\"acid\", metabolite.name):\n",
    "        print(metabolite.name, metabolite.id, metabolite.formula)\n"
   ],
   "metadata": {
    "collapsed": false,
    "pycharm": {
     "name": "#%%\n",
     "is_executing": true
    }
   }
  },
  {
   "cell_type": "code",
   "execution_count": 46,
   "outputs": [],
   "source": [
    "# if lipid or Lipid in metabolite.name, then it is a lipid\n",
    "pufas = ['Octadecatrienoic acid', ]"
   ],
   "metadata": {
    "collapsed": false,
    "pycharm": {
     "name": "#%%\n"
    }
   }
  },
  {
   "cell_type": "code",
   "execution_count": null,
   "outputs": [],
   "source": [
    "#Lipids with 14-20 carbons are usually used for biofuels production\n",
    "# example of how formula is displayed: C24H39O5\n",
    "# number of carbons in chain: 14-20\n",
    "for metabolite in nd_model.metabolites:\n",
    "    # After C it has to be a number between 14 and 20:\n",
    "    if re.search(\"^C\\d{1,2}\", metabolite.formula):\n",
    "        print(metabolite.name, metabolite.id, metabolite.formula)"
   ],
   "metadata": {
    "collapsed": false,
    "pycharm": {
     "name": "#%%\n",
     "is_executing": true
    }
   }
  },
  {
   "cell_type": "code",
   "execution_count": null,
   "outputs": [],
   "source": [
    "#Lipids with 14-20 carbons are usually used for biofuels production\n",
    "# example of how formula is displayed: C24H39O5\n",
    "# number of carbons in chain: 14-20\n",
    "for metabolite in nd_model.metabolites:\n",
    "    # After C it has to be a number between 14 and 20:\n",
    "    if re.search(\"^C\\d[1-2]\", metabolite.formula):\n",
    "        print(metabolite.name, metabolite.id, metabolite.formula)\n"
   ],
   "metadata": {
    "collapsed": false,
    "pycharm": {
     "name": "#%%\n",
     "is_executing": true
    }
   }
  },
  {
   "cell_type": "code",
   "execution_count": null,
   "outputs": [],
   "source": [
    "print('\\n')\n",
    "print('Running FVA in summary methods')\n",
    "        print('Model summary. default fva=0.95')\n",
    "        print(self.model.summary(fva=fva))\n",
    "        print('Variability in metabolite mass balances with flux variability analysis:')\n",
    "        #search for omega-3 fatty acids\n",
    "        print(self.model.metabolites.get_by_id('omega3_fatty_acids').summary(fva=fva))\n",
    "        print(self.model.metabolites.omega.summary(fva=fva))\n",
    "        print('Variability in reaction fluxes with flux variability analysis:')\n",
    "        print(self.model.reactions.EX_pyr_c.summary(fva=fva))"
   ],
   "metadata": {
    "collapsed": false,
    "pycharm": {
     "name": "#%%\n"
    }
   }
  },
  {
   "cell_type": "code",
   "execution_count": 89,
   "outputs": [
    {
     "ename": "SyntaxError",
     "evalue": "EOL while scanning string literal (1400732583.py, line 9)",
     "output_type": "error",
     "traceback": [
      "\u001B[0;36m  Input \u001B[0;32mIn [89]\u001B[0;36m\u001B[0m\n\u001B[0;31m    if re.search(\"C\\d[1]\\d[4-9]\")\", metabolite.formula):\u001B[0m\n\u001B[0m                                                        ^\u001B[0m\n\u001B[0;31mSyntaxError\u001B[0m\u001B[0;31m:\u001B[0m EOL while scanning string literal\n"
     ]
    }
   ],
   "source": [
    "#Lipids with 14-20 carbons are usually used for biofuels production\n",
    "# example of how formula is displayed: C24H39O5\n",
    "# number of carbons in chain: 14-20\n",
    "\n",
    "for metabolite in nd_model.metabolites:\n",
    "    # After C it has to be a number between 14 and 20:\n",
    "    shadow_price = metabolite.shadow_price\n",
    "    # grab the metabolites that have formula beggining formula like C14, C15, C16, C17, C18, C19, C20\n",
    "    if re.search(\"\n"
   ],
   "metadata": {
    "collapsed": false,
    "pycharm": {
     "name": "#%%\n"
    }
   }
  },
  {
   "cell_type": "code",
   "execution_count": null,
   "outputs": [],
   "source": [],
   "metadata": {
    "collapsed": false,
    "pycharm": {
     "name": "#%%\n"
    }
   }
  },
  {
   "cell_type": "code",
   "execution_count": 98,
   "outputs": [
    {
     "name": "stdout",
     "output_type": "stream",
     "text": [
      "<optlang.container.Container object at 0x7f971c06ecd0>\n"
     ]
    }
   ],
   "source": [
    "print(nd_model.constraints)"
   ],
   "metadata": {
    "collapsed": false,
    "pycharm": {
     "name": "#%%\n"
    }
   }
  },
  {
   "cell_type": "code",
   "execution_count": 101,
   "outputs": [],
   "source": [
    "pufa = ['Linoleic acid', 'alpha-Linolenic acid', 'gamma-Linolenic acid', 'Columbinic acid', 'Stearidonic acid',\n",
    "                'Mead acid', 'Dihomo-γ-linolenic acid', 'Arachidonic acid', 'Eicosapentaenoic acid', 'Docosapentaenoic '\n",
    "                                                                                                     'acid',\n",
    "                'Docosahexaenoic acid']"
   ],
   "metadata": {
    "collapsed": false,
    "pycharm": {
     "name": "#%%\n"
    }
   }
  },
  {
   "cell_type": "code",
   "execution_count": null,
   "outputs": [],
   "source": [
    "import re\n",
    "\n",
    "for metabolite in nd_model.metabolites:\n",
    "    if re.search(('C[^1]\\d'), metabolite.formula):\n",
    "        print(metabolite.name, metabolite.id, metabolite.formula)"
   ],
   "metadata": {
    "collapsed": false,
    "pycharm": {
     "name": "#%%\n",
     "is_executing": true
    }
   }
  },
  {
   "cell_type": "code",
   "execution_count": 113,
   "outputs": [
    {
     "name": "stdout",
     "output_type": "stream",
     "text": [
      "Fatty acid C00162__extr CO2R\n",
      "Fatty acid C00162__mito CO2R\n",
      "Fatty acid C00162__e_r_ CO2R\n",
      "Fatty acid C00162__cytop CO2R\n",
      "Fatty acid C00162__chlo CO2R\n"
     ]
    }
   ],
   "source": [
    "name = 'Fatty'\n",
    "\n",
    "for metabolite in nd_model.metabolites:\n",
    "    if name in metabolite.name:\n",
    "        print(metabolite.name, metabolite.id, metabolite.formula)"
   ],
   "metadata": {
    "collapsed": false,
    "pycharm": {
     "name": "#%%\n"
    }
   }
  },
  {
   "cell_type": "code",
   "execution_count": 116,
   "outputs": [
    {
     "name": "stdout",
     "output_type": "stream",
     "text": [
      "Fatty acid C00162__chlo CO2R 12730.712342111896\n"
     ]
    }
   ],
   "source": [
    "id = 'C00162__chlo'\n",
    "\n",
    "for metabolite in nd_model.metabolites:\n",
    "    if id in metabolite.id:\n",
    "        print(metabolite.name, metabolite.id, metabolite.formula, metabolite.shadow_price)"
   ],
   "metadata": {
    "collapsed": false,
    "pycharm": {
     "name": "#%%\n"
    }
   }
  },
  {
   "cell_type": "code",
   "execution_count": null,
   "outputs": [],
   "source": [
    "for metabolite in nd_model.metabolites:\n",
    "    print(metabolite.reactions)"
   ],
   "metadata": {
    "collapsed": false,
    "pycharm": {
     "name": "#%%\n",
     "is_executing": true
    }
   }
  },
  {
   "cell_type": "code",
   "execution_count": 128,
   "outputs": [
    {
     "data": {
      "text/plain": "<cobra.summary.model_summary.ModelSummary at 0x7f96ead77c70>",
      "text/html": "<h3>Objective</h3><p>1.0 e_Biomass__cytop = 0.00995004245407662</p><h4>Uptake</h4><table border=\"1\" class=\"dataframe\">\n  <thead>\n    <tr style=\"text-align: right;\">\n      <th>Metabolite</th>\n      <th>Reaction</th>\n      <th>Flux</th>\n      <th>C-Number</th>\n      <th>C-Flux</th>\n    </tr>\n  </thead>\n  <tbody>\n    <tr>\n      <td>C00001__extr</td>\n      <td>EX_C00001__dra</td>\n      <td>1.409</td>\n      <td>0</td>\n      <td>0.00%</td>\n    </tr>\n    <tr>\n      <td>C00009__extr</td>\n      <td>EX_C00009__dra</td>\n      <td>0.01306</td>\n      <td>0</td>\n      <td>0.00%</td>\n    </tr>\n    <tr>\n      <td>C00011__extr</td>\n      <td>EX_C00011__dra</td>\n      <td>0.5142</td>\n      <td>1</td>\n      <td>100.00%</td>\n    </tr>\n    <tr>\n      <td>C00059__extr</td>\n      <td>EX_C00059__dra</td>\n      <td>0.0009262</td>\n      <td>0</td>\n      <td>0.00%</td>\n    </tr>\n    <tr>\n      <td>C00080__extr</td>\n      <td>EX_C00080__dra</td>\n      <td>0.01398</td>\n      <td>0</td>\n      <td>0.00%</td>\n    </tr>\n    <tr>\n      <td>C00205__extr</td>\n      <td>EX_C00205__dra</td>\n      <td>11.09</td>\n      <td>0</td>\n      <td>0.00%</td>\n    </tr>\n    <tr>\n      <td>C00244__extr</td>\n      <td>EX_C00244__dra</td>\n      <td>0.0891</td>\n      <td>0</td>\n      <td>0.00%</td>\n    </tr>\n    <tr>\n      <td>C00305__extr</td>\n      <td>EX_C00305__dra</td>\n      <td>0.000978</td>\n      <td>0</td>\n      <td>0.00%</td>\n    </tr>\n    <tr>\n      <td>C14818__extr</td>\n      <td>EX_C14818__dra</td>\n      <td>7.107E-07</td>\n      <td>0</td>\n      <td>0.00%</td>\n    </tr>\n  </tbody>\n</table><h4>Secretion</h4><table border=\"1\" class=\"dataframe\">\n  <thead>\n    <tr style=\"text-align: right;\">\n      <th>Metabolite</th>\n      <th>Reaction</th>\n      <th>Flux</th>\n      <th>C-Number</th>\n      <th>C-Flux</th>\n    </tr>\n  </thead>\n  <tbody>\n    <tr>\n      <td>photon646__chlo</td>\n      <td>DM_photon646__chlo</td>\n      <td>-2.945</td>\n      <td>0</td>\n      <td>0.00%</td>\n    </tr>\n    <tr>\n      <td>photon680__chlo</td>\n      <td>DM_photon680__chlo</td>\n      <td>-0.7209</td>\n      <td>0</td>\n      <td>0.00%</td>\n    </tr>\n    <tr>\n      <td>C00007__extr</td>\n      <td>EX_C00007__dra</td>\n      <td>-0.184</td>\n      <td>0</td>\n      <td>0.00%</td>\n    </tr>\n    <tr>\n      <td>C00014__extr</td>\n      <td>EX_C00014__dra</td>\n      <td>-0.00492</td>\n      <td>0</td>\n      <td>0.00%</td>\n    </tr>\n    <tr>\n      <td>C00027__extr</td>\n      <td>EX_C00027__dra</td>\n      <td>-1</td>\n      <td>0</td>\n      <td>0.00%</td>\n    </tr>\n    <tr>\n      <td>C00237__extr</td>\n      <td>EX_C00237__dra</td>\n      <td>-1.03E-06</td>\n      <td>1</td>\n      <td>100.00%</td>\n    </tr>\n    <tr>\n      <td>C00282__extr</td>\n      <td>EX_C00282__dra</td>\n      <td>-0.03244</td>\n      <td>0</td>\n      <td>0.00%</td>\n    </tr>\n    <tr>\n      <td>C00704__extr</td>\n      <td>EX_C00704__dra</td>\n      <td>-0.1223</td>\n      <td>0</td>\n      <td>0.00%</td>\n    </tr>\n    <tr>\n      <td>e_Biomass__cytop</td>\n      <td>EX_e_Biomass__dra</td>\n      <td>-0.00995</td>\n      <td>0</td>\n      <td>0.00%</td>\n    </tr>\n  </tbody>\n</table>"
     },
     "execution_count": 128,
     "metadata": {},
     "output_type": "execute_result"
    }
   ],
   "source": [
    "metabolite_in_study = 'beta-Tocopherol'\n",
    "\n",
    "nd_model.summary()\n"
   ],
   "metadata": {
    "collapsed": false,
    "pycharm": {
     "name": "#%%\n"
    }
   }
  },
  {
   "cell_type": "code",
   "execution_count": null,
   "outputs": [],
   "source": [
    "list_pigments = ['zeaxanthin', 'Zeaxanthin', 'canthaxanthin', 'Canthaxanthin', 'Astaxanthin', 'astaxanthin',\n",
    "                 'Chlorophyll a', 'chlorophyll a', 'Chlorophyll b', 'chlorophyll b', 'Chlorophyll c', 'chlorophyll c', 'beta-Carotene', 'Violaxanthin', 'violaxanthin', 'Vaucheriaxanthin', 'vaucheriaxanthin''canthaxanthin, Canthaxanthin', 'carotenoid', 'Carotenoid']\n",
    "\n",
    "\n",
    "\n",
    "\n",
    "for metabolite in nd_model.metabolites:\n",
    "    if pigment or or_pigment in metabolite.name:\n",
    "        print(metabolite.name, metabolite.id, metabolite.formula)"
   ],
   "metadata": {
    "collapsed": false,
    "pycharm": {
     "name": "#%%\n",
     "is_executing": true
    }
   }
  },
  {
   "cell_type": "code",
   "execution_count": 130,
   "outputs": [],
   "source": [
    "search_for_reaction(nd_model, '')"
   ],
   "metadata": {
    "collapsed": false,
    "pycharm": {
     "name": "#%%\n"
    }
   }
  },
  {
   "cell_type": "code",
   "execution_count": 134,
   "outputs": [],
   "source": [
    "metabolite_id = 'C00237__extr'\n",
    "search_for_reaction(nd_model, metabolite_id)\n",
    "\n"
   ],
   "metadata": {
    "collapsed": false,
    "pycharm": {
     "name": "#%%\n"
    }
   }
  },
  {
   "cell_type": "code",
   "execution_count": 6,
   "outputs": [
    {
     "name": "stdout",
     "output_type": "stream",
     "text": [
      "Model loaded\n",
      "Objective\n",
      "=========\n",
      "1.0 e_Biomass__cytop = 0.009950042454122277\n",
      "\n",
      "Uptake\n",
      "------\n",
      "  Metabolite       Reaction      Flux  C-Number  C-Flux\n",
      "C00001__extr EX_C00001__dra     1.409         0   0.00%\n",
      "C00009__extr EX_C00009__dra   0.01306         0   0.00%\n",
      "C00011__extr EX_C00011__dra    0.5142         1 100.00%\n",
      "C00059__extr EX_C00059__dra 0.0009262         0   0.00%\n",
      "C00080__extr EX_C00080__dra   0.01398         0   0.00%\n",
      "C00205__extr EX_C00205__dra     11.09         0   0.00%\n",
      "C00244__extr EX_C00244__dra    0.0891         0   0.00%\n",
      "C00305__extr EX_C00305__dra  0.000978         0   0.00%\n",
      "C14818__extr EX_C14818__dra 7.107E-07         0   0.00%\n",
      "\n",
      "Secretion\n",
      "---------\n",
      "      Metabolite           Reaction      Flux  C-Number  C-Flux\n",
      " photon646__chlo DM_photon646__chlo    -2.945         0   0.00%\n",
      " photon680__chlo DM_photon680__chlo   -0.7209         0   0.00%\n",
      "    C00007__extr     EX_C00007__dra    -0.184         0   0.00%\n",
      "    C00014__extr     EX_C00014__dra  -0.00492         0   0.00%\n",
      "    C00027__extr     EX_C00027__dra        -1         0   0.00%\n",
      "    C00237__extr     EX_C00237__dra -1.03E-06         1 100.00%\n",
      "    C00282__extr     EX_C00282__dra  -0.03244         0   0.00%\n",
      "    C00704__extr     EX_C00704__dra   -0.1223         0   0.00%\n",
      "e_Biomass__cytop  EX_e_Biomass__dra  -0.00995         0   0.00%\n",
      "\n",
      "Model deleted\n"
     ]
    }
   ],
   "source": [
    "from src.integration import Integration\n",
    "\n",
    "nd_model = Integration('data/inputs/fva/nd_model.xml')"
   ],
   "metadata": {
    "collapsed": false,
    "pycharm": {
     "name": "#%%\n"
    }
   }
  },
  {
   "cell_type": "code",
   "execution_count": 2,
   "outputs": [
    {
     "name": "stdout",
     "output_type": "stream",
     "text": [
      "Potential pigment: Red chlorophyll catabolite, id: C18022__mito, formula: C35H36N4O7,  shadow price: 0.0\n",
      "Potential pigment: Red chlorophyll catabolite, id: C18022__cytop, formula: C35H36N4O7,  shadow price: 1.6063184916900495\n",
      "Potential pigment: Chlorophyll b, id: C05307__chlo, formula: C55H70MgN4O6,  shadow price: 0.0\n",
      "Potential pigment: beta-Carotene, id: C02094__chlo, formula: C40H56,  shadow price: 3973.0604668354745\n",
      "Potential pigment: 9-cis-beta-Carotene, id: C20484__chlo, formula: C40H56,  shadow price: 3972.0604668354745\n",
      "Potential pigment: Chlorophyll a, id: C05306__chlo, formula: C55H73MgN4O5,  shadow price: 6924.930348846686\n",
      "Potential pigment: Violaxanthin, id: C08614__chlo, formula: C40H56O4,  shadow price: 3830.50882303492\n",
      "Potential pigment: Red chlorophyll catabolite, id: C18022__chlo, formula: C35H36N4O7,  shadow price: -32.637910950138576\n",
      "Potential pigment: Zeaxanthin, id: C06098__chlo, formula: C40H56O2,  shadow price: 3901.7846449351973\n"
     ]
    }
   ],
   "source": [
    "nd_model.pigments()"
   ],
   "metadata": {
    "collapsed": false,
    "pycharm": {
     "name": "#%%\n"
    }
   }
  },
  {
   "cell_type": "code",
   "execution_count": null,
   "outputs": [],
   "source": [
    "nd_model.pufas()"
   ],
   "metadata": {
    "collapsed": false,
    "pycharm": {
     "name": "#%%\n",
     "is_executing": true
    }
   }
  },
  {
   "cell_type": "code",
   "execution_count": null,
   "outputs": [],
   "source": [
    "nd_model.biodiesel_fatty_acids()"
   ],
   "metadata": {
    "collapsed": false,
    "pycharm": {
     "name": "#%%\n",
     "is_executing": true
    }
   }
  },
  {
   "cell_type": "code",
   "execution_count": null,
   "outputs": [],
   "source": [
    "import cobra\n",
    "\n",
    "# load model\n",
    "nd_model = cobra.io.read_sbml_model('data/inputs/fva/nd_model.xml')\n",
    "\n",
    "# see reactions in model\n",
    "for reaction in nd_model.reactions:\n",
    "    print(reaction.id, reaction.name)"
   ],
   "metadata": {
    "collapsed": false,
    "pycharm": {
     "name": "#%%\n",
     "is_executing": true
    }
   }
  },
  {
   "cell_type": "code",
   "execution_count": 13,
   "outputs": [
    {
     "name": "stdout",
     "output_type": "stream",
     "text": [
      "R02250__cytop Triacylglycerol + H2O => 1,2-Diacyl-sn-glycerol + H+ + Fatty acid\n",
      "R00390__mito ATP + CoA + Fatty acid => Diphosphate + AMP + Acyl-CoA + H+\n",
      "e_Lipid__cytop 0.1 Phosphatidylglycerol (chlo) + 0 Phosphatidylethanolamine (cytop) + 0 1,2-Diacyl-sn-glycerol (e.r.) + 0.4 Triacylglycerol (e.r.) + 0.1 Diacylglyceryl-N,N,N-trimethylhomoserine (e.r.) + 0.1 Digalactosyl-diacylglycerol (chlo) + 0.1 Sulfoquinovosyldiacylglycerol (chlo) + 0.1 Phosphatidylcholine (cytop) + 0 Fatty acid (cytop) + 0 1-Phosphatidyl-D-myo-inositol (cytop) + 0.2 1,2-Diacyl-3-beta-D-galactosyl-sn-glycerol (chlo) => e-Lipid (cytop)\n",
      "e_Lipid__cytop 0.1 Phosphatidylglycerol (chlo) + 0 Phosphatidylethanolamine (cytop) + 0 1,2-Diacyl-sn-glycerol (e.r.) + 0.4 Triacylglycerol (e.r.) + 0.1 Diacylglyceryl-N,N,N-trimethylhomoserine (e.r.) + 0.1 Digalactosyl-diacylglycerol (chlo) + 0.1 Sulfoquinovosyldiacylglycerol (chlo) + 0.1 Phosphatidylcholine (cytop) + 0 Fatty acid (cytop) + 0 1-Phosphatidyl-D-myo-inositol (cytop) + 0.2 1,2-Diacyl-3-beta-D-galactosyl-sn-glycerol (chlo) => e-Lipid (cytop)\n",
      "R03416__extr H2O + 1-Acyl-sn-glycero-3-phosphoethanolamine => H+ + sn-Glycero-3-phosphoethanolamine + Fatty acid\n",
      "R01351__cytop 1-Acylglycerol + H2O => H+ + Glycerol + Fatty acid\n",
      "R11644__e_r_ Linoleoyl-[glycerolipid] + 2 Ferrocytochrome b5 + Oxygen + 2 H+ => Pinolenoyl-[glycerolipid] + 2 Ferricytochrome b5 + 2 H2O\n",
      "R00390__e_r_ ATP + CoA + Fatty acid => Diphosphate + AMP + Acyl-CoA + H+\n",
      "e_FreeFattyAcid__cytop 0.3 Octadecanoic acid + 0.3 Arachidonate + 0.6 Hexadecanoic acid + 0.2 (9Z,12Z,15Z)-Octadecatrienoic acid + (5Z,8Z,11Z,14Z,17Z)-Icosapentaenoic acid + 0 Tetradecanoic acid + 0.1 Linoleate + 0.6 (9Z)-Hexadecenoic acid + 0.3 (9Z)-Octadecenoic acid + 0.1 Icosenoic acid + 0 (9Z,12Z)-hexadeca-9,12-dienoate + 0.1 6,9,12-Hexadecatrienoic acid => Fatty acid\n",
      "R01352__cytop H2O + 2-Acylglycerol => H+ + Glycerol + Fatty acid\n",
      "R02687__cytop 1,2-Diacyl-sn-glycerol + H2O => 1-Acylglycerol + H+ + Fatty acid\n",
      "R02747__cytop 2-Acyl-sn-glycero-3-phosphocholine + H2O => H+ + Fatty acid + sn-Glycero-3-phosphocholine\n",
      "R03417__cytop H2O + 2-Acyl-sn-glycero-3-phosphoethanolamine => H+ + sn-Glycero-3-phosphoethanolamine + Fatty acid\n",
      "R00390__chlo ATP + CoA + Fatty acid => Diphosphate + AMP + Acyl-CoA + H+\n",
      "R02688__e_r_ 1,2-Diacyl-sn-glycerol + H2O => H+ + Fatty acid + 2-Acylglycerol\n",
      "R01315__cytop H2O + Phosphatidylcholine => 1-Acyl-sn-glycero-3-phosphocholine + H+ + Fatty acid\n",
      "R02688__cytop 1,2-Diacyl-sn-glycerol + H2O => H+ + Fatty acid + 2-Acylglycerol\n",
      "R02746__cytop 1-Acyl-sn-glycero-3-phosphocholine + H2O => H+ + Fatty acid + sn-Glycero-3-phosphocholine\n",
      "R03416__cytop H2O + 1-Acyl-sn-glycero-3-phosphoethanolamine => H+ + sn-Glycero-3-phosphoethanolamine + Fatty acid\n",
      "R03417__extr H2O + 2-Acyl-sn-glycero-3-phosphoethanolamine => H+ + sn-Glycero-3-phosphoethanolamine + Fatty acid\n",
      "T_FattyAcid__ermem Fatty acid (cytop) => Fatty acid (e.r.)\n",
      "R02747__extr 2-Acyl-sn-glycero-3-phosphocholine + H2O => H+ + Fatty acid + sn-Glycero-3-phosphocholine\n",
      "R02053__cytop Phosphatidylethanolamine + H2O => H+ + Fatty acid + 1-Acyl-sn-glycero-3-phosphoethanolamine\n",
      "R11645__e_r_ alpha-Linolenoyl-[glycerolipid] + 2 Ferrocytochrome b5 + Oxygen + 2 H+ => Coniferonoyl-[glycerolipid] + 2 Ferricytochrome b5 + 2 H2O\n",
      "R12416__e_r_ Linoleoyl-[glycerolipid] + 2 Ferrocytochrome b5 + Oxygen + 2 H+ => alpha-Linolenoyl-[glycerolipid] + 2 Ferricytochrome b5 + 2 H2O\n",
      "R02746__extr 1-Acyl-sn-glycero-3-phosphocholine + H2O => H+ + Fatty acid + sn-Glycero-3-phosphocholine\n",
      "R02687__e_r_ 1,2-Diacyl-sn-glycerol + H2O => 1-Acylglycerol + H+ + Fatty acid\n",
      "EX_C00162__dra Drain to Fatty acid\n",
      "T_FattyAcid_V2__chlomem ATP (cytop) + H2O (cytop) + Fatty acid (cytop) => Orthophosphate (cytop) + ADP (cytop) + H+ (cytop) + Fatty acid (chlo)\n",
      "e_Biomass__cytop 29.9 ATP (cytop) + 29.9 H2O (cytop) + 0.2 e-Protein (cytop) + 0.3 e-DNA (cytop) + 0.1 e-RNA (cytop) + 0.1 e-Cofactor (cytop) + 0.1 e-Lipid (cytop) + 0.1 e-Carbohydrate (cytop) + 0.1 e-Pigment (chlo) => 29.9 Orthophosphate (cytop) + 29.9 ADP (cytop) + 29.9 H+ (cytop) + e-Biomass (cytop)\n",
      "R02250__e_r_ Triacylglycerol + H2O => 1,2-Diacyl-sn-glycerol + H+ + Fatty acid\n"
     ]
    }
   ],
   "source": [
    "words = ['fatty', 'Fatty', 'Lipid', 'lipid']\n",
    "\n",
    "for reaction in nd_model.reactions:\n",
    "    for word in words:\n",
    "        if word in reaction.name:\n",
    "            print(reaction.id, reaction.name)"
   ],
   "metadata": {
    "collapsed": false,
    "pycharm": {
     "name": "#%%\n"
    }
   }
  },
  {
   "cell_type": "code",
   "execution_count": 16,
   "outputs": [
    {
     "data": {
      "text/plain": "<cobra.summary.model_summary.ModelSummary at 0x7fd7657b9be0>",
      "text/html": "<h3>Objective</h3><p>1.0 e_Biomass__cytop = 0.009950042454122277</p><h4>Uptake</h4><table border=\"1\" class=\"dataframe\">\n  <thead>\n    <tr style=\"text-align: right;\">\n      <th>Metabolite</th>\n      <th>Reaction</th>\n      <th>Flux</th>\n      <th>C-Number</th>\n      <th>C-Flux</th>\n    </tr>\n  </thead>\n  <tbody>\n    <tr>\n      <td>C00001__extr</td>\n      <td>EX_C00001__dra</td>\n      <td>1.409</td>\n      <td>0</td>\n      <td>0.00%</td>\n    </tr>\n    <tr>\n      <td>C00009__extr</td>\n      <td>EX_C00009__dra</td>\n      <td>0.01306</td>\n      <td>0</td>\n      <td>0.00%</td>\n    </tr>\n    <tr>\n      <td>C00011__extr</td>\n      <td>EX_C00011__dra</td>\n      <td>0.5142</td>\n      <td>1</td>\n      <td>100.00%</td>\n    </tr>\n    <tr>\n      <td>C00059__extr</td>\n      <td>EX_C00059__dra</td>\n      <td>0.0009262</td>\n      <td>0</td>\n      <td>0.00%</td>\n    </tr>\n    <tr>\n      <td>C00080__extr</td>\n      <td>EX_C00080__dra</td>\n      <td>0.01398</td>\n      <td>0</td>\n      <td>0.00%</td>\n    </tr>\n    <tr>\n      <td>C00205__extr</td>\n      <td>EX_C00205__dra</td>\n      <td>11.09</td>\n      <td>0</td>\n      <td>0.00%</td>\n    </tr>\n    <tr>\n      <td>C00244__extr</td>\n      <td>EX_C00244__dra</td>\n      <td>0.0891</td>\n      <td>0</td>\n      <td>0.00%</td>\n    </tr>\n    <tr>\n      <td>C00305__extr</td>\n      <td>EX_C00305__dra</td>\n      <td>0.000978</td>\n      <td>0</td>\n      <td>0.00%</td>\n    </tr>\n    <tr>\n      <td>C14818__extr</td>\n      <td>EX_C14818__dra</td>\n      <td>7.107E-07</td>\n      <td>0</td>\n      <td>0.00%</td>\n    </tr>\n  </tbody>\n</table><h4>Secretion</h4><table border=\"1\" class=\"dataframe\">\n  <thead>\n    <tr style=\"text-align: right;\">\n      <th>Metabolite</th>\n      <th>Reaction</th>\n      <th>Flux</th>\n      <th>C-Number</th>\n      <th>C-Flux</th>\n    </tr>\n  </thead>\n  <tbody>\n    <tr>\n      <td>photon646__chlo</td>\n      <td>DM_photon646__chlo</td>\n      <td>-2.945</td>\n      <td>0</td>\n      <td>0.00%</td>\n    </tr>\n    <tr>\n      <td>photon680__chlo</td>\n      <td>DM_photon680__chlo</td>\n      <td>-0.7209</td>\n      <td>0</td>\n      <td>0.00%</td>\n    </tr>\n    <tr>\n      <td>C00007__extr</td>\n      <td>EX_C00007__dra</td>\n      <td>-0.184</td>\n      <td>0</td>\n      <td>0.00%</td>\n    </tr>\n    <tr>\n      <td>C00014__extr</td>\n      <td>EX_C00014__dra</td>\n      <td>-0.00492</td>\n      <td>0</td>\n      <td>0.00%</td>\n    </tr>\n    <tr>\n      <td>C00027__extr</td>\n      <td>EX_C00027__dra</td>\n      <td>-1</td>\n      <td>0</td>\n      <td>0.00%</td>\n    </tr>\n    <tr>\n      <td>C00237__extr</td>\n      <td>EX_C00237__dra</td>\n      <td>-1.03E-06</td>\n      <td>1</td>\n      <td>100.00%</td>\n    </tr>\n    <tr>\n      <td>C00282__extr</td>\n      <td>EX_C00282__dra</td>\n      <td>-0.03244</td>\n      <td>0</td>\n      <td>0.00%</td>\n    </tr>\n    <tr>\n      <td>C00704__extr</td>\n      <td>EX_C00704__dra</td>\n      <td>-0.1223</td>\n      <td>0</td>\n      <td>0.00%</td>\n    </tr>\n    <tr>\n      <td>e_Biomass__cytop</td>\n      <td>EX_e_Biomass__dra</td>\n      <td>-0.00995</td>\n      <td>0</td>\n      <td>0.00%</td>\n    </tr>\n  </tbody>\n</table>"
     },
     "execution_count": 16,
     "metadata": {},
     "output_type": "execute_result"
    }
   ],
   "source": [
    "nd_model.summary()"
   ],
   "metadata": {
    "collapsed": false,
    "pycharm": {
     "name": "#%%\n"
    }
   }
  },
  {
   "cell_type": "code",
   "execution_count": null,
   "outputs": [],
   "source": [
    "for metabolite in nd_model.metabolites:\n",
    "    for reaction in metabolite.reactions:\n",
    "        print(metabolite.name, reaction.name, reaction.id, reaction.lower_bound, reaction.upper_bound)"
   ],
   "metadata": {
    "collapsed": false,
    "pycharm": {
     "name": "#%%\n",
     "is_executing": true
    }
   }
  },
  {
   "cell_type": "code",
   "execution_count": 9,
   "outputs": [
    {
     "name": "stdout",
     "output_type": "stream",
     "text": [
      "Fatty acid C00162__extr CO2R\n",
      "Fatty acid C00162__mito CO2R\n",
      "Fatty acid C00162__e_r_ CO2R\n",
      "Fatty acid C00162__cytop CO2R\n",
      "Fatty acid C00162__chlo CO2R\n",
      "Model loaded\n",
      "Objective\n",
      "=========\n",
      "1.0 e_Biomass__cytop = 0.009950042454122277\n",
      "\n",
      "Uptake\n",
      "------\n",
      "  Metabolite       Reaction      Flux  C-Number  C-Flux\n",
      "C00001__extr EX_C00001__dra     1.409         0   0.00%\n",
      "C00009__extr EX_C00009__dra   0.01306         0   0.00%\n",
      "C00011__extr EX_C00011__dra    0.5142         1 100.00%\n",
      "C00059__extr EX_C00059__dra 0.0009262         0   0.00%\n",
      "C00080__extr EX_C00080__dra   0.01398         0   0.00%\n",
      "C00205__extr EX_C00205__dra     11.09         0   0.00%\n",
      "C00244__extr EX_C00244__dra    0.0891         0   0.00%\n",
      "C00305__extr EX_C00305__dra  0.000978         0   0.00%\n",
      "C14818__extr EX_C14818__dra 7.107E-07         0   0.00%\n",
      "\n",
      "Secretion\n",
      "---------\n",
      "      Metabolite           Reaction      Flux  C-Number  C-Flux\n",
      " photon646__chlo DM_photon646__chlo    -2.945         0   0.00%\n",
      " photon680__chlo DM_photon680__chlo   -0.7209         0   0.00%\n",
      "    C00007__extr     EX_C00007__dra    -0.184         0   0.00%\n",
      "    C00014__extr     EX_C00014__dra  -0.00492         0   0.00%\n",
      "    C00027__extr     EX_C00027__dra        -1         0   0.00%\n",
      "    C00237__extr     EX_C00237__dra -1.03E-06         1 100.00%\n",
      "    C00282__extr     EX_C00282__dra  -0.03244         0   0.00%\n",
      "    C00704__extr     EX_C00704__dra   -0.1223         0   0.00%\n",
      "e_Biomass__cytop  EX_e_Biomass__dra  -0.00995         0   0.00%\n",
      "\n"
     ]
    }
   ],
   "source": [
    "for metabolite in nd_model.metabolites:\n",
    "    if 'Fatty' in metabolite.name:\n",
    "        print(metabolite.name, metabolite.id, metabolite.formula)"
   ],
   "metadata": {
    "collapsed": false,
    "pycharm": {
     "name": "#%%\n"
    }
   }
  },
  {
   "cell_type": "code",
   "execution_count": null,
   "outputs": [],
   "source": [
    "from src.integration import Integration\n",
    "integration = Integration('data/outputs/gems/nd_model.xml')"
   ],
   "metadata": {
    "collapsed": false,
    "pycharm": {
     "name": "#%%\n"
    }
   }
  },
  {
   "cell_type": "code",
   "execution_count": 10,
   "outputs": [
    {
     "data": {
      "text/plain": "2.42861286636753e-17"
     },
     "execution_count": 10,
     "metadata": {},
     "output_type": "execute_result"
    }
   ],
   "source": [
    "integration.pFBA()"
   ],
   "metadata": {
    "collapsed": false,
    "pycharm": {
     "name": "#%%\n"
    }
   }
  },
  {
   "cell_type": "code",
   "execution_count": 11,
   "outputs": [
    {
     "name": "stdout",
     "output_type": "stream",
     "text": [
      "FVA finds the ranges of each metabolic flux at the optimum.\n",
      "                              minimum       maximum\n",
      "R02434__chlo             0.000000e+00  0.000000e+00\n",
      "T_L_Tyrosine_V2__mitmem -8.561880e-04  4.697441e-07\n",
      "TR0011455_PLAS__ermem    0.000000e+00  0.000000e+00\n",
      "R01652__cytop           -3.840839e-19  2.226145e-03\n",
      "R00243__mito            -3.953082e-03  3.953082e-03\n",
      "PKS_C204__cytop         -3.527767e-19  8.440867e-04\n",
      "EX_C00188__dra           0.000000e+00  0.000000e+00\n",
      "EX_C05839__dra           0.000000e+00  0.000000e+00\n",
      "R03362__cytop            0.000000e+00  6.682018e-03\n",
      "R04537__cytop            0.000000e+00  6.281092e-03\n",
      "\n",
      "\n",
      "Running FVA in summary methods\n",
      "Model summary. default fva=0.95\n",
      "Objective\n",
      "=========\n",
      "1.0 e_Biomass__cytop = 0.009950042454079412\n",
      "\n",
      "Uptake\n",
      "------\n",
      "  Metabolite       Reaction      Flux                  Range  C-Number  C-Flux\n",
      "C00001__extr EX_C00001__dra     1.409         [1.122; 1.462]         0   0.00%\n",
      "C00009__extr EX_C00009__dra   0.01306      [0.0124; 0.01423]         0   0.00%\n",
      "C00011__extr EX_C00011__dra    0.5142       [0.4885; 0.5698]         1 100.00%\n",
      "C00059__extr EX_C00059__dra 0.0009262  [0.0008799; 0.001465]         0   0.00%\n",
      "C00080__extr EX_C00080__dra   0.01398    [-0.01793; 0.04432]         0   0.00%\n",
      "C00205__extr EX_C00205__dra     11.09         [10.07; 20.15]         0   0.00%\n",
      "C00244__extr EX_C00244__dra    0.0891      [0.07997; 0.0891]         0   0.00%\n",
      "C00305__extr EX_C00305__dra  0.000978  [0.0009291; 0.000978]         0   0.00%\n",
      "C14818__extr EX_C14818__dra 7.107E-07 [6.752E-07; 7.049E-07]         0   0.00%\n",
      "\n",
      "Secretion\n",
      "---------\n",
      "      Metabolite            Reaction      Flux                   Range  C-Number  C-Flux\n",
      "photon298__cytop DM_photon298__cytop         0           [-0.03216; 0]         0   0.00%\n",
      " photon437__chlo  DM_photon437__chlo         0            [-0.6632; 0]         0   0.00%\n",
      " photon438__chlo  DM_photon438__chlo         0                 [-1; 0]         0   0.00%\n",
      " photon450__chlo  DM_photon450__chlo         0            [-0.7622; 0]         0   0.00%\n",
      " photon490__chlo  DM_photon490__chlo         0                 [-1; 0]         0   0.00%\n",
      " photon646__chlo  DM_photon646__chlo    -2.945        [-5.435; -2.676]         0   0.00%\n",
      " photon673__chlo  DM_photon673__chlo         0                 [-1; 0]         0   0.00%\n",
      " photon680__chlo  DM_photon680__chlo   -0.7209                 [-1; 0]         0   0.00%\n",
      "    C00007__extr      EX_C00007__dra    -0.184      [-0.3066; -0.1143]         0   0.00%\n",
      "    C00014__extr      EX_C00014__dra  -0.00492          [-0.009129; 0]         0   0.00%\n",
      "    C00027__extr      EX_C00027__dra        -1           [-1; -0.7233]         0   0.00%\n",
      "    C00114__extr      EX_C00114__dra         0         [-0.0009557; 0]         5   0.00%\n",
      "    C00187__extr      EX_C00187__dra         0          [-0.002667; 0]        27   0.00%\n",
      "    C00237__extr      EX_C00237__dra -1.03E-06 [-1.03E-06; -9.787E-07]         1 100.00%\n",
      "    C00242__extr      EX_C00242__dra         0          [-0.001826; 0]         5   0.00%\n",
      "    C00282__extr      EX_C00282__dra  -0.03244           [-0.03244; 0]         0   0.00%\n",
      "    C00283__extr      EX_C00283__dra         0         [-0.0005848; 0]         0   0.00%\n",
      "    C00288__extr      EX_C00288__dra         0          [-0.009343; 0]         1   0.00%\n",
      "    C00366__extr      EX_C00366__dra         0          [-0.002282; 0]         5   0.00%\n",
      "    C00575__extr      EX_C00575__dra         0          [-0.001826; 0]        10   0.00%\n",
      "    C00704__extr      EX_C00704__dra   -0.1223     [-0.1569; -0.06781]         0   0.00%\n",
      "    C00942__extr      EX_C00942__dra         0          [-0.001714; 0]        10   0.00%\n",
      "    C05443__extr      EX_C05443__dra         0          [-0.002667; 0]        27   0.00%\n",
      "    C05993__extr      EX_C05993__dra         0          [-0.001426; 0]        12   0.00%\n",
      "e_Biomass__cytop   EX_e_Biomass__dra  -0.00995   [-0.00995; -0.009453]         0   0.00%\n",
      "\n",
      "Variability in metabolite mass balances with flux variability analysis:\n"
     ]
    },
    {
     "ename": "KeyError",
     "evalue": "'omega3_fatty_acids'",
     "output_type": "error",
     "traceback": [
      "\u001B[0;31m---------------------------------------------------------------------------\u001B[0m",
      "\u001B[0;31mKeyError\u001B[0m                                  Traceback (most recent call last)",
      "Input \u001B[0;32mIn [11]\u001B[0m, in \u001B[0;36m<cell line: 1>\u001B[0;34m()\u001B[0m\n\u001B[0;32m----> 1\u001B[0m \u001B[43mintegration\u001B[49m\u001B[38;5;241;43m.\u001B[39;49m\u001B[43mfva\u001B[49m\u001B[43m(\u001B[49m\u001B[43m)\u001B[49m\n",
      "File \u001B[0;32m~/Documents/GitHub/bioinformatics-project/src/integration.py:114\u001B[0m, in \u001B[0;36mIntegration.fva\u001B[0;34m(self, fva, fraction_of_optimum, loopless, **kwargs)\u001B[0m\n\u001B[1;32m    112\u001B[0m \u001B[38;5;28mprint\u001B[39m(\u001B[38;5;124m'\u001B[39m\u001B[38;5;124mVariability in metabolite mass balances with flux variability analysis:\u001B[39m\u001B[38;5;124m'\u001B[39m)\n\u001B[1;32m    113\u001B[0m \u001B[38;5;66;03m# search for omega-3 fatty acids\u001B[39;00m\n\u001B[0;32m--> 114\u001B[0m \u001B[38;5;28mprint\u001B[39m(\u001B[38;5;28;43mself\u001B[39;49m\u001B[38;5;241;43m.\u001B[39;49m\u001B[43mmodel\u001B[49m\u001B[38;5;241;43m.\u001B[39;49m\u001B[43mmetabolites\u001B[49m\u001B[38;5;241;43m.\u001B[39;49m\u001B[43mget_by_id\u001B[49m\u001B[43m(\u001B[49m\u001B[38;5;124;43m'\u001B[39;49m\u001B[38;5;124;43momega3_fatty_acids\u001B[39;49m\u001B[38;5;124;43m'\u001B[39;49m\u001B[43m)\u001B[49m\u001B[38;5;241m.\u001B[39msummary(fva\u001B[38;5;241m=\u001B[39mfva))\n\u001B[1;32m    115\u001B[0m \u001B[38;5;28mprint\u001B[39m(\u001B[38;5;28mself\u001B[39m\u001B[38;5;241m.\u001B[39mmodel\u001B[38;5;241m.\u001B[39mmetabolites\u001B[38;5;241m.\u001B[39momega\u001B[38;5;241m.\u001B[39msummary(fva\u001B[38;5;241m=\u001B[39mfva))\n\u001B[1;32m    116\u001B[0m \u001B[38;5;28mprint\u001B[39m(\u001B[38;5;124m'\u001B[39m\u001B[38;5;124mVariability in reaction fluxes with flux variability analysis:\u001B[39m\u001B[38;5;124m'\u001B[39m)\n",
      "File \u001B[0;32m~/Documents/GitHub/bioinformatics-project/venv/lib/python3.9/site-packages/cobra/core/dictlist.py:74\u001B[0m, in \u001B[0;36mDictList.get_by_id\u001B[0;34m(self, id)\u001B[0m\n\u001B[1;32m     72\u001B[0m \u001B[38;5;28;01mdef\u001B[39;00m \u001B[38;5;21mget_by_id\u001B[39m(\u001B[38;5;28mself\u001B[39m, \u001B[38;5;28mid\u001B[39m: Union[Object, \u001B[38;5;28mstr\u001B[39m]) \u001B[38;5;241m-\u001B[39m\u001B[38;5;241m>\u001B[39m Object:\n\u001B[1;32m     73\u001B[0m     \u001B[38;5;124;03m\"\"\"Return the element with a matching id.\"\"\"\u001B[39;00m\n\u001B[0;32m---> 74\u001B[0m     \u001B[38;5;28;01mreturn\u001B[39;00m \u001B[38;5;28mlist\u001B[39m\u001B[38;5;241m.\u001B[39m\u001B[38;5;21m__getitem__\u001B[39m(\u001B[38;5;28mself\u001B[39m, \u001B[38;5;28;43mself\u001B[39;49m\u001B[38;5;241;43m.\u001B[39;49m\u001B[43m_dict\u001B[49m\u001B[43m[\u001B[49m\u001B[38;5;28;43mid\u001B[39;49m\u001B[43m]\u001B[49m)\n",
      "\u001B[0;31mKeyError\u001B[0m: 'omega3_fatty_acids'"
     ]
    }
   ],
   "source": [
    "integration.fva()"
   ],
   "metadata": {
    "collapsed": false,
    "pycharm": {
     "name": "#%%\n"
    }
   }
  },
  {
   "cell_type": "code",
   "execution_count": 1,
   "outputs": [
    {
     "name": "stdout",
     "output_type": "stream",
     "text": [
      "Scaling...\n",
      " A: min|aij| =  1.000e+00  max|aij| =  1.000e+00  ratio =  1.000e+00\n",
      "Problem data seem to be well scaled\n",
      "Model loaded\n",
      "Objective\n",
      "=========\n",
      "1.0 e_Biomass__cytop = 0.010041327328290849\n",
      "\n",
      "Uptake\n",
      "------\n",
      "  Metabolite       Reaction      Flux  C-Number  C-Flux\n",
      "C00001__extr EX_C00001__dra    0.4504         0   0.00%\n",
      "C00009__extr EX_C00009__dra   0.01318         0   0.00%\n",
      "C00011__extr EX_C00011__dra    0.5292         1 100.00%\n",
      "C00059__extr EX_C00059__dra 0.0009347         0   0.00%\n",
      "C00080__extr EX_C00080__dra   0.03222         0   0.00%\n",
      "C00205__extr EX_C00205__dra     11.67         0   0.00%\n",
      "C00244__extr EX_C00244__dra   0.08854         0   0.00%\n",
      "C00305__extr EX_C00305__dra  0.000987         0   0.00%\n",
      "C14818__extr EX_C14818__dra 7.173E-07         0   0.00%\n",
      "\n",
      "Secretion\n",
      "---------\n",
      "      Metabolite            Reaction      Flux  C-Number C-Flux\n",
      "photon298__cytop DM_photon298__cytop  -0.03192         0  0.00%\n",
      " photon450__chlo  DM_photon450__chlo   -0.7258         0  0.00%\n",
      " photon490__chlo  DM_photon490__chlo   -0.9142         0  0.00%\n",
      " photon646__chlo  DM_photon646__chlo     -2.54         0  0.00%\n",
      " photon673__chlo  DM_photon673__chlo   -0.0554         0  0.00%\n",
      "    C00007__extr      EX_C00007__dra   -0.6807         0  0.00%\n",
      "    C00014__extr      EX_C00014__dra -0.003586         0  0.00%\n",
      "    C00027__extr      EX_C00027__dra  -0.05387         0  0.00%\n",
      "    C00237__extr      EX_C00237__dra -1.04E-06         1  0.01%\n",
      "    C00282__extr      EX_C00282__dra   -0.0237         0  0.00%\n",
      "    C00288__extr      EX_C00288__dra  -0.01024         1 99.99%\n",
      "    C00704__extr      EX_C00704__dra  -0.09095         0  0.00%\n",
      "e_Biomass__cytop   EX_e_Biomass__dra  -0.01004         0  0.00%\n",
      "\n"
     ]
    }
   ],
   "source": [
    "from integration import Integration\n",
    "integration_wt = Integration('data/outputs/gems/wt_model.xml')"
   ],
   "metadata": {
    "collapsed": false,
    "pycharm": {
     "name": "#%%\n"
    }
   }
  },
  {
   "cell_type": "code",
   "execution_count": 4,
   "outputs": [],
   "source": [
    "integration_wt.pFBA('wt_pfba','data/outputs/pfba/')"
   ],
   "metadata": {
    "collapsed": false,
    "pycharm": {
     "name": "#%%\n"
    }
   }
  },
  {
   "cell_type": "code",
   "execution_count": 2,
   "outputs": [
    {
     "name": "stdout",
     "output_type": "stream",
     "text": [
      "FVA finds the ranges of each metabolic flux at the optimum.\n"
     ]
    },
    {
     "ename": "KeyError",
     "evalue": "'R02434__chlo'",
     "output_type": "error",
     "traceback": [
      "\u001B[0;31m---------------------------------------------------------------------------\u001B[0m",
      "\u001B[0;31mKeyError\u001B[0m                                  Traceback (most recent call last)",
      "File \u001B[0;32m~/Documents/GitHub/bioinformatics-project/venv/lib/python3.9/site-packages/pandas/core/indexes/base.py:3621\u001B[0m, in \u001B[0;36mIndex.get_loc\u001B[0;34m(self, key, method, tolerance)\u001B[0m\n\u001B[1;32m   3620\u001B[0m \u001B[38;5;28;01mtry\u001B[39;00m:\n\u001B[0;32m-> 3621\u001B[0m     \u001B[38;5;28;01mreturn\u001B[39;00m \u001B[38;5;28;43mself\u001B[39;49m\u001B[38;5;241;43m.\u001B[39;49m\u001B[43m_engine\u001B[49m\u001B[38;5;241;43m.\u001B[39;49m\u001B[43mget_loc\u001B[49m\u001B[43m(\u001B[49m\u001B[43mcasted_key\u001B[49m\u001B[43m)\u001B[49m\n\u001B[1;32m   3622\u001B[0m \u001B[38;5;28;01mexcept\u001B[39;00m \u001B[38;5;167;01mKeyError\u001B[39;00m \u001B[38;5;28;01mas\u001B[39;00m err:\n",
      "File \u001B[0;32mpandas/_libs/index.pyx:136\u001B[0m, in \u001B[0;36mpandas._libs.index.IndexEngine.get_loc\u001B[0;34m()\u001B[0m\n",
      "File \u001B[0;32mpandas/_libs/index.pyx:163\u001B[0m, in \u001B[0;36mpandas._libs.index.IndexEngine.get_loc\u001B[0;34m()\u001B[0m\n",
      "File \u001B[0;32mpandas/_libs/hashtable_class_helper.pxi:5198\u001B[0m, in \u001B[0;36mpandas._libs.hashtable.PyObjectHashTable.get_item\u001B[0;34m()\u001B[0m\n",
      "File \u001B[0;32mpandas/_libs/hashtable_class_helper.pxi:5206\u001B[0m, in \u001B[0;36mpandas._libs.hashtable.PyObjectHashTable.get_item\u001B[0;34m()\u001B[0m\n",
      "\u001B[0;31mKeyError\u001B[0m: 'R02434__chlo'",
      "\nThe above exception was the direct cause of the following exception:\n",
      "\u001B[0;31mKeyError\u001B[0m                                  Traceback (most recent call last)",
      "Input \u001B[0;32mIn [2]\u001B[0m, in \u001B[0;36m<cell line: 1>\u001B[0;34m()\u001B[0m\n\u001B[0;32m----> 1\u001B[0m \u001B[43mintegration_wt\u001B[49m\u001B[38;5;241;43m.\u001B[39;49m\u001B[43mfva\u001B[49m\u001B[43m(\u001B[49m\u001B[38;5;124;43m'\u001B[39;49m\u001B[38;5;124;43mwt_fva\u001B[39;49m\u001B[38;5;124;43m'\u001B[39;49m\u001B[43m,\u001B[49m\u001B[38;5;124;43m'\u001B[39;49m\u001B[38;5;124;43mdata/outputs/fva/\u001B[39;49m\u001B[38;5;124;43m'\u001B[39;49m\u001B[43m)\u001B[49m\n",
      "File \u001B[0;32m~/Documents/GitHub/bioinformatics-project/src/integration.py:139\u001B[0m, in \u001B[0;36mIntegration.fva\u001B[0;34m(self, file_name, path, fva, fraction_of_optimum, loopless, **kwargs)\u001B[0m\n\u001B[1;32m    137\u001B[0m     writer\u001B[38;5;241m.\u001B[39mwriterow([\u001B[38;5;124m'\u001B[39m\u001B[38;5;124m \u001B[39m\u001B[38;5;124m'\u001B[39m \u001B[38;5;124m'\u001B[39m\u001B[38;5;124mfluxes\u001B[39m\u001B[38;5;124m'\u001B[39m \u001B[38;5;124m'\u001B[39m\u001B[38;5;124mreduced_costs\u001B[39m\u001B[38;5;124m'\u001B[39m])\n\u001B[1;32m    138\u001B[0m     \u001B[38;5;28;01mfor\u001B[39;00m reaction \u001B[38;5;129;01min\u001B[39;00m \u001B[38;5;28mself\u001B[39m\u001B[38;5;241m.\u001B[39mmodel\u001B[38;5;241m.\u001B[39mreactions:\n\u001B[0;32m--> 139\u001B[0m         writer\u001B[38;5;241m.\u001B[39mwriterow([reaction\u001B[38;5;241m.\u001B[39mid, \u001B[43mfva_soltuion\u001B[49m\u001B[43m[\u001B[49m\u001B[43mreaction\u001B[49m\u001B[38;5;241;43m.\u001B[39;49m\u001B[43mid\u001B[49m\u001B[43m]\u001B[49m, fva_soltuion\u001B[38;5;241m.\u001B[39mfluxes[reaction\u001B[38;5;241m.\u001B[39mid]])\n\u001B[1;32m    140\u001B[0m \u001B[38;5;28;01mif\u001B[39;00m fva_soltuion:\n\u001B[1;32m    141\u001B[0m     \u001B[38;5;28mprint\u001B[39m(\u001B[38;5;124mf\u001B[39m\u001B[38;5;124m\"\u001B[39m\u001B[38;5;124mFVA solution saved as csv file at \u001B[39m\u001B[38;5;132;01m{\u001B[39;00mpath\u001B[38;5;132;01m}\u001B[39;00m\u001B[38;5;124m\"\u001B[39m)\n",
      "File \u001B[0;32m~/Documents/GitHub/bioinformatics-project/venv/lib/python3.9/site-packages/pandas/core/frame.py:3505\u001B[0m, in \u001B[0;36mDataFrame.__getitem__\u001B[0;34m(self, key)\u001B[0m\n\u001B[1;32m   3503\u001B[0m \u001B[38;5;28;01mif\u001B[39;00m \u001B[38;5;28mself\u001B[39m\u001B[38;5;241m.\u001B[39mcolumns\u001B[38;5;241m.\u001B[39mnlevels \u001B[38;5;241m>\u001B[39m \u001B[38;5;241m1\u001B[39m:\n\u001B[1;32m   3504\u001B[0m     \u001B[38;5;28;01mreturn\u001B[39;00m \u001B[38;5;28mself\u001B[39m\u001B[38;5;241m.\u001B[39m_getitem_multilevel(key)\n\u001B[0;32m-> 3505\u001B[0m indexer \u001B[38;5;241m=\u001B[39m \u001B[38;5;28;43mself\u001B[39;49m\u001B[38;5;241;43m.\u001B[39;49m\u001B[43mcolumns\u001B[49m\u001B[38;5;241;43m.\u001B[39;49m\u001B[43mget_loc\u001B[49m\u001B[43m(\u001B[49m\u001B[43mkey\u001B[49m\u001B[43m)\u001B[49m\n\u001B[1;32m   3506\u001B[0m \u001B[38;5;28;01mif\u001B[39;00m is_integer(indexer):\n\u001B[1;32m   3507\u001B[0m     indexer \u001B[38;5;241m=\u001B[39m [indexer]\n",
      "File \u001B[0;32m~/Documents/GitHub/bioinformatics-project/venv/lib/python3.9/site-packages/pandas/core/indexes/base.py:3623\u001B[0m, in \u001B[0;36mIndex.get_loc\u001B[0;34m(self, key, method, tolerance)\u001B[0m\n\u001B[1;32m   3621\u001B[0m     \u001B[38;5;28;01mreturn\u001B[39;00m \u001B[38;5;28mself\u001B[39m\u001B[38;5;241m.\u001B[39m_engine\u001B[38;5;241m.\u001B[39mget_loc(casted_key)\n\u001B[1;32m   3622\u001B[0m \u001B[38;5;28;01mexcept\u001B[39;00m \u001B[38;5;167;01mKeyError\u001B[39;00m \u001B[38;5;28;01mas\u001B[39;00m err:\n\u001B[0;32m-> 3623\u001B[0m     \u001B[38;5;28;01mraise\u001B[39;00m \u001B[38;5;167;01mKeyError\u001B[39;00m(key) \u001B[38;5;28;01mfrom\u001B[39;00m \u001B[38;5;21;01merr\u001B[39;00m\n\u001B[1;32m   3624\u001B[0m \u001B[38;5;28;01mexcept\u001B[39;00m \u001B[38;5;167;01mTypeError\u001B[39;00m:\n\u001B[1;32m   3625\u001B[0m     \u001B[38;5;66;03m# If we have a listlike key, _check_indexing_error will raise\u001B[39;00m\n\u001B[1;32m   3626\u001B[0m     \u001B[38;5;66;03m#  InvalidIndexError. Otherwise we fall through and re-raise\u001B[39;00m\n\u001B[1;32m   3627\u001B[0m     \u001B[38;5;66;03m#  the TypeError.\u001B[39;00m\n\u001B[1;32m   3628\u001B[0m     \u001B[38;5;28mself\u001B[39m\u001B[38;5;241m.\u001B[39m_check_indexing_error(key)\n",
      "\u001B[0;31mKeyError\u001B[0m: 'R02434__chlo'"
     ]
    }
   ],
   "source": [
    "integration_wt.fva('wt_fva','data/outputs/fva/')"
   ],
   "metadata": {
    "collapsed": false,
    "pycharm": {
     "name": "#%%\n"
    }
   }
  },
  {
   "cell_type": "code",
   "execution_count": 3,
   "outputs": [
    {
     "name": "stdout",
     "output_type": "stream",
     "text": [
      "Model loaded\n",
      "Objective\n",
      "=========\n",
      "1.0 e_Biomass__cytop = 0.009950042454122277\n",
      "\n",
      "Uptake\n",
      "------\n",
      "  Metabolite       Reaction      Flux  C-Number  C-Flux\n",
      "C00001__extr EX_C00001__dra     1.409         0   0.00%\n",
      "C00009__extr EX_C00009__dra   0.01306         0   0.00%\n",
      "C00011__extr EX_C00011__dra    0.5142         1 100.00%\n",
      "C00059__extr EX_C00059__dra 0.0009262         0   0.00%\n",
      "C00080__extr EX_C00080__dra   0.01398         0   0.00%\n",
      "C00205__extr EX_C00205__dra     11.09         0   0.00%\n",
      "C00244__extr EX_C00244__dra    0.0891         0   0.00%\n",
      "C00305__extr EX_C00305__dra  0.000978         0   0.00%\n",
      "C14818__extr EX_C14818__dra 7.107E-07         0   0.00%\n",
      "\n",
      "Secretion\n",
      "---------\n",
      "      Metabolite           Reaction      Flux  C-Number  C-Flux\n",
      " photon646__chlo DM_photon646__chlo    -2.945         0   0.00%\n",
      " photon680__chlo DM_photon680__chlo   -0.7209         0   0.00%\n",
      "    C00007__extr     EX_C00007__dra    -0.184         0   0.00%\n",
      "    C00014__extr     EX_C00014__dra  -0.00492         0   0.00%\n",
      "    C00027__extr     EX_C00027__dra        -1         0   0.00%\n",
      "    C00237__extr     EX_C00237__dra -1.03E-06         1 100.00%\n",
      "    C00282__extr     EX_C00282__dra  -0.03244         0   0.00%\n",
      "    C00704__extr     EX_C00704__dra   -0.1223         0   0.00%\n",
      "e_Biomass__cytop  EX_e_Biomass__dra  -0.00995         0   0.00%\n",
      "\n"
     ]
    }
   ],
   "source": [
    "integration_nd = Integration('data/outputs/gems/nd_model.xml')"
   ],
   "metadata": {
    "collapsed": false,
    "pycharm": {
     "name": "#%%\n"
    }
   }
  },
  {
   "cell_type": "code",
   "execution_count": 4,
   "outputs": [
    {
     "name": "stdout",
     "output_type": "stream",
     "text": [
      "pFBA solution saved as csv file at data/outputs/pfba/\n"
     ]
    }
   ],
   "source": [
    "integration_nd.pFBA('nd_pfba','data/outputs/pfba/')"
   ],
   "metadata": {
    "collapsed": false,
    "pycharm": {
     "name": "#%%\n"
    }
   }
  },
  {
   "cell_type": "code",
   "execution_count": 5,
   "outputs": [
    {
     "name": "stdout",
     "output_type": "stream",
     "text": [
      "FVA finds the ranges of each metabolic flux at the optimum.\n"
     ]
    },
    {
     "ename": "KeyError",
     "evalue": "'R02434__chlo'",
     "output_type": "error",
     "traceback": [
      "\u001B[0;31m---------------------------------------------------------------------------\u001B[0m",
      "\u001B[0;31mKeyError\u001B[0m                                  Traceback (most recent call last)",
      "File \u001B[0;32m~/Documents/GitHub/bioinformatics-project/venv/lib/python3.9/site-packages/pandas/core/indexes/base.py:3621\u001B[0m, in \u001B[0;36mIndex.get_loc\u001B[0;34m(self, key, method, tolerance)\u001B[0m\n\u001B[1;32m   3620\u001B[0m \u001B[38;5;28;01mtry\u001B[39;00m:\n\u001B[0;32m-> 3621\u001B[0m     \u001B[38;5;28;01mreturn\u001B[39;00m \u001B[38;5;28;43mself\u001B[39;49m\u001B[38;5;241;43m.\u001B[39;49m\u001B[43m_engine\u001B[49m\u001B[38;5;241;43m.\u001B[39;49m\u001B[43mget_loc\u001B[49m\u001B[43m(\u001B[49m\u001B[43mcasted_key\u001B[49m\u001B[43m)\u001B[49m\n\u001B[1;32m   3622\u001B[0m \u001B[38;5;28;01mexcept\u001B[39;00m \u001B[38;5;167;01mKeyError\u001B[39;00m \u001B[38;5;28;01mas\u001B[39;00m err:\n",
      "File \u001B[0;32mpandas/_libs/index.pyx:136\u001B[0m, in \u001B[0;36mpandas._libs.index.IndexEngine.get_loc\u001B[0;34m()\u001B[0m\n",
      "File \u001B[0;32mpandas/_libs/index.pyx:163\u001B[0m, in \u001B[0;36mpandas._libs.index.IndexEngine.get_loc\u001B[0;34m()\u001B[0m\n",
      "File \u001B[0;32mpandas/_libs/hashtable_class_helper.pxi:5198\u001B[0m, in \u001B[0;36mpandas._libs.hashtable.PyObjectHashTable.get_item\u001B[0;34m()\u001B[0m\n",
      "File \u001B[0;32mpandas/_libs/hashtable_class_helper.pxi:5206\u001B[0m, in \u001B[0;36mpandas._libs.hashtable.PyObjectHashTable.get_item\u001B[0;34m()\u001B[0m\n",
      "\u001B[0;31mKeyError\u001B[0m: 'R02434__chlo'",
      "\nThe above exception was the direct cause of the following exception:\n",
      "\u001B[0;31mKeyError\u001B[0m                                  Traceback (most recent call last)",
      "Input \u001B[0;32mIn [5]\u001B[0m, in \u001B[0;36m<cell line: 1>\u001B[0;34m()\u001B[0m\n\u001B[0;32m----> 1\u001B[0m \u001B[43mintegration_nd\u001B[49m\u001B[38;5;241;43m.\u001B[39;49m\u001B[43mfva\u001B[49m\u001B[43m(\u001B[49m\u001B[38;5;124;43m'\u001B[39;49m\u001B[38;5;124;43mnd_fva\u001B[39;49m\u001B[38;5;124;43m'\u001B[39;49m\u001B[43m,\u001B[49m\u001B[38;5;124;43m'\u001B[39;49m\u001B[38;5;124;43mdata/outputs/fva/\u001B[39;49m\u001B[38;5;124;43m'\u001B[39;49m\u001B[43m)\u001B[49m\n",
      "File \u001B[0;32m~/Documents/GitHub/bioinformatics-project/src/integration.py:139\u001B[0m, in \u001B[0;36mIntegration.fva\u001B[0;34m(self, file_name, path, fva, fraction_of_optimum, loopless, **kwargs)\u001B[0m\n\u001B[1;32m    137\u001B[0m     writer\u001B[38;5;241m.\u001B[39mwriterow([\u001B[38;5;124m'\u001B[39m\u001B[38;5;124m \u001B[39m\u001B[38;5;124m'\u001B[39m \u001B[38;5;124m'\u001B[39m\u001B[38;5;124mfluxes\u001B[39m\u001B[38;5;124m'\u001B[39m \u001B[38;5;124m'\u001B[39m\u001B[38;5;124mreduced_costs\u001B[39m\u001B[38;5;124m'\u001B[39m])\n\u001B[1;32m    138\u001B[0m     \u001B[38;5;28;01mfor\u001B[39;00m reaction \u001B[38;5;129;01min\u001B[39;00m \u001B[38;5;28mself\u001B[39m\u001B[38;5;241m.\u001B[39mmodel\u001B[38;5;241m.\u001B[39mreactions:\n\u001B[0;32m--> 139\u001B[0m         writer\u001B[38;5;241m.\u001B[39mwriterow([reaction\u001B[38;5;241m.\u001B[39mid, \u001B[43mfva_soltuion\u001B[49m\u001B[43m[\u001B[49m\u001B[43mreaction\u001B[49m\u001B[38;5;241;43m.\u001B[39;49m\u001B[43mid\u001B[49m\u001B[43m]\u001B[49m, fva_soltuion\u001B[38;5;241m.\u001B[39mfluxes[reaction\u001B[38;5;241m.\u001B[39mid]])\n\u001B[1;32m    140\u001B[0m \u001B[38;5;28;01mif\u001B[39;00m fva_soltuion:\n\u001B[1;32m    141\u001B[0m     \u001B[38;5;28mprint\u001B[39m(\u001B[38;5;124mf\u001B[39m\u001B[38;5;124m\"\u001B[39m\u001B[38;5;124mFVA solution saved as csv file at \u001B[39m\u001B[38;5;132;01m{\u001B[39;00mpath\u001B[38;5;132;01m}\u001B[39;00m\u001B[38;5;124m\"\u001B[39m)\n",
      "File \u001B[0;32m~/Documents/GitHub/bioinformatics-project/venv/lib/python3.9/site-packages/pandas/core/frame.py:3505\u001B[0m, in \u001B[0;36mDataFrame.__getitem__\u001B[0;34m(self, key)\u001B[0m\n\u001B[1;32m   3503\u001B[0m \u001B[38;5;28;01mif\u001B[39;00m \u001B[38;5;28mself\u001B[39m\u001B[38;5;241m.\u001B[39mcolumns\u001B[38;5;241m.\u001B[39mnlevels \u001B[38;5;241m>\u001B[39m \u001B[38;5;241m1\u001B[39m:\n\u001B[1;32m   3504\u001B[0m     \u001B[38;5;28;01mreturn\u001B[39;00m \u001B[38;5;28mself\u001B[39m\u001B[38;5;241m.\u001B[39m_getitem_multilevel(key)\n\u001B[0;32m-> 3505\u001B[0m indexer \u001B[38;5;241m=\u001B[39m \u001B[38;5;28;43mself\u001B[39;49m\u001B[38;5;241;43m.\u001B[39;49m\u001B[43mcolumns\u001B[49m\u001B[38;5;241;43m.\u001B[39;49m\u001B[43mget_loc\u001B[49m\u001B[43m(\u001B[49m\u001B[43mkey\u001B[49m\u001B[43m)\u001B[49m\n\u001B[1;32m   3506\u001B[0m \u001B[38;5;28;01mif\u001B[39;00m is_integer(indexer):\n\u001B[1;32m   3507\u001B[0m     indexer \u001B[38;5;241m=\u001B[39m [indexer]\n",
      "File \u001B[0;32m~/Documents/GitHub/bioinformatics-project/venv/lib/python3.9/site-packages/pandas/core/indexes/base.py:3623\u001B[0m, in \u001B[0;36mIndex.get_loc\u001B[0;34m(self, key, method, tolerance)\u001B[0m\n\u001B[1;32m   3621\u001B[0m     \u001B[38;5;28;01mreturn\u001B[39;00m \u001B[38;5;28mself\u001B[39m\u001B[38;5;241m.\u001B[39m_engine\u001B[38;5;241m.\u001B[39mget_loc(casted_key)\n\u001B[1;32m   3622\u001B[0m \u001B[38;5;28;01mexcept\u001B[39;00m \u001B[38;5;167;01mKeyError\u001B[39;00m \u001B[38;5;28;01mas\u001B[39;00m err:\n\u001B[0;32m-> 3623\u001B[0m     \u001B[38;5;28;01mraise\u001B[39;00m \u001B[38;5;167;01mKeyError\u001B[39;00m(key) \u001B[38;5;28;01mfrom\u001B[39;00m \u001B[38;5;21;01merr\u001B[39;00m\n\u001B[1;32m   3624\u001B[0m \u001B[38;5;28;01mexcept\u001B[39;00m \u001B[38;5;167;01mTypeError\u001B[39;00m:\n\u001B[1;32m   3625\u001B[0m     \u001B[38;5;66;03m# If we have a listlike key, _check_indexing_error will raise\u001B[39;00m\n\u001B[1;32m   3626\u001B[0m     \u001B[38;5;66;03m#  InvalidIndexError. Otherwise we fall through and re-raise\u001B[39;00m\n\u001B[1;32m   3627\u001B[0m     \u001B[38;5;66;03m#  the TypeError.\u001B[39;00m\n\u001B[1;32m   3628\u001B[0m     \u001B[38;5;28mself\u001B[39m\u001B[38;5;241m.\u001B[39m_check_indexing_error(key)\n",
      "\u001B[0;31mKeyError\u001B[0m: 'R02434__chlo'"
     ]
    }
   ],
   "source": [
    "integration_nd.fva('nd_fva','data/outputs/fva/')"
   ],
   "metadata": {
    "collapsed": false,
    "pycharm": {
     "name": "#%%\n"
    }
   }
  },
  {
   "cell_type": "code",
   "execution_count": 6,
   "outputs": [],
   "source": [
    "import cobra\n",
    "\n",
    "nd_model = cobra.io.read_sbml_model('data/outputs/gems/nd_model.xml')\n",
    "\n",
    "wt_model = cobra.io.read_sbml_model('data/outputs/gems/wt_model.xml')"
   ],
   "metadata": {
    "collapsed": false,
    "pycharm": {
     "name": "#%%\n"
    }
   }
  },
  {
   "cell_type": "code",
   "execution_count": 12,
   "outputs": [],
   "source": [
    "fva_nd_model = cobra.flux_analysis.flux_variability_analysis(nd_model)\n",
    "fva_wt_model = cobra.flux_analysis.flux_variability_analysis(wt_model)\n",
    "\n",
    "pfba_nd_model = cobra.flux_analysis.parsimonious.pfba(nd_model)\n",
    "pfba_wt_model = cobra.flux_analysis.parsimonious.pfba(wt_model)"
   ],
   "metadata": {
    "collapsed": false,
    "pycharm": {
     "name": "#%%\n"
    }
   }
  },
  {
   "cell_type": "markdown",
   "source": [],
   "metadata": {
    "collapsed": false,
    "pycharm": {
     "name": "#%% md\n"
    }
   }
  },
  {
   "cell_type": "code",
   "execution_count": 8,
   "outputs": [],
   "source": [
    "# lower bound reaction EX_C00205__dra is -200\n",
    "\n",
    "models = [wt_model, nd_model]\n",
    "for model in models:\n",
    "    for reaction in model.reactions:\n",
    "        if reaction.id.startswith(\"PRISM\") and 'PRISM_solar_exo__extr' not in reaction.id:\n",
    "            reaction.bounds = (0,0)\n",
    "        if reaction.id == \"PRISM_solar_exo__extr\":\n",
    "            reaction.upper_bound = 1000\n",
    "        if reaction.id.startswith(\"DM_\"):\n",
    "            reaction.upper_bound = 1000"
   ],
   "metadata": {
    "collapsed": false,
    "pycharm": {
     "name": "#%%\n"
    }
   }
  },
  {
   "cell_type": "code",
   "execution_count": 9,
   "outputs": [],
   "source": [
    "import pandas as pd\n",
    "import csv as csv\n",
    "\n",
    "file_name = 'nd_fva_1.csv'\n",
    "path = 'data/outputs/fva/'\n",
    "\n",
    "#save fva solutions as csv\n",
    "with open(path + file_name, 'w') as csvfile:\n",
    "    writer = csv.writer(csvfile)\n",
    "    writer.writerow(['Reaction', 'Lower bound', 'Upper bound'])\n",
    "    for reaction in nd_model.reactions:\n",
    "        writer.writerow([reaction.id, reaction.lower_bound, reaction.upper_bound])"
   ],
   "metadata": {
    "collapsed": false,
    "pycharm": {
     "name": "#%%\n"
    }
   }
  },
  {
   "cell_type": "code",
   "execution_count": 10,
   "outputs": [],
   "source": [
    "file_name = 'wt_fva_1.csv'\n",
    "path = 'data/outputs/fva/'\n",
    "\n",
    "with open(path + file_name, 'w') as csvfile:\n",
    "    writer = csv.writer(csvfile)\n",
    "    writer.writerow(['Reaction', 'Lower bound', 'Upper bound'])\n",
    "    for reaction in wt_model.reactions:\n",
    "        writer.writerow([reaction.id, reaction.lower_bound, reaction.upper_bound])"
   ],
   "metadata": {
    "collapsed": false,
    "pycharm": {
     "name": "#%%\n"
    }
   }
  },
  {
   "cell_type": "code",
   "execution_count": 51,
   "outputs": [],
   "source": [
    "data = pd.DataFrame()\n",
    "data['flux_wt'] = pfba_wt_model.fluxes / pfba_wt_model.fluxes['e_Biomass__cytop']\n",
    "data['flux_nd'] = pfba_nd_model.fluxes / pfba_wt_model.fluxes['e_Biomass__cytop']\n",
    "\n",
    "data['ratio'] = data['flux_nd'] / data['flux_wt']\n"
   ],
   "metadata": {
    "collapsed": false,
    "pycharm": {
     "name": "#%%\n"
    }
   }
  },
  {
   "cell_type": "code",
   "execution_count": 53,
   "outputs": [
    {
     "data": {
      "text/plain": "                          flux_wt   flux_nd     ratio\nR02434__chlo             0.000000  0.000000       NaN\nT_L_Tyrosine_V2__mitmem  0.000051  0.000051  0.990909\nTR0011455_PLAS__ermem    0.000000  0.000000       NaN\nR01652__cytop            0.000000  0.000000       NaN\nR00243__mito            -1.516245 -0.393681  0.259642",
      "text/html": "<div>\n<style scoped>\n    .dataframe tbody tr th:only-of-type {\n        vertical-align: middle;\n    }\n\n    .dataframe tbody tr th {\n        vertical-align: top;\n    }\n\n    .dataframe thead th {\n        text-align: right;\n    }\n</style>\n<table border=\"1\" class=\"dataframe\">\n  <thead>\n    <tr style=\"text-align: right;\">\n      <th></th>\n      <th>flux_wt</th>\n      <th>flux_nd</th>\n      <th>ratio</th>\n    </tr>\n  </thead>\n  <tbody>\n    <tr>\n      <th>R02434__chlo</th>\n      <td>0.000000</td>\n      <td>0.000000</td>\n      <td>NaN</td>\n    </tr>\n    <tr>\n      <th>T_L_Tyrosine_V2__mitmem</th>\n      <td>0.000051</td>\n      <td>0.000051</td>\n      <td>0.990909</td>\n    </tr>\n    <tr>\n      <th>TR0011455_PLAS__ermem</th>\n      <td>0.000000</td>\n      <td>0.000000</td>\n      <td>NaN</td>\n    </tr>\n    <tr>\n      <th>R01652__cytop</th>\n      <td>0.000000</td>\n      <td>0.000000</td>\n      <td>NaN</td>\n    </tr>\n    <tr>\n      <th>R00243__mito</th>\n      <td>-1.516245</td>\n      <td>-0.393681</td>\n      <td>0.259642</td>\n    </tr>\n  </tbody>\n</table>\n</div>"
     },
     "execution_count": 53,
     "metadata": {},
     "output_type": "execute_result"
    }
   ],
   "source": [
    "data.head()"
   ],
   "metadata": {
    "collapsed": false,
    "pycharm": {
     "name": "#%%\n"
    }
   }
  },
  {
   "cell_type": "code",
   "execution_count": 54,
   "outputs": [],
   "source": [
    "data.to_csv('data/outputs/ratio/pfba_1_study_corrigido.csv')"
   ],
   "metadata": {
    "collapsed": false,
    "pycharm": {
     "name": "#%%\n"
    }
   }
  },
  {
   "cell_type": "code",
   "execution_count": 55,
   "outputs": [
    {
     "data": {
      "text/plain": "                     flux_wt       flux_nd  ratio\nR01373__chlo             0.0  8.526641e-02    inf\nT_Oxygen_V4__permem      0.0  3.613064e+00    inf\nR06286__chlo             0.0  9.739913e-02    inf\nT_NADtm__mitmem          0.0  1.133727e-16    inf\nPKS_C102__cytop          0.0  2.684760e-01    inf\n...                      ...           ...    ...\nR00893__cytop            0.0  0.000000e+00    NaN\nR05165__cytop            0.0  0.000000e+00    NaN\nR08270__chlo             0.0  0.000000e+00    NaN\nT_HMGCOAtm__mitmem       0.0  0.000000e+00    NaN\nR05052__chlo             0.0  0.000000e+00    NaN\n\n[3516 rows x 3 columns]",
      "text/html": "<div>\n<style scoped>\n    .dataframe tbody tr th:only-of-type {\n        vertical-align: middle;\n    }\n\n    .dataframe tbody tr th {\n        vertical-align: top;\n    }\n\n    .dataframe thead th {\n        text-align: right;\n    }\n</style>\n<table border=\"1\" class=\"dataframe\">\n  <thead>\n    <tr style=\"text-align: right;\">\n      <th></th>\n      <th>flux_wt</th>\n      <th>flux_nd</th>\n      <th>ratio</th>\n    </tr>\n  </thead>\n  <tbody>\n    <tr>\n      <th>R01373__chlo</th>\n      <td>0.0</td>\n      <td>8.526641e-02</td>\n      <td>inf</td>\n    </tr>\n    <tr>\n      <th>T_Oxygen_V4__permem</th>\n      <td>0.0</td>\n      <td>3.613064e+00</td>\n      <td>inf</td>\n    </tr>\n    <tr>\n      <th>R06286__chlo</th>\n      <td>0.0</td>\n      <td>9.739913e-02</td>\n      <td>inf</td>\n    </tr>\n    <tr>\n      <th>T_NADtm__mitmem</th>\n      <td>0.0</td>\n      <td>1.133727e-16</td>\n      <td>inf</td>\n    </tr>\n    <tr>\n      <th>PKS_C102__cytop</th>\n      <td>0.0</td>\n      <td>2.684760e-01</td>\n      <td>inf</td>\n    </tr>\n    <tr>\n      <th>...</th>\n      <td>...</td>\n      <td>...</td>\n      <td>...</td>\n    </tr>\n    <tr>\n      <th>R00893__cytop</th>\n      <td>0.0</td>\n      <td>0.000000e+00</td>\n      <td>NaN</td>\n    </tr>\n    <tr>\n      <th>R05165__cytop</th>\n      <td>0.0</td>\n      <td>0.000000e+00</td>\n      <td>NaN</td>\n    </tr>\n    <tr>\n      <th>R08270__chlo</th>\n      <td>0.0</td>\n      <td>0.000000e+00</td>\n      <td>NaN</td>\n    </tr>\n    <tr>\n      <th>T_HMGCOAtm__mitmem</th>\n      <td>0.0</td>\n      <td>0.000000e+00</td>\n      <td>NaN</td>\n    </tr>\n    <tr>\n      <th>R05052__chlo</th>\n      <td>0.0</td>\n      <td>0.000000e+00</td>\n      <td>NaN</td>\n    </tr>\n  </tbody>\n</table>\n<p>3516 rows × 3 columns</p>\n</div>"
     },
     "execution_count": 55,
     "metadata": {},
     "output_type": "execute_result"
    }
   ],
   "source": [
    "data.sort_values(by='ratio', ascending=False)"
   ],
   "metadata": {
    "collapsed": false,
    "pycharm": {
     "name": "#%%\n"
    }
   }
  },
  {
   "cell_type": "code",
   "execution_count": 56,
   "outputs": [],
   "source": [
    "data = data.dropna()"
   ],
   "metadata": {
    "collapsed": false,
    "pycharm": {
     "name": "#%%\n"
    }
   }
  },
  {
   "cell_type": "code",
   "execution_count": null,
   "outputs": [],
   "source": [
    "data.sort_values(by='ratio', ascending=False)"
   ],
   "metadata": {
    "collapsed": false,
    "pycharm": {
     "name": "#%%\n",
     "is_executing": true
    }
   }
  },
  {
   "cell_type": "code",
   "execution_count": 67,
   "outputs": [],
   "source": [
    "data['ratio_100'] = data['ratio'] * 100"
   ],
   "metadata": {
    "collapsed": false,
    "pycharm": {
     "name": "#%%\n"
    }
   }
  },
  {
   "cell_type": "code",
   "execution_count": null,
   "outputs": [],
   "source": [
    "data.sort_values(by='ratio_100', ascending=False)"
   ],
   "metadata": {
    "collapsed": false,
    "pycharm": {
     "name": "#%%\n",
     "is_executing": true
    }
   }
  },
  {
   "cell_type": "code",
   "execution_count": 96,
   "outputs": [],
   "source": [
    "data['ratio'] = abs(data['ratio'])"
   ],
   "metadata": {
    "collapsed": false,
    "pycharm": {
     "name": "#%%\n"
    }
   }
  },
  {
   "cell_type": "code",
   "execution_count": null,
   "outputs": [],
   "source": [
    "data = data.loc[round(data[\"flux_wt\"],4) != round(data[\"flux_nd\"],4)]\n",
    "\n",
    "data"
   ],
   "metadata": {
    "collapsed": false,
    "pycharm": {
     "name": "#%%\n",
     "is_executing": true
    }
   }
  },
  {
   "cell_type": "code",
   "execution_count": 99,
   "outputs": [],
   "source": [
    "# filter dataframe grab those that have more than 125% at ratio_100 (overexpressed)\n",
    "data_125 = data[data['ratio_100'] > 125]\n",
    "\n",
    "# grab those that have less than 75% at ratio_100 (underexpressed)\n",
    "data_75 = data[data['ratio_100'] < 75]"
   ],
   "metadata": {
    "collapsed": false,
    "pycharm": {
     "name": "#%%\n"
    }
   }
  },
  {
   "cell_type": "code",
   "execution_count": 74,
   "outputs": [],
   "source": [
    "# sort matrix by ratio_100\n",
    "data_125 = data_125.sort_values(by='ratio_100', ascending=False)"
   ],
   "metadata": {
    "collapsed": false,
    "pycharm": {
     "name": "#%%\n"
    }
   }
  },
  {
   "cell_type": "code",
   "execution_count": 100,
   "outputs": [],
   "source": [
    "data_75 = data_75.sort_values(by='ratio_100', ascending=False)"
   ],
   "metadata": {
    "collapsed": false,
    "pycharm": {
     "name": "#%%\n"
    }
   }
  },
  {
   "cell_type": "code",
   "execution_count": 101,
   "outputs": [],
   "source": [
    "# save both files\n",
    "\n",
    "data_125.to_csv('data/outputs/ratio/pfba_1_study_overexpressed.csv')\n",
    "data_75.to_csv('data/outputs/ratio/pfba_1_study_underexpressed.csv')"
   ],
   "metadata": {
    "collapsed": false,
    "pycharm": {
     "name": "#%%\n"
    }
   }
  },
  {
   "cell_type": "code",
   "execution_count": null,
   "outputs": [],
   "source": [
    "data_filt = data.loc[(data[\"ratio\"] <25) | (data_diff[\"ratio\"] > 125)]"
   ],
   "metadata": {
    "collapsed": false,
    "pycharm": {
     "name": "#%%\n"
    }
   }
  },
  {
   "cell_type": "code",
   "execution_count": 61,
   "outputs": [],
   "source": [
    "# save data as csv\n",
    "data.to_csv('data/outputs/ratio/pfba_1_study_corrigido_sorted.csv')"
   ],
   "metadata": {
    "collapsed": false,
    "pycharm": {
     "name": "#%%\n"
    }
   }
  },
  {
   "cell_type": "code",
   "execution_count": 62,
   "outputs": [],
   "source": [
    "# grab only those reactions with a ratio greater than 25 at ratio_100\n",
    "greater_25_new = pd.DataFrame(data[data['ratio_100'] > 25])"
   ],
   "metadata": {
    "collapsed": false,
    "pycharm": {
     "name": "#%%\n"
    }
   }
  },
  {
   "cell_type": "code",
   "execution_count": 64,
   "outputs": [],
   "source": [
    "# sort the matrix by ratio_100\n",
    "final_data = greater_25_new.sort_values(by='ratio_100', ascending=False)"
   ],
   "metadata": {
    "collapsed": false,
    "pycharm": {
     "name": "#%%\n"
    }
   }
  },
  {
   "cell_type": "code",
   "execution_count": 66,
   "outputs": [],
   "source": [
    "# abs ratio\n",
    "final_data['ratio'] = final_data['ratio'].abs()\n"
   ],
   "metadata": {
    "collapsed": false,
    "pycharm": {
     "name": "#%%\n"
    }
   }
  },
  {
   "cell_type": "code",
   "execution_count": 65,
   "outputs": [],
   "source": [
    "# save great final_data\n",
    "final_data.to_csv('data/outputs/ratio/pfba_study1_final.csv')"
   ],
   "metadata": {
    "collapsed": false,
    "pycharm": {
     "name": "#%%\n"
    }
   }
  },
  {
   "cell_type": "code",
   "execution_count": 26,
   "outputs": [
    {
     "data": {
      "text/plain": "149"
     },
     "execution_count": 26,
     "metadata": {},
     "output_type": "execute_result"
    }
   ],
   "source": [
    "#grab index of R00833__mito\n",
    "data.index.get_loc('R00833__mito')"
   ],
   "metadata": {
    "collapsed": false,
    "pycharm": {
     "name": "#%%\n"
    }
   }
  },
  {
   "cell_type": "code",
   "execution_count": 32,
   "outputs": [],
   "source": [
    "great_25_final = data.iloc[0:150]"
   ],
   "metadata": {
    "collapsed": false,
    "pycharm": {
     "name": "#%%\n"
    }
   }
  },
  {
   "cell_type": "code",
   "execution_count": 34,
   "outputs": [
    {
     "data": {
      "text/plain": "                              flux_wt       flux_nd     ratio   ratio_100\nT_L_Tyrosine_V2__mitmem  5.100750e-05  5.054380e-05  1.009174  100.917432\nR00243__mito            -1.516245e+00 -3.936812e-01  3.851454  385.145420\nPKS_C204__cytop          1.628888e-02  6.284723e-02  0.259182   25.918212\nR00848__mito             6.123937e-01  4.711805e-01  1.299701  129.970082\nT_CoA___chlomem          4.318960e-16 -1.727584e-16 -2.500000 -250.000000",
      "text/html": "<div>\n<style scoped>\n    .dataframe tbody tr th:only-of-type {\n        vertical-align: middle;\n    }\n\n    .dataframe tbody tr th {\n        vertical-align: top;\n    }\n\n    .dataframe thead th {\n        text-align: right;\n    }\n</style>\n<table border=\"1\" class=\"dataframe\">\n  <thead>\n    <tr style=\"text-align: right;\">\n      <th></th>\n      <th>flux_wt</th>\n      <th>flux_nd</th>\n      <th>ratio</th>\n      <th>ratio_100</th>\n    </tr>\n  </thead>\n  <tbody>\n    <tr>\n      <th>T_L_Tyrosine_V2__mitmem</th>\n      <td>5.100750e-05</td>\n      <td>5.054380e-05</td>\n      <td>1.009174</td>\n      <td>100.917432</td>\n    </tr>\n    <tr>\n      <th>R00243__mito</th>\n      <td>-1.516245e+00</td>\n      <td>-3.936812e-01</td>\n      <td>3.851454</td>\n      <td>385.145420</td>\n    </tr>\n    <tr>\n      <th>PKS_C204__cytop</th>\n      <td>1.628888e-02</td>\n      <td>6.284723e-02</td>\n      <td>0.259182</td>\n      <td>25.918212</td>\n    </tr>\n    <tr>\n      <th>R00848__mito</th>\n      <td>6.123937e-01</td>\n      <td>4.711805e-01</td>\n      <td>1.299701</td>\n      <td>129.970082</td>\n    </tr>\n    <tr>\n      <th>T_CoA___chlomem</th>\n      <td>4.318960e-16</td>\n      <td>-1.727584e-16</td>\n      <td>-2.500000</td>\n      <td>-250.000000</td>\n    </tr>\n  </tbody>\n</table>\n</div>"
     },
     "execution_count": 34,
     "metadata": {},
     "output_type": "execute_result"
    }
   ],
   "source": [
    "data.head()"
   ],
   "metadata": {
    "collapsed": false,
    "pycharm": {
     "name": "#%%\n"
    }
   }
  },
  {
   "cell_type": "code",
   "execution_count": 37,
   "outputs": [
    {
     "data": {
      "text/plain": "                Unnamed: 0   flux_wt   flux_nd     ratio\n0             R02434__chlo  0.000000  0.000000       NaN\n1  T_L_Tyrosine_V2__mitmem  0.000051  0.000051  1.009174\n2    TR0011455_PLAS__ermem  0.000000  0.000000       NaN\n3            R01652__cytop  0.000000  0.000000       NaN\n4             R00243__mito -1.516245 -0.393681  3.851454",
      "text/html": "<div>\n<style scoped>\n    .dataframe tbody tr th:only-of-type {\n        vertical-align: middle;\n    }\n\n    .dataframe tbody tr th {\n        vertical-align: top;\n    }\n\n    .dataframe thead th {\n        text-align: right;\n    }\n</style>\n<table border=\"1\" class=\"dataframe\">\n  <thead>\n    <tr style=\"text-align: right;\">\n      <th></th>\n      <th>Unnamed: 0</th>\n      <th>flux_wt</th>\n      <th>flux_nd</th>\n      <th>ratio</th>\n    </tr>\n  </thead>\n  <tbody>\n    <tr>\n      <th>0</th>\n      <td>R02434__chlo</td>\n      <td>0.000000</td>\n      <td>0.000000</td>\n      <td>NaN</td>\n    </tr>\n    <tr>\n      <th>1</th>\n      <td>T_L_Tyrosine_V2__mitmem</td>\n      <td>0.000051</td>\n      <td>0.000051</td>\n      <td>1.009174</td>\n    </tr>\n    <tr>\n      <th>2</th>\n      <td>TR0011455_PLAS__ermem</td>\n      <td>0.000000</td>\n      <td>0.000000</td>\n      <td>NaN</td>\n    </tr>\n    <tr>\n      <th>3</th>\n      <td>R01652__cytop</td>\n      <td>0.000000</td>\n      <td>0.000000</td>\n      <td>NaN</td>\n    </tr>\n    <tr>\n      <th>4</th>\n      <td>R00243__mito</td>\n      <td>-1.516245</td>\n      <td>-0.393681</td>\n      <td>3.851454</td>\n    </tr>\n  </tbody>\n</table>\n</div>"
     },
     "execution_count": 37,
     "metadata": {},
     "output_type": "execute_result"
    }
   ],
   "source": [
    "data_p = pd.read_csv('data/outputs/ratio/pfba_1_study.csv')\n",
    "data_p.head()"
   ],
   "metadata": {
    "collapsed": false,
    "pycharm": {
     "name": "#%%\n"
    }
   }
  },
  {
   "cell_type": "code",
   "execution_count": 48,
   "outputs": [],
   "source": [
    "data_new = pd.read_csv('data/outputs/ratio/pfba_1_study.csv')"
   ],
   "metadata": {
    "collapsed": false,
    "pycharm": {
     "name": "#%%\n"
    }
   }
  },
  {
   "cell_type": "code",
   "execution_count": 50,
   "outputs": [],
   "source": [
    "data_new = data_new.dropna()"
   ],
   "metadata": {
    "collapsed": false,
    "pycharm": {
     "name": "#%%\n"
    }
   }
  },
  {
   "cell_type": "code",
   "execution_count": 2,
   "outputs": [],
   "source": [
    "def getPatwhaysMap(model):\n",
    "    res = {}\n",
    "    for pathway in model.groups:\n",
    "        for reaction in pathway.members:\n",
    "            if reaction.id not in res.keys():\n",
    "                res[reaction.id] = [pathway.name]\n",
    "            else:\n",
    "                res[reaction.id].append(pathway.name)\n",
    "    return res"
   ],
   "metadata": {
    "collapsed": false,
    "pycharm": {
     "name": "#%%\n"
    }
   }
  },
  {
   "cell_type": "code",
   "execution_count": 102,
   "outputs": [],
   "source": [
    "dic_reactions = getPatwhaysMap(wt_model)\n",
    "\n",
    "data_overexpressed = pd.read_csv('data/outputs/ratio/pfba_1_study_overexpressed.csv')\n",
    "\n",
    "data_underexpressed = pd.read_csv('data/outputs/ratio/pfba_1_study_underexpressed.csv')"
   ],
   "metadata": {
    "collapsed": false,
    "pycharm": {
     "name": "#%%\n"
    }
   }
  },
  {
   "cell_type": "code",
   "execution_count": 103,
   "outputs": [],
   "source": [
    "# list id of reactions that are overexpressed it is the first column of the csv file\n",
    "\n",
    "overexpressed = []\n",
    "for i in range(len(data_overexpressed)):\n",
    "    overexpressed.append(data_overexpressed.iloc[i,0])\n"
   ],
   "metadata": {
    "collapsed": false,
    "pycharm": {
     "name": "#%%\n"
    }
   }
  },
  {
   "cell_type": "code",
   "execution_count": 104,
   "outputs": [
    {
     "data": {
      "text/plain": "195"
     },
     "execution_count": 104,
     "metadata": {},
     "output_type": "execute_result"
    }
   ],
   "source": [
    "len(overexpressed)"
   ],
   "metadata": {
    "collapsed": false,
    "pycharm": {
     "name": "#%%\n"
    }
   }
  },
  {
   "cell_type": "code",
   "execution_count": 105,
   "outputs": [],
   "source": [
    "underexpressed = []\n",
    "for i in range(len(data_underexpressed)):\n",
    "    underexpressed.append(data_underexpressed.iloc[i,0])"
   ],
   "metadata": {
    "collapsed": false,
    "pycharm": {
     "name": "#%%\n"
    }
   }
  },
  {
   "cell_type": "code",
   "execution_count": 106,
   "outputs": [
    {
     "data": {
      "text/plain": "213"
     },
     "execution_count": 106,
     "metadata": {},
     "output_type": "execute_result"
    }
   ],
   "source": [
    "len(underexpressed)"
   ],
   "metadata": {
    "collapsed": false,
    "pycharm": {
     "name": "#%%\n"
    }
   }
  },
  {
   "cell_type": "code",
   "execution_count": 107,
   "outputs": [],
   "source": [
    "path_map = getPatwhaysMap(wt_model)\n",
    "pathways = []\n",
    "for pathway in model.groups:\n",
    "    pathways.append(pathway.name)\n",
    "res = {}\n",
    "for key, value in path_map.items():\n",
    "    if key in overexpressed:\n",
    "        for reaction_path in value:\n",
    "            if reaction_path in res.keys():\n",
    "                res[reaction_path] += 1\n",
    "            else:\n",
    "                res[reaction_path] = 1"
   ],
   "metadata": {
    "collapsed": false,
    "pycharm": {
     "name": "#%%\n"
    }
   }
  },
  {
   "cell_type": "code",
   "execution_count": 108,
   "outputs": [
    {
     "name": "stdout",
     "output_type": "stream",
     "text": [
      "[('Transporters pathway', 36), ('Biosynthesis of amino acids', 25), ('Fatty acid metabolism', 20), ('Fatty acid biosynthesis', 20), ('Biosynthesis of unsaturated fatty acids', 19), ('Carbon fixation in photosynthetic organisms', 18), ('PKS system', 18), ('Glycolysis / Gluconeogenesis', 15), ('Pyruvate metabolism', 13), ('Citrate cycle (TCA cycle)', 12), ('Drains pathway', 12), ('Glyoxylate and dicarboxylate metabolism', 8), ('2-Oxocarboxylic acid metabolism', 8), ('Biosynthesis of cofactors', 7), ('Pentose phosphate pathway', 7), ('Pyrimidine metabolism', 7), ('Alanine, aspartate and glutamate metabolism', 6), ('Carbon fixation pathways in prokaryotes', 6), ('Fructose and mannose metabolism', 5), ('Photosynthesis', 5), ('Methane metabolism', 4), ('One carbon pool by folate', 3), ('Glycerophospholipid metabolism', 3), ('Propanoate metabolism', 3), ('Arginine biosynthesis', 3), ('Nitrogen metabolism', 3), ('Cysteine and methionine metabolism', 3), ('Glutathione metabolism', 3), ('Lysine degradation', 3), ('Glycine, serine and threonine metabolism', 2), ('Glycerolipid metabolism', 2), ('Inositol phosphate metabolism', 2), ('Valine, leucine and isoleucine degradation', 2), ('Arginine and proline metabolism', 2), ('Phenylalanine, tyrosine and tryptophan biosynthesis', 2), ('Purine metabolism', 2), ('Oxidative phosphorylation', 2), ('Fatty acid degradation', 2), ('Spontaneous', 2), ('Carotenoid biosynthesis', 2), ('Porphyrin and chlorophyll metabolism', 2), ('Cyanoamino acid metabolism', 1), ('Butanoate metabolism', 1), ('Pentose and glucuronate interconversions', 1), ('Carbapenem biosynthesis', 1), ('Valine, leucine and isoleucine biosynthesis', 1), ('Pantothenate and CoA biosynthesis', 1), ('Glucosinolate biosynthesis', 1), ('Taurine and hypotaurine metabolism', 1), ('D-Glutamine and D-glutamate metabolism', 1), ('Novobiocin biosynthesis', 1), ('Fatty acid elongation', 1), ('Nicotinate and nicotinamide metabolism', 1), ('Spectral decomposition', 1), ('Aflatoxin biosynthesis', 1)]\n"
     ]
    }
   ],
   "source": [
    "\n",
    "sorted_res = sorted(res.items(), key=lambda x: x[1], reverse=True)\n",
    "print(sorted_res)\n"
   ],
   "metadata": {
    "collapsed": false,
    "pycharm": {
     "name": "#%%\n"
    }
   }
  },
  {
   "cell_type": "code",
   "execution_count": 110,
   "outputs": [
    {
     "name": "stdout",
     "output_type": "stream",
     "text": [
      "[('Transporters pathway', 59), ('Fatty acid metabolism', 49), ('Fatty acid biosynthesis', 38), ('Glycolysis / Gluconeogenesis', 16), ('Biosynthesis of amino acids', 16), ('Valine, leucine and isoleucine degradation', 13), ('Pentose phosphate pathway', 12), ('Carbon fixation in photosynthetic organisms', 11), ('Pyruvate metabolism', 10), ('Biosynthesis of unsaturated fatty acids', 10), ('Carbon fixation pathways in prokaryotes', 7), ('Biosynthesis of cofactors', 7), ('2-Oxocarboxylic acid metabolism', 6), ('Citrate cycle (TCA cycle)', 5), ('Alanine, aspartate and glutamate metabolism', 5), ('Phenylalanine, tyrosine and tryptophan biosynthesis', 5), ('Purine metabolism', 5), ('Glyoxylate and dicarboxylate metabolism', 4), ('Amino sugar and nucleotide sugar metabolism', 4), ('Glycine, serine and threonine metabolism', 4), ('Glutathione metabolism', 4), ('Propanoate metabolism', 3), ('Methane metabolism', 3), ('Glycerolipid metabolism', 3), ('Glycerophospholipid metabolism', 3), ('Fructose and mannose metabolism', 3), ('Arginine biosynthesis', 3), ('Cysteine and methionine metabolism', 3), ('Oxidative phosphorylation', 3), ('Drains pathway', 3), ('One carbon pool by folate', 3), ('Galactose metabolism', 2), ('Pentose and glucuronate interconversions', 2), ('Butanoate metabolism', 2), ('Tyrosine metabolism', 2), ('Phenylalanine metabolism', 2), ('Valine, leucine and isoleucine biosynthesis', 2), ('Pantothenate and CoA biosynthesis', 2), ('Glucosinolate biosynthesis', 2), ('Nitrogen metabolism', 2), ('Carotenoid biosynthesis', 2), ('Pyrimidine metabolism', 2), ('Porphyrin and chlorophyll metabolism', 2), ('Starch and sucrose metabolism', 1), ('O-Antigen nucleotide sugar biosynthesis', 1), ('Nicotinate and nicotinamide metabolism', 1), ('Tropane, piperidine and pyridine alkaloid biosynthesis', 1), ('Vitamin B6 metabolism', 1), ('Taurine and hypotaurine metabolism', 1), ('D-Glutamine and D-glutamate metabolism', 1), ('Folate biosynthesis', 1), ('Novobiocin biosynthesis', 1), ('Isoquinoline alkaloid biosynthesis', 1), ('Ubiquinone and other terpenoid-quinone biosynthesis', 1), ('Aflatoxin biosynthesis', 1), ('Ascorbate and aldarate metabolism', 1)]\n"
     ]
    }
   ],
   "source": [
    "path_map = getPatwhaysMap(wt_model)\n",
    "pathways = []\n",
    "for pathway in model.groups:\n",
    "    pathways.append(pathway.name)\n",
    "res = {}\n",
    "for key, value in path_map.items():\n",
    "    if key in underexpressed:\n",
    "        for reaction_path in value:\n",
    "            if reaction_path in res.keys():\n",
    "                res[reaction_path] += 1\n",
    "            else:\n",
    "                res[reaction_path] = 1\n",
    "\n",
    "sorted_res = sorted(res.items(), key=lambda x: x[1], reverse=True)\n",
    "print(sorted_res)"
   ],
   "metadata": {
    "collapsed": false,
    "pycharm": {
     "name": "#%%\n"
    }
   }
  },
  {
   "cell_type": "code",
   "execution_count": 115,
   "outputs": [
    {
     "name": "stdout",
     "output_type": "stream",
     "text": [
      "R01626__cytop\n",
      "R00742__cytop\n",
      "R04958__chlo\n",
      "R04954__cytop\n",
      "R04724__chlo\n",
      "R04966__chlo\n",
      "R04429__cytop\n",
      "R04952__cytop\n",
      "R00390__chlo\n",
      "R04955__chlo\n",
      "R04969__chlo\n",
      "R04533__cytop\n",
      "R04429__chlo\n",
      "R04953__cytop\n",
      "R04428__cytop\n",
      "R01624__cytop\n",
      "R04961__chlo\n",
      "R04355__cytop\n",
      "R01280__mito\n",
      "R04955__cytop\n"
     ]
    }
   ],
   "source": [
    "# print reactions related to fatty acid biosynthesis at overexpressed list\n",
    "for i in range(len(overexpressed)):\n",
    "    if overexpressed[i] in path_map.keys():\n",
    "        if 'Fatty acid biosynthesis' in path_map[overexpressed[i]]:\n",
    "            print(overexpressed[i])\n",
    "\n"
   ],
   "metadata": {
    "collapsed": false,
    "pycharm": {
     "name": "#%%\n"
    }
   }
  },
  {
   "cell_type": "code",
   "execution_count": 118,
   "outputs": [
    {
     "name": "stdout",
     "output_type": "stream",
     "text": [
      "R10707__chlo\n",
      "R04726__chlo\n",
      "R04957__chlo\n",
      "R04963__chlo\n",
      "R04954__chlo\n",
      "R04952__chlo\n",
      "R04964__chlo\n",
      "R04537__chlo\n",
      "R04953__chlo\n",
      "R04536__chlo\n",
      "R04534__chlo\n",
      "R04568__chlo\n",
      "R04533__chlo\n",
      "R04566__chlo\n",
      "R04960__chlo\n",
      "R04428__chlo\n",
      "R04535__chlo\n",
      "R04965__chlo\n",
      "R04543__chlo\n",
      "R04968__chlo\n",
      "R04544__chlo\n",
      "R01626__chlo\n",
      "R00742__chlo\n",
      "R07763__chlo\n",
      "R07764__chlo\n",
      "R07765__chlo\n",
      "R07762__chlo\n",
      "R04970__chlo\n",
      "R04959__chlo\n",
      "R04725__chlo\n",
      "R04967__chlo\n",
      "R04430__chlo\n",
      "R04956__chlo\n",
      "R04962__chlo\n",
      "R08163__chlo\n",
      "R00390__e_r_\n",
      "RXN_16380__e_r_\n",
      "RXN_16380__mito\n"
     ]
    }
   ],
   "source": [
    "under_fatty = []\n",
    "for i in range(len(underexpressed)):\n",
    "    if underexpressed[i] in path_map.keys():\n",
    "\n",
    "        if 'Fatty acid biosynthesis' in path_map[underexpressed[i]]:\n",
    "            under_fatty.append(underexpressed[i])\n",
    "            print(underexpressed[i])"
   ],
   "metadata": {
    "collapsed": false,
    "pycharm": {
     "name": "#%%\n"
    }
   }
  },
  {
   "cell_type": "code",
   "execution_count": 120,
   "outputs": [],
   "source": [
    "# new study! ~~~~~\n",
    "#c5a- control, n5a - nitrogen deprivation, p5a - phosphorus deprivation"
   ],
   "metadata": {
    "collapsed": false,
    "pycharm": {
     "name": "#%%\n"
    }
   }
  },
  {
   "cell_type": "code",
   "execution_count": 5,
   "outputs": [
    {
     "name": "stdout",
     "output_type": "stream",
     "text": [
      "Scaling...\n",
      " A: min|aij| =  1.000e+00  max|aij| =  1.000e+00  ratio =  1.000e+00\n",
      "Problem data seem to be well scaled\n"
     ]
    }
   ],
   "source": [
    "import cobra\n",
    "import pandas as pd\n",
    "model_c5a = cobra.io.read_sbml_model('data/outputs/gems/c5a_model.xml')\n",
    "model_n5a = cobra.io.read_sbml_model('data/outputs/gems/n5a_model.xml')\n",
    "model_p5a = cobra.io.read_sbml_model('data/outputs/gems/p5a_model.xml')"
   ],
   "metadata": {
    "collapsed": false,
    "pycharm": {
     "name": "#%%\n"
    }
   }
  },
  {
   "cell_type": "code",
   "execution_count": 124,
   "outputs": [],
   "source": [
    "fva_c5a = cobra.flux_analysis.flux_variability_analysis(model_c5a)\n",
    "fva_n5a = cobra.flux_analysis.flux_variability_analysis(model_n5a)\n",
    "fva_p5a = cobra.flux_analysis.flux_variability_analysis(model_p5a)\n",
    "\n",
    "pfba_c5a = cobra.flux_analysis.parsimonious.pfba(model_c5a)\n",
    "pfba_n5a = cobra.flux_analysis.parsimonious.pfba(model_n5a)\n",
    "pfba_p5a = cobra.flux_analysis.parsimonious.pfba(model_p5a)"
   ],
   "metadata": {
    "collapsed": false,
    "pycharm": {
     "name": "#%%\n"
    }
   }
  },
  {
   "cell_type": "code",
   "execution_count": 6,
   "outputs": [],
   "source": [
    "models = [model_c5a, model_n5a, model_p5a]\n",
    "for model in models:\n",
    "    for reaction in model.reactions:\n",
    "        if reaction.id.startswith(\"PRISM\") and 'PRISM_solar_exo__extr' not in reaction.id:\n",
    "            reaction.bounds = (0,0)\n",
    "        if reaction.id == \"PRISM_solar_exo__extr\":\n",
    "            reaction.upper_bound = 1000\n",
    "        if reaction.id.startswith(\"DM_\"):\n",
    "            reaction.upper_bound = 1000"
   ],
   "metadata": {
    "collapsed": false,
    "pycharm": {
     "name": "#%%\n"
    }
   }
  },
  {
   "cell_type": "code",
   "execution_count": 130,
   "outputs": [],
   "source": [
    "fva_c5a.to_csv('data/outputs/fva/fva_c5a.csv')\n",
    "\n",
    "fva_n5a.to_csv('data/outputs/fva/fva_n5a.csv')\n",
    "\n",
    "fva_p5a.to_csv('data/outputs/fva/fva_p5a.csv')"
   ],
   "metadata": {
    "collapsed": false,
    "pycharm": {
     "name": "#%%\n"
    }
   }
  },
  {
   "cell_type": "code",
   "execution_count": 135,
   "outputs": [],
   "source": [
    "# save pfba solution as csv\n",
    "import pandas as pd\n",
    "import csv as csv\n",
    "\n",
    "data2 = pd.DataFrame()\n",
    "data2['flux_c5a'] = pfba_c5a.fluxes /  pfba_c5a.fluxes['e_Biomass__cytop']\n",
    "data2['flux_n5a'] = pfba_n5a.fluxes /  pfba_c5a.fluxes['e_Biomass__cytop']\n",
    "data2['flux_p5a'] = pfba_n5a.fluxes /  pfba_c5a.fluxes['e_Biomass__cytop']"
   ],
   "metadata": {
    "collapsed": false,
    "pycharm": {
     "name": "#%%\n"
    }
   }
  },
  {
   "cell_type": "code",
   "execution_count": 136,
   "outputs": [
    {
     "data": {
      "text/plain": "                         flux_c5a  flux_n5a  flux_p5a\nR02434__chlo             0.000000  0.000000  0.000000\nT_L_Tyrosine_V2__mitmem  0.000000  0.000051  0.000051\nTR0011455_PLAS__ermem    0.000000  0.000000  0.000000\nR01652__cytop            0.000000  0.000000  0.000000\nR00243__mito            -2.618671 -2.618671 -2.618671\n...                           ...       ...       ...\nR05165__cytop            0.000000  0.000000  0.000000\nR08270__chlo             0.000000  0.000000  0.000000\nT_HMGCOAtm__mitmem       0.000000  0.000000  0.000000\nEX_C00009__dra          -1.312195 -1.311704 -1.311704\nR05052__chlo             0.000000  0.000000  0.000000\n\n[3516 rows x 3 columns]",
      "text/html": "<div>\n<style scoped>\n    .dataframe tbody tr th:only-of-type {\n        vertical-align: middle;\n    }\n\n    .dataframe tbody tr th {\n        vertical-align: top;\n    }\n\n    .dataframe thead th {\n        text-align: right;\n    }\n</style>\n<table border=\"1\" class=\"dataframe\">\n  <thead>\n    <tr style=\"text-align: right;\">\n      <th></th>\n      <th>flux_c5a</th>\n      <th>flux_n5a</th>\n      <th>flux_p5a</th>\n    </tr>\n  </thead>\n  <tbody>\n    <tr>\n      <th>R02434__chlo</th>\n      <td>0.000000</td>\n      <td>0.000000</td>\n      <td>0.000000</td>\n    </tr>\n    <tr>\n      <th>T_L_Tyrosine_V2__mitmem</th>\n      <td>0.000000</td>\n      <td>0.000051</td>\n      <td>0.000051</td>\n    </tr>\n    <tr>\n      <th>TR0011455_PLAS__ermem</th>\n      <td>0.000000</td>\n      <td>0.000000</td>\n      <td>0.000000</td>\n    </tr>\n    <tr>\n      <th>R01652__cytop</th>\n      <td>0.000000</td>\n      <td>0.000000</td>\n      <td>0.000000</td>\n    </tr>\n    <tr>\n      <th>R00243__mito</th>\n      <td>-2.618671</td>\n      <td>-2.618671</td>\n      <td>-2.618671</td>\n    </tr>\n    <tr>\n      <th>...</th>\n      <td>...</td>\n      <td>...</td>\n      <td>...</td>\n    </tr>\n    <tr>\n      <th>R05165__cytop</th>\n      <td>0.000000</td>\n      <td>0.000000</td>\n      <td>0.000000</td>\n    </tr>\n    <tr>\n      <th>R08270__chlo</th>\n      <td>0.000000</td>\n      <td>0.000000</td>\n      <td>0.000000</td>\n    </tr>\n    <tr>\n      <th>T_HMGCOAtm__mitmem</th>\n      <td>0.000000</td>\n      <td>0.000000</td>\n      <td>0.000000</td>\n    </tr>\n    <tr>\n      <th>EX_C00009__dra</th>\n      <td>-1.312195</td>\n      <td>-1.311704</td>\n      <td>-1.311704</td>\n    </tr>\n    <tr>\n      <th>R05052__chlo</th>\n      <td>0.000000</td>\n      <td>0.000000</td>\n      <td>0.000000</td>\n    </tr>\n  </tbody>\n</table>\n<p>3516 rows × 3 columns</p>\n</div>"
     },
     "execution_count": 136,
     "metadata": {},
     "output_type": "execute_result"
    }
   ],
   "source": [
    "data2"
   ],
   "metadata": {
    "collapsed": false,
    "pycharm": {
     "name": "#%%\n"
    }
   }
  },
  {
   "cell_type": "code",
   "execution_count": 143,
   "outputs": [],
   "source": [
    "data3 = pd.DataFrame()\n",
    "\n",
    "# flux_c5a vs flux_n5a\n",
    "data3['flux_c5a'] = pfba_c5a.fluxes /  pfba_c5a.fluxes['e_Biomass__cytop']\n",
    "data3['flux_n5a'] = pfba_n5a.fluxes /  pfba_c5a.fluxes['e_Biomass__cytop']\n",
    "data3['ratio'] = data3['flux_n5a'] / data3['flux_c5a']\n",
    "\n",
    "data3['ratio'] = abs(data3['ratio'])\n",
    "data3['ratio_100'] = data3['ratio'] * 100"
   ],
   "metadata": {
    "collapsed": false,
    "pycharm": {
     "name": "#%%\n"
    }
   }
  },
  {
   "cell_type": "code",
   "execution_count": 179,
   "outputs": [
    {
     "data": {
      "text/plain": "                         flux_c5a  flux_n5a     ratio   ratio_100\nT_L_Tyrosine_V2__mitmem  0.000000  0.000051       inf         inf\nR00848__mito             1.372964  1.638747  1.193583  119.358339\nT_UDPG__chlomem         -0.754264 -0.881329  1.168463  116.846293\nR01626__chlo             7.377894  7.375132  0.999626   99.962561\nR00177__cytop            0.172174  0.172110  0.999626   99.962561",
      "text/html": "<div>\n<style scoped>\n    .dataframe tbody tr th:only-of-type {\n        vertical-align: middle;\n    }\n\n    .dataframe tbody tr th {\n        vertical-align: top;\n    }\n\n    .dataframe thead th {\n        text-align: right;\n    }\n</style>\n<table border=\"1\" class=\"dataframe\">\n  <thead>\n    <tr style=\"text-align: right;\">\n      <th></th>\n      <th>flux_c5a</th>\n      <th>flux_n5a</th>\n      <th>ratio</th>\n      <th>ratio_100</th>\n    </tr>\n  </thead>\n  <tbody>\n    <tr>\n      <th>T_L_Tyrosine_V2__mitmem</th>\n      <td>0.000000</td>\n      <td>0.000051</td>\n      <td>inf</td>\n      <td>inf</td>\n    </tr>\n    <tr>\n      <th>R00848__mito</th>\n      <td>1.372964</td>\n      <td>1.638747</td>\n      <td>1.193583</td>\n      <td>119.358339</td>\n    </tr>\n    <tr>\n      <th>T_UDPG__chlomem</th>\n      <td>-0.754264</td>\n      <td>-0.881329</td>\n      <td>1.168463</td>\n      <td>116.846293</td>\n    </tr>\n    <tr>\n      <th>R01626__chlo</th>\n      <td>7.377894</td>\n      <td>7.375132</td>\n      <td>0.999626</td>\n      <td>99.962561</td>\n    </tr>\n    <tr>\n      <th>R00177__cytop</th>\n      <td>0.172174</td>\n      <td>0.172110</td>\n      <td>0.999626</td>\n      <td>99.962561</td>\n    </tr>\n  </tbody>\n</table>\n</div>"
     },
     "execution_count": 179,
     "metadata": {},
     "output_type": "execute_result"
    }
   ],
   "source": [
    "# remove NaN values\n",
    "#data3 = data3.dropna()\n",
    "data3.head()"
   ],
   "metadata": {
    "collapsed": false,
    "pycharm": {
     "name": "#%%\n"
    }
   }
  },
  {
   "cell_type": "code",
   "execution_count": 149,
   "outputs": [],
   "source": [
    "# cleaning data3\n",
    "data3 = data3.loc[round(data3[\"flux_c5a\"],4) != round(data3[\"flux_n5a\"],4)]"
   ],
   "metadata": {
    "collapsed": false,
    "pycharm": {
     "name": "#%%\n"
    }
   }
  },
  {
   "cell_type": "code",
   "execution_count": 180,
   "outputs": [
    {
     "data": {
      "text/plain": "                         flux_c5a  flux_n5a     ratio   ratio_100\nT_L_Tyrosine_V2__mitmem  0.000000  0.000051       inf         inf\nR00848__mito             1.372964  1.638747  1.193583  119.358339\nT_UDPG__chlomem         -0.754264 -0.881329  1.168463  116.846293\nR01626__chlo             7.377894  7.375132  0.999626   99.962561\nR00177__cytop            0.172174  0.172110  0.999626   99.962561",
      "text/html": "<div>\n<style scoped>\n    .dataframe tbody tr th:only-of-type {\n        vertical-align: middle;\n    }\n\n    .dataframe tbody tr th {\n        vertical-align: top;\n    }\n\n    .dataframe thead th {\n        text-align: right;\n    }\n</style>\n<table border=\"1\" class=\"dataframe\">\n  <thead>\n    <tr style=\"text-align: right;\">\n      <th></th>\n      <th>flux_c5a</th>\n      <th>flux_n5a</th>\n      <th>ratio</th>\n      <th>ratio_100</th>\n    </tr>\n  </thead>\n  <tbody>\n    <tr>\n      <th>T_L_Tyrosine_V2__mitmem</th>\n      <td>0.000000</td>\n      <td>0.000051</td>\n      <td>inf</td>\n      <td>inf</td>\n    </tr>\n    <tr>\n      <th>R00848__mito</th>\n      <td>1.372964</td>\n      <td>1.638747</td>\n      <td>1.193583</td>\n      <td>119.358339</td>\n    </tr>\n    <tr>\n      <th>T_UDPG__chlomem</th>\n      <td>-0.754264</td>\n      <td>-0.881329</td>\n      <td>1.168463</td>\n      <td>116.846293</td>\n    </tr>\n    <tr>\n      <th>R01626__chlo</th>\n      <td>7.377894</td>\n      <td>7.375132</td>\n      <td>0.999626</td>\n      <td>99.962561</td>\n    </tr>\n    <tr>\n      <th>R00177__cytop</th>\n      <td>0.172174</td>\n      <td>0.172110</td>\n      <td>0.999626</td>\n      <td>99.962561</td>\n    </tr>\n  </tbody>\n</table>\n</div>"
     },
     "execution_count": 180,
     "metadata": {},
     "output_type": "execute_result"
    }
   ],
   "source": [
    "data3.head()"
   ],
   "metadata": {
    "collapsed": false,
    "pycharm": {
     "name": "#%%\n"
    }
   }
  },
  {
   "cell_type": "code",
   "execution_count": 151,
   "outputs": [],
   "source": [
    "data_125 = data3[data3['ratio_100'] > 125] # overexpressed\n",
    "\n",
    "# grab those that have less than 75% at ratio_100 (underexpressed)\n",
    "data_75 = data3[data3['ratio_100'] < 75]\n"
   ],
   "metadata": {
    "collapsed": false,
    "pycharm": {
     "name": "#%%\n"
    }
   }
  },
  {
   "cell_type": "code",
   "execution_count": 154,
   "outputs": [],
   "source": [
    "# sort data_125 by ratio_100\n",
    "data_125 = data_125.sort_values(by=['ratio_100'], ascending=False)"
   ],
   "metadata": {
    "collapsed": false,
    "pycharm": {
     "name": "#%%\n"
    }
   }
  },
  {
   "cell_type": "code",
   "execution_count": 155,
   "outputs": [],
   "source": [
    "data_75 = data_75.sort_values(by=['ratio_100'], ascending=False)"
   ],
   "metadata": {
    "collapsed": false,
    "pycharm": {
     "name": "#%%\n"
    }
   }
  },
  {
   "cell_type": "code",
   "execution_count": 156,
   "outputs": [],
   "source": [
    "data_125.to_csv('data/outputs/ratio/2study_c5a_n5a_overexpressed_pfba.csv')\n",
    "data_75.to_csv('data/outputs/ratio/2study_c5a_n5a_underexpressed_pfba.csv')"
   ],
   "metadata": {
    "collapsed": false,
    "pycharm": {
     "name": "#%%\n"
    }
   }
  },
  {
   "cell_type": "code",
   "execution_count": 7,
   "outputs": [],
   "source": [
    "dic_reactions2 = getPatwhaysMap(model_c5a)\n",
    "\n",
    "data_overexpressed = pd.read_csv('data/outputs/ratio/2study_c5a_n5a_overexpressed_pfba.csv')\n",
    "\n",
    "data_underexpressed = pd.read_csv('data/outputs/ratio/2study_c5a_n5a_underexpressed_pfba.csv')"
   ],
   "metadata": {
    "collapsed": false,
    "pycharm": {
     "name": "#%%\n"
    }
   }
  },
  {
   "cell_type": "code",
   "execution_count": 8,
   "outputs": [
    {
     "data": {
      "text/plain": "60"
     },
     "execution_count": 8,
     "metadata": {},
     "output_type": "execute_result"
    }
   ],
   "source": [
    "overexpressed = []\n",
    "for i in range(len(data_overexpressed)):\n",
    "    overexpressed.append(data_overexpressed.iloc[i,0])\n",
    "\n",
    "len(overexpressed)"
   ],
   "metadata": {
    "collapsed": false,
    "pycharm": {
     "name": "#%%\n"
    }
   }
  },
  {
   "cell_type": "code",
   "execution_count": 9,
   "outputs": [
    {
     "data": {
      "text/plain": "105"
     },
     "execution_count": 9,
     "metadata": {},
     "output_type": "execute_result"
    }
   ],
   "source": [
    "underexpressed = []\n",
    "for i in range(len(data_underexpressed)):\n",
    "    underexpressed.append(data_underexpressed.iloc[i,0])\n",
    "len(underexpressed)"
   ],
   "metadata": {
    "collapsed": false,
    "pycharm": {
     "name": "#%%\n"
    }
   }
  },
  {
   "cell_type": "code",
   "execution_count": 10,
   "outputs": [
    {
     "name": "stdout",
     "output_type": "stream",
     "text": [
      "[('Transporters pathway', 22), ('Biosynthesis of amino acids', 9), ('Glycolysis / Gluconeogenesis', 6), ('Pyruvate metabolism', 5), ('Biosynthesis of cofactors', 5), ('Glyoxylate and dicarboxylate metabolism', 4), ('Methane metabolism', 4), ('2-Oxocarboxylic acid metabolism', 4), ('Cysteine and methionine metabolism', 4), ('Alanine, aspartate and glutamate metabolism', 4), ('Valine, leucine and isoleucine degradation', 3), ('Citrate cycle (TCA cycle)', 3), ('Carbon fixation in photosynthetic organisms', 3), ('Arginine biosynthesis', 3), ('Purine metabolism', 3), ('Glycine, serine and threonine metabolism', 2), ('Carbon fixation pathways in prokaryotes', 2), ('Amino sugar and nucleotide sugar metabolism', 2), ('Galactose metabolism', 2), ('Pentose phosphate pathway', 2), ('Valine, leucine and isoleucine biosynthesis', 2), ('Pantothenate and CoA biosynthesis', 2), ('Glucosinolate biosynthesis', 2), ('Sulfur metabolism', 2), ('Nitrogen metabolism', 2), ('D-Glutamine and D-glutamate metabolism', 2), ('Fatty acid metabolism', 2), ('Fatty acid biosynthesis', 2), ('Cyanoamino acid metabolism', 1), ('One carbon pool by folate', 1), ('Glycerolipid metabolism', 1), ('Starch and sucrose metabolism', 1), ('Pentose and glucuronate interconversions', 1), ('O-Antigen nucleotide sugar biosynthesis', 1), ('Propanoate metabolism', 1), ('Biosynthesis of various secondary metabolites - part 3', 1), ('Taurine and hypotaurine metabolism', 1), ('Phenylalanine, tyrosine and tryptophan biosynthesis', 1), ('Tyrosine metabolism', 1), ('Novobiocin biosynthesis', 1), ('Isoquinoline alkaloid biosynthesis', 1), ('Ubiquinone and other terpenoid-quinone biosynthesis', 1), ('Glutathione metabolism', 1)]\n"
     ]
    }
   ],
   "source": [
    "path_map = getPatwhaysMap(model_c5a)\n",
    "pathways = []\n",
    "for pathway in model.groups:\n",
    "    pathways.append(pathway.name)\n",
    "res = {}\n",
    "for key, value in path_map.items():\n",
    "    if key in overexpressed:\n",
    "        for reaction_path in value:\n",
    "            if reaction_path in res.keys():\n",
    "                res[reaction_path] += 1\n",
    "            else:\n",
    "                res[reaction_path] = 1\n",
    "\n",
    "# print sorted by value\n",
    "sorted_res = sorted(res.items(), key=lambda x: x[1], reverse=True)\n",
    "print(sorted_res)"
   ],
   "metadata": {
    "collapsed": false,
    "pycharm": {
     "name": "#%%\n"
    }
   }
  },
  {
   "cell_type": "code",
   "execution_count": 17,
   "outputs": [
    {
     "name": "stdout",
     "output_type": "stream",
     "text": [
      "R00734__mito\n",
      "R01518__cytop\n",
      "R00355__cytop\n",
      "R01214__chlo\n",
      "R01214__cytop\n",
      "R01827__cytop\n",
      "R00945__mito\n",
      "R00586__cytop\n",
      "R00897__cytop\n"
     ]
    }
   ],
   "source": [
    "over_fatty = []\n",
    "for i in range(len(overexpressed)):\n",
    "    if overexpressed[i] in path_map.keys():\n",
    "\n",
    "        if 'Biosynthesis of amino acids' in path_map[overexpressed[i]]:\n",
    "            over_fatty.append(overexpressed[i])\n",
    "            print(overexpressed[i])\n"
   ],
   "metadata": {
    "collapsed": false,
    "pycharm": {
     "name": "#%%\n"
    }
   }
  },
  {
   "cell_type": "code",
   "execution_count": 166,
   "outputs": [
    {
     "name": "stdout",
     "output_type": "stream",
     "text": [
      "[('Transporters pathway', 27), ('Biosynthesis of amino acids', 12), ('Citrate cycle (TCA cycle)', 11), ('Pyrimidine metabolism', 10), ('Glyoxylate and dicarboxylate metabolism', 7), ('Carbon fixation pathways in prokaryotes', 7), ('Carbon fixation in photosynthetic organisms', 7), ('Pyruvate metabolism', 7), ('Glycine, serine and threonine metabolism', 6), ('2-Oxocarboxylic acid metabolism', 6), ('Purine metabolism', 6), ('Biosynthesis of cofactors', 6), ('Propanoate metabolism', 5), ('Glycolysis / Gluconeogenesis', 4), ('Alanine, aspartate and glutamate metabolism', 4), ('Nitrogen metabolism', 4), ('Carotenoid biosynthesis', 4), ('Arginine biosynthesis', 3), ('One carbon pool by folate', 3), ('Valine, leucine and isoleucine degradation', 2), ('Methane metabolism', 2), ('Arginine and proline metabolism', 2), ('Glutathione metabolism', 2), ('Oxidative phosphorylation', 2), ('Fatty acid metabolism', 2), ('Fatty acid biosynthesis', 2), ('Glycerophospholipid metabolism', 1), ('Pentose and glucuronate interconversions', 1), ('Pentose phosphate pathway', 1), ('Carbapenem biosynthesis', 1), ('Lysine biosynthesis', 1), ('Cysteine and methionine metabolism', 1), ('Taurine and hypotaurine metabolism', 1), ('D-Glutamine and D-glutamate metabolism', 1), ('Phenylalanine, tyrosine and tryptophan biosynthesis', 1), ('Tyrosine metabolism', 1), ('Novobiocin biosynthesis', 1), ('Isoquinoline alkaloid biosynthesis', 1), ('Ubiquinone and other terpenoid-quinone biosynthesis', 1), ('Spontaneous', 1), ('Ascorbate and aldarate metabolism', 1)]\n"
     ]
    }
   ],
   "source": [
    "path_map = getPatwhaysMap(model_c5a)\n",
    "pathways = []\n",
    "for pathway in model.groups:\n",
    "    pathways.append(pathway.name)\n",
    "res = {}\n",
    "for key, value in path_map.items():\n",
    "    if key in underexpressed:\n",
    "        for reaction_path in value:\n",
    "            if reaction_path in res.keys():\n",
    "                res[reaction_path] += 1\n",
    "            else:\n",
    "                res[reaction_path] = 1\n",
    "\n",
    "# print sorted by value\n",
    "sorted_res = sorted(res.items(), key=lambda x: x[1], reverse=True)\n",
    "print(sorted_res)"
   ],
   "metadata": {
    "collapsed": false,
    "pycharm": {
     "name": "#%%\n"
    }
   }
  },
  {
   "cell_type": "code",
   "execution_count": 18,
   "outputs": [
    {
     "name": "stdout",
     "output_type": "stream",
     "text": [
      "R00355__chlo\n",
      "R01773__cytop\n",
      "R01771__cytop\n",
      "R01251__mito\n",
      "R00200__mito\n",
      "R01518__mito\n",
      "R00355__mito\n",
      "R00267__mito\n",
      "R01529__chlo\n",
      "R00734__cytop\n",
      "R00344__mito\n",
      "R01466__cytop\n"
     ]
    }
   ],
   "source": [
    "und_fatty = []\n",
    "for i in range(len(underexpressed)):\n",
    "    if underexpressed[i] in path_map.keys():\n",
    "\n",
    "        if 'Biosynthesis of amino acids' in path_map[underexpressed[i]]:\n",
    "            und_fatty.append(underexpressed[i])\n",
    "            print(underexpressed[i])"
   ],
   "metadata": {
    "collapsed": false,
    "pycharm": {
     "name": "#%%\n"
    }
   }
  },
  {
   "cell_type": "code",
   "execution_count": 167,
   "outputs": [],
   "source": [
    "# now comparing control vs phosphorus\n",
    "data4 = pd.DataFrame()\n",
    "data4['flux_c5a'] = pfba_c5a.fluxes /  pfba_c5a.fluxes['e_Biomass__cytop']\n",
    "data4['flux_p5a'] = pfba_p5a.fluxes /  pfba_c5a.fluxes['e_Biomass__cytop']\n",
    "data4['ratio'] = data4['flux_p5a'] / data4['flux_c5a']\n",
    "data4 = data4.loc[round(data4[\"flux_c5a\"],4) != round(data4[\"flux_p5a\"],4)]"
   ],
   "metadata": {
    "collapsed": false,
    "pycharm": {
     "name": "#%%\n"
    }
   }
  },
  {
   "cell_type": "code",
   "execution_count": 168,
   "outputs": [
    {
     "data": {
      "text/plain": "                          flux_c5a   flux_p5a     ratio\nT_L_Tyrosine_V2__mitmem   0.000000   0.000052       inf\nR00243__mito             -2.618671  -2.489446  0.950652\nR00848__mito              1.372964   1.638747  1.193583\nR01731__chlo              0.000000   0.130965       inf\nT_UDPG__chlomem          -0.754264   0.046132 -0.061162\n...                            ...        ...       ...\nR01845__chlo             43.921718  37.369369  0.850818\nR10052__cytop             0.223732   0.229682  1.026594\nR02272__chlo             -0.786913  -0.807840  1.026594\ne_Carbohydrate__cytop     0.100000   0.102659  1.026594\nEX_C00009__dra           -1.312195  -1.347091  1.026594\n\n[697 rows x 3 columns]",
      "text/html": "<div>\n<style scoped>\n    .dataframe tbody tr th:only-of-type {\n        vertical-align: middle;\n    }\n\n    .dataframe tbody tr th {\n        vertical-align: top;\n    }\n\n    .dataframe thead th {\n        text-align: right;\n    }\n</style>\n<table border=\"1\" class=\"dataframe\">\n  <thead>\n    <tr style=\"text-align: right;\">\n      <th></th>\n      <th>flux_c5a</th>\n      <th>flux_p5a</th>\n      <th>ratio</th>\n    </tr>\n  </thead>\n  <tbody>\n    <tr>\n      <th>T_L_Tyrosine_V2__mitmem</th>\n      <td>0.000000</td>\n      <td>0.000052</td>\n      <td>inf</td>\n    </tr>\n    <tr>\n      <th>R00243__mito</th>\n      <td>-2.618671</td>\n      <td>-2.489446</td>\n      <td>0.950652</td>\n    </tr>\n    <tr>\n      <th>R00848__mito</th>\n      <td>1.372964</td>\n      <td>1.638747</td>\n      <td>1.193583</td>\n    </tr>\n    <tr>\n      <th>R01731__chlo</th>\n      <td>0.000000</td>\n      <td>0.130965</td>\n      <td>inf</td>\n    </tr>\n    <tr>\n      <th>T_UDPG__chlomem</th>\n      <td>-0.754264</td>\n      <td>0.046132</td>\n      <td>-0.061162</td>\n    </tr>\n    <tr>\n      <th>...</th>\n      <td>...</td>\n      <td>...</td>\n      <td>...</td>\n    </tr>\n    <tr>\n      <th>R01845__chlo</th>\n      <td>43.921718</td>\n      <td>37.369369</td>\n      <td>0.850818</td>\n    </tr>\n    <tr>\n      <th>R10052__cytop</th>\n      <td>0.223732</td>\n      <td>0.229682</td>\n      <td>1.026594</td>\n    </tr>\n    <tr>\n      <th>R02272__chlo</th>\n      <td>-0.786913</td>\n      <td>-0.807840</td>\n      <td>1.026594</td>\n    </tr>\n    <tr>\n      <th>e_Carbohydrate__cytop</th>\n      <td>0.100000</td>\n      <td>0.102659</td>\n      <td>1.026594</td>\n    </tr>\n    <tr>\n      <th>EX_C00009__dra</th>\n      <td>-1.312195</td>\n      <td>-1.347091</td>\n      <td>1.026594</td>\n    </tr>\n  </tbody>\n</table>\n<p>697 rows × 3 columns</p>\n</div>"
     },
     "execution_count": 168,
     "metadata": {},
     "output_type": "execute_result"
    }
   ],
   "source": [
    "data4"
   ],
   "metadata": {
    "collapsed": false,
    "pycharm": {
     "name": "#%%\n"
    }
   }
  },
  {
   "cell_type": "code",
   "execution_count": 170,
   "outputs": [],
   "source": [
    "# abs ratio\n",
    "data4['ratio'] = abs(data4['ratio'])\n",
    "\n",
    "#ratio_100\n",
    "data4['ratio_100'] = data4['ratio'] * 100"
   ],
   "metadata": {
    "collapsed": false,
    "pycharm": {
     "name": "#%%\n"
    }
   }
  },
  {
   "cell_type": "code",
   "execution_count": 173,
   "outputs": [],
   "source": [
    "# filter dataframe grab those that have more than 125% at ratio_100 (overexpressed)\n",
    "data_125 = data4[data4['ratio_100'] > 125]\n",
    "\n",
    "# grab those that have less than 75% at ratio_100 (underexpressed)\n",
    "data_75 = data4[data4['ratio_100'] < 75]\n",
    "\n",
    "data_125 = data_125.sort_values(by=['ratio_100'], ascending=False)\n",
    "data_75 = data_75.sort_values(by=['ratio_100'], ascending=False)\n",
    "\n",
    "data_125.to_csv('data/outputs/ratio/2study_c5a_p5a_overexpressed_pfba.csv')\n",
    "data_75.to_csv('data/outputs/ratio/2study_c5a_p5a_underexpressed_pfba.csv')"
   ],
   "metadata": {
    "collapsed": false,
    "pycharm": {
     "name": "#%%\n"
    }
   }
  },
  {
   "cell_type": "code",
   "execution_count": 174,
   "outputs": [],
   "source": [
    "# read overexpressed reactions from pfba_1_study_overexpressed.csv\n",
    "data_overexpressed = pd.read_csv('data/outputs/ratio/2study_c5a_p5a_overexpressed_pfba.csv')\n",
    "\n",
    "# read underexpressed reactions from pfba_1_study_underexpressed.csv\n",
    "data_underexpressed = pd.read_csv('data/outputs/ratio/2study_c5a_p5a_underexpressed_pfba.csv')"
   ],
   "metadata": {
    "collapsed": false,
    "pycharm": {
     "name": "#%%\n"
    }
   }
  },
  {
   "cell_type": "code",
   "execution_count": 175,
   "outputs": [
    {
     "data": {
      "text/plain": "73"
     },
     "execution_count": 175,
     "metadata": {},
     "output_type": "execute_result"
    }
   ],
   "source": [
    "overexpressed = []\n",
    "for i in range(len(data_overexpressed)):\n",
    "    overexpressed.append(data_overexpressed.iloc[i,0])\n",
    "len(overexpressed)"
   ],
   "metadata": {
    "collapsed": false,
    "pycharm": {
     "name": "#%%\n"
    }
   }
  },
  {
   "cell_type": "code",
   "execution_count": 176,
   "outputs": [
    {
     "data": {
      "text/plain": "145"
     },
     "execution_count": 176,
     "metadata": {},
     "output_type": "execute_result"
    }
   ],
   "source": [
    "underexpressed = []\n",
    "for i in range(len(data_underexpressed)):\n",
    "    underexpressed.append(data_underexpressed.iloc[i,0])\n",
    "len(underexpressed)"
   ],
   "metadata": {
    "collapsed": false,
    "pycharm": {
     "name": "#%%\n"
    }
   }
  },
  {
   "cell_type": "code",
   "execution_count": 177,
   "outputs": [
    {
     "name": "stdout",
     "output_type": "stream",
     "text": [
      "[('Transporters pathway', 19), ('Biosynthesis of amino acids', 11), ('Pyruvate metabolism', 10), ('Glycolysis / Gluconeogenesis', 10), ('Pentose phosphate pathway', 8), ('Purine metabolism', 5), ('Oxidative phosphorylation', 4), ('Fatty acid metabolism', 4), ('Fatty acid biosynthesis', 4), ('Amino sugar and nucleotide sugar metabolism', 3), ('Biosynthesis of cofactors', 3), ('Fructose and mannose metabolism', 3), ('Carbon fixation in photosynthetic organisms', 3), ('2-Oxocarboxylic acid metabolism', 3), ('Glycine, serine and threonine metabolism', 3), ('Pyrimidine metabolism', 3), ('Glyoxylate and dicarboxylate metabolism', 2), ('Galactose metabolism', 2), ('Citrate cycle (TCA cycle)', 2), ('Carbon fixation pathways in prokaryotes', 2), ('Pantothenate and CoA biosynthesis', 2), ('Arginine biosynthesis', 2), ('Nitrogen metabolism', 2), ('Alanine, aspartate and glutamate metabolism', 2), ('Phenylalanine, tyrosine and tryptophan biosynthesis', 2), ('Glycerolipid metabolism', 1), ('Starch and sucrose metabolism', 1), ('Pentose and glucuronate interconversions', 1), ('O-Antigen nucleotide sugar biosynthesis', 1), ('Valine, leucine and isoleucine biosynthesis', 1), ('Lysine biosynthesis', 1), ('Cysteine and methionine metabolism', 1), ('D-Glutamine and D-glutamate metabolism', 1), ('Tyrosine metabolism', 1), ('Novobiocin biosynthesis', 1), ('Isoquinoline alkaloid biosynthesis', 1), ('Ubiquinone and other terpenoid-quinone biosynthesis', 1), ('Nicotinate and nicotinamide metabolism', 1), ('Drains pathway', 1), ('Spontaneous', 1)]\n"
     ]
    }
   ],
   "source": [
    "path_map = getPatwhaysMap(model_c5a)\n",
    "pathways = []\n",
    "for pathway in model.groups:\n",
    "    pathways.append(pathway.name)\n",
    "res = {}\n",
    "for key, value in path_map.items():\n",
    "    if key in overexpressed:\n",
    "        for reaction_path in value:\n",
    "            if reaction_path in res.keys():\n",
    "                res[reaction_path] += 1\n",
    "            else:\n",
    "                res[reaction_path] = 1\n",
    "\n",
    "# print sorted by value\n",
    "sorted_res = sorted(res.items(), key=lambda x: x[1], reverse=True)\n",
    "print(sorted_res)"
   ],
   "metadata": {
    "collapsed": false,
    "pycharm": {
     "name": "#%%\n"
    }
   }
  },
  {
   "cell_type": "code",
   "execution_count": null,
   "outputs": [],
   "source": [],
   "metadata": {
    "collapsed": false,
    "pycharm": {
     "name": "#%%\n"
    }
   }
  },
  {
   "cell_type": "code",
   "execution_count": 178,
   "outputs": [
    {
     "name": "stdout",
     "output_type": "stream",
     "text": [
      "[('Transporters pathway', 50), ('Biosynthesis of amino acids', 17), ('Citrate cycle (TCA cycle)', 15), ('Carbon fixation in photosynthetic organisms', 13), ('Glyoxylate and dicarboxylate metabolism', 12), ('Pyrimidine metabolism', 10), ('2-Oxocarboxylic acid metabolism', 9), ('Glycolysis / Gluconeogenesis', 9), ('Carbon fixation pathways in prokaryotes', 8), ('Pyruvate metabolism', 8), ('Alanine, aspartate and glutamate metabolism', 8), ('Biosynthesis of cofactors', 7), ('Methane metabolism', 5), ('Arginine biosynthesis', 4), ('Nitrogen metabolism', 4), ('Drains pathway', 4), ('Fatty acid metabolism', 4), ('Fatty acid biosynthesis', 4), ('Glycine, serine and threonine metabolism', 3), ('Amino sugar and nucleotide sugar metabolism', 3), ('Pentose phosphate pathway', 3), ('Propanoate metabolism', 3), ('Glutathione metabolism', 3), ('Purine metabolism', 3), ('One carbon pool by folate', 2), ('Galactose metabolism', 2), ('Pentose and glucuronate interconversions', 2), ('Butanoate metabolism', 2), ('Valine, leucine and isoleucine degradation', 2), ('Arginine and proline metabolism', 2), ('Phenylalanine, tyrosine and tryptophan biosynthesis', 2), ('Oxidative phosphorylation', 2), ('Cysteine and methionine metabolism', 2), ('Cyanoamino acid metabolism', 1), ('Glycerolipid metabolism', 1), ('Starch and sucrose metabolism', 1), ('O-Antigen nucleotide sugar biosynthesis', 1), ('Fructose and mannose metabolism', 1), ('Inositol phosphate metabolism', 1), ('Carbapenem biosynthesis', 1), ('Valine, leucine and isoleucine biosynthesis', 1), ('Pantothenate and CoA biosynthesis', 1), ('Glucosinolate biosynthesis', 1), ('Taurine and hypotaurine metabolism', 1), ('D-Glutamine and D-glutamate metabolism', 1), ('Tyrosine metabolism', 1), ('Novobiocin biosynthesis', 1), ('Isoquinoline alkaloid biosynthesis', 1), ('Ubiquinone and other terpenoid-quinone biosynthesis', 1), ('Fatty acid degradation', 1)]\n"
     ]
    }
   ],
   "source": [
    "path_map = getPatwhaysMap(model_c5a)\n",
    "pathways = []\n",
    "for pathway in model.groups:\n",
    "    pathways.append(pathway.name)\n",
    "res = {}\n",
    "for key, value in path_map.items():\n",
    "    if key in underexpressed:\n",
    "        for reaction_path in value:\n",
    "            if reaction_path in res.keys():\n",
    "                res[reaction_path] += 1\n",
    "            else:\n",
    "                res[reaction_path] = 1\n",
    "\n",
    "# print sorted by value\n",
    "sorted_res = sorted(res.items(), key=lambda x: x[1], reverse=True)\n",
    "print(sorted_res)"
   ],
   "metadata": {
    "collapsed": false,
    "pycharm": {
     "name": "#%%\n"
    }
   }
  },
  {
   "cell_type": "code",
   "execution_count": null,
   "outputs": [],
   "source": [],
   "metadata": {
    "collapsed": false,
    "pycharm": {
     "name": "#%%\n"
    }
   }
  }
 ],
 "metadata": {
  "kernelspec": {
   "display_name": "Python 3",
   "language": "python",
   "name": "python3"
  },
  "language_info": {
   "codemirror_mode": {
    "name": "ipython",
    "version": 3
   },
   "file_extension": ".py",
   "mimetype": "text/x-python",
   "name": "python",
   "nbconvert_exporter": "python",
   "pygments_lexer": "ipython3",
   "version": "3.6.7"
  }
 },
 "nbformat": 4,
 "nbformat_minor": 1
}
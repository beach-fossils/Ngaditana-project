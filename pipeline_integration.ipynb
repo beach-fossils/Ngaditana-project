{
 "cells": [
  {
   "cell_type": "markdown",
   "source": [
    "from mewpy.omics.expression import ExpressionSet\n",
    "import numpy as np\n",
    "import pandas as pd\n",
    "from src.integration import *\n",
    "from mewpy import *\n",
    "from mewpy.omics.integration.gimme import GIMME\n"
   ],
   "metadata": {
    "collapsed": false,
    "pycharm": {
     "name": "#%% md\n"
    }
   }
  },
  {
   "cell_type": "markdown",
   "source": [
    "At this phase the data is ready to be integrated into a metabolic model. To do so, MewPy will be used, which is a Python library that allows to integrate data into a metabolic model. Two methods were implemented: GIMME and eFlux. To run both of them the gene expression dataset will be necessary TPM file to be integrated in a in house GEM."
   ],
   "metadata": {
    "collapsed": false,
    "pycharm": {
     "name": "#%% md\n"
    }
   }
  },
  {
   "cell_type": "markdown",
   "source": [
    "Load your model. It will give you a brief description of the model, and also understand if the model was properly loaded."
   ],
   "metadata": {
    "collapsed": false,
    "pycharm": {
     "name": "#%% md\n"
    }
   }
  },
  {
   "cell_type": "code",
   "execution_count": 5,
   "outputs": [
    {
     "name": "stdout",
     "output_type": "stream",
     "text": [
      "Model loaded\n",
      "Metabolites:\n",
      "C_00001 191\n",
      "C_00002 668\n",
      "C_00003 484\n",
      "C_00004 1189\n",
      "C_00005 748\n",
      "C_00006 186\n",
      "C_00007 41\n",
      "C_00008 108\n",
      "C_00009 52\n",
      "C_00010 1\n",
      "C_00011 1\n",
      "\n",
      "Reactions:\n",
      "enzymatic 2664\n",
      "transport 529\n",
      "exchange 199\n",
      "sink 0\n",
      "other 124\n",
      "None\n"
     ]
    }
   ],
   "source": [
    "from src.integration import Integration\n",
    "\n",
    "my_model = Integration(model=\"data/inputs/model_ngaditana.xml\")"
   ],
   "metadata": {
    "collapsed": false,
    "pycharm": {
     "name": "#%%\n"
    }
   }
  },
  {
   "cell_type": "markdown",
   "source": [
    "In order to run GIMME or eFlux, you need to set your expression data."
   ],
   "metadata": {
    "collapsed": false,
    "pycharm": {
     "name": "#%% md\n"
    }
   }
  },
  {
   "cell_type": "code",
   "execution_count": 6,
   "outputs": [
    {
     "name": "stdout",
     "output_type": "stream",
     "text": [
      "Number of genes: 11261\n",
      "Number of samples: 1\n",
      "Head of the expression data:\n",
      "       Geneid  tpm\n",
      "0  Ng00001_RA  0.0\n",
      "1  Ng00002_RA  0.0\n",
      "2  Ng00003_RA  0.0\n",
      "3  Ng00004_RA  0.0\n",
      "4  Ng00005_RA  0.0\n",
      "Summary of expression data:\n",
      "                tpm\n",
      "count  11261.000000\n",
      "mean      88.802060\n",
      "std      417.656209\n",
      "min        0.000000\n",
      "25%        0.000000\n",
      "50%        0.000000\n",
      "75%       74.315983\n",
      "max    12133.104496\n"
     ]
    }
   ],
   "source": [
    "from mewpy.omics.expression import ExpressionSet\n",
    "import numpy as np\n",
    "import pandas as pd\n",
    "\n",
    "expr = pd.read_csv('data/inputs/tpm.tsv', sep='\\t') # load expression data\n",
    "\n",
    "expr[\"Geneid\"] = expr[\"Geneid\"] + \"_RA\" # add a suffix to the geneid to avoid conflicts with the model\n",
    "n_genes = expr.shape[0] # number of genes\n",
    "print(\"Number of genes:\", n_genes)\n",
    "print(\"Number of samples:\", expr.shape[1]-1)\n",
    "print(\"Head of the expression data:\")\n",
    "print(expr.head())\n",
    "print(\"Summary of expression data:\")\n",
    "print(expr.describe())"
   ],
   "metadata": {
    "collapsed": false,
    "pycharm": {
     "name": "#%%\n"
    }
   }
  },
  {
   "cell_type": "code",
   "execution_count": 15,
   "outputs": [
    {
     "name": "stdout",
     "output_type": "stream",
     "text": [
      "Expression data loaded successfully\n"
     ]
    }
   ],
   "source": [
    "identifiers = expr['Geneid'].tolist() # list of gene identifiers\n",
    "conditions = ['tpm'] # list of conditions\n",
    "expression = expr['tpm'].to_numpy()[:, np.newaxis] # it has to be a numpy array\n",
    "set_expression = ExpressionSet(identifiers, conditions, expression)\n",
    "if set_expression is not None:\n",
    "    print(\"Expression data loaded successfully\")"
   ],
   "metadata": {
    "collapsed": false,
    "pycharm": {
     "name": "#%%\n"
    }
   }
  },
  {
   "cell_type": "markdown",
   "source": [
    "Set the desired solver to be used. In this case the Gurobi solver will be used."
   ],
   "metadata": {
    "collapsed": false,
    "pycharm": {
     "name": "#%% md\n"
    }
   }
  },
  {
   "cell_type": "code",
   "execution_count": 16,
   "outputs": [],
   "source": [
    "import mewpy.solvers\n",
    "\n",
    "mewpy.solvers.get_default_solver()\n",
    "mewpy.solvers.set_default_solver('gurobi')"
   ],
   "metadata": {
    "collapsed": false,
    "pycharm": {
     "name": "#%%\n"
    }
   }
  },
  {
   "cell_type": "markdown",
   "source": [
    "Now it is possible to run GIMME and eFlux."
   ],
   "metadata": {
    "collapsed": false,
    "pycharm": {
     "name": "#%% md\n"
    }
   }
  },
  {
   "cell_type": "code",
   "execution_count": 17,
   "outputs": [
    {
     "ename": "UnboundLocalError",
     "evalue": "local variable 'values' referenced before assignment",
     "output_type": "error",
     "traceback": [
      "\u001B[0;31m---------------------------------------------------------------------------\u001B[0m",
      "\u001B[0;31mUnboundLocalError\u001B[0m                         Traceback (most recent call last)",
      "\u001B[0;32m<ipython-input-17-d3c1404becbb>\u001B[0m in \u001B[0;36m<module>\u001B[0;34m\u001B[0m\n\u001B[0;32m----> 1\u001B[0;31m \u001B[0mmy_model\u001B[0m\u001B[0;34m.\u001B[0m\u001B[0mgimme\u001B[0m\u001B[0;34m(\u001B[0m\u001B[0mset_expression\u001B[0m\u001B[0;34m,\u001B[0m \u001B[0mconditions\u001B[0m\u001B[0;34m)\u001B[0m\u001B[0;34m\u001B[0m\u001B[0;34m\u001B[0m\u001B[0m\n\u001B[0m",
      "\u001B[0;32m~/Documents/GitHub/bioinformatics-project/src/integration.py\u001B[0m in \u001B[0;36mgimme\u001B[0;34m(self, expr, condition)\u001B[0m\n\u001B[1;32m     33\u001B[0m         \u001B[0;32mif\u001B[0m \u001B[0mcondition\u001B[0m \u001B[0;32mis\u001B[0m \u001B[0;32mNone\u001B[0m\u001B[0;34m:\u001B[0m\u001B[0;34m\u001B[0m\u001B[0;34m\u001B[0m\u001B[0m\n\u001B[1;32m     34\u001B[0m             \u001B[0mcondition\u001B[0m \u001B[0;34m=\u001B[0m \u001B[0;34m''\u001B[0m\u001B[0;34m\u001B[0m\u001B[0;34m\u001B[0m\u001B[0m\n\u001B[0;32m---> 35\u001B[0;31m         \u001B[0mgimme\u001B[0m \u001B[0;34m=\u001B[0m \u001B[0mGIMME\u001B[0m\u001B[0;34m(\u001B[0m\u001B[0mself\u001B[0m\u001B[0;34m.\u001B[0m\u001B[0mmodel\u001B[0m\u001B[0;34m,\u001B[0m \u001B[0mexpr\u001B[0m\u001B[0;34m,\u001B[0m \u001B[0;34m\"e_Biomass__cytop\"\u001B[0m\u001B[0;34m,\u001B[0m \u001B[0mcondition\u001B[0m\u001B[0;34m,\u001B[0m \u001B[0mparsimonious\u001B[0m\u001B[0;34m=\u001B[0m\u001B[0;32mTrue\u001B[0m\u001B[0;34m)\u001B[0m\u001B[0;34m\u001B[0m\u001B[0;34m\u001B[0m\u001B[0m\n\u001B[0m\u001B[1;32m     36\u001B[0m         \u001B[0;32mreturn\u001B[0m \u001B[0mgimme\u001B[0m\u001B[0;34m\u001B[0m\u001B[0;34m\u001B[0m\u001B[0m\n\u001B[1;32m     37\u001B[0m \u001B[0;34m\u001B[0m\u001B[0m\n",
      "\u001B[0;32m~/opt/anaconda3/lib/python3.8/site-packages/mewpy/omics/integration/gimme.py\u001B[0m in \u001B[0;36mGIMME\u001B[0;34m(model, expr, biomass, condition, cutoff, growth_frac, constraints, parsimonious, **kwargs)\u001B[0m\n\u001B[1;32m     38\u001B[0m \u001B[0;34m\u001B[0m\u001B[0m\n\u001B[1;32m     39\u001B[0m     \u001B[0mpp\u001B[0m \u001B[0;34m=\u001B[0m \u001B[0mPreprocessing\u001B[0m\u001B[0;34m(\u001B[0m\u001B[0msim\u001B[0m\u001B[0;34m,\u001B[0m \u001B[0mexpr\u001B[0m\u001B[0;34m)\u001B[0m\u001B[0;34m\u001B[0m\u001B[0;34m\u001B[0m\u001B[0m\n\u001B[0;32m---> 40\u001B[0;31m     \u001B[0mcoeffs\u001B[0m\u001B[0;34m,\u001B[0m \u001B[0m_\u001B[0m \u001B[0;34m=\u001B[0m \u001B[0mpp\u001B[0m\u001B[0;34m.\u001B[0m\u001B[0mpercentile\u001B[0m\u001B[0;34m(\u001B[0m\u001B[0mcondition\u001B[0m\u001B[0;34m,\u001B[0m \u001B[0mcutoff\u001B[0m\u001B[0;34m=\u001B[0m\u001B[0mcutoff\u001B[0m\u001B[0;34m)\u001B[0m\u001B[0;34m\u001B[0m\u001B[0;34m\u001B[0m\u001B[0m\n\u001B[0m\u001B[1;32m     41\u001B[0m     \u001B[0msolver\u001B[0m \u001B[0;34m=\u001B[0m \u001B[0msolver_instance\u001B[0m\u001B[0;34m(\u001B[0m\u001B[0msim\u001B[0m\u001B[0;34m)\u001B[0m\u001B[0;34m\u001B[0m\u001B[0;34m\u001B[0m\u001B[0m\n\u001B[1;32m     42\u001B[0m \u001B[0;34m\u001B[0m\u001B[0m\n",
      "\u001B[0;32m~/opt/anaconda3/lib/python3.8/site-packages/mewpy/omics/expression.py\u001B[0m in \u001B[0;36mpercentile\u001B[0;34m(self, condition, cutoff)\u001B[0m\n\u001B[1;32m    289\u001B[0m             \u001B[0mdict\u001B[0m\u001B[0;34m,\u001B[0m \u001B[0mfloat\u001B[0m\u001B[0;34m:\u001B[0m \u001B[0mthe\u001B[0m \u001B[0mcoefficients\u001B[0m \u001B[0;32mand\u001B[0m \u001B[0mthreshold\u001B[0m\u001B[0;34m\u001B[0m\u001B[0;34m\u001B[0m\u001B[0m\n\u001B[1;32m    290\u001B[0m         \"\"\"\n\u001B[0;32m--> 291\u001B[0;31m         \u001B[0mrxn_exp\u001B[0m \u001B[0;34m=\u001B[0m \u001B[0mself\u001B[0m\u001B[0;34m.\u001B[0m\u001B[0mreactions_expression\u001B[0m\u001B[0;34m(\u001B[0m\u001B[0mcondition\u001B[0m\u001B[0;34m)\u001B[0m\u001B[0;34m\u001B[0m\u001B[0;34m\u001B[0m\u001B[0m\n\u001B[0m\u001B[1;32m    292\u001B[0m         \u001B[0mthreshold\u001B[0m \u001B[0;34m=\u001B[0m \u001B[0mnp\u001B[0m\u001B[0;34m.\u001B[0m\u001B[0mpercentile\u001B[0m\u001B[0;34m(\u001B[0m\u001B[0mlist\u001B[0m\u001B[0;34m(\u001B[0m\u001B[0mrxn_exp\u001B[0m\u001B[0;34m.\u001B[0m\u001B[0mvalues\u001B[0m\u001B[0;34m(\u001B[0m\u001B[0;34m)\u001B[0m\u001B[0;34m)\u001B[0m\u001B[0;34m,\u001B[0m \u001B[0mcutoff\u001B[0m\u001B[0;34m)\u001B[0m\u001B[0;34m\u001B[0m\u001B[0;34m\u001B[0m\u001B[0m\n\u001B[1;32m    293\u001B[0m         coeffs = {r_id: threshold-val for r_id,\n",
      "\u001B[0;32m~/opt/anaconda3/lib/python3.8/site-packages/mewpy/omics/expression.py\u001B[0m in \u001B[0;36mreactions_expression\u001B[0;34m(self, condition, and_func, or_func)\u001B[0m\n\u001B[1;32m    269\u001B[0m \u001B[0;34m\u001B[0m\u001B[0m\n\u001B[1;32m    270\u001B[0m     \u001B[0;32mdef\u001B[0m \u001B[0mreactions_expression\u001B[0m\u001B[0;34m(\u001B[0m\u001B[0mself\u001B[0m\u001B[0;34m,\u001B[0m \u001B[0mcondition\u001B[0m\u001B[0;34m,\u001B[0m \u001B[0mand_func\u001B[0m\u001B[0;34m=\u001B[0m\u001B[0;32mNone\u001B[0m\u001B[0;34m,\u001B[0m \u001B[0mor_func\u001B[0m\u001B[0;34m=\u001B[0m\u001B[0;32mNone\u001B[0m\u001B[0;34m)\u001B[0m\u001B[0;34m:\u001B[0m\u001B[0;34m\u001B[0m\u001B[0;34m\u001B[0m\u001B[0m\n\u001B[0;32m--> 271\u001B[0;31m         \u001B[0mexp\u001B[0m \u001B[0;34m=\u001B[0m \u001B[0mself\u001B[0m\u001B[0;34m.\u001B[0m\u001B[0mdata\u001B[0m\u001B[0;34m.\u001B[0m\u001B[0mget_condition\u001B[0m\u001B[0;34m(\u001B[0m\u001B[0mcondition\u001B[0m\u001B[0;34m,\u001B[0m \u001B[0mformat\u001B[0m\u001B[0;34m=\u001B[0m\u001B[0;34m'dict'\u001B[0m\u001B[0;34m)\u001B[0m\u001B[0;34m\u001B[0m\u001B[0;34m\u001B[0m\u001B[0m\n\u001B[0m\u001B[1;32m    272\u001B[0m         and_func = self._conf.get(\n\u001B[1;32m    273\u001B[0m             'and_func', min) if and_func is None else and_func\n",
      "\u001B[0;32m~/opt/anaconda3/lib/python3.8/site-packages/mewpy/omics/expression.py\u001B[0m in \u001B[0;36mget_condition\u001B[0;34m(self, condition, **kwargs)\u001B[0m\n\u001B[1;32m     70\u001B[0m                 \u001B[0;32mreturn\u001B[0m \u001B[0mvalues\u001B[0m\u001B[0;34m.\u001B[0m\u001B[0mtolist\u001B[0m\u001B[0;34m(\u001B[0m\u001B[0;34m)\u001B[0m\u001B[0;34m\u001B[0m\u001B[0;34m\u001B[0m\u001B[0m\n\u001B[1;32m     71\u001B[0m             \u001B[0;32melif\u001B[0m \u001B[0mformat\u001B[0m \u001B[0;34m==\u001B[0m \u001B[0;34m'dict'\u001B[0m\u001B[0;34m:\u001B[0m\u001B[0;34m\u001B[0m\u001B[0;34m\u001B[0m\u001B[0m\n\u001B[0;32m---> 72\u001B[0;31m                 \u001B[0;32mreturn\u001B[0m \u001B[0mdict\u001B[0m\u001B[0;34m(\u001B[0m\u001B[0mzip\u001B[0m\u001B[0;34m(\u001B[0m\u001B[0mself\u001B[0m\u001B[0;34m.\u001B[0m\u001B[0m_identifiers\u001B[0m\u001B[0;34m,\u001B[0m \u001B[0mvalues\u001B[0m\u001B[0;34m.\u001B[0m\u001B[0mtolist\u001B[0m\u001B[0;34m(\u001B[0m\u001B[0;34m)\u001B[0m\u001B[0;34m)\u001B[0m\u001B[0;34m)\u001B[0m\u001B[0;34m\u001B[0m\u001B[0;34m\u001B[0m\u001B[0m\n\u001B[0m\u001B[1;32m     73\u001B[0m             \u001B[0;32melse\u001B[0m\u001B[0;34m:\u001B[0m\u001B[0;34m\u001B[0m\u001B[0;34m\u001B[0m\u001B[0m\n\u001B[1;32m     74\u001B[0m                 \u001B[0;32mreturn\u001B[0m \u001B[0mvalues\u001B[0m\u001B[0;34m\u001B[0m\u001B[0;34m\u001B[0m\u001B[0m\n",
      "\u001B[0;31mUnboundLocalError\u001B[0m: local variable 'values' referenced before assignment"
     ]
    }
   ],
   "source": [
    "my_model.gimme(set_expression, conditions)"
   ],
   "metadata": {
    "collapsed": false,
    "pycharm": {
     "name": "#%%\n"
    }
   }
  },
  {
   "cell_type": "code",
   "execution_count": 18,
   "outputs": [
    {
     "ename": "TypeError",
     "evalue": "eFlux() takes from 2 to 7 positional arguments but 8 were given",
     "output_type": "error",
     "traceback": [
      "\u001B[0;31m---------------------------------------------------------------------------\u001B[0m",
      "\u001B[0;31mTypeError\u001B[0m                                 Traceback (most recent call last)",
      "\u001B[0;32m<ipython-input-18-cb9d751155e6>\u001B[0m in \u001B[0;36m<module>\u001B[0;34m\u001B[0m\n\u001B[0;32m----> 1\u001B[0;31m \u001B[0mmy_model\u001B[0m\u001B[0;34m.\u001B[0m\u001B[0meflux\u001B[0m\u001B[0;34m(\u001B[0m\u001B[0mset_expression\u001B[0m\u001B[0;34m)\u001B[0m\u001B[0;34m\u001B[0m\u001B[0;34m\u001B[0m\u001B[0m\n\u001B[0m",
      "\u001B[0;32m~/Documents/GitHub/bioinformatics-project/src/integration.py\u001B[0m in \u001B[0;36meflux\u001B[0;34m(self, expr, condition, scale_rxn, scale_value, constraints, parsimonious, max_exp, **kwargs)\u001B[0m\n\u001B[1;32m     50\u001B[0m         \u001B[0;34m:\u001B[0m\u001B[0;32mreturn\u001B[0m\u001B[0;34m:\u001B[0m\u001B[0;34m\u001B[0m\u001B[0;34m\u001B[0m\u001B[0m\n\u001B[1;32m     51\u001B[0m         \"\"\"\n\u001B[0;32m---> 52\u001B[0;31m         \u001B[0;32mreturn\u001B[0m \u001B[0meFlux\u001B[0m\u001B[0;34m(\u001B[0m\u001B[0mself\u001B[0m\u001B[0;34m.\u001B[0m\u001B[0mmodel\u001B[0m\u001B[0;34m,\u001B[0m \u001B[0mexpr\u001B[0m\u001B[0;34m,\u001B[0m \u001B[0mcondition\u001B[0m\u001B[0;34m,\u001B[0m \u001B[0mscale_rxn\u001B[0m\u001B[0;34m,\u001B[0m \u001B[0mscale_value\u001B[0m\u001B[0;34m,\u001B[0m \u001B[0mconstraints\u001B[0m\u001B[0;34m,\u001B[0m \u001B[0mparsimonious\u001B[0m\u001B[0;34m,\u001B[0m \u001B[0mmax_exp\u001B[0m\u001B[0;34m,\u001B[0m \u001B[0;34m**\u001B[0m\u001B[0mkwargs\u001B[0m\u001B[0;34m)\u001B[0m\u001B[0;34m\u001B[0m\u001B[0;34m\u001B[0m\u001B[0m\n\u001B[0m\u001B[1;32m     53\u001B[0m     \u001B[0;31m# def simulation(self):\u001B[0m\u001B[0;34m\u001B[0m\u001B[0;34m\u001B[0m\u001B[0;34m\u001B[0m\u001B[0m\n\u001B[1;32m     54\u001B[0m     \u001B[0;31m#    # build a phenotype simulator\u001B[0m\u001B[0;34m\u001B[0m\u001B[0;34m\u001B[0m\u001B[0;34m\u001B[0m\u001B[0m\n",
      "\u001B[0;31mTypeError\u001B[0m: eFlux() takes from 2 to 7 positional arguments but 8 were given"
     ]
    }
   ],
   "source": [
    "my_model.eflux(set_expression)"
   ],
   "metadata": {
    "collapsed": false,
    "pycharm": {
     "name": "#%%\n"
    }
   }
  },
  {
   "cell_type": "code",
   "execution_count": 49,
   "outputs": [],
   "source": [
    "#identifiers: list = expr['Geneid'].tolist()\n",
    "#conditions: list = ['tpm']\n",
    "#expression = expr['tpm'].to_numpy()[:, np.newaxis]\n",
    "\n",
    "#set_expression = ExpressionSet(identifiers, conditions, expression)"
   ],
   "metadata": {
    "collapsed": false,
    "pycharm": {
     "name": "#%%\n"
    }
   }
  },
  {
   "cell_type": "code",
   "execution_count": 18,
   "outputs": [],
   "source": [],
   "metadata": {
    "collapsed": false,
    "pycharm": {
     "name": "#%%\n"
    }
   }
  },
  {
   "cell_type": "code",
   "execution_count": 18,
   "outputs": [],
   "source": [
    "\n",
    "\n"
   ],
   "metadata": {
    "collapsed": false,
    "pycharm": {
     "name": "#%%\n"
    }
   }
  },
  {
   "cell_type": "code",
   "execution_count": null,
   "outputs": [],
   "source": [],
   "metadata": {
    "collapsed": false,
    "pycharm": {
     "name": "#%%\n"
    }
   }
  }
 ],
 "metadata": {
  "kernelspec": {
   "name": "python388jvsc74a57bd075caa24babfa8115d076e1765212c90ce2537e565ca6748eddadf2d503fadd6b",
   "language": "python",
   "display_name": "Python 3.8.8 ('base')"
  },
  "language_info": {
   "codemirror_mode": {
    "name": "ipython",
    "version": 2
   },
   "file_extension": ".py",
   "mimetype": "text/x-python",
   "name": "python",
   "nbconvert_exporter": "python",
   "pygments_lexer": "ipython2",
   "version": "2.7.6"
  }
 },
 "nbformat": 4,
 "nbformat_minor": 0
}
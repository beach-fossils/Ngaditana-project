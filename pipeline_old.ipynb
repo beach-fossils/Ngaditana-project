{
 "cells": [
  {
   "cell_type": "markdown",
   "metadata": {
    "pycharm": {
     "name": "#%% md\n"
    }
   },
   "source": [
    "#aqui será feito o esqueleto para a seguinte fase do projeto"
   ]
  },
  {
   "cell_type": "code",
   "execution_count": 1,
   "metadata": {
    "jupyter": {
     "outputs_hidden": false
    },
    "pycharm": {
     "name": "#%%\n"
    }
   },
   "outputs": [],
   "source": [
    "from bioblend import galaxy\n",
    "\n",
    "from src.preprocessing import *"
   ]
  },
  {
   "cell_type": "code",
   "execution_count": 2,
   "metadata": {
    "jupyter": {
     "outputs_hidden": false
    },
    "pycharm": {
     "name": "#%%\n"
    }
   },
   "outputs": [],
   "source": [
    "gi = galaxy.GalaxyInstance(url='https://usegalaxy.org/', key='b3a37dd4f27915d58f6bbcfe5b9158f2')\n",
    "preprocessing = PreProcessing(galaxy_instance = gi)"
   ]
  },
  {
   "cell_type": "code",
   "execution_count": 3,
   "metadata": {
    "pycharm": {
     "name": "#%%\n"
    }
   },
   "outputs": [
    {
     "name": "stdout",
     "output_type": "stream",
     "text": [
      "[{'model_class': 'User', 'id': '5e35e1272b970dbb', 'email': 'ecunha@ceb.uminho.pt', 'username': 'ecunha', 'deleted': False, 'active': True, 'last_password_change': '2022-03-09T17:30:25.931447'}]\n"
     ]
    }
   ],
   "source": [
    "#ver usuários\n",
    "users = gi.users.get_users()\n",
    "print(users)"
   ]
  },
  {
   "cell_type": "code",
   "execution_count": null,
   "metadata": {
    "pycharm": {
     "name": "#%%\n"
    }
   },
   "outputs": [],
   "source": [
    "#histórias sem classe\n",
    "histories = gi.histories.get_histories()\n",
    "print(histories)"
   ]
  },
  {
   "cell_type": "code",
   "execution_count": 4,
   "metadata": {
    "pycharm": {
     "name": "#%%\n"
    },
    "scrolled": true
   },
   "outputs": [
    {
     "data": {
      "text/plain": [
       "{'state': 'new',\n",
       " 'update_time': '2022-05-25T08:44:48.516761',\n",
       " 'slug': None,\n",
       " 'name': 'try1',\n",
       " 'state_details': {'new': 0,\n",
       "  'upload': 0,\n",
       "  'queued': 0,\n",
       "  'running': 0,\n",
       "  'ok': 0,\n",
       "  'empty': 0,\n",
       "  'error': 0,\n",
       "  'discarded': 0,\n",
       "  'paused': 0,\n",
       "  'setting_metadata': 0,\n",
       "  'failed_metadata': 0},\n",
       " 'model_class': 'History',\n",
       " 'contents_url': '/api/histories/7e3ba51446915845/contents',\n",
       " 'deleted': False,\n",
       " 'size': 0,\n",
       " 'user_id': '5e35e1272b970dbb',\n",
       " 'purged': False,\n",
       " 'tags': [],\n",
       " 'annotation': None,\n",
       " 'url': '/api/histories/7e3ba51446915845',\n",
       " 'create_time': '2022-05-25T08:44:37.767860',\n",
       " 'username_and_slug': None,\n",
       " 'published': False,\n",
       " 'id': '7e3ba51446915845',\n",
       " 'genome_build': None,\n",
       " 'empty': True,\n",
       " 'state_ids': {'new': [],\n",
       "  'upload': [],\n",
       "  'queued': [],\n",
       "  'running': [],\n",
       "  'ok': [],\n",
       "  'empty': [],\n",
       "  'error': [],\n",
       "  'discarded': [],\n",
       "  'paused': [],\n",
       "  'setting_metadata': [],\n",
       "  'failed_metadata': []},\n",
       " 'importable': False}"
      ]
     },
     "execution_count": 4,
     "metadata": {},
     "output_type": "execute_result"
    }
   ],
   "source": [
    "#criar história com classe criada ~ working\n",
    "preprocessing.create_history('try1')"
   ]
  },
  {
   "cell_type": "code",
   "execution_count": 5,
   "metadata": {
    "pycharm": {
     "name": "#%%\n"
    }
   },
   "outputs": [
    {
     "data": {
      "text/plain": [
       "[{'annotation': None,\n",
       "  'url': '/api/histories/7e3ba51446915845',\n",
       "  'name': 'try1',\n",
       "  'model_class': 'History',\n",
       "  'published': False,\n",
       "  'id': '7e3ba51446915845',\n",
       "  'purged': False,\n",
       "  'update_time': '2022-05-25T08:44:48.516761',\n",
       "  'deleted': False,\n",
       "  'tags': []},\n",
       " {'annotation': None,\n",
       "  'url': '/api/histories/00171fbac338ace6',\n",
       "  'name': 'ngaditana',\n",
       "  'model_class': 'History',\n",
       "  'published': False,\n",
       "  'id': '00171fbac338ace6',\n",
       "  'purged': False,\n",
       "  'update_time': '2022-05-11T10:10:53.194332',\n",
       "  'deleted': False,\n",
       "  'tags': []},\n",
       " {'annotation': None,\n",
       "  'url': '/api/histories/36aa58624a91f1d2',\n",
       "  'name': 'Unnamed history',\n",
       "  'model_class': 'History',\n",
       "  'published': False,\n",
       "  'id': '36aa58624a91f1d2',\n",
       "  'purged': False,\n",
       "  'update_time': '2022-03-09T23:30:24.004343',\n",
       "  'deleted': False,\n",
       "  'tags': []}]"
      ]
     },
     "execution_count": 5,
     "metadata": {},
     "output_type": "execute_result"
    }
   ],
   "source": [
    "#ver histórias criadas com class ~ working\n",
    "preprocessing.view_histories()"
   ]
  },
  {
   "cell_type": "code",
   "execution_count": 6,
   "metadata": {
    "jupyter": {
     "outputs_hidden": false
    },
    "pycharm": {
     "name": "#%%\n"
    },
    "scrolled": true
   },
   "outputs": [
    {
     "data": {
      "text/plain": [
       "{'outputs': [{'id': 'bbd44e69cb8906b5394e898dd3e69a73',\n",
       "   'hda_ldda': 'hda',\n",
       "   'uuid': '599567cb-5667-4e6c-ae6f-8b4cb3d7d0f8',\n",
       "   'hid': 1,\n",
       "   'file_ext': 'auto',\n",
       "   'peek': None,\n",
       "   'model_class': 'HistoryDatasetAssociation',\n",
       "   'name': 'toy_SRR5152513_1.fastq',\n",
       "   'deleted': False,\n",
       "   'purged': False,\n",
       "   'visible': True,\n",
       "   'state': 'queued',\n",
       "   'history_content_type': 'dataset',\n",
       "   'file_size': 0,\n",
       "   'create_time': '2022-05-25T08:45:16.533966',\n",
       "   'update_time': '2022-05-25T08:45:16.646117',\n",
       "   'data_type': 'galaxy.datatypes.data.Data',\n",
       "   'genome_build': '?',\n",
       "   'validated_state': 'unknown',\n",
       "   'validated_state_message': None,\n",
       "   'misc_info': None,\n",
       "   'misc_blurb': None,\n",
       "   'tags': [],\n",
       "   'history_id': '7e3ba51446915845',\n",
       "   'metadata_dbkey': '?',\n",
       "   'output_name': 'output0'}],\n",
       " 'output_collections': [],\n",
       " 'jobs': [{'model_class': 'Job',\n",
       "   'id': 'bbd44e69cb8906b54b056c8a1c8eb8f9',\n",
       "   'state': 'new',\n",
       "   'exit_code': None,\n",
       "   'update_time': '2022-05-25T08:45:16.735160',\n",
       "   'create_time': '2022-05-25T08:45:16.690255',\n",
       "   'galaxy_version': '22.01',\n",
       "   'tool_id': 'upload1',\n",
       "   'history_id': '7e3ba51446915845'}],\n",
       " 'implicit_collections': [],\n",
       " 'produces_entry_points': False}"
      ]
     },
     "execution_count": 6,
     "metadata": {},
     "output_type": "execute_result"
    }
   ],
   "source": [
    "preprocessing.upload_data_history(\"data/inputs/toy_SRR5152513_1.fastq\",\"7e3ba51446915845\")"
   ]
  },
  {
   "cell_type": "code",
   "execution_count": null,
   "metadata": {
    "pycharm": {
     "name": "#%%\n"
    }
   },
   "outputs": [],
   "source": [
    "#bibliotecas\n",
    "lib = gi.libraries.get_libraries()\n"
   ]
  },
  {
   "cell_type": "code",
   "execution_count": null,
   "metadata": {
    "pycharm": {
     "name": "#%%\n"
    }
   },
   "outputs": [],
   "source": [
    "preprocessing.create_history()"
   ]
  },
  {
   "cell_type": "code",
   "execution_count": null,
   "metadata": {
    "pycharm": {
     "name": "#%%\n"
    }
   },
   "outputs": [],
   "source": [
    "gi.tools.upload_from_ftp(\"data/inputs/toy_SRR5152513_1.fastq\",\"77d77febf1e1394a\")"
   ]
  },
  {
   "cell_type": "code",
   "execution_count": null,
   "metadata": {
    "pycharm": {
     "name": "#%%\n"
    }
   },
   "outputs": [],
   "source": [
    "gi.tools.upload_from_ftp(\"toy_SRR5152513_1.fastq\", \"77d77febf1e1394a\")"
   ]
  },
  {
   "cell_type": "code",
   "execution_count": null,
   "metadata": {
    "pycharm": {
     "name": "#%%\n"
    }
   },
   "outputs": [],
   "source": [
    "import ftplib\n",
    "ftp = ftplib.FTP()\n",
    "ftp.connect(host=server, port=ftp_port)\n",
    "ftp.login(user=user,password=password)\n",
    "\n",
    "\n"
   ]
  },
  {
   "cell_type": "markdown",
   "metadata": {
    "pycharm": {
     "name": "#%% md\n"
    }
   },
   "source": [
    "Uploading file into our history"
   ]
  },
  {
   "cell_type": "code",
   "execution_count": 10,
   "metadata": {
    "pycharm": {
     "name": "#%%\n"
    }
   },
   "outputs": [
    {
     "data": {
      "text/plain": [
       "{'outputs': [{'id': 'bbd44e69cb8906b53f86f8c98266479f',\n",
       "   'hda_ldda': 'hda',\n",
       "   'uuid': '61714d22-cb29-43e3-8759-79e7468b3dc6',\n",
       "   'hid': 2,\n",
       "   'file_ext': 'auto',\n",
       "   'peek': None,\n",
       "   'model_class': 'HistoryDatasetAssociation',\n",
       "   'name': 'toy_SRR5152513_2.fastq',\n",
       "   'deleted': False,\n",
       "   'purged': False,\n",
       "   'visible': True,\n",
       "   'state': 'queued',\n",
       "   'history_content_type': 'dataset',\n",
       "   'file_size': 0,\n",
       "   'create_time': '2022-05-25T08:49:24.544000',\n",
       "   'update_time': '2022-05-25T08:49:24.582751',\n",
       "   'data_type': 'galaxy.datatypes.data.Data',\n",
       "   'genome_build': '?',\n",
       "   'validated_state': 'unknown',\n",
       "   'validated_state_message': None,\n",
       "   'misc_info': None,\n",
       "   'misc_blurb': None,\n",
       "   'tags': [],\n",
       "   'history_id': '7e3ba51446915845',\n",
       "   'metadata_dbkey': '?',\n",
       "   'output_name': 'output0'}],\n",
       " 'output_collections': [],\n",
       " 'jobs': [{'model_class': 'Job',\n",
       "   'id': 'bbd44e69cb8906b5f4bf49796f1e75ac',\n",
       "   'state': 'new',\n",
       "   'exit_code': None,\n",
       "   'update_time': '2022-05-25T08:49:24.645361',\n",
       "   'create_time': '2022-05-25T08:49:24.610286',\n",
       "   'galaxy_version': '22.01',\n",
       "   'tool_id': 'upload1',\n",
       "   'history_id': '7e3ba51446915845'}],\n",
       " 'implicit_collections': [],\n",
       " 'produces_entry_points': False}"
      ]
     },
     "execution_count": 10,
     "metadata": {},
     "output_type": "execute_result"
    }
   ],
   "source": [
    "preprocessing.upload_data_history(\"data/inputs/toy_SRR5152513_2.fastq\", \"7e3ba51446915845\") # ~working \n",
    "# added: genome_annotation.gff3, genome_sequence.fasta, toy_SRR5152513_1.fastq, toy_SRR5152513_2.fastq\n"
   ]
  },
  {
   "cell_type": "code",
   "execution_count": null,
   "metadata": {
    "pycharm": {
     "name": "#%%\n"
    }
   },
   "outputs": [],
   "source": [
    "gi.tools.show_tool(\"fastqc\")[\"id\"]"
   ]
  },
  {
   "cell_type": "code",
   "execution_count": null,
   "metadata": {
    "pycharm": {
     "name": "#%%\n"
    }
   },
   "outputs": [],
   "source": [
    "preprocessing.fastqc(\"77d77febf1e1394a\", \"toy_SRR5152513_1.fastq\")"
   ]
  },
  {
   "cell_type": "code",
   "execution_count": null,
   "metadata": {
    "pycharm": {
     "name": "#%%\n"
    }
   },
   "outputs": [],
   "source": [
    "preprocessing.view_histories()"
   ]
  },
  {
   "cell_type": "code",
   "execution_count": null,
   "metadata": {
    "pycharm": {
     "name": "#%%\n"
    }
   },
   "outputs": [],
   "source": [
    "preprocessing.show_history('bb76b52060f3d03c')"
   ]
  },
  {
   "cell_type": "code",
   "execution_count": null,
   "metadata": {
    "pycharm": {
     "name": "#%%\n"
    }
   },
   "outputs": [],
   "source": [
    "toolClient = ToolClient(galaxy_instance)\n",
    "toolPanels = toolClient.get_tool_panel()"
   ]
  },
  {
   "cell_type": "code",
   "execution_count": null,
   "metadata": {
    "pycharm": {
     "name": "#%%\n"
    }
   },
   "outputs": [],
   "source": [
    "galaxyInstance = galaxy.GalaxyInstance(url='https://usegalaxy.org/', key='879271b2a412ff7df93ae34a5d163eed')\n",
    "toolClient = ToolClient(galaxyInstance)\n",
    "toolPanels = toolClient.get_tool_panel()\n",
    "#print(toolPanels)\n",
    "for toolPanel in toolPanels:\n",
    "    tools = toolPanel['elems']"
   ]
  },
  {
   "cell_type": "code",
   "execution_count": null,
   "metadata": {
    "pycharm": {
     "name": "#%%\n"
    }
   },
   "outputs": [],
   "source": [
    "preprocessing.show_history()"
   ]
  },
  {
   "cell_type": "code",
   "execution_count": null,
   "metadata": {
    "pycharm": {
     "name": "#%%\n"
    }
   },
   "outputs": [],
   "source": [
    "historyClient = HistoryClient(gi)\n",
    "#historyClient.show_matching_datasets()\n",
    "info = historyClient.show_history(\"bb76b52060f3d03c\")\n"
   ]
  },
  {
   "cell_type": "code",
   "execution_count": null,
   "metadata": {
    "pycharm": {
     "name": "#%%\n"
    }
   },
   "outputs": [],
   "source": [
    "historyClient.show_dataset(\"bb76b52060f3d03c\",\"1\")"
   ]
  },
  {
   "cell_type": "code",
   "execution_count": null,
   "metadata": {
    "pycharm": {
     "name": "#%%\n"
    }
   },
   "outputs": [],
   "source": [
    "info1 = gi.datasets.get_datasets()"
   ]
  },
  {
   "cell_type": "code",
   "execution_count": null,
   "metadata": {
    "pycharm": {
     "name": "#%%\n"
    }
   },
   "outputs": [],
   "source": [
    "print(info1[\"dataset_id\"])\n"
   ]
  },
  {
   "cell_type": "code",
   "execution_count": null,
   "metadata": {
    "pycharm": {
     "name": "#%%\n"
    }
   },
   "outputs": [],
   "source": [
    "next(item for item in info1 if item[\"name\"])"
   ]
  },
  {
   "cell_type": "code",
   "execution_count": null,
   "metadata": {
    "pycharm": {
     "name": "#%%\n"
    }
   },
   "outputs": [],
   "source": [
    "name_file = 'toy_SRR5152513_1.fastq'\n",
    "def search(name_file):\n",
    "    return [element['dataset_id'] for element in info1 if element['name'] == name_file and element['state'] == 'ok']"
   ]
  },
  {
   "cell_type": "code",
   "execution_count": null,
   "metadata": {
    "pycharm": {
     "name": "#%%\n"
    }
   },
   "outputs": [],
   "source": [
    "search(name_file)"
   ]
  },
  {
   "cell_type": "code",
   "execution_count": null,
   "metadata": {
    "pycharm": {
     "name": "#%%\n"
    }
   },
   "outputs": [],
   "source": [
    "gi.datasets.get_datasets(history_id='77d77febf1e1394a') #obtemos informação sobre os nossos datasets. cada dataset tem o seu id que será utilizado posteriormente para correr tools"
   ]
  },
  {
   "cell_type": "code",
   "execution_count": null,
   "metadata": {
    "pycharm": {
     "name": "#%%\n"
    }
   },
   "outputs": [],
   "source": [
    "rna_star = gi.tools.show_tool(\"rna_star\")\n",
    "print(rna_star)"
   ]
  },
  {
   "cell_type": "code",
   "execution_count": null,
   "metadata": {
    "pycharm": {
     "name": "#%%\n"
    }
   },
   "outputs": [],
   "source": [
    "#fastqc. experimentei o 'id' e o 'dataset_id'\n",
    "preprocessing.fastqc('77d77febf1e1394a','bbd44e69cb8906b5add14c3924410738')"
   ]
  },
  {
   "cell_type": "code",
   "execution_count": null,
   "metadata": {
    "pycharm": {
     "name": "#%%\n"
    }
   },
   "outputs": [],
   "source": [
    "#star\n",
    "preprocessing.rna_star('77d77febf1e1394a','bbd44e69cb8906b5add14c3924410738')"
   ]
  },
  {
   "cell_type": "code",
   "execution_count": null,
   "metadata": {
    "pycharm": {
     "name": "#%%\n"
    }
   },
   "outputs": [],
   "source": []
  }
 ],
 "metadata": {
  "interpreter": {
   "hash": "aee8b7b246df8f9039afb4144a1f6fd8d2ca17a180786b69acc140d282b71a49"
  },
  "kernelspec": {
   "display_name": "Python 3",
   "language": "python",
   "name": "python3"
  },
  "language_info": {
   "codemirror_mode": {
    "name": "ipython",
    "version": 3
   },
   "file_extension": ".py",
   "mimetype": "text/x-python",
   "name": "python",
   "nbconvert_exporter": "python",
   "pygments_lexer": "ipython3",
   "version": "3.6.7"
  }
 },
 "nbformat": 4,
 "nbformat_minor": 4
}
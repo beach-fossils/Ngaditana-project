{
 "cells": [
  {
   "cell_type": "markdown",
   "metadata": {
    "pycharm": {
     "name": "#%% md\n"
    }
   },
   "source": [
    "#aqui será feito o esqueleto para a seguinte fase do projeto"
   ]
  },
  {
   "cell_type": "code",
   "execution_count": 1,
   "metadata": {
    "collapsed": false,
    "jupyter": {
     "outputs_hidden": false
    },
    "pycharm": {
     "name": "#%%\n"
    }
   },
   "outputs": [],
   "source": [
    "from bioblend import galaxy\n",
    "from src.preprocessing import *"
   ]
  },
  {
   "cell_type": "code",
   "execution_count": 9,
   "metadata": {
    "collapsed": false,
    "jupyter": {
     "outputs_hidden": false
    },
    "pycharm": {
     "name": "#%%\n"
    }
   },
   "outputs": [],
   "source": [
    "gi = galaxy.GalaxyInstance(url='https://usegalaxy.org/', key='b3a37dd4f27915d58f6bbcfe5b9158f2')\n",
    "preprocessing = PreProcessing(galaxy_instance = gi)"
   ]
  },
  {
   "cell_type": "code",
   "execution_count": 10,
   "metadata": {
    "pycharm": {
     "name": "#%%\n"
    }
   },
   "outputs": [
    {
     "name": "stdout",
     "output_type": "stream",
     "text": [
      "[{'model_class': 'User', 'id': '5e35e1272b970dbb', 'email': 'ecunha@ceb.uminho.pt', 'username': 'ecunha', 'deleted': False, 'active': True, 'last_password_change': '2022-03-09T17:30:25.931447'}]\n"
     ]
    }
   ],
   "source": [
    "#ver usuários\n",
    "users = gi.users.get_users()\n",
    "print(users)"
   ]
  },
  {
   "cell_type": "code",
   "execution_count": 4,
   "outputs": [
    {
     "name": "stdout",
     "output_type": "stream",
     "text": [
      "[{'model_class': 'History', 'purged': False, 'published': False, 'update_time': '2022-05-08T18:53:23.494619', 'tags': [], 'deleted': False, 'name': 'projeto_0', 'id': 'bb76b52060f3d03c', 'annotation': None, 'url': '/api/histories/bb76b52060f3d03c'}, {'model_class': 'History', 'purged': False, 'published': False, 'update_time': '2022-05-08T18:52:25.444647', 'tags': [], 'deleted': False, 'name': 'projeto_0', 'id': 'e6bf322e653bb99a', 'annotation': None, 'url': '/api/histories/e6bf322e653bb99a'}, {'model_class': 'History', 'purged': False, 'published': False, 'update_time': '2022-05-08T18:50:53.602922', 'tags': [], 'deleted': False, 'name': 'projeto_0', 'id': '6838a537caecaa73', 'annotation': None, 'url': '/api/histories/6838a537caecaa73'}, {'model_class': 'History', 'purged': False, 'published': False, 'update_time': '2022-05-08T18:50:25.289102', 'tags': [], 'deleted': False, 'name': 'projeto_0', 'id': '5f7acaf09e0c836c', 'annotation': None, 'url': '/api/histories/5f7acaf09e0c836c'}, {'model_class': 'History', 'purged': False, 'published': False, 'update_time': '2022-05-08T18:49:07.652847', 'tags': [], 'deleted': False, 'name': 'projeto_0', 'id': '066f6230313fc9f1', 'annotation': None, 'url': '/api/histories/066f6230313fc9f1'}, {'model_class': 'History', 'purged': False, 'published': False, 'update_time': '2022-05-07T16:13:17.651405', 'tags': [], 'deleted': False, 'name': 'try1', 'id': '78d65aab4d05dabd', 'annotation': None, 'url': '/api/histories/78d65aab4d05dabd'}, {'model_class': 'History', 'purged': False, 'published': False, 'update_time': '2022-05-08T20:23:06.396554', 'tags': [], 'deleted': False, 'name': 'projeto', 'id': '77d77febf1e1394a', 'annotation': None, 'url': '/api/histories/77d77febf1e1394a'}, {'model_class': 'History', 'purged': False, 'published': False, 'update_time': '2022-04-28T17:26:47.348654', 'tags': [], 'deleted': False, 'name': 'Unnamed history', 'id': 'ab18f357fb3a7b44', 'annotation': None, 'url': '/api/histories/ab18f357fb3a7b44'}]\n"
     ]
    }
   ],
   "source": [
    "#histórias sem classe\n",
    "histories = gi.histories.get_histories()\n",
    "print(histories)"
   ],
   "metadata": {
    "collapsed": false,
    "pycharm": {
     "name": "#%%\n"
    }
   }
  },
  {
   "cell_type": "code",
   "execution_count": 11,
   "outputs": [
    {
     "data": {
      "text/plain": "{'update_time': '2022-05-09T08:22:29.519215',\n 'state_details': {'new': 0,\n  'upload': 0,\n  'queued': 0,\n  'running': 0,\n  'ok': 0,\n  'empty': 0,\n  'error': 0,\n  'discarded': 0,\n  'paused': 0,\n  'setting_metadata': 0,\n  'failed_metadata': 0},\n 'tags': [],\n 'importable': False,\n 'username_and_slug': None,\n 'genome_build': None,\n 'create_time': '2022-05-09T08:22:22.881584',\n 'state': 'new',\n 'model_class': 'History',\n 'purged': False,\n 'published': False,\n 'deleted': False,\n 'contents_url': '/api/histories/6e149787f59e395d/contents',\n 'user_id': '5e35e1272b970dbb',\n 'name': 'try1',\n 'url': '/api/histories/6e149787f59e395d',\n 'state_ids': {'new': [],\n  'upload': [],\n  'queued': [],\n  'running': [],\n  'ok': [],\n  'empty': [],\n  'error': [],\n  'discarded': [],\n  'paused': [],\n  'setting_metadata': [],\n  'failed_metadata': []},\n 'id': '6e149787f59e395d',\n 'slug': None,\n 'empty': True,\n 'size': 0,\n 'annotation': None}"
     },
     "execution_count": 11,
     "metadata": {},
     "output_type": "execute_result"
    }
   ],
   "source": [
    "#criar história com classe criada ~ working\n",
    "preprocessing.create_history('try1')"
   ],
   "metadata": {
    "collapsed": false,
    "pycharm": {
     "name": "#%%\n"
    }
   }
  },
  {
   "cell_type": "code",
   "execution_count": 12,
   "outputs": [
    {
     "data": {
      "text/plain": "[{'model_class': 'History',\n  'purged': False,\n  'published': False,\n  'update_time': '2022-05-09T08:22:29.519215',\n  'tags': [],\n  'deleted': False,\n  'name': 'try1',\n  'id': '6e149787f59e395d',\n  'annotation': None,\n  'url': '/api/histories/6e149787f59e395d'},\n {'model_class': 'History',\n  'purged': False,\n  'published': False,\n  'update_time': '2022-04-26T14:43:24.313404',\n  'tags': [],\n  'deleted': False,\n  'name': 'ngaditana',\n  'id': '00171fbac338ace6',\n  'annotation': None,\n  'url': '/api/histories/00171fbac338ace6'},\n {'model_class': 'History',\n  'purged': False,\n  'published': False,\n  'update_time': '2022-03-09T23:30:24.004343',\n  'tags': [],\n  'deleted': False,\n  'name': 'Unnamed history',\n  'id': '36aa58624a91f1d2',\n  'annotation': None,\n  'url': '/api/histories/36aa58624a91f1d2'}]"
     },
     "execution_count": 12,
     "metadata": {},
     "output_type": "execute_result"
    }
   ],
   "source": [
    "#ver histórias criadas com class ~ working\n",
    "preprocessing.view_histories()"
   ],
   "metadata": {
    "collapsed": false,
    "pycharm": {
     "name": "#%%\n"
    }
   }
  },
  {
   "cell_type": "code",
   "execution_count": 22,
   "outputs": [
    {
     "data": {
      "text/plain": "{'outputs': [{'id': 'bbd44e69cb8906b57ca5a16d3e6ea6ed',\n   'hda_ldda': 'hda',\n   'uuid': '1c69dc3d-fbe1-45e9-b166-c1c0b1c53c20',\n   'hid': 9,\n   'file_ext': 'auto',\n   'peek': None,\n   'model_class': 'HistoryDatasetAssociation',\n   'name': 'toy_SRR5152513_2.fastq',\n   'deleted': False,\n   'purged': False,\n   'visible': True,\n   'state': 'queued',\n   'history_content_type': 'dataset',\n   'file_size': 0,\n   'create_time': '2022-05-09T08:35:10.964690',\n   'update_time': '2022-05-09T08:35:11.008503',\n   'data_type': 'galaxy.datatypes.data.Data',\n   'genome_build': '?',\n   'validated_state': 'unknown',\n   'validated_state_message': None,\n   'misc_info': None,\n   'misc_blurb': None,\n   'tags': [],\n   'history_id': '6e149787f59e395d',\n   'metadata_dbkey': '?',\n   'output_name': 'output0'}],\n 'output_collections': [],\n 'jobs': [{'model_class': 'Job',\n   'id': 'bbd44e69cb8906b50afdb4ed670a13d0',\n   'state': 'new',\n   'exit_code': None,\n   'update_time': '2022-05-09T08:35:11.070643',\n   'create_time': '2022-05-09T08:35:11.039071',\n   'galaxy_version': '22.01',\n   'tool_id': 'upload1',\n   'history_id': '6e149787f59e395d'}],\n 'implicit_collections': [],\n 'produces_entry_points': False}"
     },
     "execution_count": 22,
     "metadata": {},
     "output_type": "execute_result"
    }
   ],
   "source": [
    "# preprocessing.upload_data_history(\"data/inputs/toy_SRR5152513_1.fastq\",\"6e149787f59e395d\")\n",
    "preprocessing.upload_data_history(\"data/inputs/toy_SRR5152513_2.fastq\",\"6e149787f59e395d\")"
   ],
   "metadata": {
    "collapsed": false,
    "pycharm": {
     "name": "#%%\n"
    }
   }
  },
  {
   "cell_type": "code",
   "execution_count": 15,
   "outputs": [],
   "source": [
    "#bibliotecas\n",
    "lib = gi.libraries.get_libraries()"
   ],
   "metadata": {
    "collapsed": false,
    "pycharm": {
     "name": "#%%\n"
    }
   }
  },
  {
   "cell_type": "code",
   "execution_count": null,
   "outputs": [],
   "source": [
    "preprocessing.create_history()"
   ],
   "metadata": {
    "collapsed": false,
    "pycharm": {
     "name": "#%%\n"
    }
   }
  },
  {
   "cell_type": "code",
   "execution_count": null,
   "outputs": [],
   "source": [
    "gi.tools.upload_from_ftp(\"data/inputs/toy_SRR5152513_1.fastq\",\"77d77febf1e1394a\")"
   ],
   "metadata": {
    "collapsed": false,
    "pycharm": {
     "name": "#%%\n"
    }
   }
  },
  {
   "cell_type": "code",
   "execution_count": null,
   "outputs": [],
   "source": [
    "gi.tools.upload_from_ftp(\"toy_SRR5152513_1.fastq\", \"77d77febf1e1394a\")"
   ],
   "metadata": {
    "collapsed": false,
    "pycharm": {
     "name": "#%%\n"
    }
   }
  },
  {
   "cell_type": "code",
   "execution_count": null,
   "outputs": [],
   "source": [
    "import ftplib\n",
    "ftp = ftplib.FTP()\n",
    "ftp.connect(host=server, port=ftp_port)\n",
    "ftp.login(user=user,password=password)\n",
    "\n",
    "\n"
   ],
   "metadata": {
    "collapsed": false,
    "pycharm": {
     "name": "#%%\n"
    }
   }
  },
  {
   "cell_type": "markdown",
   "source": [
    "Uploading file into our history"
   ],
   "metadata": {
    "collapsed": false,
    "pycharm": {
     "name": "#%% md\n"
    }
   }
  },
  {
   "cell_type": "code",
   "execution_count": null,
   "outputs": [],
   "source": [
    "preprocessing.upload_data_history(\"data/inputs/toy_SRR5152513_2.fastq\", \"77d77febf1e1394a\") # ~working \n",
    "# added: genome_annotation.gff3, genome_sequence.fasta, toy_SRR5152513_1.fastq, toy_SRR5152513_2.fastq\n"
   ],
   "metadata": {
    "collapsed": false,
    "pycharm": {
     "name": "#%%\n"
    }
   }
  },
  {
   "cell_type": "code",
   "execution_count": 16,
   "outputs": [
    {
     "data": {
      "text/plain": "'toolshed.g2.bx.psu.edu/repos/devteam/fastqc/fastqc/0.73+galaxy0'"
     },
     "execution_count": 16,
     "metadata": {},
     "output_type": "execute_result"
    }
   ],
   "source": [
    "gi.tools.show_tool(\"fastqc\")[\"id\"]"
   ],
   "metadata": {
    "collapsed": false,
    "pycharm": {
     "name": "#%%\n"
    }
   }
  },
  {
   "cell_type": "code",
   "execution_count": 20,
   "outputs": [
    {
     "data": {
      "text/plain": "[{'purged': False,\n  'update_time': '2022-05-09T08:23:12.467064',\n  'history_content_type': 'dataset',\n  'visible': True,\n  'dataset_id': 'bbd44e69cb8906b5561e491f8dc13e8a',\n  'tags': [],\n  'deleted': False,\n  'history_id': '6e149787f59e395d',\n  'type_id': 'dataset-bbd44e69cb8906b526135da248b7d5ae',\n  'name': 'toy_SRR5152513_2.fastq',\n  'extension': 'auto',\n  'id': 'bbd44e69cb8906b526135da248b7d5ae',\n  'type': 'file',\n  'create_time': '2022-05-09T08:23:01.660543',\n  'state': 'running',\n  'hid': 2,\n  'url': '/api/histories/6e149787f59e395d/contents/bbd44e69cb8906b526135da248b7d5ae'},\n {'purged': False,\n  'update_time': '2022-05-09T08:23:41.364323',\n  'history_content_type': 'dataset',\n  'visible': True,\n  'dataset_id': 'bbd44e69cb8906b5cc67f745ef940d6e',\n  'tags': [],\n  'deleted': False,\n  'history_id': '6e149787f59e395d',\n  'type_id': 'dataset-bbd44e69cb8906b500409e76a0ba3c16',\n  'name': 'toy_SRR5152513_1.fastq',\n  'extension': 'txt',\n  'id': 'bbd44e69cb8906b500409e76a0ba3c16',\n  'type': 'file',\n  'create_time': '2022-05-09T08:22:55.576868',\n  'state': 'ok',\n  'hid': 1,\n  'url': '/api/histories/6e149787f59e395d/contents/bbd44e69cb8906b500409e76a0ba3c16'}]"
     },
     "execution_count": 20,
     "metadata": {},
     "output_type": "execute_result"
    }
   ],
   "source": [
    "gi.datasets.get_datasets(history_id=\"6e149787f59e395d\")"
   ],
   "metadata": {
    "collapsed": false,
    "pycharm": {
     "name": "#%%\n"
    }
   }
  },
  {
   "cell_type": "code",
   "execution_count": 21,
   "outputs": [
    {
     "data": {
      "text/plain": "{'outputs': [{'id': 'bbd44e69cb8906b5ced518cb8ba105f8',\n   'hda_ldda': 'hda',\n   'uuid': '5ad8707a-983f-4ab3-890a-034d76729dfc',\n   'hid': 5,\n   'file_ext': 'html',\n   'peek': None,\n   'model_class': 'HistoryDatasetAssociation',\n   'name': 'FastQC on data 2: Webpage',\n   'deleted': False,\n   'purged': False,\n   'visible': True,\n   'state': 'new',\n   'history_content_type': 'dataset',\n   'file_size': 0,\n   'create_time': '2022-05-09T08:30:29.177021',\n   'update_time': '2022-05-09T08:30:29.177025',\n   'data_type': 'galaxy.datatypes.text.Html',\n   'genome_build': '?',\n   'validated_state': 'unknown',\n   'validated_state_message': None,\n   'misc_info': None,\n   'misc_blurb': 'queued',\n   'tags': [],\n   'history_id': '6e149787f59e395d',\n   'metadata_dbkey': '?',\n   'metadata_data_lines': 0,\n   'output_name': 'html_file'},\n  {'id': 'bbd44e69cb8906b5b1cdc0bc94efdf9c',\n   'hda_ldda': 'hda',\n   'uuid': '689ca9c2-572d-4015-af9a-56ae22986c56',\n   'hid': 6,\n   'file_ext': 'txt',\n   'peek': None,\n   'model_class': 'HistoryDatasetAssociation',\n   'name': 'FastQC on data 2: RawData',\n   'deleted': False,\n   'purged': False,\n   'visible': True,\n   'state': 'new',\n   'history_content_type': 'dataset',\n   'file_size': 0,\n   'create_time': '2022-05-09T08:30:29.177029',\n   'update_time': '2022-05-09T08:30:29.177031',\n   'data_type': 'galaxy.datatypes.data.Text',\n   'genome_build': '?',\n   'validated_state': 'unknown',\n   'validated_state_message': None,\n   'misc_info': None,\n   'misc_blurb': 'queued',\n   'tags': [],\n   'history_id': '6e149787f59e395d',\n   'metadata_dbkey': '?',\n   'metadata_data_lines': 0,\n   'output_name': 'text_file'}],\n 'output_collections': [],\n 'jobs': [{'model_class': 'Job',\n   'id': 'bbd44e69cb8906b5c384118313987635',\n   'state': 'new',\n   'exit_code': None,\n   'update_time': '2022-05-09T08:30:29.191364',\n   'create_time': '2022-05-09T08:30:29.168436',\n   'galaxy_version': '22.01',\n   'tool_id': 'toolshed.g2.bx.psu.edu/repos/devteam/fastqc/fastqc/0.73+galaxy0',\n   'history_id': '6e149787f59e395d'}],\n 'implicit_collections': [],\n 'produces_entry_points': False}"
     },
     "execution_count": 21,
     "metadata": {},
     "output_type": "execute_result"
    }
   ],
   "source": [
    "preprocessing.fastqc(\"6e149787f59e395d\", {\"\" :\"bbd44e69cb8906b500409e76a0ba3c16\"})"
   ],
   "metadata": {
    "collapsed": false,
    "pycharm": {
     "name": "#%%\n"
    }
   }
  },
  {
   "cell_type": "markdown",
   "metadata": {
    "pycharm": {
     "name": "#%% md\n"
    }
   },
   "source": [
    "Uploading file into our history"
   ]
  },
  {
   "cell_type": "code",
   "execution_count": 7,
   "metadata": {
    "pycharm": {
     "name": "#%%\n"
    }
   },
   "outputs": [
    {
     "data": {
      "text/plain": [
       "{'outputs': [{'id': 'bbd44e69cb8906b5d4afedb3e7f3098e',\n",
       "   'hda_ldda': 'hda',\n",
       "   'uuid': 'a507dc31-8bc1-4e25-bb50-7ac437279ff4',\n",
       "   'hid': 9,\n",
       "   'file_ext': 'auto',\n",
       "   'peek': None,\n",
       "   'model_class': 'HistoryDatasetAssociation',\n",
       "   'name': 'toy_SRR5152513_1.fastq',\n",
       "   'deleted': False,\n",
       "   'purged': False,\n",
       "   'visible': True,\n",
       "   'state': 'queued',\n",
       "   'history_content_type': 'dataset',\n",
       "   'file_size': 0,\n",
       "   'create_time': '2022-05-08T20:22:22.580460',\n",
       "   'update_time': '2022-05-08T20:22:22.607450',\n",
       "   'data_type': 'galaxy.datatypes.data.Data',\n",
       "   'genome_build': '?',\n",
       "   'validated_state': 'unknown',\n",
       "   'validated_state_message': None,\n",
       "   'misc_info': None,\n",
       "   'misc_blurb': None,\n",
       "   'tags': [],\n",
       "   'history_id': '77d77febf1e1394a',\n",
       "   'metadata_dbkey': '?',\n",
       "   'output_name': 'output0'}],\n",
       " 'output_collections': [],\n",
       " 'jobs': [{'model_class': 'Job',\n",
       "   'id': 'bbd44e69cb8906b5b7deb5910dcc075b',\n",
       "   'state': 'new',\n",
       "   'exit_code': None,\n",
       "   'update_time': '2022-05-08T20:22:22.651817',\n",
       "   'create_time': '2022-05-08T20:22:22.635509',\n",
       "   'galaxy_version': '22.01',\n",
       "   'tool_id': 'upload1',\n",
       "   'history_id': '77d77febf1e1394a'}],\n",
       " 'implicit_collections': [],\n",
       " 'produces_entry_points': False}"
      ]
     },
     "execution_count": 7,
     "metadata": {},
     "output_type": "execute_result"
    }
   ],
   "source": [
    "preprocessing.upload_data_history(\"data/inputs/toy_SRR5152513_2.fastq\", \"77d77febf1e1394a\") # ~working \n",
    "# added: genome_annotation.gff3, genome_sequence.fasta, toy_SRR5152513_1.fastq, toy_SRR5152513_2.fastq\n"
   ]
  },
  {
   "cell_type": "code",
   "execution_count": 16,
   "metadata": {
    "pycharm": {
     "name": "#%%\n"
    }
   },
   "outputs": [
    {
     "data": {
      "text/plain": [
       "'toolshed.g2.bx.psu.edu/repos/devteam/fastqc/fastqc/0.73+galaxy0'"
      ]
     },
     "execution_count": 16,
     "metadata": {},
     "output_type": "execute_result"
    }
   ],
   "source": [
    "gi.tools.show_tool(\"fastqc\")[\"id\"]"
   ]
  },
  {
   "cell_type": "code",
   "execution_count": 5,
   "metadata": {
    "pycharm": {
     "name": "#%%\n"
    }
   },
   "outputs": [
    {
     "ename": "ConnectionError",
     "evalue": "Unexpected HTTP status code: 400: {\"err_msg\": \"inputs invalid toy_SRR5152513_1.fastq\", \"err_code\": 400008}",
     "output_type": "error",
     "traceback": [
      "\u001B[0;31m---------------------------------------------------------------------------\u001B[0m",
      "\u001B[0;31mConnectionError\u001B[0m                           Traceback (most recent call last)",
      "Input \u001B[0;32mIn [5]\u001B[0m, in \u001B[0;36m<module>\u001B[0;34m\u001B[0m\n\u001B[0;32m----> 1\u001B[0m \u001B[43mpreprocessing\u001B[49m\u001B[38;5;241;43m.\u001B[39;49m\u001B[43mfastqc\u001B[49m\u001B[43m(\u001B[49m\u001B[38;5;124;43m\"\u001B[39;49m\u001B[38;5;124;43m77d77febf1e1394a\u001B[39;49m\u001B[38;5;124;43m\"\u001B[39;49m\u001B[43m,\u001B[49m\u001B[43m \u001B[49m\u001B[38;5;124;43m\"\u001B[39;49m\u001B[38;5;124;43mtoy_SRR5152513_1.fastq\u001B[39;49m\u001B[38;5;124;43m\"\u001B[39;49m\u001B[43m)\u001B[49m\n",
      "File \u001B[0;32m~/Documents/GitHub/bioinformatics-project/src/preprocessing.py:107\u001B[0m, in \u001B[0;36mPreProcessing.fastqc\u001B[0;34m(self, history_id, tool_inputs)\u001B[0m\n\u001B[1;32m    105\u001B[0m \u001B[38;5;28;01mdef\u001B[39;00m \u001B[38;5;21mfastqc\u001B[39m(\u001B[38;5;28mself\u001B[39m, history_id, tool_inputs ):\n\u001B[1;32m    106\u001B[0m     tool_id \u001B[38;5;241m=\u001B[39m \u001B[38;5;28mself\u001B[39m\u001B[38;5;241m.\u001B[39mgalaxy_instance\u001B[38;5;241m.\u001B[39mtools\u001B[38;5;241m.\u001B[39mshow_tool(\u001B[38;5;124m\"\u001B[39m\u001B[38;5;124mfastqc\u001B[39m\u001B[38;5;124m\"\u001B[39m)[\u001B[38;5;124m\"\u001B[39m\u001B[38;5;124mid\u001B[39m\u001B[38;5;124m\"\u001B[39m]\n\u001B[0;32m--> 107\u001B[0m     \u001B[38;5;28;01mreturn\u001B[39;00m \u001B[38;5;28;43mself\u001B[39;49m\u001B[38;5;241;43m.\u001B[39;49m\u001B[43mgalaxy_instance\u001B[49m\u001B[38;5;241;43m.\u001B[39;49m\u001B[43mtools\u001B[49m\u001B[38;5;241;43m.\u001B[39;49m\u001B[43mrun_tool\u001B[49m\u001B[43m(\u001B[49m\u001B[43mhistory_id\u001B[49m\u001B[43m,\u001B[49m\u001B[43m \u001B[49m\u001B[43mtool_id\u001B[49m\u001B[43m,\u001B[49m\u001B[43m \u001B[49m\u001B[43mtool_inputs\u001B[49m\u001B[43m)\u001B[49m\n",
      "File \u001B[0;32m/Library/Frameworks/Python.framework/Versions/3.10/lib/python3.10/site-packages/bioblend/galaxy/tools/__init__.py:250\u001B[0m, in \u001B[0;36mToolClient.run_tool\u001B[0;34m(self, history_id, tool_id, tool_inputs, input_format)\u001B[0m\n\u001B[1;32m    248\u001B[0m \u001B[38;5;28;01mexcept\u001B[39;00m \u001B[38;5;167;01mAttributeError\u001B[39;00m:\n\u001B[1;32m    249\u001B[0m     payload[\u001B[38;5;124m\"\u001B[39m\u001B[38;5;124minputs\u001B[39m\u001B[38;5;124m\"\u001B[39m] \u001B[38;5;241m=\u001B[39m tool_inputs\n\u001B[0;32m--> 250\u001B[0m \u001B[38;5;28;01mreturn\u001B[39;00m \u001B[38;5;28;43mself\u001B[39;49m\u001B[38;5;241;43m.\u001B[39;49m\u001B[43m_post\u001B[49m\u001B[43m(\u001B[49m\u001B[43mpayload\u001B[49m\u001B[43m)\u001B[49m\n",
      "File \u001B[0;32m/Library/Frameworks/Python.framework/Versions/3.10/lib/python3.10/site-packages/bioblend/galaxy/client.py:176\u001B[0m, in \u001B[0;36mClient._post\u001B[0;34m(self, payload, id, deleted, contents, url, files_attached)\u001B[0m\n\u001B[1;32m    174\u001B[0m \u001B[38;5;28;01mif\u001B[39;00m \u001B[38;5;129;01mnot\u001B[39;00m url:\n\u001B[1;32m    175\u001B[0m     url \u001B[38;5;241m=\u001B[39m \u001B[38;5;28mself\u001B[39m\u001B[38;5;241m.\u001B[39m_make_url(module_id\u001B[38;5;241m=\u001B[39m\u001B[38;5;28mid\u001B[39m, deleted\u001B[38;5;241m=\u001B[39mdeleted, contents\u001B[38;5;241m=\u001B[39mcontents)\n\u001B[0;32m--> 176\u001B[0m \u001B[38;5;28;01mreturn\u001B[39;00m \u001B[38;5;28;43mself\u001B[39;49m\u001B[38;5;241;43m.\u001B[39;49m\u001B[43mgi\u001B[49m\u001B[38;5;241;43m.\u001B[39;49m\u001B[43mmake_post_request\u001B[49m\u001B[43m(\u001B[49m\u001B[43murl\u001B[49m\u001B[43m,\u001B[49m\u001B[43m \u001B[49m\u001B[43mpayload\u001B[49m\u001B[38;5;241;43m=\u001B[39;49m\u001B[43mpayload\u001B[49m\u001B[43m,\u001B[49m\n\u001B[1;32m    177\u001B[0m \u001B[43m                                 \u001B[49m\u001B[43mfiles_attached\u001B[49m\u001B[38;5;241;43m=\u001B[39;49m\u001B[43mfiles_attached\u001B[49m\u001B[43m)\u001B[49m\n",
      "File \u001B[0;32m/Library/Frameworks/Python.framework/Versions/3.10/lib/python3.10/site-packages/bioblend/galaxyclient.py:153\u001B[0m, in \u001B[0;36mGalaxyClient.make_post_request\u001B[0;34m(self, url, payload, params, files_attached)\u001B[0m\n\u001B[1;32m    147\u001B[0m         \u001B[38;5;28;01mraise\u001B[39;00m \u001B[38;5;167;01mConnectionError\u001B[39;00m(\n\u001B[1;32m    148\u001B[0m             \u001B[38;5;124mf\u001B[39m\u001B[38;5;124m\"\u001B[39m\u001B[38;5;124mRequest was successful, but cannot decode the response content: \u001B[39m\u001B[38;5;132;01m{\u001B[39;00me\u001B[38;5;132;01m}\u001B[39;00m\u001B[38;5;124m\"\u001B[39m,\n\u001B[1;32m    149\u001B[0m             body\u001B[38;5;241m=\u001B[39mr\u001B[38;5;241m.\u001B[39mcontent,\n\u001B[1;32m    150\u001B[0m             status_code\u001B[38;5;241m=\u001B[39mr\u001B[38;5;241m.\u001B[39mstatus_code,\n\u001B[1;32m    151\u001B[0m         )\n\u001B[1;32m    152\u001B[0m \u001B[38;5;66;03m# @see self.body for HTTP response body\u001B[39;00m\n\u001B[0;32m--> 153\u001B[0m \u001B[38;5;28;01mraise\u001B[39;00m \u001B[38;5;167;01mConnectionError\u001B[39;00m(\n\u001B[1;32m    154\u001B[0m     \u001B[38;5;124mf\u001B[39m\u001B[38;5;124m\"\u001B[39m\u001B[38;5;124mUnexpected HTTP status code: \u001B[39m\u001B[38;5;132;01m{\u001B[39;00mr\u001B[38;5;241m.\u001B[39mstatus_code\u001B[38;5;132;01m}\u001B[39;00m\u001B[38;5;124m\"\u001B[39m,\n\u001B[1;32m    155\u001B[0m     body\u001B[38;5;241m=\u001B[39mr\u001B[38;5;241m.\u001B[39mtext,\n\u001B[1;32m    156\u001B[0m     status_code\u001B[38;5;241m=\u001B[39mr\u001B[38;5;241m.\u001B[39mstatus_code,\n\u001B[1;32m    157\u001B[0m )\n",
      "\u001B[0;31mConnectionError\u001B[0m: Unexpected HTTP status code: 400: {\"err_msg\": \"inputs invalid toy_SRR5152513_1.fastq\", \"err_code\": 400008}"
     ]
    }
   ],
   "source": [
    "preprocessing.fastqc(\"77d77febf1e1394a\", \"toy_SRR5152513_1.fastq\")"
   ]
  },
  {
   "cell_type": "code",
   "execution_count": null,
   "metadata": {
    "pycharm": {
     "name": "#%%\n"
    }
   },
   "outputs": [],
   "source": []
  }
 ],
 "metadata": {
  "interpreter": {
   "hash": "aee8b7b246df8f9039afb4144a1f6fd8d2ca17a180786b69acc140d282b71a49"
  },
  "kernelspec": {
   "display_name": "Python 3",
   "language": "python",
   "name": "python3"
  },
  "language_info": {
   "codemirror_mode": {
    "name": "ipython",
    "version": 3
   },
   "file_extension": ".py",
   "mimetype": "text/x-python",
   "name": "python",
   "nbconvert_exporter": "python",
   "pygments_lexer": "ipython3",
   "version": "3.10.0"
  }
 },
 "nbformat": 4,
 "nbformat_minor": 4
}
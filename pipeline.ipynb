{
 "cells": [
  {
   "cell_type": "markdown",
   "metadata": {
    "pycharm": {
     "name": "#%% md\n"
    }
   },
   "source": [
    "#aqui será feito o esqueleto para a seguinte fase do projeto"
   ]
  },
  {
   "cell_type": "code",
   "execution_count": 4,
   "metadata": {
    "collapsed": false,
    "jupyter": {
     "outputs_hidden": false
    },
    "pycharm": {
     "name": "#%%\n"
    }
   },
   "outputs": [],
   "source": [
    "from bioblend import galaxy\n",
    "\n",
    "from src.preprocessing import *"
   ]
  },
  {
   "cell_type": "code",
   "execution_count": 5,
   "metadata": {
    "collapsed": false,
    "jupyter": {
     "outputs_hidden": false
    },
    "pycharm": {
     "name": "#%%\n"
    }
   },
   "outputs": [],
   "source": [
    "gi = galaxy.GalaxyInstance(url='https://usegalaxy.org/', key='879271b2a412ff7df93ae34a5d163eed')\n",
    "preprocessing = PreProcessing(galaxy_instance = gi)"
   ]
  },
  {
   "cell_type": "code",
   "execution_count": 6,
   "metadata": {
    "pycharm": {
     "name": "#%%\n"
    }
   },
   "outputs": [
    {
     "name": "stdout",
     "output_type": "stream",
     "text": [
      "[{'model_class': 'User', 'id': 'c275217dab129a20', 'email': 'pg45965@alunos.uminho.pt', 'username': 'josediogomoura', 'deleted': False, 'active': True, 'last_password_change': '2022-04-28T12:26:42.502963'}]\n"
     ]
    }
   ],
   "source": [
    "#ver usuários\n",
    "users = gi.users.get_users()\n",
    "print(users)"
   ]
  },
  {
   "cell_type": "code",
   "execution_count": 5,
   "metadata": {
    "pycharm": {
     "name": "#%%\n"
    }
   },
   "outputs": [
    {
     "name": "stdout",
     "output_type": "stream",
     "text": [
      "[{'name': 'projeto', 'annotation': None, 'published': False, 'purged': False, 'tags': [], 'update_time': '2022-04-28T19:51:18.074670', 'deleted': False, 'id': '77d77febf1e1394a', 'url': '/api/histories/77d77febf1e1394a', 'model_class': 'History'}, {'name': 'Unnamed history', 'annotation': None, 'published': False, 'purged': False, 'tags': [], 'update_time': '2022-04-28T17:26:47.348654', 'deleted': False, 'id': 'ab18f357fb3a7b44', 'url': '/api/histories/ab18f357fb3a7b44', 'model_class': 'History'}]\n"
     ]
    }
   ],
   "source": [
    "#histórias sem classe\n",
    "histories = gi.histories.get_histories()\n",
    "print(histories)"
   ]
  },
  {
   "cell_type": "code",
   "execution_count": 3,
   "metadata": {
    "pycharm": {
     "name": "#%%\n"
    }
   },
   "outputs": [
    {
     "data": {
      "text/plain": [
       "{'id': '78d65aab4d05dabd',\n",
       " 'url': '/api/histories/78d65aab4d05dabd',\n",
       " 'update_time': '2022-05-07T16:13:17.651405',\n",
       " 'username_and_slug': None,\n",
       " 'state_details': {'new': 0,\n",
       "  'upload': 0,\n",
       "  'queued': 0,\n",
       "  'running': 0,\n",
       "  'ok': 0,\n",
       "  'empty': 0,\n",
       "  'error': 0,\n",
       "  'discarded': 0,\n",
       "  'paused': 0,\n",
       "  'setting_metadata': 0,\n",
       "  'failed_metadata': 0},\n",
       " 'state_ids': {'new': [],\n",
       "  'upload': [],\n",
       "  'queued': [],\n",
       "  'running': [],\n",
       "  'ok': [],\n",
       "  'empty': [],\n",
       "  'error': [],\n",
       "  'discarded': [],\n",
       "  'paused': [],\n",
       "  'setting_metadata': [],\n",
       "  'failed_metadata': []},\n",
       " 'annotation': None,\n",
       " 'user_id': 'c275217dab129a20',\n",
       " 'tags': [],\n",
       " 'genome_build': None,\n",
       " 'empty': True,\n",
       " 'name': 'try1',\n",
       " 'state': 'new',\n",
       " 'model_class': 'History',\n",
       " 'size': 0,\n",
       " 'purged': False,\n",
       " 'importable': False,\n",
       " 'deleted': False,\n",
       " 'published': False,\n",
       " 'create_time': '2022-05-07T16:13:17.651388',\n",
       " 'slug': None,\n",
       " 'contents_url': '/api/histories/78d65aab4d05dabd/contents'}"
      ]
     },
     "execution_count": 3,
     "metadata": {},
     "output_type": "execute_result"
    }
   ],
   "source": [
    "#criar história com classe criada ~ working\n",
    "preprocessing.create_history('try1')"
   ]
  },
  {
   "cell_type": "code",
   "execution_count": 4,
   "metadata": {
    "pycharm": {
     "name": "#%%\n"
    }
   },
   "outputs": [
    {
     "data": {
      "text/plain": [
       "[{'model_class': 'History',\n",
       "  'purged': False,\n",
       "  'published': False,\n",
       "  'update_time': '2022-05-07T16:13:17.651405',\n",
       "  'tags': [],\n",
       "  'deleted': False,\n",
       "  'name': 'try1',\n",
       "  'id': '78d65aab4d05dabd',\n",
       "  'annotation': None,\n",
       "  'url': '/api/histories/78d65aab4d05dabd'},\n",
       " {'model_class': 'History',\n",
       "  'purged': False,\n",
       "  'published': False,\n",
       "  'update_time': '2022-04-28T19:51:18.074670',\n",
       "  'tags': [],\n",
       "  'deleted': False,\n",
       "  'name': 'projeto',\n",
       "  'id': '77d77febf1e1394a',\n",
       "  'annotation': None,\n",
       "  'url': '/api/histories/77d77febf1e1394a'},\n",
       " {'model_class': 'History',\n",
       "  'purged': False,\n",
       "  'published': False,\n",
       "  'update_time': '2022-04-28T17:26:47.348654',\n",
       "  'tags': [],\n",
       "  'deleted': False,\n",
       "  'name': 'Unnamed history',\n",
       "  'id': 'ab18f357fb3a7b44',\n",
       "  'annotation': None,\n",
       "  'url': '/api/histories/ab18f357fb3a7b44'}]"
      ]
     },
     "execution_count": 4,
     "metadata": {},
     "output_type": "execute_result"
    }
   ],
   "source": [
    "#ver histórias criadas com class ~ working\n",
    "preprocessing.view_histories()"
   ]
  },
  {
   "cell_type": "code",
   "execution_count": 23,
   "metadata": {
    "collapsed": false,
    "jupyter": {
     "outputs_hidden": false
    },
    "pycharm": {
     "name": "#%%\n"
    }
   },
   "outputs": [
    {
     "ename": "ConnectionError",
     "evalue": "Unexpected HTTP status code: 400: {\"err_msg\": \"No data was entered in the upload form, please go back and choose data to upload.\", \"err_code\": 0}",
     "output_type": "error",
     "traceback": [
      "\u001B[0;31m---------------------------------------------------------------------------\u001B[0m",
      "\u001B[0;31mConnectionError\u001B[0m                           Traceback (most recent call last)",
      "Input \u001B[0;32mIn [23]\u001B[0m, in \u001B[0;36m<module>\u001B[0;34m\u001B[0m\n\u001B[0;32m----> 1\u001B[0m \u001B[43mpreprocessing\u001B[49m\u001B[38;5;241;43m.\u001B[39;49m\u001B[43mupload_data_history\u001B[49m\u001B[43m(\u001B[49m\u001B[38;5;124;43m\"\u001B[39;49m\u001B[38;5;124;43mdata/inputs/toy_SRR5152513_1.fastq\u001B[39;49m\u001B[38;5;124;43m\"\u001B[39;49m\u001B[43m,\u001B[49m\u001B[38;5;124;43m\"\u001B[39;49m\u001B[38;5;124;43m77d77febf1e1394a\u001B[39;49m\u001B[38;5;124;43m\"\u001B[39;49m\u001B[43m)\u001B[49m\n",
      "File \u001B[0;32m~/Documents/GitHub/bioinformatics-project/src/preprocessing.py:51\u001B[0m, in \u001B[0;36mPreProcessing.upload_data_history\u001B[0;34m(self, file_local_path, history_id)\u001B[0m\n\u001B[1;32m     45\u001B[0m \u001B[38;5;28;01mdef\u001B[39;00m \u001B[38;5;21mupload_data_history\u001B[39m(\u001B[38;5;28mself\u001B[39m, file_local_path, history_id):\n\u001B[1;32m     46\u001B[0m     \u001B[38;5;124;03m\"\"\" method to upload a local file to certain history\u001B[39;00m\n\u001B[1;32m     47\u001B[0m \u001B[38;5;124;03m    Args:\u001B[39;00m\n\u001B[1;32m     48\u001B[0m \u001B[38;5;124;03m        file_local_path (str): path where our file is located\u001B[39;00m\n\u001B[1;32m     49\u001B[0m \u001B[38;5;124;03m        history_id (str): id of history where the file will be uploaded\u001B[39;00m\n\u001B[1;32m     50\u001B[0m \u001B[38;5;124;03m    \"\"\"\u001B[39;00m\n\u001B[0;32m---> 51\u001B[0m     \u001B[38;5;28;43mself\u001B[39;49m\u001B[38;5;241;43m.\u001B[39;49m\u001B[43mgalaxy_instance\u001B[49m\u001B[38;5;241;43m.\u001B[39;49m\u001B[43mtools\u001B[49m\u001B[38;5;241;43m.\u001B[39;49m\u001B[43mupload_from_ftp\u001B[49m\u001B[43m(\u001B[49m\u001B[43mfile_local_path\u001B[49m\u001B[43m,\u001B[49m\u001B[43m \u001B[49m\u001B[43mhistory_id\u001B[49m\u001B[43m)\u001B[49m\n",
      "File \u001B[0;32m/Library/Frameworks/Python.framework/Versions/3.10/lib/python3.10/site-packages/bioblend/galaxy/tools/__init__.py:311\u001B[0m, in \u001B[0;36mToolClient.upload_from_ftp\u001B[0;34m(self, path, history_id, **keywords)\u001B[0m\n\u001B[1;32m    309\u001B[0m payload \u001B[38;5;241m=\u001B[39m \u001B[38;5;28mself\u001B[39m\u001B[38;5;241m.\u001B[39m_upload_payload(history_id, \u001B[38;5;241m*\u001B[39m\u001B[38;5;241m*\u001B[39mkeywords)\n\u001B[1;32m    310\u001B[0m payload[\u001B[38;5;124m'\u001B[39m\u001B[38;5;124mfiles_0|ftp_files\u001B[39m\u001B[38;5;124m'\u001B[39m] \u001B[38;5;241m=\u001B[39m path\n\u001B[0;32m--> 311\u001B[0m \u001B[38;5;28;01mreturn\u001B[39;00m \u001B[38;5;28;43mself\u001B[39;49m\u001B[38;5;241;43m.\u001B[39;49m\u001B[43m_post\u001B[49m\u001B[43m(\u001B[49m\u001B[43mpayload\u001B[49m\u001B[43m)\u001B[49m\n",
      "File \u001B[0;32m/Library/Frameworks/Python.framework/Versions/3.10/lib/python3.10/site-packages/bioblend/galaxy/client.py:176\u001B[0m, in \u001B[0;36mClient._post\u001B[0;34m(self, payload, id, deleted, contents, url, files_attached)\u001B[0m\n\u001B[1;32m    174\u001B[0m \u001B[38;5;28;01mif\u001B[39;00m \u001B[38;5;129;01mnot\u001B[39;00m url:\n\u001B[1;32m    175\u001B[0m     url \u001B[38;5;241m=\u001B[39m \u001B[38;5;28mself\u001B[39m\u001B[38;5;241m.\u001B[39m_make_url(module_id\u001B[38;5;241m=\u001B[39m\u001B[38;5;28mid\u001B[39m, deleted\u001B[38;5;241m=\u001B[39mdeleted, contents\u001B[38;5;241m=\u001B[39mcontents)\n\u001B[0;32m--> 176\u001B[0m \u001B[38;5;28;01mreturn\u001B[39;00m \u001B[38;5;28;43mself\u001B[39;49m\u001B[38;5;241;43m.\u001B[39;49m\u001B[43mgi\u001B[49m\u001B[38;5;241;43m.\u001B[39;49m\u001B[43mmake_post_request\u001B[49m\u001B[43m(\u001B[49m\u001B[43murl\u001B[49m\u001B[43m,\u001B[49m\u001B[43m \u001B[49m\u001B[43mpayload\u001B[49m\u001B[38;5;241;43m=\u001B[39;49m\u001B[43mpayload\u001B[49m\u001B[43m,\u001B[49m\n\u001B[1;32m    177\u001B[0m \u001B[43m                                 \u001B[49m\u001B[43mfiles_attached\u001B[49m\u001B[38;5;241;43m=\u001B[39;49m\u001B[43mfiles_attached\u001B[49m\u001B[43m)\u001B[49m\n",
      "File \u001B[0;32m/Library/Frameworks/Python.framework/Versions/3.10/lib/python3.10/site-packages/bioblend/galaxyclient.py:153\u001B[0m, in \u001B[0;36mGalaxyClient.make_post_request\u001B[0;34m(self, url, payload, params, files_attached)\u001B[0m\n\u001B[1;32m    147\u001B[0m         \u001B[38;5;28;01mraise\u001B[39;00m \u001B[38;5;167;01mConnectionError\u001B[39;00m(\n\u001B[1;32m    148\u001B[0m             \u001B[38;5;124mf\u001B[39m\u001B[38;5;124m\"\u001B[39m\u001B[38;5;124mRequest was successful, but cannot decode the response content: \u001B[39m\u001B[38;5;132;01m{\u001B[39;00me\u001B[38;5;132;01m}\u001B[39;00m\u001B[38;5;124m\"\u001B[39m,\n\u001B[1;32m    149\u001B[0m             body\u001B[38;5;241m=\u001B[39mr\u001B[38;5;241m.\u001B[39mcontent,\n\u001B[1;32m    150\u001B[0m             status_code\u001B[38;5;241m=\u001B[39mr\u001B[38;5;241m.\u001B[39mstatus_code,\n\u001B[1;32m    151\u001B[0m         )\n\u001B[1;32m    152\u001B[0m \u001B[38;5;66;03m# @see self.body for HTTP response body\u001B[39;00m\n\u001B[0;32m--> 153\u001B[0m \u001B[38;5;28;01mraise\u001B[39;00m \u001B[38;5;167;01mConnectionError\u001B[39;00m(\n\u001B[1;32m    154\u001B[0m     \u001B[38;5;124mf\u001B[39m\u001B[38;5;124m\"\u001B[39m\u001B[38;5;124mUnexpected HTTP status code: \u001B[39m\u001B[38;5;132;01m{\u001B[39;00mr\u001B[38;5;241m.\u001B[39mstatus_code\u001B[38;5;132;01m}\u001B[39;00m\u001B[38;5;124m\"\u001B[39m,\n\u001B[1;32m    155\u001B[0m     body\u001B[38;5;241m=\u001B[39mr\u001B[38;5;241m.\u001B[39mtext,\n\u001B[1;32m    156\u001B[0m     status_code\u001B[38;5;241m=\u001B[39mr\u001B[38;5;241m.\u001B[39mstatus_code,\n\u001B[1;32m    157\u001B[0m )\n",
      "\u001B[0;31mConnectionError\u001B[0m: Unexpected HTTP status code: 400: {\"err_msg\": \"No data was entered in the upload form, please go back and choose data to upload.\", \"err_code\": 0}"
     ]
    }
   ],
   "source": [
    "preprocessing.upload_data_history(\"data/inputs/toy_SRR5152513_1.fastq\",\"77d77febf1e1394a\")"
   ]
  },
  {
   "cell_type": "code",
   "execution_count": 4,
   "metadata": {
    "pycharm": {
     "name": "#%%\n"
    }
   },
   "outputs": [],
   "source": [
    "#bibliotecas\n",
    "lib = gi.libraries.get_libraries()\n"
   ]
  },
  {
   "cell_type": "code",
   "execution_count": 1,
   "metadata": {
    "pycharm": {
     "name": "#%%\n"
    }
   },
   "outputs": [
    {
     "ename": "NameError",
     "evalue": "name 'preprocessing' is not defined",
     "output_type": "error",
     "traceback": [
      "\u001B[0;31m---------------------------------------------------------------------------\u001B[0m",
      "\u001B[0;31mNameError\u001B[0m                                 Traceback (most recent call last)",
      "Input \u001B[0;32mIn [1]\u001B[0m, in \u001B[0;36m<module>\u001B[0;34m\u001B[0m\n\u001B[0;32m----> 1\u001B[0m \u001B[43mpreprocessing\u001B[49m\u001B[38;5;241m.\u001B[39mcreate_history()\n",
      "\u001B[0;31mNameError\u001B[0m: name 'preprocessing' is not defined"
     ]
    }
   ],
   "source": [
    "preprocessing.create_history()"
   ]
  },
  {
   "cell_type": "code",
   "execution_count": 22,
   "metadata": {
    "pycharm": {
     "name": "#%%\n"
    }
   },
   "outputs": [
    {
     "ename": "ConnectionError",
     "evalue": "Unexpected HTTP status code: 400: {\"err_msg\": \"No data was entered in the upload form, please go back and choose data to upload.\", \"err_code\": 0}",
     "output_type": "error",
     "traceback": [
      "\u001B[0;31m---------------------------------------------------------------------------\u001B[0m",
      "\u001B[0;31mConnectionError\u001B[0m                           Traceback (most recent call last)",
      "Input \u001B[0;32mIn [22]\u001B[0m, in \u001B[0;36m<module>\u001B[0;34m\u001B[0m\n\u001B[0;32m----> 1\u001B[0m \u001B[43mgi\u001B[49m\u001B[38;5;241;43m.\u001B[39;49m\u001B[43mtools\u001B[49m\u001B[38;5;241;43m.\u001B[39;49m\u001B[43mupload_from_ftp\u001B[49m\u001B[43m(\u001B[49m\u001B[38;5;124;43m\"\u001B[39;49m\u001B[38;5;124;43mdata/inputs/toy_SRR5152513_1.fastq\u001B[39;49m\u001B[38;5;124;43m\"\u001B[39;49m\u001B[43m,\u001B[49m\u001B[38;5;124;43m\"\u001B[39;49m\u001B[38;5;124;43m77d77febf1e1394a\u001B[39;49m\u001B[38;5;124;43m\"\u001B[39;49m\u001B[43m)\u001B[49m\n",
      "File \u001B[0;32m/Library/Frameworks/Python.framework/Versions/3.10/lib/python3.10/site-packages/bioblend/galaxy/tools/__init__.py:311\u001B[0m, in \u001B[0;36mToolClient.upload_from_ftp\u001B[0;34m(self, path, history_id, **keywords)\u001B[0m\n\u001B[1;32m    309\u001B[0m payload \u001B[38;5;241m=\u001B[39m \u001B[38;5;28mself\u001B[39m\u001B[38;5;241m.\u001B[39m_upload_payload(history_id, \u001B[38;5;241m*\u001B[39m\u001B[38;5;241m*\u001B[39mkeywords)\n\u001B[1;32m    310\u001B[0m payload[\u001B[38;5;124m'\u001B[39m\u001B[38;5;124mfiles_0|ftp_files\u001B[39m\u001B[38;5;124m'\u001B[39m] \u001B[38;5;241m=\u001B[39m path\n\u001B[0;32m--> 311\u001B[0m \u001B[38;5;28;01mreturn\u001B[39;00m \u001B[38;5;28;43mself\u001B[39;49m\u001B[38;5;241;43m.\u001B[39;49m\u001B[43m_post\u001B[49m\u001B[43m(\u001B[49m\u001B[43mpayload\u001B[49m\u001B[43m)\u001B[49m\n",
      "File \u001B[0;32m/Library/Frameworks/Python.framework/Versions/3.10/lib/python3.10/site-packages/bioblend/galaxy/client.py:176\u001B[0m, in \u001B[0;36mClient._post\u001B[0;34m(self, payload, id, deleted, contents, url, files_attached)\u001B[0m\n\u001B[1;32m    174\u001B[0m \u001B[38;5;28;01mif\u001B[39;00m \u001B[38;5;129;01mnot\u001B[39;00m url:\n\u001B[1;32m    175\u001B[0m     url \u001B[38;5;241m=\u001B[39m \u001B[38;5;28mself\u001B[39m\u001B[38;5;241m.\u001B[39m_make_url(module_id\u001B[38;5;241m=\u001B[39m\u001B[38;5;28mid\u001B[39m, deleted\u001B[38;5;241m=\u001B[39mdeleted, contents\u001B[38;5;241m=\u001B[39mcontents)\n\u001B[0;32m--> 176\u001B[0m \u001B[38;5;28;01mreturn\u001B[39;00m \u001B[38;5;28;43mself\u001B[39;49m\u001B[38;5;241;43m.\u001B[39;49m\u001B[43mgi\u001B[49m\u001B[38;5;241;43m.\u001B[39;49m\u001B[43mmake_post_request\u001B[49m\u001B[43m(\u001B[49m\u001B[43murl\u001B[49m\u001B[43m,\u001B[49m\u001B[43m \u001B[49m\u001B[43mpayload\u001B[49m\u001B[38;5;241;43m=\u001B[39;49m\u001B[43mpayload\u001B[49m\u001B[43m,\u001B[49m\n\u001B[1;32m    177\u001B[0m \u001B[43m                                 \u001B[49m\u001B[43mfiles_attached\u001B[49m\u001B[38;5;241;43m=\u001B[39;49m\u001B[43mfiles_attached\u001B[49m\u001B[43m)\u001B[49m\n",
      "File \u001B[0;32m/Library/Frameworks/Python.framework/Versions/3.10/lib/python3.10/site-packages/bioblend/galaxyclient.py:153\u001B[0m, in \u001B[0;36mGalaxyClient.make_post_request\u001B[0;34m(self, url, payload, params, files_attached)\u001B[0m\n\u001B[1;32m    147\u001B[0m         \u001B[38;5;28;01mraise\u001B[39;00m \u001B[38;5;167;01mConnectionError\u001B[39;00m(\n\u001B[1;32m    148\u001B[0m             \u001B[38;5;124mf\u001B[39m\u001B[38;5;124m\"\u001B[39m\u001B[38;5;124mRequest was successful, but cannot decode the response content: \u001B[39m\u001B[38;5;132;01m{\u001B[39;00me\u001B[38;5;132;01m}\u001B[39;00m\u001B[38;5;124m\"\u001B[39m,\n\u001B[1;32m    149\u001B[0m             body\u001B[38;5;241m=\u001B[39mr\u001B[38;5;241m.\u001B[39mcontent,\n\u001B[1;32m    150\u001B[0m             status_code\u001B[38;5;241m=\u001B[39mr\u001B[38;5;241m.\u001B[39mstatus_code,\n\u001B[1;32m    151\u001B[0m         )\n\u001B[1;32m    152\u001B[0m \u001B[38;5;66;03m# @see self.body for HTTP response body\u001B[39;00m\n\u001B[0;32m--> 153\u001B[0m \u001B[38;5;28;01mraise\u001B[39;00m \u001B[38;5;167;01mConnectionError\u001B[39;00m(\n\u001B[1;32m    154\u001B[0m     \u001B[38;5;124mf\u001B[39m\u001B[38;5;124m\"\u001B[39m\u001B[38;5;124mUnexpected HTTP status code: \u001B[39m\u001B[38;5;132;01m{\u001B[39;00mr\u001B[38;5;241m.\u001B[39mstatus_code\u001B[38;5;132;01m}\u001B[39;00m\u001B[38;5;124m\"\u001B[39m,\n\u001B[1;32m    155\u001B[0m     body\u001B[38;5;241m=\u001B[39mr\u001B[38;5;241m.\u001B[39mtext,\n\u001B[1;32m    156\u001B[0m     status_code\u001B[38;5;241m=\u001B[39mr\u001B[38;5;241m.\u001B[39mstatus_code,\n\u001B[1;32m    157\u001B[0m )\n",
      "\u001B[0;31mConnectionError\u001B[0m: Unexpected HTTP status code: 400: {\"err_msg\": \"No data was entered in the upload form, please go back and choose data to upload.\", \"err_code\": 0}"
     ]
    }
   ],
   "source": [
    "gi.tools.upload_from_ftp(\"data/inputs/toy_SRR5152513_1.fastq\",\"77d77febf1e1394a\")"
   ]
  },
  {
   "cell_type": "code",
   "execution_count": 12,
   "metadata": {
    "pycharm": {
     "name": "#%%\n"
    }
   },
   "outputs": [
    {
     "ename": "ConnectionError",
     "evalue": "Unexpected HTTP status code: 400: {\"err_msg\": \"No data was entered in the upload form, please go back and choose data to upload.\", \"err_code\": 0}",
     "output_type": "error",
     "traceback": [
      "\u001B[0;31m---------------------------------------------------------------------------\u001B[0m",
      "\u001B[0;31mConnectionError\u001B[0m                           Traceback (most recent call last)",
      "Input \u001B[0;32mIn [12]\u001B[0m, in \u001B[0;36m<module>\u001B[0;34m\u001B[0m\n\u001B[0;32m----> 1\u001B[0m \u001B[43mgi\u001B[49m\u001B[38;5;241;43m.\u001B[39;49m\u001B[43mtools\u001B[49m\u001B[38;5;241;43m.\u001B[39;49m\u001B[43mupload_from_ftp\u001B[49m\u001B[43m(\u001B[49m\u001B[38;5;124;43m\"\u001B[39;49m\u001B[38;5;124;43mtoy_SRR5152513_1.fastq\u001B[39;49m\u001B[38;5;124;43m\"\u001B[39;49m\u001B[43m,\u001B[49m\u001B[43m \u001B[49m\u001B[38;5;124;43m\"\u001B[39;49m\u001B[38;5;124;43m77d77febf1e1394a\u001B[39;49m\u001B[38;5;124;43m\"\u001B[39;49m\u001B[43m)\u001B[49m\n",
      "File \u001B[0;32m/Library/Frameworks/Python.framework/Versions/3.10/lib/python3.10/site-packages/bioblend/galaxy/tools/__init__.py:311\u001B[0m, in \u001B[0;36mToolClient.upload_from_ftp\u001B[0;34m(self, path, history_id, **keywords)\u001B[0m\n\u001B[1;32m    309\u001B[0m payload \u001B[38;5;241m=\u001B[39m \u001B[38;5;28mself\u001B[39m\u001B[38;5;241m.\u001B[39m_upload_payload(history_id, \u001B[38;5;241m*\u001B[39m\u001B[38;5;241m*\u001B[39mkeywords)\n\u001B[1;32m    310\u001B[0m payload[\u001B[38;5;124m'\u001B[39m\u001B[38;5;124mfiles_0|ftp_files\u001B[39m\u001B[38;5;124m'\u001B[39m] \u001B[38;5;241m=\u001B[39m path\n\u001B[0;32m--> 311\u001B[0m \u001B[38;5;28;01mreturn\u001B[39;00m \u001B[38;5;28;43mself\u001B[39;49m\u001B[38;5;241;43m.\u001B[39;49m\u001B[43m_post\u001B[49m\u001B[43m(\u001B[49m\u001B[43mpayload\u001B[49m\u001B[43m)\u001B[49m\n",
      "File \u001B[0;32m/Library/Frameworks/Python.framework/Versions/3.10/lib/python3.10/site-packages/bioblend/galaxy/client.py:176\u001B[0m, in \u001B[0;36mClient._post\u001B[0;34m(self, payload, id, deleted, contents, url, files_attached)\u001B[0m\n\u001B[1;32m    174\u001B[0m \u001B[38;5;28;01mif\u001B[39;00m \u001B[38;5;129;01mnot\u001B[39;00m url:\n\u001B[1;32m    175\u001B[0m     url \u001B[38;5;241m=\u001B[39m \u001B[38;5;28mself\u001B[39m\u001B[38;5;241m.\u001B[39m_make_url(module_id\u001B[38;5;241m=\u001B[39m\u001B[38;5;28mid\u001B[39m, deleted\u001B[38;5;241m=\u001B[39mdeleted, contents\u001B[38;5;241m=\u001B[39mcontents)\n\u001B[0;32m--> 176\u001B[0m \u001B[38;5;28;01mreturn\u001B[39;00m \u001B[38;5;28;43mself\u001B[39;49m\u001B[38;5;241;43m.\u001B[39;49m\u001B[43mgi\u001B[49m\u001B[38;5;241;43m.\u001B[39;49m\u001B[43mmake_post_request\u001B[49m\u001B[43m(\u001B[49m\u001B[43murl\u001B[49m\u001B[43m,\u001B[49m\u001B[43m \u001B[49m\u001B[43mpayload\u001B[49m\u001B[38;5;241;43m=\u001B[39;49m\u001B[43mpayload\u001B[49m\u001B[43m,\u001B[49m\n\u001B[1;32m    177\u001B[0m \u001B[43m                                 \u001B[49m\u001B[43mfiles_attached\u001B[49m\u001B[38;5;241;43m=\u001B[39;49m\u001B[43mfiles_attached\u001B[49m\u001B[43m)\u001B[49m\n",
      "File \u001B[0;32m/Library/Frameworks/Python.framework/Versions/3.10/lib/python3.10/site-packages/bioblend/galaxyclient.py:153\u001B[0m, in \u001B[0;36mGalaxyClient.make_post_request\u001B[0;34m(self, url, payload, params, files_attached)\u001B[0m\n\u001B[1;32m    147\u001B[0m         \u001B[38;5;28;01mraise\u001B[39;00m \u001B[38;5;167;01mConnectionError\u001B[39;00m(\n\u001B[1;32m    148\u001B[0m             \u001B[38;5;124mf\u001B[39m\u001B[38;5;124m\"\u001B[39m\u001B[38;5;124mRequest was successful, but cannot decode the response content: \u001B[39m\u001B[38;5;132;01m{\u001B[39;00me\u001B[38;5;132;01m}\u001B[39;00m\u001B[38;5;124m\"\u001B[39m,\n\u001B[1;32m    149\u001B[0m             body\u001B[38;5;241m=\u001B[39mr\u001B[38;5;241m.\u001B[39mcontent,\n\u001B[1;32m    150\u001B[0m             status_code\u001B[38;5;241m=\u001B[39mr\u001B[38;5;241m.\u001B[39mstatus_code,\n\u001B[1;32m    151\u001B[0m         )\n\u001B[1;32m    152\u001B[0m \u001B[38;5;66;03m# @see self.body for HTTP response body\u001B[39;00m\n\u001B[0;32m--> 153\u001B[0m \u001B[38;5;28;01mraise\u001B[39;00m \u001B[38;5;167;01mConnectionError\u001B[39;00m(\n\u001B[1;32m    154\u001B[0m     \u001B[38;5;124mf\u001B[39m\u001B[38;5;124m\"\u001B[39m\u001B[38;5;124mUnexpected HTTP status code: \u001B[39m\u001B[38;5;132;01m{\u001B[39;00mr\u001B[38;5;241m.\u001B[39mstatus_code\u001B[38;5;132;01m}\u001B[39;00m\u001B[38;5;124m\"\u001B[39m,\n\u001B[1;32m    155\u001B[0m     body\u001B[38;5;241m=\u001B[39mr\u001B[38;5;241m.\u001B[39mtext,\n\u001B[1;32m    156\u001B[0m     status_code\u001B[38;5;241m=\u001B[39mr\u001B[38;5;241m.\u001B[39mstatus_code,\n\u001B[1;32m    157\u001B[0m )\n",
      "\u001B[0;31mConnectionError\u001B[0m: Unexpected HTTP status code: 400: {\"err_msg\": \"No data was entered in the upload form, please go back and choose data to upload.\", \"err_code\": 0}"
     ]
    }
   ],
   "source": [
    "gi.tools.upload_from_ftp(\"toy_SRR5152513_1.fastq\", \"77d77febf1e1394a\")"
   ]
  },
  {
   "cell_type": "code",
   "execution_count": 15,
   "metadata": {
    "pycharm": {
     "name": "#%%\n"
    }
   },
   "outputs": [],
   "source": [
    "import ftplib\n",
    "ftp = ftplib.FTP()\n",
    "ftp.connect(host=server, port=ftp_port)\n",
    "ftp.login(user=user,password=password)\n",
    "\n",
    "\n"
   ]
  },
  {
   "cell_type": "markdown",
   "metadata": {
    "pycharm": {
     "name": "#%% md\n"
    }
   },
   "source": [
    "Uploading file into our history"
   ]
  },
  {
   "cell_type": "code",
   "execution_count": 7,
   "metadata": {
    "pycharm": {
     "name": "#%%\n"
    }
   },
   "outputs": [
    {
     "data": {
      "text/plain": [
       "{'outputs': [{'id': 'bbd44e69cb8906b5d4afedb3e7f3098e',\n",
       "   'hda_ldda': 'hda',\n",
       "   'uuid': 'a507dc31-8bc1-4e25-bb50-7ac437279ff4',\n",
       "   'hid': 9,\n",
       "   'file_ext': 'auto',\n",
       "   'peek': None,\n",
       "   'model_class': 'HistoryDatasetAssociation',\n",
       "   'name': 'toy_SRR5152513_1.fastq',\n",
       "   'deleted': False,\n",
       "   'purged': False,\n",
       "   'visible': True,\n",
       "   'state': 'queued',\n",
       "   'history_content_type': 'dataset',\n",
       "   'file_size': 0,\n",
       "   'create_time': '2022-05-08T20:22:22.580460',\n",
       "   'update_time': '2022-05-08T20:22:22.607450',\n",
       "   'data_type': 'galaxy.datatypes.data.Data',\n",
       "   'genome_build': '?',\n",
       "   'validated_state': 'unknown',\n",
       "   'validated_state_message': None,\n",
       "   'misc_info': None,\n",
       "   'misc_blurb': None,\n",
       "   'tags': [],\n",
       "   'history_id': '77d77febf1e1394a',\n",
       "   'metadata_dbkey': '?',\n",
       "   'output_name': 'output0'}],\n",
       " 'output_collections': [],\n",
       " 'jobs': [{'model_class': 'Job',\n",
       "   'id': 'bbd44e69cb8906b5b7deb5910dcc075b',\n",
       "   'state': 'new',\n",
       "   'exit_code': None,\n",
       "   'update_time': '2022-05-08T20:22:22.651817',\n",
       "   'create_time': '2022-05-08T20:22:22.635509',\n",
       "   'galaxy_version': '22.01',\n",
       "   'tool_id': 'upload1',\n",
       "   'history_id': '77d77febf1e1394a'}],\n",
       " 'implicit_collections': [],\n",
       " 'produces_entry_points': False}"
      ]
     },
     "execution_count": 7,
     "metadata": {},
     "output_type": "execute_result"
    }
   ],
   "source": [
    "preprocessing.upload_data_history(\"data/inputs/toy_SRR5152513_2.fastq\", \"77d77febf1e1394a\") # ~working \n",
    "# added: genome_annotation.gff3, genome_sequence.fasta, toy_SRR5152513_1.fastq, toy_SRR5152513_2.fastq\n"
   ]
  },
  {
   "cell_type": "code",
   "execution_count": 11,
   "metadata": {
    "pycharm": {
     "name": "#%%\n"
    }
   },
   "outputs": [
    {
     "data": {
      "text/plain": "'toolshed.g2.bx.psu.edu/repos/devteam/fastqc/fastqc/0.73+galaxy0'"
     },
     "execution_count": 11,
     "metadata": {},
     "output_type": "execute_result"
    }
   ],
   "source": [
    "gi.tools.show_tool(\"fastqc\")[\"id\"]"
   ]
  },
  {
   "cell_type": "code",
   "execution_count": 5,
   "metadata": {
    "pycharm": {
     "name": "#%%\n"
    }
   },
   "outputs": [
    {
     "ename": "ConnectionError",
     "evalue": "Unexpected HTTP status code: 400: {\"err_msg\": \"inputs invalid toy_SRR5152513_1.fastq\", \"err_code\": 400008}",
     "output_type": "error",
     "traceback": [
      "\u001B[0;31m---------------------------------------------------------------------------\u001B[0m",
      "\u001B[0;31mConnectionError\u001B[0m                           Traceback (most recent call last)",
      "Input \u001B[0;32mIn [5]\u001B[0m, in \u001B[0;36m<module>\u001B[0;34m\u001B[0m\n\u001B[0;32m----> 1\u001B[0m \u001B[43mpreprocessing\u001B[49m\u001B[38;5;241;43m.\u001B[39;49m\u001B[43mfastqc\u001B[49m\u001B[43m(\u001B[49m\u001B[38;5;124;43m\"\u001B[39;49m\u001B[38;5;124;43m77d77febf1e1394a\u001B[39;49m\u001B[38;5;124;43m\"\u001B[39;49m\u001B[43m,\u001B[49m\u001B[43m \u001B[49m\u001B[38;5;124;43m\"\u001B[39;49m\u001B[38;5;124;43mtoy_SRR5152513_1.fastq\u001B[39;49m\u001B[38;5;124;43m\"\u001B[39;49m\u001B[43m)\u001B[49m\n",
      "File \u001B[0;32m~/Documents/GitHub/bioinformatics-project/src/preprocessing.py:107\u001B[0m, in \u001B[0;36mPreProcessing.fastqc\u001B[0;34m(self, history_id, tool_inputs)\u001B[0m\n\u001B[1;32m    105\u001B[0m \u001B[38;5;28;01mdef\u001B[39;00m \u001B[38;5;21mfastqc\u001B[39m(\u001B[38;5;28mself\u001B[39m, history_id, tool_inputs ):\n\u001B[1;32m    106\u001B[0m     tool_id \u001B[38;5;241m=\u001B[39m \u001B[38;5;28mself\u001B[39m\u001B[38;5;241m.\u001B[39mgalaxy_instance\u001B[38;5;241m.\u001B[39mtools\u001B[38;5;241m.\u001B[39mshow_tool(\u001B[38;5;124m\"\u001B[39m\u001B[38;5;124mfastqc\u001B[39m\u001B[38;5;124m\"\u001B[39m)[\u001B[38;5;124m\"\u001B[39m\u001B[38;5;124mid\u001B[39m\u001B[38;5;124m\"\u001B[39m]\n\u001B[0;32m--> 107\u001B[0m     \u001B[38;5;28;01mreturn\u001B[39;00m \u001B[38;5;28;43mself\u001B[39;49m\u001B[38;5;241;43m.\u001B[39;49m\u001B[43mgalaxy_instance\u001B[49m\u001B[38;5;241;43m.\u001B[39;49m\u001B[43mtools\u001B[49m\u001B[38;5;241;43m.\u001B[39;49m\u001B[43mrun_tool\u001B[49m\u001B[43m(\u001B[49m\u001B[43mhistory_id\u001B[49m\u001B[43m,\u001B[49m\u001B[43m \u001B[49m\u001B[43mtool_id\u001B[49m\u001B[43m,\u001B[49m\u001B[43m \u001B[49m\u001B[43mtool_inputs\u001B[49m\u001B[43m)\u001B[49m\n",
      "File \u001B[0;32m/Library/Frameworks/Python.framework/Versions/3.10/lib/python3.10/site-packages/bioblend/galaxy/tools/__init__.py:250\u001B[0m, in \u001B[0;36mToolClient.run_tool\u001B[0;34m(self, history_id, tool_id, tool_inputs, input_format)\u001B[0m\n\u001B[1;32m    248\u001B[0m \u001B[38;5;28;01mexcept\u001B[39;00m \u001B[38;5;167;01mAttributeError\u001B[39;00m:\n\u001B[1;32m    249\u001B[0m     payload[\u001B[38;5;124m\"\u001B[39m\u001B[38;5;124minputs\u001B[39m\u001B[38;5;124m\"\u001B[39m] \u001B[38;5;241m=\u001B[39m tool_inputs\n\u001B[0;32m--> 250\u001B[0m \u001B[38;5;28;01mreturn\u001B[39;00m \u001B[38;5;28;43mself\u001B[39;49m\u001B[38;5;241;43m.\u001B[39;49m\u001B[43m_post\u001B[49m\u001B[43m(\u001B[49m\u001B[43mpayload\u001B[49m\u001B[43m)\u001B[49m\n",
      "File \u001B[0;32m/Library/Frameworks/Python.framework/Versions/3.10/lib/python3.10/site-packages/bioblend/galaxy/client.py:176\u001B[0m, in \u001B[0;36mClient._post\u001B[0;34m(self, payload, id, deleted, contents, url, files_attached)\u001B[0m\n\u001B[1;32m    174\u001B[0m \u001B[38;5;28;01mif\u001B[39;00m \u001B[38;5;129;01mnot\u001B[39;00m url:\n\u001B[1;32m    175\u001B[0m     url \u001B[38;5;241m=\u001B[39m \u001B[38;5;28mself\u001B[39m\u001B[38;5;241m.\u001B[39m_make_url(module_id\u001B[38;5;241m=\u001B[39m\u001B[38;5;28mid\u001B[39m, deleted\u001B[38;5;241m=\u001B[39mdeleted, contents\u001B[38;5;241m=\u001B[39mcontents)\n\u001B[0;32m--> 176\u001B[0m \u001B[38;5;28;01mreturn\u001B[39;00m \u001B[38;5;28;43mself\u001B[39;49m\u001B[38;5;241;43m.\u001B[39;49m\u001B[43mgi\u001B[49m\u001B[38;5;241;43m.\u001B[39;49m\u001B[43mmake_post_request\u001B[49m\u001B[43m(\u001B[49m\u001B[43murl\u001B[49m\u001B[43m,\u001B[49m\u001B[43m \u001B[49m\u001B[43mpayload\u001B[49m\u001B[38;5;241;43m=\u001B[39;49m\u001B[43mpayload\u001B[49m\u001B[43m,\u001B[49m\n\u001B[1;32m    177\u001B[0m \u001B[43m                                 \u001B[49m\u001B[43mfiles_attached\u001B[49m\u001B[38;5;241;43m=\u001B[39;49m\u001B[43mfiles_attached\u001B[49m\u001B[43m)\u001B[49m\n",
      "File \u001B[0;32m/Library/Frameworks/Python.framework/Versions/3.10/lib/python3.10/site-packages/bioblend/galaxyclient.py:153\u001B[0m, in \u001B[0;36mGalaxyClient.make_post_request\u001B[0;34m(self, url, payload, params, files_attached)\u001B[0m\n\u001B[1;32m    147\u001B[0m         \u001B[38;5;28;01mraise\u001B[39;00m \u001B[38;5;167;01mConnectionError\u001B[39;00m(\n\u001B[1;32m    148\u001B[0m             \u001B[38;5;124mf\u001B[39m\u001B[38;5;124m\"\u001B[39m\u001B[38;5;124mRequest was successful, but cannot decode the response content: \u001B[39m\u001B[38;5;132;01m{\u001B[39;00me\u001B[38;5;132;01m}\u001B[39;00m\u001B[38;5;124m\"\u001B[39m,\n\u001B[1;32m    149\u001B[0m             body\u001B[38;5;241m=\u001B[39mr\u001B[38;5;241m.\u001B[39mcontent,\n\u001B[1;32m    150\u001B[0m             status_code\u001B[38;5;241m=\u001B[39mr\u001B[38;5;241m.\u001B[39mstatus_code,\n\u001B[1;32m    151\u001B[0m         )\n\u001B[1;32m    152\u001B[0m \u001B[38;5;66;03m# @see self.body for HTTP response body\u001B[39;00m\n\u001B[0;32m--> 153\u001B[0m \u001B[38;5;28;01mraise\u001B[39;00m \u001B[38;5;167;01mConnectionError\u001B[39;00m(\n\u001B[1;32m    154\u001B[0m     \u001B[38;5;124mf\u001B[39m\u001B[38;5;124m\"\u001B[39m\u001B[38;5;124mUnexpected HTTP status code: \u001B[39m\u001B[38;5;132;01m{\u001B[39;00mr\u001B[38;5;241m.\u001B[39mstatus_code\u001B[38;5;132;01m}\u001B[39;00m\u001B[38;5;124m\"\u001B[39m,\n\u001B[1;32m    155\u001B[0m     body\u001B[38;5;241m=\u001B[39mr\u001B[38;5;241m.\u001B[39mtext,\n\u001B[1;32m    156\u001B[0m     status_code\u001B[38;5;241m=\u001B[39mr\u001B[38;5;241m.\u001B[39mstatus_code,\n\u001B[1;32m    157\u001B[0m )\n",
      "\u001B[0;31mConnectionError\u001B[0m: Unexpected HTTP status code: 400: {\"err_msg\": \"inputs invalid toy_SRR5152513_1.fastq\", \"err_code\": 400008}"
     ]
    }
   ],
   "source": [
    "preprocessing.fastqc(\"77d77febf1e1394a\", \"toy_SRR5152513_1.fastq\")"
   ]
  },
  {
   "cell_type": "code",
   "execution_count": 3,
   "metadata": {
    "pycharm": {
     "name": "#%%\n"
    }
   },
   "outputs": [
    {
     "data": {
      "text/plain": [
       "[{'published': False,\n",
       "  'id': 'bb76b52060f3d03c',\n",
       "  'update_time': '2022-05-08T18:53:23.494619',\n",
       "  'deleted': False,\n",
       "  'name': 'projeto_0',\n",
       "  'url': '/api/histories/bb76b52060f3d03c',\n",
       "  'model_class': 'History',\n",
       "  'purged': False,\n",
       "  'annotation': None,\n",
       "  'tags': []},\n",
       " {'published': False,\n",
       "  'id': 'e6bf322e653bb99a',\n",
       "  'update_time': '2022-05-08T18:52:25.444647',\n",
       "  'deleted': False,\n",
       "  'name': 'projeto_0',\n",
       "  'url': '/api/histories/e6bf322e653bb99a',\n",
       "  'model_class': 'History',\n",
       "  'purged': False,\n",
       "  'annotation': None,\n",
       "  'tags': []},\n",
       " {'published': False,\n",
       "  'id': '6838a537caecaa73',\n",
       "  'update_time': '2022-05-08T18:50:53.602922',\n",
       "  'deleted': False,\n",
       "  'name': 'projeto_0',\n",
       "  'url': '/api/histories/6838a537caecaa73',\n",
       "  'model_class': 'History',\n",
       "  'purged': False,\n",
       "  'annotation': None,\n",
       "  'tags': []},\n",
       " {'published': False,\n",
       "  'id': '5f7acaf09e0c836c',\n",
       "  'update_time': '2022-05-08T18:50:25.289102',\n",
       "  'deleted': False,\n",
       "  'name': 'projeto_0',\n",
       "  'url': '/api/histories/5f7acaf09e0c836c',\n",
       "  'model_class': 'History',\n",
       "  'purged': False,\n",
       "  'annotation': None,\n",
       "  'tags': []},\n",
       " {'published': False,\n",
       "  'id': '066f6230313fc9f1',\n",
       "  'update_time': '2022-05-08T18:49:07.652847',\n",
       "  'deleted': False,\n",
       "  'name': 'projeto_0',\n",
       "  'url': '/api/histories/066f6230313fc9f1',\n",
       "  'model_class': 'History',\n",
       "  'purged': False,\n",
       "  'annotation': None,\n",
       "  'tags': []},\n",
       " {'published': False,\n",
       "  'id': '78d65aab4d05dabd',\n",
       "  'update_time': '2022-05-07T16:13:17.651405',\n",
       "  'deleted': False,\n",
       "  'name': 'try1',\n",
       "  'url': '/api/histories/78d65aab4d05dabd',\n",
       "  'model_class': 'History',\n",
       "  'purged': False,\n",
       "  'annotation': None,\n",
       "  'tags': []},\n",
       " {'published': False,\n",
       "  'id': '77d77febf1e1394a',\n",
       "  'update_time': '2022-05-08T20:23:06.396554',\n",
       "  'deleted': False,\n",
       "  'name': 'projeto',\n",
       "  'url': '/api/histories/77d77febf1e1394a',\n",
       "  'model_class': 'History',\n",
       "  'purged': False,\n",
       "  'annotation': None,\n",
       "  'tags': []},\n",
       " {'published': False,\n",
       "  'id': 'ab18f357fb3a7b44',\n",
       "  'update_time': '2022-04-28T17:26:47.348654',\n",
       "  'deleted': False,\n",
       "  'name': 'Unnamed history',\n",
       "  'url': '/api/histories/ab18f357fb3a7b44',\n",
       "  'model_class': 'History',\n",
       "  'purged': False,\n",
       "  'annotation': None,\n",
       "  'tags': []}]"
      ]
     },
     "execution_count": 3,
     "metadata": {},
     "output_type": "execute_result"
    }
   ],
   "source": [
    "preprocessing.view_histories()"
   ]
  },
  {
   "cell_type": "code",
   "execution_count": 6,
   "metadata": {
    "pycharm": {
     "name": "#%%\n"
    }
   },
   "outputs": [
    {
     "data": {
      "text/plain": [
       "{'contents_url': '/api/histories/bb76b52060f3d03c/contents',\n",
       " 'deleted': False,\n",
       " 'model_class': 'History',\n",
       " 'url': '/api/histories/bb76b52060f3d03c',\n",
       " 'user_id': 'c275217dab129a20',\n",
       " 'state_details': {'new': 0,\n",
       "  'upload': 0,\n",
       "  'queued': 0,\n",
       "  'running': 0,\n",
       "  'ok': 1,\n",
       "  'empty': 0,\n",
       "  'error': 0,\n",
       "  'discarded': 0,\n",
       "  'paused': 0,\n",
       "  'setting_metadata': 0,\n",
       "  'failed_metadata': 0},\n",
       " 'tags': [],\n",
       " 'published': False,\n",
       " 'create_time': '2022-05-08T18:52:42.352813',\n",
       " 'importable': False,\n",
       " 'id': 'bb76b52060f3d03c',\n",
       " 'update_time': '2022-05-08T18:53:23.494619',\n",
       " 'state': 'ok',\n",
       " 'slug': None,\n",
       " 'size': 2234211,\n",
       " 'genome_build': None,\n",
       " 'state_ids': {'new': [],\n",
       "  'upload': [],\n",
       "  'queued': [],\n",
       "  'running': [],\n",
       "  'ok': ['bbd44e69cb8906b5d1b9c54367ef98ff'],\n",
       "  'empty': [],\n",
       "  'error': [],\n",
       "  'discarded': [],\n",
       "  'paused': [],\n",
       "  'setting_metadata': [],\n",
       "  'failed_metadata': []},\n",
       " 'name': 'projeto_0',\n",
       " 'purged': False,\n",
       " 'annotation': None,\n",
       " 'username_and_slug': None,\n",
       " 'empty': False}"
      ]
     },
     "execution_count": 6,
     "metadata": {},
     "output_type": "execute_result"
    }
   ],
   "source": [
    "preprocessing.show_history('bb76b52060f3d03c')"
   ]
  },
  {
   "cell_type": "code",
   "execution_count": 12,
   "metadata": {
    "pycharm": {
     "name": "#%%\n"
    }
   },
   "outputs": [
    {
     "ename": "AttributeError",
     "evalue": "module 'bioblend.galaxy.objects.galaxy_instance' has no attribute 'url'",
     "output_type": "error",
     "traceback": [
      "\u001B[0;31m---------------------------------------------------------------------------\u001B[0m",
      "\u001B[0;31mAttributeError\u001B[0m                            Traceback (most recent call last)",
      "Input \u001B[0;32mIn [12]\u001B[0m, in \u001B[0;36m<module>\u001B[0;34m\u001B[0m\n\u001B[1;32m      1\u001B[0m toolClient \u001B[38;5;241m=\u001B[39m ToolClient(galaxy_instance)\n\u001B[0;32m----> 2\u001B[0m toolPanels \u001B[38;5;241m=\u001B[39m \u001B[43mtoolClient\u001B[49m\u001B[38;5;241;43m.\u001B[39;49m\u001B[43mget_tool_panel\u001B[49m\u001B[43m(\u001B[49m\u001B[43m)\u001B[49m\n",
      "File \u001B[0;32m/Library/Frameworks/Python.framework/Versions/3.10/lib/python3.10/site-packages/bioblend/galaxy/tools/__init__.py:67\u001B[0m, in \u001B[0;36mToolClient.get_tool_panel\u001B[0;34m(self)\u001B[0m\n\u001B[1;32m     57\u001B[0m \u001B[38;5;28;01mdef\u001B[39;00m \u001B[38;5;21mget_tool_panel\u001B[39m(\u001B[38;5;28mself\u001B[39m):\n\u001B[1;32m     58\u001B[0m     \u001B[38;5;124;03m\"\"\"\u001B[39;00m\n\u001B[1;32m     59\u001B[0m \u001B[38;5;124;03m    Get a list of available tool elements in Galaxy's configured toolbox.\u001B[39;00m\n\u001B[1;32m     60\u001B[0m \n\u001B[0;32m   (...)\u001B[0m\n\u001B[1;32m     65\u001B[0m \u001B[38;5;124;03m    .. seealso:: bioblend.galaxy.toolshed.get_repositories()\u001B[39;00m\n\u001B[1;32m     66\u001B[0m \u001B[38;5;124;03m    \"\"\"\u001B[39;00m\n\u001B[0;32m---> 67\u001B[0m     \u001B[38;5;28;01mreturn\u001B[39;00m \u001B[38;5;28;43mself\u001B[39;49m\u001B[38;5;241;43m.\u001B[39;49m\u001B[43m_raw_get_tool\u001B[49m\u001B[43m(\u001B[49m\u001B[43min_panel\u001B[49m\u001B[38;5;241;43m=\u001B[39;49m\u001B[38;5;28;43;01mTrue\u001B[39;49;00m\u001B[43m)\u001B[49m\n",
      "File \u001B[0;32m/Library/Frameworks/Python.framework/Versions/3.10/lib/python3.10/site-packages/bioblend/galaxy/tools/__init__.py:73\u001B[0m, in \u001B[0;36mToolClient._raw_get_tool\u001B[0;34m(self, in_panel, trackster)\u001B[0m\n\u001B[1;32m     71\u001B[0m params[\u001B[38;5;124m'\u001B[39m\u001B[38;5;124min_panel\u001B[39m\u001B[38;5;124m'\u001B[39m] \u001B[38;5;241m=\u001B[39m in_panel\n\u001B[1;32m     72\u001B[0m params[\u001B[38;5;124m'\u001B[39m\u001B[38;5;124mtrackster\u001B[39m\u001B[38;5;124m'\u001B[39m] \u001B[38;5;241m=\u001B[39m trackster\n\u001B[0;32m---> 73\u001B[0m \u001B[38;5;28;01mreturn\u001B[39;00m \u001B[38;5;28;43mself\u001B[39;49m\u001B[38;5;241;43m.\u001B[39;49m\u001B[43m_get\u001B[49m\u001B[43m(\u001B[49m\u001B[43mparams\u001B[49m\u001B[38;5;241;43m=\u001B[39;49m\u001B[43mparams\u001B[49m\u001B[43m)\u001B[49m\n",
      "File \u001B[0;32m/Library/Frameworks/Python.framework/Versions/3.10/lib/python3.10/site-packages/bioblend/galaxy/client.py:119\u001B[0m, in \u001B[0;36mClient._get\u001B[0;34m(self, id, deleted, contents, url, params, json)\u001B[0m\n\u001B[1;32m    105\u001B[0m \u001B[38;5;124;03m\"\"\"\u001B[39;00m\n\u001B[1;32m    106\u001B[0m \u001B[38;5;124;03mDo a GET request, composing the URL from ``id``, ``deleted`` and\u001B[39;00m\n\u001B[1;32m    107\u001B[0m \u001B[38;5;124;03m``contents``.  Alternatively, an explicit ``url`` can be provided.\u001B[39;00m\n\u001B[0;32m   (...)\u001B[0m\n\u001B[1;32m    116\u001B[0m \u001B[38;5;124;03m  the response object\u001B[39;00m\n\u001B[1;32m    117\u001B[0m \u001B[38;5;124;03m\"\"\"\u001B[39;00m\n\u001B[1;32m    118\u001B[0m \u001B[38;5;28;01mif\u001B[39;00m \u001B[38;5;129;01mnot\u001B[39;00m url:\n\u001B[0;32m--> 119\u001B[0m     url \u001B[38;5;241m=\u001B[39m \u001B[38;5;28;43mself\u001B[39;49m\u001B[38;5;241;43m.\u001B[39;49m\u001B[43m_make_url\u001B[49m\u001B[43m(\u001B[49m\u001B[43mmodule_id\u001B[49m\u001B[38;5;241;43m=\u001B[39;49m\u001B[38;5;28;43mid\u001B[39;49m\u001B[43m,\u001B[49m\u001B[43m \u001B[49m\u001B[43mdeleted\u001B[49m\u001B[38;5;241;43m=\u001B[39;49m\u001B[43mdeleted\u001B[49m\u001B[43m,\u001B[49m\u001B[43m \u001B[49m\u001B[43mcontents\u001B[49m\u001B[38;5;241;43m=\u001B[39;49m\u001B[43mcontents\u001B[49m\u001B[43m)\u001B[49m\n\u001B[1;32m    120\u001B[0m attempts_left \u001B[38;5;241m=\u001B[39m \u001B[38;5;28mself\u001B[39m\u001B[38;5;241m.\u001B[39mmax_get_retries()\n\u001B[1;32m    121\u001B[0m retry_delay \u001B[38;5;241m=\u001B[39m \u001B[38;5;28mself\u001B[39m\u001B[38;5;241m.\u001B[39mget_retry_delay()\n",
      "File \u001B[0;32m/Library/Frameworks/Python.framework/Versions/3.10/lib/python3.10/site-packages/bioblend/galaxy/client.py:94\u001B[0m, in \u001B[0;36mClient._make_url\u001B[0;34m(self, module_id, deleted, contents)\u001B[0m\n\u001B[1;32m     79\u001B[0m \u001B[38;5;28;01mdef\u001B[39;00m \u001B[38;5;21m_make_url\u001B[39m(\u001B[38;5;28mself\u001B[39m, module_id\u001B[38;5;241m=\u001B[39m\u001B[38;5;28;01mNone\u001B[39;00m, deleted\u001B[38;5;241m=\u001B[39m\u001B[38;5;28;01mFalse\u001B[39;00m, contents\u001B[38;5;241m=\u001B[39m\u001B[38;5;28;01mFalse\u001B[39;00m):\n\u001B[1;32m     80\u001B[0m     \u001B[38;5;124;03m\"\"\"\u001B[39;00m\n\u001B[1;32m     81\u001B[0m \u001B[38;5;124;03m    Compose a URL based on the provided arguments.\u001B[39;00m\n\u001B[1;32m     82\u001B[0m \n\u001B[0;32m   (...)\u001B[0m\n\u001B[1;32m     92\u001B[0m \u001B[38;5;124;03m                     ``<base_url>/api/libraries/<encoded_library_id>/contents``\u001B[39;00m\n\u001B[1;32m     93\u001B[0m \u001B[38;5;124;03m    \"\"\"\u001B[39;00m\n\u001B[0;32m---> 94\u001B[0m     c_url \u001B[38;5;241m=\u001B[39m \u001B[38;5;124m'\u001B[39m\u001B[38;5;124m/\u001B[39m\u001B[38;5;124m'\u001B[39m\u001B[38;5;241m.\u001B[39mjoin((\u001B[38;5;28;43mself\u001B[39;49m\u001B[38;5;241;43m.\u001B[39;49m\u001B[43mgi\u001B[49m\u001B[38;5;241;43m.\u001B[39;49m\u001B[43murl\u001B[49m, \u001B[38;5;28mself\u001B[39m\u001B[38;5;241m.\u001B[39mmodule))\n\u001B[1;32m     95\u001B[0m     \u001B[38;5;28;01mif\u001B[39;00m deleted \u001B[38;5;129;01mis\u001B[39;00m \u001B[38;5;28;01mTrue\u001B[39;00m:\n\u001B[1;32m     96\u001B[0m         c_url \u001B[38;5;241m=\u001B[39m c_url \u001B[38;5;241m+\u001B[39m \u001B[38;5;124m'\u001B[39m\u001B[38;5;124m/deleted\u001B[39m\u001B[38;5;124m'\u001B[39m\n",
      "\u001B[0;31mAttributeError\u001B[0m: module 'bioblend.galaxy.objects.galaxy_instance' has no attribute 'url'"
     ]
    }
   ],
   "source": [
    "toolClient = ToolClient(galaxy_instance)\n",
    "toolPanels = toolClient.get_tool_panel()"
   ]
  },
  {
   "cell_type": "code",
   "execution_count": 27,
   "metadata": {
    "pycharm": {
     "name": "#%%\n"
    }
   },
   "outputs": [
    {
     "ename": "KeyError",
     "evalue": "'elems'",
     "output_type": "error",
     "traceback": [
      "\u001B[0;31m---------------------------------------------------------------------------\u001B[0m",
      "\u001B[0;31mKeyError\u001B[0m                                  Traceback (most recent call last)",
      "Input \u001B[0;32mIn [27]\u001B[0m, in \u001B[0;36m<module>\u001B[0;34m\u001B[0m\n\u001B[1;32m      4\u001B[0m \u001B[38;5;66;03m#print(toolPanels)\u001B[39;00m\n\u001B[1;32m      5\u001B[0m \u001B[38;5;28;01mfor\u001B[39;00m toolPanel \u001B[38;5;129;01min\u001B[39;00m toolPanels:\n\u001B[0;32m----> 6\u001B[0m     tools \u001B[38;5;241m=\u001B[39m \u001B[43mtoolPanel\u001B[49m\u001B[43m[\u001B[49m\u001B[38;5;124;43m'\u001B[39;49m\u001B[38;5;124;43melems\u001B[39;49m\u001B[38;5;124;43m'\u001B[39;49m\u001B[43m]\u001B[49m\n",
      "\u001B[0;31mKeyError\u001B[0m: 'elems'"
     ]
    }
   ],
   "source": [
    "galaxyInstance = galaxy.GalaxyInstance(url='https://usegalaxy.org/', key='879271b2a412ff7df93ae34a5d163eed')\n",
    "toolClient = ToolClient(galaxyInstance)\n",
    "toolPanels = toolClient.get_tool_panel()\n",
    "#print(toolPanels)\n",
    "for toolPanel in toolPanels:\n",
    "    tools = toolPanel['elems']"
   ]
  },
  {
   "cell_type": "code",
   "execution_count": 39,
   "metadata": {
    "pycharm": {
     "name": "#%%\n"
    }
   },
   "outputs": [
    {
     "ename": "ConnectionError",
     "evalue": "GET: error 404: b'{\"err_msg\": \"Could not find tool with id \\'star\\'.\", \"err_code\": 404001}', 0 attempts left: {\"err_msg\": \"Could not find tool with id 'star'.\", \"err_code\": 404001}",
     "output_type": "error",
     "traceback": [
      "\u001B[0;31m---------------------------------------------------------------------------\u001B[0m",
      "\u001B[0;31mConnectionError\u001B[0m                           Traceback (most recent call last)",
      "Input \u001B[0;32mIn [39]\u001B[0m, in \u001B[0;36m<module>\u001B[0;34m\u001B[0m\n\u001B[0;32m----> 1\u001B[0m \u001B[43mgi\u001B[49m\u001B[38;5;241;43m.\u001B[39;49m\u001B[43mtools\u001B[49m\u001B[38;5;241;43m.\u001B[39;49m\u001B[43mshow_tool\u001B[49m\u001B[43m(\u001B[49m\u001B[38;5;124;43m'\u001B[39;49m\u001B[38;5;124;43mstar\u001B[39;49m\u001B[38;5;124;43m'\u001B[39;49m\u001B[43m)\u001B[49m[\u001B[38;5;124m'\u001B[39m\u001B[38;5;124mid\u001B[39m\u001B[38;5;124m'\u001B[39m]\n",
      "File \u001B[0;32m/Library/Frameworks/Python.framework/Versions/3.10/lib/python3.10/site-packages/bioblend/galaxy/tools/__init__.py:170\u001B[0m, in \u001B[0;36mToolClient.show_tool\u001B[0;34m(self, tool_id, io_details, link_details)\u001B[0m\n\u001B[1;32m    168\u001B[0m params[\u001B[38;5;124m'\u001B[39m\u001B[38;5;124mio_details\u001B[39m\u001B[38;5;124m'\u001B[39m] \u001B[38;5;241m=\u001B[39m io_details\n\u001B[1;32m    169\u001B[0m params[\u001B[38;5;124m'\u001B[39m\u001B[38;5;124mlink_details\u001B[39m\u001B[38;5;124m'\u001B[39m] \u001B[38;5;241m=\u001B[39m link_details\n\u001B[0;32m--> 170\u001B[0m \u001B[38;5;28;01mreturn\u001B[39;00m \u001B[38;5;28;43mself\u001B[39;49m\u001B[38;5;241;43m.\u001B[39;49m\u001B[43m_get\u001B[49m\u001B[43m(\u001B[49m\u001B[38;5;28;43mid\u001B[39;49m\u001B[38;5;241;43m=\u001B[39;49m\u001B[43mtool_id\u001B[49m\u001B[43m,\u001B[49m\u001B[43m \u001B[49m\u001B[43mparams\u001B[49m\u001B[38;5;241;43m=\u001B[39;49m\u001B[43mparams\u001B[49m\u001B[43m)\u001B[49m\n",
      "File \u001B[0;32m/Library/Frameworks/Python.framework/Versions/3.10/lib/python3.10/site-packages/bioblend/galaxy/client.py:148\u001B[0m, in \u001B[0;36mClient._get\u001B[0;34m(self, id, deleted, contents, url, params, json)\u001B[0m\n\u001B[1;32m    146\u001B[0m \u001B[38;5;28;01mif\u001B[39;00m attempts_left \u001B[38;5;241m<\u001B[39m\u001B[38;5;241m=\u001B[39m \u001B[38;5;241m0\u001B[39m:\n\u001B[1;32m    147\u001B[0m     bioblend\u001B[38;5;241m.\u001B[39mlog\u001B[38;5;241m.\u001B[39merror(msg)\n\u001B[0;32m--> 148\u001B[0m     \u001B[38;5;28;01mraise\u001B[39;00m \u001B[38;5;167;01mConnectionError\u001B[39;00m(\n\u001B[1;32m    149\u001B[0m         msg,\n\u001B[1;32m    150\u001B[0m         body\u001B[38;5;241m=\u001B[39mr\u001B[38;5;241m.\u001B[39mtext,\n\u001B[1;32m    151\u001B[0m         status_code\u001B[38;5;241m=\u001B[39mr\u001B[38;5;241m.\u001B[39mstatus_code,\n\u001B[1;32m    152\u001B[0m     )\n\u001B[1;32m    153\u001B[0m \u001B[38;5;28;01melse\u001B[39;00m:\n\u001B[1;32m    154\u001B[0m     bioblend\u001B[38;5;241m.\u001B[39mlog\u001B[38;5;241m.\u001B[39mwarning(msg)\n",
      "\u001B[0;31mConnectionError\u001B[0m: GET: error 404: b'{\"err_msg\": \"Could not find tool with id \\'star\\'.\", \"err_code\": 404001}', 0 attempts left: {\"err_msg\": \"Could not find tool with id 'star'.\", \"err_code\": 404001}"
     ]
    }
   ],
   "source": [
    "preprocessing.show_history()"
   ]
  },
  {
   "cell_type": "code",
   "execution_count": 9,
   "metadata": {
    "pycharm": {
     "name": "#%%\n"
    }
   },
   "outputs": [],
   "source": [
    "historyClient = HistoryClient(gi)\n",
    "#historyClient.show_matching_datasets()\n",
    "info = historyClient.show_history(\"bb76b52060f3d03c\")\n"
   ]
  },
  {
   "cell_type": "code",
   "execution_count": 22,
   "metadata": {
    "pycharm": {
     "name": "#%%\n"
    }
   },
   "outputs": [
    {
     "ename": "TypeError",
     "evalue": "'dict_values' object is not subscriptable",
     "output_type": "error",
     "traceback": [
      "\u001B[0;31m---------------------------------------------------------------------------\u001B[0m",
      "\u001B[0;31mTypeError\u001B[0m                                 Traceback (most recent call last)",
      "Input \u001B[0;32mIn [22]\u001B[0m, in \u001B[0;36m<module>\u001B[0;34m\u001B[0m\n\u001B[1;32m      1\u001B[0m \u001B[38;5;28;01mfor\u001B[39;00m key \u001B[38;5;129;01min\u001B[39;00m info\u001B[38;5;241m.\u001B[39mkeys():\n\u001B[0;32m----> 2\u001B[0m     \u001B[38;5;28mprint\u001B[39m(\u001B[43minfo\u001B[49m\u001B[38;5;241;43m.\u001B[39;49m\u001B[43mvalues\u001B[49m\u001B[43m(\u001B[49m\u001B[43m)\u001B[49m\u001B[43m[\u001B[49m\u001B[43mkey\u001B[49m\u001B[43m]\u001B[49m)\n",
      "\u001B[0;31mTypeError\u001B[0m: 'dict_values' object is not subscriptable"
     ]
    }
   ],
   "source": [
    "for key in info.keys():\n",
    "    print(info.values())\n",
    "    #print(info[key])"
   ]
  },
  {
   "cell_type": "code",
   "execution_count": 26,
   "metadata": {
    "pycharm": {
     "name": "#%%\n"
    }
   },
   "outputs": [
    {
     "data": {
      "text/plain": [
       "dict_values(['/api/histories/bb76b52060f3d03c/contents', False, 'History', '/api/histories/bb76b52060f3d03c', 'c275217dab129a20', {'new': 0, 'upload': 0, 'queued': 0, 'running': 0, 'ok': 1, 'empty': 0, 'error': 0, 'discarded': 0, 'paused': 0, 'setting_metadata': 0, 'failed_metadata': 0}, [], False, '2022-05-08T18:52:42.352813', False, 'bb76b52060f3d03c', '2022-05-08T18:53:23.494619', 'ok', None, 2234211, None, {'new': [], 'upload': [], 'queued': [], 'running': [], 'ok': ['bbd44e69cb8906b5d1b9c54367ef98ff'], 'empty': [], 'error': [], 'discarded': [], 'paused': [], 'setting_metadata': [], 'failed_metadata': []}, 'projeto_0', False, None, None, False])"
      ]
     },
     "execution_count": 26,
     "metadata": {},
     "output_type": "execute_result"
    }
   ],
   "source": [
    "info.values()"
   ]
  },
  {
   "cell_type": "code",
   "execution_count": 28,
   "metadata": {
    "pycharm": {
     "name": "#%%\n"
    }
   },
   "outputs": [
    {
     "ename": "ConnectionError",
     "evalue": "GET: error 400: b'{\"err_msg\": \"Wrong  id ( 1 ) specified, unable to decode.\", \"err_code\": 400009}', 0 attempts left: {\"err_msg\": \"Wrong  id ( 1 ) specified, unable to decode.\", \"err_code\": 400009}",
     "output_type": "error",
     "traceback": [
      "\u001B[0;31m---------------------------------------------------------------------------\u001B[0m",
      "\u001B[0;31mConnectionError\u001B[0m                           Traceback (most recent call last)",
      "Input \u001B[0;32mIn [28]\u001B[0m, in \u001B[0;36m<module>\u001B[0;34m\u001B[0m\n\u001B[0;32m----> 1\u001B[0m \u001B[43mhistoryClient\u001B[49m\u001B[38;5;241;43m.\u001B[39;49m\u001B[43mshow_dataset\u001B[49m\u001B[43m(\u001B[49m\u001B[38;5;124;43m\"\u001B[39;49m\u001B[38;5;124;43mbb76b52060f3d03c\u001B[39;49m\u001B[38;5;124;43m\"\u001B[39;49m\u001B[43m,\u001B[49m\u001B[38;5;124;43m\"\u001B[39;49m\u001B[38;5;124;43m1\u001B[39;49m\u001B[38;5;124;43m\"\u001B[39;49m\u001B[43m)\u001B[49m\n",
      "File \u001B[0;32m/Library/Frameworks/Python.framework/Versions/3.10/lib/python3.10/site-packages/bioblend/galaxy/histories/__init__.py:259\u001B[0m, in \u001B[0;36mHistoryClient.show_dataset\u001B[0;34m(self, history_id, dataset_id)\u001B[0m\n\u001B[1;32m    246\u001B[0m \u001B[38;5;124;03m\"\"\"\u001B[39;00m\n\u001B[1;32m    247\u001B[0m \u001B[38;5;124;03mGet details about a given history dataset.\u001B[39;00m\n\u001B[1;32m    248\u001B[0m \n\u001B[0;32m   (...)\u001B[0m\n\u001B[1;32m    256\u001B[0m \u001B[38;5;124;03m:return: Information about the dataset\u001B[39;00m\n\u001B[1;32m    257\u001B[0m \u001B[38;5;124;03m\"\"\"\u001B[39;00m\n\u001B[1;32m    258\u001B[0m url \u001B[38;5;241m=\u001B[39m \u001B[38;5;124m'\u001B[39m\u001B[38;5;124m/\u001B[39m\u001B[38;5;124m'\u001B[39m\u001B[38;5;241m.\u001B[39mjoin((\u001B[38;5;28mself\u001B[39m\u001B[38;5;241m.\u001B[39m_make_url(history_id, contents\u001B[38;5;241m=\u001B[39m\u001B[38;5;28;01mTrue\u001B[39;00m), dataset_id))\n\u001B[0;32m--> 259\u001B[0m \u001B[38;5;28;01mreturn\u001B[39;00m \u001B[38;5;28;43mself\u001B[39;49m\u001B[38;5;241;43m.\u001B[39;49m\u001B[43m_get\u001B[49m\u001B[43m(\u001B[49m\u001B[43murl\u001B[49m\u001B[38;5;241;43m=\u001B[39;49m\u001B[43murl\u001B[49m\u001B[43m)\u001B[49m\n",
      "File \u001B[0;32m/Library/Frameworks/Python.framework/Versions/3.10/lib/python3.10/site-packages/bioblend/galaxy/client.py:148\u001B[0m, in \u001B[0;36mClient._get\u001B[0;34m(self, id, deleted, contents, url, params, json)\u001B[0m\n\u001B[1;32m    146\u001B[0m \u001B[38;5;28;01mif\u001B[39;00m attempts_left \u001B[38;5;241m<\u001B[39m\u001B[38;5;241m=\u001B[39m \u001B[38;5;241m0\u001B[39m:\n\u001B[1;32m    147\u001B[0m     bioblend\u001B[38;5;241m.\u001B[39mlog\u001B[38;5;241m.\u001B[39merror(msg)\n\u001B[0;32m--> 148\u001B[0m     \u001B[38;5;28;01mraise\u001B[39;00m \u001B[38;5;167;01mConnectionError\u001B[39;00m(\n\u001B[1;32m    149\u001B[0m         msg,\n\u001B[1;32m    150\u001B[0m         body\u001B[38;5;241m=\u001B[39mr\u001B[38;5;241m.\u001B[39mtext,\n\u001B[1;32m    151\u001B[0m         status_code\u001B[38;5;241m=\u001B[39mr\u001B[38;5;241m.\u001B[39mstatus_code,\n\u001B[1;32m    152\u001B[0m     )\n\u001B[1;32m    153\u001B[0m \u001B[38;5;28;01melse\u001B[39;00m:\n\u001B[1;32m    154\u001B[0m     bioblend\u001B[38;5;241m.\u001B[39mlog\u001B[38;5;241m.\u001B[39mwarning(msg)\n",
      "\u001B[0;31mConnectionError\u001B[0m: GET: error 400: b'{\"err_msg\": \"Wrong  id ( 1 ) specified, unable to decode.\", \"err_code\": 400009}', 0 attempts left: {\"err_msg\": \"Wrong  id ( 1 ) specified, unable to decode.\", \"err_code\": 400009}"
     ]
    }
   ],
   "source": [
    "historyClient.show_dataset(\"bb76b52060f3d03c\",\"1\")"
   ]
  },
  {
   "cell_type": "code",
   "execution_count": 31,
   "metadata": {
    "pycharm": {
     "name": "#%%\n"
    }
   },
   "outputs": [],
   "source": [
    "info1 = gi.datasets.get_datasets()"
   ]
  },
  {
   "cell_type": "code",
   "execution_count": 36,
   "metadata": {
    "pycharm": {
     "name": "#%%\n"
    }
   },
   "outputs": [
    {
     "ename": "TypeError",
     "evalue": "list indices must be integers or slices, not str",
     "output_type": "error",
     "traceback": [
      "\u001B[0;31m---------------------------------------------------------------------------\u001B[0m",
      "\u001B[0;31mTypeError\u001B[0m                                 Traceback (most recent call last)",
      "Input \u001B[0;32mIn [36]\u001B[0m, in \u001B[0;36m<module>\u001B[0;34m\u001B[0m\n\u001B[0;32m----> 1\u001B[0m \u001B[38;5;28mprint\u001B[39m(\u001B[43minfo1\u001B[49m\u001B[43m[\u001B[49m\u001B[38;5;124;43m\"\u001B[39;49m\u001B[38;5;124;43mdataset_id\u001B[39;49m\u001B[38;5;124;43m\"\u001B[39;49m\u001B[43m]\u001B[49m)\n",
      "\u001B[0;31mTypeError\u001B[0m: list indices must be integers or slices, not str"
     ]
    }
   ],
   "source": [
    "print(info1[\"dataset_id\"])\n"
   ]
  },
  {
   "cell_type": "code",
   "execution_count": 48,
   "metadata": {
    "pycharm": {
     "name": "#%%\n"
    }
   },
   "outputs": [
    {
     "data": {
      "text/plain": [
       "{'purged': False,\n",
       " 'deleted': False,\n",
       " 'type': 'file',\n",
       " 'url': '/api/histories/77d77febf1e1394a/contents/bbd44e69cb8906b5d4afedb3e7f3098e',\n",
       " 'dataset_id': 'bbd44e69cb8906b5c04dc2e7da4e164e',\n",
       " 'visible': True,\n",
       " 'create_time': '2022-05-08T20:22:22.580460',\n",
       " 'type_id': 'dataset-bbd44e69cb8906b5d4afedb3e7f3098e',\n",
       " 'name': 'toy_SRR5152513_1.fastq',\n",
       " 'history_id': '77d77febf1e1394a',\n",
       " 'id': 'bbd44e69cb8906b5d4afedb3e7f3098e',\n",
       " 'hid': 9,\n",
       " 'update_time': '2022-05-08T20:23:06.412157',\n",
       " 'state': 'ok',\n",
       " 'history_content_type': 'dataset',\n",
       " 'extension': 'txt',\n",
       " 'tags': []}"
      ]
     },
     "execution_count": 48,
     "metadata": {},
     "output_type": "execute_result"
    }
   ],
   "source": [
    "next(item for item in info1 if item[\"name\"])"
   ]
  },
  {
   "cell_type": "code",
   "execution_count": 61,
   "metadata": {
    "pycharm": {
     "name": "#%%\n"
    }
   },
   "outputs": [],
   "source": [
    "name_file = 'toy_SRR5152513_1.fastq'\n",
    "def search(name_file):\n",
    "    return [element['dataset_id'] for element in info1 if element['name'] == name_file and element['state'] == 'ok']"
   ]
  },
  {
   "cell_type": "code",
   "execution_count": 62,
   "metadata": {
    "pycharm": {
     "name": "#%%\n"
    }
   },
   "outputs": [
    {
     "data": {
      "text/plain": [
       "['bbd44e69cb8906b5c04dc2e7da4e164e',\n",
       " 'bbd44e69cb8906b5de9d0c8f54e9fa4e',\n",
       " 'bbd44e69cb8906b59bb288c690c082ea',\n",
       " 'bbd44e69cb8906b5f3eec19da1a3070a',\n",
       " 'bbd44e69cb8906b5c4e1b020e93f50b4',\n",
       " 'bbd44e69cb8906b59a4d6df6b485b19c',\n",
       " 'bbd44e69cb8906b520e9df1531b26cb4']"
      ]
     },
     "execution_count": 62,
     "metadata": {},
     "output_type": "execute_result"
    }
   ],
   "source": [
    "search(name_file)"
   ]
  },
  {
   "cell_type": "code",
   "execution_count": 7,
   "outputs": [
    {
     "data": {
      "text/plain": "[{'name': 'toy_SRR5152513_1.fastq',\n  'dataset_id': 'bbd44e69cb8906b5c04dc2e7da4e164e',\n  'type': 'file',\n  'update_time': '2022-05-08T20:23:06.412157',\n  'deleted': False,\n  'create_time': '2022-05-08T20:22:22.580460',\n  'id': 'bbd44e69cb8906b5d4afedb3e7f3098e',\n  'url': '/api/histories/77d77febf1e1394a/contents/bbd44e69cb8906b5d4afedb3e7f3098e',\n  'extension': 'txt',\n  'hid': 9,\n  'history_id': '77d77febf1e1394a',\n  'type_id': 'dataset-bbd44e69cb8906b5d4afedb3e7f3098e',\n  'tags': [],\n  'visible': True,\n  'purged': False,\n  'history_content_type': 'dataset',\n  'state': 'ok'},\n {'name': 'toy_SRR5152513_1.fastq',\n  'dataset_id': 'bbd44e69cb8906b5de9d0c8f54e9fa4e',\n  'type': 'file',\n  'update_time': '2022-05-08T20:22:50.395137',\n  'deleted': False,\n  'create_time': '2022-05-08T20:22:08.484132',\n  'id': 'bbd44e69cb8906b52152265a9a8cd0e7',\n  'url': '/api/histories/77d77febf1e1394a/contents/bbd44e69cb8906b52152265a9a8cd0e7',\n  'extension': 'txt',\n  'hid': 8,\n  'history_id': '77d77febf1e1394a',\n  'type_id': 'dataset-bbd44e69cb8906b52152265a9a8cd0e7',\n  'tags': [],\n  'visible': True,\n  'purged': False,\n  'history_content_type': 'dataset',\n  'state': 'ok'},\n {'name': 'toy_SRR5152513_1.fastq',\n  'dataset_id': 'bbd44e69cb8906b59bb288c690c082ea',\n  'type': 'file',\n  'update_time': '2022-05-08T20:21:42.022477',\n  'deleted': False,\n  'create_time': '2022-05-08T20:20:58.441040',\n  'id': 'bbd44e69cb8906b57b48e8a1879dd2cd',\n  'url': '/api/histories/77d77febf1e1394a/contents/bbd44e69cb8906b57b48e8a1879dd2cd',\n  'extension': 'txt',\n  'hid': 7,\n  'history_id': '77d77febf1e1394a',\n  'type_id': 'dataset-bbd44e69cb8906b57b48e8a1879dd2cd',\n  'tags': [],\n  'visible': True,\n  'purged': False,\n  'history_content_type': 'dataset',\n  'state': 'ok'},\n {'name': 'toy_SRR5152513_1.fastq',\n  'dataset_id': 'bbd44e69cb8906b5f3eec19da1a3070a',\n  'type': 'file',\n  'update_time': '2022-05-08T20:21:13.460609',\n  'deleted': False,\n  'create_time': '2022-05-08T20:20:34.232235',\n  'id': 'bbd44e69cb8906b5240164621b5d27b7',\n  'url': '/api/histories/77d77febf1e1394a/contents/bbd44e69cb8906b5240164621b5d27b7',\n  'extension': 'txt',\n  'hid': 6,\n  'history_id': '77d77febf1e1394a',\n  'type_id': 'dataset-bbd44e69cb8906b5240164621b5d27b7',\n  'tags': [],\n  'visible': True,\n  'purged': False,\n  'history_content_type': 'dataset',\n  'state': 'ok'},\n {'name': 'toy_SRR5152513_1.fastq',\n  'dataset_id': 'bbd44e69cb8906b5c4e1b020e93f50b4',\n  'type': 'file',\n  'update_time': '2022-05-08T19:52:13.101194',\n  'deleted': True,\n  'create_time': '2022-05-08T19:45:16.903861',\n  'id': 'bbd44e69cb8906b506058c4435b1294b',\n  'url': '/api/histories/77d77febf1e1394a/contents/bbd44e69cb8906b506058c4435b1294b',\n  'extension': 'txt',\n  'hid': 5,\n  'history_id': '77d77febf1e1394a',\n  'type_id': 'dataset-bbd44e69cb8906b506058c4435b1294b',\n  'tags': [],\n  'visible': True,\n  'purged': True,\n  'history_content_type': 'dataset',\n  'state': 'ok'},\n {'name': 'Trim Galore! on data 1: trimmed reads',\n  'dataset_id': 'bbd44e69cb8906b589114cfc43e0874f',\n  'type': 'file',\n  'update_time': '2022-05-08T19:52:28.045760',\n  'deleted': True,\n  'create_time': '2022-04-28T17:57:03.318644',\n  'id': 'bbd44e69cb8906b510dcce40d7cdfd1e',\n  'url': '/api/histories/77d77febf1e1394a/contents/bbd44e69cb8906b510dcce40d7cdfd1e',\n  'extension': 'txt',\n  'hid': 4,\n  'history_id': '77d77febf1e1394a',\n  'type_id': 'dataset-bbd44e69cb8906b510dcce40d7cdfd1e',\n  'tags': [],\n  'visible': True,\n  'purged': True,\n  'history_content_type': 'dataset',\n  'state': 'error'},\n {'name': 'genome_sequence.fasta',\n  'dataset_id': 'bbd44e69cb8906b5add14c3924410738',\n  'type': 'file',\n  'update_time': '2022-05-08T19:52:31.811547',\n  'deleted': True,\n  'create_time': '2022-04-28T17:55:15.645780',\n  'id': 'bbd44e69cb8906b565cde45a6ba4ef9a',\n  'url': '/api/histories/77d77febf1e1394a/contents/bbd44e69cb8906b565cde45a6ba4ef9a',\n  'extension': 'fasta',\n  'hid': 3,\n  'history_id': '77d77febf1e1394a',\n  'type_id': 'dataset-bbd44e69cb8906b565cde45a6ba4ef9a',\n  'tags': [],\n  'visible': True,\n  'purged': True,\n  'history_content_type': 'dataset',\n  'state': 'ok'},\n {'name': 'genome_annotation.gff3',\n  'dataset_id': 'bbd44e69cb8906b58c63de9bcf231286',\n  'type': 'file',\n  'update_time': '2022-05-08T19:52:34.782532',\n  'deleted': True,\n  'create_time': '2022-04-28T17:54:44.804603',\n  'id': 'bbd44e69cb8906b5694de2059cdb746d',\n  'url': '/api/histories/77d77febf1e1394a/contents/bbd44e69cb8906b5694de2059cdb746d',\n  'extension': 'tabular',\n  'hid': 2,\n  'history_id': '77d77febf1e1394a',\n  'type_id': 'dataset-bbd44e69cb8906b5694de2059cdb746d',\n  'tags': [],\n  'visible': True,\n  'purged': True,\n  'history_content_type': 'dataset',\n  'state': 'ok'},\n {'name': 'toy_SRR5152513_1.fastq',\n  'dataset_id': 'bbd44e69cb8906b520e9df1531b26cb4',\n  'type': 'file',\n  'update_time': '2022-05-08T19:52:39.157089',\n  'deleted': True,\n  'create_time': '2022-04-28T17:54:38.869993',\n  'id': 'bbd44e69cb8906b561bb56be284d9e34',\n  'url': '/api/histories/77d77febf1e1394a/contents/bbd44e69cb8906b561bb56be284d9e34',\n  'extension': 'txt',\n  'hid': 1,\n  'history_id': '77d77febf1e1394a',\n  'type_id': 'dataset-bbd44e69cb8906b561bb56be284d9e34',\n  'tags': [],\n  'visible': True,\n  'purged': True,\n  'history_content_type': 'dataset',\n  'state': 'ok'}]"
     },
     "execution_count": 7,
     "metadata": {},
     "output_type": "execute_result"
    }
   ],
   "source": [
    "gi.datasets.get_datasets(history_id='77d77febf1e1394a') #obtemos informação sobre os nossos datasets. cada dataset tem o seu id que será utilizado posteriormente para correr tools"
   ],
   "metadata": {
    "collapsed": false,
    "pycharm": {
     "name": "#%%\n"
    }
   }
  },
  {
   "cell_type": "code",
   "execution_count": 14,
   "outputs": [
    {
     "name": "stdout",
     "output_type": "stream",
     "text": [
      "{'model_class': 'Tool', 'id': 'toolshed.g2.bx.psu.edu/repos/iuc/rgrnastar/rna_star/2.7.8a+galaxy0', 'name': 'RNA STAR', 'version': '2.7.8a+galaxy0', 'description': 'Gapped-read mapper for RNA-seq data', 'labels': [], 'edam_operations': ['operation_0292'], 'edam_topics': ['topic_3170', 'topic_3308'], 'hidden': '', 'is_workflow_compatible': True, 'xrefs': [{'value': 'star', 'reftype': 'bio.tools'}], 'tool_shed_repository': {'name': 'rgrnastar', 'owner': 'iuc', 'changeset_revision': '4074fc1940e2', 'tool_shed': 'toolshed.g2.bx.psu.edu'}, 'panel_section_id': 'rna_seq', 'panel_section_name': 'RNA-seq', 'form_style': 'regular'}\n"
     ]
    }
   ],
   "source": [
    "rna_star = gi.tools.show_tool(\"rna_star\")\n",
    "print(rna_star)"
   ],
   "metadata": {
    "collapsed": false,
    "pycharm": {
     "name": "#%%\n"
    }
   }
  },
  {
   "cell_type": "code",
   "execution_count": 24,
   "outputs": [
    {
     "ename": "ConnectionError",
     "evalue": "Unexpected HTTP status code: 400: {\"err_msg\": \"inputs invalid bbd44e69cb8906b5add14c3924410738\", \"err_code\": 400008}",
     "output_type": "error",
     "traceback": [
      "\u001B[0;31m---------------------------------------------------------------------------\u001B[0m",
      "\u001B[0;31mConnectionError\u001B[0m                           Traceback (most recent call last)",
      "Input \u001B[0;32mIn [24]\u001B[0m, in \u001B[0;36m<cell line: 2>\u001B[0;34m()\u001B[0m\n\u001B[1;32m      1\u001B[0m \u001B[38;5;66;03m#fastqc. experimentei o 'id' e o 'dataset_id'\u001B[39;00m\n\u001B[0;32m----> 2\u001B[0m \u001B[43mpreprocessing\u001B[49m\u001B[38;5;241;43m.\u001B[39;49m\u001B[43mfastqc\u001B[49m\u001B[43m(\u001B[49m\u001B[38;5;124;43m'\u001B[39;49m\u001B[38;5;124;43m77d77febf1e1394a\u001B[39;49m\u001B[38;5;124;43m'\u001B[39;49m\u001B[43m,\u001B[49m\u001B[38;5;124;43m'\u001B[39;49m\u001B[38;5;124;43mbbd44e69cb8906b5add14c3924410738\u001B[39;49m\u001B[38;5;124;43m'\u001B[39;49m\u001B[43m)\u001B[49m\n",
      "File \u001B[0;32m~/Documents/GitHub/bioinformatics-project/src/preprocessing.py:141\u001B[0m, in \u001B[0;36mfastqc\u001B[0;34m(self, id_dataset, tool_inputs)\u001B[0m\n\u001B[1;32m    139\u001B[0m tool_id = self.galaxy_instance.tools.show_tool(\"fastqc\")[\"id\"]\n\u001B[1;32m    140\u001B[0m \n\u001B[0;32m--> 141\u001B[0m return self.galaxy_instance.tools.run_tool(id_dataset, tool_id, tool_inputs)\n\u001B[1;32m    142\u001B[0m \n\u001B[1;32m    143\u001B[0m # o input não é o nome do ficheiro, é o ID do dataset, num dicionário em que a chave é o nome do argumento\n",
      "File \u001B[0;32m~/Documents/GitHub/bioinformatics-project/venv/lib/python3.9/site-packages/bioblend/galaxy/tools/__init__.py:250\u001B[0m, in \u001B[0;36mToolClient.run_tool\u001B[0;34m(self, history_id, tool_id, tool_inputs, input_format)\u001B[0m\n\u001B[1;32m    248\u001B[0m \u001B[38;5;28;01mexcept\u001B[39;00m \u001B[38;5;167;01mAttributeError\u001B[39;00m:\n\u001B[1;32m    249\u001B[0m     payload[\u001B[38;5;124m\"\u001B[39m\u001B[38;5;124minputs\u001B[39m\u001B[38;5;124m\"\u001B[39m] \u001B[38;5;241m=\u001B[39m tool_inputs\n\u001B[0;32m--> 250\u001B[0m \u001B[38;5;28;01mreturn\u001B[39;00m \u001B[38;5;28;43mself\u001B[39;49m\u001B[38;5;241;43m.\u001B[39;49m\u001B[43m_post\u001B[49m\u001B[43m(\u001B[49m\u001B[43mpayload\u001B[49m\u001B[43m)\u001B[49m\n",
      "File \u001B[0;32m~/Documents/GitHub/bioinformatics-project/venv/lib/python3.9/site-packages/bioblend/galaxy/client.py:176\u001B[0m, in \u001B[0;36mClient._post\u001B[0;34m(self, payload, id, deleted, contents, url, files_attached)\u001B[0m\n\u001B[1;32m    174\u001B[0m \u001B[38;5;28;01mif\u001B[39;00m \u001B[38;5;129;01mnot\u001B[39;00m url:\n\u001B[1;32m    175\u001B[0m     url \u001B[38;5;241m=\u001B[39m \u001B[38;5;28mself\u001B[39m\u001B[38;5;241m.\u001B[39m_make_url(module_id\u001B[38;5;241m=\u001B[39m\u001B[38;5;28mid\u001B[39m, deleted\u001B[38;5;241m=\u001B[39mdeleted, contents\u001B[38;5;241m=\u001B[39mcontents)\n\u001B[0;32m--> 176\u001B[0m \u001B[38;5;28;01mreturn\u001B[39;00m \u001B[38;5;28;43mself\u001B[39;49m\u001B[38;5;241;43m.\u001B[39;49m\u001B[43mgi\u001B[49m\u001B[38;5;241;43m.\u001B[39;49m\u001B[43mmake_post_request\u001B[49m\u001B[43m(\u001B[49m\u001B[43murl\u001B[49m\u001B[43m,\u001B[49m\u001B[43m \u001B[49m\u001B[43mpayload\u001B[49m\u001B[38;5;241;43m=\u001B[39;49m\u001B[43mpayload\u001B[49m\u001B[43m,\u001B[49m\n\u001B[1;32m    177\u001B[0m \u001B[43m                                 \u001B[49m\u001B[43mfiles_attached\u001B[49m\u001B[38;5;241;43m=\u001B[39;49m\u001B[43mfiles_attached\u001B[49m\u001B[43m)\u001B[49m\n",
      "File \u001B[0;32m~/Documents/GitHub/bioinformatics-project/venv/lib/python3.9/site-packages/bioblend/galaxyclient.py:153\u001B[0m, in \u001B[0;36mGalaxyClient.make_post_request\u001B[0;34m(self, url, payload, params, files_attached)\u001B[0m\n\u001B[1;32m    147\u001B[0m         \u001B[38;5;28;01mraise\u001B[39;00m \u001B[38;5;167;01mConnectionError\u001B[39;00m(\n\u001B[1;32m    148\u001B[0m             \u001B[38;5;124mf\u001B[39m\u001B[38;5;124m\"\u001B[39m\u001B[38;5;124mRequest was successful, but cannot decode the response content: \u001B[39m\u001B[38;5;132;01m{\u001B[39;00me\u001B[38;5;132;01m}\u001B[39;00m\u001B[38;5;124m\"\u001B[39m,\n\u001B[1;32m    149\u001B[0m             body\u001B[38;5;241m=\u001B[39mr\u001B[38;5;241m.\u001B[39mcontent,\n\u001B[1;32m    150\u001B[0m             status_code\u001B[38;5;241m=\u001B[39mr\u001B[38;5;241m.\u001B[39mstatus_code,\n\u001B[1;32m    151\u001B[0m         )\n\u001B[1;32m    152\u001B[0m \u001B[38;5;66;03m# @see self.body for HTTP response body\u001B[39;00m\n\u001B[0;32m--> 153\u001B[0m \u001B[38;5;28;01mraise\u001B[39;00m \u001B[38;5;167;01mConnectionError\u001B[39;00m(\n\u001B[1;32m    154\u001B[0m     \u001B[38;5;124mf\u001B[39m\u001B[38;5;124m\"\u001B[39m\u001B[38;5;124mUnexpected HTTP status code: \u001B[39m\u001B[38;5;132;01m{\u001B[39;00mr\u001B[38;5;241m.\u001B[39mstatus_code\u001B[38;5;132;01m}\u001B[39;00m\u001B[38;5;124m\"\u001B[39m,\n\u001B[1;32m    155\u001B[0m     body\u001B[38;5;241m=\u001B[39mr\u001B[38;5;241m.\u001B[39mtext,\n\u001B[1;32m    156\u001B[0m     status_code\u001B[38;5;241m=\u001B[39mr\u001B[38;5;241m.\u001B[39mstatus_code,\n\u001B[1;32m    157\u001B[0m )\n",
      "\u001B[0;31mConnectionError\u001B[0m: Unexpected HTTP status code: 400: {\"err_msg\": \"inputs invalid bbd44e69cb8906b5add14c3924410738\", \"err_code\": 400008}"
     ]
    }
   ],
   "source": [
    "#fastqc. experimentei o 'id' e o 'dataset_id'\n",
    "preprocessing.fastqc('77d77febf1e1394a','bbd44e69cb8906b5add14c3924410738')"
   ],
   "metadata": {
    "collapsed": false,
    "pycharm": {
     "name": "#%%\n"
    }
   }
  },
  {
   "cell_type": "code",
   "execution_count": 21,
   "outputs": [
    {
     "ename": "AttributeError",
     "evalue": "'PreProcessing' object has no attribute 'rna_star'",
     "output_type": "error",
     "traceback": [
      "\u001B[0;31m---------------------------------------------------------------------------\u001B[0m",
      "\u001B[0;31mAttributeError\u001B[0m                            Traceback (most recent call last)",
      "Input \u001B[0;32mIn [21]\u001B[0m, in \u001B[0;36m<cell line: 2>\u001B[0;34m()\u001B[0m\n\u001B[1;32m      1\u001B[0m \u001B[38;5;66;03m#star\u001B[39;00m\n\u001B[0;32m----> 2\u001B[0m \u001B[43mpreprocessing\u001B[49m\u001B[38;5;241;43m.\u001B[39;49m\u001B[43mrna_star\u001B[49m(\u001B[38;5;124m'\u001B[39m\u001B[38;5;124m77d77febf1e1394a\u001B[39m\u001B[38;5;124m'\u001B[39m,\u001B[38;5;124m'\u001B[39m\u001B[38;5;124mbbd44e69cb8906b5add14c3924410738\u001B[39m\u001B[38;5;124m'\u001B[39m)\n",
      "\u001B[0;31mAttributeError\u001B[0m: 'PreProcessing' object has no attribute 'rna_star'"
     ]
    }
   ],
   "source": [
    "#star\n",
    "preprocessing.rna_star('77d77febf1e1394a','bbd44e69cb8906b5add14c3924410738')"
   ],
   "metadata": {
    "collapsed": false,
    "pycharm": {
     "name": "#%%\n"
    }
   }
  },
  {
   "cell_type": "code",
   "execution_count": null,
   "outputs": [],
   "source": [],
   "metadata": {
    "collapsed": false,
    "pycharm": {
     "name": "#%%\n"
    }
   }
  }
 ],
 "metadata": {
  "interpreter": {
   "hash": "aee8b7b246df8f9039afb4144a1f6fd8d2ca17a180786b69acc140d282b71a49"
  },
  "kernelspec": {
   "display_name": "Python 3",
   "language": "python",
   "name": "python3"
  },
  "language_info": {
   "codemirror_mode": {
    "name": "ipython",
    "version": 3
   },
   "file_extension": ".py",
   "mimetype": "text/x-python",
   "name": "python",
   "nbconvert_exporter": "python",
   "pygments_lexer": "ipython3",
   "version": "3.10.0"
  }
 },
 "nbformat": 4,
 "nbformat_minor": 4
}
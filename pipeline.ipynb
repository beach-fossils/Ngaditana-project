{
 "cells": [
  {
   "cell_type": "code",
   "execution_count": 11,
   "outputs": [],
   "source": [
    "from bioblend import galaxy\n",
    "\n",
    "from src.preprocessing import *\n",
    "from src.integration import *\n"
   ],
   "metadata": {
    "collapsed": false,
    "pycharm": {
     "name": "#%%\n"
    }
   }
  },
  {
   "cell_type": "markdown",
   "source": [
    "Setting up the Galaxy connection. This is the first step in using the Galaxy API.\n",
    "Key can be found in the Galaxy admin panel."
   ],
   "metadata": {
    "collapsed": false,
    "pycharm": {
     "name": "#%% md\n"
    }
   }
  },
  {
   "cell_type": "code",
   "execution_count": 12,
   "outputs": [],
   "source": [
    "gi = galaxy.GalaxyInstance(url='https://usegalaxy.org/', key='879271b2a412ff7df93ae34a5d163eed')\n",
    "preprocessing = PreProcessing(galaxy_instance = gi)"
   ],
   "metadata": {
    "collapsed": false,
    "pycharm": {
     "name": "#%%\n"
    }
   }
  },
  {
   "cell_type": "markdown",
   "source": [
    "If you don't have a history created at Galaxy, you can create one. Histories are similar to folders in the file system. So, you can create a new history for each project you want to work on. You can create a history by using the following command. In this case the name of the history is 'new_history'."
   ],
   "metadata": {
    "collapsed": false,
    "pycharm": {
     "name": "#%% md\n"
    }
   }
  },
  {
   "cell_type": "code",
   "execution_count": 7,
   "outputs": [
    {
     "name": "stdout",
     "output_type": "stream",
     "text": [
      "History with name n_gaditana has been created! Here are the details:{'model_class': 'History', 'id': '915e92bff0ccfd2b', 'name': 'n_gaditana', 'deleted': False, 'purged': False, 'url': 'history?id=915e92bff0ccfd2b', 'published': False, 'annotation': None, 'tags': [], 'contents_url': 'history_contents?history_id=915e92bff0ccfd2b', 'size': 0, 'user_id': 'c275217dab129a20', 'create_time': '2022-06-25T18:29:27.899664', 'update_time': '2022-06-25T18:29:46.515951', 'importable': False, 'slug': None, 'username_and_slug': None, 'genome_build': None, 'state': 'new', 'state_ids': {'new': [], 'upload': [], 'queued': [], 'running': [], 'ok': [], 'empty': [], 'error': [], 'paused': [], 'setting_metadata': [], 'failed_metadata': [], 'deferred': [], 'discarded': []}, 'state_details': {'new': 0, 'upload': 0, 'queued': 0, 'running': 0, 'ok': 0, 'empty': 0, 'error': 0, 'paused': 0, 'setting_metadata': 0, 'failed_metadata': 0, 'deferred': 0, 'discarded': 0}, 'hid_counter': 1, 'empty': True}\n"
     ]
    }
   ],
   "source": [
    "preprocessing.create_history('n_gaditana') # creates history with name 'n_gaditana'"
   ],
   "metadata": {
    "collapsed": false,
    "pycharm": {
     "name": "#%%\n"
    }
   }
  },
  {
   "cell_type": "markdown",
   "source": [
    "To visualize all the histories in Galaxy for a user, you can use the following command."
   ],
   "metadata": {
    "collapsed": false,
    "pycharm": {
     "name": "#%% md\n"
    }
   }
  },
  {
   "cell_type": "code",
   "execution_count": 8,
   "outputs": [
    {
     "name": "stdout",
     "output_type": "stream",
     "text": [
      "history 1. n_gaditana, id: 915e92bff0ccfd2b\n",
      "history 2. new_history, id: 4fd15bc57bbdb5f2\n",
      "history 3. projeto_2, id: 9ac628343c153675\n",
      "history 4. projeto_0, id: bb76b52060f3d03c\n",
      "history 5. projeto, id: 77d77febf1e1394a\n",
      "history 6. Unnamed history, id: ab18f357fb3a7b44\n"
     ]
    }
   ],
   "source": [
    "preprocessing.view_histories()"
   ],
   "metadata": {
    "collapsed": false,
    "pycharm": {
     "name": "#%%\n"
    }
   }
  },
  {
   "cell_type": "markdown",
   "source": [
    "To get information about a specific history, you can use the following code. For this porpuse, it will give information about the existing datasets in the history."
   ],
   "metadata": {
    "collapsed": false,
    "pycharm": {
     "name": "#%% md\n"
    }
   }
  },
  {
   "cell_type": "code",
   "execution_count": 9,
   "outputs": [
    {
     "name": "stdout",
     "output_type": "stream",
     "text": [
      "These files are in history:\n"
     ]
    }
   ],
   "source": [
    "preprocessing.show_history('915e92bff0ccfd2b')"
   ],
   "metadata": {
    "collapsed": false,
    "pycharm": {
     "name": "#%%\n"
    }
   }
  },
  {
   "cell_type": "markdown",
   "source": [
    "To set a specific history as the current history, use the following code."
   ],
   "metadata": {
    "collapsed": false,
    "pycharm": {
     "name": "#%% md\n"
    }
   }
  },
  {
   "cell_type": "code",
   "execution_count": 10,
   "outputs": [],
   "source": [
    "preprocessing.set_current_history('915e92bff0ccfd2b')"
   ],
   "metadata": {
    "collapsed": false,
    "pycharm": {
     "name": "#%%\n"
    }
   }
  },
  {
   "cell_type": "markdown",
   "source": [
    "Now, in order to run a job in Galaxy, you need to upload a file to a history, if you don't have a file already uploaded in Galaxy, you can use the following command."
   ],
   "metadata": {
    "collapsed": false,
    "pycharm": {
     "name": "#%% md\n"
    }
   }
  },
  {
   "cell_type": "code",
   "execution_count": 13,
   "outputs": [
    {
     "data": {
      "text/plain": "{'outputs': [{'id': 'bbd44e69cb8906b57682b60b05f26a1a',\n   'hda_ldda': 'hda',\n   'uuid': '91e88471-7011-405c-806a-a563259a4d2b',\n   'hid': 9,\n   'file_ext': 'fasta',\n   'peek': None,\n   'model_class': 'HistoryDatasetAssociation',\n   'name': 'genome_sequence.fasta',\n   'deleted': False,\n   'purged': False,\n   'visible': True,\n   'state': 'queued',\n   'history_content_type': 'dataset',\n   'file_size': 0,\n   'create_time': '2022-06-25T18:34:10.331509',\n   'update_time': '2022-06-25T18:34:10.374555',\n   'data_type': 'galaxy.datatypes.sequence.Fasta',\n   'genome_build': '?',\n   'validated_state': 'unknown',\n   'validated_state_message': None,\n   'misc_info': None,\n   'misc_blurb': None,\n   'tags': [],\n   'history_id': '915e92bff0ccfd2b',\n   'metadata_dbkey': '?',\n   'metadata_data_lines': 0,\n   'metadata_sequences': 0,\n   'output_name': 'output0'}],\n 'output_collections': [],\n 'jobs': [{'model_class': 'Job',\n   'id': 'bbd44e69cb8906b5446e6f340998d469',\n   'state': 'new',\n   'exit_code': None,\n   'update_time': '2022-06-25T18:34:10.427671',\n   'create_time': '2022-06-25T18:34:10.405655',\n   'galaxy_version': '22.05',\n   'tool_id': 'upload1',\n   'history_id': '915e92bff0ccfd2b'}],\n 'implicit_collections': [],\n 'produces_entry_points': False}"
     },
     "execution_count": 13,
     "metadata": {},
     "output_type": "execute_result"
    }
   ],
   "source": [
    "#preprocessing.upload_data_history(\"data/inputs/toy_SRR5152513_1.fastq\") # uploads file to current history set in the previous code\n",
    "# or\n",
    "preprocessing.upload_data_history(\"data/inputs/toy_SRR5152513_1.fastq\", history_id=\"915e92bff0ccfd2b\", name='fastq1', file_type=\"fastq\") ## uploads file to specific history with a specific name\n",
    "preprocessing.upload_data_history(\"data/inputs/toy_SRR5152513_2.fastq\", history_id=\"915e92bff0ccfd2b\", name='fastq2', file_type=\"fastq\") # uploads file to specific history\n",
    "preprocessing.upload_data_history(\"data/inputs/annotation.gtf\", history_id=\"915e92bff0ccfd2b\", name=\"annotation.gtf\", file_type=\"gtf\")\n",
    "preprocessing.upload_data_history(\"data/inputs/genome_annotation.gff3\", history_id=\"915e92bff0ccfd2b\", name=\"annotation3\", file_type=\"gff3\")\n",
    "preprocessing.upload_data_history(\"data/inputs/genome_sequence.fasta\", history_id=\"915e92bff0ccfd2b\", name=\"genome_ng\", file_type=\"fasta\")"
   ],
   "metadata": {
    "collapsed": false,
    "pycharm": {
     "name": "#%%\n"
    }
   }
  },
  {
   "cell_type": "markdown",
   "source": [
    "To get information about all the datasets in a history, you can use the following command."
   ],
   "metadata": {
    "collapsed": false,
    "pycharm": {
     "name": "#%% md\n"
    }
   }
  },
  {
   "cell_type": "code",
   "execution_count": 14,
   "outputs": [
    {
     "name": "stdout",
     "output_type": "stream",
     "text": [
      "dataset 1. name is: genome_sequence.fasta, deleted: False, dataset id: bbd44e69cb8906b57682b60b05f26a1a, created at: 2022-06-25T18:34:10.331509\n",
      "dataset 2. name is: toy_SRR5152513_2.fastq, deleted: False, dataset id: bbd44e69cb8906b5bafe0042c3f6ecad, created at: 2022-06-25T18:33:23.135855\n",
      "dataset 3. name is: genome_annotation.gff3, deleted: False, dataset id: bbd44e69cb8906b5fa7fadc8f30c1622, created at: 2022-06-25T18:33:12.322064\n",
      "dataset 4. name is: annotation.gtf, deleted: False, dataset id: bbd44e69cb8906b5758784d265dda69c, created at: 2022-06-25T18:33:08.677234\n",
      "dataset 5. name is: toy_SRR5152513_1.fastq, deleted: False, dataset id: bbd44e69cb8906b584d10ecde48baaf8, created at: 2022-06-25T18:33:01.760212\n",
      "dataset 6. name is: toy_SRR5152513_1.fastq, deleted: False, dataset id: bbd44e69cb8906b549249e3c66d154b2, created at: 2022-06-25T18:31:00.859231\n",
      "dataset 7. name is: annotation.gtf, deleted: False, dataset id: bbd44e69cb8906b571ad95380cf777b0, created at: 2022-06-25T18:30:52.146050\n",
      "dataset 8. name is: toy_SRR5152513_2.fastq, deleted: False, dataset id: bbd44e69cb8906b55688c14ae2c2fe0c, created at: 2022-06-25T18:30:47.140588\n",
      "dataset 9. name is: toy_SRR5152513_1.fastq, deleted: False, dataset id: bbd44e69cb8906b5b0f22c5e6a43404c, created at: 2022-06-25T18:30:44.532092\n"
     ]
    }
   ],
   "source": [
    "preprocessing.get_datasets(\"915e92bff0ccfd2b\")"
   ],
   "metadata": {
    "collapsed": false,
    "pycharm": {
     "name": "#%%\n"
    }
   }
  },
  {
   "cell_type": "markdown",
   "source": [
    "To get information about a specific dataset, you can use the following code. Usually, id will be used as parameter for different commands, as you will see in next sections. This output reveals everything you could want to know about a dataset. You have two ways to run the method, one is using the id of the dataset, and the other is using the name of the dataset."
   ],
   "metadata": {
    "collapsed": false,
    "pycharm": {
     "name": "#%% md\n"
    }
   }
  },
  {
   "cell_type": "code",
   "execution_count": 15,
   "outputs": [
    {
     "name": "stdout",
     "output_type": "stream",
     "text": [
      "information about the file with the id bbd44e69cb8906b561bb56be284d9e34 was found!\n",
      "id: bbd44e69cb8906b561bb56be284d9e34\n",
      "name: toy_SRR5152513_1.fastq\n",
      "history_id: 77d77febf1e1394a\n",
      "hid: 1\n",
      "history_content_type: dataset\n",
      "deleted: True\n",
      "visible: True\n",
      "type_id: dataset-bbd44e69cb8906b561bb56be284d9e34\n",
      "type: file\n",
      "create_time: 2022-04-28T17:54:38.869993\n",
      "update_time: 2022-05-08T19:52:39.157089\n",
      "url: /api/histories/77d77febf1e1394a/contents/bbd44e69cb8906b561bb56be284d9e34\n",
      "tags: []\n",
      "dataset_id: bbd44e69cb8906b520e9df1531b26cb4\n",
      "state: ok\n",
      "extension: txt\n",
      "purged: True\n",
      "information about the file with the name toy_SRR5152513_1.fastq was found!\n",
      "id: bbd44e69cb8906b5d2463f4421381433\n",
      "name: toy_SRR5152513_1.fastq\n",
      "history_id: 77d77febf1e1394a\n",
      "hid: 10\n",
      "history_content_type: dataset\n",
      "deleted: False\n",
      "visible: True\n",
      "type_id: dataset-bbd44e69cb8906b5d2463f4421381433\n",
      "type: file\n",
      "create_time: 2022-06-14T17:37:31.114841\n",
      "update_time: 2022-06-14T17:38:16.042770\n",
      "url: /api/histories/77d77febf1e1394a/contents/bbd44e69cb8906b5d2463f4421381433\n",
      "tags: []\n",
      "dataset_id: bbd44e69cb8906b5b00148cac8331241\n",
      "state: ok\n",
      "extension: fastqsanger\n",
      "purged: False\n",
      "information about the file with the name toy_SRR5152513_1.fastq was found!\n",
      "id: bbd44e69cb8906b5d4afedb3e7f3098e\n",
      "name: toy_SRR5152513_1.fastq\n",
      "history_id: 77d77febf1e1394a\n",
      "hid: 9\n",
      "history_content_type: dataset\n",
      "deleted: False\n",
      "visible: True\n",
      "type_id: dataset-bbd44e69cb8906b5d4afedb3e7f3098e\n",
      "type: file\n",
      "create_time: 2022-05-08T20:22:22.580460\n",
      "update_time: 2022-05-08T20:23:06.412157\n",
      "url: /api/histories/77d77febf1e1394a/contents/bbd44e69cb8906b5d4afedb3e7f3098e\n",
      "tags: []\n",
      "dataset_id: bbd44e69cb8906b5c04dc2e7da4e164e\n",
      "state: ok\n",
      "extension: txt\n",
      "purged: False\n",
      "information about the file with the name toy_SRR5152513_1.fastq was found!\n",
      "id: bbd44e69cb8906b52152265a9a8cd0e7\n",
      "name: toy_SRR5152513_1.fastq\n",
      "history_id: 77d77febf1e1394a\n",
      "hid: 8\n",
      "history_content_type: dataset\n",
      "deleted: False\n",
      "visible: True\n",
      "type_id: dataset-bbd44e69cb8906b52152265a9a8cd0e7\n",
      "type: file\n",
      "create_time: 2022-05-08T20:22:08.484132\n",
      "update_time: 2022-05-08T20:22:50.395137\n",
      "url: /api/histories/77d77febf1e1394a/contents/bbd44e69cb8906b52152265a9a8cd0e7\n",
      "tags: []\n",
      "dataset_id: bbd44e69cb8906b5de9d0c8f54e9fa4e\n",
      "state: ok\n",
      "extension: txt\n",
      "purged: False\n",
      "information about the file with the name toy_SRR5152513_1.fastq was found!\n",
      "id: bbd44e69cb8906b57b48e8a1879dd2cd\n",
      "name: toy_SRR5152513_1.fastq\n",
      "history_id: 77d77febf1e1394a\n",
      "hid: 7\n",
      "history_content_type: dataset\n",
      "deleted: False\n",
      "visible: True\n",
      "type_id: dataset-bbd44e69cb8906b57b48e8a1879dd2cd\n",
      "type: file\n",
      "create_time: 2022-05-08T20:20:58.441040\n",
      "update_time: 2022-05-08T20:21:42.022477\n",
      "url: /api/histories/77d77febf1e1394a/contents/bbd44e69cb8906b57b48e8a1879dd2cd\n",
      "tags: []\n",
      "dataset_id: bbd44e69cb8906b59bb288c690c082ea\n",
      "state: ok\n",
      "extension: txt\n",
      "purged: False\n",
      "information about the file with the name toy_SRR5152513_1.fastq was found!\n",
      "id: bbd44e69cb8906b5240164621b5d27b7\n",
      "name: toy_SRR5152513_1.fastq\n",
      "history_id: 77d77febf1e1394a\n",
      "hid: 6\n",
      "history_content_type: dataset\n",
      "deleted: False\n",
      "visible: True\n",
      "type_id: dataset-bbd44e69cb8906b5240164621b5d27b7\n",
      "type: file\n",
      "create_time: 2022-05-08T20:20:34.232235\n",
      "update_time: 2022-05-08T20:21:13.460609\n",
      "url: /api/histories/77d77febf1e1394a/contents/bbd44e69cb8906b5240164621b5d27b7\n",
      "tags: []\n",
      "dataset_id: bbd44e69cb8906b5f3eec19da1a3070a\n",
      "state: ok\n",
      "extension: txt\n",
      "purged: False\n",
      "information about the file with the name toy_SRR5152513_1.fastq was found!\n",
      "id: bbd44e69cb8906b506058c4435b1294b\n",
      "name: toy_SRR5152513_1.fastq\n",
      "history_id: 77d77febf1e1394a\n",
      "hid: 5\n",
      "history_content_type: dataset\n",
      "deleted: True\n",
      "visible: True\n",
      "type_id: dataset-bbd44e69cb8906b506058c4435b1294b\n",
      "type: file\n",
      "create_time: 2022-05-08T19:45:16.903861\n",
      "update_time: 2022-05-08T19:52:13.101194\n",
      "url: /api/histories/77d77febf1e1394a/contents/bbd44e69cb8906b506058c4435b1294b\n",
      "tags: []\n",
      "dataset_id: bbd44e69cb8906b5c4e1b020e93f50b4\n",
      "state: ok\n",
      "extension: txt\n",
      "purged: True\n",
      "information about the file with the name toy_SRR5152513_1.fastq was found!\n",
      "id: bbd44e69cb8906b561bb56be284d9e34\n",
      "name: toy_SRR5152513_1.fastq\n",
      "history_id: 77d77febf1e1394a\n",
      "hid: 1\n",
      "history_content_type: dataset\n",
      "deleted: True\n",
      "visible: True\n",
      "type_id: dataset-bbd44e69cb8906b561bb56be284d9e34\n",
      "type: file\n",
      "create_time: 2022-04-28T17:54:38.869993\n",
      "update_time: 2022-05-08T19:52:39.157089\n",
      "url: /api/histories/77d77febf1e1394a/contents/bbd44e69cb8906b561bb56be284d9e34\n",
      "tags: []\n",
      "dataset_id: bbd44e69cb8906b520e9df1531b26cb4\n",
      "state: ok\n",
      "extension: txt\n",
      "purged: True\n"
     ]
    }
   ],
   "source": [
    "preprocessing.get_dataset(history_id= \"915e92bff0ccfd2b\", dataset_id=\"bbd44e69cb8906b584d10ecde48baaf8\")\n",
    "#or\n",
    "preprocessing.get_dataset(history_id= \"915e92bff0ccfd2b\", file_name=\"toy_SRR5152513_1.fastq\")"
   ],
   "metadata": {
    "collapsed": false,
    "pycharm": {
     "name": "#%%\n"
    }
   }
  },
  {
   "cell_type": "markdown",
   "source": [
    "Now that you have a dataset, you should be able to run a desired tool in Galaxy. To do so, you need to specify the tool you want to run. To proccess the data in this workflow, the tools beeing used are:\n",
    "FastQC\n",
    "RNAStar\n",
    "FeatureCounts"
   ],
   "metadata": {
    "collapsed": false,
    "pycharm": {
     "name": "#%% md\n"
    }
   }
  },
  {
   "cell_type": "markdown",
   "source": [
    "Let's run the FastQC tool. It will give you a information about the generated dataset."
   ],
   "metadata": {
    "collapsed": false,
    "pycharm": {
     "name": "#%% md\n"
    }
   }
  },
  {
   "cell_type": "code",
   "execution_count": 17,
   "outputs": [
    {
     "name": "stdout",
     "output_type": "stream",
     "text": [
      "FastQC on data 2: Webpage was created in history 915e92bff0ccfd2b has id: bbd44e69cb8906b536ee795294894698\n",
      "FastQC on data 2: RawData was created in history 915e92bff0ccfd2b has id: bbd44e69cb8906b52a6ad6749fe5a86f\n",
      "More information below:\n",
      "FastQC on data 3: Webpage was created in history 915e92bff0ccfd2b has id: bbd44e69cb8906b5a3f516bdf1e2f1b9\n",
      "FastQC on data 3: RawData was created in history 915e92bff0ccfd2b has id: bbd44e69cb8906b5a13385a6f826a5c5\n",
      "More information below:\n"
     ]
    }
   ],
   "source": [
    "# id fastq_1_ng = \"bbd44e69cb8906b5e555944504c5c0e2\"\n",
    "# id fastq_2_ng = \"bbd44e69cb8906b59b3cb69dc1cd2969\"\n",
    "\n",
    "# FastQC on data xx\n",
    "fastq_output_1 = preprocessing.fastqc('bbd44e69cb8906b5b0f22c5e6a43404c', history_id='915e92bff0ccfd2b')\n",
    "fastq_output_2 = preprocessing.fastqc('bbd44e69cb8906b55688c14ae2c2fe0c', history_id='915e92bff0ccfd2b')"
   ],
   "metadata": {
    "collapsed": false,
    "pycharm": {
     "name": "#%%\n"
    }
   }
  },
  {
   "cell_type": "markdown",
   "source": [
    "You should save the output of the FastQC tool, in order to understand if the data is in good quality. Important here would be the id of the generated dataset. The FastQC tool will generate a web page with the results of the analysis. You can get the id of the dataset by using the following command.\n",
    " To visualize information about the dataset, you can use the following command."
   ],
   "metadata": {
    "collapsed": false,
    "pycharm": {
     "name": "#%% md\n"
    }
   }
  },
  {
   "cell_type": "code",
   "execution_count": 18,
   "outputs": [
    {
     "name": "stdout",
     "output_type": "stream",
     "text": [
      "({'create_time': '2022-06-25T18:44:30.891732',\n",
      "  'data_type': 'galaxy.datatypes.text.Html',\n",
      "  'deleted': False,\n",
      "  'file_ext': 'html',\n",
      "  'file_size': 0,\n",
      "  'genome_build': '?',\n",
      "  'hda_ldda': 'hda',\n",
      "  'hid': 14,\n",
      "  'history_content_type': 'dataset',\n",
      "  'history_id': '915e92bff0ccfd2b',\n",
      "  'id': 'bbd44e69cb8906b536ee795294894698',\n",
      "  'metadata_data_lines': 0,\n",
      "  'metadata_dbkey': '?',\n",
      "  'misc_blurb': 'queued',\n",
      "  'misc_info': None,\n",
      "  'model_class': 'HistoryDatasetAssociation',\n",
      "  'name': 'FastQC on data 2: Webpage',\n",
      "  'output_name': 'html_file',\n",
      "  'peek': None,\n",
      "  'purged': False,\n",
      "  'state': 'new',\n",
      "  'tags': [],\n",
      "  'update_time': '2022-06-25T18:44:30.891736',\n",
      "  'uuid': '7cdda985-fe58-4672-8b4b-a46d8c5b0400',\n",
      "  'validated_state': 'unknown',\n",
      "  'validated_state_message': None,\n",
      "  'visible': True},\n",
      " {'create_time': '2022-06-25T18:44:30.891738',\n",
      "  'data_type': 'galaxy.datatypes.data.Text',\n",
      "  'deleted': False,\n",
      "  'file_ext': 'txt',\n",
      "  'file_size': 0,\n",
      "  'genome_build': '?',\n",
      "  'hda_ldda': 'hda',\n",
      "  'hid': 15,\n",
      "  'history_content_type': 'dataset',\n",
      "  'history_id': '915e92bff0ccfd2b',\n",
      "  'id': 'bbd44e69cb8906b52a6ad6749fe5a86f',\n",
      "  'metadata_data_lines': 0,\n",
      "  'metadata_dbkey': '?',\n",
      "  'misc_blurb': 'queued',\n",
      "  'misc_info': None,\n",
      "  'model_class': 'HistoryDatasetAssociation',\n",
      "  'name': 'FastQC on data 2: RawData',\n",
      "  'output_name': 'text_file',\n",
      "  'peek': None,\n",
      "  'purged': False,\n",
      "  'state': 'new',\n",
      "  'tags': [],\n",
      "  'update_time': '2022-06-25T18:44:30.891739',\n",
      "  'uuid': 'f77aa6d3-880e-4472-a994-5cd7c0e887e8',\n",
      "  'validated_state': 'unknown',\n",
      "  'validated_state_message': None,\n",
      "  'visible': True})\n",
      "({'create_time': '2022-06-25T18:44:14.529149',\n",
      "  'data_type': 'galaxy.datatypes.text.Html',\n",
      "  'deleted': False,\n",
      "  'file_ext': 'html',\n",
      "  'file_size': 0,\n",
      "  'genome_build': '?',\n",
      "  'hda_ldda': 'hda',\n",
      "  'hid': 16,\n",
      "  'history_content_type': 'dataset',\n",
      "  'history_id': '915e92bff0ccfd2b',\n",
      "  'id': 'bbd44e69cb8906b5a3f516bdf1e2f1b9',\n",
      "  'metadata_data_lines': 0,\n",
      "  'metadata_dbkey': '?',\n",
      "  'misc_blurb': 'queued',\n",
      "  'misc_info': None,\n",
      "  'model_class': 'HistoryDatasetAssociation',\n",
      "  'name': 'FastQC on data 3: Webpage',\n",
      "  'output_name': 'html_file',\n",
      "  'peek': None,\n",
      "  'purged': False,\n",
      "  'state': 'new',\n",
      "  'tags': [],\n",
      "  'update_time': '2022-06-25T18:44:14.529154',\n",
      "  'uuid': '62aa16fe-8c96-4cf3-805b-769803440c66',\n",
      "  'validated_state': 'unknown',\n",
      "  'validated_state_message': None,\n",
      "  'visible': True},\n",
      " {'create_time': '2022-06-25T18:44:14.529157',\n",
      "  'data_type': 'galaxy.datatypes.data.Text',\n",
      "  'deleted': False,\n",
      "  'file_ext': 'txt',\n",
      "  'file_size': 0,\n",
      "  'genome_build': '?',\n",
      "  'hda_ldda': 'hda',\n",
      "  'hid': 17,\n",
      "  'history_content_type': 'dataset',\n",
      "  'history_id': '915e92bff0ccfd2b',\n",
      "  'id': 'bbd44e69cb8906b5a13385a6f826a5c5',\n",
      "  'metadata_data_lines': 0,\n",
      "  'metadata_dbkey': '?',\n",
      "  'misc_blurb': 'queued',\n",
      "  'misc_info': None,\n",
      "  'model_class': 'HistoryDatasetAssociation',\n",
      "  'name': 'FastQC on data 3: RawData',\n",
      "  'output_name': 'text_file',\n",
      "  'peek': None,\n",
      "  'purged': False,\n",
      "  'state': 'new',\n",
      "  'tags': [],\n",
      "  'update_time': '2022-06-25T18:44:14.529160',\n",
      "  'uuid': 'f8538367-d62d-4f3b-bd8c-3a69ac42332e',\n",
      "  'validated_state': 'unknown',\n",
      "  'validated_state_message': None,\n",
      "  'visible': True})\n"
     ]
    }
   ],
   "source": [
    "preprocessing.print(fastq_output_1)\n",
    "preprocessing.print(fastq_output_2)"
   ],
   "metadata": {
    "collapsed": false,
    "pycharm": {
     "name": "#%%\n"
    }
   }
  },
  {
   "cell_type": "code",
   "execution_count": 8,
   "outputs": [
    {
     "data": {
      "text/plain": "'data/outputs/FastQC_on_data_2__Webpage.zip'"
     },
     "execution_count": 8,
     "metadata": {},
     "output_type": "execute_result"
    }
   ],
   "source": [
    "# download a file in the Galaxy history\n",
    "preprocessing.download_data(\"bbd44e69cb8906b536ee795294894698\", 'data/outputs')"
   ],
   "metadata": {
    "collapsed": false,
    "pycharm": {
     "name": "#%%\n"
    }
   }
  },
  {
   "cell_type": "markdown",
   "source": [],
   "metadata": {
    "collapsed": false,
    "pycharm": {
     "name": "#%% md\n"
    }
   }
  },
  {
   "cell_type": "code",
   "execution_count": 21,
   "outputs": [
    {
     "name": "stdout",
     "output_type": "stream",
     "text": [
      "dataset 1. name is: FastQC on data 2: RawData, deleted: False, dataset id: bbd44e69cb8906b52a6ad6749fe5a86f, created at: 2022-06-25T18:44:30.891738\n",
      "dataset 2. name is: FastQC on data 2: Webpage, deleted: False, dataset id: bbd44e69cb8906b536ee795294894698, created at: 2022-06-25T18:44:30.891732\n",
      "dataset 3. name is: FastQC on data 3: RawData, deleted: False, dataset id: bbd44e69cb8906b5a13385a6f826a5c5, created at: 2022-06-25T18:44:14.529157\n",
      "dataset 4. name is: FastQC on data 3: Webpage, deleted: False, dataset id: bbd44e69cb8906b5a3f516bdf1e2f1b9, created at: 2022-06-25T18:44:14.529149\n",
      "dataset 5. name is: FastQC on data 2: RawData, deleted: False, dataset id: bbd44e69cb8906b5ce5a1e148e4983a3, created at: 2022-06-25T18:42:30.446707\n",
      "dataset 6. name is: FastQC on data 2: Webpage, deleted: False, dataset id: bbd44e69cb8906b5cf7bf0d4de42dc26, created at: 2022-06-25T18:42:30.446699\n",
      "dataset 7. name is: FastQC on data 3: RawData, deleted: False, dataset id: bbd44e69cb8906b58685b43a1c2acaa9, created at: 2022-06-25T18:42:13.478204\n",
      "dataset 8. name is: FastQC on data 3: Webpage, deleted: False, dataset id: bbd44e69cb8906b58c8eec864b92c5fd, created at: 2022-06-25T18:42:13.478195\n",
      "dataset 9. name is: genome_sequence.fasta, deleted: False, dataset id: bbd44e69cb8906b57682b60b05f26a1a, created at: 2022-06-25T18:34:10.331509\n",
      "dataset 10. name is: toy_SRR5152513_2.fastq, deleted: False, dataset id: bbd44e69cb8906b5bafe0042c3f6ecad, created at: 2022-06-25T18:33:23.135855\n",
      "dataset 11. name is: genome_annotation.gff3, deleted: False, dataset id: bbd44e69cb8906b5fa7fadc8f30c1622, created at: 2022-06-25T18:33:12.322064\n",
      "dataset 12. name is: annotation.gtf, deleted: False, dataset id: bbd44e69cb8906b5758784d265dda69c, created at: 2022-06-25T18:33:08.677234\n",
      "dataset 13. name is: toy_SRR5152513_1.fastq, deleted: False, dataset id: bbd44e69cb8906b584d10ecde48baaf8, created at: 2022-06-25T18:33:01.760212\n",
      "dataset 14. name is: toy_SRR5152513_1.fastq, deleted: False, dataset id: bbd44e69cb8906b549249e3c66d154b2, created at: 2022-06-25T18:31:00.859231\n",
      "dataset 15. name is: annotation.gtf, deleted: False, dataset id: bbd44e69cb8906b571ad95380cf777b0, created at: 2022-06-25T18:30:52.146050\n",
      "dataset 16. name is: toy_SRR5152513_2.fastq, deleted: False, dataset id: bbd44e69cb8906b55688c14ae2c2fe0c, created at: 2022-06-25T18:30:47.140588\n",
      "dataset 17. name is: toy_SRR5152513_1.fastq, deleted: False, dataset id: bbd44e69cb8906b5b0f22c5e6a43404c, created at: 2022-06-25T18:30:44.532092\n"
     ]
    }
   ],
   "source": [
    "sequence = preprocessing.get_dataset_raw(history_id=\"915e92bff0ccfd2b\", file_name=\"genome_sequence.fasta\")['id']\n",
    "preprocessing.get_datasets(\"915e92bff0ccfd2b\")\n"
   ],
   "metadata": {
    "collapsed": false,
    "pycharm": {
     "name": "#%%\n"
    }
   }
  },
  {
   "cell_type": "code",
   "execution_count": 22,
   "outputs": [],
   "source": [
    "annotation = 'bbd44e69cb8906b571ad95380cf777b0'"
   ],
   "metadata": {
    "collapsed": false,
    "pycharm": {
     "name": "#%%\n"
    }
   }
  },
  {
   "cell_type": "code",
   "execution_count": 24,
   "outputs": [],
   "source": [
    "rna_star = preprocessing.rna_star(tool_params={\"SinglePaired\": \"paired\",\n",
    "                                            \"input1\": \"bbd44e69cb8906b5b0f22c5e6a43404c\", #fastq_1_ng\n",
    "                                            \"input2\": \"bbd44e69cb8906b55688c14ae2c2fe0c\", #fastq2\n",
    "                                            \"FASTAfile\": sequence, #sequence\n",
    "                                            \"genomeSAindexNbases\": \"11\",\n",
    "                                            \"GTFfile\": annotation}, #annotation\n",
    "                                history_id=\"915e92bff0ccfd2b\")"
   ],
   "metadata": {
    "collapsed": false,
    "pycharm": {
     "name": "#%%\n"
    }
   }
  },
  {
   "cell_type": "code",
   "execution_count": 25,
   "outputs": [
    {
     "name": "stdout",
     "output_type": "stream",
     "text": [
      "{'implicit_collections': [],\n",
      " 'jobs': [{'create_time': '2022-06-25T19:40:13.553569',\n",
      "           'exit_code': None,\n",
      "           'galaxy_version': '22.05',\n",
      "           'history_id': '915e92bff0ccfd2b',\n",
      "           'id': 'bbd44e69cb8906b56567e2cd0a654d11',\n",
      "           'model_class': 'Job',\n",
      "           'state': 'new',\n",
      "           'tool_id': 'toolshed.g2.bx.psu.edu/repos/iuc/rgrnastar/rna_star/2.7.8a+galaxy0',\n",
      "           'update_time': '2022-06-25T19:40:13.616595'}],\n",
      " 'output_collections': [],\n",
      " 'outputs': [{'create_time': '2022-06-25T19:40:13.574573',\n",
      "              'data_type': 'galaxy.datatypes.data.Text',\n",
      "              'deleted': False,\n",
      "              'file_ext': 'txt',\n",
      "              'file_size': 0,\n",
      "              'genome_build': '?',\n",
      "              'hda_ldda': 'hda',\n",
      "              'hid': 18,\n",
      "              'history_content_type': 'dataset',\n",
      "              'history_id': '915e92bff0ccfd2b',\n",
      "              'id': 'bbd44e69cb8906b59e2e543ee34574b2',\n",
      "              'metadata_data_lines': 0,\n",
      "              'metadata_dbkey': '?',\n",
      "              'misc_blurb': 'queued',\n",
      "              'misc_info': None,\n",
      "              'model_class': 'HistoryDatasetAssociation',\n",
      "              'name': 'RNA STAR on data 8, data 9, and others: log',\n",
      "              'output_name': 'output_log',\n",
      "              'peek': None,\n",
      "              'purged': False,\n",
      "              'state': 'new',\n",
      "              'tags': [],\n",
      "              'update_time': '2022-06-25T19:40:13.574591',\n",
      "              'uuid': '898d59d1-2d1b-42bb-a758-08b53b5edcdd',\n",
      "              'validated_state': 'unknown',\n",
      "              'validated_state_message': None,\n",
      "              'visible': True},\n",
      "             {'create_time': '2022-06-25T19:40:13.574606',\n",
      "              'data_type': 'galaxy.datatypes.interval.Interval',\n",
      "              'deleted': False,\n",
      "              'file_ext': 'interval',\n",
      "              'file_size': 0,\n",
      "              'genome_build': '?',\n",
      "              'hda_ldda': 'hda',\n",
      "              'hid': 19,\n",
      "              'history_content_type': 'dataset',\n",
      "              'history_id': '915e92bff0ccfd2b',\n",
      "              'id': 'bbd44e69cb8906b5b48db3cc929e2986',\n",
      "              'metadata_chromCol': 1,\n",
      "              'metadata_column_names': [],\n",
      "              'metadata_column_types': [],\n",
      "              'metadata_columns': 3,\n",
      "              'metadata_comment_lines': 0,\n",
      "              'metadata_data_lines': 0,\n",
      "              'metadata_dbkey': '?',\n",
      "              'metadata_delimiter': '\\t',\n",
      "              'metadata_endCol': 3,\n",
      "              'metadata_nameCol': None,\n",
      "              'metadata_startCol': 2,\n",
      "              'metadata_strandCol': None,\n",
      "              'misc_blurb': 'queued',\n",
      "              'misc_info': None,\n",
      "              'model_class': 'HistoryDatasetAssociation',\n",
      "              'name': 'RNA STAR on data 8, data 9, and others: splice '\n",
      "                      'junctions.bed',\n",
      "              'output_name': 'splice_junctions',\n",
      "              'peek': None,\n",
      "              'purged': False,\n",
      "              'state': 'new',\n",
      "              'tags': [],\n",
      "              'update_time': '2022-06-25T19:40:13.574616',\n",
      "              'uuid': '5ee52770-6605-49af-a383-4c4b58fc1acb',\n",
      "              'validated_state': 'unknown',\n",
      "              'validated_state_message': None,\n",
      "              'visible': True},\n",
      "             {'create_time': '2022-06-25T19:40:13.574630',\n",
      "              'data_type': 'galaxy.datatypes.binary.Bam',\n",
      "              'deleted': False,\n",
      "              'file_ext': 'bam',\n",
      "              'file_size': 0,\n",
      "              'genome_build': '?',\n",
      "              'hda_ldda': 'hda',\n",
      "              'hid': 20,\n",
      "              'history_content_type': 'dataset',\n",
      "              'history_id': '915e92bff0ccfd2b',\n",
      "              'id': 'bbd44e69cb8906b5a5b46173c14f8c64',\n",
      "              'metadata_bam_csi_index': None,\n",
      "              'metadata_bam_header': {},\n",
      "              'metadata_bam_index': None,\n",
      "              'metadata_bam_version': None,\n",
      "              'metadata_column_names': ['QNAME',\n",
      "                                        'FLAG',\n",
      "                                        'RNAME',\n",
      "                                        'POS',\n",
      "                                        'MAPQ',\n",
      "                                        'CIGAR',\n",
      "                                        'MRNM',\n",
      "                                        'MPOS',\n",
      "                                        'ISIZE',\n",
      "                                        'SEQ',\n",
      "                                        'QUAL',\n",
      "                                        'OPT'],\n",
      "              'metadata_column_types': ['str',\n",
      "                                        'int',\n",
      "                                        'str',\n",
      "                                        'int',\n",
      "                                        'int',\n",
      "                                        'str',\n",
      "                                        'str',\n",
      "                                        'int',\n",
      "                                        'int',\n",
      "                                        'str',\n",
      "                                        'str',\n",
      "                                        'str'],\n",
      "              'metadata_columns': 12,\n",
      "              'metadata_dbkey': '?',\n",
      "              'metadata_read_groups': [],\n",
      "              'metadata_reference_lengths': [],\n",
      "              'metadata_reference_names': [],\n",
      "              'metadata_sort_order': None,\n",
      "              'misc_blurb': 'queued',\n",
      "              'misc_info': None,\n",
      "              'model_class': 'HistoryDatasetAssociation',\n",
      "              'name': 'RNA STAR on data 8, data 9, and others: mapped.bam',\n",
      "              'output_name': 'mapped_reads',\n",
      "              'peek': None,\n",
      "              'purged': False,\n",
      "              'state': 'new',\n",
      "              'tags': [],\n",
      "              'update_time': '2022-06-25T19:40:13.574640',\n",
      "              'uuid': 'e5b67a01-6d22-4d84-b4d9-aa04c342c6fc',\n",
      "              'validated_state': 'unknown',\n",
      "              'validated_state_message': None,\n",
      "              'visible': True}],\n",
      " 'produces_entry_points': False}\n"
     ]
    }
   ],
   "source": [
    "preprocessing.print(rna_star) # prints the output of the rna_star tool"
   ],
   "metadata": {
    "collapsed": false,
    "pycharm": {
     "name": "#%%\n"
    }
   }
  },
  {
   "cell_type": "code",
   "execution_count": 29,
   "outputs": [
    {
     "data": {
      "text/plain": "'data/outputs/Galaxy20-[RNA_STAR_on_data_8,_data_9,_and_others__mapped.bam].bam'"
     },
     "execution_count": 29,
     "metadata": {},
     "output_type": "execute_result"
    }
   ],
   "source": [
    "preprocessing.download_data(\"bbd44e69cb8906b5a5b46173c14f8c64\", 'data/outputs')"
   ],
   "metadata": {
    "collapsed": false,
    "pycharm": {
     "name": "#%%\n"
    }
   }
  },
  {
   "cell_type": "markdown",
   "source": [
    "Grab the id of the dataset generated by the RNAStar tool, which is the BAM file - because it is needed for the FeatureCounts tool."
   ],
   "metadata": {
    "collapsed": false,
    "pycharm": {
     "name": "#%% md\n"
    }
   }
  },
  {
   "cell_type": "code",
   "execution_count": 33,
   "outputs": [
    {
     "name": "stdout",
     "output_type": "stream",
     "text": [
      "dataset 1. name is: RNA STAR on data 8, data 9, and others: mapped.bam, deleted: False, dataset id: bbd44e69cb8906b5a5b46173c14f8c64, created at: 2022-06-25T19:40:13.574630\n",
      "dataset 2. name is: RNA STAR on data 8, data 9, and others: splice junctions.bed, deleted: False, dataset id: bbd44e69cb8906b5b48db3cc929e2986, created at: 2022-06-25T19:40:13.574606\n",
      "dataset 3. name is: RNA STAR on data 8, data 9, and others: log, deleted: False, dataset id: bbd44e69cb8906b59e2e543ee34574b2, created at: 2022-06-25T19:40:13.574573\n",
      "dataset 4. name is: FastQC on data 2: RawData, deleted: False, dataset id: bbd44e69cb8906b52a6ad6749fe5a86f, created at: 2022-06-25T18:44:30.891738\n",
      "dataset 5. name is: FastQC on data 2: Webpage, deleted: False, dataset id: bbd44e69cb8906b536ee795294894698, created at: 2022-06-25T18:44:30.891732\n",
      "dataset 6. name is: FastQC on data 3: RawData, deleted: False, dataset id: bbd44e69cb8906b5a13385a6f826a5c5, created at: 2022-06-25T18:44:14.529157\n",
      "dataset 7. name is: FastQC on data 3: Webpage, deleted: False, dataset id: bbd44e69cb8906b5a3f516bdf1e2f1b9, created at: 2022-06-25T18:44:14.529149\n",
      "dataset 8. name is: FastQC on data 2: RawData, deleted: False, dataset id: bbd44e69cb8906b5ce5a1e148e4983a3, created at: 2022-06-25T18:42:30.446707\n",
      "dataset 9. name is: FastQC on data 2: Webpage, deleted: False, dataset id: bbd44e69cb8906b5cf7bf0d4de42dc26, created at: 2022-06-25T18:42:30.446699\n",
      "dataset 10. name is: FastQC on data 3: RawData, deleted: False, dataset id: bbd44e69cb8906b58685b43a1c2acaa9, created at: 2022-06-25T18:42:13.478204\n",
      "dataset 11. name is: FastQC on data 3: Webpage, deleted: False, dataset id: bbd44e69cb8906b58c8eec864b92c5fd, created at: 2022-06-25T18:42:13.478195\n",
      "dataset 12. name is: genome_sequence.fasta, deleted: False, dataset id: bbd44e69cb8906b57682b60b05f26a1a, created at: 2022-06-25T18:34:10.331509\n",
      "dataset 13. name is: toy_SRR5152513_2.fastq, deleted: False, dataset id: bbd44e69cb8906b5bafe0042c3f6ecad, created at: 2022-06-25T18:33:23.135855\n",
      "dataset 14. name is: genome_annotation.gff3, deleted: False, dataset id: bbd44e69cb8906b5fa7fadc8f30c1622, created at: 2022-06-25T18:33:12.322064\n",
      "dataset 15. name is: annotation.gtf, deleted: False, dataset id: bbd44e69cb8906b5758784d265dda69c, created at: 2022-06-25T18:33:08.677234\n",
      "dataset 16. name is: toy_SRR5152513_1.fastq, deleted: False, dataset id: bbd44e69cb8906b584d10ecde48baaf8, created at: 2022-06-25T18:33:01.760212\n",
      "dataset 17. name is: toy_SRR5152513_1.fastq, deleted: False, dataset id: bbd44e69cb8906b549249e3c66d154b2, created at: 2022-06-25T18:31:00.859231\n",
      "dataset 18. name is: annotation.gtf, deleted: False, dataset id: bbd44e69cb8906b571ad95380cf777b0, created at: 2022-06-25T18:30:52.146050\n",
      "dataset 19. name is: toy_SRR5152513_2.fastq, deleted: False, dataset id: bbd44e69cb8906b55688c14ae2c2fe0c, created at: 2022-06-25T18:30:47.140588\n",
      "dataset 20. name is: toy_SRR5152513_1.fastq, deleted: False, dataset id: bbd44e69cb8906b5b0f22c5e6a43404c, created at: 2022-06-25T18:30:44.532092\n"
     ]
    }
   ],
   "source": [
    "preprocessing.get_datasets('915e92bff0ccfd2b')"
   ],
   "metadata": {
    "collapsed": false,
    "pycharm": {
     "name": "#%%\n"
    }
   }
  },
  {
   "cell_type": "markdown",
   "source": [
    "FeatureCounts will be used to quantify the gene expression. It will be runned against the reference genome."
   ],
   "metadata": {
    "collapsed": false,
    "pycharm": {
     "name": "#%% md\n"
    }
   }
  },
  {
   "cell_type": "code",
   "execution_count": 38,
   "outputs": [
    {
     "ename": "ConnectionError",
     "evalue": "Unexpected HTTP status code: 400: {\"err_msg\": \"Wrong  id ( None ) specified, unable to decode.\", \"err_code\": 400009}",
     "output_type": "error",
     "traceback": [
      "\u001B[0;31m---------------------------------------------------------------------------\u001B[0m",
      "\u001B[0;31mConnectionError\u001B[0m                           Traceback (most recent call last)",
      "\u001B[0;32m<ipython-input-38-0ac812aa58e9>\u001B[0m in \u001B[0;36m<module>\u001B[0;34m\u001B[0m\n\u001B[0;32m----> 1\u001B[0;31m feature_counts = preprocessing.feature_counts(tool_params={\"input1\":\"bbd44e69cb8906b5a5b46173c14f8c64\", # BAM file\n\u001B[0m\u001B[1;32m      2\u001B[0m                                           \"GTFfile\": annotation})     # annotation.gtf})\n",
      "\u001B[0;32m~/Documents/GitHub/bioinformatics-project/src/preprocessing.py\u001B[0m in \u001B[0;36mfeature_counts\u001B[0;34m(self, tool_params, history_id)\u001B[0m\n",
      "\u001B[0;32m~/opt/anaconda3/lib/python3.8/site-packages/bioblend/galaxy/tools/__init__.py\u001B[0m in \u001B[0;36mrun_tool\u001B[0;34m(self, history_id, tool_id, tool_inputs, input_format)\u001B[0m\n\u001B[1;32m    248\u001B[0m         \u001B[0;32mexcept\u001B[0m \u001B[0mAttributeError\u001B[0m\u001B[0;34m:\u001B[0m\u001B[0;34m\u001B[0m\u001B[0;34m\u001B[0m\u001B[0m\n\u001B[1;32m    249\u001B[0m             \u001B[0mpayload\u001B[0m\u001B[0;34m[\u001B[0m\u001B[0;34m\"inputs\"\u001B[0m\u001B[0;34m]\u001B[0m \u001B[0;34m=\u001B[0m \u001B[0mtool_inputs\u001B[0m\u001B[0;34m\u001B[0m\u001B[0;34m\u001B[0m\u001B[0m\n\u001B[0;32m--> 250\u001B[0;31m         \u001B[0;32mreturn\u001B[0m \u001B[0mself\u001B[0m\u001B[0;34m.\u001B[0m\u001B[0m_post\u001B[0m\u001B[0;34m(\u001B[0m\u001B[0mpayload\u001B[0m\u001B[0;34m)\u001B[0m\u001B[0;34m\u001B[0m\u001B[0;34m\u001B[0m\u001B[0m\n\u001B[0m\u001B[1;32m    251\u001B[0m \u001B[0;34m\u001B[0m\u001B[0m\n\u001B[1;32m    252\u001B[0m     \u001B[0;32mdef\u001B[0m \u001B[0mupload_file\u001B[0m\u001B[0;34m(\u001B[0m\u001B[0mself\u001B[0m\u001B[0;34m,\u001B[0m \u001B[0mpath\u001B[0m\u001B[0;34m,\u001B[0m \u001B[0mhistory_id\u001B[0m\u001B[0;34m,\u001B[0m \u001B[0;34m**\u001B[0m\u001B[0mkeywords\u001B[0m\u001B[0;34m)\u001B[0m\u001B[0;34m:\u001B[0m\u001B[0;34m\u001B[0m\u001B[0;34m\u001B[0m\u001B[0m\n",
      "\u001B[0;32m~/opt/anaconda3/lib/python3.8/site-packages/bioblend/galaxy/client.py\u001B[0m in \u001B[0;36m_post\u001B[0;34m(self, payload, id, deleted, contents, url, files_attached)\u001B[0m\n\u001B[1;32m    174\u001B[0m         \u001B[0;32mif\u001B[0m \u001B[0;32mnot\u001B[0m \u001B[0murl\u001B[0m\u001B[0;34m:\u001B[0m\u001B[0;34m\u001B[0m\u001B[0;34m\u001B[0m\u001B[0m\n\u001B[1;32m    175\u001B[0m             \u001B[0murl\u001B[0m \u001B[0;34m=\u001B[0m \u001B[0mself\u001B[0m\u001B[0;34m.\u001B[0m\u001B[0m_make_url\u001B[0m\u001B[0;34m(\u001B[0m\u001B[0mmodule_id\u001B[0m\u001B[0;34m=\u001B[0m\u001B[0mid\u001B[0m\u001B[0;34m,\u001B[0m \u001B[0mdeleted\u001B[0m\u001B[0;34m=\u001B[0m\u001B[0mdeleted\u001B[0m\u001B[0;34m,\u001B[0m \u001B[0mcontents\u001B[0m\u001B[0;34m=\u001B[0m\u001B[0mcontents\u001B[0m\u001B[0;34m)\u001B[0m\u001B[0;34m\u001B[0m\u001B[0;34m\u001B[0m\u001B[0m\n\u001B[0;32m--> 176\u001B[0;31m         return self.gi.make_post_request(url, payload=payload,\n\u001B[0m\u001B[1;32m    177\u001B[0m                                          files_attached=files_attached)\n\u001B[1;32m    178\u001B[0m \u001B[0;34m\u001B[0m\u001B[0m\n",
      "\u001B[0;32m~/opt/anaconda3/lib/python3.8/site-packages/bioblend/galaxyclient.py\u001B[0m in \u001B[0;36mmake_post_request\u001B[0;34m(self, url, payload, params, files_attached)\u001B[0m\n\u001B[1;32m    151\u001B[0m                 )\n\u001B[1;32m    152\u001B[0m         \u001B[0;31m# @see self.body for HTTP response body\u001B[0m\u001B[0;34m\u001B[0m\u001B[0;34m\u001B[0m\u001B[0;34m\u001B[0m\u001B[0m\n\u001B[0;32m--> 153\u001B[0;31m         raise ConnectionError(\n\u001B[0m\u001B[1;32m    154\u001B[0m             \u001B[0;34mf\"Unexpected HTTP status code: {r.status_code}\"\u001B[0m\u001B[0;34m,\u001B[0m\u001B[0;34m\u001B[0m\u001B[0;34m\u001B[0m\u001B[0m\n\u001B[1;32m    155\u001B[0m             \u001B[0mbody\u001B[0m\u001B[0;34m=\u001B[0m\u001B[0mr\u001B[0m\u001B[0;34m.\u001B[0m\u001B[0mtext\u001B[0m\u001B[0;34m,\u001B[0m\u001B[0;34m\u001B[0m\u001B[0;34m\u001B[0m\u001B[0m\n",
      "\u001B[0;31mConnectionError\u001B[0m: Unexpected HTTP status code: 400: {\"err_msg\": \"Wrong  id ( None ) specified, unable to decode.\", \"err_code\": 400009}"
     ]
    }
   ],
   "source": [
    "feature_counts = preprocessing.feature_counts(tool_params={\"input1\":\"bbd44e69cb8906b5a5b46173c14f8c64\", # BAM file\n",
    "                                          \"GTFfile\": annotation})     # annotation.gtf})"
   ],
   "metadata": {
    "collapsed": false,
    "pycharm": {
     "name": "#%%\n"
    }
   }
  },
  {
   "cell_type": "markdown",
   "source": [
    "After the FeatureCounts tool is runned, you will need to convert the results to TPM. To do so, a static method is provided, you will need to download the file created in the previous step."
   ],
   "metadata": {
    "collapsed": false,
    "pycharm": {
     "name": "#%% md\n"
    }
   }
  },
  {
   "cell_type": "code",
   "execution_count": 35,
   "outputs": [],
   "source": [
    "#dataset_id = feature_counts['outputs']['id']\n",
    "#preprocessing.download_data(dataset_id, file_path=None, use_default_filename=True, require_ok_state=True,\n",
    "#                      maxwait=12000)\n",
    "feature_counts_output = preprocessing.upload_data_history(\"data/inputs/tpm.tsv\", history_id=\"915e92bff0ccfd2b\", name=\"feature_counts_output\", file_type=\"tsv\")"
   ],
   "metadata": {
    "collapsed": false,
    "pycharm": {
     "name": "#%%\n"
    }
   }
  },
  {
   "cell_type": "code",
   "execution_count": null,
   "outputs": [],
   "source": [
    "preprocessing.calculate_tpm(feature_counts_output, \"data/outputs\", \"tpm_file\")"
   ],
   "metadata": {
    "collapsed": false,
    "pycharm": {
     "name": "#%%\n",
     "is_executing": true
    }
   }
  }
 ],
 "metadata": {
  "kernelspec": {
   "name": "python388jvsc74a57bd075caa24babfa8115d076e1765212c90ce2537e565ca6748eddadf2d503fadd6b",
   "language": "python",
   "display_name": "Python 3.8.8 ('base')"
  },
  "language_info": {
   "codemirror_mode": {
    "name": "ipython",
    "version": 3
   },
   "file_extension": ".py",
   "mimetype": "text/x-python",
   "name": "python",
   "nbconvert_exporter": "python",
   "pygments_lexer": "ipython3",
   "version": "3.6.7"
  }
 },
 "nbformat": 4,
 "nbformat_minor": 4
}
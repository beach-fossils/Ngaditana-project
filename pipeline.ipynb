{
 "cells": [
  {
   "cell_type": "code",
   "execution_count": 6,
   "outputs": [],
   "source": [
    "from bioblend import galaxy\n",
    "\n",
    "from src.preprocessing import *\n",
    "from src.integration import *"
   ],
   "metadata": {
    "collapsed": false,
    "pycharm": {
     "name": "#%%\n"
    }
   }
  },
  {
   "cell_type": "markdown",
   "source": [
    "Setting up the Galaxy connection. This is the first step in using the Galaxy API.\n",
    "Key can be found in the Galaxy admin panel."
   ],
   "metadata": {
    "collapsed": false,
    "pycharm": {
     "name": "#%% md\n"
    }
   }
  },
  {
   "cell_type": "code",
   "execution_count": 4,
   "outputs": [],
   "source": [
    "gi = galaxy.GalaxyInstance(url='https://usegalaxy.org/', key='879271b2a412ff7df93ae34a5d163eed')\n",
    "preprocessing = PreProcessing(galaxy_instance = gi)"
   ],
   "metadata": {
    "collapsed": false,
    "pycharm": {
     "name": "#%%\n"
    }
   }
  },
  {
   "cell_type": "markdown",
   "source": [
    "If you don't have a history created at Galaxy, you can create one. Histories are similar to folders in the file system. So, you can create a new history for each project you want to work on. You can create a history by using the following command. In this case the name of the history is 'new_history'."
   ],
   "metadata": {
    "collapsed": false,
    "pycharm": {
     "name": "#%% md\n"
    }
   }
  },
  {
   "cell_type": "code",
   "execution_count": null,
   "outputs": [],
   "source": [
    "preprocessing.create_history('new_history') # creates history with name 'try1'"
   ],
   "metadata": {
    "collapsed": false,
    "pycharm": {
     "name": "#%%\n"
    }
   }
  },
  {
   "cell_type": "markdown",
   "source": [
    "To visualize all the histories in Galaxy for a user, you can use the following command."
   ],
   "metadata": {
    "collapsed": false,
    "pycharm": {
     "name": "#%% md\n"
    }
   }
  },
  {
   "cell_type": "code",
   "execution_count": 5,
   "outputs": [
    {
     "name": "stdout",
     "output_type": "stream",
     "text": [
      "history 1. projeto_2, id: 9ac628343c153675\n",
      "history 2. projeto_0, id: bb76b52060f3d03c\n",
      "history 3. projeto, id: 77d77febf1e1394a\n",
      "history 4. Unnamed history, id: ab18f357fb3a7b44\n"
     ]
    }
   ],
   "source": [
    "preprocessing.view_histories()"
   ],
   "metadata": {
    "collapsed": false,
    "pycharm": {
     "name": "#%%\n"
    }
   }
  },
  {
   "cell_type": "markdown",
   "source": [
    "To get information about a specific history, you can use the following code. For this porpuse, it will give information about the existing datasets in the history."
   ],
   "metadata": {
    "collapsed": false,
    "pycharm": {
     "name": "#%% md\n"
    }
   }
  },
  {
   "cell_type": "code",
   "execution_count": 6,
   "outputs": [
    {
     "name": "stdout",
     "output_type": "stream",
     "text": [
      "These files are in history:\n",
      "file 1. name is: toy_SRR5152513_1.fastq, deleted? True, dataset id: bbd44e69cb8906b561bb56be284d9e34\n",
      "file 2. name is: genome_annotation.gff3, deleted? True, dataset id: bbd44e69cb8906b5694de2059cdb746d\n",
      "file 3. name is: genome_sequence.fasta, deleted? True, dataset id: bbd44e69cb8906b565cde45a6ba4ef9a\n",
      "file 4. name is: Trim Galore! on data 1: trimmed reads, deleted? True, dataset id: bbd44e69cb8906b510dcce40d7cdfd1e\n",
      "file 5. name is: toy_SRR5152513_1.fastq, deleted? True, dataset id: bbd44e69cb8906b506058c4435b1294b\n",
      "file 6. name is: toy_SRR5152513_1.fastq, deleted? False, dataset id: bbd44e69cb8906b5240164621b5d27b7\n",
      "file 7. name is: toy_SRR5152513_1.fastq, deleted? False, dataset id: bbd44e69cb8906b57b48e8a1879dd2cd\n",
      "file 8. name is: toy_SRR5152513_1.fastq, deleted? False, dataset id: bbd44e69cb8906b52152265a9a8cd0e7\n",
      "file 9. name is: toy_SRR5152513_1.fastq, deleted? False, dataset id: bbd44e69cb8906b5d4afedb3e7f3098e\n",
      "file 10. name is: toy_SRR5152513_1.fastq, deleted? False, dataset id: bbd44e69cb8906b5d2463f4421381433\n",
      "file 11. name is: toy_SRR5152513_2.fastq, deleted? False, dataset id: bbd44e69cb8906b5f7ffff78c3c83123\n",
      "file 12. name is: genome_sequence.fasta, deleted? False, dataset id: bbd44e69cb8906b52fa76e4af762e2cc\n",
      "file 13. name is: annotation, deleted? False, dataset id: bbd44e69cb8906b5ab6a077705ce0829\n",
      "file 14. name is: fastq_1_ng, deleted? False, dataset id: bbd44e69cb8906b51a4ae4ab9294c008\n",
      "file 15. name is: fastq_2_ng, deleted? False, dataset id: bbd44e69cb8906b51dfbe7e9722be410\n",
      "file 16. name is: sequence_ng, deleted? False, dataset id: bbd44e69cb8906b509e1d2e79906330c\n",
      "file 17. name is: FastQC on data 74: Webpage, deleted? False, dataset id: bbd44e69cb8906b56344788a1601ca1e\n",
      "file 18. name is: FastQC on data 74: RawData, deleted? False, dataset id: bbd44e69cb8906b503815bc545cab1d6\n",
      "file 19. name is: FastQC on data 74: Webpage, deleted? False, dataset id: bbd44e69cb8906b50b1109ae0621c7d0\n",
      "file 20. name is: FastQC on data 74: RawData, deleted? False, dataset id: bbd44e69cb8906b5a3b7106876d3ba6a\n",
      "file 21. name is: FastQC on data 74: Webpage, deleted? False, dataset id: bbd44e69cb8906b5a2fd7c8185c0c999\n",
      "file 22. name is: FastQC on data 74: RawData, deleted? False, dataset id: bbd44e69cb8906b5a94c61abd79c8a28\n",
      "file 23. name is: FastQC on data 74: Webpage, deleted? False, dataset id: bbd44e69cb8906b50f2ea959f5101e17\n",
      "file 24. name is: FastQC on data 74: RawData, deleted? False, dataset id: bbd44e69cb8906b59ef0cf4fb4b0434a\n",
      "file 25. name is: FastQC on data 74: Webpage, deleted? False, dataset id: bbd44e69cb8906b5d78877ef0228a0ad\n",
      "file 26. name is: FastQC on data 74: RawData, deleted? False, dataset id: bbd44e69cb8906b5122d8ea7f50f2ab2\n",
      "file 27. name is: FastQC on data 74: Webpage, deleted? False, dataset id: bbd44e69cb8906b53d132447caabaafe\n",
      "file 28. name is: FastQC on data 74: RawData, deleted? False, dataset id: bbd44e69cb8906b5f6f9005feed8a2c1\n",
      "file 29. name is: FastQC on data 74: Webpage, deleted? False, dataset id: bbd44e69cb8906b525041691b96b1b39\n",
      "file 30. name is: FastQC on data 74: RawData, deleted? False, dataset id: bbd44e69cb8906b57ccdb4cf1c0e818e\n",
      "file 31. name is: FastQC on data 74: Webpage, deleted? True, dataset id: bbd44e69cb8906b53a967bc0d6f699bc\n",
      "file 32. name is: FastQC on data 74: RawData, deleted? True, dataset id: bbd44e69cb8906b5308dae62070dc98c\n",
      "file 33. name is: FastQC on data 74: Webpage, deleted? True, dataset id: bbd44e69cb8906b5e087ca5285fc7200\n",
      "file 34. name is: FastQC on data 74: RawData, deleted? True, dataset id: bbd44e69cb8906b597f2ed771bd9f833\n",
      "file 35. name is: FastQC on data 74: Webpage, deleted? True, dataset id: bbd44e69cb8906b51bd77b3aad37db42\n",
      "file 36. name is: FastQC on data 74: RawData, deleted? True, dataset id: bbd44e69cb8906b5185bf9efbaf91e6a\n",
      "file 37. name is: FastQC on data 74: Webpage, deleted? True, dataset id: bbd44e69cb8906b5bed7737b3f9c0c35\n",
      "file 38. name is: FastQC on data 74: RawData, deleted? True, dataset id: bbd44e69cb8906b5aa150631dda02cc1\n",
      "file 39. name is: FastQC on data 74: Webpage, deleted? True, dataset id: bbd44e69cb8906b5e6eef5eb573bc894\n",
      "file 40. name is: FastQC on data 74: RawData, deleted? True, dataset id: bbd44e69cb8906b5f3cf4a357c32cbd8\n",
      "file 41. name is: FastQC on data 74: Webpage, deleted? True, dataset id: bbd44e69cb8906b556c37e470d42f592\n",
      "file 42. name is: FastQC on data 74: RawData, deleted? True, dataset id: bbd44e69cb8906b50d1e985ad207143e\n",
      "file 43. name is: FastQC on data 75: Webpage, deleted? True, dataset id: bbd44e69cb8906b59a366b545ad5e535\n",
      "file 44. name is: FastQC on data 75: RawData, deleted? True, dataset id: bbd44e69cb8906b5a1362eee3d60bc81\n",
      "file 45. name is: FastQC on data 74: Webpage, deleted? True, dataset id: bbd44e69cb8906b5c3750b19b1e106ad\n",
      "file 46. name is: FastQC on data 74: RawData, deleted? True, dataset id: bbd44e69cb8906b5daaaf7bbb31e1024\n",
      "file 47. name is: FastQC on data 74: Webpage, deleted? True, dataset id: bbd44e69cb8906b517bf50a1840344a1\n",
      "file 48. name is: FastQC on data 74: RawData, deleted? True, dataset id: bbd44e69cb8906b5bf19a324732d44ee\n",
      "file 49. name is: FastQC on data 74: Webpage, deleted? True, dataset id: bbd44e69cb8906b5137fe0f2970c3722\n",
      "file 50. name is: FastQC on data 74: RawData, deleted? True, dataset id: bbd44e69cb8906b534fedb0b07133b20\n",
      "file 51. name is: FastQC on data 74: Webpage, deleted? True, dataset id: bbd44e69cb8906b52041494aed481c14\n",
      "file 52. name is: FastQC on data 74: RawData, deleted? True, dataset id: bbd44e69cb8906b5c5afa1184a7dd445\n",
      "file 53. name is: FastQC on data 74: Webpage, deleted? True, dataset id: bbd44e69cb8906b52d8df0ea0cb3f357\n",
      "file 54. name is: FastQC on data 74: RawData, deleted? True, dataset id: bbd44e69cb8906b5b53852d4c55c1f40\n",
      "file 55. name is: FastQC on data 75: Webpage, deleted? True, dataset id: bbd44e69cb8906b5323da6d42b7d4494\n",
      "file 56. name is: FastQC on data 75: RawData, deleted? True, dataset id: bbd44e69cb8906b59125bb7480b2fb69\n",
      "file 57. name is: FastQC on data 74: Webpage, deleted? True, dataset id: bbd44e69cb8906b569ec36d139a76ba6\n",
      "file 58. name is: FastQC on data 74: RawData, deleted? True, dataset id: bbd44e69cb8906b5933e8be1b873a24c\n",
      "file 59. name is: FastQC on data 75: Webpage, deleted? True, dataset id: bbd44e69cb8906b5842af2fd359357e4\n",
      "file 60. name is: FastQC on data 75: RawData, deleted? True, dataset id: bbd44e69cb8906b5400fadedb4c5aeca\n",
      "file 61. name is: FastQC on data 74: Webpage, deleted? False, dataset id: bbd44e69cb8906b59ccddb077c1c7360\n",
      "file 62. name is: FastQC on data 74: RawData, deleted? False, dataset id: bbd44e69cb8906b53ca7340eb466a705\n",
      "file 63. name is: FastQC on data 75: Webpage, deleted? False, dataset id: bbd44e69cb8906b5630e9a0cd75b3e29\n",
      "file 64. name is: FastQC on data 75: RawData, deleted? False, dataset id: bbd44e69cb8906b5c43d4dc917daf4ca\n",
      "file 65. name is: FastQC on data 74: Webpage, deleted? False, dataset id: bbd44e69cb8906b5ef322281fb350161\n",
      "file 66. name is: FastQC on data 74: RawData, deleted? False, dataset id: bbd44e69cb8906b56880830f0c3c3e88\n"
     ]
    }
   ],
   "source": [
    "preprocessing.show_history('77d77febf1e1394a')"
   ],
   "metadata": {
    "collapsed": false,
    "pycharm": {
     "name": "#%%\n"
    }
   }
  },
  {
   "cell_type": "markdown",
   "source": [
    "To set a specific history as the current history, use the following code."
   ],
   "metadata": {
    "collapsed": false,
    "pycharm": {
     "name": "#%% md\n"
    }
   }
  },
  {
   "cell_type": "code",
   "execution_count": null,
   "outputs": [],
   "source": [
    "preprocessing.set_current_history('77d77febf1e1394a')"
   ],
   "metadata": {
    "collapsed": false,
    "pycharm": {
     "name": "#%%\n"
    }
   }
  },
  {
   "cell_type": "markdown",
   "source": [
    "Now, in order to run a job in Galaxy, you need to upload a file to a history, if you don't have a file already uploaded in Galaxy, you can use the following command."
   ],
   "metadata": {
    "collapsed": false,
    "pycharm": {
     "name": "#%% md\n"
    }
   }
  },
  {
   "cell_type": "code",
   "execution_count": 10,
   "outputs": [
    {
     "ename": "ConnectionError",
     "evalue": "Unexpected HTTP status code: 400: {\"err_msg\": \"Wrong  id ( None ) specified, unable to decode.\", \"err_code\": 400009}",
     "output_type": "error",
     "traceback": [
      "\u001B[0;31m---------------------------------------------------------------------------\u001B[0m",
      "\u001B[0;31mConnectionError\u001B[0m                           Traceback (most recent call last)",
      "Input \u001B[0;32mIn [10]\u001B[0m, in \u001B[0;36m<cell line: 1>\u001B[0;34m()\u001B[0m\n\u001B[0;32m----> 1\u001B[0m \u001B[43mpreprocessing\u001B[49m\u001B[38;5;241;43m.\u001B[39;49m\u001B[43mupload_data_history\u001B[49m\u001B[43m(\u001B[49m\u001B[38;5;124;43m\"\u001B[39;49m\u001B[38;5;124;43mdata/inputs/toy_SRR5152513_1.fastq\u001B[39;49m\u001B[38;5;124;43m\"\u001B[39;49m\u001B[43m)\u001B[49m \u001B[38;5;66;03m# uploads file to current history set in the previous code\u001B[39;00m\n\u001B[1;32m      2\u001B[0m \u001B[38;5;66;03m# or\u001B[39;00m\n\u001B[1;32m      3\u001B[0m preprocessing\u001B[38;5;241m.\u001B[39mupload_data_history(\u001B[38;5;124m\"\u001B[39m\u001B[38;5;124mdata/inputs/toy_SRR5152513_1.fastq\u001B[39m\u001B[38;5;124m\"\u001B[39m, history_id\u001B[38;5;241m=\u001B[39m\u001B[38;5;124m\"\u001B[39m\u001B[38;5;124m77d77febf1e1394a\u001B[39m\u001B[38;5;124m\"\u001B[39m)\n",
      "File \u001B[0;32m~/Documents/GitHub/bioinformatics-project/src/preprocessing.py:85\u001B[0m, in \u001B[0;36mPreProcessing.upload_data_history\u001B[0;34m(self, file_local_path, history_id, **kwargs)\u001B[0m\n\u001B[1;32m     76\u001B[0m \u001B[38;5;28;01mdef\u001B[39;00m \u001B[38;5;21mupload_data_history\u001B[39m(\u001B[38;5;28mself\u001B[39m, file_local_path, history_id\u001B[38;5;241m=\u001B[39m\u001B[38;5;28;01mNone\u001B[39;00m, \u001B[38;5;241m*\u001B[39m\u001B[38;5;241m*\u001B[39mkwargs):\n\u001B[1;32m     77\u001B[0m     \u001B[38;5;124;03m\"\"\" method to upload a local file to certain history\u001B[39;00m\n\u001B[1;32m     78\u001B[0m \n\u001B[1;32m     79\u001B[0m \u001B[38;5;124;03m    Args:\u001B[39;00m\n\u001B[0;32m   (...)\u001B[0m\n\u001B[1;32m     83\u001B[0m \u001B[38;5;124;03m        dic: dictionary containing information about newly updated file in history\u001B[39;00m\n\u001B[1;32m     84\u001B[0m \u001B[38;5;124;03m    \"\"\"\u001B[39;00m\n\u001B[0;32m---> 85\u001B[0m     counts \u001B[38;5;241m=\u001B[39m \u001B[38;5;28;43mself\u001B[39;49m\u001B[38;5;241;43m.\u001B[39;49m\u001B[43mgalaxy_instance\u001B[49m\u001B[38;5;241;43m.\u001B[39;49m\u001B[43mtools\u001B[49m\u001B[38;5;241;43m.\u001B[39;49m\u001B[43mupload_file\u001B[49m\u001B[43m(\u001B[49m\u001B[43mfile_local_path\u001B[49m\u001B[43m,\u001B[49m\u001B[43m \u001B[49m\u001B[38;5;28;43mstr\u001B[39;49m\u001B[43m(\u001B[49m\u001B[43mhistory_id\u001B[49m\u001B[43m \u001B[49m\u001B[38;5;129;43;01mor\u001B[39;49;00m\u001B[43m \u001B[49m\u001B[38;5;28;43mself\u001B[39;49m\u001B[38;5;241;43m.\u001B[39;49m\u001B[43mcurrent_history\u001B[49m\u001B[43m)\u001B[49m\u001B[43m,\u001B[49m\n\u001B[1;32m     86\u001B[0m \u001B[43m                                                    \u001B[49m\u001B[38;5;241;43m*\u001B[39;49m\u001B[38;5;241;43m*\u001B[39;49m\u001B[43mkwargs\u001B[49m\u001B[43m)\u001B[49m  \u001B[38;5;66;03m# ~working\u001B[39;00m\n\u001B[1;32m     87\u001B[0m     \u001B[38;5;28;01mreturn\u001B[39;00m counts\n",
      "File \u001B[0;32m~/Documents/GitHub/bioinformatics-project/venv/lib/python3.9/site-packages/bioblend/galaxy/tools/__init__.py:289\u001B[0m, in \u001B[0;36mToolClient.upload_file\u001B[0;34m(self, path, history_id, **keywords)\u001B[0m\n\u001B[1;32m    287\u001B[0m payload[\u001B[38;5;124m\"\u001B[39m\u001B[38;5;124mfiles_0|file_data\u001B[39m\u001B[38;5;124m\"\u001B[39m] \u001B[38;5;241m=\u001B[39m attach_file(path, name\u001B[38;5;241m=\u001B[39mkeywords[\u001B[38;5;124m\"\u001B[39m\u001B[38;5;124mfile_name\u001B[39m\u001B[38;5;124m\"\u001B[39m])\n\u001B[1;32m    288\u001B[0m \u001B[38;5;28;01mtry\u001B[39;00m:\n\u001B[0;32m--> 289\u001B[0m     \u001B[38;5;28;01mreturn\u001B[39;00m \u001B[38;5;28;43mself\u001B[39;49m\u001B[38;5;241;43m.\u001B[39;49m\u001B[43m_post\u001B[49m\u001B[43m(\u001B[49m\u001B[43mpayload\u001B[49m\u001B[43m,\u001B[49m\u001B[43m \u001B[49m\u001B[43mfiles_attached\u001B[49m\u001B[38;5;241;43m=\u001B[39;49m\u001B[38;5;28;43;01mTrue\u001B[39;49;00m\u001B[43m)\u001B[49m\n\u001B[1;32m    290\u001B[0m \u001B[38;5;28;01mfinally\u001B[39;00m:\n\u001B[1;32m    291\u001B[0m     payload[\u001B[38;5;124m\"\u001B[39m\u001B[38;5;124mfiles_0|file_data\u001B[39m\u001B[38;5;124m\"\u001B[39m]\u001B[38;5;241m.\u001B[39mclose()\n",
      "File \u001B[0;32m~/Documents/GitHub/bioinformatics-project/venv/lib/python3.9/site-packages/bioblend/galaxy/client.py:176\u001B[0m, in \u001B[0;36mClient._post\u001B[0;34m(self, payload, id, deleted, contents, url, files_attached)\u001B[0m\n\u001B[1;32m    174\u001B[0m \u001B[38;5;28;01mif\u001B[39;00m \u001B[38;5;129;01mnot\u001B[39;00m url:\n\u001B[1;32m    175\u001B[0m     url \u001B[38;5;241m=\u001B[39m \u001B[38;5;28mself\u001B[39m\u001B[38;5;241m.\u001B[39m_make_url(module_id\u001B[38;5;241m=\u001B[39m\u001B[38;5;28mid\u001B[39m, deleted\u001B[38;5;241m=\u001B[39mdeleted, contents\u001B[38;5;241m=\u001B[39mcontents)\n\u001B[0;32m--> 176\u001B[0m \u001B[38;5;28;01mreturn\u001B[39;00m \u001B[38;5;28;43mself\u001B[39;49m\u001B[38;5;241;43m.\u001B[39;49m\u001B[43mgi\u001B[49m\u001B[38;5;241;43m.\u001B[39;49m\u001B[43mmake_post_request\u001B[49m\u001B[43m(\u001B[49m\u001B[43murl\u001B[49m\u001B[43m,\u001B[49m\u001B[43m \u001B[49m\u001B[43mpayload\u001B[49m\u001B[38;5;241;43m=\u001B[39;49m\u001B[43mpayload\u001B[49m\u001B[43m,\u001B[49m\n\u001B[1;32m    177\u001B[0m \u001B[43m                                 \u001B[49m\u001B[43mfiles_attached\u001B[49m\u001B[38;5;241;43m=\u001B[39;49m\u001B[43mfiles_attached\u001B[49m\u001B[43m)\u001B[49m\n",
      "File \u001B[0;32m~/Documents/GitHub/bioinformatics-project/venv/lib/python3.9/site-packages/bioblend/galaxyclient.py:153\u001B[0m, in \u001B[0;36mGalaxyClient.make_post_request\u001B[0;34m(self, url, payload, params, files_attached)\u001B[0m\n\u001B[1;32m    147\u001B[0m         \u001B[38;5;28;01mraise\u001B[39;00m \u001B[38;5;167;01mConnectionError\u001B[39;00m(\n\u001B[1;32m    148\u001B[0m             \u001B[38;5;124mf\u001B[39m\u001B[38;5;124m\"\u001B[39m\u001B[38;5;124mRequest was successful, but cannot decode the response content: \u001B[39m\u001B[38;5;132;01m{\u001B[39;00me\u001B[38;5;132;01m}\u001B[39;00m\u001B[38;5;124m\"\u001B[39m,\n\u001B[1;32m    149\u001B[0m             body\u001B[38;5;241m=\u001B[39mr\u001B[38;5;241m.\u001B[39mcontent,\n\u001B[1;32m    150\u001B[0m             status_code\u001B[38;5;241m=\u001B[39mr\u001B[38;5;241m.\u001B[39mstatus_code,\n\u001B[1;32m    151\u001B[0m         )\n\u001B[1;32m    152\u001B[0m \u001B[38;5;66;03m# @see self.body for HTTP response body\u001B[39;00m\n\u001B[0;32m--> 153\u001B[0m \u001B[38;5;28;01mraise\u001B[39;00m \u001B[38;5;167;01mConnectionError\u001B[39;00m(\n\u001B[1;32m    154\u001B[0m     \u001B[38;5;124mf\u001B[39m\u001B[38;5;124m\"\u001B[39m\u001B[38;5;124mUnexpected HTTP status code: \u001B[39m\u001B[38;5;132;01m{\u001B[39;00mr\u001B[38;5;241m.\u001B[39mstatus_code\u001B[38;5;132;01m}\u001B[39;00m\u001B[38;5;124m\"\u001B[39m,\n\u001B[1;32m    155\u001B[0m     body\u001B[38;5;241m=\u001B[39mr\u001B[38;5;241m.\u001B[39mtext,\n\u001B[1;32m    156\u001B[0m     status_code\u001B[38;5;241m=\u001B[39mr\u001B[38;5;241m.\u001B[39mstatus_code,\n\u001B[1;32m    157\u001B[0m )\n",
      "\u001B[0;31mConnectionError\u001B[0m: Unexpected HTTP status code: 400: {\"err_msg\": \"Wrong  id ( None ) specified, unable to decode.\", \"err_code\": 400009}"
     ]
    }
   ],
   "source": [
    "preprocessing.upload_data_history(\"data/inputs/toy_SRR5152513_1.fastq\") # uploads file to current history set in the previous code\n",
    "# or\n",
    "preprocessing.upload_data_history(\"data/inputs/toy_SRR5152513_1.fastq\", history_id=\"77d77febf1e1394a\", name='fastq_ng_1', file_type=\"fastq\") ## uploads file to specific history with a specific name\n",
    "preprocessing.upload_data_history(\"data/inputs/toy_SRR5152513_2.fastq\", history_id=\"77d77febf1e1394a\", name='fastq_ng_1', file_type=\"fastq\") # uploads file to specific history\n",
    "preprocessing.upload_data_history(\"data/inputs/annotation.gtf\", history_id=\"77d77febf1e1394a\", name=\"annotation.gtf\", file_type=\"gtf\")\n",
    "preprocessing.upload_data_history(\"data/inputs/annotation.gff3\", history_id=\"77d77febf1e1394a\", name=\"annotation3\", file_type=\"gff3\")\n",
    "preprocessing.upload_data_history(\"data/inputs/genome_sequence.fasta\", history_id=\"77d77febf1e1394a\", name=\"genome_ng\", file_type=\"fasta\")"
   ],
   "metadata": {
    "collapsed": false,
    "pycharm": {
     "name": "#%%\n"
    }
   }
  },
  {
   "cell_type": "markdown",
   "source": [
    "To get information about all the datasets in a history, you can use the following command."
   ],
   "metadata": {
    "collapsed": false,
    "pycharm": {
     "name": "#%% md\n"
    }
   }
  },
  {
   "cell_type": "code",
   "execution_count": 13,
   "outputs": [
    {
     "name": "stdout",
     "output_type": "stream",
     "text": [
      "dataset 1. name is: FastQC on data 75: RawData, deleted: True, dataset id: bbd44e69cb8906b5400fadedb4c5aeca, created at: 2022-06-17T15:56:40.708138\n",
      "dataset 2. name is: FastQC on data 75: Webpage, deleted: True, dataset id: bbd44e69cb8906b5842af2fd359357e4, created at: 2022-06-17T15:56:40.708131\n",
      "dataset 3. name is: FastQC on data 74: RawData, deleted: True, dataset id: bbd44e69cb8906b5933e8be1b873a24c, created at: 2022-06-17T15:56:39.143616\n",
      "dataset 4. name is: FastQC on data 74: Webpage, deleted: True, dataset id: bbd44e69cb8906b569ec36d139a76ba6, created at: 2022-06-17T15:56:39.143609\n",
      "dataset 5. name is: FastQC on data 74: RawData, deleted: True, dataset id: bbd44e69cb8906b5b53852d4c55c1f40, created at: 2022-06-15T16:26:45.555153\n",
      "dataset 6. name is: FastQC on data 74: Webpage, deleted: True, dataset id: bbd44e69cb8906b52d8df0ea0cb3f357, created at: 2022-06-15T16:26:45.555145\n",
      "dataset 7. name is: FastQC on data 75: RawData, deleted: True, dataset id: bbd44e69cb8906b59125bb7480b2fb69, created at: 2022-06-15T16:26:36.203744\n",
      "dataset 8. name is: FastQC on data 75: Webpage, deleted: True, dataset id: bbd44e69cb8906b5323da6d42b7d4494, created at: 2022-06-15T16:26:36.203684\n",
      "dataset 9. name is: FastQC on data 74: RawData, deleted: True, dataset id: bbd44e69cb8906b5c5afa1184a7dd445, created at: 2022-06-15T16:04:54.878041\n",
      "dataset 10. name is: FastQC on data 74: Webpage, deleted: True, dataset id: bbd44e69cb8906b52041494aed481c14, created at: 2022-06-15T16:04:54.878035\n",
      "dataset 11. name is: FastQC on data 74: RawData, deleted: True, dataset id: bbd44e69cb8906b534fedb0b07133b20, created at: 2022-06-15T16:02:17.238375\n",
      "dataset 12. name is: FastQC on data 74: Webpage, deleted: True, dataset id: bbd44e69cb8906b5137fe0f2970c3722, created at: 2022-06-15T16:02:17.238352\n",
      "dataset 13. name is: FastQC on data 74: RawData, deleted: True, dataset id: bbd44e69cb8906b5bf19a324732d44ee, created at: 2022-06-15T16:01:57.354119\n",
      "dataset 14. name is: FastQC on data 74: Webpage, deleted: True, dataset id: bbd44e69cb8906b517bf50a1840344a1, created at: 2022-06-15T16:01:57.354112\n",
      "dataset 15. name is: FastQC on data 74: RawData, deleted: True, dataset id: bbd44e69cb8906b5daaaf7bbb31e1024, created at: 2022-06-15T15:57:37.570488\n",
      "dataset 16. name is: FastQC on data 74: Webpage, deleted: True, dataset id: bbd44e69cb8906b5c3750b19b1e106ad, created at: 2022-06-15T15:57:37.570457\n",
      "dataset 17. name is: FastQC on data 75: RawData, deleted: True, dataset id: bbd44e69cb8906b5a1362eee3d60bc81, created at: 2022-06-15T15:54:42.688976\n",
      "dataset 18. name is: FastQC on data 75: Webpage, deleted: True, dataset id: bbd44e69cb8906b59a366b545ad5e535, created at: 2022-06-15T15:54:42.688847\n",
      "dataset 19. name is: FastQC on data 74: RawData, deleted: True, dataset id: bbd44e69cb8906b50d1e985ad207143e, created at: 2022-06-15T15:51:11.114010\n",
      "dataset 20. name is: FastQC on data 74: Webpage, deleted: True, dataset id: bbd44e69cb8906b556c37e470d42f592, created at: 2022-06-15T15:51:11.114002\n",
      "dataset 21. name is: FastQC on data 74: RawData, deleted: True, dataset id: bbd44e69cb8906b5f3cf4a357c32cbd8, created at: 2022-06-15T15:50:13.760832\n",
      "dataset 22. name is: FastQC on data 74: Webpage, deleted: True, dataset id: bbd44e69cb8906b5e6eef5eb573bc894, created at: 2022-06-15T15:50:13.760813\n",
      "dataset 23. name is: FastQC on data 74: RawData, deleted: True, dataset id: bbd44e69cb8906b5aa150631dda02cc1, created at: 2022-06-15T15:47:21.182632\n",
      "dataset 24. name is: FastQC on data 74: Webpage, deleted: True, dataset id: bbd44e69cb8906b5bed7737b3f9c0c35, created at: 2022-06-15T15:47:21.182623\n",
      "dataset 25. name is: FastQC on data 74: RawData, deleted: True, dataset id: bbd44e69cb8906b5185bf9efbaf91e6a, created at: 2022-06-15T15:42:16.495381\n",
      "dataset 26. name is: FastQC on data 74: Webpage, deleted: True, dataset id: bbd44e69cb8906b51bd77b3aad37db42, created at: 2022-06-15T15:42:16.495372\n",
      "dataset 27. name is: FastQC on data 74: RawData, deleted: True, dataset id: bbd44e69cb8906b597f2ed771bd9f833, created at: 2022-06-15T15:41:58.665557\n",
      "dataset 28. name is: FastQC on data 74: Webpage, deleted: True, dataset id: bbd44e69cb8906b5e087ca5285fc7200, created at: 2022-06-15T15:41:58.665548\n",
      "dataset 29. name is: FastQC on data 74: RawData, deleted: False, dataset id: bbd44e69cb8906b57ccdb4cf1c0e818e, created at: 2022-06-15T15:41:30.190196\n",
      "dataset 30. name is: FastQC on data 74: Webpage, deleted: False, dataset id: bbd44e69cb8906b525041691b96b1b39, created at: 2022-06-15T15:41:30.190190\n",
      "dataset 31. name is: FastQC on data 74: RawData, deleted: True, dataset id: bbd44e69cb8906b5308dae62070dc98c, created at: 2022-06-15T15:41:29.111360\n",
      "dataset 32. name is: FastQC on data 74: Webpage, deleted: True, dataset id: bbd44e69cb8906b53a967bc0d6f699bc, created at: 2022-06-15T15:41:29.111352\n",
      "dataset 33. name is: FastQC on data 74: RawData, deleted: False, dataset id: bbd44e69cb8906b5f6f9005feed8a2c1, created at: 2022-06-15T15:41:02.001924\n",
      "dataset 34. name is: FastQC on data 74: Webpage, deleted: False, dataset id: bbd44e69cb8906b53d132447caabaafe, created at: 2022-06-15T15:41:02.001913\n",
      "dataset 35. name is: FastQC on data 74: RawData, deleted: False, dataset id: bbd44e69cb8906b5122d8ea7f50f2ab2, created at: 2022-06-15T15:17:16.757823\n",
      "dataset 36. name is: FastQC on data 74: Webpage, deleted: False, dataset id: bbd44e69cb8906b5d78877ef0228a0ad, created at: 2022-06-15T15:17:16.757817\n",
      "dataset 37. name is: FastQC on data 74: RawData, deleted: False, dataset id: bbd44e69cb8906b59ef0cf4fb4b0434a, created at: 2022-06-15T15:16:05.761030\n",
      "dataset 38. name is: FastQC on data 74: Webpage, deleted: False, dataset id: bbd44e69cb8906b50f2ea959f5101e17, created at: 2022-06-15T15:16:05.761023\n",
      "dataset 39. name is: FastQC on data 74: RawData, deleted: False, dataset id: bbd44e69cb8906b5a94c61abd79c8a28, created at: 2022-06-15T15:12:08.062605\n",
      "dataset 40. name is: FastQC on data 74: Webpage, deleted: False, dataset id: bbd44e69cb8906b5a2fd7c8185c0c999, created at: 2022-06-15T15:12:08.062598\n",
      "dataset 41. name is: FastQC on data 74: RawData, deleted: False, dataset id: bbd44e69cb8906b5a3b7106876d3ba6a, created at: 2022-06-15T15:00:18.495187\n",
      "dataset 42. name is: FastQC on data 74: Webpage, deleted: False, dataset id: bbd44e69cb8906b50b1109ae0621c7d0, created at: 2022-06-15T15:00:18.495154\n",
      "dataset 43. name is: FastQC on data 74: RawData, deleted: False, dataset id: bbd44e69cb8906b503815bc545cab1d6, created at: 2022-06-15T14:57:57.333048\n",
      "dataset 44. name is: FastQC on data 74: Webpage, deleted: False, dataset id: bbd44e69cb8906b56344788a1601ca1e, created at: 2022-06-15T14:57:57.333024\n",
      "dataset 45. name is: sequence_ng, deleted: False, dataset id: bbd44e69cb8906b509e1d2e79906330c, created at: 2022-06-14T17:45:03.453237\n",
      "dataset 46. name is: fastq_1_ng, deleted: False, dataset id: bbd44e69cb8906b51a4ae4ab9294c008, created at: 2022-06-14T17:44:55.109856\n",
      "dataset 47. name is: fastq_2_ng, deleted: False, dataset id: bbd44e69cb8906b51dfbe7e9722be410, created at: 2022-06-14T17:44:42.254868\n",
      "dataset 48. name is: annotation, deleted: False, dataset id: bbd44e69cb8906b5ab6a077705ce0829, created at: 2022-06-14T17:40:35.276927\n",
      "dataset 49. name is: genome_sequence.fasta, deleted: False, dataset id: bbd44e69cb8906b52fa76e4af762e2cc, created at: 2022-06-14T17:39:06.796815\n",
      "dataset 50. name is: toy_SRR5152513_2.fastq, deleted: False, dataset id: bbd44e69cb8906b5f7ffff78c3c83123, created at: 2022-06-14T17:38:15.769166\n",
      "dataset 51. name is: toy_SRR5152513_1.fastq, deleted: False, dataset id: bbd44e69cb8906b5d2463f4421381433, created at: 2022-06-14T17:37:31.114841\n",
      "dataset 52. name is: toy_SRR5152513_1.fastq, deleted: False, dataset id: bbd44e69cb8906b5d4afedb3e7f3098e, created at: 2022-05-08T20:22:22.580460\n",
      "dataset 53. name is: toy_SRR5152513_1.fastq, deleted: False, dataset id: bbd44e69cb8906b52152265a9a8cd0e7, created at: 2022-05-08T20:22:08.484132\n",
      "dataset 54. name is: toy_SRR5152513_1.fastq, deleted: False, dataset id: bbd44e69cb8906b57b48e8a1879dd2cd, created at: 2022-05-08T20:20:58.441040\n",
      "dataset 55. name is: toy_SRR5152513_1.fastq, deleted: False, dataset id: bbd44e69cb8906b5240164621b5d27b7, created at: 2022-05-08T20:20:34.232235\n",
      "dataset 56. name is: toy_SRR5152513_1.fastq, deleted: True, dataset id: bbd44e69cb8906b506058c4435b1294b, created at: 2022-05-08T19:45:16.903861\n",
      "dataset 57. name is: Trim Galore! on data 1: trimmed reads, deleted: True, dataset id: bbd44e69cb8906b510dcce40d7cdfd1e, created at: 2022-04-28T17:57:03.318644\n",
      "dataset 58. name is: genome_sequence.fasta, deleted: True, dataset id: bbd44e69cb8906b565cde45a6ba4ef9a, created at: 2022-04-28T17:55:15.645780\n",
      "dataset 59. name is: genome_annotation.gff3, deleted: True, dataset id: bbd44e69cb8906b5694de2059cdb746d, created at: 2022-04-28T17:54:44.804603\n",
      "dataset 60. name is: toy_SRR5152513_1.fastq, deleted: True, dataset id: bbd44e69cb8906b561bb56be284d9e34, created at: 2022-04-28T17:54:38.869993\n"
     ]
    }
   ],
   "source": [
    "preprocessing.get_datasets(\"77d77febf1e1394a\")"
   ],
   "metadata": {
    "collapsed": false,
    "pycharm": {
     "name": "#%%\n"
    }
   }
  },
  {
   "cell_type": "markdown",
   "source": [
    "To get information about a specific dataset, you can use the following code. Usually, id will be used as parameter for different commands, as you will see in next sections. This output reveals everything you could want to know about a dataset. You have two ways to run the method, one is using the id of the dataset, and the other is using the name of the dataset."
   ],
   "metadata": {
    "collapsed": false,
    "pycharm": {
     "name": "#%% md\n"
    }
   }
  },
  {
   "cell_type": "code",
   "execution_count": 15,
   "outputs": [
    {
     "name": "stdout",
     "output_type": "stream",
     "text": [
      "information about the file with the id bbd44e69cb8906b561bb56be284d9e34 was found!\n",
      "id: bbd44e69cb8906b561bb56be284d9e34\n",
      "name: toy_SRR5152513_1.fastq\n",
      "history_id: 77d77febf1e1394a\n",
      "hid: 1\n",
      "history_content_type: dataset\n",
      "deleted: True\n",
      "visible: True\n",
      "type_id: dataset-bbd44e69cb8906b561bb56be284d9e34\n",
      "type: file\n",
      "create_time: 2022-04-28T17:54:38.869993\n",
      "update_time: 2022-05-08T19:52:39.157089\n",
      "url: /api/histories/77d77febf1e1394a/contents/bbd44e69cb8906b561bb56be284d9e34\n",
      "tags: []\n",
      "dataset_id: bbd44e69cb8906b520e9df1531b26cb4\n",
      "state: ok\n",
      "extension: txt\n",
      "purged: True\n",
      "information about the file with the name toy_SRR5152513_1.fastq was found!\n",
      "id: bbd44e69cb8906b5d2463f4421381433\n",
      "name: toy_SRR5152513_1.fastq\n",
      "history_id: 77d77febf1e1394a\n",
      "hid: 10\n",
      "history_content_type: dataset\n",
      "deleted: False\n",
      "visible: True\n",
      "type_id: dataset-bbd44e69cb8906b5d2463f4421381433\n",
      "type: file\n",
      "create_time: 2022-06-14T17:37:31.114841\n",
      "update_time: 2022-06-14T17:38:16.042770\n",
      "url: /api/histories/77d77febf1e1394a/contents/bbd44e69cb8906b5d2463f4421381433\n",
      "tags: []\n",
      "dataset_id: bbd44e69cb8906b5b00148cac8331241\n",
      "state: ok\n",
      "extension: fastqsanger\n",
      "purged: False\n",
      "information about the file with the name toy_SRR5152513_1.fastq was found!\n",
      "id: bbd44e69cb8906b5d4afedb3e7f3098e\n",
      "name: toy_SRR5152513_1.fastq\n",
      "history_id: 77d77febf1e1394a\n",
      "hid: 9\n",
      "history_content_type: dataset\n",
      "deleted: False\n",
      "visible: True\n",
      "type_id: dataset-bbd44e69cb8906b5d4afedb3e7f3098e\n",
      "type: file\n",
      "create_time: 2022-05-08T20:22:22.580460\n",
      "update_time: 2022-05-08T20:23:06.412157\n",
      "url: /api/histories/77d77febf1e1394a/contents/bbd44e69cb8906b5d4afedb3e7f3098e\n",
      "tags: []\n",
      "dataset_id: bbd44e69cb8906b5c04dc2e7da4e164e\n",
      "state: ok\n",
      "extension: txt\n",
      "purged: False\n",
      "information about the file with the name toy_SRR5152513_1.fastq was found!\n",
      "id: bbd44e69cb8906b52152265a9a8cd0e7\n",
      "name: toy_SRR5152513_1.fastq\n",
      "history_id: 77d77febf1e1394a\n",
      "hid: 8\n",
      "history_content_type: dataset\n",
      "deleted: False\n",
      "visible: True\n",
      "type_id: dataset-bbd44e69cb8906b52152265a9a8cd0e7\n",
      "type: file\n",
      "create_time: 2022-05-08T20:22:08.484132\n",
      "update_time: 2022-05-08T20:22:50.395137\n",
      "url: /api/histories/77d77febf1e1394a/contents/bbd44e69cb8906b52152265a9a8cd0e7\n",
      "tags: []\n",
      "dataset_id: bbd44e69cb8906b5de9d0c8f54e9fa4e\n",
      "state: ok\n",
      "extension: txt\n",
      "purged: False\n",
      "information about the file with the name toy_SRR5152513_1.fastq was found!\n",
      "id: bbd44e69cb8906b57b48e8a1879dd2cd\n",
      "name: toy_SRR5152513_1.fastq\n",
      "history_id: 77d77febf1e1394a\n",
      "hid: 7\n",
      "history_content_type: dataset\n",
      "deleted: False\n",
      "visible: True\n",
      "type_id: dataset-bbd44e69cb8906b57b48e8a1879dd2cd\n",
      "type: file\n",
      "create_time: 2022-05-08T20:20:58.441040\n",
      "update_time: 2022-05-08T20:21:42.022477\n",
      "url: /api/histories/77d77febf1e1394a/contents/bbd44e69cb8906b57b48e8a1879dd2cd\n",
      "tags: []\n",
      "dataset_id: bbd44e69cb8906b59bb288c690c082ea\n",
      "state: ok\n",
      "extension: txt\n",
      "purged: False\n",
      "information about the file with the name toy_SRR5152513_1.fastq was found!\n",
      "id: bbd44e69cb8906b5240164621b5d27b7\n",
      "name: toy_SRR5152513_1.fastq\n",
      "history_id: 77d77febf1e1394a\n",
      "hid: 6\n",
      "history_content_type: dataset\n",
      "deleted: False\n",
      "visible: True\n",
      "type_id: dataset-bbd44e69cb8906b5240164621b5d27b7\n",
      "type: file\n",
      "create_time: 2022-05-08T20:20:34.232235\n",
      "update_time: 2022-05-08T20:21:13.460609\n",
      "url: /api/histories/77d77febf1e1394a/contents/bbd44e69cb8906b5240164621b5d27b7\n",
      "tags: []\n",
      "dataset_id: bbd44e69cb8906b5f3eec19da1a3070a\n",
      "state: ok\n",
      "extension: txt\n",
      "purged: False\n",
      "information about the file with the name toy_SRR5152513_1.fastq was found!\n",
      "id: bbd44e69cb8906b506058c4435b1294b\n",
      "name: toy_SRR5152513_1.fastq\n",
      "history_id: 77d77febf1e1394a\n",
      "hid: 5\n",
      "history_content_type: dataset\n",
      "deleted: True\n",
      "visible: True\n",
      "type_id: dataset-bbd44e69cb8906b506058c4435b1294b\n",
      "type: file\n",
      "create_time: 2022-05-08T19:45:16.903861\n",
      "update_time: 2022-05-08T19:52:13.101194\n",
      "url: /api/histories/77d77febf1e1394a/contents/bbd44e69cb8906b506058c4435b1294b\n",
      "tags: []\n",
      "dataset_id: bbd44e69cb8906b5c4e1b020e93f50b4\n",
      "state: ok\n",
      "extension: txt\n",
      "purged: True\n",
      "information about the file with the name toy_SRR5152513_1.fastq was found!\n",
      "id: bbd44e69cb8906b561bb56be284d9e34\n",
      "name: toy_SRR5152513_1.fastq\n",
      "history_id: 77d77febf1e1394a\n",
      "hid: 1\n",
      "history_content_type: dataset\n",
      "deleted: True\n",
      "visible: True\n",
      "type_id: dataset-bbd44e69cb8906b561bb56be284d9e34\n",
      "type: file\n",
      "create_time: 2022-04-28T17:54:38.869993\n",
      "update_time: 2022-05-08T19:52:39.157089\n",
      "url: /api/histories/77d77febf1e1394a/contents/bbd44e69cb8906b561bb56be284d9e34\n",
      "tags: []\n",
      "dataset_id: bbd44e69cb8906b520e9df1531b26cb4\n",
      "state: ok\n",
      "extension: txt\n",
      "purged: True\n"
     ]
    }
   ],
   "source": [
    "preprocessing.get_dataset(history_id= \"77d77febf1e1394a\", dataset_id=\"bbd44e69cb8906b561bb56be284d9e34\")\n",
    "#or\n",
    "preprocessing.get_dataset(history_id= \"77d77febf1e1394a\", file_name=\"toy_SRR5152513_1.fastq\")"
   ],
   "metadata": {
    "collapsed": false,
    "pycharm": {
     "name": "#%%\n"
    }
   }
  },
  {
   "cell_type": "markdown",
   "source": [
    "Now that you have a dataset, you should be able to run a desired tool in Galaxy. To do so, you need to specify the tool you want to run. To proccess the data in this workflow, the tools beeing used are:\n",
    "FastQC\n",
    "RNAStar\n",
    "FeatureCounts\n",
    "edgeR"
   ],
   "metadata": {
    "collapsed": false,
    "pycharm": {
     "name": "#%% md\n"
    }
   }
  },
  {
   "cell_type": "markdown",
   "source": [
    "Let's run the FastQC tool. It will give you a information about the generated dataset."
   ],
   "metadata": {
    "collapsed": false,
    "pycharm": {
     "name": "#%% md\n"
    }
   }
  },
  {
   "cell_type": "code",
   "execution_count": 18,
   "outputs": [
    {
     "name": "stdout",
     "output_type": "stream",
     "text": [
      "FastQC on data 74: Webpage was created in history 77d77febf1e1394a has id: bbd44e69cb8906b59ccddb077c1c7360\n",
      "FastQC on data 74: RawData was created in history 77d77febf1e1394a has id: bbd44e69cb8906b53ca7340eb466a705\n",
      "More information below:\n",
      "FastQC on data 75: Webpage was created in history 77d77febf1e1394a has id: bbd44e69cb8906b5630e9a0cd75b3e29\n",
      "FastQC on data 75: RawData was created in history 77d77febf1e1394a has id: bbd44e69cb8906b5c43d4dc917daf4ca\n",
      "More information below:\n"
     ]
    }
   ],
   "source": [
    "# id fastq_1_ng = \"bbd44e69cb8906b5e555944504c5c0e2\"\n",
    "# id fastq_2_ng = \"bbd44e69cb8906b59b3cb69dc1cd2969\"\n",
    "\n",
    "# FastQC on data xx\n",
    "fastq_output_1 = preprocessing.fastqc('bbd44e69cb8906b5e555944504c5c0e2', history_id='77d77febf1e1394a')\n",
    "fastq_output_2 = preprocessing.fastqc('bbd44e69cb8906b59b3cb69dc1cd2969', history_id='77d77febf1e1394a')"
   ],
   "metadata": {
    "collapsed": false,
    "pycharm": {
     "name": "#%%\n"
    }
   }
  },
  {
   "cell_type": "markdown",
   "source": [
    "You should save the output of the FastQC tool, in order to use it in the next steps. Important here would be the id of the generated dataset. To visualize information about the dataset, you can use the following command."
   ],
   "metadata": {
    "collapsed": false,
    "pycharm": {
     "name": "#%% md\n"
    }
   }
  },
  {
   "cell_type": "code",
   "execution_count": null,
   "outputs": [],
   "source": [
    "preprocessing.print(fastq_output_1)\n",
    "preprocessing.print(fastq_output_2)"
   ],
   "metadata": {
    "collapsed": false,
    "pycharm": {
     "name": "#%%\n"
    }
   }
  },
  {
   "cell_type": "markdown",
   "source": [
    "To make it as automated as possible, you can use the following code. Because what is going to matter is the id of the dataset created to run future tools."
   ],
   "metadata": {
    "collapsed": false,
    "pycharm": {
     "name": "#%% md\n"
    }
   }
  },
  {
   "cell_type": "code",
   "execution_count": null,
   "outputs": [],
   "source": [
    "fastq_output_1 = preprocessing.fastqc('bbd44e69cb8906b5e555944504c5c0e2', history_id='77d77febf1e1394a')['outputs']['id'] #save id of fastqc file\n"
   ],
   "metadata": {
    "collapsed": false,
    "pycharm": {
     "name": "#%%\n"
    }
   }
  },
  {
   "cell_type": "markdown",
   "source": [
    "The read sequences are now ready to be used with STAR - they will be aligned against the reference genome.\n",
    "To run it, you need to provide different ids, such as the id of the fastq file, id of the reference genome and also the id of the annotation file."
   ],
   "metadata": {
    "collapsed": false,
    "pycharm": {
     "name": "#%% md\n"
    }
   }
  },
  {
   "cell_type": "code",
   "execution_count": null,
   "outputs": [],
   "source": [
    "sequence = str(preprocessing.get_dataset_raw(history_id=\"77d77febf1e1394a\", file_name=\"sequence_ng\")['outputs']['id'])\n",
    "annotation = str(preprocessing.get_dataset_raw(history_id=\"77d77febf1e1394a\", file_name=\"annotation_ng\")['outputs']['id'])\n",
    "\n",
    "rna_star = preprocessing.rna_star(tool_params={\"SinglePaired\": \"paired\",\n",
    "                                            \"input1\": \"bbd44e69cb8906b5933e8be1b873a24c\", #fastq_1_ng\n",
    "                                            \"input2\": \"bbd44e69cb8906b5400fadedb4c5aeca\", #fastq2\n",
    "                                            \"FASTAfile\": sequence, #sequence\n",
    "                                            \"genomeSAindexNbases\": \"11\",\n",
    "                                            \"GTFfile\": annotation}, #annotation\n",
    "                                history_id=\"77d77febf1e1394a\")"
   ],
   "metadata": {
    "collapsed": false,
    "pycharm": {
     "name": "#%%\n"
    }
   }
  },
  {
   "cell_type": "markdown",
   "source": [
    "FeatureCounts will be used to quantify the gene expression. It will be runned against the reference genome."
   ],
   "metadata": {
    "collapsed": false,
    "pycharm": {
     "name": "#%% md\n"
    }
   }
  },
  {
   "cell_type": "code",
   "execution_count": null,
   "outputs": [],
   "source": [
    "feature_counts = preprocessing.feature_counts(tool_params={\"input1\":\"bbd44e69cb8906b5933e8be1b873a24c\", # fastq_1_ng (?)\n",
    "                                          \"GTFfile\": annotation['id']})"
   ],
   "metadata": {
    "collapsed": false,
    "pycharm": {
     "name": "#%%\n"
    }
   }
  },
  {
   "cell_type": "markdown",
   "source": [
    "After the FeatureCounts tool is runned, you will need to convert the results to TPM. To do so, a static method is provided, you will need to download the file created in the previous step."
   ],
   "metadata": {
    "collapsed": false,
    "pycharm": {
     "name": "#%% md\n"
    }
   }
  },
  {
   "cell_type": "code",
   "execution_count": null,
   "outputs": [],
   "source": [
    "dataset_id = feature_counts['outputs']['id']\n",
    "preprocessing.download_data(dataset_id, file_path=None, use_default_filename=True, require_ok_state=True,\n",
    "                      maxwait=12000)\n",
    "output = preprocessing.calculate_tpm(feature_counts_output, save_path, name_of_file)"
   ],
   "metadata": {
    "collapsed": false,
    "pycharm": {
     "name": "#%%\n"
    }
   }
  },
  {
   "cell_type": "markdown",
   "source": [
    "Upload the TPM to the history."
   ],
   "metadata": {
    "collapsed": false,
    "pycharm": {
     "name": "#%% md\n"
    }
   }
  },
  {
   "cell_type": "code",
   "execution_count": null,
   "outputs": [],
   "source": [
    "preprocessing.upload_data_history(output, history_id=\"77d77febf1e1394a\", name=\"tpm\", file_type=\"tsv\")"
   ],
   "metadata": {
    "collapsed": false,
    "pycharm": {
     "name": "#%%\n"
    }
   }
  },
  {
   "cell_type": "markdown",
   "source": [
    "Finally, edgeR will be used to analyze the data. Do not forget, again, to run it, you will need to provide the id of the TPM file."
   ],
   "metadata": {
    "collapsed": false,
    "pycharm": {
     "name": "#%% md\n"
    }
   }
  },
  {
   "cell_type": "code",
   "execution_count": null,
   "outputs": [],
   "source": [
    "### edgeR"
   ],
   "metadata": {
    "collapsed": false,
    "pycharm": {
     "name": "#%%\n"
    }
   }
  },
  {
   "cell_type": "markdown",
   "source": [],
   "metadata": {
    "collapsed": false,
    "pycharm": {
     "name": "#%% md\n"
    }
   }
  },
  {
   "cell_type": "markdown",
   "source": [
    "At this phase the data is ready to be integrated into a metabolic model. To do so, MewPy will be used, which is a Python library that allows to integrate data into a metabolic model. Two methods were implemented: GIMME and eFlux. To run both of them the gene expression dataset will be necessary (TPM file) to be integrated in a in house GEM.\n"
   ],
   "metadata": {
    "collapsed": false,
    "pycharm": {
     "name": "#%% md\n"
    }
   }
  },
  {
   "cell_type": "code",
   "execution_count": 7,
   "outputs": [
    {
     "name": "stdout",
     "output_type": "stream",
     "text": [
      "Model loaded\n"
     ]
    }
   ],
   "source": [
    "model = Integration(model=\"data/inputs/model_ngaditana.xml\")"
   ],
   "metadata": {
    "collapsed": false,
    "pycharm": {
     "name": "#%%\n"
    }
   }
  },
  {
   "cell_type": "code",
   "execution_count": 8,
   "outputs": [
    {
     "name": "stdout",
     "output_type": "stream",
     "text": [
      "<src.integration.Integration object at 0x7fb8588ce2e0>\n"
     ]
    }
   ],
   "source": [
    "print(model)"
   ],
   "metadata": {
    "collapsed": false,
    "pycharm": {
     "name": "#%%\n"
    }
   }
  },
  {
   "cell_type": "code",
   "execution_count": 10,
   "outputs": [
    {
     "ename": "NameError",
     "evalue": "name 'GIMME' is not defined",
     "output_type": "error",
     "traceback": [
      "\u001B[0;31m---------------------------------------------------------------------------\u001B[0m",
      "\u001B[0;31mNameError\u001B[0m                                 Traceback (most recent call last)",
      "\u001B[0;32m<ipython-input-10-3f1ff2105fe0>\u001B[0m in \u001B[0;36m<module>\u001B[0;34m\u001B[0m\n\u001B[0;32m----> 1\u001B[0;31m \u001B[0mmodel\u001B[0m\u001B[0;34m.\u001B[0m\u001B[0mgimme\u001B[0m\u001B[0;34m(\u001B[0m\u001B[0mexpr\u001B[0m\u001B[0;34m=\u001B[0m\u001B[0;34m\"data/inputs/tpm.tsv\"\u001B[0m\u001B[0;34m)\u001B[0m\u001B[0;34m\u001B[0m\u001B[0;34m\u001B[0m\u001B[0m\n\u001B[0m",
      "\u001B[0;32m~/Documents/GitHub/bioinformatics-project/src/integration.py\u001B[0m in \u001B[0;36mgimme\u001B[0;34m(self, expr, biomass, condition, cutoff, growth_frac, constraints, parsimonious, **kwargs)\u001B[0m\n\u001B[1;32m     27\u001B[0m         \"\"\"\n\u001B[1;32m     28\u001B[0m \u001B[0;34m\u001B[0m\u001B[0m\n\u001B[0;32m---> 29\u001B[0;31m         \u001B[0;32mreturn\u001B[0m \u001B[0mGIMME\u001B[0m\u001B[0;34m(\u001B[0m\u001B[0mself\u001B[0m\u001B[0;34m.\u001B[0m\u001B[0mmodel\u001B[0m\u001B[0;34m,\u001B[0m \u001B[0mexpr\u001B[0m\u001B[0;34m,\u001B[0m \u001B[0mbiomass\u001B[0m\u001B[0;34m,\u001B[0m \u001B[0mcondition\u001B[0m\u001B[0;34m,\u001B[0m \u001B[0mcutoff\u001B[0m\u001B[0;34m,\u001B[0m \u001B[0mgrowth_frac\u001B[0m\u001B[0;34m,\u001B[0m \u001B[0mconstraints\u001B[0m\u001B[0;34m,\u001B[0m \u001B[0mparsimonious\u001B[0m\u001B[0;34m,\u001B[0m \u001B[0;34m**\u001B[0m\u001B[0mkwargs\u001B[0m\u001B[0;34m)\u001B[0m\u001B[0;34m\u001B[0m\u001B[0;34m\u001B[0m\u001B[0m\n\u001B[0m\u001B[1;32m     30\u001B[0m \u001B[0;34m\u001B[0m\u001B[0m\n\u001B[1;32m     31\u001B[0m     def eflux(self, expr, condition=0, scale_rxn=None, scale_value=1, constraints=None, parsimonious=False,\n",
      "\u001B[0;31mNameError\u001B[0m: name 'GIMME' is not defined"
     ]
    }
   ],
   "source": [
    "model.gimme(expr=\"data/inputs/tpm.tsv\")"
   ],
   "metadata": {
    "collapsed": false,
    "pycharm": {
     "name": "#%%\n"
    }
   }
  },
  {
   "cell_type": "code",
   "execution_count": 11,
   "outputs": [
    {
     "ename": "NameError",
     "evalue": "name 'GIMME' is not defined",
     "output_type": "error",
     "traceback": [
      "\u001B[0;31m---------------------------------------------------------------------------\u001B[0m",
      "\u001B[0;31mNameError\u001B[0m                                 Traceback (most recent call last)",
      "\u001B[0;32m<ipython-input-11-35194a9750d1>\u001B[0m in \u001B[0;36m<module>\u001B[0;34m\u001B[0m\n\u001B[1;32m      1\u001B[0m \u001B[0;32mfrom\u001B[0m \u001B[0mmewpy\u001B[0m\u001B[0;34m.\u001B[0m\u001B[0momics\u001B[0m \u001B[0;32mimport\u001B[0m \u001B[0;34m*\u001B[0m\u001B[0;34m\u001B[0m\u001B[0;34m\u001B[0m\u001B[0m\n\u001B[1;32m      2\u001B[0m \u001B[0;34m\u001B[0m\u001B[0m\n\u001B[0;32m----> 3\u001B[0;31m \u001B[0mGIMME\u001B[0m\u001B[0;34m(\u001B[0m\u001B[0mmodel\u001B[0m\u001B[0;34m=\u001B[0m\u001B[0;34m\"data/inputs/model_ngaditana.xml\"\u001B[0m\u001B[0;34m,\u001B[0m \u001B[0mexpr\u001B[0m\u001B[0;34m=\u001B[0m\u001B[0;34m\"data/inputs/tpm.tsv\"\u001B[0m\u001B[0;34m)\u001B[0m\u001B[0;34m\u001B[0m\u001B[0;34m\u001B[0m\u001B[0m\n\u001B[0m",
      "\u001B[0;31mNameError\u001B[0m: name 'GIMME' is not defined"
     ]
    }
   ],
   "source": [
    "from mewpy.omics import *\n",
    "\n",
    "GIMME(model=\"data/inputs/model_ngaditana.xml\", expr=\"data/inputs/tpm.tsv\")"
   ],
   "metadata": {
    "collapsed": false,
    "pycharm": {
     "name": "#%%\n"
    }
   }
  },
  {
   "cell_type": "code",
   "execution_count": 12,
   "outputs": [
    {
     "ename": "NameError",
     "evalue": "name 'eFlux' is not defined",
     "output_type": "error",
     "traceback": [
      "\u001B[0;31m---------------------------------------------------------------------------\u001B[0m",
      "\u001B[0;31mNameError\u001B[0m                                 Traceback (most recent call last)",
      "\u001B[0;32m<ipython-input-12-8c9fb55948e3>\u001B[0m in \u001B[0;36m<module>\u001B[0;34m\u001B[0m\n\u001B[1;32m      4\u001B[0m \u001B[0mexpr\u001B[0m \u001B[0;34m=\u001B[0m \u001B[0;34m\"data/inputs/tpm.tsv\"\u001B[0m\u001B[0;34m\u001B[0m\u001B[0;34m\u001B[0m\u001B[0m\n\u001B[1;32m      5\u001B[0m \u001B[0;34m\u001B[0m\u001B[0m\n\u001B[0;32m----> 6\u001B[0;31m \u001B[0meFlux\u001B[0m\u001B[0;34m(\u001B[0m\u001B[0mmodel\u001B[0m\u001B[0;34m=\u001B[0m\u001B[0mmodel\u001B[0m\u001B[0;34m,\u001B[0m \u001B[0mexpr\u001B[0m\u001B[0;34m=\u001B[0m\u001B[0mexpr\u001B[0m\u001B[0;34m)\u001B[0m\u001B[0;34m\u001B[0m\u001B[0;34m\u001B[0m\u001B[0m\n\u001B[0m",
      "\u001B[0;31mNameError\u001B[0m: name 'eFlux' is not defined"
     ]
    }
   ],
   "source": [],
   "metadata": {
    "collapsed": false,
    "pycharm": {
     "name": "#%%\n"
    }
   }
  },
  {
   "cell_type": "code",
   "execution_count": null,
   "outputs": [],
   "source": [],
   "metadata": {
    "collapsed": false,
    "pycharm": {
     "name": "#%%\n"
    }
   }
  }
 ],
 "metadata": {
  "kernelspec": {
   "name": "python388jvsc74a57bd075caa24babfa8115d076e1765212c90ce2537e565ca6748eddadf2d503fadd6b",
   "language": "python",
   "display_name": "Python 3.8.8 ('base')"
  },
  "language_info": {
   "codemirror_mode": {
    "name": "ipython",
    "version": 3
   },
   "file_extension": ".py",
   "mimetype": "text/x-python",
   "name": "python",
   "nbconvert_exporter": "python",
   "pygments_lexer": "ipython3",
   "version": "3.6.7"
  }
 },
 "nbformat": 4,
 "nbformat_minor": 4
}
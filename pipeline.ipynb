{
 "cells": [
  {
   "cell_type": "markdown",
   "metadata": {
    "pycharm": {
     "name": "#%% md\n"
    }
   },
   "source": [
    "#aqui será feito o esqueleto para a seguinte fase do projeto"
   ]
  },
  {
   "cell_type": "code",
   "execution_count": 1,
   "metadata": {
    "collapsed": false,
    "jupyter": {
     "outputs_hidden": false
    },
    "pycharm": {
     "name": "#%%\n"
    }
   },
   "outputs": [],
   "source": [
    "from bioblend import galaxy\n",
    "from src.preprocessing import *"
   ]
  },
  {
   "cell_type": "code",
   "execution_count": 2,
   "metadata": {
    "collapsed": false,
    "jupyter": {
     "outputs_hidden": false
    },
    "pycharm": {
     "name": "#%%\n"
    }
   },
   "outputs": [],
   "source": [
    "gi = galaxy.GalaxyInstance(url='https://usegalaxy.org/', key='879271b2a412ff7df93ae34a5d163eed')\n",
    "preprocessing = PreProcessing(galaxy_instance = gi)"
   ]
  },
  {
   "cell_type": "code",
   "execution_count": 4,
   "metadata": {},
   "outputs": [
    {
     "name": "stdout",
     "output_type": "stream",
     "text": [
      "[{'model_class': 'User', 'id': 'c275217dab129a20', 'email': 'pg45965@alunos.uminho.pt', 'username': 'josediogomoura', 'deleted': False, 'active': True, 'last_password_change': '2022-04-28T12:26:42.502963'}]\n"
     ]
    }
   ],
   "source": [
    "#ver usuários\n",
    "users = gi.users.get_users()\n",
    "print(users)"
   ]
  },
  {
   "cell_type": "code",
   "execution_count": 5,
   "metadata": {},
   "outputs": [
    {
     "name": "stdout",
     "output_type": "stream",
     "text": [
      "[{'name': 'projeto', 'annotation': None, 'published': False, 'purged': False, 'tags': [], 'update_time': '2022-04-28T19:51:18.074670', 'deleted': False, 'id': '77d77febf1e1394a', 'url': '/api/histories/77d77febf1e1394a', 'model_class': 'History'}, {'name': 'Unnamed history', 'annotation': None, 'published': False, 'purged': False, 'tags': [], 'update_time': '2022-04-28T17:26:47.348654', 'deleted': False, 'id': 'ab18f357fb3a7b44', 'url': '/api/histories/ab18f357fb3a7b44', 'model_class': 'History'}]\n"
     ]
    }
   ],
   "source": [
    "#histórias sem classe\n",
    "histories = gi.histories.get_histories()\n",
    "print(histories)"
   ]
  },
  {
   "cell_type": "code",
   "execution_count": 3,
   "metadata": {},
   "outputs": [
    {
     "data": {
      "text/plain": [
       "{'id': '78d65aab4d05dabd',\n",
       " 'url': '/api/histories/78d65aab4d05dabd',\n",
       " 'update_time': '2022-05-07T16:13:17.651405',\n",
       " 'username_and_slug': None,\n",
       " 'state_details': {'new': 0,\n",
       "  'upload': 0,\n",
       "  'queued': 0,\n",
       "  'running': 0,\n",
       "  'ok': 0,\n",
       "  'empty': 0,\n",
       "  'error': 0,\n",
       "  'discarded': 0,\n",
       "  'paused': 0,\n",
       "  'setting_metadata': 0,\n",
       "  'failed_metadata': 0},\n",
       " 'state_ids': {'new': [],\n",
       "  'upload': [],\n",
       "  'queued': [],\n",
       "  'running': [],\n",
       "  'ok': [],\n",
       "  'empty': [],\n",
       "  'error': [],\n",
       "  'discarded': [],\n",
       "  'paused': [],\n",
       "  'setting_metadata': [],\n",
       "  'failed_metadata': []},\n",
       " 'annotation': None,\n",
       " 'user_id': 'c275217dab129a20',\n",
       " 'tags': [],\n",
       " 'genome_build': None,\n",
       " 'empty': True,\n",
       " 'name': 'try1',\n",
       " 'state': 'new',\n",
       " 'model_class': 'History',\n",
       " 'size': 0,\n",
       " 'purged': False,\n",
       " 'importable': False,\n",
       " 'deleted': False,\n",
       " 'published': False,\n",
       " 'create_time': '2022-05-07T16:13:17.651388',\n",
       " 'slug': None,\n",
       " 'contents_url': '/api/histories/78d65aab4d05dabd/contents'}"
      ]
     },
     "execution_count": 3,
     "metadata": {},
     "output_type": "execute_result"
    }
   ],
   "source": [
    "#criar história com classe criada ~ working\n",
    "preprocessing.create_history('try1')"
   ]
  },
  {
   "cell_type": "code",
   "execution_count": 4,
   "metadata": {},
   "outputs": [
    {
     "data": {
      "text/plain": [
       "[{'model_class': 'History',\n",
       "  'purged': False,\n",
       "  'published': False,\n",
       "  'update_time': '2022-05-07T16:13:17.651405',\n",
       "  'tags': [],\n",
       "  'deleted': False,\n",
       "  'name': 'try1',\n",
       "  'id': '78d65aab4d05dabd',\n",
       "  'annotation': None,\n",
       "  'url': '/api/histories/78d65aab4d05dabd'},\n",
       " {'model_class': 'History',\n",
       "  'purged': False,\n",
       "  'published': False,\n",
       "  'update_time': '2022-04-28T19:51:18.074670',\n",
       "  'tags': [],\n",
       "  'deleted': False,\n",
       "  'name': 'projeto',\n",
       "  'id': '77d77febf1e1394a',\n",
       "  'annotation': None,\n",
       "  'url': '/api/histories/77d77febf1e1394a'},\n",
       " {'model_class': 'History',\n",
       "  'purged': False,\n",
       "  'published': False,\n",
       "  'update_time': '2022-04-28T17:26:47.348654',\n",
       "  'tags': [],\n",
       "  'deleted': False,\n",
       "  'name': 'Unnamed history',\n",
       "  'id': 'ab18f357fb3a7b44',\n",
       "  'annotation': None,\n",
       "  'url': '/api/histories/ab18f357fb3a7b44'}]"
      ]
     },
     "execution_count": 4,
     "metadata": {},
     "output_type": "execute_result"
    }
   ],
   "source": [
    "#ver histórias criadas com class ~ working\n",
    "preprocessing.view_histories()"
   ]
  },
  {
   "cell_type": "code",
   "execution_count": 23,
   "metadata": {
    "collapsed": false,
    "jupyter": {
     "outputs_hidden": false
    },
    "pycharm": {
     "name": "#%%\n"
    }
   },
   "outputs": [
    {
     "ename": "ConnectionError",
     "evalue": "Unexpected HTTP status code: 400: {\"err_msg\": \"No data was entered in the upload form, please go back and choose data to upload.\", \"err_code\": 0}",
     "output_type": "error",
     "traceback": [
      "\u001b[0;31m---------------------------------------------------------------------------\u001b[0m",
      "\u001b[0;31mConnectionError\u001b[0m                           Traceback (most recent call last)",
      "Input \u001b[0;32mIn [23]\u001b[0m, in \u001b[0;36m<module>\u001b[0;34m\u001b[0m\n\u001b[0;32m----> 1\u001b[0m \u001b[43mpreprocessing\u001b[49m\u001b[38;5;241;43m.\u001b[39;49m\u001b[43mupload_data_history\u001b[49m\u001b[43m(\u001b[49m\u001b[38;5;124;43m\"\u001b[39;49m\u001b[38;5;124;43mdata/inputs/toy_SRR5152513_1.fastq\u001b[39;49m\u001b[38;5;124;43m\"\u001b[39;49m\u001b[43m,\u001b[49m\u001b[38;5;124;43m\"\u001b[39;49m\u001b[38;5;124;43m77d77febf1e1394a\u001b[39;49m\u001b[38;5;124;43m\"\u001b[39;49m\u001b[43m)\u001b[49m\n",
      "File \u001b[0;32m~/Documents/GitHub/bioinformatics-project/src/preprocessing.py:51\u001b[0m, in \u001b[0;36mPreProcessing.upload_data_history\u001b[0;34m(self, file_local_path, history_id)\u001b[0m\n\u001b[1;32m     45\u001b[0m \u001b[38;5;28;01mdef\u001b[39;00m \u001b[38;5;21mupload_data_history\u001b[39m(\u001b[38;5;28mself\u001b[39m, file_local_path, history_id):\n\u001b[1;32m     46\u001b[0m     \u001b[38;5;124;03m\"\"\" method to upload a local file to certain history\u001b[39;00m\n\u001b[1;32m     47\u001b[0m \u001b[38;5;124;03m    Args:\u001b[39;00m\n\u001b[1;32m     48\u001b[0m \u001b[38;5;124;03m        file_local_path (str): path where our file is located\u001b[39;00m\n\u001b[1;32m     49\u001b[0m \u001b[38;5;124;03m        history_id (str): id of history where the file will be uploaded\u001b[39;00m\n\u001b[1;32m     50\u001b[0m \u001b[38;5;124;03m    \"\"\"\u001b[39;00m\n\u001b[0;32m---> 51\u001b[0m     \u001b[38;5;28;43mself\u001b[39;49m\u001b[38;5;241;43m.\u001b[39;49m\u001b[43mgalaxy_instance\u001b[49m\u001b[38;5;241;43m.\u001b[39;49m\u001b[43mtools\u001b[49m\u001b[38;5;241;43m.\u001b[39;49m\u001b[43mupload_from_ftp\u001b[49m\u001b[43m(\u001b[49m\u001b[43mfile_local_path\u001b[49m\u001b[43m,\u001b[49m\u001b[43m \u001b[49m\u001b[43mhistory_id\u001b[49m\u001b[43m)\u001b[49m\n",
      "File \u001b[0;32m/Library/Frameworks/Python.framework/Versions/3.10/lib/python3.10/site-packages/bioblend/galaxy/tools/__init__.py:311\u001b[0m, in \u001b[0;36mToolClient.upload_from_ftp\u001b[0;34m(self, path, history_id, **keywords)\u001b[0m\n\u001b[1;32m    309\u001b[0m payload \u001b[38;5;241m=\u001b[39m \u001b[38;5;28mself\u001b[39m\u001b[38;5;241m.\u001b[39m_upload_payload(history_id, \u001b[38;5;241m*\u001b[39m\u001b[38;5;241m*\u001b[39mkeywords)\n\u001b[1;32m    310\u001b[0m payload[\u001b[38;5;124m'\u001b[39m\u001b[38;5;124mfiles_0|ftp_files\u001b[39m\u001b[38;5;124m'\u001b[39m] \u001b[38;5;241m=\u001b[39m path\n\u001b[0;32m--> 311\u001b[0m \u001b[38;5;28;01mreturn\u001b[39;00m \u001b[38;5;28;43mself\u001b[39;49m\u001b[38;5;241;43m.\u001b[39;49m\u001b[43m_post\u001b[49m\u001b[43m(\u001b[49m\u001b[43mpayload\u001b[49m\u001b[43m)\u001b[49m\n",
      "File \u001b[0;32m/Library/Frameworks/Python.framework/Versions/3.10/lib/python3.10/site-packages/bioblend/galaxy/client.py:176\u001b[0m, in \u001b[0;36mClient._post\u001b[0;34m(self, payload, id, deleted, contents, url, files_attached)\u001b[0m\n\u001b[1;32m    174\u001b[0m \u001b[38;5;28;01mif\u001b[39;00m \u001b[38;5;129;01mnot\u001b[39;00m url:\n\u001b[1;32m    175\u001b[0m     url \u001b[38;5;241m=\u001b[39m \u001b[38;5;28mself\u001b[39m\u001b[38;5;241m.\u001b[39m_make_url(module_id\u001b[38;5;241m=\u001b[39m\u001b[38;5;28mid\u001b[39m, deleted\u001b[38;5;241m=\u001b[39mdeleted, contents\u001b[38;5;241m=\u001b[39mcontents)\n\u001b[0;32m--> 176\u001b[0m \u001b[38;5;28;01mreturn\u001b[39;00m \u001b[38;5;28;43mself\u001b[39;49m\u001b[38;5;241;43m.\u001b[39;49m\u001b[43mgi\u001b[49m\u001b[38;5;241;43m.\u001b[39;49m\u001b[43mmake_post_request\u001b[49m\u001b[43m(\u001b[49m\u001b[43murl\u001b[49m\u001b[43m,\u001b[49m\u001b[43m \u001b[49m\u001b[43mpayload\u001b[49m\u001b[38;5;241;43m=\u001b[39;49m\u001b[43mpayload\u001b[49m\u001b[43m,\u001b[49m\n\u001b[1;32m    177\u001b[0m \u001b[43m                                 \u001b[49m\u001b[43mfiles_attached\u001b[49m\u001b[38;5;241;43m=\u001b[39;49m\u001b[43mfiles_attached\u001b[49m\u001b[43m)\u001b[49m\n",
      "File \u001b[0;32m/Library/Frameworks/Python.framework/Versions/3.10/lib/python3.10/site-packages/bioblend/galaxyclient.py:153\u001b[0m, in \u001b[0;36mGalaxyClient.make_post_request\u001b[0;34m(self, url, payload, params, files_attached)\u001b[0m\n\u001b[1;32m    147\u001b[0m         \u001b[38;5;28;01mraise\u001b[39;00m \u001b[38;5;167;01mConnectionError\u001b[39;00m(\n\u001b[1;32m    148\u001b[0m             \u001b[38;5;124mf\u001b[39m\u001b[38;5;124m\"\u001b[39m\u001b[38;5;124mRequest was successful, but cannot decode the response content: \u001b[39m\u001b[38;5;132;01m{\u001b[39;00me\u001b[38;5;132;01m}\u001b[39;00m\u001b[38;5;124m\"\u001b[39m,\n\u001b[1;32m    149\u001b[0m             body\u001b[38;5;241m=\u001b[39mr\u001b[38;5;241m.\u001b[39mcontent,\n\u001b[1;32m    150\u001b[0m             status_code\u001b[38;5;241m=\u001b[39mr\u001b[38;5;241m.\u001b[39mstatus_code,\n\u001b[1;32m    151\u001b[0m         )\n\u001b[1;32m    152\u001b[0m \u001b[38;5;66;03m# @see self.body for HTTP response body\u001b[39;00m\n\u001b[0;32m--> 153\u001b[0m \u001b[38;5;28;01mraise\u001b[39;00m \u001b[38;5;167;01mConnectionError\u001b[39;00m(\n\u001b[1;32m    154\u001b[0m     \u001b[38;5;124mf\u001b[39m\u001b[38;5;124m\"\u001b[39m\u001b[38;5;124mUnexpected HTTP status code: \u001b[39m\u001b[38;5;132;01m{\u001b[39;00mr\u001b[38;5;241m.\u001b[39mstatus_code\u001b[38;5;132;01m}\u001b[39;00m\u001b[38;5;124m\"\u001b[39m,\n\u001b[1;32m    155\u001b[0m     body\u001b[38;5;241m=\u001b[39mr\u001b[38;5;241m.\u001b[39mtext,\n\u001b[1;32m    156\u001b[0m     status_code\u001b[38;5;241m=\u001b[39mr\u001b[38;5;241m.\u001b[39mstatus_code,\n\u001b[1;32m    157\u001b[0m )\n",
      "\u001b[0;31mConnectionError\u001b[0m: Unexpected HTTP status code: 400: {\"err_msg\": \"No data was entered in the upload form, please go back and choose data to upload.\", \"err_code\": 0}"
     ]
    }
   ],
   "source": [
    "preprocessing.upload_data_history(\"data/inputs/toy_SRR5152513_1.fastq\",\"77d77febf1e1394a\")"
   ]
  },
  {
   "cell_type": "code",
   "execution_count": 4,
   "metadata": {},
   "outputs": [],
   "source": [
    "#bibliotecas\n",
    "lib = gi.libraries.get_libraries()\n"
   ]
  },
  {
   "cell_type": "code",
   "execution_count": 1,
   "metadata": {},
   "outputs": [
    {
     "ename": "NameError",
     "evalue": "name 'preprocessing' is not defined",
     "output_type": "error",
     "traceback": [
      "\u001b[0;31m---------------------------------------------------------------------------\u001b[0m",
      "\u001b[0;31mNameError\u001b[0m                                 Traceback (most recent call last)",
      "Input \u001b[0;32mIn [1]\u001b[0m, in \u001b[0;36m<module>\u001b[0;34m\u001b[0m\n\u001b[0;32m----> 1\u001b[0m \u001b[43mpreprocessing\u001b[49m\u001b[38;5;241m.\u001b[39mcreate_history()\n",
      "\u001b[0;31mNameError\u001b[0m: name 'preprocessing' is not defined"
     ]
    }
   ],
   "source": [
    "preprocessing.create_history()"
   ]
  },
  {
   "cell_type": "code",
   "execution_count": 22,
   "metadata": {},
   "outputs": [
    {
     "ename": "ConnectionError",
     "evalue": "Unexpected HTTP status code: 400: {\"err_msg\": \"No data was entered in the upload form, please go back and choose data to upload.\", \"err_code\": 0}",
     "output_type": "error",
     "traceback": [
      "\u001b[0;31m---------------------------------------------------------------------------\u001b[0m",
      "\u001b[0;31mConnectionError\u001b[0m                           Traceback (most recent call last)",
      "Input \u001b[0;32mIn [22]\u001b[0m, in \u001b[0;36m<module>\u001b[0;34m\u001b[0m\n\u001b[0;32m----> 1\u001b[0m \u001b[43mgi\u001b[49m\u001b[38;5;241;43m.\u001b[39;49m\u001b[43mtools\u001b[49m\u001b[38;5;241;43m.\u001b[39;49m\u001b[43mupload_from_ftp\u001b[49m\u001b[43m(\u001b[49m\u001b[38;5;124;43m\"\u001b[39;49m\u001b[38;5;124;43mdata/inputs/toy_SRR5152513_1.fastq\u001b[39;49m\u001b[38;5;124;43m\"\u001b[39;49m\u001b[43m,\u001b[49m\u001b[38;5;124;43m\"\u001b[39;49m\u001b[38;5;124;43m77d77febf1e1394a\u001b[39;49m\u001b[38;5;124;43m\"\u001b[39;49m\u001b[43m)\u001b[49m\n",
      "File \u001b[0;32m/Library/Frameworks/Python.framework/Versions/3.10/lib/python3.10/site-packages/bioblend/galaxy/tools/__init__.py:311\u001b[0m, in \u001b[0;36mToolClient.upload_from_ftp\u001b[0;34m(self, path, history_id, **keywords)\u001b[0m\n\u001b[1;32m    309\u001b[0m payload \u001b[38;5;241m=\u001b[39m \u001b[38;5;28mself\u001b[39m\u001b[38;5;241m.\u001b[39m_upload_payload(history_id, \u001b[38;5;241m*\u001b[39m\u001b[38;5;241m*\u001b[39mkeywords)\n\u001b[1;32m    310\u001b[0m payload[\u001b[38;5;124m'\u001b[39m\u001b[38;5;124mfiles_0|ftp_files\u001b[39m\u001b[38;5;124m'\u001b[39m] \u001b[38;5;241m=\u001b[39m path\n\u001b[0;32m--> 311\u001b[0m \u001b[38;5;28;01mreturn\u001b[39;00m \u001b[38;5;28;43mself\u001b[39;49m\u001b[38;5;241;43m.\u001b[39;49m\u001b[43m_post\u001b[49m\u001b[43m(\u001b[49m\u001b[43mpayload\u001b[49m\u001b[43m)\u001b[49m\n",
      "File \u001b[0;32m/Library/Frameworks/Python.framework/Versions/3.10/lib/python3.10/site-packages/bioblend/galaxy/client.py:176\u001b[0m, in \u001b[0;36mClient._post\u001b[0;34m(self, payload, id, deleted, contents, url, files_attached)\u001b[0m\n\u001b[1;32m    174\u001b[0m \u001b[38;5;28;01mif\u001b[39;00m \u001b[38;5;129;01mnot\u001b[39;00m url:\n\u001b[1;32m    175\u001b[0m     url \u001b[38;5;241m=\u001b[39m \u001b[38;5;28mself\u001b[39m\u001b[38;5;241m.\u001b[39m_make_url(module_id\u001b[38;5;241m=\u001b[39m\u001b[38;5;28mid\u001b[39m, deleted\u001b[38;5;241m=\u001b[39mdeleted, contents\u001b[38;5;241m=\u001b[39mcontents)\n\u001b[0;32m--> 176\u001b[0m \u001b[38;5;28;01mreturn\u001b[39;00m \u001b[38;5;28;43mself\u001b[39;49m\u001b[38;5;241;43m.\u001b[39;49m\u001b[43mgi\u001b[49m\u001b[38;5;241;43m.\u001b[39;49m\u001b[43mmake_post_request\u001b[49m\u001b[43m(\u001b[49m\u001b[43murl\u001b[49m\u001b[43m,\u001b[49m\u001b[43m \u001b[49m\u001b[43mpayload\u001b[49m\u001b[38;5;241;43m=\u001b[39;49m\u001b[43mpayload\u001b[49m\u001b[43m,\u001b[49m\n\u001b[1;32m    177\u001b[0m \u001b[43m                                 \u001b[49m\u001b[43mfiles_attached\u001b[49m\u001b[38;5;241;43m=\u001b[39;49m\u001b[43mfiles_attached\u001b[49m\u001b[43m)\u001b[49m\n",
      "File \u001b[0;32m/Library/Frameworks/Python.framework/Versions/3.10/lib/python3.10/site-packages/bioblend/galaxyclient.py:153\u001b[0m, in \u001b[0;36mGalaxyClient.make_post_request\u001b[0;34m(self, url, payload, params, files_attached)\u001b[0m\n\u001b[1;32m    147\u001b[0m         \u001b[38;5;28;01mraise\u001b[39;00m \u001b[38;5;167;01mConnectionError\u001b[39;00m(\n\u001b[1;32m    148\u001b[0m             \u001b[38;5;124mf\u001b[39m\u001b[38;5;124m\"\u001b[39m\u001b[38;5;124mRequest was successful, but cannot decode the response content: \u001b[39m\u001b[38;5;132;01m{\u001b[39;00me\u001b[38;5;132;01m}\u001b[39;00m\u001b[38;5;124m\"\u001b[39m,\n\u001b[1;32m    149\u001b[0m             body\u001b[38;5;241m=\u001b[39mr\u001b[38;5;241m.\u001b[39mcontent,\n\u001b[1;32m    150\u001b[0m             status_code\u001b[38;5;241m=\u001b[39mr\u001b[38;5;241m.\u001b[39mstatus_code,\n\u001b[1;32m    151\u001b[0m         )\n\u001b[1;32m    152\u001b[0m \u001b[38;5;66;03m# @see self.body for HTTP response body\u001b[39;00m\n\u001b[0;32m--> 153\u001b[0m \u001b[38;5;28;01mraise\u001b[39;00m \u001b[38;5;167;01mConnectionError\u001b[39;00m(\n\u001b[1;32m    154\u001b[0m     \u001b[38;5;124mf\u001b[39m\u001b[38;5;124m\"\u001b[39m\u001b[38;5;124mUnexpected HTTP status code: \u001b[39m\u001b[38;5;132;01m{\u001b[39;00mr\u001b[38;5;241m.\u001b[39mstatus_code\u001b[38;5;132;01m}\u001b[39;00m\u001b[38;5;124m\"\u001b[39m,\n\u001b[1;32m    155\u001b[0m     body\u001b[38;5;241m=\u001b[39mr\u001b[38;5;241m.\u001b[39mtext,\n\u001b[1;32m    156\u001b[0m     status_code\u001b[38;5;241m=\u001b[39mr\u001b[38;5;241m.\u001b[39mstatus_code,\n\u001b[1;32m    157\u001b[0m )\n",
      "\u001b[0;31mConnectionError\u001b[0m: Unexpected HTTP status code: 400: {\"err_msg\": \"No data was entered in the upload form, please go back and choose data to upload.\", \"err_code\": 0}"
     ]
    }
   ],
   "source": [
    "gi.tools.upload_from_ftp(\"data/inputs/toy_SRR5152513_1.fastq\",\"77d77febf1e1394a\")"
   ]
  },
  {
   "cell_type": "code",
   "execution_count": 12,
   "metadata": {},
   "outputs": [
    {
     "ename": "ConnectionError",
     "evalue": "Unexpected HTTP status code: 400: {\"err_msg\": \"No data was entered in the upload form, please go back and choose data to upload.\", \"err_code\": 0}",
     "output_type": "error",
     "traceback": [
      "\u001b[0;31m---------------------------------------------------------------------------\u001b[0m",
      "\u001b[0;31mConnectionError\u001b[0m                           Traceback (most recent call last)",
      "Input \u001b[0;32mIn [12]\u001b[0m, in \u001b[0;36m<module>\u001b[0;34m\u001b[0m\n\u001b[0;32m----> 1\u001b[0m \u001b[43mgi\u001b[49m\u001b[38;5;241;43m.\u001b[39;49m\u001b[43mtools\u001b[49m\u001b[38;5;241;43m.\u001b[39;49m\u001b[43mupload_from_ftp\u001b[49m\u001b[43m(\u001b[49m\u001b[38;5;124;43m\"\u001b[39;49m\u001b[38;5;124;43mtoy_SRR5152513_1.fastq\u001b[39;49m\u001b[38;5;124;43m\"\u001b[39;49m\u001b[43m,\u001b[49m\u001b[43m \u001b[49m\u001b[38;5;124;43m\"\u001b[39;49m\u001b[38;5;124;43m77d77febf1e1394a\u001b[39;49m\u001b[38;5;124;43m\"\u001b[39;49m\u001b[43m)\u001b[49m\n",
      "File \u001b[0;32m/Library/Frameworks/Python.framework/Versions/3.10/lib/python3.10/site-packages/bioblend/galaxy/tools/__init__.py:311\u001b[0m, in \u001b[0;36mToolClient.upload_from_ftp\u001b[0;34m(self, path, history_id, **keywords)\u001b[0m\n\u001b[1;32m    309\u001b[0m payload \u001b[38;5;241m=\u001b[39m \u001b[38;5;28mself\u001b[39m\u001b[38;5;241m.\u001b[39m_upload_payload(history_id, \u001b[38;5;241m*\u001b[39m\u001b[38;5;241m*\u001b[39mkeywords)\n\u001b[1;32m    310\u001b[0m payload[\u001b[38;5;124m'\u001b[39m\u001b[38;5;124mfiles_0|ftp_files\u001b[39m\u001b[38;5;124m'\u001b[39m] \u001b[38;5;241m=\u001b[39m path\n\u001b[0;32m--> 311\u001b[0m \u001b[38;5;28;01mreturn\u001b[39;00m \u001b[38;5;28;43mself\u001b[39;49m\u001b[38;5;241;43m.\u001b[39;49m\u001b[43m_post\u001b[49m\u001b[43m(\u001b[49m\u001b[43mpayload\u001b[49m\u001b[43m)\u001b[49m\n",
      "File \u001b[0;32m/Library/Frameworks/Python.framework/Versions/3.10/lib/python3.10/site-packages/bioblend/galaxy/client.py:176\u001b[0m, in \u001b[0;36mClient._post\u001b[0;34m(self, payload, id, deleted, contents, url, files_attached)\u001b[0m\n\u001b[1;32m    174\u001b[0m \u001b[38;5;28;01mif\u001b[39;00m \u001b[38;5;129;01mnot\u001b[39;00m url:\n\u001b[1;32m    175\u001b[0m     url \u001b[38;5;241m=\u001b[39m \u001b[38;5;28mself\u001b[39m\u001b[38;5;241m.\u001b[39m_make_url(module_id\u001b[38;5;241m=\u001b[39m\u001b[38;5;28mid\u001b[39m, deleted\u001b[38;5;241m=\u001b[39mdeleted, contents\u001b[38;5;241m=\u001b[39mcontents)\n\u001b[0;32m--> 176\u001b[0m \u001b[38;5;28;01mreturn\u001b[39;00m \u001b[38;5;28;43mself\u001b[39;49m\u001b[38;5;241;43m.\u001b[39;49m\u001b[43mgi\u001b[49m\u001b[38;5;241;43m.\u001b[39;49m\u001b[43mmake_post_request\u001b[49m\u001b[43m(\u001b[49m\u001b[43murl\u001b[49m\u001b[43m,\u001b[49m\u001b[43m \u001b[49m\u001b[43mpayload\u001b[49m\u001b[38;5;241;43m=\u001b[39;49m\u001b[43mpayload\u001b[49m\u001b[43m,\u001b[49m\n\u001b[1;32m    177\u001b[0m \u001b[43m                                 \u001b[49m\u001b[43mfiles_attached\u001b[49m\u001b[38;5;241;43m=\u001b[39;49m\u001b[43mfiles_attached\u001b[49m\u001b[43m)\u001b[49m\n",
      "File \u001b[0;32m/Library/Frameworks/Python.framework/Versions/3.10/lib/python3.10/site-packages/bioblend/galaxyclient.py:153\u001b[0m, in \u001b[0;36mGalaxyClient.make_post_request\u001b[0;34m(self, url, payload, params, files_attached)\u001b[0m\n\u001b[1;32m    147\u001b[0m         \u001b[38;5;28;01mraise\u001b[39;00m \u001b[38;5;167;01mConnectionError\u001b[39;00m(\n\u001b[1;32m    148\u001b[0m             \u001b[38;5;124mf\u001b[39m\u001b[38;5;124m\"\u001b[39m\u001b[38;5;124mRequest was successful, but cannot decode the response content: \u001b[39m\u001b[38;5;132;01m{\u001b[39;00me\u001b[38;5;132;01m}\u001b[39;00m\u001b[38;5;124m\"\u001b[39m,\n\u001b[1;32m    149\u001b[0m             body\u001b[38;5;241m=\u001b[39mr\u001b[38;5;241m.\u001b[39mcontent,\n\u001b[1;32m    150\u001b[0m             status_code\u001b[38;5;241m=\u001b[39mr\u001b[38;5;241m.\u001b[39mstatus_code,\n\u001b[1;32m    151\u001b[0m         )\n\u001b[1;32m    152\u001b[0m \u001b[38;5;66;03m# @see self.body for HTTP response body\u001b[39;00m\n\u001b[0;32m--> 153\u001b[0m \u001b[38;5;28;01mraise\u001b[39;00m \u001b[38;5;167;01mConnectionError\u001b[39;00m(\n\u001b[1;32m    154\u001b[0m     \u001b[38;5;124mf\u001b[39m\u001b[38;5;124m\"\u001b[39m\u001b[38;5;124mUnexpected HTTP status code: \u001b[39m\u001b[38;5;132;01m{\u001b[39;00mr\u001b[38;5;241m.\u001b[39mstatus_code\u001b[38;5;132;01m}\u001b[39;00m\u001b[38;5;124m\"\u001b[39m,\n\u001b[1;32m    155\u001b[0m     body\u001b[38;5;241m=\u001b[39mr\u001b[38;5;241m.\u001b[39mtext,\n\u001b[1;32m    156\u001b[0m     status_code\u001b[38;5;241m=\u001b[39mr\u001b[38;5;241m.\u001b[39mstatus_code,\n\u001b[1;32m    157\u001b[0m )\n",
      "\u001b[0;31mConnectionError\u001b[0m: Unexpected HTTP status code: 400: {\"err_msg\": \"No data was entered in the upload form, please go back and choose data to upload.\", \"err_code\": 0}"
     ]
    }
   ],
   "source": [
    "gi.tools.upload_from_ftp(\"toy_SRR5152513_1.fastq\", \"77d77febf1e1394a\")"
   ]
  },
  {
   "cell_type": "code",
   "execution_count": 15,
   "metadata": {},
   "outputs": [],
   "source": [
    "import ftplib\n",
    "ftp = ftplib.FTP()\n",
    "ftp.connect(host=server, port=ftp_port)\n",
    "ftp.login(user=user,password=password)\n",
    "\n",
    "\n"
   ]
  },
  {
   "cell_type": "markdown",
   "metadata": {},
   "source": [
    "Uploading file into our history"
   ]
  },
  {
   "cell_type": "code",
   "execution_count": 7,
   "metadata": {},
   "outputs": [
    {
     "data": {
      "text/plain": [
       "{'outputs': [{'id': 'bbd44e69cb8906b5d4afedb3e7f3098e',\n",
       "   'hda_ldda': 'hda',\n",
       "   'uuid': 'a507dc31-8bc1-4e25-bb50-7ac437279ff4',\n",
       "   'hid': 9,\n",
       "   'file_ext': 'auto',\n",
       "   'peek': None,\n",
       "   'model_class': 'HistoryDatasetAssociation',\n",
       "   'name': 'toy_SRR5152513_1.fastq',\n",
       "   'deleted': False,\n",
       "   'purged': False,\n",
       "   'visible': True,\n",
       "   'state': 'queued',\n",
       "   'history_content_type': 'dataset',\n",
       "   'file_size': 0,\n",
       "   'create_time': '2022-05-08T20:22:22.580460',\n",
       "   'update_time': '2022-05-08T20:22:22.607450',\n",
       "   'data_type': 'galaxy.datatypes.data.Data',\n",
       "   'genome_build': '?',\n",
       "   'validated_state': 'unknown',\n",
       "   'validated_state_message': None,\n",
       "   'misc_info': None,\n",
       "   'misc_blurb': None,\n",
       "   'tags': [],\n",
       "   'history_id': '77d77febf1e1394a',\n",
       "   'metadata_dbkey': '?',\n",
       "   'output_name': 'output0'}],\n",
       " 'output_collections': [],\n",
       " 'jobs': [{'model_class': 'Job',\n",
       "   'id': 'bbd44e69cb8906b5b7deb5910dcc075b',\n",
       "   'state': 'new',\n",
       "   'exit_code': None,\n",
       "   'update_time': '2022-05-08T20:22:22.651817',\n",
       "   'create_time': '2022-05-08T20:22:22.635509',\n",
       "   'galaxy_version': '22.01',\n",
       "   'tool_id': 'upload1',\n",
       "   'history_id': '77d77febf1e1394a'}],\n",
       " 'implicit_collections': [],\n",
       " 'produces_entry_points': False}"
      ]
     },
     "execution_count": 7,
     "metadata": {},
     "output_type": "execute_result"
    }
   ],
   "source": [
    "preprocessing.upload_data_history(\"data/inputs/toy_SRR5152513_2.fastq\", \"77d77febf1e1394a\") # ~working \n",
    "# added: genome_annotation.gff3, genome_sequence.fasta, toy_SRR5152513_1.fastq, toy_SRR5152513_2.fastq\n"
   ]
  },
  {
   "cell_type": "code",
   "execution_count": 16,
   "metadata": {},
   "outputs": [
    {
     "data": {
      "text/plain": [
       "'toolshed.g2.bx.psu.edu/repos/devteam/fastqc/fastqc/0.73+galaxy0'"
      ]
     },
     "execution_count": 16,
     "metadata": {},
     "output_type": "execute_result"
    }
   ],
   "source": [
    "gi.tools.show_tool(\"fastqc\")[\"id\"]"
   ]
  },
  {
   "cell_type": "code",
   "execution_count": 5,
   "metadata": {},
   "outputs": [
    {
     "ename": "ConnectionError",
     "evalue": "Unexpected HTTP status code: 400: {\"err_msg\": \"inputs invalid toy_SRR5152513_1.fastq\", \"err_code\": 400008}",
     "output_type": "error",
     "traceback": [
      "\u001b[0;31m---------------------------------------------------------------------------\u001b[0m",
      "\u001b[0;31mConnectionError\u001b[0m                           Traceback (most recent call last)",
      "Input \u001b[0;32mIn [5]\u001b[0m, in \u001b[0;36m<module>\u001b[0;34m\u001b[0m\n\u001b[0;32m----> 1\u001b[0m \u001b[43mpreprocessing\u001b[49m\u001b[38;5;241;43m.\u001b[39;49m\u001b[43mfastqc\u001b[49m\u001b[43m(\u001b[49m\u001b[38;5;124;43m\"\u001b[39;49m\u001b[38;5;124;43m77d77febf1e1394a\u001b[39;49m\u001b[38;5;124;43m\"\u001b[39;49m\u001b[43m,\u001b[49m\u001b[43m \u001b[49m\u001b[38;5;124;43m\"\u001b[39;49m\u001b[38;5;124;43mtoy_SRR5152513_1.fastq\u001b[39;49m\u001b[38;5;124;43m\"\u001b[39;49m\u001b[43m)\u001b[49m\n",
      "File \u001b[0;32m~/Documents/GitHub/bioinformatics-project/src/preprocessing.py:107\u001b[0m, in \u001b[0;36mPreProcessing.fastqc\u001b[0;34m(self, history_id, tool_inputs)\u001b[0m\n\u001b[1;32m    105\u001b[0m \u001b[38;5;28;01mdef\u001b[39;00m \u001b[38;5;21mfastqc\u001b[39m(\u001b[38;5;28mself\u001b[39m, history_id, tool_inputs ):\n\u001b[1;32m    106\u001b[0m     tool_id \u001b[38;5;241m=\u001b[39m \u001b[38;5;28mself\u001b[39m\u001b[38;5;241m.\u001b[39mgalaxy_instance\u001b[38;5;241m.\u001b[39mtools\u001b[38;5;241m.\u001b[39mshow_tool(\u001b[38;5;124m\"\u001b[39m\u001b[38;5;124mfastqc\u001b[39m\u001b[38;5;124m\"\u001b[39m)[\u001b[38;5;124m\"\u001b[39m\u001b[38;5;124mid\u001b[39m\u001b[38;5;124m\"\u001b[39m]\n\u001b[0;32m--> 107\u001b[0m     \u001b[38;5;28;01mreturn\u001b[39;00m \u001b[38;5;28;43mself\u001b[39;49m\u001b[38;5;241;43m.\u001b[39;49m\u001b[43mgalaxy_instance\u001b[49m\u001b[38;5;241;43m.\u001b[39;49m\u001b[43mtools\u001b[49m\u001b[38;5;241;43m.\u001b[39;49m\u001b[43mrun_tool\u001b[49m\u001b[43m(\u001b[49m\u001b[43mhistory_id\u001b[49m\u001b[43m,\u001b[49m\u001b[43m \u001b[49m\u001b[43mtool_id\u001b[49m\u001b[43m,\u001b[49m\u001b[43m \u001b[49m\u001b[43mtool_inputs\u001b[49m\u001b[43m)\u001b[49m\n",
      "File \u001b[0;32m/Library/Frameworks/Python.framework/Versions/3.10/lib/python3.10/site-packages/bioblend/galaxy/tools/__init__.py:250\u001b[0m, in \u001b[0;36mToolClient.run_tool\u001b[0;34m(self, history_id, tool_id, tool_inputs, input_format)\u001b[0m\n\u001b[1;32m    248\u001b[0m \u001b[38;5;28;01mexcept\u001b[39;00m \u001b[38;5;167;01mAttributeError\u001b[39;00m:\n\u001b[1;32m    249\u001b[0m     payload[\u001b[38;5;124m\"\u001b[39m\u001b[38;5;124minputs\u001b[39m\u001b[38;5;124m\"\u001b[39m] \u001b[38;5;241m=\u001b[39m tool_inputs\n\u001b[0;32m--> 250\u001b[0m \u001b[38;5;28;01mreturn\u001b[39;00m \u001b[38;5;28;43mself\u001b[39;49m\u001b[38;5;241;43m.\u001b[39;49m\u001b[43m_post\u001b[49m\u001b[43m(\u001b[49m\u001b[43mpayload\u001b[49m\u001b[43m)\u001b[49m\n",
      "File \u001b[0;32m/Library/Frameworks/Python.framework/Versions/3.10/lib/python3.10/site-packages/bioblend/galaxy/client.py:176\u001b[0m, in \u001b[0;36mClient._post\u001b[0;34m(self, payload, id, deleted, contents, url, files_attached)\u001b[0m\n\u001b[1;32m    174\u001b[0m \u001b[38;5;28;01mif\u001b[39;00m \u001b[38;5;129;01mnot\u001b[39;00m url:\n\u001b[1;32m    175\u001b[0m     url \u001b[38;5;241m=\u001b[39m \u001b[38;5;28mself\u001b[39m\u001b[38;5;241m.\u001b[39m_make_url(module_id\u001b[38;5;241m=\u001b[39m\u001b[38;5;28mid\u001b[39m, deleted\u001b[38;5;241m=\u001b[39mdeleted, contents\u001b[38;5;241m=\u001b[39mcontents)\n\u001b[0;32m--> 176\u001b[0m \u001b[38;5;28;01mreturn\u001b[39;00m \u001b[38;5;28;43mself\u001b[39;49m\u001b[38;5;241;43m.\u001b[39;49m\u001b[43mgi\u001b[49m\u001b[38;5;241;43m.\u001b[39;49m\u001b[43mmake_post_request\u001b[49m\u001b[43m(\u001b[49m\u001b[43murl\u001b[49m\u001b[43m,\u001b[49m\u001b[43m \u001b[49m\u001b[43mpayload\u001b[49m\u001b[38;5;241;43m=\u001b[39;49m\u001b[43mpayload\u001b[49m\u001b[43m,\u001b[49m\n\u001b[1;32m    177\u001b[0m \u001b[43m                                 \u001b[49m\u001b[43mfiles_attached\u001b[49m\u001b[38;5;241;43m=\u001b[39;49m\u001b[43mfiles_attached\u001b[49m\u001b[43m)\u001b[49m\n",
      "File \u001b[0;32m/Library/Frameworks/Python.framework/Versions/3.10/lib/python3.10/site-packages/bioblend/galaxyclient.py:153\u001b[0m, in \u001b[0;36mGalaxyClient.make_post_request\u001b[0;34m(self, url, payload, params, files_attached)\u001b[0m\n\u001b[1;32m    147\u001b[0m         \u001b[38;5;28;01mraise\u001b[39;00m \u001b[38;5;167;01mConnectionError\u001b[39;00m(\n\u001b[1;32m    148\u001b[0m             \u001b[38;5;124mf\u001b[39m\u001b[38;5;124m\"\u001b[39m\u001b[38;5;124mRequest was successful, but cannot decode the response content: \u001b[39m\u001b[38;5;132;01m{\u001b[39;00me\u001b[38;5;132;01m}\u001b[39;00m\u001b[38;5;124m\"\u001b[39m,\n\u001b[1;32m    149\u001b[0m             body\u001b[38;5;241m=\u001b[39mr\u001b[38;5;241m.\u001b[39mcontent,\n\u001b[1;32m    150\u001b[0m             status_code\u001b[38;5;241m=\u001b[39mr\u001b[38;5;241m.\u001b[39mstatus_code,\n\u001b[1;32m    151\u001b[0m         )\n\u001b[1;32m    152\u001b[0m \u001b[38;5;66;03m# @see self.body for HTTP response body\u001b[39;00m\n\u001b[0;32m--> 153\u001b[0m \u001b[38;5;28;01mraise\u001b[39;00m \u001b[38;5;167;01mConnectionError\u001b[39;00m(\n\u001b[1;32m    154\u001b[0m     \u001b[38;5;124mf\u001b[39m\u001b[38;5;124m\"\u001b[39m\u001b[38;5;124mUnexpected HTTP status code: \u001b[39m\u001b[38;5;132;01m{\u001b[39;00mr\u001b[38;5;241m.\u001b[39mstatus_code\u001b[38;5;132;01m}\u001b[39;00m\u001b[38;5;124m\"\u001b[39m,\n\u001b[1;32m    155\u001b[0m     body\u001b[38;5;241m=\u001b[39mr\u001b[38;5;241m.\u001b[39mtext,\n\u001b[1;32m    156\u001b[0m     status_code\u001b[38;5;241m=\u001b[39mr\u001b[38;5;241m.\u001b[39mstatus_code,\n\u001b[1;32m    157\u001b[0m )\n",
      "\u001b[0;31mConnectionError\u001b[0m: Unexpected HTTP status code: 400: {\"err_msg\": \"inputs invalid toy_SRR5152513_1.fastq\", \"err_code\": 400008}"
     ]
    }
   ],
   "source": [
    "preprocessing.fastqc(\"77d77febf1e1394a\", \"toy_SRR5152513_1.fastq\")"
   ]
  },
  {
   "cell_type": "code",
   "execution_count": null,
   "metadata": {},
   "outputs": [],
   "source": []
  }
 ],
 "metadata": {
  "interpreter": {
   "hash": "aee8b7b246df8f9039afb4144a1f6fd8d2ca17a180786b69acc140d282b71a49"
  },
  "kernelspec": {
   "display_name": "Python 3",
   "language": "python",
   "name": "python3"
  },
  "language_info": {
   "codemirror_mode": {
    "name": "ipython",
    "version": 3
   },
   "file_extension": ".py",
   "mimetype": "text/x-python",
   "name": "python",
   "nbconvert_exporter": "python",
   "pygments_lexer": "ipython3",
   "version": "3.10.0"
  }
 },
 "nbformat": 4,
 "nbformat_minor": 4
}

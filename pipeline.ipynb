{
 "cells": [
  {
   "cell_type": "code",
   "execution_count": 6,
   "outputs": [],
   "source": [
    "from bioblend import galaxy\n",
    "\n",
    "from src.preprocessing import *\n",
    "from src.integration import *"
   ],
   "metadata": {
    "collapsed": false,
    "pycharm": {
     "name": "#%%\n"
    }
   }
  },
  {
   "cell_type": "markdown",
   "source": [
    "Setting up the Galaxy connection. This is the first step in using the Galaxy API.\n",
    "Key can be found in the Galaxy admin panel."
   ],
   "metadata": {
    "collapsed": false,
    "pycharm": {
     "name": "#%% md\n"
    }
   }
  },
  {
   "cell_type": "code",
   "execution_count": 4,
   "outputs": [],
   "source": [
    "gi = galaxy.GalaxyInstance(url='https://usegalaxy.org/', key='879271b2a412ff7df93ae34a5d163eed')\n",
    "preprocessing = PreProcessing(galaxy_instance = gi)"
   ],
   "metadata": {
    "collapsed": false,
    "pycharm": {
     "name": "#%%\n"
    }
   }
  },
  {
   "cell_type": "markdown",
   "source": [
    "If you don't have a history created at Galaxy, you can create one. Histories are similar to folders in the file system. So, you can create a new history for each project you want to work on. You can create a history by using the following command. In this case the name of the history is 'new_history'."
   ],
   "metadata": {
    "collapsed": false,
    "pycharm": {
     "name": "#%% md\n"
    }
   }
  },
  {
   "cell_type": "code",
   "execution_count": null,
   "outputs": [],
   "source": [
    "preprocessing.create_history('new_history') # creates history with name 'try1'"
   ],
   "metadata": {
    "collapsed": false,
    "pycharm": {
     "name": "#%%\n"
    }
   }
  },
  {
   "cell_type": "markdown",
   "source": [
    "To visualize all the histories in Galaxy for a user, you can use the following command."
   ],
   "metadata": {
    "collapsed": false,
    "pycharm": {
     "name": "#%% md\n"
    }
   }
  },
  {
   "cell_type": "code",
   "execution_count": 5,
   "outputs": [
    {
     "name": "stdout",
     "output_type": "stream",
     "text": [
      "history 1. projeto_2, id: 9ac628343c153675\n",
      "history 2. projeto_0, id: bb76b52060f3d03c\n",
      "history 3. projeto, id: 77d77febf1e1394a\n",
      "history 4. Unnamed history, id: ab18f357fb3a7b44\n"
     ]
    }
   ],
   "source": [
    "preprocessing.view_histories()"
   ],
   "metadata": {
    "collapsed": false,
    "pycharm": {
     "name": "#%%\n"
    }
   }
  },
  {
   "cell_type": "markdown",
   "source": [
    "To get information about a specific history, you can use the following code. For this porpuse, it will give information about the existing datasets in the history."
   ],
   "metadata": {
    "collapsed": false,
    "pycharm": {
     "name": "#%% md\n"
    }
   }
  },
  {
   "cell_type": "code",
   "execution_count": 6,
   "outputs": [
    {
     "name": "stdout",
     "output_type": "stream",
     "text": [
      "These files are in history:\n",
      "file 1. name is: toy_SRR5152513_1.fastq, deleted? True, dataset id: bbd44e69cb8906b561bb56be284d9e34\n",
      "file 2. name is: genome_annotation.gff3, deleted? True, dataset id: bbd44e69cb8906b5694de2059cdb746d\n",
      "file 3. name is: genome_sequence.fasta, deleted? True, dataset id: bbd44e69cb8906b565cde45a6ba4ef9a\n",
      "file 4. name is: Trim Galore! on data 1: trimmed reads, deleted? True, dataset id: bbd44e69cb8906b510dcce40d7cdfd1e\n",
      "file 5. name is: toy_SRR5152513_1.fastq, deleted? True, dataset id: bbd44e69cb8906b506058c4435b1294b\n",
      "file 6. name is: toy_SRR5152513_1.fastq, deleted? False, dataset id: bbd44e69cb8906b5240164621b5d27b7\n",
      "file 7. name is: toy_SRR5152513_1.fastq, deleted? False, dataset id: bbd44e69cb8906b57b48e8a1879dd2cd\n",
      "file 8. name is: toy_SRR5152513_1.fastq, deleted? False, dataset id: bbd44e69cb8906b52152265a9a8cd0e7\n",
      "file 9. name is: toy_SRR5152513_1.fastq, deleted? False, dataset id: bbd44e69cb8906b5d4afedb3e7f3098e\n",
      "file 10. name is: toy_SRR5152513_1.fastq, deleted? False, dataset id: bbd44e69cb8906b5d2463f4421381433\n",
      "file 11. name is: toy_SRR5152513_2.fastq, deleted? False, dataset id: bbd44e69cb8906b5f7ffff78c3c83123\n",
      "file 12. name is: genome_sequence.fasta, deleted? False, dataset id: bbd44e69cb8906b52fa76e4af762e2cc\n",
      "file 13. name is: annotation, deleted? False, dataset id: bbd44e69cb8906b5ab6a077705ce0829\n",
      "file 14. name is: fastq_1_ng, deleted? False, dataset id: bbd44e69cb8906b51a4ae4ab9294c008\n",
      "file 15. name is: fastq_2_ng, deleted? False, dataset id: bbd44e69cb8906b51dfbe7e9722be410\n",
      "file 16. name is: sequence_ng, deleted? False, dataset id: bbd44e69cb8906b509e1d2e79906330c\n",
      "file 17. name is: FastQC on data 74: Webpage, deleted? False, dataset id: bbd44e69cb8906b56344788a1601ca1e\n",
      "file 18. name is: FastQC on data 74: RawData, deleted? False, dataset id: bbd44e69cb8906b503815bc545cab1d6\n",
      "file 19. name is: FastQC on data 74: Webpage, deleted? False, dataset id: bbd44e69cb8906b50b1109ae0621c7d0\n",
      "file 20. name is: FastQC on data 74: RawData, deleted? False, dataset id: bbd44e69cb8906b5a3b7106876d3ba6a\n",
      "file 21. name is: FastQC on data 74: Webpage, deleted? False, dataset id: bbd44e69cb8906b5a2fd7c8185c0c999\n",
      "file 22. name is: FastQC on data 74: RawData, deleted? False, dataset id: bbd44e69cb8906b5a94c61abd79c8a28\n",
      "file 23. name is: FastQC on data 74: Webpage, deleted? False, dataset id: bbd44e69cb8906b50f2ea959f5101e17\n",
      "file 24. name is: FastQC on data 74: RawData, deleted? False, dataset id: bbd44e69cb8906b59ef0cf4fb4b0434a\n",
      "file 25. name is: FastQC on data 74: Webpage, deleted? False, dataset id: bbd44e69cb8906b5d78877ef0228a0ad\n",
      "file 26. name is: FastQC on data 74: RawData, deleted? False, dataset id: bbd44e69cb8906b5122d8ea7f50f2ab2\n",
      "file 27. name is: FastQC on data 74: Webpage, deleted? False, dataset id: bbd44e69cb8906b53d132447caabaafe\n",
      "file 28. name is: FastQC on data 74: RawData, deleted? False, dataset id: bbd44e69cb8906b5f6f9005feed8a2c1\n",
      "file 29. name is: FastQC on data 74: Webpage, deleted? False, dataset id: bbd44e69cb8906b525041691b96b1b39\n",
      "file 30. name is: FastQC on data 74: RawData, deleted? False, dataset id: bbd44e69cb8906b57ccdb4cf1c0e818e\n",
      "file 31. name is: FastQC on data 74: Webpage, deleted? True, dataset id: bbd44e69cb8906b53a967bc0d6f699bc\n",
      "file 32. name is: FastQC on data 74: RawData, deleted? True, dataset id: bbd44e69cb8906b5308dae62070dc98c\n",
      "file 33. name is: FastQC on data 74: Webpage, deleted? True, dataset id: bbd44e69cb8906b5e087ca5285fc7200\n",
      "file 34. name is: FastQC on data 74: RawData, deleted? True, dataset id: bbd44e69cb8906b597f2ed771bd9f833\n",
      "file 35. name is: FastQC on data 74: Webpage, deleted? True, dataset id: bbd44e69cb8906b51bd77b3aad37db42\n",
      "file 36. name is: FastQC on data 74: RawData, deleted? True, dataset id: bbd44e69cb8906b5185bf9efbaf91e6a\n",
      "file 37. name is: FastQC on data 74: Webpage, deleted? True, dataset id: bbd44e69cb8906b5bed7737b3f9c0c35\n",
      "file 38. name is: FastQC on data 74: RawData, deleted? True, dataset id: bbd44e69cb8906b5aa150631dda02cc1\n",
      "file 39. name is: FastQC on data 74: Webpage, deleted? True, dataset id: bbd44e69cb8906b5e6eef5eb573bc894\n",
      "file 40. name is: FastQC on data 74: RawData, deleted? True, dataset id: bbd44e69cb8906b5f3cf4a357c32cbd8\n",
      "file 41. name is: FastQC on data 74: Webpage, deleted? True, dataset id: bbd44e69cb8906b556c37e470d42f592\n",
      "file 42. name is: FastQC on data 74: RawData, deleted? True, dataset id: bbd44e69cb8906b50d1e985ad207143e\n",
      "file 43. name is: FastQC on data 75: Webpage, deleted? True, dataset id: bbd44e69cb8906b59a366b545ad5e535\n",
      "file 44. name is: FastQC on data 75: RawData, deleted? True, dataset id: bbd44e69cb8906b5a1362eee3d60bc81\n",
      "file 45. name is: FastQC on data 74: Webpage, deleted? True, dataset id: bbd44e69cb8906b5c3750b19b1e106ad\n",
      "file 46. name is: FastQC on data 74: RawData, deleted? True, dataset id: bbd44e69cb8906b5daaaf7bbb31e1024\n",
      "file 47. name is: FastQC on data 74: Webpage, deleted? True, dataset id: bbd44e69cb8906b517bf50a1840344a1\n",
      "file 48. name is: FastQC on data 74: RawData, deleted? True, dataset id: bbd44e69cb8906b5bf19a324732d44ee\n",
      "file 49. name is: FastQC on data 74: Webpage, deleted? True, dataset id: bbd44e69cb8906b5137fe0f2970c3722\n",
      "file 50. name is: FastQC on data 74: RawData, deleted? True, dataset id: bbd44e69cb8906b534fedb0b07133b20\n",
      "file 51. name is: FastQC on data 74: Webpage, deleted? True, dataset id: bbd44e69cb8906b52041494aed481c14\n",
      "file 52. name is: FastQC on data 74: RawData, deleted? True, dataset id: bbd44e69cb8906b5c5afa1184a7dd445\n",
      "file 53. name is: FastQC on data 74: Webpage, deleted? True, dataset id: bbd44e69cb8906b52d8df0ea0cb3f357\n",
      "file 54. name is: FastQC on data 74: RawData, deleted? True, dataset id: bbd44e69cb8906b5b53852d4c55c1f40\n",
      "file 55. name is: FastQC on data 75: Webpage, deleted? True, dataset id: bbd44e69cb8906b5323da6d42b7d4494\n",
      "file 56. name is: FastQC on data 75: RawData, deleted? True, dataset id: bbd44e69cb8906b59125bb7480b2fb69\n",
      "file 57. name is: FastQC on data 74: Webpage, deleted? True, dataset id: bbd44e69cb8906b569ec36d139a76ba6\n",
      "file 58. name is: FastQC on data 74: RawData, deleted? True, dataset id: bbd44e69cb8906b5933e8be1b873a24c\n",
      "file 59. name is: FastQC on data 75: Webpage, deleted? True, dataset id: bbd44e69cb8906b5842af2fd359357e4\n",
      "file 60. name is: FastQC on data 75: RawData, deleted? True, dataset id: bbd44e69cb8906b5400fadedb4c5aeca\n",
      "file 61. name is: FastQC on data 74: Webpage, deleted? False, dataset id: bbd44e69cb8906b59ccddb077c1c7360\n",
      "file 62. name is: FastQC on data 74: RawData, deleted? False, dataset id: bbd44e69cb8906b53ca7340eb466a705\n",
      "file 63. name is: FastQC on data 75: Webpage, deleted? False, dataset id: bbd44e69cb8906b5630e9a0cd75b3e29\n",
      "file 64. name is: FastQC on data 75: RawData, deleted? False, dataset id: bbd44e69cb8906b5c43d4dc917daf4ca\n",
      "file 65. name is: FastQC on data 74: Webpage, deleted? False, dataset id: bbd44e69cb8906b5ef322281fb350161\n",
      "file 66. name is: FastQC on data 74: RawData, deleted? False, dataset id: bbd44e69cb8906b56880830f0c3c3e88\n"
     ]
    }
   ],
   "source": [
    "preprocessing.show_history('77d77febf1e1394a')"
   ],
   "metadata": {
    "collapsed": false,
    "pycharm": {
     "name": "#%%\n"
    }
   }
  },
  {
   "cell_type": "markdown",
   "source": [
    "To set a specific history as the current history, use the following code."
   ],
   "metadata": {
    "collapsed": false,
    "pycharm": {
     "name": "#%% md\n"
    }
   }
  },
  {
   "cell_type": "code",
   "execution_count": null,
   "outputs": [],
   "source": [
    "preprocessing.set_current_history('77d77febf1e1394a')"
   ],
   "metadata": {
    "collapsed": false,
    "pycharm": {
     "name": "#%%\n"
    }
   }
  },
  {
   "cell_type": "markdown",
   "source": [
    "Now, in order to run a job in Galaxy, you need to upload a file to a history, if you don't have a file already uploaded in Galaxy, you can use the following command."
   ],
   "metadata": {
    "collapsed": false,
    "pycharm": {
     "name": "#%% md\n"
    }
   }
  },
  {
   "cell_type": "code",
   "execution_count": 10,
   "outputs": [
    {
     "ename": "ConnectionError",
     "evalue": "Unexpected HTTP status code: 400: {\"err_msg\": \"Wrong  id ( None ) specified, unable to decode.\", \"err_code\": 400009}",
     "output_type": "error",
     "traceback": [
      "\u001B[0;31m---------------------------------------------------------------------------\u001B[0m",
      "\u001B[0;31mConnectionError\u001B[0m                           Traceback (most recent call last)",
      "Input \u001B[0;32mIn [10]\u001B[0m, in \u001B[0;36m<cell line: 1>\u001B[0;34m()\u001B[0m\n\u001B[0;32m----> 1\u001B[0m \u001B[43mpreprocessing\u001B[49m\u001B[38;5;241;43m.\u001B[39;49m\u001B[43mupload_data_history\u001B[49m\u001B[43m(\u001B[49m\u001B[38;5;124;43m\"\u001B[39;49m\u001B[38;5;124;43mdata/inputs/toy_SRR5152513_1.fastq\u001B[39;49m\u001B[38;5;124;43m\"\u001B[39;49m\u001B[43m)\u001B[49m \u001B[38;5;66;03m# uploads file to current history set in the previous code\u001B[39;00m\n\u001B[1;32m      2\u001B[0m \u001B[38;5;66;03m# or\u001B[39;00m\n\u001B[1;32m      3\u001B[0m preprocessing\u001B[38;5;241m.\u001B[39mupload_data_history(\u001B[38;5;124m\"\u001B[39m\u001B[38;5;124mdata/inputs/toy_SRR5152513_1.fastq\u001B[39m\u001B[38;5;124m\"\u001B[39m, history_id\u001B[38;5;241m=\u001B[39m\u001B[38;5;124m\"\u001B[39m\u001B[38;5;124m77d77febf1e1394a\u001B[39m\u001B[38;5;124m\"\u001B[39m)\n",
      "File \u001B[0;32m~/Documents/GitHub/bioinformatics-project/src/preprocessing.py:85\u001B[0m, in \u001B[0;36mPreProcessing.upload_data_history\u001B[0;34m(self, file_local_path, history_id, **kwargs)\u001B[0m\n\u001B[1;32m     76\u001B[0m \u001B[38;5;28;01mdef\u001B[39;00m \u001B[38;5;21mupload_data_history\u001B[39m(\u001B[38;5;28mself\u001B[39m, file_local_path, history_id\u001B[38;5;241m=\u001B[39m\u001B[38;5;28;01mNone\u001B[39;00m, \u001B[38;5;241m*\u001B[39m\u001B[38;5;241m*\u001B[39mkwargs):\n\u001B[1;32m     77\u001B[0m     \u001B[38;5;124;03m\"\"\" method to upload a local file to certain history\u001B[39;00m\n\u001B[1;32m     78\u001B[0m \n\u001B[1;32m     79\u001B[0m \u001B[38;5;124;03m    Args:\u001B[39;00m\n\u001B[0;32m   (...)\u001B[0m\n\u001B[1;32m     83\u001B[0m \u001B[38;5;124;03m        dic: dictionary containing information about newly updated file in history\u001B[39;00m\n\u001B[1;32m     84\u001B[0m \u001B[38;5;124;03m    \"\"\"\u001B[39;00m\n\u001B[0;32m---> 85\u001B[0m     counts \u001B[38;5;241m=\u001B[39m \u001B[38;5;28;43mself\u001B[39;49m\u001B[38;5;241;43m.\u001B[39;49m\u001B[43mgalaxy_instance\u001B[49m\u001B[38;5;241;43m.\u001B[39;49m\u001B[43mtools\u001B[49m\u001B[38;5;241;43m.\u001B[39;49m\u001B[43mupload_file\u001B[49m\u001B[43m(\u001B[49m\u001B[43mfile_local_path\u001B[49m\u001B[43m,\u001B[49m\u001B[43m \u001B[49m\u001B[38;5;28;43mstr\u001B[39;49m\u001B[43m(\u001B[49m\u001B[43mhistory_id\u001B[49m\u001B[43m \u001B[49m\u001B[38;5;129;43;01mor\u001B[39;49;00m\u001B[43m \u001B[49m\u001B[38;5;28;43mself\u001B[39;49m\u001B[38;5;241;43m.\u001B[39;49m\u001B[43mcurrent_history\u001B[49m\u001B[43m)\u001B[49m\u001B[43m,\u001B[49m\n\u001B[1;32m     86\u001B[0m \u001B[43m                                                    \u001B[49m\u001B[38;5;241;43m*\u001B[39;49m\u001B[38;5;241;43m*\u001B[39;49m\u001B[43mkwargs\u001B[49m\u001B[43m)\u001B[49m  \u001B[38;5;66;03m# ~working\u001B[39;00m\n\u001B[1;32m     87\u001B[0m     \u001B[38;5;28;01mreturn\u001B[39;00m counts\n",
      "File \u001B[0;32m~/Documents/GitHub/bioinformatics-project/venv/lib/python3.9/site-packages/bioblend/galaxy/tools/__init__.py:289\u001B[0m, in \u001B[0;36mToolClient.upload_file\u001B[0;34m(self, path, history_id, **keywords)\u001B[0m\n\u001B[1;32m    287\u001B[0m payload[\u001B[38;5;124m\"\u001B[39m\u001B[38;5;124mfiles_0|file_data\u001B[39m\u001B[38;5;124m\"\u001B[39m] \u001B[38;5;241m=\u001B[39m attach_file(path, name\u001B[38;5;241m=\u001B[39mkeywords[\u001B[38;5;124m\"\u001B[39m\u001B[38;5;124mfile_name\u001B[39m\u001B[38;5;124m\"\u001B[39m])\n\u001B[1;32m    288\u001B[0m \u001B[38;5;28;01mtry\u001B[39;00m:\n\u001B[0;32m--> 289\u001B[0m     \u001B[38;5;28;01mreturn\u001B[39;00m \u001B[38;5;28;43mself\u001B[39;49m\u001B[38;5;241;43m.\u001B[39;49m\u001B[43m_post\u001B[49m\u001B[43m(\u001B[49m\u001B[43mpayload\u001B[49m\u001B[43m,\u001B[49m\u001B[43m \u001B[49m\u001B[43mfiles_attached\u001B[49m\u001B[38;5;241;43m=\u001B[39;49m\u001B[38;5;28;43;01mTrue\u001B[39;49;00m\u001B[43m)\u001B[49m\n\u001B[1;32m    290\u001B[0m \u001B[38;5;28;01mfinally\u001B[39;00m:\n\u001B[1;32m    291\u001B[0m     payload[\u001B[38;5;124m\"\u001B[39m\u001B[38;5;124mfiles_0|file_data\u001B[39m\u001B[38;5;124m\"\u001B[39m]\u001B[38;5;241m.\u001B[39mclose()\n",
      "File \u001B[0;32m~/Documents/GitHub/bioinformatics-project/venv/lib/python3.9/site-packages/bioblend/galaxy/client.py:176\u001B[0m, in \u001B[0;36mClient._post\u001B[0;34m(self, payload, id, deleted, contents, url, files_attached)\u001B[0m\n\u001B[1;32m    174\u001B[0m \u001B[38;5;28;01mif\u001B[39;00m \u001B[38;5;129;01mnot\u001B[39;00m url:\n\u001B[1;32m    175\u001B[0m     url \u001B[38;5;241m=\u001B[39m \u001B[38;5;28mself\u001B[39m\u001B[38;5;241m.\u001B[39m_make_url(module_id\u001B[38;5;241m=\u001B[39m\u001B[38;5;28mid\u001B[39m, deleted\u001B[38;5;241m=\u001B[39mdeleted, contents\u001B[38;5;241m=\u001B[39mcontents)\n\u001B[0;32m--> 176\u001B[0m \u001B[38;5;28;01mreturn\u001B[39;00m \u001B[38;5;28;43mself\u001B[39;49m\u001B[38;5;241;43m.\u001B[39;49m\u001B[43mgi\u001B[49m\u001B[38;5;241;43m.\u001B[39;49m\u001B[43mmake_post_request\u001B[49m\u001B[43m(\u001B[49m\u001B[43murl\u001B[49m\u001B[43m,\u001B[49m\u001B[43m \u001B[49m\u001B[43mpayload\u001B[49m\u001B[38;5;241;43m=\u001B[39;49m\u001B[43mpayload\u001B[49m\u001B[43m,\u001B[49m\n\u001B[1;32m    177\u001B[0m \u001B[43m                                 \u001B[49m\u001B[43mfiles_attached\u001B[49m\u001B[38;5;241;43m=\u001B[39;49m\u001B[43mfiles_attached\u001B[49m\u001B[43m)\u001B[49m\n",
      "File \u001B[0;32m~/Documents/GitHub/bioinformatics-project/venv/lib/python3.9/site-packages/bioblend/galaxyclient.py:153\u001B[0m, in \u001B[0;36mGalaxyClient.make_post_request\u001B[0;34m(self, url, payload, params, files_attached)\u001B[0m\n\u001B[1;32m    147\u001B[0m         \u001B[38;5;28;01mraise\u001B[39;00m \u001B[38;5;167;01mConnectionError\u001B[39;00m(\n\u001B[1;32m    148\u001B[0m             \u001B[38;5;124mf\u001B[39m\u001B[38;5;124m\"\u001B[39m\u001B[38;5;124mRequest was successful, but cannot decode the response content: \u001B[39m\u001B[38;5;132;01m{\u001B[39;00me\u001B[38;5;132;01m}\u001B[39;00m\u001B[38;5;124m\"\u001B[39m,\n\u001B[1;32m    149\u001B[0m             body\u001B[38;5;241m=\u001B[39mr\u001B[38;5;241m.\u001B[39mcontent,\n\u001B[1;32m    150\u001B[0m             status_code\u001B[38;5;241m=\u001B[39mr\u001B[38;5;241m.\u001B[39mstatus_code,\n\u001B[1;32m    151\u001B[0m         )\n\u001B[1;32m    152\u001B[0m \u001B[38;5;66;03m# @see self.body for HTTP response body\u001B[39;00m\n\u001B[0;32m--> 153\u001B[0m \u001B[38;5;28;01mraise\u001B[39;00m \u001B[38;5;167;01mConnectionError\u001B[39;00m(\n\u001B[1;32m    154\u001B[0m     \u001B[38;5;124mf\u001B[39m\u001B[38;5;124m\"\u001B[39m\u001B[38;5;124mUnexpected HTTP status code: \u001B[39m\u001B[38;5;132;01m{\u001B[39;00mr\u001B[38;5;241m.\u001B[39mstatus_code\u001B[38;5;132;01m}\u001B[39;00m\u001B[38;5;124m\"\u001B[39m,\n\u001B[1;32m    155\u001B[0m     body\u001B[38;5;241m=\u001B[39mr\u001B[38;5;241m.\u001B[39mtext,\n\u001B[1;32m    156\u001B[0m     status_code\u001B[38;5;241m=\u001B[39mr\u001B[38;5;241m.\u001B[39mstatus_code,\n\u001B[1;32m    157\u001B[0m )\n",
      "\u001B[0;31mConnectionError\u001B[0m: Unexpected HTTP status code: 400: {\"err_msg\": \"Wrong  id ( None ) specified, unable to decode.\", \"err_code\": 400009}"
     ]
    }
   ],
   "source": [
    "preprocessing.upload_data_history(\"data/inputs/toy_SRR5152513_1.fastq\") # uploads file to current history set in the previous code\n",
    "# or\n",
    "preprocessing.upload_data_history(\"data/inputs/toy_SRR5152513_1.fastq\", history_id=\"77d77febf1e1394a\", name='fastq_ng_1', file_type=\"fastq\") ## uploads file to specific history with a specific name\n",
    "preprocessing.upload_data_history(\"data/inputs/toy_SRR5152513_2.fastq\", history_id=\"77d77febf1e1394a\", name='fastq_ng_1', file_type=\"fastq\") # uploads file to specific history\n",
    "preprocessing.upload_data_history(\"data/inputs/annotation.gtf\", history_id=\"77d77febf1e1394a\", name=\"annotation.gtf\", file_type=\"gtf\")\n",
    "preprocessing.upload_data_history(\"data/inputs/annotation.gff3\", history_id=\"77d77febf1e1394a\", name=\"annotation3\", file_type=\"gff3\")\n",
    "preprocessing.upload_data_history(\"data/inputs/genome_sequence.fasta\", history_id=\"77d77febf1e1394a\", name=\"genome_ng\", file_type=\"fasta\")"
   ],
   "metadata": {
    "collapsed": false,
    "pycharm": {
     "name": "#%%\n"
    }
   }
  },
  {
   "cell_type": "markdown",
   "source": [
    "To get information about all the datasets in a history, you can use the following command."
   ],
   "metadata": {
    "collapsed": false,
    "pycharm": {
     "name": "#%% md\n"
    }
   }
  },
  {
   "cell_type": "code",
   "execution_count": 13,
   "outputs": [
    {
     "name": "stdout",
     "output_type": "stream",
     "text": [
      "dataset 1. name is: FastQC on data 75: RawData, deleted: True, dataset id: bbd44e69cb8906b5400fadedb4c5aeca, created at: 2022-06-17T15:56:40.708138\n",
      "dataset 2. name is: FastQC on data 75: Webpage, deleted: True, dataset id: bbd44e69cb8906b5842af2fd359357e4, created at: 2022-06-17T15:56:40.708131\n",
      "dataset 3. name is: FastQC on data 74: RawData, deleted: True, dataset id: bbd44e69cb8906b5933e8be1b873a24c, created at: 2022-06-17T15:56:39.143616\n",
      "dataset 4. name is: FastQC on data 74: Webpage, deleted: True, dataset id: bbd44e69cb8906b569ec36d139a76ba6, created at: 2022-06-17T15:56:39.143609\n",
      "dataset 5. name is: FastQC on data 74: RawData, deleted: True, dataset id: bbd44e69cb8906b5b53852d4c55c1f40, created at: 2022-06-15T16:26:45.555153\n",
      "dataset 6. name is: FastQC on data 74: Webpage, deleted: True, dataset id: bbd44e69cb8906b52d8df0ea0cb3f357, created at: 2022-06-15T16:26:45.555145\n",
      "dataset 7. name is: FastQC on data 75: RawData, deleted: True, dataset id: bbd44e69cb8906b59125bb7480b2fb69, created at: 2022-06-15T16:26:36.203744\n",
      "dataset 8. name is: FastQC on data 75: Webpage, deleted: True, dataset id: bbd44e69cb8906b5323da6d42b7d4494, created at: 2022-06-15T16:26:36.203684\n",
      "dataset 9. name is: FastQC on data 74: RawData, deleted: True, dataset id: bbd44e69cb8906b5c5afa1184a7dd445, created at: 2022-06-15T16:04:54.878041\n",
      "dataset 10. name is: FastQC on data 74: Webpage, deleted: True, dataset id: bbd44e69cb8906b52041494aed481c14, created at: 2022-06-15T16:04:54.878035\n",
      "dataset 11. name is: FastQC on data 74: RawData, deleted: True, dataset id: bbd44e69cb8906b534fedb0b07133b20, created at: 2022-06-15T16:02:17.238375\n",
      "dataset 12. name is: FastQC on data 74: Webpage, deleted: True, dataset id: bbd44e69cb8906b5137fe0f2970c3722, created at: 2022-06-15T16:02:17.238352\n",
      "dataset 13. name is: FastQC on data 74: RawData, deleted: True, dataset id: bbd44e69cb8906b5bf19a324732d44ee, created at: 2022-06-15T16:01:57.354119\n",
      "dataset 14. name is: FastQC on data 74: Webpage, deleted: True, dataset id: bbd44e69cb8906b517bf50a1840344a1, created at: 2022-06-15T16:01:57.354112\n",
      "dataset 15. name is: FastQC on data 74: RawData, deleted: True, dataset id: bbd44e69cb8906b5daaaf7bbb31e1024, created at: 2022-06-15T15:57:37.570488\n",
      "dataset 16. name is: FastQC on data 74: Webpage, deleted: True, dataset id: bbd44e69cb8906b5c3750b19b1e106ad, created at: 2022-06-15T15:57:37.570457\n",
      "dataset 17. name is: FastQC on data 75: RawData, deleted: True, dataset id: bbd44e69cb8906b5a1362eee3d60bc81, created at: 2022-06-15T15:54:42.688976\n",
      "dataset 18. name is: FastQC on data 75: Webpage, deleted: True, dataset id: bbd44e69cb8906b59a366b545ad5e535, created at: 2022-06-15T15:54:42.688847\n",
      "dataset 19. name is: FastQC on data 74: RawData, deleted: True, dataset id: bbd44e69cb8906b50d1e985ad207143e, created at: 2022-06-15T15:51:11.114010\n",
      "dataset 20. name is: FastQC on data 74: Webpage, deleted: True, dataset id: bbd44e69cb8906b556c37e470d42f592, created at: 2022-06-15T15:51:11.114002\n",
      "dataset 21. name is: FastQC on data 74: RawData, deleted: True, dataset id: bbd44e69cb8906b5f3cf4a357c32cbd8, created at: 2022-06-15T15:50:13.760832\n",
      "dataset 22. name is: FastQC on data 74: Webpage, deleted: True, dataset id: bbd44e69cb8906b5e6eef5eb573bc894, created at: 2022-06-15T15:50:13.760813\n",
      "dataset 23. name is: FastQC on data 74: RawData, deleted: True, dataset id: bbd44e69cb8906b5aa150631dda02cc1, created at: 2022-06-15T15:47:21.182632\n",
      "dataset 24. name is: FastQC on data 74: Webpage, deleted: True, dataset id: bbd44e69cb8906b5bed7737b3f9c0c35, created at: 2022-06-15T15:47:21.182623\n",
      "dataset 25. name is: FastQC on data 74: RawData, deleted: True, dataset id: bbd44e69cb8906b5185bf9efbaf91e6a, created at: 2022-06-15T15:42:16.495381\n",
      "dataset 26. name is: FastQC on data 74: Webpage, deleted: True, dataset id: bbd44e69cb8906b51bd77b3aad37db42, created at: 2022-06-15T15:42:16.495372\n",
      "dataset 27. name is: FastQC on data 74: RawData, deleted: True, dataset id: bbd44e69cb8906b597f2ed771bd9f833, created at: 2022-06-15T15:41:58.665557\n",
      "dataset 28. name is: FastQC on data 74: Webpage, deleted: True, dataset id: bbd44e69cb8906b5e087ca5285fc7200, created at: 2022-06-15T15:41:58.665548\n",
      "dataset 29. name is: FastQC on data 74: RawData, deleted: False, dataset id: bbd44e69cb8906b57ccdb4cf1c0e818e, created at: 2022-06-15T15:41:30.190196\n",
      "dataset 30. name is: FastQC on data 74: Webpage, deleted: False, dataset id: bbd44e69cb8906b525041691b96b1b39, created at: 2022-06-15T15:41:30.190190\n",
      "dataset 31. name is: FastQC on data 74: RawData, deleted: True, dataset id: bbd44e69cb8906b5308dae62070dc98c, created at: 2022-06-15T15:41:29.111360\n",
      "dataset 32. name is: FastQC on data 74: Webpage, deleted: True, dataset id: bbd44e69cb8906b53a967bc0d6f699bc, created at: 2022-06-15T15:41:29.111352\n",
      "dataset 33. name is: FastQC on data 74: RawData, deleted: False, dataset id: bbd44e69cb8906b5f6f9005feed8a2c1, created at: 2022-06-15T15:41:02.001924\n",
      "dataset 34. name is: FastQC on data 74: Webpage, deleted: False, dataset id: bbd44e69cb8906b53d132447caabaafe, created at: 2022-06-15T15:41:02.001913\n",
      "dataset 35. name is: FastQC on data 74: RawData, deleted: False, dataset id: bbd44e69cb8906b5122d8ea7f50f2ab2, created at: 2022-06-15T15:17:16.757823\n",
      "dataset 36. name is: FastQC on data 74: Webpage, deleted: False, dataset id: bbd44e69cb8906b5d78877ef0228a0ad, created at: 2022-06-15T15:17:16.757817\n",
      "dataset 37. name is: FastQC on data 74: RawData, deleted: False, dataset id: bbd44e69cb8906b59ef0cf4fb4b0434a, created at: 2022-06-15T15:16:05.761030\n",
      "dataset 38. name is: FastQC on data 74: Webpage, deleted: False, dataset id: bbd44e69cb8906b50f2ea959f5101e17, created at: 2022-06-15T15:16:05.761023\n",
      "dataset 39. name is: FastQC on data 74: RawData, deleted: False, dataset id: bbd44e69cb8906b5a94c61abd79c8a28, created at: 2022-06-15T15:12:08.062605\n",
      "dataset 40. name is: FastQC on data 74: Webpage, deleted: False, dataset id: bbd44e69cb8906b5a2fd7c8185c0c999, created at: 2022-06-15T15:12:08.062598\n",
      "dataset 41. name is: FastQC on data 74: RawData, deleted: False, dataset id: bbd44e69cb8906b5a3b7106876d3ba6a, created at: 2022-06-15T15:00:18.495187\n",
      "dataset 42. name is: FastQC on data 74: Webpage, deleted: False, dataset id: bbd44e69cb8906b50b1109ae0621c7d0, created at: 2022-06-15T15:00:18.495154\n",
      "dataset 43. name is: FastQC on data 74: RawData, deleted: False, dataset id: bbd44e69cb8906b503815bc545cab1d6, created at: 2022-06-15T14:57:57.333048\n",
      "dataset 44. name is: FastQC on data 74: Webpage, deleted: False, dataset id: bbd44e69cb8906b56344788a1601ca1e, created at: 2022-06-15T14:57:57.333024\n",
      "dataset 45. name is: sequence_ng, deleted: False, dataset id: bbd44e69cb8906b509e1d2e79906330c, created at: 2022-06-14T17:45:03.453237\n",
      "dataset 46. name is: fastq_1_ng, deleted: False, dataset id: bbd44e69cb8906b51a4ae4ab9294c008, created at: 2022-06-14T17:44:55.109856\n",
      "dataset 47. name is: fastq_2_ng, deleted: False, dataset id: bbd44e69cb8906b51dfbe7e9722be410, created at: 2022-06-14T17:44:42.254868\n",
      "dataset 48. name is: annotation, deleted: False, dataset id: bbd44e69cb8906b5ab6a077705ce0829, created at: 2022-06-14T17:40:35.276927\n",
      "dataset 49. name is: genome_sequence.fasta, deleted: False, dataset id: bbd44e69cb8906b52fa76e4af762e2cc, created at: 2022-06-14T17:39:06.796815\n",
      "dataset 50. name is: toy_SRR5152513_2.fastq, deleted: False, dataset id: bbd44e69cb8906b5f7ffff78c3c83123, created at: 2022-06-14T17:38:15.769166\n",
      "dataset 51. name is: toy_SRR5152513_1.fastq, deleted: False, dataset id: bbd44e69cb8906b5d2463f4421381433, created at: 2022-06-14T17:37:31.114841\n",
      "dataset 52. name is: toy_SRR5152513_1.fastq, deleted: False, dataset id: bbd44e69cb8906b5d4afedb3e7f3098e, created at: 2022-05-08T20:22:22.580460\n",
      "dataset 53. name is: toy_SRR5152513_1.fastq, deleted: False, dataset id: bbd44e69cb8906b52152265a9a8cd0e7, created at: 2022-05-08T20:22:08.484132\n",
      "dataset 54. name is: toy_SRR5152513_1.fastq, deleted: False, dataset id: bbd44e69cb8906b57b48e8a1879dd2cd, created at: 2022-05-08T20:20:58.441040\n",
      "dataset 55. name is: toy_SRR5152513_1.fastq, deleted: False, dataset id: bbd44e69cb8906b5240164621b5d27b7, created at: 2022-05-08T20:20:34.232235\n",
      "dataset 56. name is: toy_SRR5152513_1.fastq, deleted: True, dataset id: bbd44e69cb8906b506058c4435b1294b, created at: 2022-05-08T19:45:16.903861\n",
      "dataset 57. name is: Trim Galore! on data 1: trimmed reads, deleted: True, dataset id: bbd44e69cb8906b510dcce40d7cdfd1e, created at: 2022-04-28T17:57:03.318644\n",
      "dataset 58. name is: genome_sequence.fasta, deleted: True, dataset id: bbd44e69cb8906b565cde45a6ba4ef9a, created at: 2022-04-28T17:55:15.645780\n",
      "dataset 59. name is: genome_annotation.gff3, deleted: True, dataset id: bbd44e69cb8906b5694de2059cdb746d, created at: 2022-04-28T17:54:44.804603\n",
      "dataset 60. name is: toy_SRR5152513_1.fastq, deleted: True, dataset id: bbd44e69cb8906b561bb56be284d9e34, created at: 2022-04-28T17:54:38.869993\n"
     ]
    }
   ],
   "source": [
    "preprocessing.get_datasets(\"77d77febf1e1394a\")"
   ],
   "metadata": {
    "collapsed": false,
    "pycharm": {
     "name": "#%%\n"
    }
   }
  },
  {
   "cell_type": "markdown",
   "source": [
    "To get information about a specific dataset, you can use the following code. Usually, id will be used as parameter for different commands, as you will see in next sections. This output reveals everything you could want to know about a dataset. You have two ways to run the method, one is using the id of the dataset, and the other is using the name of the dataset."
   ],
   "metadata": {
    "collapsed": false,
    "pycharm": {
     "name": "#%% md\n"
    }
   }
  },
  {
   "cell_type": "code",
   "execution_count": 15,
   "outputs": [
    {
     "name": "stdout",
     "output_type": "stream",
     "text": [
      "information about the file with the id bbd44e69cb8906b561bb56be284d9e34 was found!\n",
      "id: bbd44e69cb8906b561bb56be284d9e34\n",
      "name: toy_SRR5152513_1.fastq\n",
      "history_id: 77d77febf1e1394a\n",
      "hid: 1\n",
      "history_content_type: dataset\n",
      "deleted: True\n",
      "visible: True\n",
      "type_id: dataset-bbd44e69cb8906b561bb56be284d9e34\n",
      "type: file\n",
      "create_time: 2022-04-28T17:54:38.869993\n",
      "update_time: 2022-05-08T19:52:39.157089\n",
      "url: /api/histories/77d77febf1e1394a/contents/bbd44e69cb8906b561bb56be284d9e34\n",
      "tags: []\n",
      "dataset_id: bbd44e69cb8906b520e9df1531b26cb4\n",
      "state: ok\n",
      "extension: txt\n",
      "purged: True\n",
      "information about the file with the name toy_SRR5152513_1.fastq was found!\n",
      "id: bbd44e69cb8906b5d2463f4421381433\n",
      "name: toy_SRR5152513_1.fastq\n",
      "history_id: 77d77febf1e1394a\n",
      "hid: 10\n",
      "history_content_type: dataset\n",
      "deleted: False\n",
      "visible: True\n",
      "type_id: dataset-bbd44e69cb8906b5d2463f4421381433\n",
      "type: file\n",
      "create_time: 2022-06-14T17:37:31.114841\n",
      "update_time: 2022-06-14T17:38:16.042770\n",
      "url: /api/histories/77d77febf1e1394a/contents/bbd44e69cb8906b5d2463f4421381433\n",
      "tags: []\n",
      "dataset_id: bbd44e69cb8906b5b00148cac8331241\n",
      "state: ok\n",
      "extension: fastqsanger\n",
      "purged: False\n",
      "information about the file with the name toy_SRR5152513_1.fastq was found!\n",
      "id: bbd44e69cb8906b5d4afedb3e7f3098e\n",
      "name: toy_SRR5152513_1.fastq\n",
      "history_id: 77d77febf1e1394a\n",
      "hid: 9\n",
      "history_content_type: dataset\n",
      "deleted: False\n",
      "visible: True\n",
      "type_id: dataset-bbd44e69cb8906b5d4afedb3e7f3098e\n",
      "type: file\n",
      "create_time: 2022-05-08T20:22:22.580460\n",
      "update_time: 2022-05-08T20:23:06.412157\n",
      "url: /api/histories/77d77febf1e1394a/contents/bbd44e69cb8906b5d4afedb3e7f3098e\n",
      "tags: []\n",
      "dataset_id: bbd44e69cb8906b5c04dc2e7da4e164e\n",
      "state: ok\n",
      "extension: txt\n",
      "purged: False\n",
      "information about the file with the name toy_SRR5152513_1.fastq was found!\n",
      "id: bbd44e69cb8906b52152265a9a8cd0e7\n",
      "name: toy_SRR5152513_1.fastq\n",
      "history_id: 77d77febf1e1394a\n",
      "hid: 8\n",
      "history_content_type: dataset\n",
      "deleted: False\n",
      "visible: True\n",
      "type_id: dataset-bbd44e69cb8906b52152265a9a8cd0e7\n",
      "type: file\n",
      "create_time: 2022-05-08T20:22:08.484132\n",
      "update_time: 2022-05-08T20:22:50.395137\n",
      "url: /api/histories/77d77febf1e1394a/contents/bbd44e69cb8906b52152265a9a8cd0e7\n",
      "tags: []\n",
      "dataset_id: bbd44e69cb8906b5de9d0c8f54e9fa4e\n",
      "state: ok\n",
      "extension: txt\n",
      "purged: False\n",
      "information about the file with the name toy_SRR5152513_1.fastq was found!\n",
      "id: bbd44e69cb8906b57b48e8a1879dd2cd\n",
      "name: toy_SRR5152513_1.fastq\n",
      "history_id: 77d77febf1e1394a\n",
      "hid: 7\n",
      "history_content_type: dataset\n",
      "deleted: False\n",
      "visible: True\n",
      "type_id: dataset-bbd44e69cb8906b57b48e8a1879dd2cd\n",
      "type: file\n",
      "create_time: 2022-05-08T20:20:58.441040\n",
      "update_time: 2022-05-08T20:21:42.022477\n",
      "url: /api/histories/77d77febf1e1394a/contents/bbd44e69cb8906b57b48e8a1879dd2cd\n",
      "tags: []\n",
      "dataset_id: bbd44e69cb8906b59bb288c690c082ea\n",
      "state: ok\n",
      "extension: txt\n",
      "purged: False\n",
      "information about the file with the name toy_SRR5152513_1.fastq was found!\n",
      "id: bbd44e69cb8906b5240164621b5d27b7\n",
      "name: toy_SRR5152513_1.fastq\n",
      "history_id: 77d77febf1e1394a\n",
      "hid: 6\n",
      "history_content_type: dataset\n",
      "deleted: False\n",
      "visible: True\n",
      "type_id: dataset-bbd44e69cb8906b5240164621b5d27b7\n",
      "type: file\n",
      "create_time: 2022-05-08T20:20:34.232235\n",
      "update_time: 2022-05-08T20:21:13.460609\n",
      "url: /api/histories/77d77febf1e1394a/contents/bbd44e69cb8906b5240164621b5d27b7\n",
      "tags: []\n",
      "dataset_id: bbd44e69cb8906b5f3eec19da1a3070a\n",
      "state: ok\n",
      "extension: txt\n",
      "purged: False\n",
      "information about the file with the name toy_SRR5152513_1.fastq was found!\n",
      "id: bbd44e69cb8906b506058c4435b1294b\n",
      "name: toy_SRR5152513_1.fastq\n",
      "history_id: 77d77febf1e1394a\n",
      "hid: 5\n",
      "history_content_type: dataset\n",
      "deleted: True\n",
      "visible: True\n",
      "type_id: dataset-bbd44e69cb8906b506058c4435b1294b\n",
      "type: file\n",
      "create_time: 2022-05-08T19:45:16.903861\n",
      "update_time: 2022-05-08T19:52:13.101194\n",
      "url: /api/histories/77d77febf1e1394a/contents/bbd44e69cb8906b506058c4435b1294b\n",
      "tags: []\n",
      "dataset_id: bbd44e69cb8906b5c4e1b020e93f50b4\n",
      "state: ok\n",
      "extension: txt\n",
      "purged: True\n",
      "information about the file with the name toy_SRR5152513_1.fastq was found!\n",
      "id: bbd44e69cb8906b561bb56be284d9e34\n",
      "name: toy_SRR5152513_1.fastq\n",
      "history_id: 77d77febf1e1394a\n",
      "hid: 1\n",
      "history_content_type: dataset\n",
      "deleted: True\n",
      "visible: True\n",
      "type_id: dataset-bbd44e69cb8906b561bb56be284d9e34\n",
      "type: file\n",
      "create_time: 2022-04-28T17:54:38.869993\n",
      "update_time: 2022-05-08T19:52:39.157089\n",
      "url: /api/histories/77d77febf1e1394a/contents/bbd44e69cb8906b561bb56be284d9e34\n",
      "tags: []\n",
      "dataset_id: bbd44e69cb8906b520e9df1531b26cb4\n",
      "state: ok\n",
      "extension: txt\n",
      "purged: True\n"
     ]
    }
   ],
   "source": [
    "preprocessing.get_dataset(history_id= \"77d77febf1e1394a\", dataset_id=\"bbd44e69cb8906b561bb56be284d9e34\")\n",
    "#or\n",
    "preprocessing.get_dataset(history_id= \"77d77febf1e1394a\", file_name=\"toy_SRR5152513_1.fastq\")"
   ],
   "metadata": {
    "collapsed": false,
    "pycharm": {
     "name": "#%%\n"
    }
   }
  },
  {
   "cell_type": "markdown",
   "source": [
    "Now that you have a dataset, you should be able to run a desired tool in Galaxy. To do so, you need to specify the tool you want to run. To proccess the data in this workflow, the tools beeing used are:\n",
    "FastQC\n",
    "RNAStar\n",
    "FeatureCounts\n",
    "edgeR"
   ],
   "metadata": {
    "collapsed": false,
    "pycharm": {
     "name": "#%% md\n"
    }
   }
  },
  {
   "cell_type": "markdown",
   "source": [
    "Let's run the FastQC tool. It will give you a information about the generated dataset."
   ],
   "metadata": {
    "collapsed": false,
    "pycharm": {
     "name": "#%% md\n"
    }
   }
  },
  {
   "cell_type": "code",
   "execution_count": 18,
   "outputs": [
    {
     "name": "stdout",
     "output_type": "stream",
     "text": [
      "FastQC on data 74: Webpage was created in history 77d77febf1e1394a has id: bbd44e69cb8906b59ccddb077c1c7360\n",
      "FastQC on data 74: RawData was created in history 77d77febf1e1394a has id: bbd44e69cb8906b53ca7340eb466a705\n",
      "More information below:\n",
      "FastQC on data 75: Webpage was created in history 77d77febf1e1394a has id: bbd44e69cb8906b5630e9a0cd75b3e29\n",
      "FastQC on data 75: RawData was created in history 77d77febf1e1394a has id: bbd44e69cb8906b5c43d4dc917daf4ca\n",
      "More information below:\n"
     ]
    }
   ],
   "source": [
    "# id fastq_1_ng = \"bbd44e69cb8906b5e555944504c5c0e2\"\n",
    "# id fastq_2_ng = \"bbd44e69cb8906b59b3cb69dc1cd2969\"\n",
    "\n",
    "# FastQC on data xx\n",
    "fastq_output_1 = preprocessing.fastqc('bbd44e69cb8906b5e555944504c5c0e2', history_id='77d77febf1e1394a')\n",
    "fastq_output_2 = preprocessing.fastqc('bbd44e69cb8906b59b3cb69dc1cd2969', history_id='77d77febf1e1394a')"
   ],
   "metadata": {
    "collapsed": false,
    "pycharm": {
     "name": "#%%\n"
    }
   }
  },
  {
   "cell_type": "markdown",
   "source": [
    "You should save the output of the FastQC tool, in order to use it in the next steps. Important here would be the id of the generated dataset. To visualize information about the dataset, you can use the following command."
   ],
   "metadata": {
    "collapsed": false,
    "pycharm": {
     "name": "#%% md\n"
    }
   }
  },
  {
   "cell_type": "code",
   "execution_count": null,
   "outputs": [],
   "source": [
    "preprocessing.print(fastq_output_1)\n",
    "preprocessing.print(fastq_output_2)"
   ],
   "metadata": {
    "collapsed": false,
    "pycharm": {
     "name": "#%%\n"
    }
   }
  },
  {
   "cell_type": "markdown",
   "source": [
    "To make it as automated as possible, you can use the following code. Because what is going to matter is the id of the dataset created to run future tools."
   ],
   "metadata": {
    "collapsed": false,
    "pycharm": {
     "name": "#%% md\n"
    }
   }
  },
  {
   "cell_type": "code",
   "execution_count": null,
   "outputs": [],
   "source": [
    "fastq_output_1 = preprocessing.fastqc('bbd44e69cb8906b5e555944504c5c0e2', history_id='77d77febf1e1394a')['outputs']['id'] #save id of fastqc file\n"
   ],
   "metadata": {
    "collapsed": false,
    "pycharm": {
     "name": "#%%\n"
    }
   }
  },
  {
   "cell_type": "markdown",
   "source": [
    "The read sequences are now ready to be used with STAR - they will be aligned against the reference genome.\n",
    "To run it, you need to provide different ids, such as the id of the fastq file, id of the reference genome and also the id of the annotation file."
   ],
   "metadata": {
    "collapsed": false,
    "pycharm": {
     "name": "#%% md\n"
    }
   }
  },
  {
   "cell_type": "code",
   "execution_count": null,
   "outputs": [],
   "source": [
    "sequence = str(preprocessing.get_dataset_raw(history_id=\"77d77febf1e1394a\", file_name=\"sequence_ng\")['outputs']['id'])\n",
    "annotation = str(preprocessing.get_dataset_raw(history_id=\"77d77febf1e1394a\", file_name=\"annotation_ng\")['outputs']['id'])\n",
    "\n",
    "rna_star = preprocessing.rna_star(tool_params={\"SinglePaired\": \"paired\",\n",
    "                                            \"input1\": \"bbd44e69cb8906b5933e8be1b873a24c\", #fastq_1_ng\n",
    "                                            \"input2\": \"bbd44e69cb8906b5400fadedb4c5aeca\", #fastq2\n",
    "                                            \"FASTAfile\": sequence, #sequence\n",
    "                                            \"genomeSAindexNbases\": \"11\",\n",
    "                                            \"GTFfile\": annotation}, #annotation\n",
    "                                history_id=\"77d77febf1e1394a\")"
   ],
   "metadata": {
    "collapsed": false,
    "pycharm": {
     "name": "#%%\n"
    }
   }
  },
  {
   "cell_type": "markdown",
   "source": [
    "FeatureCounts will be used to quantify the gene expression. It will be runned against the reference genome."
   ],
   "metadata": {
    "collapsed": false,
    "pycharm": {
     "name": "#%% md\n"
    }
   }
  },
  {
   "cell_type": "code",
   "execution_count": null,
   "outputs": [],
   "source": [
    "feature_counts = preprocessing.feature_counts(tool_params={\"input1\":\"bbd44e69cb8906b5933e8be1b873a24c\", # fastq_1_ng (?)\n",
    "                                          \"GTFfile\": annotation['id']})"
   ],
   "metadata": {
    "collapsed": false,
    "pycharm": {
     "name": "#%%\n"
    }
   }
  },
  {
   "cell_type": "markdown",
   "source": [
    "After the FeatureCounts tool is runned, you will need to convert the results to TPM. To do so, a static method is provided, you will need to download the file created in the previous step."
   ],
   "metadata": {
    "collapsed": false,
    "pycharm": {
     "name": "#%% md\n"
    }
   }
  },
  {
   "cell_type": "code",
   "execution_count": null,
   "outputs": [],
   "source": [
    "dataset_id = feature_counts['outputs']['id']\n",
    "preprocessing.download_data(dataset_id, file_path=None, use_default_filename=True, require_ok_state=True,\n",
    "                      maxwait=12000)\n",
    "output = preprocessing.calculate_tpm(feature_counts_output, save_path, name_of_file)"
   ],
   "metadata": {
    "collapsed": false,
    "pycharm": {
     "name": "#%%\n"
    }
   }
  },
  {
   "cell_type": "markdown",
   "source": [
    "Upload the TPM to the history."
   ],
   "metadata": {
    "collapsed": false,
    "pycharm": {
     "name": "#%% md\n"
    }
   }
  },
  {
   "cell_type": "code",
   "execution_count": null,
   "outputs": [],
   "source": [
    "preprocessing.upload_data_history(output, history_id=\"77d77febf1e1394a\", name=\"tpm\", file_type=\"tsv\")"
   ],
   "metadata": {
    "collapsed": false,
    "pycharm": {
     "name": "#%%\n"
    }
   }
  },
  {
   "cell_type": "markdown",
   "source": [
    "Finally, edgeR will be used to analyze the data. Do not forget, again, to run it, you will need to provide the id of the TPM file."
   ],
   "metadata": {
    "collapsed": false,
    "pycharm": {
     "name": "#%% md\n"
    }
   }
  },
  {
   "cell_type": "code",
   "execution_count": null,
   "outputs": [],
   "source": [
    "### edgeR"
   ],
   "metadata": {
    "collapsed": false,
    "pycharm": {
     "name": "#%%\n"
    }
   }
  },
  {
   "cell_type": "markdown",
   "source": [],
   "metadata": {
    "collapsed": false,
    "pycharm": {
     "name": "#%% md\n"
    }
   }
  },
  {
   "cell_type": "markdown",
   "source": [
    "At this phase the data is ready to be integrated into a metabolic model. To do so, MewPy will be used, which is a Python library that allows to integrate data into a metabolic model. Two methods were implemented: GIMME and eFlux. To run both of them the gene expression dataset will be necessary (TPM file) to be integrated in a in house GEM.\n"
   ],
   "metadata": {
    "collapsed": false,
    "pycharm": {
     "name": "#%% md\n"
    }
   }
  },
  {
   "cell_type": "code",
   "execution_count": 17,
   "outputs": [
    {
     "name": "stdout",
     "output_type": "stream",
     "text": [
      "Model loaded\n"
     ]
    }
   ],
   "source": [
    "model = Integration(model=\"data/inputs/model_ngaditana.xml\")"
   ],
   "metadata": {
    "collapsed": false,
    "pycharm": {
     "name": "#%%\n"
    }
   }
  },
  {
   "cell_type": "code",
   "execution_count": 8,
   "outputs": [
    {
     "name": "stdout",
     "output_type": "stream",
     "text": [
      "<src.integration.Integration object at 0x7fb8588ce2e0>\n"
     ]
    }
   ],
   "source": [
    "model.gimme(expr=\"data/inputs/tpm_ngaditana.tsv\")"
   ],
   "metadata": {
    "collapsed": false,
    "pycharm": {
     "name": "#%%\n"
    }
   }
  },
  {
   "cell_type": "code",
   "execution_count": 16,
   "outputs": [
    {
     "ename": "NameError",
     "evalue": "name 'GIMME' is not defined",
     "output_type": "error",
     "traceback": [
      "\u001B[0;31m---------------------------------------------------------------------------\u001B[0m",
      "\u001B[0;31mNameError\u001B[0m                                 Traceback (most recent call last)",
      "\u001B[0;32m<ipython-input-16-3f1ff2105fe0>\u001B[0m in \u001B[0;36m<module>\u001B[0;34m\u001B[0m\n\u001B[0;32m----> 1\u001B[0;31m \u001B[0mmodel\u001B[0m\u001B[0;34m.\u001B[0m\u001B[0mgimme\u001B[0m\u001B[0;34m(\u001B[0m\u001B[0mexpr\u001B[0m\u001B[0;34m=\u001B[0m\u001B[0;34m\"data/inputs/tpm.tsv\"\u001B[0m\u001B[0;34m)\u001B[0m\u001B[0;34m\u001B[0m\u001B[0;34m\u001B[0m\u001B[0m\n\u001B[0m",
      "\u001B[0;32m~/Documents/GitHub/bioinformatics-project/src/integration.py\u001B[0m in \u001B[0;36mgimme\u001B[0;34m(self, expr, biomass, condition, cutoff, growth_frac, constraints, parsimonious, **kwargs)\u001B[0m\n\u001B[1;32m     27\u001B[0m         \u001B[0;34m:\u001B[0m\u001B[0mparam\u001B[0m \u001B[0mcutoff\u001B[0m\u001B[0;34m:\u001B[0m\u001B[0;34m\u001B[0m\u001B[0;34m\u001B[0m\u001B[0m\n\u001B[1;32m     28\u001B[0m         \u001B[0;34m:\u001B[0m\u001B[0mparam\u001B[0m \u001B[0mgrowth_frac\u001B[0m\u001B[0;34m:\u001B[0m\u001B[0;34m\u001B[0m\u001B[0;34m\u001B[0m\u001B[0m\n\u001B[0;32m---> 29\u001B[0;31m         \u001B[0;34m:\u001B[0m\u001B[0mparam\u001B[0m \u001B[0mconstraints\u001B[0m\u001B[0;34m:\u001B[0m\u001B[0;34m\u001B[0m\u001B[0;34m\u001B[0m\u001B[0m\n\u001B[0m\u001B[1;32m     30\u001B[0m         \u001B[0;34m:\u001B[0m\u001B[0mparam\u001B[0m \u001B[0mparsimonious\u001B[0m\u001B[0;34m:\u001B[0m\u001B[0;34m\u001B[0m\u001B[0;34m\u001B[0m\u001B[0m\n\u001B[1;32m     31\u001B[0m         \u001B[0;34m:\u001B[0m\u001B[0mparam\u001B[0m \u001B[0mkwargs\u001B[0m\u001B[0;34m:\u001B[0m\u001B[0;34m\u001B[0m\u001B[0;34m\u001B[0m\u001B[0m\n",
      "\u001B[0;31mNameError\u001B[0m: name 'GIMME' is not defined"
     ]
    }
   ],
   "source": [
    "model.gimme(expr=\"data/inputs/tpm.tsv\")"
   ],
   "metadata": {
    "collapsed": false,
    "pycharm": {
     "name": "#%%\n"
    }
   }
  },
  {
   "cell_type": "code",
   "execution_count": 19,
   "outputs": [
    {
     "ename": "ValueError",
     "evalue": "The model <builtins.str> has no defined simulator.",
     "output_type": "error",
     "traceback": [
      "\u001B[0;31m---------------------------------------------------------------------------\u001B[0m",
      "\u001B[0;31mValueError\u001B[0m                                Traceback (most recent call last)",
      "\u001B[0;32m<ipython-input-19-14619ea57c1b>\u001B[0m in \u001B[0;36m<module>\u001B[0;34m\u001B[0m\n\u001B[1;32m      5\u001B[0m \u001B[0;34m\u001B[0m\u001B[0m\n\u001B[1;32m      6\u001B[0m \u001B[0mexpr\u001B[0m \u001B[0;34m=\u001B[0m \u001B[0mpd\u001B[0m\u001B[0;34m.\u001B[0m\u001B[0mread_csv\u001B[0m\u001B[0;34m(\u001B[0m\u001B[0;34m\"data/inputs/tpm.tsv\"\u001B[0m\u001B[0;34m,\u001B[0m \u001B[0msep\u001B[0m\u001B[0;34m=\u001B[0m\u001B[0;34m\"\\t\"\u001B[0m\u001B[0;34m)\u001B[0m\u001B[0;34m\u001B[0m\u001B[0;34m\u001B[0m\u001B[0m\n\u001B[0;32m----> 7\u001B[0;31m \u001B[0mGIMME\u001B[0m\u001B[0;34m(\u001B[0m\u001B[0mmodel\u001B[0m\u001B[0;34m=\u001B[0m\u001B[0;34m\"data/inputs/model_ngaditana.xml\"\u001B[0m\u001B[0;34m,\u001B[0m \u001B[0mexpr\u001B[0m\u001B[0;34m=\u001B[0m\u001B[0mexpr\u001B[0m\u001B[0;34m)\u001B[0m\u001B[0;34m\u001B[0m\u001B[0;34m\u001B[0m\u001B[0m\n\u001B[0m\u001B[1;32m      8\u001B[0m \u001B[0;34m\u001B[0m\u001B[0m\n\u001B[1;32m      9\u001B[0m \u001B[0;34m\u001B[0m\u001B[0m\n",
      "\u001B[0;32m~/opt/anaconda3/lib/python3.8/site-packages/mewpy/omics/integration/gimme.py\u001B[0m in \u001B[0;36mGIMME\u001B[0;34m(model, expr, biomass, condition, cutoff, growth_frac, constraints, parsimonious, **kwargs)\u001B[0m\n\u001B[1;32m     35\u001B[0m         \u001B[0msim\u001B[0m \u001B[0;34m=\u001B[0m \u001B[0mmodel\u001B[0m\u001B[0;34m\u001B[0m\u001B[0;34m\u001B[0m\u001B[0m\n\u001B[1;32m     36\u001B[0m     \u001B[0;32melse\u001B[0m\u001B[0;34m:\u001B[0m\u001B[0;34m\u001B[0m\u001B[0;34m\u001B[0m\u001B[0m\n\u001B[0;32m---> 37\u001B[0;31m         \u001B[0msim\u001B[0m \u001B[0;34m=\u001B[0m \u001B[0mget_simulator\u001B[0m\u001B[0;34m(\u001B[0m\u001B[0mmodel\u001B[0m\u001B[0;34m)\u001B[0m\u001B[0;34m\u001B[0m\u001B[0;34m\u001B[0m\u001B[0m\n\u001B[0m\u001B[1;32m     38\u001B[0m \u001B[0;34m\u001B[0m\u001B[0m\n\u001B[1;32m     39\u001B[0m     \u001B[0mpp\u001B[0m \u001B[0;34m=\u001B[0m \u001B[0mPreprocessing\u001B[0m\u001B[0;34m(\u001B[0m\u001B[0msim\u001B[0m\u001B[0;34m,\u001B[0m \u001B[0mexpr\u001B[0m\u001B[0;34m)\u001B[0m\u001B[0;34m\u001B[0m\u001B[0;34m\u001B[0m\u001B[0m\n",
      "\u001B[0;32m~/opt/anaconda3/lib/python3.8/site-packages/mewpy/simulation/__init__.py\u001B[0m in \u001B[0;36mget_simulator\u001B[0;34m(model, envcond, constraints, reference, reset_solver)\u001B[0m\n\u001B[1;32m    146\u001B[0m \u001B[0;34m\u001B[0m\u001B[0m\n\u001B[1;32m    147\u001B[0m     \u001B[0;32mif\u001B[0m \u001B[0;32mnot\u001B[0m \u001B[0minstance\u001B[0m\u001B[0;34m:\u001B[0m\u001B[0;34m\u001B[0m\u001B[0;34m\u001B[0m\u001B[0m\n\u001B[0;32m--> 148\u001B[0;31m         \u001B[0;32mraise\u001B[0m \u001B[0mValueError\u001B[0m\u001B[0;34m(\u001B[0m\u001B[0;34mf\"The model <{name}> has no defined simulator.\"\u001B[0m\u001B[0;34m)\u001B[0m\u001B[0;34m\u001B[0m\u001B[0;34m\u001B[0m\u001B[0m\n\u001B[0m\u001B[1;32m    149\u001B[0m     \u001B[0;32mreturn\u001B[0m \u001B[0minstance\u001B[0m\u001B[0;34m\u001B[0m\u001B[0;34m\u001B[0m\u001B[0m\n\u001B[1;32m    150\u001B[0m \u001B[0;34m\u001B[0m\u001B[0m\n",
      "\u001B[0;31mValueError\u001B[0m: The model <builtins.str> has no defined simulator."
     ]
    }
   ],
   "source": [
    "import pandas as pd\n",
    "from mewpy.omics.integration.gimme import GIMME\n",
    "\n",
    "\n",
    "\n",
    "expr = pd.read_csv(\"data/inputs/tpm.tsv\", sep=\"\\t\")\n",
    "GIMME(model=\"data/inputs/model_ngaditana.xml\", expr=expr)\n",
    "\n",
    "\n"
   ],
   "metadata": {
    "collapsed": false,
    "pycharm": {
     "name": "#%%\n"
    }
   }
  },
  {
   "cell_type": "code",
   "execution_count": 20,
   "outputs": [
    {
     "name": "stdout",
     "output_type": "stream",
     "text": [
      "Model loaded\n"
     ]
    },
    {
     "ename": "NameError",
     "evalue": "name 'GIMME' is not defined",
     "output_type": "error",
     "traceback": [
      "\u001B[0;31m---------------------------------------------------------------------------\u001B[0m",
      "\u001B[0;31mNameError\u001B[0m                                 Traceback (most recent call last)",
      "\u001B[0;32m<ipython-input-20-73b1b7f9809a>\u001B[0m in \u001B[0;36m<module>\u001B[0;34m\u001B[0m\n\u001B[1;32m      1\u001B[0m \u001B[0;32mfrom\u001B[0m \u001B[0msrc\u001B[0m\u001B[0;34m.\u001B[0m\u001B[0mintegration\u001B[0m \u001B[0;32mimport\u001B[0m \u001B[0mIntegration\u001B[0m\u001B[0;34m\u001B[0m\u001B[0;34m\u001B[0m\u001B[0m\n\u001B[1;32m      2\u001B[0m \u001B[0mmodel\u001B[0m \u001B[0;34m=\u001B[0m \u001B[0mIntegration\u001B[0m\u001B[0;34m(\u001B[0m\u001B[0mmodel\u001B[0m\u001B[0;34m=\u001B[0m\u001B[0;34m\"data/inputs/model_ngaditana.xml\"\u001B[0m\u001B[0;34m)\u001B[0m\u001B[0;34m\u001B[0m\u001B[0;34m\u001B[0m\u001B[0m\n\u001B[0;32m----> 3\u001B[0;31m \u001B[0mmodel\u001B[0m\u001B[0;34m.\u001B[0m\u001B[0mgimme\u001B[0m\u001B[0;34m(\u001B[0m\u001B[0mexpr\u001B[0m\u001B[0;34m=\u001B[0m\u001B[0;34m\"data/inputs/tpm_ngaditana.tsv\"\u001B[0m\u001B[0;34m)\u001B[0m\u001B[0;34m\u001B[0m\u001B[0;34m\u001B[0m\u001B[0m\n\u001B[0m\u001B[1;32m      4\u001B[0m \u001B[0;34m\u001B[0m\u001B[0m\n",
      "\u001B[0;32m~/Documents/GitHub/bioinformatics-project/src/integration.py\u001B[0m in \u001B[0;36mgimme\u001B[0;34m(self, expr, biomass, condition, cutoff, growth_frac, constraints, parsimonious, **kwargs)\u001B[0m\n\u001B[1;32m     27\u001B[0m         \u001B[0;34m:\u001B[0m\u001B[0mparam\u001B[0m \u001B[0mbiomass\u001B[0m\u001B[0;34m:\u001B[0m\u001B[0;34m\u001B[0m\u001B[0;34m\u001B[0m\u001B[0m\n\u001B[1;32m     28\u001B[0m         \u001B[0;34m:\u001B[0m\u001B[0mparam\u001B[0m \u001B[0mcondition\u001B[0m\u001B[0;34m:\u001B[0m\u001B[0;34m\u001B[0m\u001B[0;34m\u001B[0m\u001B[0m\n\u001B[0;32m---> 29\u001B[0;31m         \u001B[0;34m:\u001B[0m\u001B[0mparam\u001B[0m \u001B[0mcutoff\u001B[0m\u001B[0;34m:\u001B[0m\u001B[0;34m\u001B[0m\u001B[0;34m\u001B[0m\u001B[0m\n\u001B[0m\u001B[1;32m     30\u001B[0m         \u001B[0;34m:\u001B[0m\u001B[0mparam\u001B[0m \u001B[0mgrowth_frac\u001B[0m\u001B[0;34m:\u001B[0m\u001B[0;34m\u001B[0m\u001B[0;34m\u001B[0m\u001B[0m\n\u001B[1;32m     31\u001B[0m         \u001B[0;34m:\u001B[0m\u001B[0mparam\u001B[0m \u001B[0mconstraints\u001B[0m\u001B[0;34m:\u001B[0m\u001B[0;34m\u001B[0m\u001B[0;34m\u001B[0m\u001B[0m\n",
      "\u001B[0;31mNameError\u001B[0m: name 'GIMME' is not defined"
     ]
    }
   ],
   "source": [
    "from src.integration import Integration\n",
    "model = Integration(model=\"data/inputs/model_ngaditana.xml\")\n",
    "model.gimme(expr=\"data/inputs/tpm_ngaditana.tsv\")\n"
   ],
   "metadata": {
    "collapsed": false,
    "pycharm": {
     "name": "#%%\n"
    }
   }
  },
  {
   "cell_type": "code",
   "execution_count": 1,
   "outputs": [
    {
     "name": "stdout",
     "output_type": "stream",
     "text": [
      "Set parameter Username\n",
      "Academic license - for non-commercial use only - expires 2022-12-11\n"
     ]
    }
   ],
   "source": [
    "import pandas as pd\n",
    "from reframed.io.sbml import load_cbmodel\n",
    "from mewpy.omics.integration.eflux import eFlux\n",
    "from mewpy.omics.integration.gimme import GIMME\n",
    "import numpy as np\n",
    "import os\n",
    "\n",
    "model = load_cbmodel(\"data/inputs/model_ngaditana.xml\")\n"
   ],
   "metadata": {
    "collapsed": false,
    "pycharm": {
     "name": "#%%\n"
    }
   }
  },
  {
   "cell_type": "code",
   "execution_count": 7,
   "outputs": [
    {
     "name": "stdout",
     "output_type": "stream",
     "text": [
      "Model loaded\n",
      "Metabolites:\n",
      "C_00001 191\n",
      "C_00002 668\n",
      "C_00003 484\n",
      "C_00004 1189\n",
      "C_00005 748\n",
      "C_00006 186\n",
      "C_00007 41\n",
      "C_00008 108\n",
      "C_00009 52\n",
      "C_00010 1\n",
      "C_00011 1\n",
      "\n",
      "Reactions:\n",
      "enzymatic 2664\n",
      "transport 529\n",
      "exchange 199\n",
      "sink 0\n",
      "other 124\n",
      "None\n"
     ]
    }
   ],
   "source": [
    "from src.integration import Integration\n",
    "\n",
    "model1 = Integration(model=\"data/inputs/model_ngaditana.xml\")"
   ],
   "metadata": {
    "collapsed": false,
    "pycharm": {
     "name": "#%%\n"
    }
   }
  },
  {
   "cell_type": "code",
   "execution_count": 28,
   "outputs": [
    {
     "ename": "TypeError",
     "evalue": "__init__() missing 2 required positional arguments: 'conditions' and 'expression'",
     "output_type": "error",
     "traceback": [
      "\u001B[0;31m---------------------------------------------------------------------------\u001B[0m",
      "\u001B[0;31mTypeError\u001B[0m                                 Traceback (most recent call last)",
      "\u001B[0;32m<ipython-input-28-5dc75338733c>\u001B[0m in \u001B[0;36m<module>\u001B[0;34m\u001B[0m\n\u001B[1;32m      6\u001B[0m \u001B[0;31m#make expr as expressionSet\u001B[0m\u001B[0;34m\u001B[0m\u001B[0;34m\u001B[0m\u001B[0;34m\u001B[0m\u001B[0m\n\u001B[1;32m      7\u001B[0m \u001B[0;32mfrom\u001B[0m \u001B[0mmewpy\u001B[0m\u001B[0;34m.\u001B[0m\u001B[0momics\u001B[0m\u001B[0;34m.\u001B[0m\u001B[0mexpression\u001B[0m \u001B[0;32mimport\u001B[0m \u001B[0mExpressionSet\u001B[0m\u001B[0;34m\u001B[0m\u001B[0;34m\u001B[0m\u001B[0m\n\u001B[0;32m----> 8\u001B[0;31m \u001B[0mexpr\u001B[0m \u001B[0;34m=\u001B[0m \u001B[0mExpressionSet\u001B[0m\u001B[0;34m(\u001B[0m\u001B[0mexpr\u001B[0m\u001B[0;34m)\u001B[0m\u001B[0;34m\u001B[0m\u001B[0;34m\u001B[0m\u001B[0m\n\u001B[0m",
      "\u001B[0;31mTypeError\u001B[0m: __init__() missing 2 required positional arguments: 'conditions' and 'expression'"
     ]
    }
   ],
   "source": [
    "expr = pd.read_csv('data/inputs/tpm.tsv', sep='\\t')\n",
    "# columns = expr.columns\n",
    "# expr = expr.values\n",
    "# expr.columns\n",
    "expr = pd.DataFrame(expr)\n",
    "#make expr as expressionSet\n",
    "from mewpy.omics.expression import ExpressionSet\n",
    "expr = ExpressionSet"
   ],
   "metadata": {
    "collapsed": false,
    "pycharm": {
     "name": "#%%\n"
    }
   }
  },
  {
   "cell_type": "code",
   "execution_count": 1,
   "outputs": [
    {
     "name": "stdout",
     "output_type": "stream",
     "text": [
      "Set parameter Username\n",
      "Academic license - for non-commercial use only - expires 2022-12-11\n"
     ]
    }
   ],
   "source": [
    "# read expression data as numpy array\n",
    "# xpression set. The expression values are a numpy array with shape (len(identifiers) x len(conditions)).\n",
    "# The identifiers are the gene names and the conditions are the condition names.\n",
    "# The expression values are the expression values for the gene in the condition.\n",
    "from mewpy.omics.expression import ExpressionSet\n",
    "\n"
   ],
   "metadata": {
    "collapsed": false,
    "pycharm": {
     "name": "#%%\n"
    }
   }
  },
  {
   "cell_type": "code",
   "execution_count": 2,
   "outputs": [
    {
     "ename": "NameError",
     "evalue": "name 'expr' is not defined",
     "output_type": "error",
     "traceback": [
      "\u001B[0;31m---------------------------------------------------------------------------\u001B[0m",
      "\u001B[0;31mNameError\u001B[0m                                 Traceback (most recent call last)",
      "\u001B[0;32m<ipython-input-2-dae153af1fb4>\u001B[0m in \u001B[0;36m<module>\u001B[0;34m\u001B[0m\n\u001B[1;32m      2\u001B[0m \u001B[0;31m# xpression set. The expression values are a numpy array with shape (len(identifiers) x len(conditions)).\u001B[0m\u001B[0;34m\u001B[0m\u001B[0;34m\u001B[0m\u001B[0;34m\u001B[0m\u001B[0m\n\u001B[1;32m      3\u001B[0m \u001B[0;34m\u001B[0m\u001B[0m\n\u001B[0;32m----> 4\u001B[0;31m \u001B[0mexpr\u001B[0m \u001B[0;34m=\u001B[0m \u001B[0mExpressionSet\u001B[0m\u001B[0;34m(\u001B[0m\u001B[0mexpr\u001B[0m\u001B[0;34m)\u001B[0m\u001B[0;34m\u001B[0m\u001B[0;34m\u001B[0m\u001B[0m\n\u001B[0m",
      "\u001B[0;31mNameError\u001B[0m: name 'expr' is not defined"
     ]
    }
   ],
   "source": [
    "# read expression data as numpy array\n",
    "# xpression set. The expression values are a numpy array with shape (len(identifiers) x len(conditions)).\n",
    "\n",
    "expr = read"
   ],
   "metadata": {
    "collapsed": false,
    "pycharm": {
     "name": "#%%\n"
    }
   }
  },
  {
   "cell_type": "code",
   "execution_count": 23,
   "outputs": [
    {
     "ename": "AttributeError",
     "evalue": "'DataFrame' object has no attribute 'get_condition'",
     "output_type": "error",
     "traceback": [
      "\u001B[0;31m---------------------------------------------------------------------------\u001B[0m",
      "\u001B[0;31mAttributeError\u001B[0m                            Traceback (most recent call last)",
      "\u001B[0;32m<ipython-input-23-a5b572b4ff19>\u001B[0m in \u001B[0;36m<module>\u001B[0;34m\u001B[0m\n\u001B[0;32m----> 1\u001B[0;31m \u001B[0meFlux\u001B[0m\u001B[0;34m(\u001B[0m\u001B[0mmodel\u001B[0m\u001B[0;34m=\u001B[0m\u001B[0mmodel\u001B[0m\u001B[0;34m,\u001B[0m \u001B[0mexpr\u001B[0m\u001B[0;34m=\u001B[0m\u001B[0mexpr\u001B[0m\u001B[0;34m)\u001B[0m\u001B[0;34m\u001B[0m\u001B[0;34m\u001B[0m\u001B[0m\n\u001B[0m",
      "\u001B[0;32m~/opt/anaconda3/lib/python3.8/site-packages/mewpy/omics/integration/eflux.py\u001B[0m in \u001B[0;36meFlux\u001B[0;34m(model, expr, condition, scale_rxn, scale_value, constraints, parsimonious, **kwargs)\u001B[0m\n\u001B[1;32m     29\u001B[0m     \u001B[0mpp\u001B[0m \u001B[0;34m=\u001B[0m \u001B[0mPreprocessing\u001B[0m\u001B[0;34m(\u001B[0m\u001B[0msim\u001B[0m\u001B[0;34m,\u001B[0m \u001B[0mexpr\u001B[0m\u001B[0;34m)\u001B[0m\u001B[0;34m\u001B[0m\u001B[0;34m\u001B[0m\u001B[0m\n\u001B[1;32m     30\u001B[0m \u001B[0;34m\u001B[0m\u001B[0m\n\u001B[0;32m---> 31\u001B[0;31m     \u001B[0mrxn_exp\u001B[0m \u001B[0;34m=\u001B[0m \u001B[0mpp\u001B[0m\u001B[0;34m.\u001B[0m\u001B[0mreactions_expression\u001B[0m\u001B[0;34m(\u001B[0m\u001B[0mcondition\u001B[0m\u001B[0;34m)\u001B[0m\u001B[0;34m\u001B[0m\u001B[0;34m\u001B[0m\u001B[0m\n\u001B[0m\u001B[1;32m     32\u001B[0m     \u001B[0mmax_exp\u001B[0m \u001B[0;34m=\u001B[0m \u001B[0mmax\u001B[0m\u001B[0;34m(\u001B[0m\u001B[0mrxn_exp\u001B[0m\u001B[0;34m.\u001B[0m\u001B[0mvalues\u001B[0m\u001B[0;34m(\u001B[0m\u001B[0;34m)\u001B[0m\u001B[0;34m)\u001B[0m\u001B[0;34m\u001B[0m\u001B[0;34m\u001B[0m\u001B[0m\n\u001B[1;32m     33\u001B[0m     \u001B[0mbounds\u001B[0m \u001B[0;34m=\u001B[0m \u001B[0;34m{\u001B[0m\u001B[0;34m}\u001B[0m\u001B[0;34m\u001B[0m\u001B[0;34m\u001B[0m\u001B[0m\n",
      "\u001B[0;32m~/opt/anaconda3/lib/python3.8/site-packages/mewpy/omics/expression.py\u001B[0m in \u001B[0;36mreactions_expression\u001B[0;34m(self, condition, and_func, or_func)\u001B[0m\n\u001B[1;32m    269\u001B[0m \u001B[0;34m\u001B[0m\u001B[0m\n\u001B[1;32m    270\u001B[0m     \u001B[0;32mdef\u001B[0m \u001B[0mreactions_expression\u001B[0m\u001B[0;34m(\u001B[0m\u001B[0mself\u001B[0m\u001B[0;34m,\u001B[0m \u001B[0mcondition\u001B[0m\u001B[0;34m,\u001B[0m \u001B[0mand_func\u001B[0m\u001B[0;34m=\u001B[0m\u001B[0;32mNone\u001B[0m\u001B[0;34m,\u001B[0m \u001B[0mor_func\u001B[0m\u001B[0;34m=\u001B[0m\u001B[0;32mNone\u001B[0m\u001B[0;34m)\u001B[0m\u001B[0;34m:\u001B[0m\u001B[0;34m\u001B[0m\u001B[0;34m\u001B[0m\u001B[0m\n\u001B[0;32m--> 271\u001B[0;31m         \u001B[0mexp\u001B[0m \u001B[0;34m=\u001B[0m \u001B[0mself\u001B[0m\u001B[0;34m.\u001B[0m\u001B[0mdata\u001B[0m\u001B[0;34m.\u001B[0m\u001B[0mget_condition\u001B[0m\u001B[0;34m(\u001B[0m\u001B[0mcondition\u001B[0m\u001B[0;34m,\u001B[0m \u001B[0mformat\u001B[0m\u001B[0;34m=\u001B[0m\u001B[0;34m'dict'\u001B[0m\u001B[0;34m)\u001B[0m\u001B[0;34m\u001B[0m\u001B[0;34m\u001B[0m\u001B[0m\n\u001B[0m\u001B[1;32m    272\u001B[0m         and_func = self._conf.get(\n\u001B[1;32m    273\u001B[0m             'and_func', min) if and_func is None else and_func\n",
      "\u001B[0;32m~/opt/anaconda3/lib/python3.8/site-packages/pandas/core/generic.py\u001B[0m in \u001B[0;36m__getattr__\u001B[0;34m(self, name)\u001B[0m\n\u001B[1;32m   5463\u001B[0m             \u001B[0;32mif\u001B[0m \u001B[0mself\u001B[0m\u001B[0;34m.\u001B[0m\u001B[0m_info_axis\u001B[0m\u001B[0;34m.\u001B[0m\u001B[0m_can_hold_identifiers_and_holds_name\u001B[0m\u001B[0;34m(\u001B[0m\u001B[0mname\u001B[0m\u001B[0;34m)\u001B[0m\u001B[0;34m:\u001B[0m\u001B[0;34m\u001B[0m\u001B[0;34m\u001B[0m\u001B[0m\n\u001B[1;32m   5464\u001B[0m                 \u001B[0;32mreturn\u001B[0m \u001B[0mself\u001B[0m\u001B[0;34m[\u001B[0m\u001B[0mname\u001B[0m\u001B[0;34m]\u001B[0m\u001B[0;34m\u001B[0m\u001B[0;34m\u001B[0m\u001B[0m\n\u001B[0;32m-> 5465\u001B[0;31m             \u001B[0;32mreturn\u001B[0m \u001B[0mobject\u001B[0m\u001B[0;34m.\u001B[0m\u001B[0m__getattribute__\u001B[0m\u001B[0;34m(\u001B[0m\u001B[0mself\u001B[0m\u001B[0;34m,\u001B[0m \u001B[0mname\u001B[0m\u001B[0;34m)\u001B[0m\u001B[0;34m\u001B[0m\u001B[0;34m\u001B[0m\u001B[0m\n\u001B[0m\u001B[1;32m   5466\u001B[0m \u001B[0;34m\u001B[0m\u001B[0m\n\u001B[1;32m   5467\u001B[0m     \u001B[0;32mdef\u001B[0m \u001B[0m__setattr__\u001B[0m\u001B[0;34m(\u001B[0m\u001B[0mself\u001B[0m\u001B[0;34m,\u001B[0m \u001B[0mname\u001B[0m\u001B[0;34m:\u001B[0m \u001B[0mstr\u001B[0m\u001B[0;34m,\u001B[0m \u001B[0mvalue\u001B[0m\u001B[0;34m)\u001B[0m \u001B[0;34m->\u001B[0m \u001B[0;32mNone\u001B[0m\u001B[0;34m:\u001B[0m\u001B[0;34m\u001B[0m\u001B[0;34m\u001B[0m\u001B[0m\n",
      "\u001B[0;31mAttributeError\u001B[0m: 'DataFrame' object has no attribute 'get_condition'"
     ]
    }
   ],
   "source": [
    "eFlux(model=model, expr=expr)"
   ],
   "metadata": {
    "collapsed": false,
    "pycharm": {
     "name": "#%%\n"
    }
   }
  },
  {
   "cell_type": "code",
   "execution_count": null,
   "outputs": [],
   "source": [],
   "metadata": {
    "collapsed": false,
    "pycharm": {
     "name": "#%%\n"
    }
   }
  },
  {
   "cell_type": "code",
   "execution_count": 4,
   "outputs": [
    {
     "name": "stdout",
     "output_type": "stream",
     "text": [
      "Set parameter Username\n",
      "Academic license - for non-commercial use only - expires 2022-12-11\n"
     ]
    }
   ],
   "source": [
    "from mewpy.omics.expression import ExpressionSet\n",
    "import numpy as np\n",
    "import pandas as pd\n",
    "\n",
    "expr = pd.DataFrame(expr)\n",
    "\n",
    "indetifiers: list = expr.columns\n",
    "expression: np.ndarray = expr.values\n",
    "conditions: list = expr.index\n",
    "\n"
   ],
   "metadata": {
    "collapsed": false,
    "pycharm": {
     "name": "#%%\n"
    }
   }
  },
  {
   "cell_type": "code",
   "execution_count": 10,
   "outputs": [
    {
     "data": {
      "text/plain": "RangeIndex(start=0, stop=1, step=1)"
     },
     "execution_count": 10,
     "metadata": {},
     "output_type": "execute_result"
    }
   ],
   "source": [
    "expr."
   ],
   "metadata": {
    "collapsed": false,
    "pycharm": {
     "name": "#%%\n"
    }
   }
  },
  {
   "cell_type": "code",
   "execution_count": 8,
   "outputs": [
    {
     "ename": "ValueError",
     "evalue": "The shape of the expression (11262, 1) does not match the expression and conditions sizes (1,11262)",
     "output_type": "error",
     "traceback": [
      "\u001B[0;31m---------------------------------------------------------------------------\u001B[0m",
      "\u001B[0;31mValueError\u001B[0m                                Traceback (most recent call last)",
      "\u001B[0;32m<ipython-input-8-ca50c83b188f>\u001B[0m in \u001B[0;36m<module>\u001B[0;34m\u001B[0m\n\u001B[1;32m      2\u001B[0m \u001B[0mexpr_val\u001B[0m \u001B[0;34m=\u001B[0m \u001B[0mnp\u001B[0m\u001B[0;34m.\u001B[0m\u001B[0marray\u001B[0m\u001B[0;34m(\u001B[0m\u001B[0mexpr\u001B[0m\u001B[0;34m.\u001B[0m\u001B[0mvalues\u001B[0m\u001B[0;34m)\u001B[0m\u001B[0;34m\u001B[0m\u001B[0;34m\u001B[0m\u001B[0m\n\u001B[1;32m      3\u001B[0m \u001B[0;34m\u001B[0m\u001B[0m\n\u001B[0;32m----> 4\u001B[0;31m \u001B[0mExpressionSet\u001B[0m\u001B[0;34m(\u001B[0m\u001B[0midentifiers\u001B[0m\u001B[0;34m=\u001B[0m\u001B[0mindetifiers\u001B[0m\u001B[0;34m,\u001B[0m \u001B[0mconditions\u001B[0m\u001B[0;34m=\u001B[0m\u001B[0mconditions\u001B[0m\u001B[0;34m,\u001B[0m \u001B[0mexpression\u001B[0m\u001B[0;34m=\u001B[0m\u001B[0mexpr_val\u001B[0m\u001B[0;34m)\u001B[0m\u001B[0;34m\u001B[0m\u001B[0;34m\u001B[0m\u001B[0m\n\u001B[0m",
      "\u001B[0;32m~/opt/anaconda3/lib/python3.8/site-packages/mewpy/omics/expression.py\u001B[0m in \u001B[0;36m__init__\u001B[0;34m(self, identifiers, conditions, expression, p_values)\u001B[0m\n\u001B[1;32m     23\u001B[0m         \u001B[0mm\u001B[0m \u001B[0;34m=\u001B[0m \u001B[0mlen\u001B[0m\u001B[0;34m(\u001B[0m\u001B[0mconditions\u001B[0m\u001B[0;34m)\u001B[0m\u001B[0;34m\u001B[0m\u001B[0;34m\u001B[0m\u001B[0m\n\u001B[1;32m     24\u001B[0m         \u001B[0;32mif\u001B[0m \u001B[0mexpression\u001B[0m\u001B[0;34m.\u001B[0m\u001B[0mshape\u001B[0m \u001B[0;34m!=\u001B[0m \u001B[0;34m(\u001B[0m\u001B[0mn\u001B[0m\u001B[0;34m,\u001B[0m \u001B[0mm\u001B[0m\u001B[0;34m)\u001B[0m\u001B[0;34m:\u001B[0m\u001B[0;34m\u001B[0m\u001B[0;34m\u001B[0m\u001B[0m\n\u001B[0;32m---> 25\u001B[0;31m             raise ValueError(\n\u001B[0m\u001B[1;32m     26\u001B[0m                 \u001B[0;34mf\"The shape of the expression {expression.shape} does not \"\u001B[0m\u001B[0;34m\u001B[0m\u001B[0;34m\u001B[0m\u001B[0m\n\u001B[1;32m     27\u001B[0m                 f\"match the expression and conditions sizes ({n},{m})\")\n",
      "\u001B[0;31mValueError\u001B[0m: The shape of the expression (11262, 1) does not match the expression and conditions sizes (1,11262)"
     ]
    }
   ],
   "source": [
    "# The expr values are a numpy array with shape (len(identifiers) x len(conditions))\n",
    "expr_val = np.array(expr.values)\n",
    "\n",
    "#ExpressionSet(identifiers=indetifiers, conditions=conditions, expression=expr_val)"
   ],
   "metadata": {
    "collapsed": false,
    "pycharm": {
     "name": "#%%\n"
    }
   }
  },
  {
   "cell_type": "code",
   "execution_count": 11,
   "outputs": [
    {
     "ename": "AttributeError",
     "evalue": "'numpy.ndarray' object has no attribute 'values'",
     "output_type": "error",
     "traceback": [
      "\u001B[0;31m---------------------------------------------------------------------------\u001B[0m",
      "\u001B[0;31mAttributeError\u001B[0m                            Traceback (most recent call last)",
      "\u001B[0;32m<ipython-input-11-8f1e8a7875af>\u001B[0m in \u001B[0;36m<module>\u001B[0;34m\u001B[0m\n\u001B[0;32m----> 1\u001B[0;31m \u001B[0mexpr_val\u001B[0m\u001B[0;34m.\u001B[0m\u001B[0mvalues\u001B[0m\u001B[0;34m\u001B[0m\u001B[0;34m\u001B[0m\u001B[0m\n\u001B[0m",
      "\u001B[0;31mAttributeError\u001B[0m: 'numpy.ndarray' object has no attribute 'values'"
     ]
    }
   ],
   "source": [
    "expr_val"
   ],
   "metadata": {
    "collapsed": false,
    "pycharm": {
     "name": "#%%\n"
    }
   }
  },
  {
   "cell_type": "code",
   "execution_count": 2,
   "outputs": [
    {
     "ename": "AttributeError",
     "evalue": "'_io.TextIOWrapper' object has no attribute 'columns'",
     "output_type": "error",
     "traceback": [
      "\u001B[0;31m---------------------------------------------------------------------------\u001B[0m",
      "\u001B[0;31mAttributeError\u001B[0m                            Traceback (most recent call last)",
      "\u001B[0;32m<ipython-input-2-8e0e308989dd>\u001B[0m in \u001B[0;36m<module>\u001B[0;34m\u001B[0m\n\u001B[1;32m      5\u001B[0m \u001B[0mexpr\u001B[0m \u001B[0;34m=\u001B[0m \u001B[0mopen\u001B[0m\u001B[0;34m(\u001B[0m\u001B[0;34m'data/inputs/tpm.tsv'\u001B[0m\u001B[0;34m,\u001B[0m \u001B[0;34m'r'\u001B[0m\u001B[0;34m)\u001B[0m\u001B[0;34m\u001B[0m\u001B[0;34m\u001B[0m\u001B[0m\n\u001B[1;32m      6\u001B[0m \u001B[0;34m\u001B[0m\u001B[0m\n\u001B[0;32m----> 7\u001B[0;31m \u001B[0mindetifiers\u001B[0m\u001B[0;34m:\u001B[0m \u001B[0mlist\u001B[0m \u001B[0;34m=\u001B[0m \u001B[0mexpr\u001B[0m\u001B[0;34m.\u001B[0m\u001B[0mcolumns\u001B[0m\u001B[0;34m\u001B[0m\u001B[0;34m\u001B[0m\u001B[0m\n\u001B[0m\u001B[1;32m      8\u001B[0m \u001B[0mexpression\u001B[0m\u001B[0;34m:\u001B[0m \u001B[0mnp\u001B[0m\u001B[0;34m.\u001B[0m\u001B[0mndarray\u001B[0m \u001B[0;34m=\u001B[0m \u001B[0mexpr\u001B[0m\u001B[0;34m.\u001B[0m\u001B[0mvalues\u001B[0m\u001B[0;34m\u001B[0m\u001B[0;34m\u001B[0m\u001B[0m\n\u001B[1;32m      9\u001B[0m \u001B[0mconditions\u001B[0m\u001B[0;34m:\u001B[0m \u001B[0mlist\u001B[0m \u001B[0;34m=\u001B[0m \u001B[0mexpr\u001B[0m\u001B[0;34m.\u001B[0m\u001B[0mindex\u001B[0m\u001B[0;34m\u001B[0m\u001B[0;34m\u001B[0m\u001B[0m\n",
      "\u001B[0;31mAttributeError\u001B[0m: '_io.TextIOWrapper' object has no attribute 'columns'"
     ]
    }
   ],
   "source": [
    "# read expr dataset as numpy array\n",
    "import numpy as np\n",
    "\n",
    "# read expression data as numpy array\n",
    "expr = open('data/inputs/tpm.tsv', 'r')\n",
    "\n",
    "indetifiers: list = expr.columns\n",
    "expression: np.ndarray = expr.values\n",
    "conditions: list = expr.index\n",
    "\n",
    "\n"
   ],
   "metadata": {
    "collapsed": false,
    "pycharm": {
     "name": "#%%\n"
    }
   }
  },
  {
   "cell_type": "code",
   "execution_count": 3,
   "outputs": [],
   "source": [
    "\n",
    "from mewpy.omics.expression import ExpressionSet\n",
    "import numpy as np\n",
    "import pandas as pd\n",
    "from src.integration import *\n",
    "\n",
    "# read data as numpy array\n",
    "expr = pd.read_csv('data/inputs/tpm.tsv', sep='\\t')\n",
    "\n",
    "# get size of the data\n",
    "n_genes = expr.shape[0]\n"
   ],
   "metadata": {
    "collapsed": false,
    "pycharm": {
     "name": "#%%\n"
    }
   }
  },
  {
   "cell_type": "code",
   "execution_count": 4,
   "outputs": [],
   "source": [
    "identifiers: list = expr['Geneid'].tolist()\n",
    "conditions: list = ['tpm']\n",
    "expression = expr['tpm'].to_numpy()[:, np.newaxis]\n",
    "\n",
    "set_expression = ExpressionSet(identifiers, conditions, expression)\n"
   ],
   "metadata": {
    "collapsed": false,
    "pycharm": {
     "name": "#%%\n"
    }
   }
  },
  {
   "cell_type": "code",
   "execution_count": 11,
   "outputs": [
    {
     "name": "stderr",
     "output_type": "stream",
     "text": [
      "/Users/josediogomoura/opt/anaconda3/lib/python3.8/site-packages/mewpy/util/parsing.py:439: FutureWarning: elementwise comparison failed; returning scalar instead, but in the future will perform elementwise comparison\n",
      "  if op[len(self.prefix):] in self.genes_value:\n"
     ]
    },
    {
     "ename": "TypeError",
     "evalue": "'NoneType' object is not subscriptable",
     "output_type": "error",
     "traceback": [
      "\u001B[0;31m---------------------------------------------------------------------------\u001B[0m",
      "\u001B[0;31mTypeError\u001B[0m                                 Traceback (most recent call last)",
      "\u001B[0;32m<ipython-input-11-88e75c060f6f>\u001B[0m in \u001B[0;36m<module>\u001B[0;34m\u001B[0m\n\u001B[1;32m      1\u001B[0m \u001B[0;32mimport\u001B[0m \u001B[0mmewpy\u001B[0m\u001B[0;34m\u001B[0m\u001B[0;34m\u001B[0m\u001B[0m\n\u001B[1;32m      2\u001B[0m \u001B[0mmewpy\u001B[0m\u001B[0;34m.\u001B[0m\u001B[0msimulation\u001B[0m\u001B[0;34m.\u001B[0m\u001B[0mset_default_solver\u001B[0m\u001B[0;34m(\u001B[0m\u001B[0;34m'gurobi'\u001B[0m\u001B[0;34m)\u001B[0m\u001B[0;34m\u001B[0m\u001B[0;34m\u001B[0m\u001B[0m\n\u001B[0;32m----> 3\u001B[0;31m \u001B[0mGIMME\u001B[0m\u001B[0;34m(\u001B[0m\u001B[0mmodel\u001B[0m\u001B[0;34m=\u001B[0m\u001B[0mmodel\u001B[0m\u001B[0;34m,\u001B[0m \u001B[0mexpr\u001B[0m\u001B[0;34m=\u001B[0m\u001B[0mset_expression\u001B[0m\u001B[0;34m)\u001B[0m\u001B[0;34m\u001B[0m\u001B[0;34m\u001B[0m\u001B[0m\n\u001B[0m",
      "\u001B[0;32m~/opt/anaconda3/lib/python3.8/site-packages/mewpy/omics/integration/gimme.py\u001B[0m in \u001B[0;36mGIMME\u001B[0;34m(model, expr, biomass, condition, cutoff, growth_frac, constraints, parsimonious, **kwargs)\u001B[0m\n\u001B[1;32m     55\u001B[0m         \u001B[0mconstraints\u001B[0m \u001B[0;34m=\u001B[0m \u001B[0;34m{\u001B[0m\u001B[0;34m}\u001B[0m\u001B[0;34m\u001B[0m\u001B[0;34m\u001B[0m\u001B[0m\n\u001B[1;32m     56\u001B[0m \u001B[0;34m\u001B[0m\u001B[0m\n\u001B[0;32m---> 57\u001B[0;31m     \u001B[0mconstraints\u001B[0m\u001B[0;34m[\u001B[0m\u001B[0mbiomass\u001B[0m\u001B[0;34m]\u001B[0m \u001B[0;34m=\u001B[0m \u001B[0;34m(\u001B[0m\u001B[0mgrowth_frac\u001B[0m \u001B[0;34m*\u001B[0m \u001B[0mwt_solution\u001B[0m\u001B[0;34m.\u001B[0m\u001B[0mfluxes\u001B[0m\u001B[0;34m[\u001B[0m\u001B[0mbiomass\u001B[0m\u001B[0;34m]\u001B[0m\u001B[0;34m,\u001B[0m \u001B[0minf\u001B[0m\u001B[0;34m)\u001B[0m\u001B[0;34m\u001B[0m\u001B[0;34m\u001B[0m\u001B[0m\n\u001B[0m\u001B[1;32m     58\u001B[0m \u001B[0;34m\u001B[0m\u001B[0m\n\u001B[1;32m     59\u001B[0m     \u001B[0;32mfor\u001B[0m \u001B[0mr_id\u001B[0m \u001B[0;32min\u001B[0m \u001B[0msim\u001B[0m\u001B[0;34m.\u001B[0m\u001B[0mreactions\u001B[0m\u001B[0;34m:\u001B[0m\u001B[0;34m\u001B[0m\u001B[0;34m\u001B[0m\u001B[0m\n",
      "\u001B[0;31mTypeError\u001B[0m: 'NoneType' object is not subscriptable"
     ]
    }
   ],
   "source": [
    "import mewpy\n",
    "mewpy.simulation.set_default_solver('gurobi')\n",
    "GIMME(model=model, expr=set_expression)"
   ],
   "metadata": {
    "collapsed": false,
    "pycharm": {
     "name": "#%%\n"
    }
   }
  },
  {
   "cell_type": "code",
   "execution_count": 9,
   "outputs": [],
   "source": [
    "import mewpy\n",
    "mewpy.simulation.set_default_solver('gurobi')\n"
   ],
   "metadata": {
    "collapsed": false,
    "pycharm": {
     "name": "#%%\n"
    }
   }
  },
  {
   "cell_type": "code",
   "execution_count": 12,
   "outputs": [
    {
     "name": "stderr",
     "output_type": "stream",
     "text": [
      "/Users/josediogomoura/opt/anaconda3/lib/python3.8/site-packages/mewpy/util/parsing.py:439: FutureWarning: elementwise comparison failed; returning scalar instead, but in the future will perform elementwise comparison\n",
      "  if op[len(self.prefix):] in self.genes_value:\n"
     ]
    },
    {
     "data": {
      "text/plain": "objective: 0.0019045118370562466\nStatus: OPTIMAL\nConstraints: OrderedDict([('R_R02434__chlo', (0, 1)), ('R_T_L_Tyrosine_V2__mitmem', (-1.0, 1.0)), ('R_TR0011455_PLAS__ermem', (-1.0, 1.0)), ('R_R01652__cytop', (0, 1.0)), ('R_R00243__mito', (-1.0, 1.0)), ('R_PKS_C204__cytop', (0, 1.0)), ('R_EX_C00188__dra', (0, 1)), ('R_EX_C05839__dra', (0, 1)), ('R_R03362__cytop', (0, 1.0)), ('R_R04537__cytop', (0, 1.0)), ('R_R02731__cytop', (0, 1.0)), ('R_TO1000117_PLAS__plas', (0, 1.0)), ('R_R00010__cytop', (0, 1.0)), ('R_R07396__chlo', (0, 1.0)), ('R_R00848__mito', (0, 1.0)), ('R_T_CoA___chlomem', (-1, 1)), ('R_R08174__cytop', (0, 1.0)), ('R_TO1000157_PLAS__plas', (0, 1.0)), ('R_TO1000060_PLAS__plas', (0, 1.0)), ('R_R12205__chlo', (0, 1.0)), ('R_R07084__cytop', (0, 1.0)), ('R_R07109__cytop', (0, 1.0)), ('R_R08183__mito', (0, 1.0)), ('R_R01731__chlo', (0, 1.0)), ('R_R04355__mito', (0, 1.0)), ('R_T_UDPG__chlomem', (-1.0, 1.0)), ('R_R06610__cytop', (0, 1.0)), ('R_R03479__nucl', (0, 1.0)), ('R_EX_C00899__dra', (0, 1)), ('R_R00010__vacu', (0, 1.0)), ('R_TO0000081_PLAS__ermem', (0, 1.0)), ('R_TI3000142_PLAS__chlomem', (0, 1.0)), ('R_R01626__chlo', (0, 1.0)), ('R_EX_C00181__dra', (0, 1)), ('R_R10039__cytop', (0, 1.0)), ('R_R08600__extr', (0, 1.0)), ('R_R05050__cytop', (0, 1.0)), ('R_R05616__cytop', (0, 1.0)), ('R_R00177__cytop', (0, 1.0)), ('R_R10035__chlo', (0, 1.0)), ('R_R00188__cytop', (0, 1.0)), ('R_EX_C01019__dra', (0, 1)), ('R_R03681__e_r_', (0, 1.0)), ('R_R00502__cytop', (-1.0, 1.0)), ('R_R06267__chlo', (0, 1.0)), ('R_R08190__pero', (0, 1.0)), ('R_R04566__mito', (0, 1.0)), ('R_R02250__cytop', (0, 1.0)), ('R_R08163__cytop', (0, 1.0)), ('R_R02480__chlo', (0, 1.0)), ('R_R09540__mito', (0, 1.0)), ('R_R01954__cytop', (0, 1.0)), ('R_R07083__e_r_', (0, 1.0)), ('R_T_7_Dehydrocholesterol__ermem', (-1, 1)), ('R_R06728__e_r_', (0, 1.0)), ('R_R05553__cytop', (0, 1.0)), ('R_R01218__cytop', (0, 1.0)), ('R_R04716__cytop', (0, 1.0)), ('R_R03530__cytop', (-1.0, 1.0)), ('R_R01039__cytop', (0, 1.0)), ('R_T_Glycolate__chlomem', (-1, 1)), ('R_R09432__cytop', (-1, 1)), ('R_R00112__chlo', (0, 1.0)), ('R_TZ2900041_PLAS__plas', (-1.0, 1.0)), ('R_R01229__cytop', (0, 1.0)), ('R_T_AKGMALth__chlomem', (-1.0, 1.0)), ('R_R00351__pero', (0, 1.0)), ('R_R06875__e_r_', (0, 1.0)), ('R_T_L_Aspartate_V1__mitmem', (-1.0, 1.0)), ('R_R00573__cytop', (0, 1.0)), ('R_R01641__cytop', (-1.0, 1.0)), ('R_R03458__chlo', (0, 1.0)), ('R_R04224__chlo', (0, 1.0)), ('R_R01220__mito', (0, 1.0)), ('R_R06867__chlo', (0, 1.0)), ('R_T_GLX__permem', (0, 1.0)), ('R_R07024__chlo', (0, 1.0)), ('R_R02887__cytop', (0, 1.0)), ('R_R00139__cytop', (0, 1.0)), ('R_R04463__cytop', (0, 1.0)), ('R_R02107__cytop', (0, 1.0)), ('R_R00897__cytop', (0, 1.0)), ('R_R04955__mito', (0, 1.0)), ('R_RXN_11887__e_r_', (0, 1.0)), ('R_R04742__pero', (-1.0, 1.0)), ('R_R01274__pero', (0, 1.0)), ('R_R07079__e_r_', (0, 1.0)), ('R_R10056__nucl', (0, 1.0)), ('R_R04430__cytop', (0, 1.0)), ('R_R01216__mito', (0, 1.0)), ('R_AMOBR__mito', (0, 1.0)), ('R_R03664__cytop', (0, 1.0)), ('R_R00344__mito', (0, 1.0)), ('R_TO0000667_PLAS__plas', (0, 1.0)), ('R_TO1000054_PLAS__plas', (0, 1.0)), ('R_R00842__cytop', (-1.0, 1.0)), ('R_R01786__cytop', (0, 1.0)), ('R_R01773__chlo', (0, 1.0)), ('R_R02853__mito', (0, 1.0)), ('R_R00372__cytop', (-1.0, 1.0)), ('R_T_Ammonia_V2__mitmem', (-1, 1)), ('R_R11921__cytop', (0, 1.0)), ('R_R05637__chlo', (0, 1.0)), ('R_R08344__e_r_', (0, 1.0)), ('R_R05616__mito', (0, 1.0)), ('R_R09465__cytop', (0, 1.0)), ('R_R10288__chlo', (0, 1.0)), ('R_R05640__e_r_', (0, 1.0)), ('R_R00475__pero', (0, 1.0)), ('R_R02558__cytop', (0, 1.0)), ('R_R01752__mito', (0, 1.0)), ('R_EX_C00777__dra', (0, 1)), ('R_R04749__mito', (-1.0, 1.0)), ('R_R04208__mito', (0, 1.0)), ('R_R01361__cytop', (-1.0, 1.0)), ('R_R08174__mito', (0, 1.0)), ('R_R04198__chlo', (0, 1.0)), ('R_R01372__cytop', (0, 1.0)), ('R_T_OOA__permem', (-1.0, 1.0)), ('R_R04964__mito', (0, 1.0)), ('R_TO0000304_PLAS__plas', (0, 1.0)), ('R_R04798__chlo', (0, 1.0)), ('R_R03161__cytop', (0, 1.0)), ('R_R10992__cytop', (0, 1.0)), ('R_R03313__cytop', (0, 1.0)), ('R_R00995__mito', (0, 1)), ('R_R00513__cytop', (0, 1.0)), ('R_TO1000053_PLAS__plas', (0, 1.0)), ('R_R02530__chlo', (-1.0, 1.0)), ('R_R07100__e_r_', (0, 1.0)), ('R_T_AMETtn__nucmem', (-1, 1)), ('R_R07364__cytop', (0, 1.0)), ('R_R00307__cytop', (-1.0, 1.0)), ('R_T_PNC_V1__permem', (0, 1.0)), ('R_R00927__cytop', (-1.0, 1.0)), ('R_R10280__mito', (0, 1.0)), ('R_R04967__chlo', (0, 1.0)), ('R_R07215__e_r_', (0, 1.0)), ('R_R10764__cytop', (-1.0, 1.0)), ('R_T_Oxygen_V4__permem', (-1, 1)), ('R_R00658__chlo', (-1.0, 1.0)), ('R_R10170__mito', (0, 1.0)), ('R_R08179__mito', (0, 1.0)), ('R_EX_e_Biomass__dra', (0, 1)), ('R_R04744__mito', (-1.0, 1.0)), ('R_R08258__extr', (0, 1.0)), ('R_R05800__cytop', (0, 1.0)), ('R_R00155__cytop', (0, 1.0)), ('R_R00548__chlo', (0, 1.0)), ('R_EX_C00267__dra', (0, 1)), ('R_R11099__cytop', (0, 1.0)), ('R_RXN_11878__e_r_', (0, 1.0)), ('R_R00513__nucl', (0, 1.0)), ('R_R04691__cytop', (0, 1.0)), ('R_R01799__mito', (0, 1.0)), ('R_R02565__mito', (0, 1.0)), ('R_R04969__mito', (0, 1.0)), ('R_R00390__mito', (0, 1.0)), ('R_PRISM_fluorescent_cool_215W__extr', (0, 1)), ('R_R07046__e_r_', (0, 1.0)), ('R_R04533__mito', (0, 1.0)), ('R_R04756__chlo', (-1.0, 1.0)), ('R_R02251__chlo', (0, 1.0)), ('R_T_Hydrogen_V1__chlomem', (-1, 1)), ('R_R10124__mito', (0, 1.0)), ('R_R02404__mito', (0, 1.0)), ('R_R02581__chlo', (0, 1.0)), ('R_TO1100073_PLAS__plas', (0, 1.0)), ('R_R04559__cytop', (-1.0, 1.0)), ('R_R08539__cytop', (0, 1.0)), ('R_EX_C14818__dra', (-1, 1)), ('R_T_MALOAAth__chlomem', (0, 1)), ('R_R05506__mito', (-1.0, 1.0)), ('R_R07136__cytop', (-1.0, 1.0)), ('R_R03393__e_r_', (0, 1.0)), ('R_TO0000021_PLAS__plas', (0, 1)), ('R_R10245__cytop', (0, 1)), ('R_TO1000227_PLAS__plas', (0, 1.0)), ('R_R02691__chlo', (0, 1.0)), ('R_R03183__cytop', (-1.0, 1.0)), ('R_R01209__chlo', (0, 1.0)), ('R_R03346__cytop', (0, 1.0)), ('R_R04430__chlo', (0, 1.0)), ('R_TR0011422_PLAS__ermem', (0, 1.0)), ('R_R03657__mito', (0, 1.0)), ('R_R03877__mito', (0, 1.0)), ('R_R10115__mito', (0, 1.0)), ('R_R01279__pero', (0, 1.0)), ('R_R01569__cytop', (0, 1.0)), ('R_R04325__cytop', (0, 1.0)), ('R_R11101__mito', (0, 1.0)), ('R_R03664__chlo', (0, 1.0)), ('R_R03123__cytop', (0, 1.0)), ('R_T_H2S_V1__mitmem', (-1, 1)), ('R_R11104__chlo', (0, 1.0)), ('R_R08094__pero', (0, 1.0)), ('R_R04144__mito', (0, 1.0)), ('R_R03661__mito', (0, 1.0)), ('R_T_L_Asparagine_V1__ermem', (0, 1)), ('R_R08569__e_r_', (-1.0, 1.0)), ('R_R02313__cytop', (-1.0, 1.0)), ('R_R01880__cytop', (0, 1.0)), ('R_R03217__mito', (0, 1.0)), ('R_R04536__chlo', (0, 1.0)), ('R_R12024__mito', (-1.0, 1.0)), ('R_EX_C00041__dra', (0, 1)), ('R_R10039__extr', (0, 1.0)), ('R_R04203__mito', (-1.0, 1.0)), ('R_R08220__extr', (0, 1.0)), ('R_TO1100709_PLAS__plas', (0, 1.0)), ('R_R01547__cytop', (-1.0, 1.0)), ('R_R00472__mito', (0, 1.0)), ('R_RXN_14485__e_r_', (0, 1.0)), ('R_R01010__cytop', (0, 1.0)), ('R_R04831__mito', (0, 1.0)), ('R_R11372__mito', (0, 1.0)), ('R_R01059__chlo', (0, 1.0)), ('R_R03165__chlo', (0, 1.0)), ('R_R04726__mito', (0, 1.0)), ('R_R02106__mito', (0, 1.0)), ('R_R01858__mito', (0, 1.0)), ('R_PKS_C185__cytop', (0, 1.0)), ('R_R00662__chlo', (0, 1.0)), ('R_PRISM_solar_litho__extr', (0, 1)), ('R_R00751__mito', (-1.0, 1.0)), ('R_TO1000226_PLAS__plas', (0, 1.0)), ('R_R04770__cytop', (0, 1.0)), ('R_R05799__cytop', (0, 1.0)), ('R_EX_C00027__dra', (0, 1)), ('R_R00014__mito', (0, 1.0)), ('R_R02057__golg', (0, 1.0)), ('R_R03530__chlo', (-1.0, 1.0)), ('R_R00087__cytop', (0, 1)), ('R_R02976__cytop', (0, 1.0)), ('R_R09409__e_r_', (0, 1.0)), ('R_TI3000022_PLAS__plas', (0, 1.0)), ('R_R00335__nucl', (0, 1)), ('R_TO1025981_PLAS__plas', (0, 1.0)), ('R_R07481__e_r_', (0, 1.0)), ('R_T_FAD__chlomem', (-1, 1)), ('R_R04941__mito', (0, 1.0)), ('R_R04998__e_r_', (0, 1.0)), ('R_R04463__chlo', (0, 1.0)), ('R_R05548__cytop', (0, 1.0)), ('R_R03471__chlo', (0, 1.0)), ('R_R04170__pero', (-1.0, 1.0)), ('R_R05202__cytop', (0, 1.0)), ('R_R02840__e_r_', (0, 1.0)), ('R_T_Tetradecanoic_acid__chlomem', (0, 1)), ('R_R04552__mito', (-1.0, 1.0)), ('R_R07092__e_r_', (0, 1.0)), ('R_EX_C00077__dra', (0, 1)), ('R_R12391__mito', (0, 1.0)), ('R_R07052__chlo', (0, 1.0)), ('R_R09404__e_r_', (0, 1.0)), ('R_T_Methanol__mitmem', (-1, 1)), ('R_R10993__chlo', (0, 1.0)), ('R_R03283__cytop', (0, 1.0)), ('R_R07263__pero', (0, 1.0)), ('R_R02530__cytop', (-1.0, 1.0)), ('R_R03050__chlo', (0, 1.0)), ('R_R04801__chlo', (-1.0, 1.0)), ('R_R00236__chlo', (0, 1.0)), ('R_R05578__chlo', (0, 1.0)), ('R_R04962__chlo', (0, 1.0)), ('R_T_Farnesyl_diphosphate__chlomem', (-1, 1)), ('R_e_Cofactor__cytop', (0, 1)), ('R_TO1102611_PLAS__plas', (0, 1.0)), ('R_T_L_Tyrosine_V1__vacmem', (0, 1.0)), ('R_R00209__chlo', (0, 1.0)), ('R_R02063__chlo', (0, 1.0)), ('R_R03067__cytop', (0, 1.0)), ('R_R03352__pero', (0, 1.0)), ('R_R05688__chlo', (0, 1.0)), ('R_R01185__mito', (0, 1.0)), ('R_R04591__cytop', (0, 1.0)), ('R_R11044__e_r_', (0, 1.0)), ('R_R00515__chlo', (0, 1.0)), ('R_RXN_21836__e_r_', (0, 1.0)), ('R_R09394__mito', (0, 1.0)), ('R_R01274__chlo', (0, 1.0)), ('R_R10118__cytop', (0, 1.0)), ('R_R05320__chlo', (0, 1.0)), ('R_R11891__cytop', (0, 1.0)), ('R_R03596__cytop', (0, 1.0)), ('R_R04804__e_r_', (0, 1.0)), ('R_R00899__nucl', (0, 1.0)), ('R_R01775__cytop', (0, 1.0)), ('R_R00316__mito', (0, 1.0)), ('R_R06517__e_r_', (0, 1.0)), ('R_R00987__cytop', (0, 1.0)), ('R_T_CO2_V5__nucmem', (-1, 1)), ('R_R04928__cytop', (0, 1.0)), ('R_PEROX__pero', (0, 1)), ('R_R00925__mito', (0, 1.0)), ('R_T_AHCYStn__nucmem', (-1, 1)), ('R_EX_C05361__dra', (0, 1)), ('R_R12479__golg', (0, 1.0)), ('R_T__5Z_8Z_11Z_14Z_17Z__Icosapentaenoyl_CoA__ermem', (0, 1)), ('R_R07055__e_r_', (0, 1.0)), ('R_R00897__chlo', (0, 1.0)), ('R_R02484__cytop', (-1.0, 1.0)), ('R_R08391__chlo', (0, 1.0)), ('R_R11100__cytop', (0, 1.0)), ('R_TR2000009_PLAS__mitmem', (0, 1.0)), ('R_EX_C00073__dra', (0, 1)), ('R_TO1000259_PLAS__plas', (0, 1.0)), ('R_R03270__chlo', (0, 1.0)), ('R_TZ2900034_PLAS__plas', (0, 1.0)), ('R_R01354__mito', (0, 1.0)), ('R_R00965__cytop', (0, 1.0)), ('R_R00705__mito', (0, 1.0)), ('R_R00904__chlo', (0, 1.0)), ('R_R03827__cytop', (0, 1.0)), ('R_R04866__cytop', (0, 1.0)), ('R_R10057__e_r_', (0, 1.0)), ('R_EX_C00217__dra', (0, 1)), ('R_R10563__cytop', (0, 1.0)), ('R_R01498__e_r_', (0, 1.0)), ('R_R07004__e_r_', (0, 1.0)), ('R_R10092__cytop', (-1.0, 1.0)), ('R_R00943__cytop', (0, 1.0)), ('R_R00206__mito', (-1.0, 1.0)), ('R_R04682__e_r_', (0, 1.0)), ('R_R02543__e_r_', (0, 1.0)), ('R_EX_C12650__dra', (0, 1)), ('R_R01187__chlo', (0, 1.0)), ('R_T_Glycine_V1__mitmem', (-1.0, 1.0)), ('R_EX_C07446__dra', (0, 1)), ('R_R02093__mito', (0, 1.0)), ('R_R07978__cytop', (0, 1.0)), ('R_R09067__chlo', (0, 1.0)), ('R_R04001__mito', (-1.0, 1.0)), ('R_R02283__chlo', (-1.0, 1.0)), ('R_PKS_C82__cytop', (0, 1.0)), ('R_R00904__cytop', (0, 1.0)), ('R_RXN_16380__e_r_', (0, 1.0)), ('R_R01466__chlo', (0, 1.0)), ('R_R02017__cytop', (0, 1.0)), ('R_R12657__mito', (0, 1.0)), ('R_R04580__cytop', (0, 1.0)), ('R_R03045__cytop', (-1, 1)), ('R_EX_C02805__dra', (0, 1)), ('R_R07274__cytop', (0, 1.0)), ('R_R03428__nucl', (0, 1.0)), ('R_R11804__chlo', (0, 1.0)), ('R_R09405__chlo', (0, 1.0)), ('R_R08280__e_r_', (0, 1.0)), ('R_R03697__chlo', (0, 1.0)), ('R_TO1100190_PLAS__plas', (0, 1.0)), ('R_TI3000930_PLAS__plas', (0, 1.0)), ('R_R10436__golg', (0, 1.0)), ('R_R08091__mito', (-1.0, 1.0)), ('R_R02326__mito', (0, 1.0)), ('R_R03648__cytop', (0, 1.0)), ('R_R07606__cytop', (0, 1)), ('R_R09958__mito', (0, 1.0)), ('R_R02094__mito', (-1.0, 1.0)), ('R_R02294__cytop', (-1.0, 1.0)), ('R_TO0000246_PLAS__vacmem', (0, 1.0)), ('R_R00434__cytop', (0, 1.0)), ('R_R00129__mito', (0, 1.0)), ('R_T_CO2_V1__chlomem', (-1, 1)), ('R_T_L_Ascorbate__chlomem', (-1, 1)), ('R_R03659__cytop', (0, 1.0)), ('R_R10122__cytop', (0, 1.0)), ('R_R02488__mito', (0, 1.0)), ('R_R02549__chlo', (0, 1.0)), ('R_R07023__e_r_', (0, 1.0)), ('R_PKS_C163__cytop', (0, 1.0)), ('R_R12172__e_r_', (0, 1.0)), ('R_TO1000274_PLAS__plas', (0, 1.0)), ('R_R00494__pero', (0, 1.0)), ('R_EX_C16641__dra', (0, 1)), ('R_TZ2900002_PLAS__vacmem', (0, 1.0)), ('R_R02487__mito', (0, 1.0)), ('R_T_Diphosphate__ermem', (-1, 1)), ('R_EX_C00070__dra', (0, 1)), ('R_R09477__cytop', (0, 1.0)), ('R_R04946__mito', (0, 1.0)), ('R_R08390__e_r_', (0, 1.0)), ('R_R00531__mito', (0, 1.0)), ('R_R01665__mito', (0, 1.0)), ('R_R01827__cytop', (-1.0, 1.0)), ('R_R03197__chlo', (0, 1.0)), ('R_R04998__vacu', (0, 1.0)), ('R_T_URATEtm__mitmem', (-1, 1)), ('R_R03036__chlo', (0, 1.0)), ('R_R00899__mito', (0, 1.0)), ('R_R10039__e_r_', (0, 1.0)), ('R_R07116__chlo', (0, 1.0)), ('R_PKS_C60__cytop', (0, 1.0)), ('R_R04506__mito', (0, 1.0)), ('R_R01071__cytop', (-1.0, 1.0)), ('R_R03971__cytop', (0, 1.0)), ('R_R09737__mito', (0, 1.0)), ('R_R00702__e_r_', (0, 1.0)), ('R_R02047__mito', (0, 1.0)), ('R_R02093__cytop', (0, 1.0)), ('R_R01021__cytop', (0, 1.0)), ('R_R07070__chlo', (0, 1.0)), ('R_R00582__mito', (0, 1.0)), ('R_EX_C05688__dra', (0, 1)), ('R_R08267__e_r_', (0, 1.0)), ('R_R10039__vacu', (0, 1.0)), ('R_R04747__pero', (-1.0, 1.0)), ('R_R08733__cytop', (0, 1.0)), ('R_T_OAAICITtm__mitmem', (-1.0, 1.0)), ('R_R02098__mito', (-1.0, 1.0)), ('R_T_CO__plas', (-1, 1)), ('R_T_L_Threonine__chlomem', (-1.0, 1.0)), ('R_R00424__chlo', (0, 1.0)), ('R_T_CMP_V3__golmem', (-1, 1)), ('R_TO1000751_PLAS__plas', (0, 1.0)), ('R_R01626__cytop', (0, 1.0)), ('R_R04960__cytop', (0, 1.0)), ('R_R04100__pero', (-1.0, 1.0)), ('R_R07509__e_r_', (0, 1.0)), ('R_R00089__nucl', (0, 1.0)), ('R_R08237__cytop', (0, 1.0)), ('R_R12173__e_r_', (0, 1.0)), ('R_R11319__cytop', (-1.0, 1.0)), ('R_R02327__nucl', (0, 1.0)), ('R_e_Lipid__cytop', (0, 1)), ('R_R08177__pero', (0, 1.0)), ('R_R02408__cytop', (0, 1.0)), ('R_R04681__e_r_', (0, 1.0)), ('R_R11308__cytop', (0, 1.0)), ('R_R01070__mito', (-1.0, 1.0)), ('R_R00277__cytop', (0, 1.0)), ('R_R03469__cytop', (0, 1.0)), ('R_R07945__chlo', (0, 1.0)), ('R_R00362__mito', (0, 1.0)), ('R_R01054__cytop', (0, 1.0)), ('R_R04956__cytop', (0, 1.0)), ('R_R04170__chlo', (-1.0, 1.0)), ('R_T_Ammonia_V4__ermem', (-1, 1)), ('R_R12017__chlo', (0, 1.0)), ('R_R12169__e_r_', (0, 1.0)), ('R_EX_C00159__dra', (0, 1)), ('R_R05575__mito', (-1.0, 1.0)), ('R_R07896__pero', (-1.0, 1.0)), ('R_R03659__chlo', (0, 1.0)), ('R_TZ2900003_PLAS__plas', (-1.0, 1.0)), ('R_TO3000696_PLAS__plas', (0, 1.0)), ('R_R11319__chlo', (-1.0, 1.0)), ('R_R02558__extr', (0, 1.0)), ('R_R01939__cytop', (-1.0, 1.0)), ('R_R01843__cytop', (0, 1.0)), ('R_R03083__cytop', (0, 1.0)), ('R_R07627__cytop', (0, 1.0)), ('R_R07043__chlo', (0, 1.0)), ('R_R07943__e_r_', (0, 1.0)), ('R_TZ2900023_PLAS__chlomem', (-1.0, 1.0)), ('R_T_OAACITtm__mitmem', (-1.0, 1.0)), ('R_R00926__mito', (0, 1.0)), ('R_T_Hydrogen_Peroxide_V2__chlomem', (-1, 1)), ('R_R08280__cytop', (0, 1.0)), ('R_TI3001536_PLAS__plas', (0, 1.0)), ('R_R07051__chlo', (0, 1.0)), ('R_TR0000020_PLAS__mitmem', (0, 1.0)), ('R_R10546__cytop', (0, 1.0)), ('R_R00127__chlo', (-1.0, 1.0)), ('R_EX_C00080__dra', (-1, 1)), ('R_R00143__cytop', (0, 1)), ('R_R02356__chlo', (0, 1.0)), ('R_T_Diphosphate_V1__permem', (-1, 1)), ('R_R08249__e_r_', (0, 1.0)), ('R_R06982__cytop', (0, 1)), ('R_R03472__chlo', (0, 1.0)), ('R_TO1000275_PLAS__plas', (0, 1.0)), ('R_EX_C00328__dra', (0, 1)), ('R_T__6Z_9Z_12Z__Hexadecatrienoyl_CoA__ermem', (0, 1)), ('R_R06865__mito', (0, 1.0)), ('R_RXN_12777__e_r_', (0, 1.0)), ('R_R10633__mito', (0, 1.0)), ('R_EX_C06232__dra', (0, 1)), ('R_R08945__cytop', (0, 1.0)), ('R_R11099__mito', (0, 1.0)), ('R_R04847__e_r_', (0, 1.0)), ('R_T_Tetrahydrofolate__chlomem', (0, 1.0)), ('R_R00514__cytop', (0, 1.0)), ('R_R03314__cytop', (0, 1)), ('R_R00742__cytop', (0, 1.0)), ('R_R02334__cytop', (0, 1.0)), ('R_R02892__e_r_', (0, 1.0)), ('R_TR2000137_PLAS__mitmem', (-1.0, 1.0)), ('R_R09420__mito', (0, 1.0)), ('R_R08954__e_r_', (0, 1.0)), ('R_R00684__cytop', (0, 1.0)), ('R_R03088__chlo', (0, 1.0)), ('R_R07098__e_r_', (0, 1.0)), ('R_R00239__cytop', (0, 1.0)), ('R_R06522__chlo', (0, 1.0)), ('R_R05165__chlo', (0, 1.0)), ('R_e_RNA__cytop', (0, 1)), ('R_R07056__chlo', (0, 1.0)), ('R_RXN_12997__e_r_', (0, 1.0)), ('R_R12427__mito', (0, 1.0)), ('R_R07135__cytop', (-1.0, 1.0)), ('R_TI2000430_PLAS__plas', (0, 1.0)), ('R_R06960__cytop', (-1.0, 1.0)), ('R_R08162__cytop', (0, 1.0)), ('R_R06286__chlo', (0, 1.0)), ('R_EX_C03855__dra', (0, 1)), ('R_R00357__cytop', (0, 1)), ('R_R07396__cytop', (0, 1.0)), ('R_R03777__mito', (0, 1.0)), ('R_R04543__mito', (0, 1.0)), ('R_TO1000588_PLAS__plas', (0, 1.0)), ('R_R08258__cytop', (0, 1.0)), ('R_R01082__chlo', (-1.0, 1.0)), ('R_R00569__golg', (0, 1.0)), ('R_TI3000282_PLAS__ermem', (0, 1.0)), ('R_R04137__chlo', (-1.0, 1.0)), ('R_R02208__e_r_', (0, 1.0)), ('R_TR2000106_PLAS__chlomem', (0, 1.0)), ('R_TO1000085_PLAS__plas', (0, 1.0)), ('R_R03552__nucl', (0, 1.0)), ('R_R07009__cytop', (0, 1)), ('R_TR2900003_PLAS__mitmem', (-1.0, 1.0)), ('R_R05615__cytop', (0, 1.0)), ('R_R09381__e_r_', (0, 1.0)), ('R_R05046__cytop', (0, 1.0)), ('R_R04957__chlo', (0, 1.0)), ('R_R07606__chlo', (0, 1.0)), ('R_EX_C08334__dra', (0, 1)), ('R_R05002__cytop', (0, 1.0)), ('R_R07897__mito', (-1.0, 1.0)), ('R_R02035__chlo', (0, 1.0)), ('R_R00959__cytop', (-1.0, 1.0)), ('R_R00465__chlo', (-1.0, 1.0)), ('R_R03968__mito', (0, 1.0)), ('R_R01899__mito', (-1.0, 1.0)), ('R_R04681__cytop', (0, 1.0)), ('R_RXN_13298__e_r_', (0, 1.0)), ('R_EX_C00378__dra', (0, 1)), ('R_R07080__chlo', (0, 1.0)), ('R_R07889__mito', (-1.0, 1.0)), ('R_R02372__cytop', (0, 1.0)), ('R_R10991__cytop', (0, 1.0)), ('R_R04737__pero', (-1.0, 1.0)), ('R_EX_C11004__dra', (0, 1)), ('R_R04536__cytop', (0, 1.0)), ('R_R02078__cytop', (0, 1.0)), ('R_R00706__mito', (0, 1.0)), ('R_R01492__mito', (0, 1.0)), ('R_R04738__chlo', (-1.0, 1.0)), ('R_T_H2O_V2__mitmem', (-1, 1)), ('R_R07267__chlo', (0, 1.0)), ('R_R05731__e_r_', (0, 1.0)), ('R_R03654__chlo', (0, 1.0)), ('R_EX_C00088__dra', (0, 1)), ('R_R01401__cytop', (0, 1.0)), ('R_R04429__mito', (0, 1.0)), ('R_R11043__e_r_', (0, 1.0)), ('R_R01827__chlo', (-1.0, 1.0)), ('R_R07083__cytop', (0, 1.0)), ('R_T_UMP__chlomem', (-1, 1)), ('R_R02241__e_r_', (0, 1.0)), ('R_R00710__mito', (0, 1.0)), ('R_R08312__chlo', (0, 1.0)), ('R_RXN_21837__e_r_', (0, 1)), ('R_R06366__mito', (0, 1.0)), ('R_R07048__chlo', (0, 1.0)), ('R_R07113__cytop', (0, 1.0)), ('R_T_ADP__chlomem', (-1.0, 1.0)), ('R_R01049__chlo', (0, 1.0)), ('R_R00885__cytop', (0, 1)), ('R_R09653__chlo', (0, 1.0)), ('R_T_AKGICITtm__mitmem', (-1.0, 1.0)), ('R_R07136__mito', (-1.0, 1.0)), ('R_R00115__mito', (0, 1.0)), ('R_R11262__cytop', (0, 1)), ('R_T_SAMT1_V1__mitmem', (-1, 1)), ('R_T_CMP__chlomem', (-1, 1)), ('R_R12423__mito', (0, 1.0)), ('R_R07898__mito', (-1.0, 1.0)), ('R_T_alpha_D_Glucose__ermem', (0, 1)), ('R_R01519__cytop', (0, 1.0)), ('R_R00192__cytop', (-1.0, 1.0)), ('R_R03674__cytop', (0, 1)), ('R_R00187__cytop', (0, 1.0)), ('R_R01101__cytop', (0, 1.0)), ('R_R00274__chlo', (0, 1.0)), ('R_R02568__chlo', (-1.0, 1.0)), ('R_R10633__nucl', (0, 1.0)), ('R_R09366__mito', (0, 1.0)), ('R_R00335__cytop', (0, 1.0)), ('R_R02133__cytop', (0, 1.0)), ('R_R09735__cytop', (0, 1.0)), ('R_R10953__cytop', (-1.0, 1.0)), ('R_R04929__cytop', (0, 1.0)), ('R_R00156__mito', (0, 1.0)), ('R_TO3000773_PLAS__plas', (0, 1.0)), ('R_R01281__e_r_', (0, 1.0)), ('R_TZ3101427_PLAS__plas', (0, 1.0)), ('R_R06272__chlo', (-1.0, 1.0)), ('R_EX_C05684__dra', (0, 1)), ('R_EX_G00012__dra', (0, 1)), ('R_R07762__chlo', (-1.0, 1.0)), ('R_R00287__chlo', (0, 1.0)), ('R_DEDOLP2__chlo', (0, 1.0)), ('R_R02906__cytop', (-1, 1)), ('R_R00330__mito', (0, 1.0)), ('R_R00662__cytop', (0, 1)), ('R_R00021__chlo', (0, 1.0)), ('R_T_L_Threonine_V1__mitmem', (-1.0, 1.0)), ('R_T_5_Deoxyadenosine_V1__mitmem', (-1, 1)), ('R_R00028__cytop', (0, 1.0)), ('R_TR2000129_PLAS__mitmem', (0, 1.0)), ('R_R01138__mito', (0, 1.0)), ('R_R01194__cytop', (0, 1.0)), ('R_TZ3100045_PLAS__ermem', (0, 1.0)), ('R_R02408__mito', (0, 1.0)), ('R_R08632__cytop', (0, 1.0)), ('R_R01470__extr', (0, 1.0)), ('R_R07085__chlo', (0, 1.0)), ('R_R07093__e_r_', (0, 1.0)), ('R_R07000__e_r_', (0, 1.0)), ('R_R00659__chlo', (0, 1.0)), ('R_TZ3100041_E_R___ermem', (0, 1.0)), ('R_R08310__cytop', (-1.0, 1.0)), ('R_ATPase__chlo', (-1, 1)), ('R_R01030__extr', (0, 1.0)), ('R_R02199__cytop', (-1.0, 1.0)), ('R_R05633__chlo', (0, 1.0)), ('R_R00900__chlo', (-1.0, 1.0)), ('R_R04204__mito', (0, 1.0)), ('R_EX_C00870__dra', (0, 1)), ('R_EX_C00038__dra', (0, 1)), ('R_R03416__extr', (0, 1.0)), ('R_R01700__mito', (0, 1.0)), ('R_R00127__cytop', (-1.0, 1.0)), ('R_EX_C00385__dra', (0, 1)), ('R_R06722__golg', (0, 1.0)), ('R_R08287__chlo', (0, 1.0)), ('R_R01857__mito', (0, 1.0)), ('R_R02570__mito', (0, 1.0)), ('R_EX_C04438__dra', (0, 1)), ('R_R00833__mito', (-1.0, 1.0)), ('R_R03652__cytop', (0, 1.0)), ('R_R08345__chlo', (0, 1.0)), ('R_TO3000350_PLAS__plas', (0, 1.0)), ('R_R08175__cytop', (0, 1.0)), ('R_R12459__cytop', (0, 1.0)), ('R_TO3000759_PLAS__plas', (0, 1.0)), ('R_R07891__pero', (-1.0, 1.0)), ('R_R00935__mito', (0, 1.0)), ('R_R09658__chlo', (0, 1.0)), ('R_R07108__cytop', (0, 1.0)), ('R_TO1000258_PLAS__plas', (0, 1.0)), ('R_R05069__chlo', (-1.0, 1.0)), ('R_R00105__cytop', (0, 1.0)), ('R_R01395__cytop', (0, 1.0)), ('R_EX_C07073__dra', (0, 1)), ('R_R00275__mito', (0, 1.0)), ('R_R03991__mito', (-1.0, 1.0)), ('R_EX_C00116__dra', (0, 1)), ('R_R09442__cytop', (0, 1)), ('R_R01351__cytop', (0, 1.0)), ('R_R03330__cytop', (0, 1.0)), ('R_RXN_21831__e_r_', (0, 1)), ('R_R09420__cytop', (0, 1.0)), ('R_R07890__pero', (-1.0, 1.0)), ('R_R05441__cytop', (0, 1.0)), ('R_R02832__cytop', (-1.0, 1.0)), ('R_R01185__golg', (0, 1.0)), ('R_R04638__cytop', (0, 1.0)), ('R_TO3000351_CHLO__chlomem', (0, 1.0)), ('R_R09365__cytop', (-1.0, 1.0)), ('R_R08249__extr', (0, 1.0)), ('R_R02199__mito', (-1.0, 1.0)), ('R_R01018__cytop', (0, 1.0)), ('R_R04035__cytop', (0, 1.0)), ('R_T_L_Leucine__chlomem', (-1.0, 1.0)), ('R_R02737__cytop', (0, 1.0)), ('R_R00342__pero', (-1.0, 1.0)), ('R_R03503__cytop', (0, 1.0)), ('R_R08249__cytop', (0, 1.0)), ('R_R05070__chlo', (0, 1.0)), ('R_R03636__cytop', (0, 1.0)), ('R_DM_photon450__chlo', (0, 1)), ('R_R00967__nucl', (0, 1.0)), ('R_R02558__vacu', (0, 1.0)), ('R_R01716__cytop', (0, 1.0)), ('R_EX_C05143__dra', (0, 1)), ('R_TI3001537_PLAS__plas', (0, 1.0)), ('R_R00289__cytop', (-1.0, 1.0)), ('R_R02094__cytop', (-1.0, 1.0)), ('R_TO0000367_PLAS__vacmem', (0, 1.0)), ('R_R04391__mito', (0, 1.0)), ('R_R01547__nucl', (-1.0, 1.0)), ('R_R02558__e_r_', (0, 1.0)), ('R_R08286__cytop', (0, 1)), ('R_T_MAL_L__permem', (-1.0, 1.0)), ('R_R07084__chlo', (0, 1.0)), ('R_R01132__cytop', (0, 1.0)), ('R_R08409__chlo', (0, 1.0)), ('R_R11010__e_r_', (0, 1.0)), ('R_R08270__e_r_', (0, 1.0)), ('R_R00366__cytop', (0, 1.0)), ('R_R05988__golg', (0, 1.0)), ('R_R04171__cytop', (0, 1.0)), ('R_R05692__cytop', (0, 1.0)), ('R_R02940__mito', (0, 1.0)), ('R_T_L_Histidine__chlomem', (-1.0, 1.0)), ('R_R07765__mito', (0, 1.0)), ('R_R04143__pero', (0, 1.0)), ('R_R01092__cytop', (0, 1.0)), ('R_R11098__mito', (0, 1.0)), ('R_R02569__mito', (0, 1.0)), ('R_R01658__cytop', (0, 1.0)), ('R_R03026__chlo', (-1.0, 1.0)), ('R_R01070__cytop', (-1.0, 1.0)), ('R_R04739__mito', (-1.0, 1.0)), ('R_R02661__mito', (0, 1.0)), ('R_R00619__cytop', (0, 1.0)), ('R_T_Aminoimidazole_ribotide__chlomem', (-1, 1)), ('R_TO1003193_PLAS__plas', (0, 1.0)), ('R_TR0000049_CHLO__chlomem', (-1.0, 1.0)), ('R_R03970__cytop', (0, 1.0)), ('R_T_CoA_V1__mitmem', (0, 1.0)), ('R_R04972__cytop', (0, 1.0)), ('R_EX_C01594__dra', (0, 1)), ('R_R09538__cytop', (0, 1.0)), ('R_R04420__pero', (-1.0, 1.0)), ('R_R01890__cytop', (0, 1.0)), ('R_R02988__cytop', (0, 1.0)), ('R_R04956__mito', (0, 1.0)), ('R_R07602__mito', (0, 1.0)), ('R_R03658__cytop', (0, 1.0)), ('R_R10035__extr', (0, 1.0)), ('R_R01547__mito', (-1.0, 1.0)), ('R_RXN_12753__mito', (0, 1)), ('R_T_Farnesyl_diphosphate_V1__ermem', (-1, 1)), ('R_EX_C00221__dra', (0, 1)), ('R_R00430__mito', (0, 1.0)), ('R_R01392__chlo', (0, 1.0)), ('R_R01108__chlo', (0, 1.0)), ('R_R07895__pero', (-1.0, 1.0)), ('R_R04738__pero', (-1.0, 1.0)), ('R_R03337__mito', (0, 1)), ('R_T_L_Lysine_V1__mitmem', (-1.0, 1.0)), ('R_R03479__cytop', (0, 1.0)), ('R_R05884__chlo', (0, 1.0)), ('R_R04958__chlo', (0, 1.0)), ('R_R04109__chlo', (0, 1.0)), ('R_R01518__mito', (-1.0, 1.0)), ('R_R08190__cytop', (0, 1.0)), ('R_R03596__chlo', (0, 1.0)), ('R_TO1100105_PLAS__plas', (0, 1.0)), ('R_R01325__mito', (-1.0, 1.0)), ('R_EX_C04233__dra', (0, 1)), ('R_R02240__e_r_', (0, 1.0)), ('R_T_Ammonia_V5__nucmem', (-1, 1)), ('R_R10074__mito', (0, 1.0)), ('R_R00483__cytop', (0, 1.0)), ('R_R01361__pero', (-1.0, 1.0)), ('R_R07763__mito', (0, 1.0)), ('R_R01890__nucl', (0, 1.0)), ('R_TI3000049_E_R___ermem', (0, 1.0)), ('R_R00999__mito', (0, 1.0)), ('R_R07459__chlo', (0, 1.0)), ('R_R08192__mito', (0, 1.0)), ('R_R02473__mito', (0, 1.0)), ('R_R04558__cytop', (0, 1.0)), ('R_T_ACATN__ermem', (-1.0, 1.0)), ('R_R00245__cytop', (0, 1.0)), ('R_R01011__cytop', (0, 1.0)), ('R_R01333__cytop', (0, 1)), ('R_R02088__cytop', (0, 1.0)), ('R_R03457__cytop', (0, 1.0)), ('R_R04953__chlo', (0, 1.0)), ('R_R03401__pero', (-1.0, 1.0)), ('R_EX_C00062__dra', (0, 1)), ('R_PKS_C184__cytop', (0, 1.0)), ('R_R05333__e_r_', (0, 1.0)), ('R_EX_C00392__dra', (0, 1)), ('R_R01234__cytop', (0, 1.0)), ('R_T_beta_Alanine__mitmem', (-1, 1)), ('R_R09418__e_r_', (0, 1.0)), ('R_R11644__e_r_', (0, 1.0)), ('R_R04867__cytop', (0, 1.0)), ('R_R00026__chlo', (0, 1.0)), ('R_R08162__chlo', (0, 1.0)), ('R_TR2000102_PLAS__chlomem', (0, 1.0)), ('R_R07108__mito', (0, 1.0)), ('R_R01512__chlo', (-1.0, 1.0)), ('R_TR0003387_PLAS__plas', (-1.0, 1.0)), ('R_R02814__chlo', (0, 1.0)), ('R_TR0000047_PLAS__chlomem', (-1.0, 1.0)), ('R_R07394__nucl', (0, 1.0)), ('R_R02975__cytop', (0, 1.0)), ('R_R12570__e_r_', (0, 1.0)), ('R_R00217__cytop', (0, 1.0)), ('R_T_Anthranilate__chlomem', (-1, 1)), ('R_R07939__e_r_', (0, 1.0)), ('R_R00548__extr', (0, 1.0)), ('R_R04944__cytop', (0, 1.0)), ('R_R07603__mito', (0, 1.0)), ('R_R07393__nucl', (0, 1.0)), ('R_TI3000720_PLAS__plas', (0, 1.0)), ('R_R06962__chlo', (-1.0, 1.0)), ('R_R12428__mito', (0, 1.0)), ('R_R04966__cytop', (0, 1.0)), ('R_R07893__mito', (-1.0, 1.0)), ('R_R00031__cytop', (0, 1.0)), ('R_R03650__chlo', (0, 1.0)), ('R_R02503__chlo', (0, 1.0)), ('R_R02499__e_r_', (0, 1.0)), ('R_R07604__mito', (0, 1.0)), ('R_R00093__mito', (0, 1.0)), ('R_PKS_C205__cytop', (0, 1.0)), ('R_R10040__chlo', (0, 1.0)), ('R_R03361__cytop', (0, 1.0)), ('R_R08220__cytop', (0, 1.0)), ('R_R07236__chlo', (0, 1.0)), ('R_TO1100100_PLAS__plas', (0, 1.0)), ('R_R01049__cytop', (0, 1.0)), ('R_TR0000532_PLAS__plas', (-1, 1)), ('R_R05590__cytop', (0, 1.0)), ('R_R04231__mito', (0, 1.0)), ('R_R02722__chlo', (0, 1.0)), ('R_TO1103193_PLAS__plas', (0, 1.0)), ('R_R00418__cytop', (-1.0, 1.0)), ('R_R08163__chlo', (0, 1.0)), ('R_R04208__cytop', (0, 1.0)), ('R_R04780__cytop', (0, 1.0)), ('R_R00562__pero', (0, 1.0)), ('R_R08198__mito', (-1.0, 1.0)), ('R_TO1100314_PLAS__plas', (0, 1.0)), ('R_R06963__chlo', (-1.0, 1.0)), ('R_R02497__e_r_', (0, 1.0)), ('R_R02022__cytop', (0, 1.0)), ('R_R03370__chlo', (0, 1.0)), ('R_R02295__cytop', (-1.0, 1.0)), ('R_R06261__e_r_', (0, 1.0)), ('R_TO1001605_PLAS__plas', (0, 1.0)), ('R_R00647__cytop', (0, 1.0)), ('R_R02610__e_r_', (0, 1.0)), ('R_R01664__cytop', (0, 1.0)), ('R_R05454__cytop', (0, 1)), ('R_R03186__mito', (0, 1.0)), ('R_R01186__golg', (0, 1.0)), ('R_R07069__e_r_', (0, 1.0)), ('R_R07674__chlo', (-1.0, 1.0)), ('R_R04673__chlo', (0, 1.0)), ('R_R01920__cytop', (0, 1.0)), ('R_R04014__chlo', (0, 1.0)), ('R_R02057__e_r_', (0, 1.0)), ('R_R00669__cytop', (0, 1.0)), ('R_R01175__mito', (0, 1.0)), ('R_R08551__e_r_', (0, 1.0)), ('R_R02003__chlo', (0, 1.0)), ('R_R01829__mito', (-1.0, 1.0)), ('R_TI3000295_ERMEM__ermem', (0, 1.0)), ('R_R08161__chlo', (0, 1.0)), ('R_R03469__nucl', (0, 1.0)), ('R_EX_C00954__dra', (0, 1)), ('R_R02038__cytop', (0, 1.0)), ('R_R00529__chlo', (0, 1.0)), ('R_TO1000448_PLAS__plas', (0, 1.0)), ('R_R00968__nucl', (0, 1.0)), ('R_R07109__mito', (0, 1.0)), ('R_R00402__cytop', (0, 1.0)), ('R_R04952__chlo', (0, 1.0)), ('R_R03077__cytop', (-1.0, 1.0)), ('R_R01206__cytop', (0, 1.0)), ('R_R07024__cytop', (0, 1.0)), ('R_R02016__cytop', (0, 1.0)), ('R_R07002__cytop', (0, 1.0)), ('R_R06260__e_r_', (0, 1.0)), ('R_EX_C20835__dra', (0, 1)), ('R_R00590__chlo', (0, 1.0)), ('R_R12168__e_r_', (0, 1.0)), ('R_T_beta_D_Glucose__ermem', (0, 1)), ('R_R00529__cytop', (0, 1.0)), ('R_R01321__e_r_', (0, 1.0)), ('R_R01430__pero', (-1.0, 1.0)), ('R_T_CO2_V2__mitmem', (-1, 1)), ('R_R03534__mito', (0, 1.0)), ('R_R02102__cytop', (0, 1.0)), ('R_RXN_12754__mito', (0, 1)), ('R_R03005__cytop', (0, 1)), ('R_R00974__cytop', (0, 1.0)), ('R_T_CDP_ethanolamine__ermem', (-1, 1)), ('R_R09833__cytop', (0, 1.0)), ('R_R04739__pero', (-1.0, 1.0)), ('R_EX_C18870__dra', (0, 1)), ('R_R03026__pero', (-1.0, 1.0)), ('R_R00650__cytop', (0, 1.0)), ('R_R02739__cytop', (-1.0, 1.0)), ('R_R01836__cytop', (-1.0, 1.0)), ('R_R08232__cytop', (0, 1.0)), ('R_R08093__pero', (-1.0, 1.0)), ('R_T_CIT__permem', (0, 1.0)), ('R_R02683__chlo', (0, 1.0)), ('R_TO1000107_PLAS__plas', (0, 1.0)), ('R_EX_C01327__dra', (0, 1)), ('R_R00287__cytop', (0, 1)), ('R_R01710__cytop', (0, 1.0)), ('R_R02613__cytop', (0, 1.0)), ('R_R10053__cytop', (0, 1)), ('R_R06262__e_r_', (0, 1.0)), ('R_R04968__chlo', (0, 1.0)), ('R_R03660__mito', (0, 1.0)), ('R_T_NADth__chlomem', (-1, 1)), ('R_R00945__mito', (-1.0, 1.0)), ('R_R07091__e_r_', (0, 1.0)), ('R_R03293__cytop', (0, 1.0)), ('R_TO0000182_PLAS__vacmem', (0, 1.0)), ('R_TO0000082_PLAS__ermem', (0, 1.0)), ('R_T_ASPSAth__chlomem', (-1, 1)), ('R_R02662__mito', (0, 1.0)), ('R_TO0000080_PLAS__ermem', (0, 1.0)), ('R_R01001__cytop', (0, 1.0)), ('R_R05577__chlo', (0, 1.0)), ('R_R00235__cytop', (0, 1.0)), ('R_R04963__mito', (0, 1.0)), ('R_EX_C00001__dra', (-1, 1)), ('R_R00485__cytop', (0, 1.0)), ('R_R01512__cytop', (-1.0, 1.0)), ('R_T_Hydrogen__plas', (-1, 1)), ('R_R01251__cytop', (0, 1.0)), ('R_R00746__cytop', (-1.0, 1.0)), ('R_R03024__cytop', (0, 1)), ('R_R01085__mito', (0, 1.0)), ('R_R04469__chlo', (0, 1.0)), ('R_R07024__e_r_', (0, 1.0)), ('R_R07999__cytop', (0, 1.0)), ('R_R09281__pero', (-1.0, 1.0)), ('R_R10707__chlo', (0, 1.0)), ('R_EX_C07086__dra', (0, 1)), ('R_R09955__e_r_', (-1.0, 1.0)), ('R_EX_C00123__dra', (0, 1)), ('R_R12461__cytop', (0, 1.0)), ('R_EX_C00099__dra', (0, 1)), ('R_T_ACCOAtm__mitmem', (-1.0, 1.0)), ('R_R07672__cytop', (0, 1.0)), ('R_R10116__cytop', (0, 1.0)), ('R_R06875__nucl', (0, 1.0)), ('R_R01385__cytop', (-1.0, 1.0)), ('R_R04671__e_r_', (-1.0, 1.0)), ('R_R02472__mito', (0, 1.0)), ('R_R10710__cytop', (-1.0, 1.0)), ('R_T_NADPH__ermem', (-1, 1)), ('R_R07316__mito', (0, 1.0)), ('R_R11059__e_r_', (0, 1.0)), ('R_EX_C18021__dra', (0, 1)), ('R_R00927__pero', (-1.0, 1.0)), ('R_R00214__mito', (0, 1.0)), ('R_R11100__chlo', (0, 1.0)), ('R_R02142__mito', (0, 1.0)), ('R_R03348__cytop', (0, 1.0)), ('R_R05636__chlo', (0, 1.0)), ('R_R09845__e_r_', (0, 1.0)), ('R_R09844__cytop', (0, 1.0)), ('R_R00390__e_r_', (0, 1.0)), ('R_R01195__chlo', (-1.0, 1.0)), ('R_T_Acetate__chlomem', (-1, 1)), ('R_EX_C00681__dra', (0, 1)), ('R_R03778__pero', (-1.0, 1.0)), ('R_TR0000243_PLAS__chlomem', (-1.0, 1.0)), ('R_R03509__chlo', (-1.0, 1.0)), ('R_R07113__e_r_', (0, 1.0)), ('R_R09138__cytop', (0, 1.0)), ('R_R00589__cytop', (-1.0, 1.0)), ('R_R00369__pero', (-1.0, 1.0)), ('R_TO1001257_PLAS__plas', (0, 1.0)), ('R_R09405__e_r_', (0, 1.0)), ('R_R00578__cytop', (0, 1.0)), ('R_T_CMP_V1__mitmem', (-1, 1)), ('R_R00851__chlo', (0, 1.0)), ('R_R01061__cytop', (-1.0, 1.0)), ('R_R02527__pero', (-1.0, 1.0)), ('R_R01799__e_r_', (0, 1.0)), ('R_TZ2900025_PLAS__plas', (-1.0, 1.0)), ('R_R06516__e_r_', (0, 1.0)), ('R_R01334__chlo', (0, 1.0)), ('R_R02100__chlo', (0, 1.0)), ('R_R04957__cytop', (0, 1.0)), ('R_T_5_Methylthioadenosine__mitmem', (-1, 1)), ('R_R12184__mito', (0, 1.0)), ('R_R07492__e_r_', (0, 1.0)), ('R_TO1000084_PLAS__plas', (0, 1.0)), ('R_R03005__nucl', (0, 1.0)), ('R_EX_C00561__dra', (0, 1)), ('R_R00900__cytop', (-1.0, 1.0)), ('R_R05286__mito', (0, 1.0)), ('R_R04959__chlo', (0, 1.0)), ('R_R00694__cytop', (-1.0, 1.0)), ('R_R00026__extr', (0, 1.0)), ('R_R03260__cytop', (0, 1.0)), ('R_R00183__cytop', (0, 1.0)), ('R_T_CO2__plas', (-1, 1)), ('R_TR2000061_PLAS__chlomem', (-1.0, 1.0)), ('R_R00194__cytop', (-1.0, 1.0)), ('R_R01868__mito', (0, 1.0)), ('R_R07046__chlo', (0, 1.0)), ('R_R02251__e_r_', (0, 1.0)), ('R_T_SLC25A17_V4__permem', (0, 1.0)), ('R_R09877__cytop', (0, 1.0)), ('R_R02777__cytop', (0, 1.0)), ('R_R08179__cytop', (0, 1.0)), ('R_R07054__e_r_', (0, 1.0)), ('R_R01699__mito', (0, 1.0)), ('R_R00221__mito', (0, 1.0)), ('R_R03013__cytop', (0, 1.0)), ('R_R09654__chlo', (0, 1.0)), ('R_R01334__pero', (0, 1.0)), ('R_R02247__cytop', (0, 1.0)), ('R_R06601__mito', (-1.0, 1.0)), ('R_R02352__cytop', (0, 1.0)), ('R_TO0000184_PLAS__vacmem', (0, 1.0)), ('R_R02527__chlo', (-1.0, 1.0)), ('R_R05718__cytop', (0, 1)), ('R_R07894__pero', (-1.0, 1.0)), ('R_T__GlcNAc_2_Man_5_Asn_1_V1__plas', (0, 1)), ('R_R07933__e_r_', (0, 1.0)), ('R_R01714__chlo', (0, 1.0)), ('R_R00713__mito', (0, 1.0)), ('R_T_G00012_V1__golmem', (0, 1)), ('R_R06734__cytop', (0, 1.0)), ('R_R08235__cytop', (0, 1.0)), ('R_R01529__chlo', (-1.0, 1.0)), ('R_R06284__chlo', (0, 1.0)), ('R_R00235__chlo', (0, 1.0)), ('R_R01187__cytop', (0, 1.0)), ('R_R03183__e_r_', (-1.0, 1.0)), ('R_EX_C00033__dra', (0, 1)), ('R_R04544__chlo', (0, 1.0)), ('R_PRISM_growth_room__extr', (0, 1)), ('R_TI3000031_PLAS__plas', (0, 1.0)), ('R_R02814__cytop', (0, 1.0)), ('R_R03276__mito', (-1.0, 1.0)), ('R_R07675__cytop', (0, 1.0)), ('R_R02735__chlo', (-1.0, 1.0)), ('R_R00842__chlo', (-1.0, 1.0)), ('R_R12595__cytop', (0, 1.0)), ('R_EX_C00270__dra', (0, 1)), ('R_R04867__nucl', (0, 1.0)), ('R_R02989__cytop', (0, 1.0)), ('R_EX_C00965__dra', (0, 1)), ('R_R07916__chlo', (0, 1.0)), ('R_RXN_21830__e_r_', (0, 1.0)), ('R_R00551__mito', (0, 1.0)), ('R_R00226__chlo', (0, 1.0)), ('R_R10508__chlo', (-1.0, 1.0)), ('R_R00497__chlo', (0, 1.0)), ('R_R01411__cytop', (0, 1.0)), ('R_R12205__e_r_', (0, 1.0)), ('R_T_Oxygen_V1__chlomem', (-1, 1)), ('R_T_5_10_Methylenetetrahydrofolate__chlomem', (0, 1.0)), ('R_R02029__e_r_', (0, 1.0)), ('R_R03990__mito', (0, 1.0)), ('R_TI3000878_PLAS__plas', (0, 1.0)), ('R_R04537__chlo', (0, 1.0)), ('R_T_UDPGA__chlomem', (-1.0, 1.0)), ('R_R00328__cytop', (0, 1.0)), ('R_RXN_14484__e_r_', (0, 1.0)), ('R_R04946__cytop', (0, 1.0)), ('R_e_FreeFattyAcid__cytop', (0, 1)), ('R_R00089__cytop', (0, 1.0)), ('R_R10119__chlo', (0, 1.0)), ('R_TO1000154_PLAS__plas', (0, 1.0)), ('R_ATPm__cytop', (0, 1.0)), ('R_T_3_Methyl_2_oxobutanoic_acid__chlomem', (-1, 1)), ('R_R05756__cytop', (0, 1.0)), ('R_R07045__e_r_', (0, 1.0)), ('R_R02412__chlo', (0, 1.0)), ('R_R00045__cytop', (0, 1.0)), ('R_R02016__mito', (0, 1.0)), ('R_R01007__cytop', (0, 1.0)), ('R_R04748__mito', (-1.0, 1.0)), ('R_R10116__mito', (0, 1.0)), ('R_R04859__cytop', (0, 1.0)), ('R_R08240__cytop', (0, 1.0)), ('R_TO0000249_PLAS__vacmem', (0, 1.0)), ('R_R00996__chlo', (0, 1.0)), ('R_R02405__mito', (0, 1.0)), ('R_R03269__mito', (0, 1.0)), ('R_EX_C00189__dra', (0, 1)), ('R_R01025__mito', (0, 1.0)), ('R_R00895__mito', (-1.0, 1.0)), ('R_R01137__chlo', (0, 1.0)), ('R_R01184__cytop', (0, 1.0)), ('R_T_Superoxide__mitmem', (-1, 1)), ('R_R08279__cytop', (0, 1)), ('R_R00465__pero', (-1.0, 1.0)), ('R_R01373__chlo', (0, 1.0)), ('R_R04741__pero', (-1.0, 1.0)), ('R_T_Ammonia_V1__chlomem', (-1, 1)), ('R_R03283__chlo', (0, 1.0)), ('R_R04954__cytop', (0, 1.0)), ('R_EX_C07447__dra', (0, 1)), ('R_R06282__chlo', (0, 1.0)), ('R_R09823__mito', (0, 1.0)), ('R_R10548__cytop', (0, 1.0)), ('R_ATP_Synthase__mitmem', (-1.0, 1.0)), ('R_TI3000297_PLAS__plas', (0, 1.0)), ('R_R07093__cytop', (0, 1.0)), ('R_R01830__cytop', (-1.0, 1.0)), ('R_R08980__e_r_', (0, 1.0)), ('R_R00704__pero', (-1.0, 1.0)), ('R_TE_2__cytop', (0, 1.0)), ('R_R00156__cytop', (0, 1.0)), ('R_R00802__cytop', (0, 1.0)), ('R_DM_photon298__cytop', (0, 1)), ('R_R01602__cytop', (-1.0, 1.0)), ('R_R09281__chlo', (-1.0, 1.0)), ('R_R00575__cytop', (0, 1.0)), ('R_R08381__cytop', (-1.0, 1.0)), ('R_R04163__e_r_', (0, 1.0)), ('R_R01926__cytop', (0, 1.0)), ('R_R07460__chlo', (0, 1.0)), ('R_R08093__chlo', (-1.0, 1.0)), ('R_R08601__cytop', (0, 1.0)), ('R_TO0000277_PLAS__vacmem', (0, 1.0)), ('R_R07052__e_r_', (0, 1.0)), ('R_R03956__cytop', (0, 1.0)), ('R_R06986__golg', (0, 1.0)), ('R_EX_C18060__dra', (0, 1)), ('R_R01416__mito', (0, 1.0)), ('R_R01026__extr', (0, 1.0)), ('R_R07505__e_r_', (0, 1.0)), ('R_R03662__cytop', (0, 1.0)), ('R_R01183__mito', (0, 1.0)), ('R_R07050__chlo', (0, 1.0)), ('R_EX_C00263__dra', (0, 1)), ('R_R00959__chlo', (-1.0, 1.0)), ('R_R01728__cytop', (0, 1)), ('R_R00734__chlo', (-1.0, 1.0)), ('R_R04241__mito', (0, 1.0)), ('R_R03869__chlo', (0, 1.0)), ('R_R00009__pero', (0, 1.0)), ('R_R09977__chlo', (-1, 1)), ('R_R03459__chlo', (0, 1.0)), ('R_TO1000128_PLAS__plas', (0, 1.0)), ('R_R09407__e_r_', (0, 1.0)), ('R_R01769__cytop', (0, 1.0)), ('R_R07034__cytop', (0, 1.0)), ('R_TO1100724_PLAS__plas', (0, 1.0)), ('R_T_Octadecenoic_acid__chlomem', (0, 1)), ('R_R10492__chlo', (0, 1.0)), ('R_R01496__e_r_', (0, 1.0)), ('R_R00586__cytop', (0, 1.0)), ('R_R07003__cytop', (0, 1.0)), ('R_R01352__cytop', (0, 1.0)), ('R_EX_C18796__dra', (0, 1)), ('R_TO0000311_PLAS__vacmem', (0, 1.0)), ('R_R10056__cytop', (0, 1)), ('R_R04065__cytop', (0, 1.0)), ('R_R04743__pero', (-1.0, 1.0)), ('R_R06893__mito', (0, 1.0)), ('R_T_all_trans_Nonaprenyl_diphosphate_V1__mitmem', (-1, 1)), ('R_R05861__cytop', (0, 1.0)), ('R_R05981__e_r_', (0, 1.0)), ('R_R02549__cytop', (0, 1.0)), ('R_R07064__cytop', (0, 1.0)), ('R_R10709__chlo', (0, 1.0)), ('R_Cytochrome_C_Reductase__mitmem', (0, 1.0)), ('R_R04326__cytop', (0, 1.0)), ('R_R00589__mito', (-1.0, 1.0)), ('R_R09450__mito', (0, 1.0)), ('R_R05071__cytop', (-1.0, 1.0)), ('R_R04740__mito', (-1.0, 1.0)), ('R_TI2903793_PLAS__mitmem', (0, 1.0)), ('R_R03037__mito', (0, 1.0)), ('R_T_Methanol_V1__permem', (-1, 1)), ('R_R04405__cytop', (0, 1.0)), ('R_R02023__cytop', (0, 1.0)), ('R_R04330__mito', (0, 1.0)), ('R_R08766__mito', (0, 1)), ('R_TO1100366_PLAS__plas', (0, 1.0)), ('R_R02317__cytop', (0, 1)), ('R_R01993__cytop', (-1.0, 1.0)), ('R_R02065__chlo', (0, 1.0)), ('R_R08090__mito', (-1.0, 1.0)), ('R_TO1100306_PLAS__plas', (0, 1.0)), ('R_R02687__cytop', (0, 1.0)), ('R_R01015__cytop', (-1.0, 1.0)), ('R_R01055__mito', (-1.0, 1.0)), ('R_R00112__cytop', (0, 1.0)), ('R_R10039__chlo', (0, 1.0)), ('R_R00189__cytop', (0, 1.0)), ('R_R00190__mito', (0, 1.0)), ('R_R02654__e_r_', (0, 1.0)), ('R_R02846__pero', (0, 1.0)), ('R_EX_C16834__dra', (0, 1)), ('R_R07618__chlo', (0, 1.0)), ('R_EX_C06697__dra', (0, 1)), ('R_R08392__e_r_', (0, 1.0)), ('R_R04725__cytop', (0, 1.0)), ('R_R07022__e_r_', (0, 1.0)), ('R_R07023__cytop', (0, 1.0)), ('R_R01229__mito', (0, 1.0)), ('R_R03697__e_r_', (0, 1.0)), ('R_R01301__mito', (0, 1)), ('R_R04998__cytop', (0, 1.0)), ('R_R06896__chlo', (-1.0, 1.0)), ('R_R01249__cytop', (0, 1)), ('R_R04509__chlo', (0, 1.0)), ('R_R08280__chlo', (0, 1.0)), ('R_R03084__chlo', (-1.0, 1.0)), ('R_R08390__chlo', (0, 1.0)), ('R_R03956__chlo', (0, 1.0)), ('R_R01004__cytop', (0, 1.0)), ('R_R11893__cytop', (-1.0, 1.0)), ('R_R02282__chlo', (-1.0, 1.0)), ('R_R01837__e_r_', (0, 1.0)), ('R_R01795__cytop', (0, 1.0)), ('R_R07945__e_r_', (0, 1.0)), ('R_R00238__mito', (-1.0, 1.0)), ('R_R03038__chlo', (0, 1.0)), ('R_R03103__cytop', (0, 1.0)), ('R_R01132__mito', (0, 1.0)), ('R_R00922__mito', (0, 1.0)), ('R_R05064__pero', (0, 1.0)), ('R_R01288__cytop', (-1.0, 1.0)), ('R_R09450_V1__mito', (0, 1.0)), ('R_R00238__cytop', (-1.0, 1.0)), ('R_R00533__mito', (0, 1.0)), ('R_R02747__cytop', (0, 1.0)), ('R_R01186__chlo', (0, 1.0)), ('R_T_SLC25A17_V1__permem', (0, 1.0)), ('R_TI3000278_PLAS__ermem', (0, 1.0)), ('R_R04724__chlo', (0, 1.0)), ('R_R02216__e_r_', (-1.0, 1.0)), ('R_R09087__nucl', (0, 1.0)), ('R_R04960__chlo', (0, 1.0)), ('R_EX_C05838__dra', (0, 1)), ('R_R01676__cytop', (0, 1.0)), ('R_T_Isopentenyl_diphosphate__ermem', (-1, 1)), ('R_R06258__e_r_', (0, 1.0)), ('R_R01708__cytop', (-1.0, 1.0)), ('R_R00261__cytop', (0, 1.0)), ('R_R03363__nucl', (0, 1.0)), ('R_R09030__chlo', (-1.0, 1.0)), ('R_RXN_12867__cytop', (0, 1)), ('R_R05595__chlo', (-1.0, 1.0)), ('R_R05066__pero', (-1.0, 1.0)), ('R_R03758__cytop', (0, 1.0)), ('R_R00497__pero', (0, 1.0)), ('R_R01310__cytop', (0, 1.0)), ('R_R00256__chlo', (0, 1.0)), ('R_R03665__cytop', (0, 1.0)), ('R_R06868__cytop', (0, 1.0)), ('R_R08175__pero', (0, 1.0)), ('R_R04725__mito', (0, 1.0)), ('R_R03991__pero', (-1.0, 1.0)), ('R_R07507__e_r_', (0, 1.0)), ('R_T_Glycolate_V1__mitmem', (-1, 1)), ('R_R03158__cytop', (0, 1.0)), ('R_R02098__cytop', (-1.0, 1.0)), ('R_R03194__chlo', (0, 1.0)), ('R_T_3_Fumarylpyruvate__mitmem', (-1, 1)), ('R_R03654__cytop', (0, 1.0)), ('R_R05334__cytop', (0, 1.0)), ('R_R04420__cytop', (-1.0, 1.0)), ('R_T_L_Alanine__chlomem', (-1.0, 1.0)), ('R_R04568__cytop', (0, 1.0)), ('R_R07559__chlo', (0, 1.0)), ('R_R04944__mito', (0, 1.0)), ('R_TO0000063_PLAS__plas', (0, 1.0)), ('R_T__S__Dihydroorotate__mitmem', (-1, 1)), ('R_R00694__chlo', (-1.0, 1.0)), ('R_TO3000675_PLAS__plas', (0, 1.0)), ('R_R04998__chlo', (0, 1.0)), ('R_R00586__chlo', (0, 1.0)), ('R_R06917__cytop', (0, 1.0)), ('R_R07276__mito', (0, 1.0)), ('R_R11232__cytop', (0, 1.0)), ('R_R01583__cytop', (0, 1.0)), ('R_T_Phosphatidylcholine__golmem', (-1, 1)), ('R_R08738__cytop', (0, 1.0)), ('R_R01836__mito', (-1.0, 1.0)), ('R_R00702__chlo', (0, 1.0)), ('R_T_CoA_ATP__mitmem', (-1.0, 1.0)), ('R_R05802__cytop', (0, 1.0)), ('R_R04241__nucl', (0, 1.0)), ('R_R09409__chlo', (0, 1.0)), ('R_R02904__cytop', (0, 1)), ('R_R00200__mito', (0, 1.0)), ('R_R02147__cytop', (-1.0, 1.0)), ('R_T_3_Isopropylmalate__chlomem', (-1, 1)), ('R_RXN_19211_V1__chlo', (0, 1.0)), ('R_EX_C04015__dra', (0, 1)), ('R_R03920__chlo', (0, 1.0)), ('R_R02433__mito', (-1.0, 1.0)), ('R_R00511__cytop', (0, 1.0)), ('R_EX_C00047__dra', (0, 1)), ('R_R09251__chlo', (0, 1.0)), ('R_R00087__chlo', (0, 1.0)), ('R_TO1125981_PLAS__plas', (0, 1.0)), ('R_R00004__cytop', (0, 1.0)), ('R_R00640__mito', (0, 1.0)), ('R_R08183__cytop', (0, 1.0)), ('R_R10046__cytop', (0, 1.0)), ('R_R04441__mito', (0, 1.0)), ('R_R09367__cytop', (0, 1)), ('R_R07116__cytop', (0, 1.0)), ('R_R04746__mito', (-1.0, 1.0)), ('R_PKS_C101__cytop', (0, 1.0)), ('R_R01801__chlo', (0, 1.0)), ('R_R00160__mito', (0, 1.0)), ('R_R07069__chlo', (0, 1.0)), ('R_R03223__chlo', (0, 1.0)), ('R_R03600__cytop', (0, 1.0)), ('R_R01931__cytop', (0, 1.0)), ('R_R01214__mito', (-1.0, 1.0)), ('R_R01560__cytop', (0, 1.0)), ('R_R00014__cytop', (0, 1.0)), ('R_R00794__cytop', (0, 1.0)), ('R_R00308__cytop', (0, 1.0)), ('R_R05237__chlo', (0, 1.0)), ('R_R03815__chlo', (-1.0, 1.0)), ('R_TR0000043_PLAS__golmem', (-1.0, 1.0)), ('R_R09725__mito', (0, 1)), ('R_R01471__chlo', (-1.0, 1.0)), ('R_R00308__extr', (0, 1.0)), ('R_R04544__cytop', (0, 1.0)), ('R_R07504__chlo', (0, 1.0)), ('R_EX_C00013__dra', (0, 1)), ('R_R10557__chlo', (0, 1.0)), ('R_R10118__mito', (0, 1.0)), ('R_R00253__cytop', (0, 1.0)), ('R_R08251__extr', (0, 1.0)), ('R_R02540__cytop', (0, 1.0)), ('R_R04800__chlo', (0, 1.0)), ('R_R00967__cytop', (0, 1.0)), ('R_RXN_10662__cytop', (0, 1.0)), ('R_R02018__cytop', (0, 1.0)), ('R_R02051__cytop', (0, 1.0)), ('R_R03172__mito', (0, 1.0)), ('R_R09542_V1__chlo', (0, 1)), ('R_R02740__chlo', (-1.0, 1.0)), ('R_PRISM_fluorescent_warm_18W__extr', (0, 1)), ('R_R05803__nucl', (0, 1.0)), ('R_R07080__e_r_', (0, 1.0)), ('R_EX_C00282__dra', (0, 1)), ('R_TO1000082_PLAS__plas', (0, 1.0)), ('R_R01813__cytop', (0, 1.0)), ('R_R01163__chlo', (0, 1.0)), ('R_R07168__cytop', (0, 1.0)), ('R_R07487__e_r_', (0, 1.0)), ('R_R06171__mito', (-1.0, 1.0)), ('R_R08964__cytop', (-1.0, 1.0)), ('R_R01321__golg', (0, 1.0)), ('R_R08678__cytop', (0, 1.0)), ('R_R01280__pero', (0, 1.0)), ('R_R08392__chlo', (0, 1.0)), ('R_R06927__cytop', (-1.0, 1.0)), ('R_R01579__cytop', (0, 1.0)), ('R_R07022__chlo', (0, 1.0)), ('R_R02241__chlo', (0, 1.0)), ('R_R02383__cytop', (0, 1.0)), ('R_R05976__e_r_', (0, 1.0)), ('R_R07056__e_r_', (0, 1.0)), ('R_TR2000103_PLAS__chlomem', (0, 1.0)), ('R_R04030__pero', (0, 1.0)), ('R_R01895__cytop', (-1.0, 1.0)), ('R_R01658__mito', (0, 1.0)), ('R_R06875__cytop', (0, 1.0)), ('R_R07459__cytop', (0, 1.0)), ('R_R00410__mito', (-1.0, 1.0)), ('R_R00926__cytop', (0, 1.0)), ('R_R01829__cytop', (-1.0, 1.0)), ('R_R10659__chlo', (0, 1.0)), ('R_R04621__cytop', (0, 1)), ('R_R07641__cytop', (0, 1.0)), ('R_EX_C00185__dra', (0, 1)), ('R_R00516__nucl', (0, 1.0)), ('R_TO1000065_PLAS__plas', (0, 1.0)), ('R_R03845_V1__chlo', (0, 1.0)), ('R_R00769__cytop', (0, 1.0)), ('R_EX_C00152__dra', (0, 1)), ('R_R00961__golg', (0, 1.0)), ('R_R04964__cytop', (0, 1.0)), ('R_R02092__cytop', (0, 1.0)), ('R_R10991__chlo', (0, 1.0)), ('R_R02085__mito', (-1.0, 1.0)), ('R_R02102__e_r_', (0, 1.0)), ('R_R04834__e_r_', (0, 1.0)), ('R_R08689__chlo', (0, 1.0)), ('R_R01736__cytop', (0, 1.0)), ('R_R07001__chlo', (0, 1.0)), ('R_TO3000355_E_R___ermem', (0, 1.0)), ('R_R06265__chlo', (0, 1.0)), ('R_EX_C00079__dra', (0, 1)), ('R_R04961__mito', (0, 1.0)), ('R_R02372__nucl', (0, 1.0)), ('R_TI2000703_PLAS__plas', (0, 1.0)), ('R_RXN_16380__cytop', (0, 1.0)), ('R_R04470__chlo', (0, 1.0)), ('R_R04967__cytop', (0, 1.0)), ('R_R00985__chlo', (0, 1.0)), ('R_R01061__chlo', (-1.0, 1.0)), ('R_R00330__cytop', (0, 1.0)), ('R_R11765__cytop', (0, 1.0)), ('R_R02093__chlo', (0, 1.0)), ('R_R04218__chlo', (0, 1.0)), ('R_T_H2O_V6__nucmem', (-1, 1)), ('R_R00918__cytop', (0, 1.0)), ('R_TR2000128_PLAS__mitmem', (-1.0, 1.0)), ('R_R05455__cytop', (0, 1)), ('R_R00570__mito', (0, 1.0)), ('R_R12570__chlo', (0, 1.0)), ('R_R05918__e_r_', (0, 1.0)), ('R_R09381__chlo', (0, 1.0)), ('R_R03662__mito', (0, 1.0)), ('R_T_L_Tryptophan__chlomem', (-1.0, 1.0)), ('R_R01251__mito', (0, 1.0)), ('R_R10282__chlo', (-1.0, 1.0)), ('R_R10281__mito', (0, 1.0)), ('R_R04328__e_r_', (0, 1.0)), ('R_R07026__chlo', (0, 1.0)), ('R_R07099__chlo', (0, 1.0)), ('R_R04966__chlo', (0, 1.0)), ('R_R02800__mito', (0, 1.0)), ('R_R02700__cytop', (0, 1.0)), ('R_R10996__mito', (0, 1.0)), ('R_T_L_Methionine__chlomem', (-1.0, 1.0)), ('R_R01241__cytop', (0, 1.0)), ('R_R02144__cytop', (0, 1.0)), ('R_R08294__e_r_', (0, 1.0)), ('R_R08557__cytop', (0, 1.0)), ('R_R03950__chlo', (0, 1.0)), ('R_EX_C00177__dra', (0, 1)), ('R_R00181__cytop', (0, 1.0)), ('R_R11323__chlo', (0, 1.0)), ('R_R00943__mito', (0, 1.0)), ('R_R03663__chlo', (0, 1.0)), ('R_R00512__mito', (-1.0, 1.0)), ('R_R04534__mito', (0, 1.0)), ('R_EX_C00491__dra', (0, 1)), ('R_R03004__chlo', (0, 1.0)), ('R_R08186__cytop', (0, 1.0)), ('R_R09542__chlo', (0, 1)), ('R_R02355__e_r_', (0, 1.0)), ('R_R11043__chlo', (0, 1.0)), ('R_R03824__chlo', (-1.0, 1.0)), ('R_T_Ammonia__plas', (-1, 1)), ('R_EX_C00111__dra', (0, 1)), ('R_R00514__golg', (0, 1.0)), ('R_R08312__e_r_', (0, 1.0)), ('R_R08287__e_r_', (0, 1.0)), ('R_R00531__cytop', (0, 1.0)), ('R_T_H2O_V3__ermem', (-1, 1)), ('R_R02237__nucl', (0, 1.0)), ('R_R09601__chlo', (0, 1.0)), ('R_R08091__pero', (-1.0, 1.0)), ('R_R04440__chlo', (0, 1.0)), ('R_R00502__chlo', (-1.0, 1.0)), ('R_R05238__mito', (0, 1.0)), ('R_R05202__nucl', (0, 1.0)), ('R_R12067__mito', (0, 1.0)), ('R_R06941__mito', (0, 1.0)), ('R_R02957__mito', (0, 1.0)), ('R_R00790__chlo', (0, 1.0)), ('R_R07762__cytop', (-1.0, 1.0)), ('R_R04095__mito', (0, 1.0)), ('R_R01090__mito', (-1.0, 1.0)), ('R_R03231__mito', (0, 1.0)), ('R_R06064__cytop', (0, 1)), ('R_R04429__cytop', (0, 1.0)), ('R_R02095__cytop', (0, 1)), ('R_R01857__cytop', (0, 1.0)), ('R_R08237__mito', (0, 1.0)), ('R_TI3000014_E_R___ermem', (0, 1.0)), ('R_TO1119001_PLAS__plas', (0, 1.0)), ('R_R08359__cytop', (0, 1.0)), ('R_R04998__extr', (0, 1.0)), ('R_R07043__e_r_', (0, 1.0)), ('R_TO3001047_PLAS__plas', (0, 1.0)), ('R_R08637__cytop', (0, 1)), ('R_R04014__cytop', (0, 1.0)), ('R_R07429__e_r_', (0, 1.0)), ('R_R05233__cytop', (0, 1.0)), ('R_R07050__e_r_', (0, 1.0)), ('R_R08178__mito', (0, 1.0)), ('R_EX_C00184__dra', (0, 1)), ('R_EX_C01081__dra', (0, 1)), ('R_DM_photon680__chlo', (0, 1)), ('R_R09827__nucl', (0, 1.0)), ('R_R03105__mito', (0, 1.0)), ('R_R09543__mito', (0, 1.0)), ('R_R02301__mito', (0, 1.0)), ('R_R00138__cytop', (0, 1.0)), ('R_TI3000047_PLAS__plas', (0, 1.0)), ('R_R01880__nucl', (0, 1.0)), ('R_R00269__cytop', (0, 1.0)), ('R_R05048__cytop', (0, 1.0)), ('R_TR2000109_PLAS__mitmem', (-1.0, 1.0)), ('R_T_Superoxide_V1__permem', (-1, 1)), ('R_R04970__mito', (0, 1.0)), ('R_TO1000035_PLAS__plas', (0, 1.0)), ('R_R02521__chlo', (0, 1.0)), ('R_EX_C00086__dra', (0, 1)), ('R_R09409__cytop', (0, 1.0)), ('R_TO3000363_E_R___ermem', (0, 1.0)), ('R_T_CoA_AMP__mitmem', (-1.0, 1.0)), ('R_R01975__mito', (0, 1.0)), ('R_T_PNC__permem', (0, 1.0)), ('R_R00722__mito', (0, 1.0)), ('R_R04535__chlo', (0, 1.0)), ('R_R01771__cytop', (0, 1.0)), ('R_R00704__cytop', (-1.0, 1.0)), ('R_R11060__e_r_', (0, 1.0)), ('R_TI3000141_PLAS__mitmem', (0, 1.0)), ('R_R04242__extr', (0, 1.0)), ('R_R05595__pero', (-1.0, 1.0)), ('R_R01329__cytop', (0, 1.0)), ('R_EX_C00242__dra', (0, 1)), ('R_R07981__cytop', (0, 1.0)), ('R_R09823__cytop', (0, 1.0)), ('R_R03657__cytop', (0, 1.0)), ('R_R08095__pero', (-1.0, 1.0)), ('R_R03363__cytop', (0, 1.0)), ('R_R10121__mito', (-1.0, 1.0)), ('R_R07761__e_r_', (-1.0, 1.0)), ('R_RXN_14486__e_r_', (0, 1.0)), ('R_R02466__cytop', (0, 1.0)), ('R_R07483__e_r_', (-1.0, 1.0)), ('R_T_Oxygen_V3__ermem', (-1, 1)), ('R_R08181__mito', (0, 1.0)), ('R_R08176__mito', (0, 1.0)), ('R_R01213__chlo', (0, 1.0)), ('R_RXN_12971__e_r_', (0, 1.0)), ('R_DEDOLP1__e_r_', (0, 1.0)), ('R_R00748__cytop', (0, 1.0)), ('R_R02619__mito', (0, 1.0)), ('R_R02422__cytop', (0, 1.0)), ('R_R07093__chlo', (0, 1.0)), ('R_R00160__cytop', (0, 1)), ('R_R00004__mito', (0, 1.0)), ('R_TO1000132_PLAS__plas', (0, 1.0)), ('R_R10120__cytop', (0, 1.0)), ('R_R09431__cytop', (-1, 1)), ('R_R01220__cytop', (0, 1.0)), ('R_R01625__chlo', (0, 1.0)), ('R_R12702__e_r_', (0, 1.0)), ('R_R02237__mito', (0, 1.0)), ('R_R02092__golg', (0, 1.0)), ('R_T_L_Isoleucine__chlomem', (-1.0, 1.0)), ('R_R04844__mito', (0, 1.0)), ('R_R00571__chlo', (0, 1.0)), ('R_EX_C00061__dra', (0, 1)), ('R_R02237__cytop', (0, 1.0)), ('R_TO1000041_PLAS__plas', (0, 1.0)), ('R_R04533__chlo', (0, 1.0)), ('R_TO1000186_PLAS__plas', (0, 1.0)), ('R_R12571__mito', (0, 1.0)), ('R_R07979__cytop', (0, 1.0)), ('R_TO0003279_PLAS__vacmem', (0, 1.0)), ('R_R02491__cytop', (0, 1.0)), ('R_R00724__mito', (0, 1.0)), ('R_R01978__cytop', (-1.0, 1.0)), ('R_T_L_Galactono_1_4_Lactone__mitmem', (-1, 1)), ('R_TO1000156_PLAS__plas', (0, 1.0)), ('R_R03997__cytop', (0, 1.0)), ('R_R08238__cytop', (0, 1.0)), ('R_T_Octadecanoic_acid_V1__ermem', (0, 1)), ('R_R00139__chlo', (0, 1.0)), ('R_R00939__cytop', (0, 1.0)), ('R_TO0000971_PLAS__plas', (0, 1.0)), ('R_T_Orthophosphate_V1__golmem', (-1, 1)), ('R_T_UDPGLCter__ermem', (-1, 1)), ('R_R08251__e_r_', (0, 1.0)), ('R_R07273__cytop', (0, 1.0)), ('R_R01253__mito', (0, 1.0)), ('R_T_H2O_V7__vacmem', (-1, 1)), ('R_R00008__mito', (0, 1.0)), ('R_R07280__chlo', (0, 1.0)), ('R_R00122__cytop', (0, 1.0)), ('R_R00667__mito', (-1.0, 1.0)), ('R_R09372__cytop', (0, 1.0)), ('R_R00549__chlo', (0, 1.0)), ('R_R00104__cytop', (0, 1.0)), ('R_R10122__chlo', (0, 1.0)), ('R_R04961__cytop', (0, 1.0)), ('R_R00268__mito', (0, 1.0)), ('R_R00100__mito', (0, 1.0)), ('R_RXN_16095__e_r_', (0, 1.0)), ('R_R10998__mito', (0, 1.0)), ('R_R01158__chlo', (0, 1.0)), ('R_R07026__cytop', (0, 1.0)), ('R_R00590__cytop', (0, 1.0)), ('R_R03180__cytop', (0, 1.0)), ('R_R03090__e_r_', (0, 1.0)), ('R_R10712__chlo', (0, 1.0)), ('R_T_2_Oxobutanoate__mitmem', (-1, 1)), ('R_R00509__cytop', (0, 1.0)), ('R_R11098__cytop', (0, 1)), ('R_R00235__pero', (0, 1.0)), ('R_R08771__mito', (-1.0, 1.0)), ('R_R04936__cytop', (0, 1.0)), ('R_R07394__cytop', (0, 1.0)), ('R_R04903__mito', (0, 1.0)), ('R_R10120__chlo', (0, 1.0)), ('R_R03858__pero', (-1.0, 1.0)), ('R_R05305__pero', (-1.0, 1.0)), ('R_R02020__cytop', (0, 1.0)), ('R_T_AHCYS__ermem', (-1, 1)), ('R_R00602__pero', (0, 1.0)), ('R_R10247__cytop', (-1.0, 1.0)), ('R_RXN_16097__e_r_', (0, 1.0)), ('R_R04439__chlo', (0, 1.0)), ('R_R01548__cytop', (0, 1)), ('R_R03600__mito', (0, 1.0)), ('R_R12371__cytop', (0, 1.0)), ('R_R06946__chlo', (0, 1.0)), ('R_R03601__pero', (0, 1.0)), ('R_R03217__cytop', (0, 1.0)), ('R_R10280__chlo', (0, 1.0)), ('R_R08176__cytop', (0, 1.0)), ('R_R07121__cytop', (0, 1.0)), ('R_R04779__cytop', (0, 1.0)), ('R_R00026__e_r_', (0, 1.0)), ('R_EX_C00208__dra', (0, 1)), ('R_R00026__vacu', (0, 1.0)), ('R_R10247__chlo', (-1.0, 1.0)), ('R_R01451__e_r_', (0, 1.0)), ('R_R03631__cytop', (0, 1.0)), ('R_R10463__mito', (0, 1.0)), ('R_R12621__cytop', (0, 1.0)), ('R_R00722__cytop', (0, 1.0)), ('R_R00130__mito', (0, 1.0)), ('R_R05038__cytop', (0, 1.0)), ('R_R08704__cytop', (-1, 1)), ('R_T_Myo_Inositol__ermem', (-1, 1)), ('R_R05739__mito', (0, 1.0)), ('R_EX_C00255__dra', (0, 1)), ('R_R00573__chlo', (0, 1.0)), ('R_TO1100138_PLAS__plas', (0, 1.0)), ('R_R08945__e_r_', (0, 1.0)), ('R_R07456__cytop', (0, 1.0)), ('R_R09504__mito', (0, 1.0)), ('R_R06521__e_r_', (0, 1.0)), ('R_R07084__e_r_', (0, 1.0)), ('R_EX_C00575__dra', (0, 1)), ('R_R00243__cytop', (0, 1.0)), ('R_EX_C00059__dra', (-1, 1)), ('R_R00859__chlo', (0, 1.0)), ('R_R02503__e_r_', (0, 1.0)), ('R_R08789__cytop', (-1.0, 1.0)), ('R_R02556__cytop', (0, 1.0)), ('R_R00351__mito', (0, 1.0)), ('R_R06525__e_r_', (0, 1.0)), ('R_R06154__cytop', (0, 1.0)), ('R_TO1000550_PLAS__plas', (0, 1.0)), ('R_R05775__chlo', (0, 1.0)), ('R_R01468__cytop', (0, 1.0)), ('R_R09244__e_r_', (0, 1.0)), ('R_R05066__cytop', (-1.0, 1.0)), ('R_R09514__cytop', (0, 1.0)), ('R_R04506__cytop', (0, 1.0)), ('R_R01900__mito', (-1.0, 1.0)), ('R_R08539__e_r_', (0, 1.0)), ('R_R03672__cytop', (0, 1)), ('R_R08146__mito', (0, 1.0)), ('R_T_Ethanolamine_phosphate__ermem', (0, 1)), ('R_T_Hexadecenoic_acid__chlomem', (0, 1)), ('R_R08921__mito', (0, 1.0)), ('R_R07599__mito', (0, 1.0)), ('R_R01063__chlo', (0, 1.0)), ('R_T_Phosphatidate_V1__ermem', (-1, 1)), ('R_R05052__mito', (0, 1.0)), ('R_R03857__mito', (0, 1.0)), ('R_R00086__cytop', (0, 1.0)), ('R_R00572__mito', (0, 1.0)), ('R_R00256__cytop', (0, 1.0)), ('R_R00086__golg', (0, 1.0)), ('R_R08186__pero', (0, 1.0)), ('R_R04534__cytop', (0, 1.0)), ('R_R11762__cytop', (-1.0, 1.0)), ('R_EX_C11173__dra', (0, 1)), ('R_EX_C00379__dra', (0, 1)), ('R_R08599__golg', (0, 1.0)), ('R_R09418__chlo', (0, 1.0)), ('R_R00103__chlo', (0, 1.0)), ('R_R00078__chlo', (0, 1.0)), ('R_R04027__cytop', (0, 1)), ('R_T_R_Allantoin__mitmem', (-1, 1)), ('R_EX_C00288__dra', (0, 1)), ('R_R02331__mito', (0, 1.0)), ('R_TO1115390_PLAS__plas', (0, 1.0)), ('R_R04756__pero', (-1.0, 1.0)), ('R_TI3000243_PLAS__plas', (0, 1.0)), ('R_R04780__chlo', (0, 1.0)), ('R_EX_C08325__dra', (0, 1)), ('R_R08551__chlo', (0, 1.0)), ('R_R03077__chlo', (-1.0, 1.0)), ('R_R05421__cytop', (0, 1.0)), ('R_TO1100179_PLAS__plas', (0, 1.0)), ('R_R09416__chlo', (0, 1.0)), ('R_DM_photon437__chlo', (0, 1)), ('R_R04148__cytop', (0, 1.0)), ('R_R00670__cytop', (0, 1.0)), ('R_T_L_Isoleucine_V2__vacmem', (0, 1.0)), ('R_R05050__mito', (0, 1.0)), ('R_R04786__chlo', (0, 1.0)), ('R_R07939__chlo', (0, 1.0)), ('R_R11892__mito', (0, 1.0)), ('R_R04426__cytop', (0, 1.0)), ('R_R01286__chlo', (0, 1.0)), ('R_T_SLC25A17_V2__permem', (0, 1.0)), ('R_R00355__mito', (-1.0, 1.0)), ('R_R01842__chlo', (0, 1.0)), ('R_R01780__mito', (-1.0, 1.0)), ('R_R00964__cytop', (0, 1.0)), ('R_R09434__cytop', (-1, 1)), ('R_EX_C00366__dra', (0, 1)), ('R_R00829__pero', (0, 1.0)), ('R_R07765__cytop', (0, 1.0)), ('R_R04065__mito', (0, 1.0)), ('R_TZ2900022_PLAS__chlomem', (-1.0, 1.0)), ('R_R03595__cytop', (0, 1.0)), ('R_R07840__chlo', (-1.0, 1.0)), ('R_R08182__pero', (0, 1.0)), ('R_R01130__cytop', (-1.0, 1.0)), ('R_R01457__e_r_', (0, 1.0)), ('R_R00707__cytop', (0, 1.0)), ('R_R00686__cytop', (0, 1.0)), ('R_TO3000358_E_R___ermem', (0, 1.0)), ('R_R04754__pero', (0, 1.0)), ('R_TR2000130_PLAS__ermem', (-1.0, 1.0)), ('R_R08648__chlo', (0, 1.0)), ('R_R08281__cytop', (-1.0, 1.0)), ('R_RXN_16656__cytop', (0, 1.0)), ('R_R10092__mito', (-1.0, 1.0)), ('R_R00429__cytop', (0, 1.0)), ('R_R06412__mito', (0, 1.0)), ('R_R04404__nucl', (0, 1.0)), ('R_R06983__cytop', (0, 1.0)), ('R_T_Propanoyl_CoA__chlomem', (-1, 1)), ('R_R04884__cytop', (0, 1.0)), ('R_TI3000688_PLAS__mitmem', (0, 1.0)), ('R_R00357__mito', (0, 1.0)), ('R_R00480__chlo', (0, 1.0)), ('R_TO1000190_PLAS__plas', (0, 1.0)), ('R_R03417__cytop', (0, 1.0)), ('R_R04037__cytop', (-1.0, 1.0)), ('R_R03321__cytop', (-1.0, 1.0)), ('R_R04866__nucl', (0, 1.0)), ('R_e_DNA__cytop', (0, 1)), ('R_R07890__mito', (-1.0, 1.0)), ('R_R08657__mito', (0, 1.0)), ('R_T_Chorismate__chlomem', (-1, 1)), ('R_TO1022637_PLAS__plas', (0, 1.0)), ('R_R04952__cytop', (0, 1.0)), ('R_R04507__cytop', (0, 1.0)), ('R_R00158__cytop', (-1.0, 1.0)), ('R_R00746__e_r_', (-1.0, 1.0)), ('R_R00122__golg', (0, 1.0)), ('R_R07003__chlo', (0, 1.0)), ('R_T_Cholesterol__ermem', (-1, 1)), ('R_R08678__chlo', (0, 1.0)), ('R_R00112__mito', (0, 1.0)), ('R_R04566__chlo', (0, 1.0)), ('R_R04097__mito', (0, 1.0)), ('R_R07091__chlo', (0, 1.0)), ('R_R02327__cytop', (0, 1.0)), ('R_R03634__cytop', (0, 1.0)), ('R_R02480__mito', (0, 1.0)), ('R_EX_C00147__dra', (0, 1)), ('R_R08361__cytop', (0, 1)), ('R_R01682__cytop', (0, 1.0)), ('R_R02739__chlo', (-1.0, 1.0)), ('R_R01715__chlo', (-1.0, 1.0)), ('R_R11895__chlo', (0, 1.0)), ('R_R00674__chlo', (0, 1.0)), ('R_R09223__cytop', (0, 1.0)), ('R_R03352__mito', (0, 1.0)), ('R_T_Icosenoyl_CoA__ermem', (0, 1)), ('R_EX_C02986__dra', (0, 1)), ('R_R02091__nucl', (0, 1.0)), ('R_R00851__e_r_', (0, 1.0)), ('R_R01009__cytop', (0, 1.0)), ('R_TO1100259_PLAS__plas', (0, 1.0)), ('R_R02029__chlo', (0, 1.0)), ('R_R07211__cytop', (0, 1.0)), ('R_R02003__mito', (0, 1.0)), ('R_R00390__chlo', (0, 1.0)), ('R_R02014__cytop', (0, 1.0)), ('R_R07447__e_r_', (0, 1.0)), ('R_R12403__e_r_', (0, 1.0)), ('R_R11063__cytop', (0, 1.0)), ('R_R05355__cytop', (0, 1.0)), ('R_R04955__chlo', (0, 1.0)), ('R_R12170__e_r_', (0, 1.0)), ('R_R02566__cytop', (0, 1.0)), ('R_TI3000694_PLAS__plas', (0, 1.0)), ('R_EX_C00244__dra', (-1, 1)), ('R_R01013__e_r_', (0, 1.0)), ('R_R01736__mito', (0, 1.0)), ('R_R00243__chlo', (0, 1.0)), ('R_R08255__e_r_', (0, 1.0)), ('R_R01288__mito', (-1.0, 1.0)), ('R_R01810__extr', (0, 1.0)), ('R_R12612__cytop', (0, 1)), ('R_R05556__e_r_', (0, 1.0)), ('R_T_Hydrogen_Peroxide__plas', (-1, 1)), ('R_R01187__mito', (0, 1.0)), ('R_R02353__e_r_', (0, 1.0)), ('R_R05803__cytop', (0, 1.0)), ('R_R10115__chlo', (0, 1.0)), ('R_R01752__chlo', (0, 1.0)), ('R_R07764__chlo', (0, 1.0)), ('R_R03293__mito', (0, 1.0)), ('R_DM_photon673__chlo', (0, 1)), ('R_R11312__chlo', (0, 1.0)), ('R_R01481__e_r_', (0, 1.0)), ('R_R11527__extr', (0, 1.0)), ('R_R05725__e_r_', (0, 1.0)), ('R_R02291__cytop', (0, 1.0)), ('R_R06520__chlo', (0, 1.0)), ('R_R09726__cytop', (0, 1.0)), ('R_R03656__cytop', (0, 1.0)), ('R_R07113__chlo', (0, 1.0)), ('R_R07898__pero', (-1.0, 1.0)), ('R_R00570__cytop', (0, 1.0)), ('R_EX_C00025__dra', (0, 1)), ('R_R03601__chlo', (0, 1.0)), ('R_R00408__chlo', (0, 1)), ('R_R01600__cytop', (0, 1.0)), ('R_R04325__mito', (0, 1.0)), ('R_R03330__e_r_', (0, 1.0)), ('R_R01626__mito', (0, 1.0)), ('R_R11061__pero', (0, 1.0)), ('R_R11231__cytop', (0, 1.0)), ('R_R08767__mito', (0, 1)), ('R_R00878__cytop', (-1.0, 1.0)), ('R_R07895__mito', (-1.0, 1.0)), ('R_R07859__cytop', (0, 1.0)), ('R_R02846__cytop', (0, 1.0)), ('R_R07054__chlo', (0, 1.0)), ('R_TO3000349_MITO__mitmem', (0, 1.0)), ('R_R04355__chlo', (0, 1.0)), ('R_EX_C02426__dra', (0, 1)), ('R_R04724__cytop', (0, 1.0)), ('R_R02549__mito', (0, 1.0)), ('R_T__GlcNAc_2_Man_9_Asn_1__golmem', (0, 1)), ('R_R03936__cytop', (0, 1.0)), ('R_R01968__cytop', (0, 1.0)), ('R_EX_C00535__dra', (0, 1)), ('R_R09540__chlo', (0, 1.0)), ('R_R00129__chlo', (0, 1.0)), ('R_TO0000254_PLAS__plas', (0, 1.0)), ('R_R11308__chlo', (0, 1.0)), ('R_R01058__cytop', (0, 1.0)), ('R_R03601__cytop', (0, 1.0)), ('R_R03174__mito', (-1.0, 1.0)), ('R_R01663__nucl', (0, 1.0)), ('R_R07893__pero', (-1.0, 1.0)), ('R_R04756__mito', (-1.0, 1.0)), ('R_R02581__mito', (0, 1.0)), ('R_R03775__e_r_', (-1.0, 1.0)), ('R_R04861__mito', (0, 1)), ('R_R02088__e_r_', (0, 1.0)), ('R_EX_C00262__dra', (0, 1)), ('R_e_Pigment__chlo', (0, 1)), ('R_R01799__chlo', (0, 1.0)), ('R_TO1101605_PLAS__plas', (0, 1.0)), ('R_TZ3100002_PLAS__plas', (0, 1.0)), ('R_R02590__nucl', (0, 1.0)), ('R_R01706__chlo', (0, 1.0)), ('R_R02047__cytop', (0, 1.0)), ('R_R06947__chlo', (0, 1.0)), ('R_R04292__cytop', (0, 1.0)), ('R_R07942__cytop', (0, 1.0)), ('R_R01209__mito', (0, 1.0)), ('R_R07002__e_r_', (0, 1.0)), ('R_R11553__nucl', (0, 1.0)), ('R_R00889__cytop', (0, 1.0)), ('R_R04444__cytop', (0, 1.0)), ('R_R01655__cytop', (0, 1.0)), ('R_EX_C20836__dra', (0, 1)), ('R_R08551__cytop', (0, 1.0)), ('R_R07010__cytop', (0, 1)), ('R_TO1100020_PLAS__chlomem', (0, 1.0)), ('R_TR0000150_PLAS__plas', (-1, 1)), ('R_R02058__cytop', (0, 1.0)), ('R_R09503__chlo', (0, 1)), ('R_RXN_12753__chlo', (0, 1)), ('R_TR2000163_PLAS__golmem', (-1.0, 1.0)), ('R_R00894__chlo', (0, 1.0)), ('R_R01664__e_r_', (0, 1.0)), ('R_R03238__cytop', (0, 1.0)), ('R_TZ3100029_PLAS__plas', (0, 1.0)), ('R_R01432__cytop', (-1.0, 1.0)), ('R_R03877__chlo', (0, 1.0)), ('R_R04773__cytop', (0, 1)), ('R_TO0000577_PLAS__plas', (0, 1.0)), ('R_R11101__chlo', (0, 1.0)), ('R_R02678__cytop', (0, 1)), ('R_R00782__cytop', (0, 1.0)), ('R_R12477__golg', (0, 1.0)), ('R_R00372__pero', (-1.0, 1.0)), ('R_TO3001162_PLAS__plas', (0, 1.0)), ('R_R08343__chlo', (0, 1.0)), ('R_TR2000175_PLAS__golmem', (-1.0, 1.0)), ('R_R12183__mito', (0, 1.0)), ('R_R08964__nucl', (-1.0, 1.0)), ('R_R07045__chlo', (0, 1.0)), ('R_R07092__cytop', (0, 1.0)), ('R_R04903__cytop', (0, 1.0)), ('R_R02750__cytop', (0, 1.0)), ('R_R10563__e_r_', (0, 1.0)), ('R_T_L_Leucine_V1__vacmem', (0, 1.0)), ('R_R08300__e_r_', (0, 1.0)), ('R_R02688__e_r_', (0, 1.0)), ('R_R01951__cytop', (0, 1.0)), ('R_PKS_C122__cytop', (0, 1.0)), ('R_R00662__mito', (0, 1.0)), ('R_R00724__chlo', (0, 1.0)), ('R_R05086__cytop', (0, 1.0)), ('R_T_CO2_V3__ermem', (-1, 1)), ('R_R00416__cytop', (-1.0, 1.0)), ('R_EX_C00704__dra', (0, 1)), ('R_T_Hexadecanoic_acid__chlomem', (0, 1)), ('R_R02984__cytop', (-1.0, 1.0)), ('R_R09562__e_r_', (0, 1.0)), ('R_R05053__cytop', (0, 1.0)), ('R_R02297__cytop', (-1.0, 1.0)), ('R_R11104__nucl', (0, 1.0)), ('R_R04859__chlo', (0, 1.0)), ('R_R04430__mito', (0, 1.0)), ('R_R06605__mito', (0, 1)), ('R_R04427__e_r_', (0, 1.0)), ('R_R04749__chlo', (-1.0, 1.0)), ('R_R07409__mito', (0, 1.0)), ('R_R01372__chlo', (0, 1.0)), ('R_R10951__nucl', (0, 1.0)), ('R_R01381__chlo', (-1.0, 1.0)), ('R_R03724__e_r_', (0, 1.0)), ('R_R02096__cytop', (0, 1)), ('R_R00014__chlo', (0, 1.0)), ('R_R09655__chlo', (-1.0, 1.0)), ('R_R04100__mito', (-1.0, 1.0)), ('R_R07763__cytop', (0, 1.0)), ('R_R03428__cytop', (0, 1.0)), ('R_R11104__cytop', (0, 1.0)), ('R_R02354__chlo', (0, 1.0)), ('R_R07087__chlo', (0, 1.0)), ('R_R07484__e_r_', (-1.0, 1.0)), ('R_R11895__cytop', (0, 1.0)), ('R_R04751__mito', (0, 1.0)), ('R_TO1100588_PLAS__plas', (0, 1.0)), ('R_R04941__cytop', (0, 1.0)), ('R_R06942__chlo', (0, 1.0)), ('R_R08289__cytop', (0, 1)), ('R_PRISM_white_LED__extr', (0, 1)), ('R_TZ2900062_PLAS__plas', (0, 1.0)), ('R_R04963__cytop', (0, 1.0)), ('R_R01286__cytop', (0, 1.0)), ('R_R08293__chlo', (0, 1.0)), ('R_R12172_V1__e_r_', (0, 1.0)), ('R_R10242__e_r_', (0, 1.0)), ('R_R00658__mito', (-1.0, 1.0)), ('R_R03524__pero', (0, 1.0)), ('R_R02940__cytop', (0, 1.0)), ('R_R00961__cytop', (0, 1.0)), ('R_R01176__pero', (0, 1.0)), ('R_R04930__cytop', (0, 1.0)), ('R_R01819__cytop', (-1.0, 1.0)), ('R_R04967__mito', (0, 1.0)), ('R_R01416__cytop', (0, 1.0)), ('R_R02413__chlo', (-1.0, 1.0)), ('R_R07044__e_r_', (0, 1.0)), ('R_R00527__cytop', (0, 1.0)), ('R_R00531__chlo', (0, 1.0)), ('R_R00161__chlo', (0, 1.0)), ('R_R03868__cytop', (0, 1.0)), ('R_R00236__mito', (0, 1.0)), ('R_DM_photon490__chlo', (0, 1)), ('R_R08717__vacu', (0, 1.0)), ('R_R04428__chlo', (0, 1.0)), ('R_R04969__chlo', (0, 1.0)), ('R_R10040__cytop', (0, 1.0)), ('R_R07889__pero', (-1.0, 1.0)), ('R_R08245__cytop', (0, 1.0)), ('R_R00405__mito', (-1.0, 1.0)), ('R_R02792__mito', (0, 1.0)), ('R_R06848__cytop', (0, 1.0)), ('R_R02332__cytop', (0, 1.0)), ('R_R01274__mito', (0, 1.0)), ('R_R04506__chlo', (0, 1.0)), ('R_R01384__mito', (0, 1.0)), ('R_EX_C16635__dra', (0, 1)), ('R_R00209__mito', (0, 1.0)), ('R_R04962__mito', (0, 1.0)), ('R_R10178__mito', (-1.0, 1.0)), ('R_R00515__mito', (0, 1.0)), ('R_R01051__cytop', (0, 1.0)), ('R_R09407__chlo', (0, 1.0)), ('R_TR2000131_PLAS__mitmem', (0, 1.0)), ('R_R00946__cytop', (0, 1.0)), ('R_EX_C00011__dra', (-1, 1)), ('R_R07759__e_r_', (-1.0, 1.0)), ('R_R02090__cytop', (-1.0, 1.0)), ('R_R03361__nucl', (0, 1.0)), ('R_R01158__cytop', (0, 1.0)), ('R_R09421__chlo', (0, 1.0)), ('R_R00274__cytop', (0, 1.0)), ('R_R00004__extr', (0, 1.0)), ('R_R03018__mito', (0, 1.0)), ('R_T_HCO3__mitmem', (-1, 1)), ('R_R10783__cytop', (-1.0, 1.0)), ('R_TO1000709_PLAS__plas', (0, 1.0)), ('R_R00316__chlo', (0, 1.0)), ('R_R07856__chlo', (-1.0, 1.0)), ('R_R01528__chlo', (0, 1.0)), ('R_R07025__e_r_', (0, 1.0)), ('R_R01185__chlo', (0, 1.0)), ('R_R03270__mito', (0, 1.0)), ('R_EX_C00962__dra', (0, 1)), ('R_R07070__cytop', (0, 1.0)), ('R_T_L_Asparagine__vacmem', (0, 1.0)), ('R_R00155__golg', (0, 1.0)), ('R_R00472__chlo', (0, 1.0)), ('R_R09107__cytop', (-1.0, 1.0)), ('R_R10928__nucl', (-1.0, 1.0)), ('R_R00081__mito', (0, 1.0)), ('R_R02872__chlo', (0, 1.0)), ('R_R02239__e_r_', (0, 1.0)), ('R_R03363__e_r_', (0, 1.0)), ('R_R04536__mito', (0, 1.0)), ('R_T_L_Lysine__chlomem', (-1.0, 1.0)), ('R_T_G00012__golmem', (0, 1)), ('R_PKS_C144__cytop', (0, 1.0)), ('R_R01354__chlo', (0, 1.0)), ('R_R01481__cytop', (0, 1.0)), ('R_T_Oxygen_V2__mitmem', (-1, 1)), ('R_R07998__cytop', (0, 1.0)), ('R_R10288__mito', (0, 1.0)), ('R_R01858__chlo', (0, 1.0)), ('R_R11009__e_r_', (0, 1.0)), ('R_EX_C00305__dra', (-1, 1)), ('R_R00429__mito', (0, 1.0)), ('R_TO1100258_PLAS__plas', (0, 1.0)), ('R_R02283__mito', (-1.0, 1.0)), ('R_R01523__chlo', (-1.0, 1.0)), ('R_EX_C00237__dra', (0, 1)), ('R_R00904__mito', (0, 1.0)), ('R_TI2903796_PLAS__mitmem', (-1.0, 1.0)), ('R_EX_C00007__dra', (-1, 1)), ('R_R01054__mito', (0, 1.0)), ('R_R07274__chlo', (0, 1.0)), ('R_R03777__pero', (0, 1.0)), ('R_R01579__chlo', (0, 1.0)), ('R_R01775__chlo', (0, 1.0)), ('R_R04742__mito', (-1.0, 1.0)), ('R_EX_C00283__dra', (0, 1)), ('R_R00258__pero', (-1.0, 1.0)), ('R_R09395__cytop', (0, 1.0)), ('R_R01041__e_r_', (-1.0, 1.0)), ('R_R12757__cytop', (0, 1)), ('R_R02670__pero', (0, 1.0)), ('R_EX_C01330__dra', (-1, 1)), ('R_R05341__chlo', (-1.0, 1.0)), ('R_R04964__chlo', (0, 1.0)), ('R_T_H2O_V5__permem', (-1, 1)), ('R_R08255__extr', (0, 1.0)), ('R_TZ2900007_PLAS__plas', (-1.0, 1.0)), ('R_EX_C00740__dra', (0, 1)), ('R_R03408__e_r_', (0, 1.0)), ('R_R04744__chlo', (-1.0, 1.0)), ('R_R03425__mito', (0, 1.0)), ('R_R04552__chlo', (-1.0, 1.0)), ('R_R02778__cytop', (0, 1.0)), ('R_R00330__chlo', (0, 1.0)), ('R_R00019__chlo', (0, 1.0)), ('R_R03024__extr', (0, 1.0)), ('R_R01056__chlo', (-1.0, 1.0)), ('R_R00287__mito', (0, 1.0)), ('R_EX_C00844__dra', (0, 1)), ('R_R03037__cytop', (0, 1.0)), ('R_R00899__chlo', (0, 1.0)), ('R_EX_C00014__dra', (0, 1)), ('R_R07111__cytop', (0, 1.0)), ('R_T_Formaldehyde__mitmem', (-1, 1)), ('R_R02326__chlo', (0, 1.0)), ('R_T_CMP_V2__ermem', (-1, 1)), ('R_R02103__cytop', (0, 1.0)), ('R_T_Hydrogen_Peroxide_V1__mitmem', (-1, 1)), ('R_R09832__cytop', (0, 1.0)), ('R_R04749__pero', (-1.0, 1.0)), ('R_R02061__chlo', (0, 1.0)), ('R_R03629__chlo', (0, 1.0)), ('R_R04959__cytop', (0, 1.0)), ('R_R08174__pero', (0, 1.0)), ('R_R00429__nucl', (0, 1.0)), ('R_R00190__cytop', (0, 1.0)), ('R_R02142__cytop', (0, 1.0)), ('R_R01103__cytop', (0, 1.0)), ('R_R09737__chlo', (0, 1.0)), ('R_R09406__e_r_', (0, 1.0)), ('R_R05578__mito', (0, 1.0)), ('R_R07110__mito', (0, 1.0)), ('R_T_L_Allothreonine__chlomem', (-1.0, 1.0)), ('R_R00923__mito', (0, 1.0)), ('R_R05688__mito', (0, 1.0)), ('R_R03036__mito', (0, 1.0)), ('R_R08177__cytop', (0, 1.0)), ('R_R06259__e_r_', (0, 1.0)), ('R_R00968__cytop', (0, 1.0)), ('R_R01070__chlo', (-1.0, 1.0)), ('R_R00348__cytop', (0, 1.0)), ('R_R00582__chlo', (0, 1.0)), ('R_R08179__pero', (0, 1.0)), ('R_R07111__mito', (0, 1.0)), ('R_R05863__cytop', (0, 1.0)), ('R_R04744__pero', (-1.0, 1.0)), ('R_R00925__chlo', (0, 1.0)), ('R_R07498__e_r_', (0, 1.0)), ('R_R02340__chlo', (0, 1.0)), ('R_R07021__chlo', (0, 1.0)), ('R_R01993__mito', (-1.0, 1.0)), ('R_TO1000033_PLAS__plas', (0, 1.0)), ('R_R10491__chlo', (0, 1.0)), ('R_TR2300023_PLAS__mitmem', (0, 1.0)), ('R_R09425__e_r_', (0, 1.0)), ('R_EX_C00093__dra', (0, 1)), ('R_R02985__e_r_', (0, 1.0)), ('R_R04559__mito', (-1.0, 1.0)), ('R_R07461__cytop', (0, 1.0)), ('R_R09289__chlo', (-1.0, 1.0)), ('R_R00866__chlo', (0, 1.0)), ('R_TO1100232_PLAS__plas', (0, 1.0)), ('R_R08166__cytop', (-1.0, 1.0)), ('R_R04745__pero', (-1.0, 1.0)), ('R_R03427__e_r_', (0, 1.0)), ('R_R06830__cytop', (0, 1)), ('R_R04503__mito', (0, 1.0)), ('R_RXN0_7160__nucl', (0, 1.0)), ('R_R00734__cytop', (-1.0, 1.0)), ('R_R06942__pero', (0, 1.0)), ('R_R09424__e_r_', (0, 1.0)), ('R_R04726__chlo', (0, 1.0)), ('R_R00206__chlo', (-1.0, 1.0)), ('R_R01315__cytop', (0, 1.0)), ('R_R07673__cytop', (-1.0, 1.0)), ('R_R00311__chlo', (0, 1.0)), ('R_R02434__mito', (0, 1)), ('R_R00767__cytop', (0, 1.0)), ('R_R02719__cytop', (0, 1.0)), ('R_TR2900004_PLAS__mitmem', (-1.0, 1.0)), ('R_R04224__mito', (0, 1.0)), ('R_R01398__cytop', (0, 1.0)), ('R_EX_C02659__dra', (0, 1)), ('R_R02985__vacu', (0, 1.0)), ('R_R03530__mito', (-1.0, 1.0)), ('R_R01801__e_r_', (0, 1.0)), ('R_R02098__chlo', (-1.0, 1.0)), ('R_R09692__chlo', (0, 1.0)), ('R_R00751__chlo', (-1.0, 1.0)), ('R_R02909__cytop', (0, 1.0)), ('R_R01354__cytop', (0, 1.0)), ('R_R00974__nucl', (0, 1.0)), ('R_R03089__e_r_', (0, 1.0)), ('R_R10951__cytop', (0, 1.0)), ('R_R00516__cytop', (0, 1.0)), ('R_R07100__cytop', (0, 1.0)), ('R_T_SAM_V1__ermem', (-1, 1)), ('R_R01909__cytop', (0, 1.0)), ('R_R07558__chlo', (0, 1.0)), ('R_T_SUCFUMthr__chlomem', (-1, 1)), ('R_R01800__e_r_', (0, 1.0)), ('R_T_FADH2__chlomem', (-1, 1)), ('R_TO1100157_PLAS__plas', (0, 1.0)), ('R_R12571__cytop', (0, 1.0)), ('R_R03197__cytop', (0, 1.0)), ('R_R01279__mito', (0, 1.0)), ('R_R06127__cytop', (0, 1.0)), ('R_TO1000322_PLAS__plas', (0, 1.0)), ('R_R03186__cytop', (0, 1.0)), ('R_TO1000724_PLAS__plas', (0, 1.0)), ('R_T_all_trans_Nonaprenyl_diphosphate__chlomem', (-1, 1)), ('R_T_MalonylCoA__ermem', (-1, 1)), ('R_R08265__chlo', (0, 1.0)), ('R_R08094__mito', (0, 1.0)), ('R_R03660__cytop', (0, 1.0)), ('R_R02265__mito', (0, 1.0)), ('R_T_L_Valine__chlomem', (-1.0, 1.0)), ('R_R02688__cytop', (0, 1.0)), ('R_R00900__mito', (-1.0, 1.0)), ('R_R00127__nucl', (-1.0, 1.0)), ('R_R05068__chlo', (0, 1.0)), ('R_R02030__mito', (0, 1.0)), ('R_R05634__chlo', (0, 1.0)), ('R_R01274__cytop', (0, 1.0)), ('R_R00566__cytop', (0, 1.0)), ('R_RXN_11884__e_r_', (-1.0, 1.0)), ('R_R10147__chlo', (0, 1.0)), ('R_R02493__cytop', (0, 1.0)), ('R_R00940__cytop', (0, 1.0)), ('R_R02746__cytop', (0, 1.0)), ('R_R07897__chlo', (-1.0, 1.0)), ('R_R07238__chlo', (0, 1.0)), ('R_R11319__nucl', (-1.0, 1.0)), ('R_R07889__chlo', (-1.0, 1.0)), ('R_R01324__mito', (-1.0, 1.0)), ('R_TO1100154_PLAS__plas', (0, 1.0)), ('R_R03237__cytop', (0, 1.0)), ('R_T_ACACtm__mitmem', (-1, 1)), ('R_R05799__nucl', (0, 1.0)), ('R_R03355__cytop', (0, 1.0)), ('R_R00562__mito', (0, 1.0)), ('R_R00529__mito', (0, 1.0)), ('R_R11894__cytop', (0, 1)), ('R_R04533__cytop', (0, 1.0)), ('R_EX_C01419__dra', (0, 1)), ('R_R07105__cytop', (0, 1.0)), ('R_R03572__cytop', (0, 1.0)), ('R_RXN_16380__pero', (0, 1.0)), ('R_R07179__chlo', (0, 1.0)), ('R_R06366__chlo', (0, 1.0)), ('R_R00621__mito', (0, 1.0)), ('R_R05862__cytop', (0, 1.0)), ('R_R10035__cytop', (0, 1.0)), ('R_R04738__mito', (-1.0, 1.0)), ('R_R01771__chlo', (0, 1.0)), ('R_R02529__cytop', (0, 1.0)), ('R_R10115__cytop', (0, 1.0)), ('R_TR0000098_PLAS__plas', (-1.0, 1.0)), ('R_T_Hexadecanoic_acid_V1__ermem', (0, 1)), ('R_R06411__cytop', (-1, 1)), ('R_T_Linoleoyl_CoA__ermem', (0, 1)), ('R_TZ2900004_PLAS__chlomem', (-1.0, 1.0)), ('R_R07760__pero', (-1.0, 1.0)), ('R_R04170__mito', (-1.0, 1.0)), ('R_TR0000058_PLAS__plas', (0, 1)), ('R_T_Oxygen_V5__nucmem', (-1, 1)), ('R_R08178__cytop', (0, 1.0)), ('R_R00342__mito', (-1.0, 1.0)), ('R_RXN_21829__e_r_', (0, 1.0)), ('R_R04429__chlo', (0, 1.0)), ('R_R08181__cytop', (0, 1.0)), ('R_R07364__nucl', (0, 1.0)), ('R_R02985__cytop', (0, 1.0)), ('R_R07268__mito', (0, 1.0)), ('R_R06519__e_r_', (0, 1.0)), ('R_R07026__e_r_', (0, 1.0)), ('R_R02026__cytop', (0, 1.0)), ('R_TO1000135_PLAS__plas', (0, 1.0)), ('R_TO1001242_PLAS__plas', (0, 1.0)), ('R_R01126__cytop', (0, 1.0)), ('R_R07355__cytop', (0, 1.0)), ('R_R05071__chlo', (-1.0, 1.0)), ('R_R06264__e_r_', (0, 1.0)), ('R_R03646__mito', (0, 1.0)), ('R_R00216__chlo', (0, 1.0)), ('R_R01818__cytop', (-1.0, 1.0)), ('R_TR0000075_PLAS__plas', (0, 1.0)), ('R_R00127__mito', (-1.0, 1.0)), ('R_R04953__mito', (0, 1.0)), ('R_R10852__chlo', (0, 1.0)), ('R_RXN_16655__cytop', (0, 1.0)), ('R_T_MANtg__golmem', (-1, 1)), ('R_R07850__chlo', (0, 1.0)), ('R_R01252__cytop', (0, 1.0)), ('R_R01830__chlo', (-1.0, 1.0)), ('R_RXN_14051__mito', (-1.0, 1.0)), ('R_R00962__cytop', (0, 1.0)), ('R_R04920__golg', (0, 1.0)), ('R_R04740__pero', (-1.0, 1.0)), ('R_R11174__e_r_', (0, 1.0)), ('R_R01361__mito', (-1.0, 1.0)), ('R_R00085__cytop', (0, 1.0)), ('R_5DORK__cytop', (0, 1.0)), ('R_R00926__chlo', (0, 1.0)), ('R_RXN_19210_V3__chlo', (0, 1.0)), ('R_R05722__pero', (0, 1.0)), ('R_R09425__chlo', (0, 1.0)), ('R_R08192__pero', (0, 1.0)), ('R_R04640__cytop', (0, 1.0)), ('R_R00156__chlo', (0, 1.0)), ('R_R01431__cytop', (0, 1.0)), ('R_R10994__cytop', (0, 1.0)), ('R_RXN_19211__chlo', (0, 1.0)), ('R_RXN_13441__e_r_', (0, 1.0)), ('R_R03429__cytop', (0, 1.0)), ('R_R02353__cytop', (0, 1.0)), ('R_TR2000104_PLAS__mitmem', (-1.0, 1.0)), ('R_R01138__chlo', (0, 1.0)), ('R_R03845__chlo', (0, 1.0)), ('R_R03210__mito', (0, 1.0)), ('R_R07081__chlo', (0, 1.0)), ('R_R01082__mito', (-1.0, 1.0)), ('R_R09073__e_r_', (0, 1.0)), ('R_R07042__cytop', (0, 1)), ('R_R08255__cytop', (0, 1.0)), ('R_R02331__cytop', (0, 1.0)), ('R_EX_C00951__dra', (0, 1)), ('R_R10688__e_r_', (-1.0, 1.0)), ('R_R00159__golg', (0, 1.0)), ('R_R01104__cytop', (0, 1.0)), ('R_R00341__cytop', (0, 1.0)), ('R_R00149__mito', (0, 1.0)), ('R_R10764__mito', (-1.0, 1.0)), ('R_R12427__chlo', (0, 1.0)), ('R_R03650__mito', (0, 1.0)), ('R_R02097__cytop', (0, 1.0)), ('R_R00316__cytop', (0, 1.0)), ('R_R07764__cytop', (0, 1.0)), ('R_R07601__mito', (0, 1.0)), ('R_R09087__cytop', (0, 1.0)), ('R_R06447__e_r_', (0, 1.0)), ('R_R01148__cytop', (-1.0, 1.0)), ('R_TZ2900008_PLAS__vacmem', (-1.0, 1.0)), ('R_R01466__cytop', (0, 1.0)), ('R_R03416__cytop', (0, 1.0)), ('R_T_Thiamine__chlomem', (-1, 1)), ('R_R03869__cytop', (0, 1.0)), ('R_R07762__mito', (-1.0, 1.0)), ('R_R04137__mito', (-1.0, 1.0)), ('R_EX_C00327__dra', (0, 1)), ('R_T_OAAAKGtm__mitmem', (-1.0, 1.0)), ('R_R04543__chlo', (0, 1.0)), ('R_R04953__cytop', (0, 1.0)), ('R_RXN_12968__e_r_', (0, 1.0)), ('R_T_L_Leucine_V2__mitmem', (-1.0, 1.0)), ('R_R04734__cytop', (0, 1.0)), ('R_R01857__chlo', (0, 1.0)), ('R_R04957__mito', (0, 1.0)), ('R_R03655__mito', (0, 1.0)), ('R_EX_C00078__dra', (0, 1)), ('R_R01230__cytop', (0, 1.0)), ('R_R07034__e_r_', (0, 1.0)), ('R_R07094__e_r_', (0, 1.0)), ('R_EX_C00402__dra', (0, 1)), ('R_R04204__chlo', (0, 1.0)), ('R_R00782__mito', (0, 1.0)), ('R_R02957__cytop', (0, 1.0)), ('R_R07270__chlo', (0, 1.0)), ('R_T_Glucosylceramide__ermem', (0, 1)), ('R_R08300__cytop', (0, 1.0)), ('R_R04958__mito', (0, 1.0)), ('R_R12300__mito', (0, 1.0)), ('R_TI3000692_PLAS__plas', (0, 1.0)), ('R_R03596__mito', (0, 1.0)), ('R_R04962__cytop', (0, 1.0)), ('R_R01280__cytop', (0, 1.0)), ('R_TI3001549_PLAS__plas', (0, 1.0)), ('R_T_Glycine__chlomem', (-1.0, 1.0)), ('R_RXN_1641__e_r_', (0, 1.0)), ('R_R00137__cytop', (0, 1.0)), ('R_T_NADtr__ermem', (-1, 1)), ('R_R10507__mito', (0, 1.0)), ('R_R07099__e_r_', (0, 1.0)), ('R_R07001__e_r_', (0, 1.0)), ('R_R00286__cytop', (0, 1.0)), ('R_R05064__mito', (0, 1.0)), ('R_R01280__e_r_', (0, 1.0)), ('R_R00159__cytop', (0, 1.0)), ('R_EX_C00819__dra', (0, 1)), ('R_R00115__chlo', (0, 1.0)), ('R_T_Biotin__mitmem', (-1, 1)), ('R_R11319__mito', (-1.0, 1.0)), ('R_R12423__chlo', (0, 1.0)), ('R_R08294__chlo', (0, 1.0)), ('R_R00678__cytop', (0, 1)), ('R_DEDOLP1__chlo', (0, 1.0)), ('R_R01175__pero', (0, 1.0)), ('R_R07393__cytop', (0, 1.0)), ('R_R00220__cytop', (0, 1)), ('R_R10851__cytop', (0, 1.0)), ('R_R04783__cytop', (0, 1.0)), ('R_R01639__cytop', (0, 1.0)), ('R_R05238__cytop', (0, 1.0)), ('R_TO1000105_PLAS__plas', (0, 1.0)), ('R_R00994__cytop', (0, 1.0)), ('R_R03096__cytop', (0, 1.0)), ('R_T_CO_V1__chlomem', (-1, 1)), ('R_R00217__mito', (0, 1.0)), ('R_R06740__cytop', (0, 1.0)), ('R_TO1000066_PLAS__plas', (0, 1.0)), ('R_R07892__pero', (-1.0, 1.0)), ('R_EX_C00410__dra', (0, 1)), ('R_TR2000144_PLAS__golmem', (-1.0, 1.0)), ('R_R07758__e_r_', (-1.0, 1.0)), ('R_TR2900000_PLAS__mitmem', (-1.0, 1.0)), ('R_R02568__mito', (-1.0, 1.0)), ('R_R04560__cytop', (-1.0, 1.0)), ('R_R04138__mito', (0, 1.0)), ('R_R04428__cytop', (0, 1.0)), ('R_R00770__cytop', (0, 1.0)), ('R_R09540__cytop', (0, 1.0)), ('R_R09993__cytop', (0, 1.0)), ('R_R00343__chlo', (-1.0, 1.0)), ('R_R02035__cytop', (0, 1.0)), ('R_R03417__extr', (0, 1.0)), ('R_T_4_Aminobutanoate_V1__mitmem', (-1, 1)), ('R_TO0010516_PLAS__mitmem', (0, 1.0)), ('R_R11099__chlo', (0, 1.0)), ('R_RXN_11876__e_r_', (-1.0, 1.0)), ('R_TO3000356_E_R___ermem', (0, 1.0)), ('R_R00181__nucl', (0, 1.0)), ('R_R08926__cytop', (-1.0, 1.0)), ('R_R05842__mito', (0, 1.0)), ('R_R00472__pero', (0, 1.0)), ('R_R00236__cytop', (0, 1.0)), ('R_T_FattyAcid__ermem', (0, 1)), ('R_R03646__cytop', (0, 1.0)), ('R_R03243__cytop', (-1.0, 1.0)), ('R_TR2000132_PLAS__ermem', (-1.0, 1.0)), ('R_R02355__chlo', (0, 1.0)), ('R_R11098__chlo', (0, 1.0)), ('R_R02247__e_r_', (0, 1.0)), ('R_R01231__cytop', (0, 1.0)), ('R_R02433__cytop', (-1.0, 1.0)), ('R_R00465__cytop', (-1.0, 1.0)), ('R_R00291__cytop', (-1.0, 1.0)), ('R_R09656__chlo', (0, 1.0)), ('R_R01842__e_r_', (0, 1.0)), ('R_R02366__cytop', (0, 1.0)), ('R_EX_C02336__dra', (0, 1)), ('R_R00590__mito', (0, 1.0)), ('R_R07674__mito', (-1.0, 1.0)), ('R_R05578__cytop', (0, 1.0)), ('R_R07110__cytop', (0, 1.0)), ('R_R00158__mito', (-1.0, 1.0)), ('R_R04031__cytop', (-1.0, 1.0)), ('R_R00115__cytop', (0, 1.0)), ('R_R04956__chlo', (0, 1.0)), ('R_R12299__cytop', (0, 1)), ('R_R06521__chlo', (0, 1.0)), ('R_EX_C00032__dra', (0, 1)), ('R_R12570__cytop', (0, 1.0)), ('R_R00434__nucl', (0, 1.0)), ('R_R05922__e_r_', (0, 1.0)), ('R_RXN_19210_V2__chlo', (0, 1.0)), ('R_R02619__cytop', (0, 1.0)), ('R_R07460__cytop', (0, 1.0)), ('R_EX_C00133__dra', (0, 1)), ('R_TO0001430_PLAS__plas', (0, 1.0)), ('R_T_CO2_V4__golmem', (-1, 1)), ('R_R09423__cytop', (0, 1)), ('R_R01547__chlo', (-1.0, 1.0)), ('R_TO3001154_PLAS__plas', (0, 1.0)), ('R_R08190__mito', (0, 1.0)), ('R_R03186__chlo', (0, 1.0)), ('R_EX_C00065__dra', (0, 1)), ('R_R05575__pero', (-1.0, 1.0)), ('R_TI3000050_E_R___ermem', (0, 1.0)), ('R_R07044__chlo', (0, 1.0)), ('R_R04969__cytop', (0, 1.0)), ('R_EX_C05697__dra', (0, 1)), ('R_R07237__chlo', (0, 1.0)), ('R_R00405__cytop', (-1.0, 1.0)), ('R_R04443__cytop', (0, 1)), ('R_TO0000365_PLAS__plas', (0, 1.0)), ('R_R07015__cytop', (0, 1.0)), ('R_TI2903792_PLAS__mitmem', (0, 1.0)), ('R_TO1100448_PLAS__plas', (0, 1.0)), ('R_T_SLC25A17_V5__permem', (0, 1.0)), ('R_R00895__cytop', (-1.0, 1.0)), ('R_R07011__cytop', (0, 1)), ('R_R07679__mito', (0, 1.0)), ('R_RXN_13294__e_r_', (0, 1.0)), ('R_R09833__chlo', (0, 1.0)), ('R_T_Oxygen__plas', (-1, 1)), ('R_T_L_Serine__chlomem', (-1.0, 1.0)), ('R_R06263__e_r_', (0, 1.0)), ('R_R10634__mito', (0, 1.0)), ('R_R02747__extr', (0, 1.0)), ('R_R01364__cytop', (0, 1.0)), ('R_T_NADP__ermem', (-1, 1)), ('R_R08165__cytop', (0, 1.0)), ('R_EX_C07585__dra', (0, 1)), ('R_R12461__nucl', (0, 1.0)), ('R_R10170__chlo', (0, 1.0)), ('R_R01641__chlo', (-1.0, 1.0)), ('R_EX_C01801__dra', (0, 1)), ('R_EX_C00068__dra', (0, 1)), ('R_R01549__nucl', (0, 1.0)), ('R_R10634__nucl', (0, 1.0)), ('R_R02199__chlo', (-1.0, 1.0)), ('R_R07674__cytop', (-1.0, 1.0)), ('R_T_AMP__golmem', (-1, 1)), ('R_R03460__chlo', (0, 1.0)), ('R_R01049__mito', (0, 1.0)), ('R_R04737__mito', (-1.0, 1.0)), ('R_R03353__e_r_', (-1.0, 1.0)), ('R_R02291__chlo', (0, 1.0)), ('R_R00480__cytop', (0, 1.0)), ('R_R06366__cytop', (0, 1.0)), ('R_R03819__cytop', (0, 1.0)), ('R_EX_C18846__dra', (0, 1)), ('R_R03661__cytop', (0, 1.0)), ('R_RXN_19210__chlo', (0, 1.0)), ('R_R07894__mito', (-1.0, 1.0)), ('R_T_L_Isoleucine_V1__mitmem', (-1.0, 1.0)), ('R_R09072__e_r_', (0, 1.0)), ('R_R00251__cytop', (0, 1.0)), ('R_R03182__mito', (0, 1.0)), ('R_R12428__chlo', (0, 1.0)), ('R_R01794__cytop', (0, 1.0)), ('R_TO1000314_PLAS__plas', (0, 1.0)), ('R_R07765__chlo', (0, 1.0)), ('R_R06128__cytop', (0, 1.0)), ('R_R10687__e_r_', (-1.0, 1.0)), ('R_R02053__cytop', (0, 1.0)), ('R_R01826__chlo', (0, 1.0)), ('R_R07600__mito', (0, 1.0)), ('R_T_Orthophosphate__ermem', (-1, 1)), ('R_R03875__nucl', (0, 1.0)), ('R_R00742__chlo', (0, 1.0)), ('R_R04286__cytop', (0, 1.0)), ('R_R09372__chlo', (0, 1.0)), ('R_R00024__chlo', (0, 1.0)), ('R_R05052__cytop', (0, 1.0)), ('R_R01360__mito', (0, 1.0)), ('R_TR0000026_PLAS__golmem', (0, 1.0)), ('R_T_L_Serine_V1__mitmem', (-1.0, 1.0)), ('R_R03778__mito', (-1.0, 1.0)), ('R_R10548__nucl', (0, 1.0)), ('R_R00755__cytop', (0, 1.0)), ('R_EX_C00082__dra', (0, 1)), ('R_R07897__pero', (-1.0, 1.0)), ('R_R00019__cytop', (0, 1.0)), ('R_R12376__cytop', (0, 1.0)), ('R_R08208__cytop', (0, 1.0)), ('R_R12424__mito', (0, 1.0)), ('R_T_Octadecanoic_acid__chlomem', (0, 1)), ('R_R02887__chlo', (0, 1.0)), ('R_R00432__mito', (-1.0, 1.0)), ('R_R11645__e_r_', (0, 1.0)), ('R_T_NADH__chlomem', (-1, 1)), ('R_R02971__mito', (0, 1.0)), ('R_TR2900030_CHLO__chlomem', (0, 1.0)), ('R_R04849__e_r_', (0, 1.0)), ('R_R05220__mito', (0, 1.0)), ('R_R09368__cytop', (0, 1)), ('R_R02702__cytop', (0, 1.0)), ('R_R01829__chlo', (-1.0, 1.0)), ('R_R07899__pero', (-1.0, 1.0)), ('R_R00093__chlo', (0, 1.0)), ('R_R04203__pero', (-1.0, 1.0)), ('R_R01528__cytop', (0, 1.0)), ('R_R07267__mito', (0, 1.0)), ('R_R03968__chlo', (0, 1.0)), ('R_EX_C02265__dra', (0, 1)), ('R_T_L_Methionine_V1__mitmem', (-1.0, 1.0)), ('R_R01086__cytop', (0, 1.0)), ('R_R04326__mito', (0, 1.0)), ('R_T_IMP__chlomem', (-1, 1)), ('R_TR0000966_PLAS__plas', (-1.0, 1.0)), ('R_TO1000610_PLAS__plas', (0, 1.0)), ('R_R00430__chlo', (0, 1.0)), ('R_R05819__chlo', (0, 1.0)), ('R_R00964__nucl', (0, 1.0)), ('R_R08193__cytop', (-1.0, 1.0)), ('R_R00369__cytop', (-1.0, 1.0)), ('R_R05506__pero', (-1.0, 1.0)), ('R_R04237__chlo', (0, 1.0)), ('R_EX_C14819__dra', (0, 1)), ('R_R04457__chlo', (0, 1.0)), ('R_R00248__chlo', (-1.0, 1.0)), ('R_R00517__cytop', (0, 1.0)), ('R_R03028__mito', (0, 1.0)), ('R_R02163__mito', (0, 1.0)), ('R_R04954__chlo', (0, 1.0)), ('R_R01518__chlo', (-1.0, 1.0)), ('R_R01187__golg', (0, 1.0)), ('R_R01135__cytop', (0, 1.0)), ('R_T_5_Methylthioadenosine_V1__ermem', (-1, 1)), ('R_R05259__chlo', (0, 1.0)), ('R_R00069__cytop', (0, 1)), ('R_R02889__cytop', (0, 1.0)), ('R_R06590__chlo', (0, 1.0)), ('R_T_Orotate__mitmem', (-1, 1)), ('R_TO1000129_PLAS__plas', (0, 1.0)), ('R_R01252__e_r_', (0, 1.0)), ('R_R00710__chlo', (0, 1.0)), ('R_R02164__mito', (0, 1.0)), ('R_T__11Z_14Z__Icosadienoyl_CoA__ermem', (0, 1)), ('R_R04545__cytop', (0, 1.0)), ('R_R04173__chlo', (-1.0, 1.0)), ('R_TI3000836_PLAS__plas', (0, 1.0)), ('R_R07178__chlo', (0, 1.0)), ('R_R03655__cytop', (0, 1.0)), ('R_R01827__mito', (-1.0, 1.0)), ('R_R04952__mito', (0, 1.0)), ('R_R01163__cytop', (0, 1.0)), ('R_R07395__nucl', (0, 1.0)), ('R_T_Oleoyl_CoA__ermem', (0, 1)), ('R_R00582__cytop', (0, 1.0)), ('R_R00966__nucl', (0, 1.0)), ('R_R06514__cytop', (0, 1.0)), ('R_R01513__chlo', (-1.0, 1.0)), ('R_R05000__mito', (0, 1.0)), ('R_TZ2900024_PLAS__chlomem', (-1.0, 1.0)), ('R_EX_C00984__dra', (0, 1)), ('R_R03090__chlo', (0, 1.0)), ('R_R01177__mito', (-1.0, 1.0)), ('R_R00174__cytop', (0, 1.0)), ('R_R01512__mito', (-1.0, 1.0)), ('R_R04143__cytop', (0, 1.0)), ('R_R07324__cytop', (0, 1.0)), ('R_R01015__chlo', (-1.0, 1.0)), ('R_R07891__mito', (-1.0, 1.0)), ('R_R01392__cytop', (0, 1.0)), ('R_R04300__cytop', (0, 1.0)), ('R_R00935__pero', (0, 1.0)), ('R_R00187__mito', (0, 1.0)), ('R_R08300__extr', (0, 1.0)), ('R_R04672__chlo', (0, 1.0)), ('R_RXN_13322__e_r_', (0, 1.0)), ('R_R02940__chlo', (0, 1.0)), ('R_TR0000034_PLAS__plas', (-1, 1)), ('R_R07512__chlo', (-1.0, 1.0)), ('R_R01731__mito', (0, 1.0)), ('R_R04844__e_r_', (0, 1.0)), ('R_R01569__e_r_', (0, 1.0)), ('R_R03311__cytop', (0, 1)), ('R_R12167__e_r_', (0, 1.0)), ('R_TO0000412_PLAS__vacmem', (0, 1.0)), ('R_R07893__chlo', (-1.0, 1.0)), ('R_R03482__e_r_', (0, 1.0)), ('R_R00925__cytop', (0, 1.0)), ('R_RXN_12994__e_r_', (0, 1.0)), ('R_R05818__chlo', (0, 1.0)), ('R_R09416__e_r_', (0, 1.0)), ('R_T_TCYNTtm__mitmem', (-1, 1)), ('R_R10907__cytop', (0, 1)), ('R_R01514__chlo', (0, 1.0)), ('R_EX_C00183__dra', (0, 1)), ('R_R01185__cytop', (0, 1.0)), ('R_R04204__pero', (0, 1.0)), ('R_R03026__mito', (-1.0, 1.0)), ('R_TI3000535_PLAS__plas', (0, 1.0)), ('R_EX_C00114__dra', (0, 1)), ('R_R03920__cytop', (0, 1.0)), ('R_T_Ammonia_V3__permem', (-1, 1)), ('R_R12459__mito', (0, 1.0)), ('R_R04963__chlo', (0, 1.0)), ('R_PKS_C40__cytop', (0, 1.0)), ('R_R00256__mito', (0, 1.0)), ('R_TR0011456_PLAS__ermem', (-1.0, 1.0)), ('R_R08743__cytop', (0, 1.0)), ('R_R00719__golg', (0, 1.0)), ('R_R12390__mito', (0, 1.0)), ('R_R07977__cytop', (0, 1.0)), ('R_R00716__cytop', (-1.0, 1.0)), ('R_R04968__mito', (0, 1.0)), ('R_R12356__pero', (0, 1.0)), ('R_TO1000100_PLAS__plas', (0, 1.0)), ('R_R09832__chlo', (0, 1.0)), ('R_R04058__extr', (0, 1.0)), ('R_R07083__chlo', (0, 1.0)), ('R_R08770__mito', (0, 1.0)), ('R_R12416__e_r_', (0, 1.0)), ('R_R06063__cytop', (0, 1)), ('R_R10619__cytop', (-1.0, 1.0)), ('R_R05286__cytop', (0, 1.0)), ('R_R00216__cytop', (0, 1.0)), ('R_R00257__cytop', (0, 1.0)), ('R_T_FADH2_V2__mitmem', (-1, 1)), ('R_R02746__extr', (0, 1.0)), ('R_R03140__chlo', (0, 1.0)), ('R_R02016__chlo', (0, 1.0)), ('R_R01770__cytop', (0, 1.0)), ('R_R10994__chlo', (0, 1.0)), ('R_RXN_11959__e_r_', (0, 1.0)), ('R_R00768__cytop', (0, 1.0)), ('R_PKS_C81__cytop', (0, 1.0)), ('R_R01123__chlo', (-1.0, 1.0)), ('R_R00087__mito', (0, 1.0)), ('R_R00310__chlo', (0, 1.0)), ('R_RXN_16096__e_r_', (0, 1.0)), ('R_R00963__cytop', (0, 1.0)), ('R_R00197__mito', (0, 1.0)), ('R_R07531__chlo', (0, 1.0)), ('R_R07003__e_r_', (0, 1.0)), ('R_R08343__e_r_', (0, 1.0)), ('R_R00200__chlo', (0, 1.0)), ('R_T_Palmitoleoyl_CoA__ermem', (0, 1)), ('R_R05234__cytop', (-1.0, 1.0)), ('R_R04920__e_r_', (0, 1.0)), ('R_TO3001378_PLAS__plas', (0, 1.0)), ('R_R00548__cytop', (0, 1.0)), ('R_R01317__cytop', (0, 1.0)), ('R_R05237__cytop', (0, 1.0)), ('R_RXN_12754__chlo', (0, 1)), ('R_T_Arachidonyl_CoA__ermem', (0, 1)), ('R_EX_C00049__dra', (0, 1)), ('R_T_L_Tyrosine__chlomem', (-1.0, 1.0)), ('R_PRISM_solar_exo__extr', (0, 1)), ('R_R11308__vacu', (0, 1.0)), ('R_R02124__cytop', (-1, 1)), ('R_R03314__mito', (0, 1)), ('R_R02434__cytop', (0, 1)), ('R_R09450__pero', (0, 1.0)), ('R_R08358__cytop', (0, 1)), ('R_R00238__pero', (-1.0, 1.0)), ('R_R08306__cytop', (-1.0, 1.0)), ('R_TI3000298_PLAS__plas', (0, 1.0)), ('R_EX_C02380__dra', (0, 1)), ('R_R06520__e_r_', (0, 1.0)), ('R_R10035__e_r_', (0, 1.0)), ('R_R07463__chlo', (0, 1.0)), ('R_TZ2900065_PLAS__plas', (0, 1.0)), ('R_R00120__cytop', (0, 1.0)), ('R_T_3__4_Hydroxyphenyl_pyruvate__mitmem', (0, 1)), ('R_R00708__cytop', (0, 1.0)), ('R_R00572__chlo', (0, 1.0)), ('R_R00221__chlo', (0, 1.0)), ('R_R03327__e_r_', (-1.0, 1.0)), ('R_R01968__e_r_', (0, 1.0)), ('R_R03429__nucl', (0, 1.0)), ('R_T_L_Aspartate__chlomem', (-1.0, 1.0)), ('R_T_L_Serine_V2__ermem', (0, 1)), ('R_R10179__mito', (-1.0, 1.0)), ('R_T__9Z_12Z__hexadeca_9_12_dienoate__ermem', (0, 1)), ('R_T_NADtm__mitmem', (-1, 1)), ('R_R04144__cytop', (0, 1.0)), ('R_R00345__mito', (0, 1.0)), ('R_R01083__cytop', (0, 1.0)), ('R_R03330__nucl', (0, 1.0)), ('R_e_Protein__cytop', (0, 1)), ('R_R03051__chlo', (0, 1.0)), ('R_R00131__cytop', (0, 1.0)), ('R_R01072__cytop', (0, 1.0)), ('R_TI3000040_PLAS__mitmem', (0, 1.0)), ('R_EX_C00794__dra', (0, 1)), ('R_R07763__chlo', (0, 1.0)), ('R_R05703__e_r_', (0, 1.0)), ('R_R05577__cytop', (0, 1.0)), ('R_R03139__cytop', (0, 1.0)), ('R_R02236__cytop', (0, 1.0)), ('R_TO0000017_PLAS__mitmem', (0, 1.0)), ('R_R09366__cytop', (0, 1.0)), ('R_TO0000244_PLAS__plas', (0, 1.0)), ('R_R03220__chlo', (0, 1.0)), ('R_R00066__chlo', (0, 1.0)), ('R_R04743__mito', (-1.0, 1.0)), ('R_R03869__mito', (0, 1.0)), ('R_R07079__chlo', (0, 1.0)), ('R_T_CoA_ADP__mitmem', (-1.0, 1.0)), ('R_R02519__cytop', (0, 1.0)), ('R_RXN_11881__e_r_', (0, 1.0)), ('R_TO0000255_PLAS__chlomem', (0, 1.0)), ('R_EX_C00076__dra', (0, 1)), ('R_R07059__cytop', (0, 1.0)), ('R_EX_C04230__dra', (0, 1)), ('R_R01526__cytop', (0, 1.0)), ('R_R00006__chlo', (0, 1.0)), ('R_TO1101242_PLAS__plas', (0, 1.0)), ('R_R07060__cytop', (0, 1.0)), ('R_R00754__cytop', (-1.0, 1.0)), ('R_TO0000438_PLAS__vacmem', (0, 1.0)), ('R_R01080__cytop', (0, 1.0)), ('R_R11100__mito', (0, 1.0)), ('R_EX_C01885__dra', (0, 1)), ('R_R09503_V1__chlo', (0, 1)), ('R_EX_C00525__dra', (0, 1)), ('R_R09502__chlo', (0, 1.0)), ('R_R04831__e_r_', (0, 1.0)), ('R_TO1100082_PLAS__plas', (0, 1.0)), ('R_PKS_C143__cytop', (0, 1.0)), ('R_R07899__mito', (-1.0, 1.0)), ('R_R08344__chlo', (0, 1.0)), ('R_R05615__mito', (0, 1.0)), ('R_R02091__cytop', (0, 1.0)), ('R_R09372__mito', (0, 1.0)), ('R_R01005__e_r_', (0, 1.0)), ('R_R08293__e_r_', (0, 1.0)), ('R_PRISM_red_LED_array_653nm__extr', (0, 1)), ('R_R02019__cytop', (0, 1.0)), ('R_R05286__chlo', (0, 1.0)), ('R_EX_C00187__dra', (0, 1)), ('R_R12459__nucl', (0, 1.0)), ('R_R12424__chlo', (0, 1.0)), ('R_R09450_V1__pero', (0, 1.0)), ('R_R02354__e_r_', (0, 1.0)), ('R_R07087__e_r_', (0, 1.0)), ('R_R04922__golg', (0, 1.0)), ('R_R02464__e_r_', (0, 1.0)), ('R_TO1000023_PLAS__plas', (0, 1.0)), ('R_R04972__chlo', (0, 1.0)), ('R_T_FAD_V1__permem', (-1, 1)), ('R_RXN_12969__e_r_', (0, 1.0)), ('R_R00922__pero', (0, 1.0)), ('R_R11945__mitmem', (0, 1.0)), ('R_R00996__mito', (0, 1.0)), ('R_R10116__chlo', (0, 1.0)), ('R_R02668__cytop', (0, 1.0)), ('R_R02683__mito', (0, 1.0)), ('R_R02569__chlo', (0, 1.0)), ('R_R05070__mito', (0, 1.0)), ('R_T_CDP_Choline_V1__golmem', (-1, 1)), ('R_R01127__cytop', (-1.0, 1.0)), ('R_R08175__mito', (0, 1.0)), ('R_TR2900128_PLAS__mitmem', (-1.0, 1.0)), ('R_R07092__chlo', (0, 1.0)), ('R_R04959__mito', (0, 1.0)), ('R_R07392__cytop', (0, 1.0)), ('R_R08295__cytop', (-1, 1)), ('R_TO1000320_PLAS__plas', (0, 1.0)), ('R_R01896__cytop', (-1.0, 1.0)), ('R_R07354__cytop', (0, 1.0)), ('R_R03656__mito', (0, 1.0)), ('R_R00999__cytop', (0, 1.0)), ('R_R01863__cytop', (-1.0, 1.0)), ('R_R01814__cytop', (0, 1.0)), ('R_R05066__mito', (-1.0, 1.0)), ('R_TO1000306_PLAS__plas', (0, 1.0)), ('R_R07265__e_r_', (-1.0, 1.0)), ('R_R03401__cytop', (-1.0, 1.0)), ('R_R02472__cytop', (0, 1.0)), ('R_R09823__chlo', (0, 1.0)), ('R_R02918__cytop', (0, 1.0)), ('R_R00966__cytop', (0, 1.0)), ('R_R08182__mito', (0, 1.0)), ('R_T_2OXOADPtim__mitmem', (-1, 1)), ('R_R01177__pero', (-1.0, 1.0)), ('R_R04427__chlo', (0, 1.0)), ('R_R01471__cytop', (-1.0, 1.0)), ('R_R01859__mito', (0, 1.0)), ('R_R03546__mito', (0, 1.0)), ('R_TI3001341_PLAS__plas', (0, 1.0)), ('R_EX_C00051__dra', (0, 1)), ('R_R03875__cytop', (0, 1.0)), ('R_R04968__cytop', (0, 1.0)), ('R_EX_C00473__dra', (0, 1)), ('R_T_Hydrogen_Peroxide_V3__permem', (-1, 1)), ('R_R01699__chlo', (0, 1.0)), ('R_R08251__cytop', (0, 1.0)), ('R_PRISM_high_pressure_sodium__extr', (0, 1)), ('R_R02566__mito', (0, 1.0)), ('R_R02687__e_r_', (0, 1.0)), ('R_TR0000242_PLAS__plas', (-1.0, 1.0)), ('R_R03394__e_r_', (0, 1.0)), ('R_R08698__cytop', (0, 1)), ('R_R07481__chlo', (0, 1.0)), ('R_R07100__chlo', (0, 1.0)), ('R_R04199__chlo', (0, 1.0)), ('R_R04543__cytop', (0, 1.0)), ('R_EX_C05443__dra', (0, 1)), ('R_R02135__chlo', (0, 1.0)), ('R_R00710__cytop', (0, 1.0)), ('R_R06194__cytop', (0, 1)), ('R_R00842__mito', (-1.0, 1.0)), ('R_R00847__cytop', (0, 1.0)), ('R_R08146__cytop', (0, 1.0)), ('R_R02765__mito', (-1, 1)), ('R_R01802__e_r_', (0, 1.0)), ('R_EX_C00162__dra', (0, 1)), ('R_R08093__mito', (-1.0, 1.0)), ('R_T_FattyAcid_V2__chlomem', (0, 1.0)), ('R_R00517__nucl', (0, 1.0)), ('R_R00659__mito', (0, 1.0)), ('R_R03658__mito', (0, 1.0)), ('R_R07023__chlo', (0, 1.0)), ('R_R07057__e_r_', (0, 1.0)), ('R_R04746__pero', (-1.0, 1.0)), ('R_PKS_C206__cytop', (0, 1.0)), ('R_R00428__cytop', (0, 1.0)), ('R_R12171__e_r_', (0, 1.0)), ('R_R01226__mito', (-1.0, 1.0)), ('R_TO3000348_PLAS__chlomem', (0, 1.0)), ('R_R02740__cytop', (-1.0, 1.0)), ('R_R05595__mito', (-1.0, 1.0)), ('R_R07500__e_r_', (0, 1.0)), ('R_R02371__nucl', (0, 1.0)), ('R_R01078__mito', (0, 1.0)), ('R_R07004__chlo', (0, 1.0)), ('R_R04965__cytop', (0, 1.0)), ('R_R04682__cytop', (0, 1.0)), ('R_R02095__mito', (0, 1.0)), ('R_T_SLC25A20__mitmem', (-1.0, 1.0)), ('R_R11763__cytop', (0, 1.0)), ('R_R07116__e_r_', (0, 1.0)), ('R_R02097__nucl', (0, 1.0)), ('R_R00589__chlo', (-1.0, 1.0)), ('R_R00970__nucl', (0, 1.0)), ('R_TI3000051_E_R___ermem', (0, 1.0)), ('R_R01624__cytop', (0, 1.0)), ('R_T_H2O__plas', (-1, 1)), ('R_R00694__mito', (-1.0, 1.0)), ('R_R02433__chlo', (-1.0, 1.0)), ('R_R00332__cytop', (-1.0, 1.0)), ('R_R03283__mito', (0, 1.0)), ('R_EX_C00121__dra', (0, 1)), ('R_R00899__cytop', (0, 1.0)), ('R_TO1100751_PLAS__plas', (0, 1.0)), ('R_R00888__cytop', (0, 1.0)), ('R_T_Hexadecanoyl_CoA__chlomem', (0, 1.0)), ('R_T_L_Valine_V1__mitmem', (-1.0, 1.0)), ('R_R03184__cytop', (0, 1.0)), ('R_R01665__cytop', (0, 1.0)), ('R_TO1000051_PLAS__plas', (0, 1.0)), ('R_R03222__chlo', (0, 1.0)), ('R_RXN_16380__mito', (0, 1.0)), ('R_R03478__nucl', (0, 1.0)), ('R_R00927__mito', (-1.0, 1.0)), ('R_R12185__cytop', (0, 1)), ('R_R07618__mito', (0, 1.0)), ('R_R11308__extr', (0, 1.0)), ('R_R00479__mito', (0, 1.0)), ('R_EX_C05080__dra', (0, 1)), ('R_R07002__chlo', (0, 1.0)), ('R_TO1001526_PLAS__plas', (0, 1.0)), ('R_R04929__mito', (0, 1.0)), ('R_R01137__mito', (0, 1.0)), ('R_R00335__e_r_', (0, 1)), ('R_R08159__chlo', (0, 1.0)), ('R_R00895__chlo', (-1.0, 1.0)), ('R_R00289__chlo', (-1.0, 1.0)), ('R_R05919__e_r_', (0, 1.0)), ('R_R10040__extr', (0, 1.0)), ('R_R08782__chlo', (0, 1.0)), ('R_R01010__extr', (0, 1.0)), ('R_R02874__e_r_', (0, 1.0)), ('R_R10992__pero', (0, 1.0)), ('R_R00178__cytop', (0, 1.0)), ('R_R03200__e_r_', (0, 1.0)), ('R_R07055__chlo', (0, 1.0)), ('R_R04378__cytop', (0, 1.0)), ('R_EX_C00097__dra', (0, 1)), ('R_R01227__cytop', (0, 1.0)), ('R_R09380__e_r_', (-1.0, 1.0)), ('R_T_H2S__chlomem', (-1, 1)), ('R_R03316__mito', (0, 1.0)), ('R_R01004__chlo', (0, 1.0)), ('R_EX_C00148__dra', (0, 1)), ('R_T_CTP__ermem', (-1, 1)), ('R_R02872__e_r_', (0, 1.0)), ('R_R07213__cytop', (0, 1.0)), ('R_T_Formaldehyde_V1__permem', (-1, 1)), ('R_EX_C00942__dra', (0, 1)), ('R_EX_C16837__dra', (0, 1)), ('R_R02527__cytop', (-1.0, 1.0)), ('R_PRISM_metal_halide__extr', (0, 1)), ('R_R01518__cytop', (-1.0, 1.0)), ('R_R03628__cytop', (0, 1.0)), ('R_R02568__cytop', (-1.0, 1.0)), ('R_R08232__nucl', (0, 1.0)), ('R_T__11Z_14Z_17Z__Icosatrienoyl_CoA__ermem', (0, 1)), ('R_R04960__mito', (0, 1.0)), ('R_R02557__cytop', (-1.0, 1.0)), ('R_R04880__cytop', (-1.0, 1.0)), ('R_TO1000381_PLAS__plas', (0, 1.0)), ('R_R01186__mito', (0, 1.0)), ('R_R07025__chlo', (0, 1.0)), ('R_R01529__cytop', (-1.0, 1.0)), ('R_R10089__cytop', (0, 1.0)), ('R_R04901__cytop', (0, 1.0)), ('R_R09450_V1__cytop', (0, 1.0)), ('R_T_ATP__nucmem', (-1, 1)), ('R_R01224__cytop', (0, 1.0)), ('R_R04639__cytop', (-1.0, 1.0)), ('R_T_CDP_Choline__ermem', (-1, 1)), ('R_EX_C00175__dra', (0, 1)), ('R_R02985__chlo', (0, 1.0)), ('R_PKS_C102__cytop', (0, 1.0)), ('R_PRISM_red_LED_674nm__extr', (0, 1)), ('R_R04502__cytop', (0, 1.0)), ('R_R00719__cytop', (0, 1.0)), ('R_R00734__mito', (-1.0, 1.0)), ('R_R07025__cytop', (0, 1.0)), ('R_R02918__chlo', (0, 1.0)), ('R_R04945__mito', (0, 1.0)), ('R_R08705__cytop', (-1, 1)), ('R_CYSPH_RXN__cytop', (0, 1.0)), ('R_RXN_13001__e_r_', (0, 1.0)), ('R_R09424__chlo', (0, 1.0)), ('R_R09404__chlo', (0, 1.0)), ('R_TI3000697_PLAS__plas', (0, 1.0)), ('R_R07012__cytop', (0, 1)), ('R_R07781__cytop', (0, 1.0)), ('R_EX_C00577__dra', (0, 1)), ('R_R11766__cytop', (0, 1)), ('R_R09450__cytop', (0, 1.0)), ('R_TO3000758_PLAS__plas', (0, 1.0)), ('R_R06941__pero', (0, 1.0)), ('R_OAADCO__mito', (0, 1)), ('R_R01773__cytop', (0, 1.0)), ('R_5DORI__cytop', (-1.0, 1.0)), ('R_R04961__chlo', (0, 1.0)), ('R_R08391__e_r_', (0, 1.0)), ('R_R04725__chlo', (0, 1.0)), ('R_R03408__chlo', (0, 1.0)), ('R_R04137__pero', (-1.0, 1.0)), ('R_R10035__vacu', (0, 1.0)), ('R_T_L_Glutamine__vacmem', (0, 1.0)), ('R_R03990__pero', (0, 1.0)), ('R_R07613__chlo', (-1.0, 1.0)), ('R_EX_C00695__dra', (0, 1)), ('R_TO1101257_PLAS__plas', (0, 1.0)), ('R_R05693__cytop', (-1.0, 1.0)), ('R_R03089__chlo', (0, 1.0)), ('R_R03524__cytop', (0, 1.0)), ('R_R07276__chlo', (0, 1.0)), ('R_R00259__chlo', (0, 1.0)), ('R_EX_C16543__dra', (0, 1)), ('R_EX_C03742__dra', (0, 1)), ('R_TO1000119_PLAS__plas', (0, 1.0)), ('R_R12658__mito', (0, 1.0)), ('R_EX_C00956__dra', (0, 1)), ('R_TO1002611_PLAS__plas', (0, 1.0)), ('R_R00691__chlo', (0, 1.0)), ('R_R02326__cytop', (0, 1.0)), ('R_R01549__cytop', (0, 1.0)), ('R_R09433__cytop', (-1, 1)), ('R_DM_photon646__chlo', (0, 1)), ('R_R00491__e_r_', (-1.0, 1.0)), ('R_R07273__mito', (0, 1.0)), ('R_R08107__e_r_', (0, 1.0)), ('R_R07411__cytop', (-1.0, 1.0)), ('R_R07943__chlo', (0, 1.0)), ('R_R07499__e_r_', (0, 1.0)), ('R_R00253__chlo', (0, 1.0)), ('R_R03083__chlo', (0, 1.0)), ('R_R07395__cytop', (0, 1.0)), ('R_R02382__cytop', (0, 1.0)), ('R_R04740__chlo', (-1.0, 1.0)), ('R_TR0000099_PLAS__mitmem', (-1.0, 1.0)), ('R_R09420__chlo', (0, 1.0)), ('R_TI3001535_PLAS__plas', (0, 1.0)), ('R_EX_C00037__dra', (0, 1)), ('R_R09406__chlo', (0, 1.0)), ('R_T_H2O_V1__chlomem', (-1, 1)), ('R_R01776__mito', (-1.0, 1.0)), ('R_T_H2O_V4__golmem', (-1, 1)), ('R_R08265__e_r_', (0, 1.0)), ('R_EX_C00504__dra', (0, 1)), ('R_EX_C05394__dra', (0, 1)), ('R_R03956__mito', (0, 1.0)), ('R_R04285__cytop', (0, 1.0)), ('R_TR2000105_PLAS__mitmem', (-1.0, 1.0)), ('R_R00363__mito', (0, 1.0)), ('R_R07070__e_r_', (0, 1.0)), ('R_R03814__e_r_', (0, 1.0)), ('R_R05051__cytop', (0, 1.0)), ('R_R12375__cytop', (0, 1.0)), ('R_R08267__chlo', (0, 1.0)), ('R_R08178__pero', (0, 1.0)), ('R_EX_C00155__dra', (0, 1)), ('R_R00425__chlo', (0, 1.0)), ('R_R03181__cytop', (-1.0, 1.0)), ('R_R04241__cytop', (0, 1.0)), ('R_TO1000366_PLAS__plas', (0, 1.0)), ('R_TO0000149_PLAS__plas', (0, 1.0)), ('R_RXN_19211_V2__chlo', (0, 1.0)), ('R_T_SLC25A17__permem', (0, 1.0)), ('R_R09920__e_r_', (-1.0, 1.0)), ('R_R00533__cytop', (0, 1.0)), ('R_R01616__mito', (0, 1)), ('R_R01388__mito', (-1.0, 1.0)), ('R_R07021__e_r_', (0, 1.0)), ('R_R08176__pero', (0, 1.0)), ('R_T_Acetate_V1__mitmem', (-1, 1)), ('R_TO3000354_E_R___ermem', (0, 1.0)), ('R_EX_C03360__dra', (0, 1)), ('R_R04535__cytop', (0, 1.0)), ('R_R03276__pero', (-1.0, 1.0)), ('R_R02371__cytop', (0, 1.0)), ('R_R09408__chlo', (0, 1.0)), ('R_R08095__mito', (-1.0, 1.0)), ('R_R10183__cytop', (0, 1.0)), ('R_R04150__pero', (-1.0, 1.0)), ('R_R07362__cytop', (0, 1.0)), ('R_R03088__e_r_', (0, 1.0)), ('R_EX_C00135__dra', (0, 1)), ('R_R01411__nucl', (0, 1.0)), ('R_R00036__chlo', (0, 1.0)), ('R_R09421__e_r_', (0, 1.0)), ('R_R00026__cytop', (0, 1.0)), ('R_R01561__cytop', (-1.0, 1.0)), ('R_EX_C07054__dra', (0, 1)), ('R_R04748__pero', (-1.0, 1.0)), ('R_TO1000161_PLAS__plas', (0, 1.0)), ('R_R01073__chlo', (0, 1.0)), ('R_R04834__mito', (0, 1.0)), ('R_T_MALICITtm__mitmem', (-1.0, 1.0)), ('R_R04724__mito', (0, 1.0)), ('R_R02926__cytop', (0, 1.0)), ('R_R03105__chlo', (0, 1.0)), ('R_R06522__e_r_', (0, 1.0)), ('R_T_PYR__permem', (0, 1.0)), ('R_R10928__cytop', (-1.0, 1.0)), ('R_R06171__chlo', (-1.0, 1.0)), ('R_R01658__chlo', (0, 1.0)), ('R_R04065__chlo', (0, 1.0)), ('R_R00209__cytop', (0, 1.0)), ('R_R04496__e_r_', (0, 1.0)), ('R_R01598__cytop', (0, 1.0)), ('R_R05050__chlo', (0, 1.0)), ('R_R04678__e_r_', (0, 1.0)), ('R_T_L_Phenylalanine__chlomem', (-1.0, 1.0)), ('R_R07085__e_r_', (0, 1.0)), ('R_R02323__cytop', (0, 1.0)), ('R_T_L_Cysteine__chlomem', (-1.0, 1.0)), ('R_R02135__extr', (0, 1.0)), ('R_R01969__cytop', (-1.0, 1.0)), ('R_R07091__cytop', (0, 1.0)), ('R_R04404__cytop', (0, 1.0)), ('R_R01186__cytop', (0, 1.0)), ('R_R01286__mito', (0, 1.0)), ('R_T_Hexadecenal__ermem', (0, 1)), ('R_EX_C04501__dra', (0, 1)), ('R_R00355__chlo', (-1.0, 1.0)), ('R_R01057__cytop', (-1.0, 1.0)), ('R_R08192__cytop', (0, 1.0)), ('R_R07888__pero', (0, 1.0)), ('R_R07051__e_r_', (0, 1.0)), ('R_R03877__cytop', (0, 1.0)), ('R_R11125__cytop', (0, 1.0)), ('R_R03012__cytop', (0, 1.0)), ('R_e_Biomass__cytop', (0, 1)), ('R_T_L_Ornithine__chlomem', (-1, 1)), ('R_EX_C01898__dra', (0, 1)), ('R_R02521__cytop', (0, 1.0)), ('R_R02037__cytop', (0, 1.0)), ('R_T_Phosphatidate__chlomem', (-1, 1)), ('R_R00481__cytop', (0, 1.0)), ('R_R00570__chlo', (0, 1.0)), ('R_R08210__chlo', (0, 1.0)), ('R_R03451__mito', (0, 1.0)), ('R_R02021__cytop', (0, 1.0)), ('R_T_L_Ascorbate_V1__mitmem', (-1, 1)), ('R_R00970__cytop', (0, 1.0)), ('R_R03362__nucl', (0, 1.0)), ('R_R00942__nucl', (0, 1.0)), ('R_R09251__mito', (0, 1.0)), ('R_R00489__cytop', (0, 1.0)), ('R_R00084__chlo', (0, 1.0)), ('R_R00004__chlo', (0, 1.0)), ('R_R09408__e_r_', (0, 1.0)), ('R_R07461__chlo', (0, 1.0)), ('R_R10040__vacu', (0, 1.0)), ('R_R04167__chlo', (0, 1.0)), ('R_PKS_C123__cytop', (0, 1.0)), ('R_R01801__mito', (0, 1.0)), ('R_TI3000689_PLAS__plas', (0, 1.0)), ('R_R10065__cytop', (0, 1.0)), ('R_R12570__mito', (0, 1.0)), ('R_R10040__e_r_', (0, 1.0)), ('R_R04209__cytop', (-1.0, 1.0)), ('R_R00731__cytop', (0, 1.0)), ('R_EX_C00670__dra', (0, 1)), ('R_R04970__cytop', (0, 1.0)), ('R_R04746__chlo', (-1.0, 1.0)), ('R_T_Riboflavin__chlomem', (-1, 1)), ('R_R05639__e_r_', (-1.0, 1.0)), ('R_R04441__chlo', (0, 1.0)), ('R_TI3000296_PLAS__plas', (0, 1.0)), ('R_R00497__cytop', (0, 1.0)), ('R_R00160__chlo', (0, 1.0)), ('R_R03815__mito', (-1.0, 1.0)), ('R_R04001__chlo', (-1.0, 1.0)), ('R_EX_C03708__dra', (0, 1)), ('R_R03629__e_r_', (0, 1.0)), ('R_R04247__cytop', (0, 1.0)), ('R_R03858__mito', (-1.0, 1.0)), ('R_R10281__chlo', (0, 1.0)), ('R_R04965__chlo', (0, 1.0)), ('R_RXN_13302__e_r_', (0, 1.0)), ('R_R07098__chlo', (0, 1.0)), ('R_T_SLC25A17_V6__permem', (0, 1.0)), ('R_R04566__cytop', (0, 1.0)), ('R_R01090__chlo', (-1.0, 1.0)), ('R_R02887__extr', (0, 1.0)), ('R_R04231__cytop', (0, 1.0)), ('R_R04945__cytop', (0, 1.0)), ('R_R05085__mito', (-1.0, 1.0)), ('R_R04741__mito', (-1.0, 1.0)), ('R_R03599__cytop', (0, 1.0)), ('R_R04433__mito', (0, 1.0)), ('R_R05755__cytop', (0, 1.0)), ('R_R00328__golg', (0, 1.0)), ('R_R08245__mito', (0, 1.0)), ('R_R00705__pero', (0, 1.0)), ('R_EX_C15681__dra', (0, 1)), ('R_R07069__cytop', (0, 1.0)), ('R_TO1001608_PLAS__plas', (0, 1.0)), ('R_R01137__cytop', (0, 1.0)), ('R_R00258__mito', (-1.0, 1.0)), ('R_T_SAM__chlomem', (-1, 1)), ('R_R08244__cytop', (0, 1.0)), ('R_T_4_Aminobutanoate__chlomem', (-1, 1)), ('R_R08772__mito', (0, 1)), ('R_R00352__cytop', (0, 1.0)), ('R_R00350__mito', (0, 1.0)), ('R_R05305__mito', (-1.0, 1.0)), ('R_PKS_C164__cytop', (0, 1.0)), ('R_R02933__cytop', (-1.0, 1.0)), ('R_R07094__cytop', (0, 1.0)), ('R_R05980__e_r_', (0, 1.0)), ('R_T_PCHOL_HStg__golmem', (-1, 1)), ('R_TO1000069_PLAS__plas', (0, 1.0)), ('R_R01706__cytop', (0, 1.0)), ('R_TO1000411_PLAS__plas', (0, 1.0)), ('R_R02367__cytop', (0, 1.0)), ('R_R01183__cytop', (0, 1.0)), ('R_TR2000107_PLAS__chlomem', (-1.0, 1.0)), ('R_R03004__cytop', (0, 1.0)), ('R_TO1100074_PLAS__mitmem', (-1.0, 1.0)), ('R_R02101__cytop', (0, 1.0)), ('R_R00727__mito', (-1.0, 1.0)), ('R_PRISM_incandescent_60W__extr', (0, 1)), ('R_T_L_Cysteine_V1__mitmem', (-1.0, 1.0)), ('R_R00569__cytop', (0, 1.0)), ('R_R11044__chlo', (0, 1.0)), ('R_TI3000016_PLAS__plas', (0, 1.0)), ('R_R11861__cytop', (0, 1.0)), ('R_R03383__mito', (0, 1.0)), ('R_R08186__mito', (0, 1.0)), ('R_TO0000309_PLAS__plas', (0, 1.0)), ('R_T_1_Phosphatidyl_D_myo_inositol__nucmem', (-1, 1)), ('R_R04330__e_r_', (0, 1.0)), ('R_EX_C00101__dra', (0, 1)), ('R_R02736__chlo', (0, 1.0)), ('R_R01870__cytop', (-1.0, 1.0)), ('R_R06412__pero', (0, 1.0)), ('R_EX_C01324__dra', (0, 1)), ('R_EX_C05973__dra', (0, 1)), ('R_TZ2900000_PLAS__vacmem', (0, 1.0)), ('R_R02985__extr', (0, 1.0)), ('R_R04847__mito', (0, 1.0)), ('R_R07000__chlo', (0, 1.0)), ('R_R07048__e_r_', (0, 1.0)), ('R_R02619__chlo', (0, 1.0)), ('R_R00899__pero', (0, 1.0)), ('R_R04922__e_r_', (0, 1.0)), ('R_EX_C00064__dra', (0, 1)), ('R_R02073__cytop', (-1.0, 1.0)), ('R_R10463__chlo', (0, 1.0)), ('R_R02026__mito', (0, 1.0)), ('R_R10991__mito', (0, 1.0)), ('R_T_SAMT1__chlomem', (-1, 1)), ('R_R02250__e_r_', (0, 1.0)), ('R_R04494__cytop', (0, 1.0)), ('R_R00722__chlo', (0, 1.0)), ('R_T_L_Homocysteine__chlomem', (-1, 1)), ('R_T_FADH2_V1__permem', (-1, 1)), ('R_R01375__mito', (-1.0, 1.0)), ('R_R07491__e_r_', (0, 1.0)), ('R_R08345__e_r_', (0, 1.0)), ('R_TO0001217_PLAS__vacmem', (0, 1.0)), ('R_EX_C00407__dra', (0, 1)), ('R_T__9Z_12Z_15Z__Octadecatrienoyl_CoA__ermem', (0, 1)), ('R_R03857__pero', (0, 1.0)), ('R_R03004__nucl', (0, 1.0)), ('R_R00267__mito', (0, 1.0)), ('R_TR2000108_PLAS__chlomem', (-1.0, 1.0)), ('R_R00275__cytop', (0, 1.0)), ('R_R02732__cytop', (0, 1.0)), ('R_TO1122637_PLAS__plas', (0, 1.0)), ('R_R03478__cytop', (0, 1.0)), ('R_R01041__cytop', (-1.0, 1.0)), ('R_R04224__pero', (0, 1.0)), ('R_TO1000232_PLAS__plas', (0, 1.0)), ('R_R01711__cytop', (0, 1.0)), ('R_R01384__golg', (0, 1.0)), ('R_TO1000179_PLAS__plas', (0, 1.0)), ('R_R00945__cytop', (-1.0, 1.0)), ('R_R05237__mito', (0, 1.0)), ('R_TO0000654_PLAS__vacmem', (0, 1.0)), ('R_R07267__cytop', (0, 1)), ('R_TZ2900012_PLAS__mitmem', (0, 1.0)), ('R_DEDOLP2__e_r_', (0, 1.0)), ('R_R03443__chlo', (0, 1.0)), ('R_R00829__mito', (0, 1.0)), ('R_R00868__cytop', (-1.0, 1.0)), ('R_R04966__mito', (0, 1.0)), ('R_R07486__e_r_', (0, 1.0)), ('R_R02024__cytop', (0, 1.0)), ('R_R02356__e_r_', (0, 1.0)), ('R_R02800__chlo', (0, 1.0)), ('R_R10117__mito', (-1.0, 1.0)), ('R_R06866__cytop', (0, 1)), ('R_R04745__mito', (-1.0, 1.0)), ('R_T_FAD_V2__mitmem', (-1, 1)), ('R_R01956__cytop', (0, 1.0)), ('R_R11323__mito', (0, 1.0)), ('R_R03004__mito', (0, 1.0)), ('R_R10118__chlo', (0, 1.0)), ('R_R07501__cytop', (0, 1.0)), ('R_R07760__e_r_', (-1.0, 1.0)), ('R_R01214__chlo', (-1.0, 1.0)), ('R_R10997__mito', (0, 1.0)), ('R_R04754__mito', (0, 1.0)), ('R_R03663__cytop', (0, 1.0)), ('R_R01214__cytop', (-1.0, 1.0)), ('R_R05802__nucl', (0, 1.0)), ('R_R04534__chlo', (0, 1.0)), ('R_R10093__cytop', (-1.0, 1.0)), ('R_R06604__mito', (0, 1.0)), ('R_R00451__chlo', (0, 1.0)), ('R_R05549__cytop', (0, 1.0)), ('R_R08177__mito', (0, 1.0)), ('R_R07762__e_r_', (-1.0, 1.0)), ('R_R09224__cytop', (0, 1.0)), ('R_R03012__chlo', (0, 1.0)), ('R_R01793__cytop', (0, 1.0)), ('R_R02239__chlo', (0, 1.0)), ('R_TO0000056_PLAS__plas', (0, 1.0)), ('R_R10122__mito', (0, 1.0)), ('R_R08921__cytop', (0, 1.0)), ('R_R00942__mito', (0, 1.0)), ('R_R07094__chlo', (0, 1.0)), ('R_R01678__cytop', (0, 1.0)), ('R_R01384__cytop', (0, 1.0)), ('R_TO1000039_PLAS__plas', (0, 1.0)), ('R_R03504__cytop', (0, 1.0)), ('R_R04747__mito', (-1.0, 1.0)), ('R_R04445__cytop', (0, 1.0)), ('R_R01090__cytop', (-1.0, 1.0)), ('R_T_NADH_V1__ermem', (-1, 1)), ('R_R05238__chlo', (0, 1.0)), ('R_R02300__mito', (0, 1.0)), ('R_TE_1__cytop', (0, 1.0)), ('R_R02957__chlo', (0, 1.0)), ('R_R04355__cytop', (0, 1.0)), ('R_EX_C16647__dra', (0, 1)), ('R_R00354__mito', (0, 1.0)), ('R_TY3000001_PLAS__plas', (0, 1.0)), ('R_R10120__mito', (0, 1.0)), ('R_R03508__chlo', (0, 1.0)), ('R_R04903__chlo', (0, 1.0)), ('R_T__GlcNAc_2_Man_5_Asn_1__golmem', (0, 1)), ('R_R00105__mito', (0, 1.0)), ('R_SOX__mito', (0, 1)), ('R_R04958__cytop', (0, 1.0)), ('R_EX_C00376__dra', (0, 1)), ('R_TO1019001_PLAS__plas', (0, 1.0)), ('R_R02748__cytop', (-1.0, 1.0)), ('R_R09137__cytop', (0, 1.0)), ('R_R08924__mito', (0, 1.0)), ('R_EX_C00309__dra', (0, 1)), ('R_R00278__cytop', (0, 1.0)), ('R_R02352__e_r_', (0, 1.0)), ('R_R02240__chlo', (0, 1.0)), ('R_R04970__chlo', (0, 1.0)), ('R_TO3001046_PLAS__plas', (0, 1.0)), ('R_R03600__chlo', (0, 1.0)), ('R_R01845__cytop', (0, 1.0)), ('R_R00942__cytop', (0, 1.0)), ('R_R02649__chlo', (0, 1.0)), ('R_RXN_12127__cytop', (0, 1.0)), ('R_TI3000695_PLAS__plas', (0, 1.0)), ('R_T_Prephenate__chlomem', (-1, 1)), ('R_R00571__cytop', (0, 1.0)), ('R_R03239__cytop', (0, 1.0)), ('R_R06942__mito', (0, 1.0)), ('R_R10119__mito', (0, 1.0)), ('R_T_2_Succinylbenzoate__permem', (-1, 1)), ('R_R01931__mito', (0, 1.0)), ('R_R04726__cytop', (0, 1.0)), ('R_R07316__cytop', (0, 1)), ('R_TR0000209_PLAS__plas', (0, 1.0)), ('R_R00085__golg', (0, 1.0)), ('R_T_AKGCITtm__mitmem', (-1.0, 1.0)), ('R_EX_C00310__dra', (0, 1)), ('R_R00335__golg', (0, 1.0)), ('R_R11527__cytop', (0, 1.0)), ('R_EX_C02110__dra', (0, 1)), ('R_R07004__cytop', (0, 1.0)), ('R_R04787__chlo', (0, 1.0)), ('R_R06238__cytop', (0, 1.0)), ('R_TR0000239_PLAS__plas', (-1.0, 1.0)), ('R_TO3000572_PLAS__plas', (0, 1.0)), ('R_R03118__cytop', (0, 1.0)), ('R_R08146__chlo', (0, 1.0)), ('R_R04203__cytop', (-1.0, 1.0)), ('R_EX_C01233__dra', (0, 1)), ('R_EX_C05993__dra', (0, 1)), ('R_R06266__chlo', (0, 1.0)), ('R_R08258__e_r_', (0, 1.0)), ('R_R00355__cytop', (-1.0, 1.0)), ('R_R04785__cytop', (0, 1.0)), ('R_R00221__cytop', (0, 1.0)), ('R_R02887__e_r_', (0, 1.0)), ('R_R06286_V1__chlo', (0, 1.0)), ('R_R05551__cytop', (0, 1.0)), ('R_R00571__mito', (0, 1.0)), ('R_R06590__cytop', (0, 1.0)), ('R_R08921__chlo', (0, 1.0)), ('R_R02887__vacu', (0, 1.0)), ('R_R08238__mito', (0, 1.0)), ('R_R02905__cytop', (0, 1)), ('R_T_Glycerol__permem', (-1, 1)), ('R_R01280__mito', (0, 1.0)), ('R_TR6900007_PLAS__mitmem', (0, 1.0)), ('R_R00491__cytop', (-1.0, 1.0)), ('R_R03650__cytop', (0, 1.0)), ('R_R02565__cytop', (0, 1.0)), ('R_R02978__e_r_', (0, 1.0)), ('R_R00512__cytop', (-1.0, 1.0)), ('R_R02084__mito', (-1.0, 1.0)), ('R_R00986__chlo', (0, 1.0)), ('R_R05801__cytop', (0, 1.0)), ('R_R05259__e_r_', (0, 1.0)), ('R_R09827__cytop', (0, 1.0)), ('R_R04711__mito', (0, 1.0)), ('R_T_S_Allantoin__mitmem', (-1, 1)), ('R_TO3001997_PLAS__plas', (0, 1.0)), ('R_R00515__cytop', (0, 1)), ('R_TO1015390_PLAS__plas', (0, 1.0)), ('R_R05842__cytop', (0, 1.0)), ('R_TI2903797_PLAS__mitmem', (-1.0, 1.0)), ('R_R00103__mito', (0, 1.0)), ('R_R03102__cytop', (0, 1.0)), ('R_R05086__chlo', (0, 1.0)), ('R_R01655__mito', (0, 1.0)), ('R_R01933__mito', (0, 1.0)), ('R_R03236__cytop', (0, 1.0)), ('R_TO0000205_PLAS__plas', (0, 1.0)), ('R_R00494__cytop', (0, 1.0)), ('R_R05041__cytop', (0, 1)), ('R_R02558__chlo', (0, 1.0)), ('R_TR2300186_PLAS__mitmem', (0, 1.0)), ('R_R08198__cytop', (-1.0, 1.0)), ('R_R07140__cytop', (0, 1.0)), ('R_R08980__cytop', (0, 1.0)), ('R_PKS_C61__cytop', (0, 1.0)), ('R_R04955__cytop', (0, 1.0)), ('R_TO1000064_PLAS__plas', (0, 1.0)), ('R_TO1000705_PLAS__plas', (0, 1.0)), ('R_R00206__cytop', (-1.0, 1.0)), ('R_R04751__pero', (0, 1.0)), ('R_R08181__pero', (0, 1.0)), ('R_TI3000046_PLAS__plas', (0, 1.0)), ('R_R01273__cytop', (0, 1.0)), ('R_R03430__e_r_', (0, 1.0)), ('R_T_Formate__ermem', (-1, 1)), ('R_R00342__cytop', (-1.0, 1.0)), ('R_R00104__chlo', (0, 1.0)), ('R_R00185__cytop', (0, 1.0)), ('R_EX_C01825__dra', (0, 1)), ('R_TI0004098_PLAS__plas', (0, 1.0)), ('R_R02135__cytop', (0, 1.0)), ('R_R08182__cytop', (0, 1.0)), ('R_R03038__cytop', (0, 1.0)), ('R_R04125__mito', (0, 1.0)), ('R_EX_C16836__dra', (0, 1)), ('R_T_Hexadecanoyl_CoA_V1__permem', (0, 1.0)), ('R_R07081__e_r_', (0, 1.0)), ('R_R08380__cytop', (-1.0, 1.0)), ('R_T_Hexadecanal__ermem', (0, 1)), ('R_R01582__cytop', (-1.0, 1.0)), ('R_R05724__e_r_', (0, 1.0)), ('R_R01752__cytop', (0, 1.0)), ('R_RXN_13306__e_r_', (0, 1.0)), ('R_R04568__chlo', (0, 1.0)), ('R_R03260__mito', (0, 1.0)), ('R_EX_C19609__dra', (0, 1)), ('R_T_Sulfite__chlomem', (-1, 1)), ('R_T__R__Lactate__mitmem', (-1, 1)), ('R_R00573__mito', (0, 1.0)), ('R_EX_C00474__dra', (0, 1)), ('R_T_Glycolate_V2__permem', (-1, 1)), ('R_R08231__cytop', (-1.0, 1.0)), ('R_EX_C01996__dra', (0, 1)), ('R_R01397__cytop', (0, 1.0)), ('R_DM_photon438__chlo', (0, 1)), ('R_T_Cytidine__nucmem', (-1, 1)), ('R_T_ATPtg__golmem', (-1, 1)), ('R_R07281__chlo', (0, 1.0)), ('R_R06869__cytop', (0, 1.0)), ('R_TI3000279_PLAS__ermem', (0, 1.0)), ('R_R03572__mito', (0, 1.0)), ('R_R11891__mito', (0, 1.0)), ('R_R00293__cytop', (0, 1.0)), ('R_R06412__chlo', (0, 1.0)), ('R_EX_C03541__dra', (0, 1)), ('R_T_ACACtx__permem', (-1, 1)), ('R_R01456__e_r_', (0, 1.0)), ('R_R00103__nucl', (0, 1.0)), ('R_T_H__ermem', (-1, 1)), ('R_R05979__e_r_', (0, 1.0)), ('R_R01975__pero', (0, 1.0)), ('R_TO1000138_PLAS__plas', (0, 1.0)), ('R_R10092__chlo', (-1.0, 1.0)), ('R_R08380__e_r_', (-1.0, 1.0)), ('R_R01768__cytop', (0, 1.0)), ('R_EX_C00238__dra', (0, 1)), ('R_RXN_16094__e_r_', (0, 1.0)), ('R_R05586__mito', (-1.0, 1.0)), ('R_R11896__chlo', (-1.0, 1.0)), ('R_R02222__e_r_', (0, 1.0)), ('R_R00139__mito', (0, 1.0)), ('R_R08183__pero', (0, 1.0)), ('R_EX_C00205__dra', (-1, 1)), ('R_R01381__cytop', (-1.0, 1.0)), ('R_R03689__e_r_', (0, 1.0)), ('R_R06526__e_r_', (0, 1.0)), ('R_TI3000690_PLAS__plas', (0, 1.0)), ('R_R01845__chlo', (0, 1.0)), ('R_T_5_Deoxyadenosine__chlomem', (-1, 1)), ('R_R10052__cytop', (0, 1)), ('R_R11892__cytop', (0, 1.0)), ('R_R08220__e_r_', (0, 1.0)), ('R_R02272__chlo', (-1.0, 1.0)), ('R_R02331__chlo', (0, 1.0)), ('R_CYSPH_RXN__mito', (0, 1.0)), ('R_R02332__nucl', (0, 1.0)), ('R_R11895__mito', (0, 1.0)), ('R_R05223__e_r_', (0, 1.0)), ('R_R01430__cytop', (-1.0, 1.0)), ('R_e_Carbohydrate__cytop', (0, 1)), ('R_R07035__cytop', (0, 1)), ('R_TZ3100001_PLAS__plas', (0, 1.0)), ('R_R03066__cytop', (0, 1.0)), ('R_R01724__cytop', (0, 1.0)), ('R_R02490__mito', (0, 1.0)), ('R_R00893__cytop', (0, 1.0)), ('R_R05165__cytop', (0, 1.0)), ('R_R08270__chlo', (0, 1.0)), ('R_T_HMGCOAtm__mitmem', (-1, 1)), ('R_EX_C00009__dra', (-1, 1)), ('R_R05052__chlo', (0, 1.0))])\nMethod:SimulationMethod.FBA"
     },
     "execution_count": 12,
     "metadata": {},
     "output_type": "execute_result"
    }
   ],
   "source": [
    "eFlux(model=model, expr=set_expression)"
   ],
   "metadata": {
    "collapsed": false,
    "pycharm": {
     "name": "#%%\n"
    }
   }
  },
  {
   "cell_type": "code",
   "execution_count": null,
   "outputs": [],
   "source": [],
   "metadata": {
    "collapsed": false,
    "pycharm": {
     "name": "#%%\n"
    }
   }
  }
 ],
 "metadata": {
  "kernelspec": {
   "name": "python388jvsc74a57bd075caa24babfa8115d076e1765212c90ce2537e565ca6748eddadf2d503fadd6b",
   "language": "python",
   "display_name": "Python 3.8.8 ('base')"
  },
  "language_info": {
   "codemirror_mode": {
    "name": "ipython",
    "version": 3
   },
   "file_extension": ".py",
   "mimetype": "text/x-python",
   "name": "python",
   "nbconvert_exporter": "python",
   "pygments_lexer": "ipython3",
   "version": "3.6.7"
  }
 },
 "nbformat": 4,
 "nbformat_minor": 4
}
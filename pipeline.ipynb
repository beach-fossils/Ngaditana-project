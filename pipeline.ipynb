{
 "cells": [
  {
   "cell_type": "code",
   "execution_count": 1,
   "metadata": {
    "pycharm": {
     "is_executing": true,
     "name": "#%%\n"
    }
   },
   "outputs": [],
   "source": [
    "from bioblend import galaxy\n",
    "\n",
    "from src.preprocessing import *\n",
    "from src.integration import *"
   ]
  },
  {
   "cell_type": "markdown",
   "metadata": {
    "pycharm": {
     "name": "#%% md\n"
    }
   },
   "source": [
    "Setting up the Galaxy connection. This is the first step in using the Galaxy API.\n",
    "Key can be found in the Galaxy admin panel."
   ]
  },
  {
   "cell_type": "code",
   "execution_count": 2,
   "metadata": {
    "pycharm": {
     "name": "#%%\n"
    }
   },
   "outputs": [],
   "source": [
    "gi = galaxy.GalaxyInstance(url='https://usegalaxy.org/', key='b3a37dd4f27915d58f6bbcfe5b9158f2')\n",
    "preprocessing = PreProcessing(galaxy_instance = gi)"
   ]
  },
  {
   "cell_type": "markdown",
   "metadata": {
    "pycharm": {
     "name": "#%% md\n"
    }
   },
   "source": [
    "If you don't have a history created at Galaxy, you can create one. Histories are similar to folders in the file system. So, you can create a new history for each project you want to work on. You can create a history by using the following command. In this case the name of the history is 'new_history'."
   ]
  },
  {
   "cell_type": "code",
   "execution_count": 3,
   "metadata": {
    "pycharm": {
     "name": "#%%\n"
    }
   },
   "outputs": [
    {
     "name": "stdout",
     "output_type": "stream",
     "text": [
      "History with name ngaditana_final has been created! Here are the details:{'model_class': 'History', 'id': '81bf2dd9c50c941b', 'name': 'ngaditana_final', 'deleted': False, 'purged': False, 'url': 'history?id=81bf2dd9c50c941b', 'published': False, 'annotation': None, 'tags': [], 'contents_url': 'history_contents?history_id=81bf2dd9c50c941b', 'size': 0, 'user_id': '5e35e1272b970dbb', 'create_time': '2022-06-27T15:33:27.380089', 'update_time': '2022-06-27T15:33:46.469171', 'importable': False, 'slug': None, 'username_and_slug': None, 'genome_build': None, 'state': 'new', 'state_ids': {'new': [], 'upload': [], 'queued': [], 'running': [], 'ok': [], 'empty': [], 'error': [], 'paused': [], 'setting_metadata': [], 'failed_metadata': [], 'deferred': [], 'discarded': []}, 'state_details': {'new': 0, 'upload': 0, 'queued': 0, 'running': 0, 'ok': 0, 'empty': 0, 'error': 0, 'paused': 0, 'setting_metadata': 0, 'failed_metadata': 0, 'deferred': 0, 'discarded': 0}, 'empty': True, 'hid_counter': 1}\n"
     ]
    }
   ],
   "source": [
    "preprocessing.create_history('ngaditana_final') # creates history with name 'try1'"
   ]
  },
  {
   "cell_type": "markdown",
   "metadata": {
    "pycharm": {
     "name": "#%% md\n"
    }
   },
   "source": [
    "To visualize all the histories in Galaxy for a user, you can use the following command."
   ]
  },
  {
   "cell_type": "code",
   "execution_count": 4,
   "metadata": {
    "pycharm": {
     "name": "#%%\n"
    }
   },
   "outputs": [
    {
     "name": "stdout",
     "output_type": "stream",
     "text": [
      "history 1. ngaditana_final, id: 81bf2dd9c50c941b\n",
      "history 2. try1, id: b47d6ac96387d407\n",
      "history 3. ngaditana, id: 00171fbac338ace6\n",
      "history 4. Unnamed history, id: 36aa58624a91f1d2\n"
     ]
    }
   ],
   "source": [
    "preprocessing.view_histories()"
   ]
  },
  {
   "cell_type": "markdown",
   "metadata": {
    "pycharm": {
     "name": "#%% md\n"
    }
   },
   "source": [
    "To get information about a specific history, you can use the following code. For this porpuse, it will give information about the existing datasets in the history."
   ]
  },
  {
   "cell_type": "code",
   "execution_count": 5,
   "metadata": {
    "pycharm": {
     "name": "#%%\n"
    },
    "scrolled": true
   },
   "outputs": [
    {
     "name": "stdout",
     "output_type": "stream",
     "text": [
      "These files are in history:\n"
     ]
    }
   ],
   "source": [
    "preprocessing.show_history('81bf2dd9c50c941b')"
   ]
  },
  {
   "cell_type": "markdown",
   "metadata": {
    "pycharm": {
     "name": "#%% md\n"
    }
   },
   "source": [
    "To set a specific history as the current history, use the following code."
   ]
  },
  {
   "cell_type": "code",
   "execution_count": 6,
   "metadata": {
    "pycharm": {
     "name": "#%%\n"
    }
   },
   "outputs": [],
   "source": [
    "preprocessing.set_current_history('81bf2dd9c50c941b')"
   ]
  },
  {
   "cell_type": "code",
   "execution_count": 28,
   "metadata": {
    "pycharm": {
     "name": "#%%\n"
    }
   },
   "outputs": [
    {
     "ename": "KeyboardInterrupt",
     "evalue": "",
     "output_type": "error",
     "traceback": [
      "\u001B[1;31m---------------------------------------------------------------------------\u001B[0m",
      "\u001B[1;31mKeyboardInterrupt\u001B[0m                         Traceback (most recent call last)",
      "\u001B[1;32m<ipython-input-28-55f1503ad738>\u001B[0m in \u001B[0;36m<module>\u001B[1;34m\u001B[0m\n\u001B[0;32m      2\u001B[0m \u001B[1;31m#     if fastq.startswith(\"SRR\"):\u001B[0m\u001B[1;33m\u001B[0m\u001B[1;33m\u001B[0m\u001B[1;33m\u001B[0m\u001B[0m\n\u001B[0;32m      3\u001B[0m \u001B[1;31m#         print(f\"uploading {fastq}\")\u001B[0m\u001B[1;33m\u001B[0m\u001B[1;33m\u001B[0m\u001B[1;33m\u001B[0m\u001B[0m\n\u001B[1;32m----> 4\u001B[1;33m \u001B[0mpreprocessing\u001B[0m\u001B[1;33m.\u001B[0m\u001B[0mupload_data_history\u001B[0m\u001B[1;33m(\u001B[0m\u001B[1;34m\"data/inputs/SRR5152513_1.fastq\"\u001B[0m\u001B[1;33m,\u001B[0m  \u001B[0mname\u001B[0m\u001B[1;33m=\u001B[0m\u001B[1;34m\"SRR5152513_1\"\u001B[0m\u001B[1;33m,\u001B[0m \u001B[0mfile_type\u001B[0m\u001B[1;33m=\u001B[0m\u001B[1;34m\"fastq\"\u001B[0m\u001B[1;33m)\u001B[0m\u001B[1;33m\u001B[0m\u001B[1;33m\u001B[0m\u001B[0m\n\u001B[0m\u001B[0;32m      5\u001B[0m \u001B[1;31m# preprocessing.upload_data_history(\"data/inputs/annotation.gtf\", name=\"annotation.gtf\", file_type=\"gtf\")\u001B[0m\u001B[1;33m\u001B[0m\u001B[1;33m\u001B[0m\u001B[1;33m\u001B[0m\u001B[0m\n\u001B[0;32m      6\u001B[0m \u001B[1;31m# preprocessing.upload_data_history(\"data/inputs/annotation.gff3\", name=\"annotation3\", file_type=\"gff3\")\u001B[0m\u001B[1;33m\u001B[0m\u001B[1;33m\u001B[0m\u001B[1;33m\u001B[0m\u001B[0m\n",
      "\u001B[1;32m~\\OneDrive - Universidade do Minho\\Python scripts\\bioinformatics-project\\src\\preprocessing.py\u001B[0m in \u001B[0;36mupload_data_history\u001B[1;34m(self, file_local_path, history_id, **kwargs)\u001B[0m\n\u001B[0;32m    122\u001B[0m         \"\"\"\n\u001B[0;32m    123\u001B[0m         counts = self.galaxy_instance.tools.upload_file(file_local_path, str(history_id or self.current_history),\n\u001B[1;32m--> 124\u001B[1;33m                                                         **kwargs)  # ~working\n\u001B[0m\u001B[0;32m    125\u001B[0m         \u001B[1;32mreturn\u001B[0m \u001B[0mcounts\u001B[0m\u001B[1;33m\u001B[0m\u001B[1;33m\u001B[0m\u001B[0m\n\u001B[0;32m    126\u001B[0m \u001B[1;33m\u001B[0m\u001B[0m\n",
      "\u001B[1;32mc:\\users\\bisbii\\onedrive - universidade do minho\\python scripts\\python36\\lib\\site-packages\\bioblend-0.17.0-py3.6.egg\\bioblend\\galaxy\\tools\\__init__.py\u001B[0m in \u001B[0;36mupload_file\u001B[1;34m(self, path, history_id, **keywords)\u001B[0m\n\u001B[0;32m    430\u001B[0m         \u001B[0mpayload\u001B[0m\u001B[1;33m[\u001B[0m\u001B[1;34m\"files_0|file_data\"\u001B[0m\u001B[1;33m]\u001B[0m \u001B[1;33m=\u001B[0m \u001B[0mattach_file\u001B[0m\u001B[1;33m(\u001B[0m\u001B[0mpath\u001B[0m\u001B[1;33m,\u001B[0m \u001B[0mname\u001B[0m\u001B[1;33m=\u001B[0m\u001B[0mkeywords\u001B[0m\u001B[1;33m[\u001B[0m\u001B[1;34m\"file_name\"\u001B[0m\u001B[1;33m]\u001B[0m\u001B[1;33m)\u001B[0m\u001B[1;33m\u001B[0m\u001B[1;33m\u001B[0m\u001B[0m\n\u001B[0;32m    431\u001B[0m         \u001B[1;32mtry\u001B[0m\u001B[1;33m:\u001B[0m\u001B[1;33m\u001B[0m\u001B[1;33m\u001B[0m\u001B[0m\n\u001B[1;32m--> 432\u001B[1;33m             \u001B[1;32mreturn\u001B[0m \u001B[0mself\u001B[0m\u001B[1;33m.\u001B[0m\u001B[0m_post\u001B[0m\u001B[1;33m(\u001B[0m\u001B[0mpayload\u001B[0m\u001B[1;33m,\u001B[0m \u001B[0mfiles_attached\u001B[0m\u001B[1;33m=\u001B[0m\u001B[1;32mTrue\u001B[0m\u001B[1;33m)\u001B[0m\u001B[1;33m\u001B[0m\u001B[1;33m\u001B[0m\u001B[0m\n\u001B[0m\u001B[0;32m    433\u001B[0m         \u001B[1;32mfinally\u001B[0m\u001B[1;33m:\u001B[0m\u001B[1;33m\u001B[0m\u001B[1;33m\u001B[0m\u001B[0m\n\u001B[0;32m    434\u001B[0m             \u001B[0mpayload\u001B[0m\u001B[1;33m[\u001B[0m\u001B[1;34m\"files_0|file_data\"\u001B[0m\u001B[1;33m]\u001B[0m\u001B[1;33m.\u001B[0m\u001B[0mclose\u001B[0m\u001B[1;33m(\u001B[0m\u001B[1;33m)\u001B[0m\u001B[1;33m\u001B[0m\u001B[1;33m\u001B[0m\u001B[0m\n",
      "\u001B[1;32mc:\\users\\bisbii\\onedrive - universidade do minho\\python scripts\\python36\\lib\\site-packages\\bioblend-0.17.0-py3.6.egg\\bioblend\\galaxy\\client.py\u001B[0m in \u001B[0;36m_post\u001B[1;34m(self, payload, id, deleted, contents, url, files_attached)\u001B[0m\n\u001B[0;32m    183\u001B[0m         \u001B[1;32mif\u001B[0m \u001B[1;32mnot\u001B[0m \u001B[0murl\u001B[0m\u001B[1;33m:\u001B[0m\u001B[1;33m\u001B[0m\u001B[1;33m\u001B[0m\u001B[0m\n\u001B[0;32m    184\u001B[0m             \u001B[0murl\u001B[0m \u001B[1;33m=\u001B[0m \u001B[0mself\u001B[0m\u001B[1;33m.\u001B[0m\u001B[0m_make_url\u001B[0m\u001B[1;33m(\u001B[0m\u001B[0mmodule_id\u001B[0m\u001B[1;33m=\u001B[0m\u001B[0mid\u001B[0m\u001B[1;33m,\u001B[0m \u001B[0mdeleted\u001B[0m\u001B[1;33m=\u001B[0m\u001B[0mdeleted\u001B[0m\u001B[1;33m,\u001B[0m \u001B[0mcontents\u001B[0m\u001B[1;33m=\u001B[0m\u001B[0mcontents\u001B[0m\u001B[1;33m)\u001B[0m\u001B[1;33m\u001B[0m\u001B[1;33m\u001B[0m\u001B[0m\n\u001B[1;32m--> 185\u001B[1;33m         \u001B[1;32mreturn\u001B[0m \u001B[0mself\u001B[0m\u001B[1;33m.\u001B[0m\u001B[0mgi\u001B[0m\u001B[1;33m.\u001B[0m\u001B[0mmake_post_request\u001B[0m\u001B[1;33m(\u001B[0m\u001B[0murl\u001B[0m\u001B[1;33m,\u001B[0m \u001B[0mpayload\u001B[0m\u001B[1;33m=\u001B[0m\u001B[0mpayload\u001B[0m\u001B[1;33m,\u001B[0m \u001B[0mfiles_attached\u001B[0m\u001B[1;33m=\u001B[0m\u001B[0mfiles_attached\u001B[0m\u001B[1;33m)\u001B[0m\u001B[1;33m\u001B[0m\u001B[1;33m\u001B[0m\u001B[0m\n\u001B[0m\u001B[0;32m    186\u001B[0m \u001B[1;33m\u001B[0m\u001B[0m\n\u001B[0;32m    187\u001B[0m     \u001B[1;32mdef\u001B[0m \u001B[0m_put\u001B[0m\u001B[1;33m(\u001B[0m\u001B[0mself\u001B[0m\u001B[1;33m,\u001B[0m \u001B[0mpayload\u001B[0m\u001B[1;33m=\u001B[0m\u001B[1;32mNone\u001B[0m\u001B[1;33m,\u001B[0m \u001B[0mid\u001B[0m\u001B[1;33m=\u001B[0m\u001B[1;32mNone\u001B[0m\u001B[1;33m,\u001B[0m \u001B[0murl\u001B[0m\u001B[1;33m=\u001B[0m\u001B[1;32mNone\u001B[0m\u001B[1;33m,\u001B[0m \u001B[0mparams\u001B[0m\u001B[1;33m=\u001B[0m\u001B[1;32mNone\u001B[0m\u001B[1;33m)\u001B[0m\u001B[1;33m:\u001B[0m\u001B[1;33m\u001B[0m\u001B[1;33m\u001B[0m\u001B[0m\n",
      "\u001B[1;32mc:\\users\\bisbii\\onedrive - universidade do minho\\python scripts\\python36\\lib\\site-packages\\bioblend-0.17.0-py3.6.egg\\bioblend\\galaxyclient.py\u001B[0m in \u001B[0;36mmake_post_request\u001B[1;34m(self, url, payload, params, files_attached)\u001B[0m\n\u001B[0;32m    135\u001B[0m             \u001B[0mtimeout\u001B[0m\u001B[1;33m=\u001B[0m\u001B[0mself\u001B[0m\u001B[1;33m.\u001B[0m\u001B[0mtimeout\u001B[0m\u001B[1;33m,\u001B[0m\u001B[1;33m\u001B[0m\u001B[1;33m\u001B[0m\u001B[0m\n\u001B[0;32m    136\u001B[0m             \u001B[0mallow_redirects\u001B[0m\u001B[1;33m=\u001B[0m\u001B[1;32mFalse\u001B[0m\u001B[1;33m,\u001B[0m\u001B[1;33m\u001B[0m\u001B[1;33m\u001B[0m\u001B[0m\n\u001B[1;32m--> 137\u001B[1;33m             \u001B[0mverify\u001B[0m\u001B[1;33m=\u001B[0m\u001B[0mself\u001B[0m\u001B[1;33m.\u001B[0m\u001B[0mverify\u001B[0m\u001B[1;33m,\u001B[0m\u001B[1;33m\u001B[0m\u001B[1;33m\u001B[0m\u001B[0m\n\u001B[0m\u001B[0;32m    138\u001B[0m         )\n\u001B[0;32m    139\u001B[0m         \u001B[1;32mif\u001B[0m \u001B[0mr\u001B[0m\u001B[1;33m.\u001B[0m\u001B[0mstatus_code\u001B[0m \u001B[1;33m==\u001B[0m \u001B[1;36m200\u001B[0m\u001B[1;33m:\u001B[0m\u001B[1;33m\u001B[0m\u001B[1;33m\u001B[0m\u001B[0m\n",
      "\u001B[1;32mc:\\users\\bisbii\\onedrive - universidade do minho\\python scripts\\python36\\lib\\site-packages\\requests\\api.py\u001B[0m in \u001B[0;36mpost\u001B[1;34m(url, data, json, **kwargs)\u001B[0m\n\u001B[0;32m    117\u001B[0m     \"\"\"\n\u001B[0;32m    118\u001B[0m \u001B[1;33m\u001B[0m\u001B[0m\n\u001B[1;32m--> 119\u001B[1;33m     \u001B[1;32mreturn\u001B[0m \u001B[0mrequest\u001B[0m\u001B[1;33m(\u001B[0m\u001B[1;34m'post'\u001B[0m\u001B[1;33m,\u001B[0m \u001B[0murl\u001B[0m\u001B[1;33m,\u001B[0m \u001B[0mdata\u001B[0m\u001B[1;33m=\u001B[0m\u001B[0mdata\u001B[0m\u001B[1;33m,\u001B[0m \u001B[0mjson\u001B[0m\u001B[1;33m=\u001B[0m\u001B[0mjson\u001B[0m\u001B[1;33m,\u001B[0m \u001B[1;33m**\u001B[0m\u001B[0mkwargs\u001B[0m\u001B[1;33m)\u001B[0m\u001B[1;33m\u001B[0m\u001B[1;33m\u001B[0m\u001B[0m\n\u001B[0m\u001B[0;32m    120\u001B[0m \u001B[1;33m\u001B[0m\u001B[0m\n\u001B[0;32m    121\u001B[0m \u001B[1;33m\u001B[0m\u001B[0m\n",
      "\u001B[1;32mc:\\users\\bisbii\\onedrive - universidade do minho\\python scripts\\python36\\lib\\site-packages\\requests\\api.py\u001B[0m in \u001B[0;36mrequest\u001B[1;34m(method, url, **kwargs)\u001B[0m\n\u001B[0;32m     59\u001B[0m     \u001B[1;31m# cases, and look like a memory leak in others.\u001B[0m\u001B[1;33m\u001B[0m\u001B[1;33m\u001B[0m\u001B[1;33m\u001B[0m\u001B[0m\n\u001B[0;32m     60\u001B[0m     \u001B[1;32mwith\u001B[0m \u001B[0msessions\u001B[0m\u001B[1;33m.\u001B[0m\u001B[0mSession\u001B[0m\u001B[1;33m(\u001B[0m\u001B[1;33m)\u001B[0m \u001B[1;32mas\u001B[0m \u001B[0msession\u001B[0m\u001B[1;33m:\u001B[0m\u001B[1;33m\u001B[0m\u001B[1;33m\u001B[0m\u001B[0m\n\u001B[1;32m---> 61\u001B[1;33m         \u001B[1;32mreturn\u001B[0m \u001B[0msession\u001B[0m\u001B[1;33m.\u001B[0m\u001B[0mrequest\u001B[0m\u001B[1;33m(\u001B[0m\u001B[0mmethod\u001B[0m\u001B[1;33m=\u001B[0m\u001B[0mmethod\u001B[0m\u001B[1;33m,\u001B[0m \u001B[0murl\u001B[0m\u001B[1;33m=\u001B[0m\u001B[0murl\u001B[0m\u001B[1;33m,\u001B[0m \u001B[1;33m**\u001B[0m\u001B[0mkwargs\u001B[0m\u001B[1;33m)\u001B[0m\u001B[1;33m\u001B[0m\u001B[1;33m\u001B[0m\u001B[0m\n\u001B[0m\u001B[0;32m     62\u001B[0m \u001B[1;33m\u001B[0m\u001B[0m\n\u001B[0;32m     63\u001B[0m \u001B[1;33m\u001B[0m\u001B[0m\n",
      "\u001B[1;32mc:\\users\\bisbii\\onedrive - universidade do minho\\python scripts\\python36\\lib\\site-packages\\requests\\sessions.py\u001B[0m in \u001B[0;36mrequest\u001B[1;34m(self, method, url, params, data, headers, cookies, files, auth, timeout, allow_redirects, proxies, hooks, stream, verify, cert, json)\u001B[0m\n\u001B[0;32m    540\u001B[0m         }\n\u001B[0;32m    541\u001B[0m         \u001B[0msend_kwargs\u001B[0m\u001B[1;33m.\u001B[0m\u001B[0mupdate\u001B[0m\u001B[1;33m(\u001B[0m\u001B[0msettings\u001B[0m\u001B[1;33m)\u001B[0m\u001B[1;33m\u001B[0m\u001B[1;33m\u001B[0m\u001B[0m\n\u001B[1;32m--> 542\u001B[1;33m         \u001B[0mresp\u001B[0m \u001B[1;33m=\u001B[0m \u001B[0mself\u001B[0m\u001B[1;33m.\u001B[0m\u001B[0msend\u001B[0m\u001B[1;33m(\u001B[0m\u001B[0mprep\u001B[0m\u001B[1;33m,\u001B[0m \u001B[1;33m**\u001B[0m\u001B[0msend_kwargs\u001B[0m\u001B[1;33m)\u001B[0m\u001B[1;33m\u001B[0m\u001B[1;33m\u001B[0m\u001B[0m\n\u001B[0m\u001B[0;32m    543\u001B[0m \u001B[1;33m\u001B[0m\u001B[0m\n\u001B[0;32m    544\u001B[0m         \u001B[1;32mreturn\u001B[0m \u001B[0mresp\u001B[0m\u001B[1;33m\u001B[0m\u001B[1;33m\u001B[0m\u001B[0m\n",
      "\u001B[1;32mc:\\users\\bisbii\\onedrive - universidade do minho\\python scripts\\python36\\lib\\site-packages\\requests\\sessions.py\u001B[0m in \u001B[0;36msend\u001B[1;34m(self, request, **kwargs)\u001B[0m\n\u001B[0;32m    653\u001B[0m \u001B[1;33m\u001B[0m\u001B[0m\n\u001B[0;32m    654\u001B[0m         \u001B[1;31m# Send the request\u001B[0m\u001B[1;33m\u001B[0m\u001B[1;33m\u001B[0m\u001B[1;33m\u001B[0m\u001B[0m\n\u001B[1;32m--> 655\u001B[1;33m         \u001B[0mr\u001B[0m \u001B[1;33m=\u001B[0m \u001B[0madapter\u001B[0m\u001B[1;33m.\u001B[0m\u001B[0msend\u001B[0m\u001B[1;33m(\u001B[0m\u001B[0mrequest\u001B[0m\u001B[1;33m,\u001B[0m \u001B[1;33m**\u001B[0m\u001B[0mkwargs\u001B[0m\u001B[1;33m)\u001B[0m\u001B[1;33m\u001B[0m\u001B[1;33m\u001B[0m\u001B[0m\n\u001B[0m\u001B[0;32m    656\u001B[0m \u001B[1;33m\u001B[0m\u001B[0m\n\u001B[0;32m    657\u001B[0m         \u001B[1;31m# Total elapsed time of the request (approximately)\u001B[0m\u001B[1;33m\u001B[0m\u001B[1;33m\u001B[0m\u001B[1;33m\u001B[0m\u001B[0m\n",
      "\u001B[1;32mc:\\users\\bisbii\\onedrive - universidade do minho\\python scripts\\python36\\lib\\site-packages\\requests\\adapters.py\u001B[0m in \u001B[0;36msend\u001B[1;34m(self, request, stream, timeout, verify, cert, proxies)\u001B[0m\n\u001B[0;32m    447\u001B[0m                     \u001B[0mdecode_content\u001B[0m\u001B[1;33m=\u001B[0m\u001B[1;32mFalse\u001B[0m\u001B[1;33m,\u001B[0m\u001B[1;33m\u001B[0m\u001B[1;33m\u001B[0m\u001B[0m\n\u001B[0;32m    448\u001B[0m                     \u001B[0mretries\u001B[0m\u001B[1;33m=\u001B[0m\u001B[0mself\u001B[0m\u001B[1;33m.\u001B[0m\u001B[0mmax_retries\u001B[0m\u001B[1;33m,\u001B[0m\u001B[1;33m\u001B[0m\u001B[1;33m\u001B[0m\u001B[0m\n\u001B[1;32m--> 449\u001B[1;33m                     \u001B[0mtimeout\u001B[0m\u001B[1;33m=\u001B[0m\u001B[0mtimeout\u001B[0m\u001B[1;33m\u001B[0m\u001B[1;33m\u001B[0m\u001B[0m\n\u001B[0m\u001B[0;32m    450\u001B[0m                 )\n\u001B[0;32m    451\u001B[0m \u001B[1;33m\u001B[0m\u001B[0m\n",
      "\u001B[1;32mc:\\users\\bisbii\\onedrive - universidade do minho\\python scripts\\python36\\lib\\site-packages\\urllib3\\connectionpool.py\u001B[0m in \u001B[0;36murlopen\u001B[1;34m(self, method, url, body, headers, retries, redirect, assert_same_host, timeout, pool_timeout, release_conn, chunked, body_pos, **response_kw)\u001B[0m\n\u001B[0;32m    704\u001B[0m                 \u001B[0mbody\u001B[0m\u001B[1;33m=\u001B[0m\u001B[0mbody\u001B[0m\u001B[1;33m,\u001B[0m\u001B[1;33m\u001B[0m\u001B[1;33m\u001B[0m\u001B[0m\n\u001B[0;32m    705\u001B[0m                 \u001B[0mheaders\u001B[0m\u001B[1;33m=\u001B[0m\u001B[0mheaders\u001B[0m\u001B[1;33m,\u001B[0m\u001B[1;33m\u001B[0m\u001B[1;33m\u001B[0m\u001B[0m\n\u001B[1;32m--> 706\u001B[1;33m                 \u001B[0mchunked\u001B[0m\u001B[1;33m=\u001B[0m\u001B[0mchunked\u001B[0m\u001B[1;33m,\u001B[0m\u001B[1;33m\u001B[0m\u001B[1;33m\u001B[0m\u001B[0m\n\u001B[0m\u001B[0;32m    707\u001B[0m             )\n\u001B[0;32m    708\u001B[0m \u001B[1;33m\u001B[0m\u001B[0m\n",
      "\u001B[1;32mc:\\users\\bisbii\\onedrive - universidade do minho\\python scripts\\python36\\lib\\site-packages\\urllib3\\connectionpool.py\u001B[0m in \u001B[0;36m_make_request\u001B[1;34m(self, conn, method, url, timeout, chunked, **httplib_request_kw)\u001B[0m\n\u001B[0;32m    392\u001B[0m                 \u001B[0mconn\u001B[0m\u001B[1;33m.\u001B[0m\u001B[0mrequest_chunked\u001B[0m\u001B[1;33m(\u001B[0m\u001B[0mmethod\u001B[0m\u001B[1;33m,\u001B[0m \u001B[0murl\u001B[0m\u001B[1;33m,\u001B[0m \u001B[1;33m**\u001B[0m\u001B[0mhttplib_request_kw\u001B[0m\u001B[1;33m)\u001B[0m\u001B[1;33m\u001B[0m\u001B[1;33m\u001B[0m\u001B[0m\n\u001B[0;32m    393\u001B[0m             \u001B[1;32melse\u001B[0m\u001B[1;33m:\u001B[0m\u001B[1;33m\u001B[0m\u001B[1;33m\u001B[0m\u001B[0m\n\u001B[1;32m--> 394\u001B[1;33m                 \u001B[0mconn\u001B[0m\u001B[1;33m.\u001B[0m\u001B[0mrequest\u001B[0m\u001B[1;33m(\u001B[0m\u001B[0mmethod\u001B[0m\u001B[1;33m,\u001B[0m \u001B[0murl\u001B[0m\u001B[1;33m,\u001B[0m \u001B[1;33m**\u001B[0m\u001B[0mhttplib_request_kw\u001B[0m\u001B[1;33m)\u001B[0m\u001B[1;33m\u001B[0m\u001B[1;33m\u001B[0m\u001B[0m\n\u001B[0m\u001B[0;32m    395\u001B[0m \u001B[1;33m\u001B[0m\u001B[0m\n\u001B[0;32m    396\u001B[0m         \u001B[1;31m# We are swallowing BrokenPipeError (errno.EPIPE) since the server is\u001B[0m\u001B[1;33m\u001B[0m\u001B[1;33m\u001B[0m\u001B[1;33m\u001B[0m\u001B[0m\n",
      "\u001B[1;32mc:\\users\\bisbii\\onedrive - universidade do minho\\python scripts\\python36\\lib\\site-packages\\urllib3\\connection.py\u001B[0m in \u001B[0;36mrequest\u001B[1;34m(self, method, url, body, headers)\u001B[0m\n\u001B[0;32m    232\u001B[0m         \u001B[1;32mif\u001B[0m \u001B[1;34m\"user-agent\"\u001B[0m \u001B[1;32mnot\u001B[0m \u001B[1;32min\u001B[0m \u001B[1;33m(\u001B[0m\u001B[0msix\u001B[0m\u001B[1;33m.\u001B[0m\u001B[0mensure_str\u001B[0m\u001B[1;33m(\u001B[0m\u001B[0mk\u001B[0m\u001B[1;33m.\u001B[0m\u001B[0mlower\u001B[0m\u001B[1;33m(\u001B[0m\u001B[1;33m)\u001B[0m\u001B[1;33m)\u001B[0m \u001B[1;32mfor\u001B[0m \u001B[0mk\u001B[0m \u001B[1;32min\u001B[0m \u001B[0mheaders\u001B[0m\u001B[1;33m)\u001B[0m\u001B[1;33m:\u001B[0m\u001B[1;33m\u001B[0m\u001B[1;33m\u001B[0m\u001B[0m\n\u001B[0;32m    233\u001B[0m             \u001B[0mheaders\u001B[0m\u001B[1;33m[\u001B[0m\u001B[1;34m\"User-Agent\"\u001B[0m\u001B[1;33m]\u001B[0m \u001B[1;33m=\u001B[0m \u001B[0m_get_default_user_agent\u001B[0m\u001B[1;33m(\u001B[0m\u001B[1;33m)\u001B[0m\u001B[1;33m\u001B[0m\u001B[1;33m\u001B[0m\u001B[0m\n\u001B[1;32m--> 234\u001B[1;33m         \u001B[0msuper\u001B[0m\u001B[1;33m(\u001B[0m\u001B[0mHTTPConnection\u001B[0m\u001B[1;33m,\u001B[0m \u001B[0mself\u001B[0m\u001B[1;33m)\u001B[0m\u001B[1;33m.\u001B[0m\u001B[0mrequest\u001B[0m\u001B[1;33m(\u001B[0m\u001B[0mmethod\u001B[0m\u001B[1;33m,\u001B[0m \u001B[0murl\u001B[0m\u001B[1;33m,\u001B[0m \u001B[0mbody\u001B[0m\u001B[1;33m=\u001B[0m\u001B[0mbody\u001B[0m\u001B[1;33m,\u001B[0m \u001B[0mheaders\u001B[0m\u001B[1;33m=\u001B[0m\u001B[0mheaders\u001B[0m\u001B[1;33m)\u001B[0m\u001B[1;33m\u001B[0m\u001B[1;33m\u001B[0m\u001B[0m\n\u001B[0m\u001B[0;32m    235\u001B[0m \u001B[1;33m\u001B[0m\u001B[0m\n\u001B[0;32m    236\u001B[0m     \u001B[1;32mdef\u001B[0m \u001B[0mrequest_chunked\u001B[0m\u001B[1;33m(\u001B[0m\u001B[0mself\u001B[0m\u001B[1;33m,\u001B[0m \u001B[0mmethod\u001B[0m\u001B[1;33m,\u001B[0m \u001B[0murl\u001B[0m\u001B[1;33m,\u001B[0m \u001B[0mbody\u001B[0m\u001B[1;33m=\u001B[0m\u001B[1;32mNone\u001B[0m\u001B[1;33m,\u001B[0m \u001B[0mheaders\u001B[0m\u001B[1;33m=\u001B[0m\u001B[1;32mNone\u001B[0m\u001B[1;33m)\u001B[0m\u001B[1;33m:\u001B[0m\u001B[1;33m\u001B[0m\u001B[1;33m\u001B[0m\u001B[0m\n",
      "\u001B[1;32m~\\AppData\\Local\\Programs\\Python\\Python36\\lib\\http\\client.py\u001B[0m in \u001B[0;36mrequest\u001B[1;34m(self, method, url, body, headers, encode_chunked)\u001B[0m\n\u001B[0;32m   1237\u001B[0m                 encode_chunked=False):\n\u001B[0;32m   1238\u001B[0m         \u001B[1;34m\"\"\"Send a complete request to the server.\"\"\"\u001B[0m\u001B[1;33m\u001B[0m\u001B[1;33m\u001B[0m\u001B[0m\n\u001B[1;32m-> 1239\u001B[1;33m         \u001B[0mself\u001B[0m\u001B[1;33m.\u001B[0m\u001B[0m_send_request\u001B[0m\u001B[1;33m(\u001B[0m\u001B[0mmethod\u001B[0m\u001B[1;33m,\u001B[0m \u001B[0murl\u001B[0m\u001B[1;33m,\u001B[0m \u001B[0mbody\u001B[0m\u001B[1;33m,\u001B[0m \u001B[0mheaders\u001B[0m\u001B[1;33m,\u001B[0m \u001B[0mencode_chunked\u001B[0m\u001B[1;33m)\u001B[0m\u001B[1;33m\u001B[0m\u001B[1;33m\u001B[0m\u001B[0m\n\u001B[0m\u001B[0;32m   1240\u001B[0m \u001B[1;33m\u001B[0m\u001B[0m\n\u001B[0;32m   1241\u001B[0m     \u001B[1;32mdef\u001B[0m \u001B[0m_send_request\u001B[0m\u001B[1;33m(\u001B[0m\u001B[0mself\u001B[0m\u001B[1;33m,\u001B[0m \u001B[0mmethod\u001B[0m\u001B[1;33m,\u001B[0m \u001B[0murl\u001B[0m\u001B[1;33m,\u001B[0m \u001B[0mbody\u001B[0m\u001B[1;33m,\u001B[0m \u001B[0mheaders\u001B[0m\u001B[1;33m,\u001B[0m \u001B[0mencode_chunked\u001B[0m\u001B[1;33m)\u001B[0m\u001B[1;33m:\u001B[0m\u001B[1;33m\u001B[0m\u001B[1;33m\u001B[0m\u001B[0m\n",
      "\u001B[1;32m~\\AppData\\Local\\Programs\\Python\\Python36\\lib\\http\\client.py\u001B[0m in \u001B[0;36m_send_request\u001B[1;34m(self, method, url, body, headers, encode_chunked)\u001B[0m\n\u001B[0;32m   1283\u001B[0m             \u001B[1;31m# default charset of iso-8859-1.\u001B[0m\u001B[1;33m\u001B[0m\u001B[1;33m\u001B[0m\u001B[1;33m\u001B[0m\u001B[0m\n\u001B[0;32m   1284\u001B[0m             \u001B[0mbody\u001B[0m \u001B[1;33m=\u001B[0m \u001B[0m_encode\u001B[0m\u001B[1;33m(\u001B[0m\u001B[0mbody\u001B[0m\u001B[1;33m,\u001B[0m \u001B[1;34m'body'\u001B[0m\u001B[1;33m)\u001B[0m\u001B[1;33m\u001B[0m\u001B[1;33m\u001B[0m\u001B[0m\n\u001B[1;32m-> 1285\u001B[1;33m         \u001B[0mself\u001B[0m\u001B[1;33m.\u001B[0m\u001B[0mendheaders\u001B[0m\u001B[1;33m(\u001B[0m\u001B[0mbody\u001B[0m\u001B[1;33m,\u001B[0m \u001B[0mencode_chunked\u001B[0m\u001B[1;33m=\u001B[0m\u001B[0mencode_chunked\u001B[0m\u001B[1;33m)\u001B[0m\u001B[1;33m\u001B[0m\u001B[1;33m\u001B[0m\u001B[0m\n\u001B[0m\u001B[0;32m   1286\u001B[0m \u001B[1;33m\u001B[0m\u001B[0m\n\u001B[0;32m   1287\u001B[0m     \u001B[1;32mdef\u001B[0m \u001B[0mgetresponse\u001B[0m\u001B[1;33m(\u001B[0m\u001B[0mself\u001B[0m\u001B[1;33m)\u001B[0m\u001B[1;33m:\u001B[0m\u001B[1;33m\u001B[0m\u001B[1;33m\u001B[0m\u001B[0m\n",
      "\u001B[1;32m~\\AppData\\Local\\Programs\\Python\\Python36\\lib\\http\\client.py\u001B[0m in \u001B[0;36mendheaders\u001B[1;34m(self, message_body, encode_chunked)\u001B[0m\n\u001B[0;32m   1232\u001B[0m         \u001B[1;32melse\u001B[0m\u001B[1;33m:\u001B[0m\u001B[1;33m\u001B[0m\u001B[1;33m\u001B[0m\u001B[0m\n\u001B[0;32m   1233\u001B[0m             \u001B[1;32mraise\u001B[0m \u001B[0mCannotSendHeader\u001B[0m\u001B[1;33m(\u001B[0m\u001B[1;33m)\u001B[0m\u001B[1;33m\u001B[0m\u001B[1;33m\u001B[0m\u001B[0m\n\u001B[1;32m-> 1234\u001B[1;33m         \u001B[0mself\u001B[0m\u001B[1;33m.\u001B[0m\u001B[0m_send_output\u001B[0m\u001B[1;33m(\u001B[0m\u001B[0mmessage_body\u001B[0m\u001B[1;33m,\u001B[0m \u001B[0mencode_chunked\u001B[0m\u001B[1;33m=\u001B[0m\u001B[0mencode_chunked\u001B[0m\u001B[1;33m)\u001B[0m\u001B[1;33m\u001B[0m\u001B[1;33m\u001B[0m\u001B[0m\n\u001B[0m\u001B[0;32m   1235\u001B[0m \u001B[1;33m\u001B[0m\u001B[0m\n\u001B[0;32m   1236\u001B[0m     def request(self, method, url, body=None, headers={}, *,\n",
      "\u001B[1;32m~\\AppData\\Local\\Programs\\Python\\Python36\\lib\\http\\client.py\u001B[0m in \u001B[0;36m_send_output\u001B[1;34m(self, message_body, encode_chunked)\u001B[0m\n\u001B[0;32m   1063\u001B[0m                     \u001B[0mchunk\u001B[0m \u001B[1;33m=\u001B[0m \u001B[1;34mf'{len(chunk):X}\\r\\n'\u001B[0m\u001B[1;33m.\u001B[0m\u001B[0mencode\u001B[0m\u001B[1;33m(\u001B[0m\u001B[1;34m'ascii'\u001B[0m\u001B[1;33m)\u001B[0m \u001B[1;33m+\u001B[0m \u001B[0mchunk\u001B[0m\u001B[0;31m \u001B[0m\u001B[0;31m\\\u001B[0m\u001B[1;33m\u001B[0m\u001B[1;33m\u001B[0m\u001B[0m\n\u001B[0;32m   1064\u001B[0m                         \u001B[1;33m+\u001B[0m \u001B[1;34mb'\\r\\n'\u001B[0m\u001B[1;33m\u001B[0m\u001B[1;33m\u001B[0m\u001B[0m\n\u001B[1;32m-> 1065\u001B[1;33m                 \u001B[0mself\u001B[0m\u001B[1;33m.\u001B[0m\u001B[0msend\u001B[0m\u001B[1;33m(\u001B[0m\u001B[0mchunk\u001B[0m\u001B[1;33m)\u001B[0m\u001B[1;33m\u001B[0m\u001B[1;33m\u001B[0m\u001B[0m\n\u001B[0m\u001B[0;32m   1066\u001B[0m \u001B[1;33m\u001B[0m\u001B[0m\n\u001B[0;32m   1067\u001B[0m             \u001B[1;32mif\u001B[0m \u001B[0mencode_chunked\u001B[0m \u001B[1;32mand\u001B[0m \u001B[0mself\u001B[0m\u001B[1;33m.\u001B[0m\u001B[0m_http_vsn\u001B[0m \u001B[1;33m==\u001B[0m \u001B[1;36m11\u001B[0m\u001B[1;33m:\u001B[0m\u001B[1;33m\u001B[0m\u001B[1;33m\u001B[0m\u001B[0m\n",
      "\u001B[1;32m~\\AppData\\Local\\Programs\\Python\\Python36\\lib\\http\\client.py\u001B[0m in \u001B[0;36msend\u001B[1;34m(self, data)\u001B[0m\n\u001B[0;32m    984\u001B[0m             \u001B[1;32mreturn\u001B[0m\u001B[1;33m\u001B[0m\u001B[1;33m\u001B[0m\u001B[0m\n\u001B[0;32m    985\u001B[0m         \u001B[1;32mtry\u001B[0m\u001B[1;33m:\u001B[0m\u001B[1;33m\u001B[0m\u001B[1;33m\u001B[0m\u001B[0m\n\u001B[1;32m--> 986\u001B[1;33m             \u001B[0mself\u001B[0m\u001B[1;33m.\u001B[0m\u001B[0msock\u001B[0m\u001B[1;33m.\u001B[0m\u001B[0msendall\u001B[0m\u001B[1;33m(\u001B[0m\u001B[0mdata\u001B[0m\u001B[1;33m)\u001B[0m\u001B[1;33m\u001B[0m\u001B[1;33m\u001B[0m\u001B[0m\n\u001B[0m\u001B[0;32m    987\u001B[0m         \u001B[1;32mexcept\u001B[0m \u001B[0mTypeError\u001B[0m\u001B[1;33m:\u001B[0m\u001B[1;33m\u001B[0m\u001B[1;33m\u001B[0m\u001B[0m\n\u001B[0;32m    988\u001B[0m             \u001B[1;32mif\u001B[0m \u001B[0misinstance\u001B[0m\u001B[1;33m(\u001B[0m\u001B[0mdata\u001B[0m\u001B[1;33m,\u001B[0m \u001B[0mcollections\u001B[0m\u001B[1;33m.\u001B[0m\u001B[0mIterable\u001B[0m\u001B[1;33m)\u001B[0m\u001B[1;33m:\u001B[0m\u001B[1;33m\u001B[0m\u001B[1;33m\u001B[0m\u001B[0m\n",
      "\u001B[1;32m~\\AppData\\Local\\Programs\\Python\\Python36\\lib\\ssl.py\u001B[0m in \u001B[0;36msendall\u001B[1;34m(self, data, flags)\u001B[0m\n\u001B[0;32m    973\u001B[0m                 \u001B[0mamount\u001B[0m \u001B[1;33m=\u001B[0m \u001B[0mlen\u001B[0m\u001B[1;33m(\u001B[0m\u001B[0mbyte_view\u001B[0m\u001B[1;33m)\u001B[0m\u001B[1;33m\u001B[0m\u001B[1;33m\u001B[0m\u001B[0m\n\u001B[0;32m    974\u001B[0m                 \u001B[1;32mwhile\u001B[0m \u001B[0mcount\u001B[0m \u001B[1;33m<\u001B[0m \u001B[0mamount\u001B[0m\u001B[1;33m:\u001B[0m\u001B[1;33m\u001B[0m\u001B[1;33m\u001B[0m\u001B[0m\n\u001B[1;32m--> 975\u001B[1;33m                     \u001B[0mv\u001B[0m \u001B[1;33m=\u001B[0m \u001B[0mself\u001B[0m\u001B[1;33m.\u001B[0m\u001B[0msend\u001B[0m\u001B[1;33m(\u001B[0m\u001B[0mbyte_view\u001B[0m\u001B[1;33m[\u001B[0m\u001B[0mcount\u001B[0m\u001B[1;33m:\u001B[0m\u001B[1;33m]\u001B[0m\u001B[1;33m)\u001B[0m\u001B[1;33m\u001B[0m\u001B[1;33m\u001B[0m\u001B[0m\n\u001B[0m\u001B[0;32m    976\u001B[0m                     \u001B[0mcount\u001B[0m \u001B[1;33m+=\u001B[0m \u001B[0mv\u001B[0m\u001B[1;33m\u001B[0m\u001B[1;33m\u001B[0m\u001B[0m\n\u001B[0;32m    977\u001B[0m         \u001B[1;32melse\u001B[0m\u001B[1;33m:\u001B[0m\u001B[1;33m\u001B[0m\u001B[1;33m\u001B[0m\u001B[0m\n",
      "\u001B[1;32m~\\AppData\\Local\\Programs\\Python\\Python36\\lib\\ssl.py\u001B[0m in \u001B[0;36msend\u001B[1;34m(self, data, flags)\u001B[0m\n\u001B[0;32m    942\u001B[0m                     \u001B[1;34m\"non-zero flags not allowed in calls to send() on %s\"\u001B[0m \u001B[1;33m%\u001B[0m\u001B[1;33m\u001B[0m\u001B[1;33m\u001B[0m\u001B[0m\n\u001B[0;32m    943\u001B[0m                     self.__class__)\n\u001B[1;32m--> 944\u001B[1;33m             \u001B[1;32mreturn\u001B[0m \u001B[0mself\u001B[0m\u001B[1;33m.\u001B[0m\u001B[0m_sslobj\u001B[0m\u001B[1;33m.\u001B[0m\u001B[0mwrite\u001B[0m\u001B[1;33m(\u001B[0m\u001B[0mdata\u001B[0m\u001B[1;33m)\u001B[0m\u001B[1;33m\u001B[0m\u001B[1;33m\u001B[0m\u001B[0m\n\u001B[0m\u001B[0;32m    945\u001B[0m         \u001B[1;32melse\u001B[0m\u001B[1;33m:\u001B[0m\u001B[1;33m\u001B[0m\u001B[1;33m\u001B[0m\u001B[0m\n\u001B[0;32m    946\u001B[0m             \u001B[1;32mreturn\u001B[0m \u001B[0msocket\u001B[0m\u001B[1;33m.\u001B[0m\u001B[0msend\u001B[0m\u001B[1;33m(\u001B[0m\u001B[0mself\u001B[0m\u001B[1;33m,\u001B[0m \u001B[0mdata\u001B[0m\u001B[1;33m,\u001B[0m \u001B[0mflags\u001B[0m\u001B[1;33m)\u001B[0m\u001B[1;33m\u001B[0m\u001B[1;33m\u001B[0m\u001B[0m\n",
      "\u001B[1;32m~\\AppData\\Local\\Programs\\Python\\Python36\\lib\\ssl.py\u001B[0m in \u001B[0;36mwrite\u001B[1;34m(self, data)\u001B[0m\n\u001B[0;32m    640\u001B[0m         \u001B[0mThe\u001B[0m \u001B[1;34m'data'\u001B[0m \u001B[0margument\u001B[0m \u001B[0mmust\u001B[0m \u001B[0msupport\u001B[0m \u001B[0mthe\u001B[0m \u001B[0mbuffer\u001B[0m \u001B[0minterface\u001B[0m\u001B[1;33m.\u001B[0m\u001B[1;33m\u001B[0m\u001B[1;33m\u001B[0m\u001B[0m\n\u001B[0;32m    641\u001B[0m         \"\"\"\n\u001B[1;32m--> 642\u001B[1;33m         \u001B[1;32mreturn\u001B[0m \u001B[0mself\u001B[0m\u001B[1;33m.\u001B[0m\u001B[0m_sslobj\u001B[0m\u001B[1;33m.\u001B[0m\u001B[0mwrite\u001B[0m\u001B[1;33m(\u001B[0m\u001B[0mdata\u001B[0m\u001B[1;33m)\u001B[0m\u001B[1;33m\u001B[0m\u001B[1;33m\u001B[0m\u001B[0m\n\u001B[0m\u001B[0;32m    643\u001B[0m \u001B[1;33m\u001B[0m\u001B[0m\n\u001B[0;32m    644\u001B[0m     \u001B[1;32mdef\u001B[0m \u001B[0mgetpeercert\u001B[0m\u001B[1;33m(\u001B[0m\u001B[0mself\u001B[0m\u001B[1;33m,\u001B[0m \u001B[0mbinary_form\u001B[0m\u001B[1;33m=\u001B[0m\u001B[1;32mFalse\u001B[0m\u001B[1;33m)\u001B[0m\u001B[1;33m:\u001B[0m\u001B[1;33m\u001B[0m\u001B[1;33m\u001B[0m\u001B[0m\n",
      "\u001B[1;31mKeyboardInterrupt\u001B[0m: "
     ]
    }
   ],
   "source": [
    "# for fastq in os.listdir(\"./data/inputs\"):\n",
    "#     if fastq.startswith(\"SRR\"):\n",
    "#         print(f\"uploading {fastq}\")\n",
    "preprocessing.upload_data_history(\"data/inputs/SRR5152513_1.fastq\",  name=\"SRR5152513_1\", file_type=\"fastq\")\n",
    "# preprocessing.upload_data_history(\"data/inputs/annotation.gtf\", name=\"annotation.gtf\", file_type=\"gtf\")\n",
    "# preprocessing.upload_data_history(\"data/inputs/annotation.gff3\", name=\"annotation3\", file_type=\"gff3\")\n",
    "# preprocessing.upload_data_history(\"data/inputs/genome_sequence.fasta\", name=\"genome_ng\", file_type=\"fasta\")"
   ]
  },
  {
   "cell_type": "markdown",
   "metadata": {
    "pycharm": {
     "name": "#%% md\n"
    }
   },
   "source": [
    "Now, in order to run a job in Galaxy, you need to upload a file to a history, if you don't have a file already uploaded in Galaxy, you can use the following command."
   ]
  },
  {
   "cell_type": "code",
   "execution_count": 10,
   "metadata": {
    "pycharm": {
     "name": "#%%\n"
    },
    "scrolled": true
   },
   "outputs": [
    {
     "ename": "ConnectionError",
     "evalue": "Unexpected HTTP status code: 400: {\"err_msg\": \"Wrong  id ( None ) specified, unable to decode.\", \"err_code\": 400009}",
     "output_type": "error",
     "traceback": [
      "\u001B[0;31m---------------------------------------------------------------------------\u001B[0m",
      "\u001B[0;31mConnectionError\u001B[0m                           Traceback (most recent call last)",
      "Input \u001B[0;32mIn [10]\u001B[0m, in \u001B[0;36m<cell line: 1>\u001B[0;34m()\u001B[0m\n\u001B[0;32m----> 1\u001B[0m \u001B[43mpreprocessing\u001B[49m\u001B[38;5;241;43m.\u001B[39;49m\u001B[43mupload_data_history\u001B[49m\u001B[43m(\u001B[49m\u001B[38;5;124;43m\"\u001B[39;49m\u001B[38;5;124;43mdata/inputs/toy_SRR5152513_1.fastq\u001B[39;49m\u001B[38;5;124;43m\"\u001B[39;49m\u001B[43m)\u001B[49m \u001B[38;5;66;03m# uploads file to current history set in the previous code\u001B[39;00m\n\u001B[1;32m      2\u001B[0m \u001B[38;5;66;03m# or\u001B[39;00m\n\u001B[1;32m      3\u001B[0m preprocessing\u001B[38;5;241m.\u001B[39mupload_data_history(\u001B[38;5;124m\"\u001B[39m\u001B[38;5;124mdata/inputs/toy_SRR5152513_1.fastq\u001B[39m\u001B[38;5;124m\"\u001B[39m, history_id\u001B[38;5;241m=\u001B[39m\u001B[38;5;124m\"\u001B[39m\u001B[38;5;124m77d77febf1e1394a\u001B[39m\u001B[38;5;124m\"\u001B[39m)\n",
      "File \u001B[0;32m~/Documents/GitHub/bioinformatics-project/src/preprocessing.py:85\u001B[0m, in \u001B[0;36mPreProcessing.upload_data_history\u001B[0;34m(self, file_local_path, history_id, **kwargs)\u001B[0m\n\u001B[1;32m     76\u001B[0m \u001B[38;5;28;01mdef\u001B[39;00m \u001B[38;5;21mupload_data_history\u001B[39m(\u001B[38;5;28mself\u001B[39m, file_local_path, history_id\u001B[38;5;241m=\u001B[39m\u001B[38;5;28;01mNone\u001B[39;00m, \u001B[38;5;241m*\u001B[39m\u001B[38;5;241m*\u001B[39mkwargs):\n\u001B[1;32m     77\u001B[0m     \u001B[38;5;124;03m\"\"\" method to upload a local file to certain history\u001B[39;00m\n\u001B[1;32m     78\u001B[0m \n\u001B[1;32m     79\u001B[0m \u001B[38;5;124;03m    Args:\u001B[39;00m\n\u001B[0;32m   (...)\u001B[0m\n\u001B[1;32m     83\u001B[0m \u001B[38;5;124;03m        dic: dictionary containing information about newly updated file in history\u001B[39;00m\n\u001B[1;32m     84\u001B[0m \u001B[38;5;124;03m    \"\"\"\u001B[39;00m\n\u001B[0;32m---> 85\u001B[0m     counts \u001B[38;5;241m=\u001B[39m \u001B[38;5;28;43mself\u001B[39;49m\u001B[38;5;241;43m.\u001B[39;49m\u001B[43mgalaxy_instance\u001B[49m\u001B[38;5;241;43m.\u001B[39;49m\u001B[43mtools\u001B[49m\u001B[38;5;241;43m.\u001B[39;49m\u001B[43mupload_file\u001B[49m\u001B[43m(\u001B[49m\u001B[43mfile_local_path\u001B[49m\u001B[43m,\u001B[49m\u001B[43m \u001B[49m\u001B[38;5;28;43mstr\u001B[39;49m\u001B[43m(\u001B[49m\u001B[43mhistory_id\u001B[49m\u001B[43m \u001B[49m\u001B[38;5;129;43;01mor\u001B[39;49;00m\u001B[43m \u001B[49m\u001B[38;5;28;43mself\u001B[39;49m\u001B[38;5;241;43m.\u001B[39;49m\u001B[43mcurrent_history\u001B[49m\u001B[43m)\u001B[49m\u001B[43m,\u001B[49m\n\u001B[1;32m     86\u001B[0m \u001B[43m                                                    \u001B[49m\u001B[38;5;241;43m*\u001B[39;49m\u001B[38;5;241;43m*\u001B[39;49m\u001B[43mkwargs\u001B[49m\u001B[43m)\u001B[49m  \u001B[38;5;66;03m# ~working\u001B[39;00m\n\u001B[1;32m     87\u001B[0m     \u001B[38;5;28;01mreturn\u001B[39;00m counts\n",
      "File \u001B[0;32m~/Documents/GitHub/bioinformatics-project/venv/lib/python3.9/site-packages/bioblend/galaxy/tools/__init__.py:289\u001B[0m, in \u001B[0;36mToolClient.upload_file\u001B[0;34m(self, path, history_id, **keywords)\u001B[0m\n\u001B[1;32m    287\u001B[0m payload[\u001B[38;5;124m\"\u001B[39m\u001B[38;5;124mfiles_0|file_data\u001B[39m\u001B[38;5;124m\"\u001B[39m] \u001B[38;5;241m=\u001B[39m attach_file(path, name\u001B[38;5;241m=\u001B[39mkeywords[\u001B[38;5;124m\"\u001B[39m\u001B[38;5;124mfile_name\u001B[39m\u001B[38;5;124m\"\u001B[39m])\n\u001B[1;32m    288\u001B[0m \u001B[38;5;28;01mtry\u001B[39;00m:\n\u001B[0;32m--> 289\u001B[0m     \u001B[38;5;28;01mreturn\u001B[39;00m \u001B[38;5;28;43mself\u001B[39;49m\u001B[38;5;241;43m.\u001B[39;49m\u001B[43m_post\u001B[49m\u001B[43m(\u001B[49m\u001B[43mpayload\u001B[49m\u001B[43m,\u001B[49m\u001B[43m \u001B[49m\u001B[43mfiles_attached\u001B[49m\u001B[38;5;241;43m=\u001B[39;49m\u001B[38;5;28;43;01mTrue\u001B[39;49;00m\u001B[43m)\u001B[49m\n\u001B[1;32m    290\u001B[0m \u001B[38;5;28;01mfinally\u001B[39;00m:\n\u001B[1;32m    291\u001B[0m     payload[\u001B[38;5;124m\"\u001B[39m\u001B[38;5;124mfiles_0|file_data\u001B[39m\u001B[38;5;124m\"\u001B[39m]\u001B[38;5;241m.\u001B[39mclose()\n",
      "File \u001B[0;32m~/Documents/GitHub/bioinformatics-project/venv/lib/python3.9/site-packages/bioblend/galaxy/client.py:176\u001B[0m, in \u001B[0;36mClient._post\u001B[0;34m(self, payload, id, deleted, contents, url, files_attached)\u001B[0m\n\u001B[1;32m    174\u001B[0m \u001B[38;5;28;01mif\u001B[39;00m \u001B[38;5;129;01mnot\u001B[39;00m url:\n\u001B[1;32m    175\u001B[0m     url \u001B[38;5;241m=\u001B[39m \u001B[38;5;28mself\u001B[39m\u001B[38;5;241m.\u001B[39m_make_url(module_id\u001B[38;5;241m=\u001B[39m\u001B[38;5;28mid\u001B[39m, deleted\u001B[38;5;241m=\u001B[39mdeleted, contents\u001B[38;5;241m=\u001B[39mcontents)\n\u001B[0;32m--> 176\u001B[0m \u001B[38;5;28;01mreturn\u001B[39;00m \u001B[38;5;28;43mself\u001B[39;49m\u001B[38;5;241;43m.\u001B[39;49m\u001B[43mgi\u001B[49m\u001B[38;5;241;43m.\u001B[39;49m\u001B[43mmake_post_request\u001B[49m\u001B[43m(\u001B[49m\u001B[43murl\u001B[49m\u001B[43m,\u001B[49m\u001B[43m \u001B[49m\u001B[43mpayload\u001B[49m\u001B[38;5;241;43m=\u001B[39;49m\u001B[43mpayload\u001B[49m\u001B[43m,\u001B[49m\n\u001B[1;32m    177\u001B[0m \u001B[43m                                 \u001B[49m\u001B[43mfiles_attached\u001B[49m\u001B[38;5;241;43m=\u001B[39;49m\u001B[43mfiles_attached\u001B[49m\u001B[43m)\u001B[49m\n",
      "File \u001B[0;32m~/Documents/GitHub/bioinformatics-project/venv/lib/python3.9/site-packages/bioblend/galaxyclient.py:153\u001B[0m, in \u001B[0;36mGalaxyClient.make_post_request\u001B[0;34m(self, url, payload, params, files_attached)\u001B[0m\n\u001B[1;32m    147\u001B[0m         \u001B[38;5;28;01mraise\u001B[39;00m \u001B[38;5;167;01mConnectionError\u001B[39;00m(\n\u001B[1;32m    148\u001B[0m             \u001B[38;5;124mf\u001B[39m\u001B[38;5;124m\"\u001B[39m\u001B[38;5;124mRequest was successful, but cannot decode the response content: \u001B[39m\u001B[38;5;132;01m{\u001B[39;00me\u001B[38;5;132;01m}\u001B[39;00m\u001B[38;5;124m\"\u001B[39m,\n\u001B[1;32m    149\u001B[0m             body\u001B[38;5;241m=\u001B[39mr\u001B[38;5;241m.\u001B[39mcontent,\n\u001B[1;32m    150\u001B[0m             status_code\u001B[38;5;241m=\u001B[39mr\u001B[38;5;241m.\u001B[39mstatus_code,\n\u001B[1;32m    151\u001B[0m         )\n\u001B[1;32m    152\u001B[0m \u001B[38;5;66;03m# @see self.body for HTTP response body\u001B[39;00m\n\u001B[0;32m--> 153\u001B[0m \u001B[38;5;28;01mraise\u001B[39;00m \u001B[38;5;167;01mConnectionError\u001B[39;00m(\n\u001B[1;32m    154\u001B[0m     \u001B[38;5;124mf\u001B[39m\u001B[38;5;124m\"\u001B[39m\u001B[38;5;124mUnexpected HTTP status code: \u001B[39m\u001B[38;5;132;01m{\u001B[39;00mr\u001B[38;5;241m.\u001B[39mstatus_code\u001B[38;5;132;01m}\u001B[39;00m\u001B[38;5;124m\"\u001B[39m,\n\u001B[1;32m    155\u001B[0m     body\u001B[38;5;241m=\u001B[39mr\u001B[38;5;241m.\u001B[39mtext,\n\u001B[1;32m    156\u001B[0m     status_code\u001B[38;5;241m=\u001B[39mr\u001B[38;5;241m.\u001B[39mstatus_code,\n\u001B[1;32m    157\u001B[0m )\n",
      "\u001B[0;31mConnectionError\u001B[0m: Unexpected HTTP status code: 400: {\"err_msg\": \"Wrong  id ( None ) specified, unable to decode.\", \"err_code\": 400009}"
     ]
    }
   ],
   "source": [
    "preprocessing.upload_data_history(\"data/inputs/toy_SRR5152513_1.fastq\") # uploads file to current history set in the previous code\n",
    "# or\n",
    "preprocessing.upload_data_history(\"data/inputs/toy_SRR5152513_1.fastq\", history_id=\"77d77febf1e1394a\", name='fastq_ng_1', file_type=\"fastq\") ## uploads file to specific history with a specific name\n",
    "preprocessing.upload_data_history(\"data/inputs/toy_SRR5152513_2.fastq\", history_id=\"77d77febf1e1394a\", name='fastq_ng_1', file_type=\"fastq\") # uploads file to specific history\n",
    "preprocessing.upload_data_history(\"data/inputs/annotation.gtf\", history_id=\"77d77febf1e1394a\", name=\"annotation.gtf\", file_type=\"gtf\")\n",
    "preprocessing.upload_data_history(\"data/inputs/annotation.gff3\", history_id=\"77d77febf1e1394a\", name=\"annotation3\", file_type=\"gff3\")\n",
    "preprocessing.upload_data_history(\"data/inputs/genome_sequence.fasta\", history_id=\"77d77febf1e1394a\", name=\"genome_ng\", file_type=\"fasta\")"
   ]
  },
  {
   "cell_type": "markdown",
   "metadata": {
    "pycharm": {
     "name": "#%% md\n"
    }
   },
   "source": [
    "To get information about all the datasets in a history, you can use the following command."
   ]
  },
  {
   "cell_type": "code",
   "execution_count": 13,
   "metadata": {
    "pycharm": {
     "name": "#%%\n"
    }
   },
   "outputs": [
    {
     "name": "stdout",
     "output_type": "stream",
     "text": [
      "dataset 1. name is: FastQC on data 75: RawData, deleted: True, dataset id: bbd44e69cb8906b5400fadedb4c5aeca, created at: 2022-06-17T15:56:40.708138\n",
      "dataset 2. name is: FastQC on data 75: Webpage, deleted: True, dataset id: bbd44e69cb8906b5842af2fd359357e4, created at: 2022-06-17T15:56:40.708131\n",
      "dataset 3. name is: FastQC on data 74: RawData, deleted: True, dataset id: bbd44e69cb8906b5933e8be1b873a24c, created at: 2022-06-17T15:56:39.143616\n",
      "dataset 4. name is: FastQC on data 74: Webpage, deleted: True, dataset id: bbd44e69cb8906b569ec36d139a76ba6, created at: 2022-06-17T15:56:39.143609\n",
      "dataset 5. name is: FastQC on data 74: RawData, deleted: True, dataset id: bbd44e69cb8906b5b53852d4c55c1f40, created at: 2022-06-15T16:26:45.555153\n",
      "dataset 6. name is: FastQC on data 74: Webpage, deleted: True, dataset id: bbd44e69cb8906b52d8df0ea0cb3f357, created at: 2022-06-15T16:26:45.555145\n",
      "dataset 7. name is: FastQC on data 75: RawData, deleted: True, dataset id: bbd44e69cb8906b59125bb7480b2fb69, created at: 2022-06-15T16:26:36.203744\n",
      "dataset 8. name is: FastQC on data 75: Webpage, deleted: True, dataset id: bbd44e69cb8906b5323da6d42b7d4494, created at: 2022-06-15T16:26:36.203684\n",
      "dataset 9. name is: FastQC on data 74: RawData, deleted: True, dataset id: bbd44e69cb8906b5c5afa1184a7dd445, created at: 2022-06-15T16:04:54.878041\n",
      "dataset 10. name is: FastQC on data 74: Webpage, deleted: True, dataset id: bbd44e69cb8906b52041494aed481c14, created at: 2022-06-15T16:04:54.878035\n",
      "dataset 11. name is: FastQC on data 74: RawData, deleted: True, dataset id: bbd44e69cb8906b534fedb0b07133b20, created at: 2022-06-15T16:02:17.238375\n",
      "dataset 12. name is: FastQC on data 74: Webpage, deleted: True, dataset id: bbd44e69cb8906b5137fe0f2970c3722, created at: 2022-06-15T16:02:17.238352\n",
      "dataset 13. name is: FastQC on data 74: RawData, deleted: True, dataset id: bbd44e69cb8906b5bf19a324732d44ee, created at: 2022-06-15T16:01:57.354119\n",
      "dataset 14. name is: FastQC on data 74: Webpage, deleted: True, dataset id: bbd44e69cb8906b517bf50a1840344a1, created at: 2022-06-15T16:01:57.354112\n",
      "dataset 15. name is: FastQC on data 74: RawData, deleted: True, dataset id: bbd44e69cb8906b5daaaf7bbb31e1024, created at: 2022-06-15T15:57:37.570488\n",
      "dataset 16. name is: FastQC on data 74: Webpage, deleted: True, dataset id: bbd44e69cb8906b5c3750b19b1e106ad, created at: 2022-06-15T15:57:37.570457\n",
      "dataset 17. name is: FastQC on data 75: RawData, deleted: True, dataset id: bbd44e69cb8906b5a1362eee3d60bc81, created at: 2022-06-15T15:54:42.688976\n",
      "dataset 18. name is: FastQC on data 75: Webpage, deleted: True, dataset id: bbd44e69cb8906b59a366b545ad5e535, created at: 2022-06-15T15:54:42.688847\n",
      "dataset 19. name is: FastQC on data 74: RawData, deleted: True, dataset id: bbd44e69cb8906b50d1e985ad207143e, created at: 2022-06-15T15:51:11.114010\n",
      "dataset 20. name is: FastQC on data 74: Webpage, deleted: True, dataset id: bbd44e69cb8906b556c37e470d42f592, created at: 2022-06-15T15:51:11.114002\n",
      "dataset 21. name is: FastQC on data 74: RawData, deleted: True, dataset id: bbd44e69cb8906b5f3cf4a357c32cbd8, created at: 2022-06-15T15:50:13.760832\n",
      "dataset 22. name is: FastQC on data 74: Webpage, deleted: True, dataset id: bbd44e69cb8906b5e6eef5eb573bc894, created at: 2022-06-15T15:50:13.760813\n",
      "dataset 23. name is: FastQC on data 74: RawData, deleted: True, dataset id: bbd44e69cb8906b5aa150631dda02cc1, created at: 2022-06-15T15:47:21.182632\n",
      "dataset 24. name is: FastQC on data 74: Webpage, deleted: True, dataset id: bbd44e69cb8906b5bed7737b3f9c0c35, created at: 2022-06-15T15:47:21.182623\n",
      "dataset 25. name is: FastQC on data 74: RawData, deleted: True, dataset id: bbd44e69cb8906b5185bf9efbaf91e6a, created at: 2022-06-15T15:42:16.495381\n",
      "dataset 26. name is: FastQC on data 74: Webpage, deleted: True, dataset id: bbd44e69cb8906b51bd77b3aad37db42, created at: 2022-06-15T15:42:16.495372\n",
      "dataset 27. name is: FastQC on data 74: RawData, deleted: True, dataset id: bbd44e69cb8906b597f2ed771bd9f833, created at: 2022-06-15T15:41:58.665557\n",
      "dataset 28. name is: FastQC on data 74: Webpage, deleted: True, dataset id: bbd44e69cb8906b5e087ca5285fc7200, created at: 2022-06-15T15:41:58.665548\n",
      "dataset 29. name is: FastQC on data 74: RawData, deleted: False, dataset id: bbd44e69cb8906b57ccdb4cf1c0e818e, created at: 2022-06-15T15:41:30.190196\n",
      "dataset 30. name is: FastQC on data 74: Webpage, deleted: False, dataset id: bbd44e69cb8906b525041691b96b1b39, created at: 2022-06-15T15:41:30.190190\n",
      "dataset 31. name is: FastQC on data 74: RawData, deleted: True, dataset id: bbd44e69cb8906b5308dae62070dc98c, created at: 2022-06-15T15:41:29.111360\n",
      "dataset 32. name is: FastQC on data 74: Webpage, deleted: True, dataset id: bbd44e69cb8906b53a967bc0d6f699bc, created at: 2022-06-15T15:41:29.111352\n",
      "dataset 33. name is: FastQC on data 74: RawData, deleted: False, dataset id: bbd44e69cb8906b5f6f9005feed8a2c1, created at: 2022-06-15T15:41:02.001924\n",
      "dataset 34. name is: FastQC on data 74: Webpage, deleted: False, dataset id: bbd44e69cb8906b53d132447caabaafe, created at: 2022-06-15T15:41:02.001913\n",
      "dataset 35. name is: FastQC on data 74: RawData, deleted: False, dataset id: bbd44e69cb8906b5122d8ea7f50f2ab2, created at: 2022-06-15T15:17:16.757823\n",
      "dataset 36. name is: FastQC on data 74: Webpage, deleted: False, dataset id: bbd44e69cb8906b5d78877ef0228a0ad, created at: 2022-06-15T15:17:16.757817\n",
      "dataset 37. name is: FastQC on data 74: RawData, deleted: False, dataset id: bbd44e69cb8906b59ef0cf4fb4b0434a, created at: 2022-06-15T15:16:05.761030\n",
      "dataset 38. name is: FastQC on data 74: Webpage, deleted: False, dataset id: bbd44e69cb8906b50f2ea959f5101e17, created at: 2022-06-15T15:16:05.761023\n",
      "dataset 39. name is: FastQC on data 74: RawData, deleted: False, dataset id: bbd44e69cb8906b5a94c61abd79c8a28, created at: 2022-06-15T15:12:08.062605\n",
      "dataset 40. name is: FastQC on data 74: Webpage, deleted: False, dataset id: bbd44e69cb8906b5a2fd7c8185c0c999, created at: 2022-06-15T15:12:08.062598\n",
      "dataset 41. name is: FastQC on data 74: RawData, deleted: False, dataset id: bbd44e69cb8906b5a3b7106876d3ba6a, created at: 2022-06-15T15:00:18.495187\n",
      "dataset 42. name is: FastQC on data 74: Webpage, deleted: False, dataset id: bbd44e69cb8906b50b1109ae0621c7d0, created at: 2022-06-15T15:00:18.495154\n",
      "dataset 43. name is: FastQC on data 74: RawData, deleted: False, dataset id: bbd44e69cb8906b503815bc545cab1d6, created at: 2022-06-15T14:57:57.333048\n",
      "dataset 44. name is: FastQC on data 74: Webpage, deleted: False, dataset id: bbd44e69cb8906b56344788a1601ca1e, created at: 2022-06-15T14:57:57.333024\n",
      "dataset 45. name is: sequence_ng, deleted: False, dataset id: bbd44e69cb8906b509e1d2e79906330c, created at: 2022-06-14T17:45:03.453237\n",
      "dataset 46. name is: fastq_1_ng, deleted: False, dataset id: bbd44e69cb8906b51a4ae4ab9294c008, created at: 2022-06-14T17:44:55.109856\n",
      "dataset 47. name is: fastq_2_ng, deleted: False, dataset id: bbd44e69cb8906b51dfbe7e9722be410, created at: 2022-06-14T17:44:42.254868\n",
      "dataset 48. name is: annotation, deleted: False, dataset id: bbd44e69cb8906b5ab6a077705ce0829, created at: 2022-06-14T17:40:35.276927\n",
      "dataset 49. name is: genome_sequence.fasta, deleted: False, dataset id: bbd44e69cb8906b52fa76e4af762e2cc, created at: 2022-06-14T17:39:06.796815\n",
      "dataset 50. name is: toy_SRR5152513_2.fastq, deleted: False, dataset id: bbd44e69cb8906b5f7ffff78c3c83123, created at: 2022-06-14T17:38:15.769166\n",
      "dataset 51. name is: toy_SRR5152513_1.fastq, deleted: False, dataset id: bbd44e69cb8906b5d2463f4421381433, created at: 2022-06-14T17:37:31.114841\n",
      "dataset 52. name is: toy_SRR5152513_1.fastq, deleted: False, dataset id: bbd44e69cb8906b5d4afedb3e7f3098e, created at: 2022-05-08T20:22:22.580460\n",
      "dataset 53. name is: toy_SRR5152513_1.fastq, deleted: False, dataset id: bbd44e69cb8906b52152265a9a8cd0e7, created at: 2022-05-08T20:22:08.484132\n",
      "dataset 54. name is: toy_SRR5152513_1.fastq, deleted: False, dataset id: bbd44e69cb8906b57b48e8a1879dd2cd, created at: 2022-05-08T20:20:58.441040\n",
      "dataset 55. name is: toy_SRR5152513_1.fastq, deleted: False, dataset id: bbd44e69cb8906b5240164621b5d27b7, created at: 2022-05-08T20:20:34.232235\n",
      "dataset 56. name is: toy_SRR5152513_1.fastq, deleted: True, dataset id: bbd44e69cb8906b506058c4435b1294b, created at: 2022-05-08T19:45:16.903861\n",
      "dataset 57. name is: Trim Galore! on data 1: trimmed reads, deleted: True, dataset id: bbd44e69cb8906b510dcce40d7cdfd1e, created at: 2022-04-28T17:57:03.318644\n",
      "dataset 58. name is: genome_sequence.fasta, deleted: True, dataset id: bbd44e69cb8906b565cde45a6ba4ef9a, created at: 2022-04-28T17:55:15.645780\n",
      "dataset 59. name is: genome_annotation.gff3, deleted: True, dataset id: bbd44e69cb8906b5694de2059cdb746d, created at: 2022-04-28T17:54:44.804603\n",
      "dataset 60. name is: toy_SRR5152513_1.fastq, deleted: True, dataset id: bbd44e69cb8906b561bb56be284d9e34, created at: 2022-04-28T17:54:38.869993\n"
     ]
    }
   ],
   "source": [
    "preprocessing.get_datasets(\"77d77febf1e1394a\")"
   ]
  },
  {
   "cell_type": "markdown",
   "metadata": {
    "pycharm": {
     "name": "#%% md\n"
    }
   },
   "source": [
    "To get information about a specific dataset, you can use the following code. Usually, id will be used as parameter for different commands, as you will see in next sections. This output reveals everything you could want to know about a dataset. You have two ways to run the method, one is using the id of the dataset, and the other is using the name of the dataset."
   ]
  },
  {
   "cell_type": "code",
   "execution_count": 15,
   "metadata": {
    "pycharm": {
     "name": "#%%\n"
    }
   },
   "outputs": [
    {
     "name": "stdout",
     "output_type": "stream",
     "text": [
      "information about the file with the id bbd44e69cb8906b561bb56be284d9e34 was found!\n",
      "id: bbd44e69cb8906b561bb56be284d9e34\n",
      "name: toy_SRR5152513_1.fastq\n",
      "history_id: 77d77febf1e1394a\n",
      "hid: 1\n",
      "history_content_type: dataset\n",
      "deleted: True\n",
      "visible: True\n",
      "type_id: dataset-bbd44e69cb8906b561bb56be284d9e34\n",
      "type: file\n",
      "create_time: 2022-04-28T17:54:38.869993\n",
      "update_time: 2022-05-08T19:52:39.157089\n",
      "url: /api/histories/77d77febf1e1394a/contents/bbd44e69cb8906b561bb56be284d9e34\n",
      "tags: []\n",
      "dataset_id: bbd44e69cb8906b520e9df1531b26cb4\n",
      "state: ok\n",
      "extension: txt\n",
      "purged: True\n",
      "information about the file with the name toy_SRR5152513_1.fastq was found!\n",
      "id: bbd44e69cb8906b5d2463f4421381433\n",
      "name: toy_SRR5152513_1.fastq\n",
      "history_id: 77d77febf1e1394a\n",
      "hid: 10\n",
      "history_content_type: dataset\n",
      "deleted: False\n",
      "visible: True\n",
      "type_id: dataset-bbd44e69cb8906b5d2463f4421381433\n",
      "type: file\n",
      "create_time: 2022-06-14T17:37:31.114841\n",
      "update_time: 2022-06-14T17:38:16.042770\n",
      "url: /api/histories/77d77febf1e1394a/contents/bbd44e69cb8906b5d2463f4421381433\n",
      "tags: []\n",
      "dataset_id: bbd44e69cb8906b5b00148cac8331241\n",
      "state: ok\n",
      "extension: fastqsanger\n",
      "purged: False\n",
      "information about the file with the name toy_SRR5152513_1.fastq was found!\n",
      "id: bbd44e69cb8906b5d4afedb3e7f3098e\n",
      "name: toy_SRR5152513_1.fastq\n",
      "history_id: 77d77febf1e1394a\n",
      "hid: 9\n",
      "history_content_type: dataset\n",
      "deleted: False\n",
      "visible: True\n",
      "type_id: dataset-bbd44e69cb8906b5d4afedb3e7f3098e\n",
      "type: file\n",
      "create_time: 2022-05-08T20:22:22.580460\n",
      "update_time: 2022-05-08T20:23:06.412157\n",
      "url: /api/histories/77d77febf1e1394a/contents/bbd44e69cb8906b5d4afedb3e7f3098e\n",
      "tags: []\n",
      "dataset_id: bbd44e69cb8906b5c04dc2e7da4e164e\n",
      "state: ok\n",
      "extension: txt\n",
      "purged: False\n",
      "information about the file with the name toy_SRR5152513_1.fastq was found!\n",
      "id: bbd44e69cb8906b52152265a9a8cd0e7\n",
      "name: toy_SRR5152513_1.fastq\n",
      "history_id: 77d77febf1e1394a\n",
      "hid: 8\n",
      "history_content_type: dataset\n",
      "deleted: False\n",
      "visible: True\n",
      "type_id: dataset-bbd44e69cb8906b52152265a9a8cd0e7\n",
      "type: file\n",
      "create_time: 2022-05-08T20:22:08.484132\n",
      "update_time: 2022-05-08T20:22:50.395137\n",
      "url: /api/histories/77d77febf1e1394a/contents/bbd44e69cb8906b52152265a9a8cd0e7\n",
      "tags: []\n",
      "dataset_id: bbd44e69cb8906b5de9d0c8f54e9fa4e\n",
      "state: ok\n",
      "extension: txt\n",
      "purged: False\n",
      "information about the file with the name toy_SRR5152513_1.fastq was found!\n",
      "id: bbd44e69cb8906b57b48e8a1879dd2cd\n",
      "name: toy_SRR5152513_1.fastq\n",
      "history_id: 77d77febf1e1394a\n",
      "hid: 7\n",
      "history_content_type: dataset\n",
      "deleted: False\n",
      "visible: True\n",
      "type_id: dataset-bbd44e69cb8906b57b48e8a1879dd2cd\n",
      "type: file\n",
      "create_time: 2022-05-08T20:20:58.441040\n",
      "update_time: 2022-05-08T20:21:42.022477\n",
      "url: /api/histories/77d77febf1e1394a/contents/bbd44e69cb8906b57b48e8a1879dd2cd\n",
      "tags: []\n",
      "dataset_id: bbd44e69cb8906b59bb288c690c082ea\n",
      "state: ok\n",
      "extension: txt\n",
      "purged: False\n",
      "information about the file with the name toy_SRR5152513_1.fastq was found!\n",
      "id: bbd44e69cb8906b5240164621b5d27b7\n",
      "name: toy_SRR5152513_1.fastq\n",
      "history_id: 77d77febf1e1394a\n",
      "hid: 6\n",
      "history_content_type: dataset\n",
      "deleted: False\n",
      "visible: True\n",
      "type_id: dataset-bbd44e69cb8906b5240164621b5d27b7\n",
      "type: file\n",
      "create_time: 2022-05-08T20:20:34.232235\n",
      "update_time: 2022-05-08T20:21:13.460609\n",
      "url: /api/histories/77d77febf1e1394a/contents/bbd44e69cb8906b5240164621b5d27b7\n",
      "tags: []\n",
      "dataset_id: bbd44e69cb8906b5f3eec19da1a3070a\n",
      "state: ok\n",
      "extension: txt\n",
      "purged: False\n",
      "information about the file with the name toy_SRR5152513_1.fastq was found!\n",
      "id: bbd44e69cb8906b506058c4435b1294b\n",
      "name: toy_SRR5152513_1.fastq\n",
      "history_id: 77d77febf1e1394a\n",
      "hid: 5\n",
      "history_content_type: dataset\n",
      "deleted: True\n",
      "visible: True\n",
      "type_id: dataset-bbd44e69cb8906b506058c4435b1294b\n",
      "type: file\n",
      "create_time: 2022-05-08T19:45:16.903861\n",
      "update_time: 2022-05-08T19:52:13.101194\n",
      "url: /api/histories/77d77febf1e1394a/contents/bbd44e69cb8906b506058c4435b1294b\n",
      "tags: []\n",
      "dataset_id: bbd44e69cb8906b5c4e1b020e93f50b4\n",
      "state: ok\n",
      "extension: txt\n",
      "purged: True\n",
      "information about the file with the name toy_SRR5152513_1.fastq was found!\n",
      "id: bbd44e69cb8906b561bb56be284d9e34\n",
      "name: toy_SRR5152513_1.fastq\n",
      "history_id: 77d77febf1e1394a\n",
      "hid: 1\n",
      "history_content_type: dataset\n",
      "deleted: True\n",
      "visible: True\n",
      "type_id: dataset-bbd44e69cb8906b561bb56be284d9e34\n",
      "type: file\n",
      "create_time: 2022-04-28T17:54:38.869993\n",
      "update_time: 2022-05-08T19:52:39.157089\n",
      "url: /api/histories/77d77febf1e1394a/contents/bbd44e69cb8906b561bb56be284d9e34\n",
      "tags: []\n",
      "dataset_id: bbd44e69cb8906b520e9df1531b26cb4\n",
      "state: ok\n",
      "extension: txt\n",
      "purged: True\n"
     ]
    }
   ],
   "source": [
    "preprocessing.get_dataset(history_id= \"77d77febf1e1394a\", dataset_id=\"bbd44e69cb8906b561bb56be284d9e34\")\n",
    "#or\n",
    "preprocessing.get_dataset(history_id= \"77d77febf1e1394a\", file_name=\"toy_SRR5152513_1.fastq\")"
   ]
  },
  {
   "cell_type": "markdown",
   "metadata": {
    "pycharm": {
     "name": "#%% md\n"
    }
   },
   "source": [
    "Now that you have a dataset, you should be able to run a desired tool in Galaxy. To do so, you need to specify the tool you want to run. To proccess the data in this workflow, the tools beeing used are:\n",
    "FastQC\n",
    "RNAStar\n",
    "FeatureCounts"
   ]
  },
  {
   "cell_type": "markdown",
   "metadata": {
    "pycharm": {
     "name": "#%% md\n"
    }
   },
   "source": [
    "Let's run the FastQC tool. It will give you a information about the generated dataset."
   ]
  },
  {
   "cell_type": "code",
   "execution_count": 18,
   "metadata": {
    "pycharm": {
     "name": "#%%\n"
    }
   },
   "outputs": [
    {
     "name": "stdout",
     "output_type": "stream",
     "text": [
      "FastQC on data 74: Webpage was created in history 77d77febf1e1394a has id: bbd44e69cb8906b59ccddb077c1c7360\n",
      "FastQC on data 74: RawData was created in history 77d77febf1e1394a has id: bbd44e69cb8906b53ca7340eb466a705\n",
      "More information below:\n",
      "FastQC on data 75: Webpage was created in history 77d77febf1e1394a has id: bbd44e69cb8906b5630e9a0cd75b3e29\n",
      "FastQC on data 75: RawData was created in history 77d77febf1e1394a has id: bbd44e69cb8906b5c43d4dc917daf4ca\n",
      "More information below:\n"
     ]
    }
   ],
   "source": [
    "# id fastq_1_ng = \"bbd44e69cb8906b5e555944504c5c0e2\"\n",
    "# id fastq_2_ng = \"bbd44e69cb8906b59b3cb69dc1cd2969\"\n",
    "\n",
    "# FastQC on data xx\n",
    "fastq_output_1 = preprocessing.fastqc('bbd44e69cb8906b5e555944504c5c0e2', history_id='77d77febf1e1394a')\n",
    "fastq_output_2 = preprocessing.fastqc('bbd44e69cb8906b59b3cb69dc1cd2969', history_id='77d77febf1e1394a')"
   ]
  },
  {
   "cell_type": "markdown",
   "metadata": {
    "pycharm": {
     "name": "#%% md\n"
    }
   },
   "source": [
    "You should save the output of the FastQC tool, in order to use it in the next steps. Important here would be the id of the generated dataset. To visualize information about the dataset, you can use the following command."
   ]
  },
  {
   "cell_type": "code",
   "execution_count": null,
   "metadata": {
    "pycharm": {
     "name": "#%%\n"
    }
   },
   "outputs": [],
   "source": [
    "preprocessing.print(fastq_output_1)\n",
    "preprocessing.print(fastq_output_2)"
   ]
  },
  {
   "cell_type": "markdown",
   "metadata": {
    "pycharm": {
     "name": "#%% md\n"
    }
   },
   "source": [
    "To make it as automated as possible, you can use the following code. Because what is going to matter is the id of the dataset created to run future tools."
   ]
  },
  {
   "cell_type": "code",
   "execution_count": null,
   "metadata": {
    "pycharm": {
     "name": "#%%\n"
    }
   },
   "outputs": [],
   "source": [
    "fastq_output_1 = preprocessing.fastqc('bbd44e69cb8906b5e555944504c5c0e2', history_id='77d77febf1e1394a')['outputs']['id'] #save id of fastqc file\n"
   ]
  },
  {
   "cell_type": "markdown",
   "metadata": {
    "pycharm": {
     "name": "#%% md\n"
    }
   },
   "source": [
    "The read sequences are now ready to be used with STAR - they will be aligned against the reference genome.\n",
    "To run it, you need to provide different ids, such as the id of the fastq file, id of the reference genome and also the id of the annotation file."
   ]
  },
  {
   "cell_type": "code",
   "execution_count": null,
   "metadata": {
    "pycharm": {
     "name": "#%%\n"
    }
   },
   "outputs": [],
   "source": [
    "sequence = str(preprocessing.get_dataset_raw(history_id=\"77d77febf1e1394a\", file_name=\"sequence_ng\")['outputs']['id'])\n",
    "annotation = str(preprocessing.get_dataset_raw(history_id=\"77d77febf1e1394a\", file_name=\"annotation_ng\")['outputs']['id'])\n",
    "\n",
    "rna_star = preprocessing.rna_star(tool_params={\"SinglePaired\": \"paired\",\n",
    "                                            \"input1\": \"bbd44e69cb8906b5933e8be1b873a24c\", #fastq_1_ng\n",
    "                                            \"input2\": \"bbd44e69cb8906b5400fadedb4c5aeca\", #fastq2\n",
    "                                            \"FASTAfile\": sequence, #sequence\n",
    "                                            \"genomeSAindexNbases\": \"11\",\n",
    "                                            \"GTFfile\": annotation}, #annotation\n",
    "                                history_id=\"77d77febf1e1394a\")"
   ]
  },
  {
   "cell_type": "markdown",
   "metadata": {
    "pycharm": {
     "name": "#%% md\n"
    }
   },
   "source": [
    "FeatureCounts will be used to quantify the gene expression. It will be runned against the reference genome."
   ]
  },
  {
   "cell_type": "code",
   "execution_count": null,
   "metadata": {
    "pycharm": {
     "name": "#%%\n"
    }
   },
   "outputs": [],
   "source": [
    "feature_counts = preprocessing.feature_counts(tool_params={\"input1\":\"bbd44e69cb8906b5933e8be1b873a24c\", # fastq_1_ng (?)\n",
    "                                          \"GTFfile\": annotation['id']})"
   ]
  },
  {
   "cell_type": "markdown",
   "metadata": {
    "pycharm": {
     "name": "#%% md\n"
    }
   },
   "source": [
    "After the FeatureCounts tool is runned, you will need to convert the results to TPM. To do so, a static method is provided, you will need to download the file created in the previous step."
   ]
  },
  {
   "cell_type": "code",
   "execution_count": null,
   "metadata": {
    "pycharm": {
     "name": "#%%\n"
    }
   },
   "outputs": [],
   "source": [
    "dataset_id = feature_counts['outputs']['id']\n",
    "preprocessing.download_data(dataset_id, file_path=None, use_default_filename=True, require_ok_state=True,\n",
    "                      maxwait=12000)\n",
    "output = preprocessing.calculate_tpm(feature_counts_output, save_path, name_of_file)"
   ]
  },
  {
   "cell_type": "markdown",
   "metadata": {
    "pycharm": {
     "name": "#%% md\n"
    }
   },
   "source": [
    "Upload the TPM to the history."
   ]
  },
  {
   "cell_type": "code",
   "execution_count": null,
   "metadata": {
    "pycharm": {
     "name": "#%%\n"
    }
   },
   "outputs": [],
   "source": [
    "preprocessing.upload_data_history(output, history_id=\"77d77febf1e1394a\", name=\"tpm\", file_type=\"tsv\")"
   ]
  },
  {
   "cell_type": "markdown",
   "metadata": {
    "pycharm": {
     "name": "#%% md\n"
    }
   },
   "source": [
    "Finally, edgeR will be used to analyze the data. Do not forget, again, to run it, you will need to provide the id of the TPM file."
   ]
  },
  {
   "cell_type": "code",
   "execution_count": null,
   "metadata": {
    "pycharm": {
     "name": "#%%\n"
    }
   },
   "outputs": [],
   "source": [
    "### edgeR"
   ]
  },
  {
   "cell_type": "markdown",
   "metadata": {
    "pycharm": {
     "name": "#%% md\n"
    }
   },
   "source": []
  },
  {
   "cell_type": "markdown",
   "metadata": {
    "pycharm": {
     "name": "#%% md\n"
    }
   },
   "source": [
    "At this phase the data is ready to be integrated into a metabolic model. To do so, MewPy will be used, which is a Python library that allows to integrate data into a metabolic model. Two methods were implemented: GIMME and eFlux. To run both of them the gene expression dataset will be necessary (TPM file) to be integrated in a in house GEM.\n"
   ]
  },
  {
   "cell_type": "code",
   "execution_count": 17,
   "metadata": {
    "pycharm": {
     "name": "#%%\n"
    }
   },
   "outputs": [
    {
     "name": "stdout",
     "output_type": "stream",
     "text": [
      "Model loaded\n"
     ]
    }
   ],
   "source": []
  },
  {
   "cell_type": "code",
   "execution_count": 8,
   "metadata": {
    "pycharm": {
     "name": "#%%\n"
    }
   },
   "outputs": [
    {
     "name": "stdout",
     "output_type": "stream",
     "text": [
      "<src.integration.Integration object at 0x7fb8588ce2e0>\n"
     ]
    }
   ],
   "source": []
  },
  {
   "cell_type": "code",
   "execution_count": 16,
   "metadata": {
    "pycharm": {
     "name": "#%%\n"
    }
   },
   "outputs": [
    {
     "ename": "NameError",
     "evalue": "name 'GIMME' is not defined",
     "output_type": "error",
     "traceback": [
      "\u001B[0;31m---------------------------------------------------------------------------\u001B[0m",
      "\u001B[0;31mNameError\u001B[0m                                 Traceback (most recent call last)",
      "\u001B[0;32m<ipython-input-16-3f1ff2105fe0>\u001B[0m in \u001B[0;36m<module>\u001B[0;34m\u001B[0m\n\u001B[0;32m----> 1\u001B[0;31m \u001B[0mmodel\u001B[0m\u001B[0;34m.\u001B[0m\u001B[0mgimme\u001B[0m\u001B[0;34m(\u001B[0m\u001B[0mexpr\u001B[0m\u001B[0;34m=\u001B[0m\u001B[0;34m\"data/inputs/tpm.tsv\"\u001B[0m\u001B[0;34m)\u001B[0m\u001B[0;34m\u001B[0m\u001B[0;34m\u001B[0m\u001B[0m\n\u001B[0m",
      "\u001B[0;32m~/Documents/GitHub/bioinformatics-project/src/integration.py\u001B[0m in \u001B[0;36mgimme\u001B[0;34m(self, expr, biomass, condition, cutoff, growth_frac, constraints, parsimonious, **kwargs)\u001B[0m\n\u001B[1;32m     27\u001B[0m         \u001B[0;34m:\u001B[0m\u001B[0mparam\u001B[0m \u001B[0mcutoff\u001B[0m\u001B[0;34m:\u001B[0m\u001B[0;34m\u001B[0m\u001B[0;34m\u001B[0m\u001B[0m\n\u001B[1;32m     28\u001B[0m         \u001B[0;34m:\u001B[0m\u001B[0mparam\u001B[0m \u001B[0mgrowth_frac\u001B[0m\u001B[0;34m:\u001B[0m\u001B[0;34m\u001B[0m\u001B[0;34m\u001B[0m\u001B[0m\n\u001B[0;32m---> 29\u001B[0;31m         \u001B[0;34m:\u001B[0m\u001B[0mparam\u001B[0m \u001B[0mconstraints\u001B[0m\u001B[0;34m:\u001B[0m\u001B[0;34m\u001B[0m\u001B[0;34m\u001B[0m\u001B[0m\n\u001B[0m\u001B[1;32m     30\u001B[0m         \u001B[0;34m:\u001B[0m\u001B[0mparam\u001B[0m \u001B[0mparsimonious\u001B[0m\u001B[0;34m:\u001B[0m\u001B[0;34m\u001B[0m\u001B[0;34m\u001B[0m\u001B[0m\n\u001B[1;32m     31\u001B[0m         \u001B[0;34m:\u001B[0m\u001B[0mparam\u001B[0m \u001B[0mkwargs\u001B[0m\u001B[0;34m:\u001B[0m\u001B[0;34m\u001B[0m\u001B[0;34m\u001B[0m\u001B[0m\n",
      "\u001B[0;31mNameError\u001B[0m: name 'GIMME' is not defined"
     ]
    }
   ],
   "source": []
  },
  {
   "cell_type": "code",
   "execution_count": 19,
   "metadata": {
    "pycharm": {
     "name": "#%%\n"
    }
   },
   "outputs": [
    {
     "ename": "ValueError",
     "evalue": "The model <builtins.str> has no defined simulator.",
     "output_type": "error",
     "traceback": [
      "\u001B[0;31m---------------------------------------------------------------------------\u001B[0m",
      "\u001B[0;31mValueError\u001B[0m                                Traceback (most recent call last)",
      "\u001B[0;32m<ipython-input-19-14619ea57c1b>\u001B[0m in \u001B[0;36m<module>\u001B[0;34m\u001B[0m\n\u001B[1;32m      5\u001B[0m \u001B[0;34m\u001B[0m\u001B[0m\n\u001B[1;32m      6\u001B[0m \u001B[0mexpr\u001B[0m \u001B[0;34m=\u001B[0m \u001B[0mpd\u001B[0m\u001B[0;34m.\u001B[0m\u001B[0mread_csv\u001B[0m\u001B[0;34m(\u001B[0m\u001B[0;34m\"data/inputs/tpm.tsv\"\u001B[0m\u001B[0;34m,\u001B[0m \u001B[0msep\u001B[0m\u001B[0;34m=\u001B[0m\u001B[0;34m\"\\t\"\u001B[0m\u001B[0;34m)\u001B[0m\u001B[0;34m\u001B[0m\u001B[0;34m\u001B[0m\u001B[0m\n\u001B[0;32m----> 7\u001B[0;31m \u001B[0mGIMME\u001B[0m\u001B[0;34m(\u001B[0m\u001B[0mmodel\u001B[0m\u001B[0;34m=\u001B[0m\u001B[0;34m\"data/inputs/model_ngaditana.xml\"\u001B[0m\u001B[0;34m,\u001B[0m \u001B[0mexpr\u001B[0m\u001B[0;34m=\u001B[0m\u001B[0mexpr\u001B[0m\u001B[0;34m)\u001B[0m\u001B[0;34m\u001B[0m\u001B[0;34m\u001B[0m\u001B[0m\n\u001B[0m\u001B[1;32m      8\u001B[0m \u001B[0;34m\u001B[0m\u001B[0m\n\u001B[1;32m      9\u001B[0m \u001B[0;34m\u001B[0m\u001B[0m\n",
      "\u001B[0;32m~/opt/anaconda3/lib/python3.8/site-packages/mewpy/omics/integration/gimme.py\u001B[0m in \u001B[0;36mGIMME\u001B[0;34m(model, expr, biomass, condition, cutoff, growth_frac, constraints, parsimonious, **kwargs)\u001B[0m\n\u001B[1;32m     35\u001B[0m         \u001B[0msim\u001B[0m \u001B[0;34m=\u001B[0m \u001B[0mmodel\u001B[0m\u001B[0;34m\u001B[0m\u001B[0;34m\u001B[0m\u001B[0m\n\u001B[1;32m     36\u001B[0m     \u001B[0;32melse\u001B[0m\u001B[0;34m:\u001B[0m\u001B[0;34m\u001B[0m\u001B[0;34m\u001B[0m\u001B[0m\n\u001B[0;32m---> 37\u001B[0;31m         \u001B[0msim\u001B[0m \u001B[0;34m=\u001B[0m \u001B[0mget_simulator\u001B[0m\u001B[0;34m(\u001B[0m\u001B[0mmodel\u001B[0m\u001B[0;34m)\u001B[0m\u001B[0;34m\u001B[0m\u001B[0;34m\u001B[0m\u001B[0m\n\u001B[0m\u001B[1;32m     38\u001B[0m \u001B[0;34m\u001B[0m\u001B[0m\n\u001B[1;32m     39\u001B[0m     \u001B[0mpp\u001B[0m \u001B[0;34m=\u001B[0m \u001B[0mPreprocessing\u001B[0m\u001B[0;34m(\u001B[0m\u001B[0msim\u001B[0m\u001B[0;34m,\u001B[0m \u001B[0mexpr\u001B[0m\u001B[0;34m)\u001B[0m\u001B[0;34m\u001B[0m\u001B[0;34m\u001B[0m\u001B[0m\n",
      "\u001B[0;32m~/opt/anaconda3/lib/python3.8/site-packages/mewpy/simulation/__init__.py\u001B[0m in \u001B[0;36mget_simulator\u001B[0;34m(model, envcond, constraints, reference, reset_solver)\u001B[0m\n\u001B[1;32m    146\u001B[0m \u001B[0;34m\u001B[0m\u001B[0m\n\u001B[1;32m    147\u001B[0m     \u001B[0;32mif\u001B[0m \u001B[0;32mnot\u001B[0m \u001B[0minstance\u001B[0m\u001B[0;34m:\u001B[0m\u001B[0;34m\u001B[0m\u001B[0;34m\u001B[0m\u001B[0m\n\u001B[0;32m--> 148\u001B[0;31m         \u001B[0;32mraise\u001B[0m \u001B[0mValueError\u001B[0m\u001B[0;34m(\u001B[0m\u001B[0;34mf\"The model <{name}> has no defined simulator.\"\u001B[0m\u001B[0;34m)\u001B[0m\u001B[0;34m\u001B[0m\u001B[0;34m\u001B[0m\u001B[0m\n\u001B[0m\u001B[1;32m    149\u001B[0m     \u001B[0;32mreturn\u001B[0m \u001B[0minstance\u001B[0m\u001B[0;34m\u001B[0m\u001B[0;34m\u001B[0m\u001B[0m\n\u001B[1;32m    150\u001B[0m \u001B[0;34m\u001B[0m\u001B[0m\n",
      "\u001B[0;31mValueError\u001B[0m: The model <builtins.str> has no defined simulator."
     ]
    }
   ],
   "source": [
    "import pandas as pd\n",
    "from mewpy.omics.integration.gimme import GIMME\n",
    "\n",
    "\n",
    "\n",
    "expr = pd.read_csv(\"data/inputs/tpm.tsv\", sep=\"\\t\")\n",
    "GIMME(model=\"data/inputs/model_ngaditana.xml\", expr=expr)\n",
    "\n",
    "\n"
   ]
  },
  {
   "cell_type": "code",
   "execution_count": 20,
   "metadata": {
    "pycharm": {
     "name": "#%%\n"
    }
   },
   "outputs": [
    {
     "name": "stdout",
     "output_type": "stream",
     "text": [
      "Model loaded\n"
     ]
    },
    {
     "ename": "NameError",
     "evalue": "name 'GIMME' is not defined",
     "output_type": "error",
     "traceback": [
      "\u001B[0;31m---------------------------------------------------------------------------\u001B[0m",
      "\u001B[0;31mNameError\u001B[0m                                 Traceback (most recent call last)",
      "\u001B[0;32m<ipython-input-20-73b1b7f9809a>\u001B[0m in \u001B[0;36m<module>\u001B[0;34m\u001B[0m\n\u001B[1;32m      1\u001B[0m \u001B[0;32mfrom\u001B[0m \u001B[0msrc\u001B[0m\u001B[0;34m.\u001B[0m\u001B[0mintegration\u001B[0m \u001B[0;32mimport\u001B[0m \u001B[0mIntegration\u001B[0m\u001B[0;34m\u001B[0m\u001B[0;34m\u001B[0m\u001B[0m\n\u001B[1;32m      2\u001B[0m \u001B[0mmodel\u001B[0m \u001B[0;34m=\u001B[0m \u001B[0mIntegration\u001B[0m\u001B[0;34m(\u001B[0m\u001B[0mmodel\u001B[0m\u001B[0;34m=\u001B[0m\u001B[0;34m\"data/inputs/model_ngaditana.xml\"\u001B[0m\u001B[0;34m)\u001B[0m\u001B[0;34m\u001B[0m\u001B[0;34m\u001B[0m\u001B[0m\n\u001B[0;32m----> 3\u001B[0;31m \u001B[0mmodel\u001B[0m\u001B[0;34m.\u001B[0m\u001B[0mgimme\u001B[0m\u001B[0;34m(\u001B[0m\u001B[0mexpr\u001B[0m\u001B[0;34m=\u001B[0m\u001B[0;34m\"data/inputs/tpm_ngaditana.tsv\"\u001B[0m\u001B[0;34m)\u001B[0m\u001B[0;34m\u001B[0m\u001B[0;34m\u001B[0m\u001B[0m\n\u001B[0m\u001B[1;32m      4\u001B[0m \u001B[0;34m\u001B[0m\u001B[0m\n",
      "\u001B[0;32m~/Documents/GitHub/bioinformatics-project/src/integration.py\u001B[0m in \u001B[0;36mgimme\u001B[0;34m(self, expr, biomass, condition, cutoff, growth_frac, constraints, parsimonious, **kwargs)\u001B[0m\n\u001B[1;32m     27\u001B[0m         \u001B[0;34m:\u001B[0m\u001B[0mparam\u001B[0m \u001B[0mbiomass\u001B[0m\u001B[0;34m:\u001B[0m\u001B[0;34m\u001B[0m\u001B[0;34m\u001B[0m\u001B[0m\n\u001B[1;32m     28\u001B[0m         \u001B[0;34m:\u001B[0m\u001B[0mparam\u001B[0m \u001B[0mcondition\u001B[0m\u001B[0;34m:\u001B[0m\u001B[0;34m\u001B[0m\u001B[0;34m\u001B[0m\u001B[0m\n\u001B[0;32m---> 29\u001B[0;31m         \u001B[0;34m:\u001B[0m\u001B[0mparam\u001B[0m \u001B[0mcutoff\u001B[0m\u001B[0;34m:\u001B[0m\u001B[0;34m\u001B[0m\u001B[0;34m\u001B[0m\u001B[0m\n\u001B[0m\u001B[1;32m     30\u001B[0m         \u001B[0;34m:\u001B[0m\u001B[0mparam\u001B[0m \u001B[0mgrowth_frac\u001B[0m\u001B[0;34m:\u001B[0m\u001B[0;34m\u001B[0m\u001B[0;34m\u001B[0m\u001B[0m\n\u001B[1;32m     31\u001B[0m         \u001B[0;34m:\u001B[0m\u001B[0mparam\u001B[0m \u001B[0mconstraints\u001B[0m\u001B[0;34m:\u001B[0m\u001B[0;34m\u001B[0m\u001B[0;34m\u001B[0m\u001B[0m\n",
      "\u001B[0;31mNameError\u001B[0m: name 'GIMME' is not defined"
     ]
    }
   ],
   "source": [
    "from src.integration import Integration\n",
    "model = Integration(model=\"data/inputs/model_ngaditana.xml\")\n",
    "model.gimme(expr=\"data/inputs/tpm_ngaditana.tsv\")\n"
   ]
  },
  {
   "cell_type": "code",
   "execution_count": 2,
   "metadata": {
    "pycharm": {
     "name": "#%%\n"
    }
   },
   "outputs": [
    {
     "name": "stdout",
     "output_type": "stream",
     "text": [
      "Set parameter Username\n",
      "Academic license - for non-commercial use only - expires 2022-12-11\n"
     ]
    }
   ],
   "source": [
    "import pandas as pd\n",
    "from reframed.io.sbml import load_cbmodel\n",
    "from mewpy.omics.integration.eflux import eFlux\n",
    "from mewpy.omics.integration.gimme import GIMME\n",
    "import numpy as np\n",
    "import os\n",
    "\n",
    "model = load_cbmodel(\"data/inputs/model_ngaditana.xml\")\n"
   ]
  },
  {
   "cell_type": "code",
   "execution_count": 10,
   "metadata": {
    "pycharm": {
     "name": "#%%\n"
    }
   },
   "outputs": [
    {
     "name": "stdout",
     "output_type": "stream",
     "text": [
      "Model loaded\n",
      "Objective\n",
      "=========\n",
      "1.0 e_Biomass__cytop = 1904.5048036885537\n",
      "\n",
      "Uptake\n",
      "------\n",
      "   Metabolite        Reaction      Flux  C-Number   C-Flux\n",
      " C00001__extr  EX_C00001__dra 7.067E+04         0    0.00%\n",
      " C00009__extr  EX_C00009__dra      2499         0    0.00%\n",
      " C00011__extr  EX_C00011__dra 9.842E+04         1  100.00%\n",
      " C00059__extr  EX_C00059__dra     177.3         0    0.00%\n",
      " C00080__extr  EX_C00080__dra      2676         0    0.00%\n",
      " C00205__extr  EX_C00205__dra     1E+06         0    0.00%\n",
      " C00244__extr  EX_C00244__dra 1.611E+04         0    0.00%\n",
      " C00305__extr  EX_C00305__dra     187.2         0    0.00%\n",
      " C14818__extr  EX_C14818__dra     0.136         0    0.00%\n",
      "\n",
      "Secretion\n",
      "---------\n",
      "       Metabolite            Reaction       Flux  C-Number   C-Flux\n",
      "  photon646__chlo  DM_photon646__chlo -2.655E+05         0    0.00%\n",
      "  photon680__chlo  DM_photon680__chlo -6.486E+04         0    0.00%\n",
      "     C00007__extr      EX_C00007__dra -1.486E+05         0    0.00%\n",
      "     C00027__extr      EX_C00027__dra     -561.5         0    0.00%\n",
      "     C00237__extr      EX_C00237__dra    -0.1972         1  100.00%\n",
      " e_Biomass__cytop   EX_e_Biomass__dra      -1905         0    0.00%\n",
      "\n"
     ]
    }
   ],
   "source": [
    "from src.integration import Integration\n",
    "\n",
    "model1 = Integration(model=\"data/inputs/model_ngaditana.xml\")"
   ]
  },
  {
   "cell_type": "code",
   "execution_count": 16,
   "metadata": {
    "pycharm": {
     "name": "#%%\n"
    }
   },
   "outputs": [],
   "source": [
    "model1.model.solver = \"cplex\""
   ]
  },
  {
   "cell_type": "code",
   "execution_count": 3,
   "metadata": {
    "pycharm": {
     "name": "#%%\n"
    }
   },
   "outputs": [],
   "source": [
    "expr = pd.read_csv('data/inputs/tpm.tsv', sep='\\t')\n",
    "# columns = expr.columns\n",
    "# expr = expr.values\n",
    "# expr.columns\n",
    "expr = pd.DataFrame(expr)\n",
    "#make expr as expressionSet\n",
    "from mewpy.omics.expression import ExpressionSet\n",
    "expr = ExpressionSet"
   ]
  },
  {
   "cell_type": "code",
   "execution_count": 1,
   "metadata": {
    "pycharm": {
     "name": "#%%\n"
    }
   },
   "outputs": [
    {
     "name": "stdout",
     "output_type": "stream",
     "text": [
      "Set parameter Username\n",
      "Academic license - for non-commercial use only - expires 2022-12-11\n"
     ]
    }
   ],
   "source": [
    "from mewpy.omics.expression import ExpressionSet\n",
    "\n"
   ]
  },
  {
   "cell_type": "code",
   "execution_count": 2,
   "metadata": {
    "pycharm": {
     "name": "#%%\n"
    }
   },
   "outputs": [
    {
     "ename": "NameError",
     "evalue": "name 'expr' is not defined",
     "output_type": "error",
     "traceback": [
      "\u001B[0;31m---------------------------------------------------------------------------\u001B[0m",
      "\u001B[0;31mNameError\u001B[0m                                 Traceback (most recent call last)",
      "\u001B[0;32m<ipython-input-2-dae153af1fb4>\u001B[0m in \u001B[0;36m<module>\u001B[0;34m\u001B[0m\n\u001B[1;32m      2\u001B[0m \u001B[0;31m# xpression set. The expression values are a numpy array with shape (len(identifiers) x len(conditions)).\u001B[0m\u001B[0;34m\u001B[0m\u001B[0;34m\u001B[0m\u001B[0;34m\u001B[0m\u001B[0m\n\u001B[1;32m      3\u001B[0m \u001B[0;34m\u001B[0m\u001B[0m\n\u001B[0;32m----> 4\u001B[0;31m \u001B[0mexpr\u001B[0m \u001B[0;34m=\u001B[0m \u001B[0mExpressionSet\u001B[0m\u001B[0;34m(\u001B[0m\u001B[0mexpr\u001B[0m\u001B[0;34m)\u001B[0m\u001B[0;34m\u001B[0m\u001B[0;34m\u001B[0m\u001B[0m\n\u001B[0m",
      "\u001B[0;31mNameError\u001B[0m: name 'expr' is not defined"
     ]
    }
   ],
   "source": []
  },
  {
   "cell_type": "code",
   "execution_count": 23,
   "metadata": {
    "pycharm": {
     "name": "#%%\n"
    }
   },
   "outputs": [
    {
     "ename": "AttributeError",
     "evalue": "'DataFrame' object has no attribute 'get_condition'",
     "output_type": "error",
     "traceback": [
      "\u001B[0;31m---------------------------------------------------------------------------\u001B[0m",
      "\u001B[0;31mAttributeError\u001B[0m                            Traceback (most recent call last)",
      "\u001B[0;32m<ipython-input-23-a5b572b4ff19>\u001B[0m in \u001B[0;36m<module>\u001B[0;34m\u001B[0m\n\u001B[0;32m----> 1\u001B[0;31m \u001B[0meFlux\u001B[0m\u001B[0;34m(\u001B[0m\u001B[0mmodel\u001B[0m\u001B[0;34m=\u001B[0m\u001B[0mmodel\u001B[0m\u001B[0;34m,\u001B[0m \u001B[0mexpr\u001B[0m\u001B[0;34m=\u001B[0m\u001B[0mexpr\u001B[0m\u001B[0;34m)\u001B[0m\u001B[0;34m\u001B[0m\u001B[0;34m\u001B[0m\u001B[0m\n\u001B[0m",
      "\u001B[0;32m~/opt/anaconda3/lib/python3.8/site-packages/mewpy/omics/integration/eflux.py\u001B[0m in \u001B[0;36meFlux\u001B[0;34m(model, expr, condition, scale_rxn, scale_value, constraints, parsimonious, **kwargs)\u001B[0m\n\u001B[1;32m     29\u001B[0m     \u001B[0mpp\u001B[0m \u001B[0;34m=\u001B[0m \u001B[0mPreprocessing\u001B[0m\u001B[0;34m(\u001B[0m\u001B[0msim\u001B[0m\u001B[0;34m,\u001B[0m \u001B[0mexpr\u001B[0m\u001B[0;34m)\u001B[0m\u001B[0;34m\u001B[0m\u001B[0;34m\u001B[0m\u001B[0m\n\u001B[1;32m     30\u001B[0m \u001B[0;34m\u001B[0m\u001B[0m\n\u001B[0;32m---> 31\u001B[0;31m     \u001B[0mrxn_exp\u001B[0m \u001B[0;34m=\u001B[0m \u001B[0mpp\u001B[0m\u001B[0;34m.\u001B[0m\u001B[0mreactions_expression\u001B[0m\u001B[0;34m(\u001B[0m\u001B[0mcondition\u001B[0m\u001B[0;34m)\u001B[0m\u001B[0;34m\u001B[0m\u001B[0;34m\u001B[0m\u001B[0m\n\u001B[0m\u001B[1;32m     32\u001B[0m     \u001B[0mmax_exp\u001B[0m \u001B[0;34m=\u001B[0m \u001B[0mmax\u001B[0m\u001B[0;34m(\u001B[0m\u001B[0mrxn_exp\u001B[0m\u001B[0;34m.\u001B[0m\u001B[0mvalues\u001B[0m\u001B[0;34m(\u001B[0m\u001B[0;34m)\u001B[0m\u001B[0;34m)\u001B[0m\u001B[0;34m\u001B[0m\u001B[0;34m\u001B[0m\u001B[0m\n\u001B[1;32m     33\u001B[0m     \u001B[0mbounds\u001B[0m \u001B[0;34m=\u001B[0m \u001B[0;34m{\u001B[0m\u001B[0;34m}\u001B[0m\u001B[0;34m\u001B[0m\u001B[0;34m\u001B[0m\u001B[0m\n",
      "\u001B[0;32m~/opt/anaconda3/lib/python3.8/site-packages/mewpy/omics/expression.py\u001B[0m in \u001B[0;36mreactions_expression\u001B[0;34m(self, condition, and_func, or_func)\u001B[0m\n\u001B[1;32m    269\u001B[0m \u001B[0;34m\u001B[0m\u001B[0m\n\u001B[1;32m    270\u001B[0m     \u001B[0;32mdef\u001B[0m \u001B[0mreactions_expression\u001B[0m\u001B[0;34m(\u001B[0m\u001B[0mself\u001B[0m\u001B[0;34m,\u001B[0m \u001B[0mcondition\u001B[0m\u001B[0;34m,\u001B[0m \u001B[0mand_func\u001B[0m\u001B[0;34m=\u001B[0m\u001B[0;32mNone\u001B[0m\u001B[0;34m,\u001B[0m \u001B[0mor_func\u001B[0m\u001B[0;34m=\u001B[0m\u001B[0;32mNone\u001B[0m\u001B[0;34m)\u001B[0m\u001B[0;34m:\u001B[0m\u001B[0;34m\u001B[0m\u001B[0;34m\u001B[0m\u001B[0m\n\u001B[0;32m--> 271\u001B[0;31m         \u001B[0mexp\u001B[0m \u001B[0;34m=\u001B[0m \u001B[0mself\u001B[0m\u001B[0;34m.\u001B[0m\u001B[0mdata\u001B[0m\u001B[0;34m.\u001B[0m\u001B[0mget_condition\u001B[0m\u001B[0;34m(\u001B[0m\u001B[0mcondition\u001B[0m\u001B[0;34m,\u001B[0m \u001B[0mformat\u001B[0m\u001B[0;34m=\u001B[0m\u001B[0;34m'dict'\u001B[0m\u001B[0;34m)\u001B[0m\u001B[0;34m\u001B[0m\u001B[0;34m\u001B[0m\u001B[0m\n\u001B[0m\u001B[1;32m    272\u001B[0m         and_func = self._conf.get(\n\u001B[1;32m    273\u001B[0m             'and_func', min) if and_func is None else and_func\n",
      "\u001B[0;32m~/opt/anaconda3/lib/python3.8/site-packages/pandas/core/generic.py\u001B[0m in \u001B[0;36m__getattr__\u001B[0;34m(self, name)\u001B[0m\n\u001B[1;32m   5463\u001B[0m             \u001B[0;32mif\u001B[0m \u001B[0mself\u001B[0m\u001B[0;34m.\u001B[0m\u001B[0m_info_axis\u001B[0m\u001B[0;34m.\u001B[0m\u001B[0m_can_hold_identifiers_and_holds_name\u001B[0m\u001B[0;34m(\u001B[0m\u001B[0mname\u001B[0m\u001B[0;34m)\u001B[0m\u001B[0;34m:\u001B[0m\u001B[0;34m\u001B[0m\u001B[0;34m\u001B[0m\u001B[0m\n\u001B[1;32m   5464\u001B[0m                 \u001B[0;32mreturn\u001B[0m \u001B[0mself\u001B[0m\u001B[0;34m[\u001B[0m\u001B[0mname\u001B[0m\u001B[0;34m]\u001B[0m\u001B[0;34m\u001B[0m\u001B[0;34m\u001B[0m\u001B[0m\n\u001B[0;32m-> 5465\u001B[0;31m             \u001B[0;32mreturn\u001B[0m \u001B[0mobject\u001B[0m\u001B[0;34m.\u001B[0m\u001B[0m__getattribute__\u001B[0m\u001B[0;34m(\u001B[0m\u001B[0mself\u001B[0m\u001B[0;34m,\u001B[0m \u001B[0mname\u001B[0m\u001B[0;34m)\u001B[0m\u001B[0;34m\u001B[0m\u001B[0;34m\u001B[0m\u001B[0m\n\u001B[0m\u001B[1;32m   5466\u001B[0m \u001B[0;34m\u001B[0m\u001B[0m\n\u001B[1;32m   5467\u001B[0m     \u001B[0;32mdef\u001B[0m \u001B[0m__setattr__\u001B[0m\u001B[0;34m(\u001B[0m\u001B[0mself\u001B[0m\u001B[0;34m,\u001B[0m \u001B[0mname\u001B[0m\u001B[0;34m:\u001B[0m \u001B[0mstr\u001B[0m\u001B[0;34m,\u001B[0m \u001B[0mvalue\u001B[0m\u001B[0;34m)\u001B[0m \u001B[0;34m->\u001B[0m \u001B[0;32mNone\u001B[0m\u001B[0;34m:\u001B[0m\u001B[0;34m\u001B[0m\u001B[0;34m\u001B[0m\u001B[0m\n",
      "\u001B[0;31mAttributeError\u001B[0m: 'DataFrame' object has no attribute 'get_condition'"
     ]
    }
   ],
   "source": [
    "eFlux(model=model, expr=expr)"
   ]
  },
  {
   "cell_type": "code",
   "execution_count": null,
   "metadata": {
    "pycharm": {
     "name": "#%%\n"
    }
   },
   "outputs": [],
   "source": []
  },
  {
   "cell_type": "code",
   "execution_count": 4,
   "metadata": {
    "pycharm": {
     "name": "#%%\n"
    }
   },
   "outputs": [
    {
     "ename": "ValueError",
     "evalue": "DataFrame constructor not properly called!",
     "output_type": "error",
     "traceback": [
      "\u001B[0;31m---------------------------------------------------------------------------\u001B[0m",
      "\u001B[0;31mValueError\u001B[0m                                Traceback (most recent call last)",
      "\u001B[0;32m<ipython-input-4-358779533600>\u001B[0m in \u001B[0;36m<module>\u001B[0;34m\u001B[0m\n\u001B[1;32m      3\u001B[0m \u001B[0;32mimport\u001B[0m \u001B[0mpandas\u001B[0m \u001B[0;32mas\u001B[0m \u001B[0mpd\u001B[0m\u001B[0;34m\u001B[0m\u001B[0;34m\u001B[0m\u001B[0m\n\u001B[1;32m      4\u001B[0m \u001B[0;34m\u001B[0m\u001B[0m\n\u001B[0;32m----> 5\u001B[0;31m \u001B[0mexpr\u001B[0m \u001B[0;34m=\u001B[0m \u001B[0mpd\u001B[0m\u001B[0;34m.\u001B[0m\u001B[0mDataFrame\u001B[0m\u001B[0;34m(\u001B[0m\u001B[0mexpr\u001B[0m\u001B[0;34m)\u001B[0m\u001B[0;34m\u001B[0m\u001B[0;34m\u001B[0m\u001B[0m\n\u001B[0m\u001B[1;32m      6\u001B[0m \u001B[0;34m\u001B[0m\u001B[0m\n\u001B[1;32m      7\u001B[0m \u001B[0mindetifiers\u001B[0m\u001B[0;34m:\u001B[0m \u001B[0mlist\u001B[0m \u001B[0;34m=\u001B[0m \u001B[0mexpr\u001B[0m\u001B[0;34m.\u001B[0m\u001B[0mcolumns\u001B[0m\u001B[0;34m\u001B[0m\u001B[0;34m\u001B[0m\u001B[0m\n",
      "\u001B[0;32m~/opt/anaconda3/lib/python3.8/site-packages/pandas/core/frame.py\u001B[0m in \u001B[0;36m__init__\u001B[0;34m(self, data, index, columns, dtype, copy)\u001B[0m\n\u001B[1;32m    588\u001B[0m         \u001B[0;32melse\u001B[0m\u001B[0;34m:\u001B[0m\u001B[0;34m\u001B[0m\u001B[0;34m\u001B[0m\u001B[0m\n\u001B[1;32m    589\u001B[0m             \u001B[0;32mif\u001B[0m \u001B[0mindex\u001B[0m \u001B[0;32mis\u001B[0m \u001B[0;32mNone\u001B[0m \u001B[0;32mor\u001B[0m \u001B[0mcolumns\u001B[0m \u001B[0;32mis\u001B[0m \u001B[0;32mNone\u001B[0m\u001B[0;34m:\u001B[0m\u001B[0;34m\u001B[0m\u001B[0;34m\u001B[0m\u001B[0m\n\u001B[0;32m--> 590\u001B[0;31m                 \u001B[0;32mraise\u001B[0m \u001B[0mValueError\u001B[0m\u001B[0;34m(\u001B[0m\u001B[0;34m\"DataFrame constructor not properly called!\"\u001B[0m\u001B[0;34m)\u001B[0m\u001B[0;34m\u001B[0m\u001B[0;34m\u001B[0m\u001B[0m\n\u001B[0m\u001B[1;32m    591\u001B[0m \u001B[0;34m\u001B[0m\u001B[0m\n\u001B[1;32m    592\u001B[0m             \u001B[0;32mif\u001B[0m \u001B[0;32mnot\u001B[0m \u001B[0mdtype\u001B[0m\u001B[0;34m:\u001B[0m\u001B[0;34m\u001B[0m\u001B[0;34m\u001B[0m\u001B[0m\n",
      "\u001B[0;31mValueError\u001B[0m: DataFrame constructor not properly called!"
     ]
    }
   ],
   "source": [
    "from mewpy.omics.expression import ExpressionSet\n",
    "import numpy as np\n",
    "import pandas as pd\n",
    "\n",
    "expr = pd.DataFrame(expr)\n",
    "\n",
    "indetifiers: list = expr.columns\n",
    "expression: np.ndarray = expr.values\n",
    "conditions: list = expr.index\n",
    "\n"
   ]
  },
  {
   "cell_type": "code",
   "execution_count": 10,
   "metadata": {
    "pycharm": {
     "name": "#%%\n"
    }
   },
   "outputs": [
    {
     "data": {
      "text/plain": [
       "RangeIndex(start=0, stop=1, step=1)"
      ]
     },
     "execution_count": 10,
     "metadata": {},
     "output_type": "execute_result"
    }
   ],
   "source": [
    "expr."
   ]
  },
  {
   "cell_type": "code",
   "execution_count": 8,
   "metadata": {
    "pycharm": {
     "name": "#%%\n"
    }
   },
   "outputs": [
    {
     "ename": "ValueError",
     "evalue": "The shape of the expression (11262, 1) does not match the expression and conditions sizes (1,11262)",
     "output_type": "error",
     "traceback": [
      "\u001B[0;31m---------------------------------------------------------------------------\u001B[0m",
      "\u001B[0;31mValueError\u001B[0m                                Traceback (most recent call last)",
      "\u001B[0;32m<ipython-input-8-ca50c83b188f>\u001B[0m in \u001B[0;36m<module>\u001B[0;34m\u001B[0m\n\u001B[1;32m      2\u001B[0m \u001B[0mexpr_val\u001B[0m \u001B[0;34m=\u001B[0m \u001B[0mnp\u001B[0m\u001B[0;34m.\u001B[0m\u001B[0marray\u001B[0m\u001B[0;34m(\u001B[0m\u001B[0mexpr\u001B[0m\u001B[0;34m.\u001B[0m\u001B[0mvalues\u001B[0m\u001B[0;34m)\u001B[0m\u001B[0;34m\u001B[0m\u001B[0;34m\u001B[0m\u001B[0m\n\u001B[1;32m      3\u001B[0m \u001B[0;34m\u001B[0m\u001B[0m\n\u001B[0;32m----> 4\u001B[0;31m \u001B[0mExpressionSet\u001B[0m\u001B[0;34m(\u001B[0m\u001B[0midentifiers\u001B[0m\u001B[0;34m=\u001B[0m\u001B[0mindetifiers\u001B[0m\u001B[0;34m,\u001B[0m \u001B[0mconditions\u001B[0m\u001B[0;34m=\u001B[0m\u001B[0mconditions\u001B[0m\u001B[0;34m,\u001B[0m \u001B[0mexpression\u001B[0m\u001B[0;34m=\u001B[0m\u001B[0mexpr_val\u001B[0m\u001B[0;34m)\u001B[0m\u001B[0;34m\u001B[0m\u001B[0;34m\u001B[0m\u001B[0m\n\u001B[0m",
      "\u001B[0;32m~/opt/anaconda3/lib/python3.8/site-packages/mewpy/omics/expression.py\u001B[0m in \u001B[0;36m__init__\u001B[0;34m(self, identifiers, conditions, expression, p_values)\u001B[0m\n\u001B[1;32m     23\u001B[0m         \u001B[0mm\u001B[0m \u001B[0;34m=\u001B[0m \u001B[0mlen\u001B[0m\u001B[0;34m(\u001B[0m\u001B[0mconditions\u001B[0m\u001B[0;34m)\u001B[0m\u001B[0;34m\u001B[0m\u001B[0;34m\u001B[0m\u001B[0m\n\u001B[1;32m     24\u001B[0m         \u001B[0;32mif\u001B[0m \u001B[0mexpression\u001B[0m\u001B[0;34m.\u001B[0m\u001B[0mshape\u001B[0m \u001B[0;34m!=\u001B[0m \u001B[0;34m(\u001B[0m\u001B[0mn\u001B[0m\u001B[0;34m,\u001B[0m \u001B[0mm\u001B[0m\u001B[0;34m)\u001B[0m\u001B[0;34m:\u001B[0m\u001B[0;34m\u001B[0m\u001B[0;34m\u001B[0m\u001B[0m\n\u001B[0;32m---> 25\u001B[0;31m             raise ValueError(\n\u001B[0m\u001B[1;32m     26\u001B[0m                 \u001B[0;34mf\"The shape of the expression {expression.shape} does not \"\u001B[0m\u001B[0;34m\u001B[0m\u001B[0;34m\u001B[0m\u001B[0m\n\u001B[1;32m     27\u001B[0m                 f\"match the expression and conditions sizes ({n},{m})\")\n",
      "\u001B[0;31mValueError\u001B[0m: The shape of the expression (11262, 1) does not match the expression and conditions sizes (1,11262)"
     ]
    }
   ],
   "source": [
    "# The expr values are a numpy array with shape (len(identifiers) x len(conditions))\n",
    "expr_val = np.array(expr.values)\n",
    "\n",
    "#ExpressionSet(identifiers=indetifiers, conditions=conditions, expression=expr_val)"
   ]
  },
  {
   "cell_type": "code",
   "execution_count": 11,
   "metadata": {
    "pycharm": {
     "name": "#%%\n"
    }
   },
   "outputs": [
    {
     "ename": "AttributeError",
     "evalue": "'numpy.ndarray' object has no attribute 'values'",
     "output_type": "error",
     "traceback": [
      "\u001B[0;31m---------------------------------------------------------------------------\u001B[0m",
      "\u001B[0;31mAttributeError\u001B[0m                            Traceback (most recent call last)",
      "\u001B[0;32m<ipython-input-11-8f1e8a7875af>\u001B[0m in \u001B[0;36m<module>\u001B[0;34m\u001B[0m\n\u001B[0;32m----> 1\u001B[0;31m \u001B[0mexpr_val\u001B[0m\u001B[0;34m.\u001B[0m\u001B[0mvalues\u001B[0m\u001B[0;34m\u001B[0m\u001B[0;34m\u001B[0m\u001B[0m\n\u001B[0m",
      "\u001B[0;31mAttributeError\u001B[0m: 'numpy.ndarray' object has no attribute 'values'"
     ]
    }
   ],
   "source": [
    "expr_val"
   ]
  },
  {
   "cell_type": "code",
   "execution_count": 5,
   "metadata": {
    "pycharm": {
     "name": "#%%\n"
    }
   },
   "outputs": [
    {
     "ename": "AttributeError",
     "evalue": "'_io.TextIOWrapper' object has no attribute 'columns'",
     "output_type": "error",
     "traceback": [
      "\u001B[0;31m---------------------------------------------------------------------------\u001B[0m",
      "\u001B[0;31mAttributeError\u001B[0m                            Traceback (most recent call last)",
      "\u001B[0;32m<ipython-input-5-8e0e308989dd>\u001B[0m in \u001B[0;36m<module>\u001B[0;34m\u001B[0m\n\u001B[1;32m      5\u001B[0m \u001B[0mexpr\u001B[0m \u001B[0;34m=\u001B[0m \u001B[0mopen\u001B[0m\u001B[0;34m(\u001B[0m\u001B[0;34m'data/inputs/tpm.tsv'\u001B[0m\u001B[0;34m,\u001B[0m \u001B[0;34m'r'\u001B[0m\u001B[0;34m)\u001B[0m\u001B[0;34m\u001B[0m\u001B[0;34m\u001B[0m\u001B[0m\n\u001B[1;32m      6\u001B[0m \u001B[0;34m\u001B[0m\u001B[0m\n\u001B[0;32m----> 7\u001B[0;31m \u001B[0mindetifiers\u001B[0m\u001B[0;34m:\u001B[0m \u001B[0mlist\u001B[0m \u001B[0;34m=\u001B[0m \u001B[0mexpr\u001B[0m\u001B[0;34m.\u001B[0m\u001B[0mcolumns\u001B[0m\u001B[0;34m\u001B[0m\u001B[0;34m\u001B[0m\u001B[0m\n\u001B[0m\u001B[1;32m      8\u001B[0m \u001B[0mexpression\u001B[0m\u001B[0;34m:\u001B[0m \u001B[0mnp\u001B[0m\u001B[0;34m.\u001B[0m\u001B[0mndarray\u001B[0m \u001B[0;34m=\u001B[0m \u001B[0mexpr\u001B[0m\u001B[0;34m.\u001B[0m\u001B[0mvalues\u001B[0m\u001B[0;34m\u001B[0m\u001B[0;34m\u001B[0m\u001B[0m\n\u001B[1;32m      9\u001B[0m \u001B[0mconditions\u001B[0m\u001B[0;34m:\u001B[0m \u001B[0mlist\u001B[0m \u001B[0;34m=\u001B[0m \u001B[0mexpr\u001B[0m\u001B[0;34m.\u001B[0m\u001B[0mindex\u001B[0m\u001B[0;34m\u001B[0m\u001B[0;34m\u001B[0m\u001B[0m\n",
      "\u001B[0;31mAttributeError\u001B[0m: '_io.TextIOWrapper' object has no attribute 'columns'"
     ]
    }
   ],
   "source": [
    "# read expr dataset as numpy array\n",
    "import numpy as np\n",
    "\n",
    "# read expression data as numpy array\n",
    "expr = open('data/inputs/tpm.tsv', 'r')\n",
    "\n",
    "indetifiers: list = expr.columns\n",
    "expression: np.ndarray = expr.values\n",
    "conditions: list = expr.index\n",
    "\n",
    "\n"
   ]
  },
  {
   "cell_type": "code",
   "execution_count": 6,
   "metadata": {
    "pycharm": {
     "name": "#%%\n"
    }
   },
   "outputs": [],
   "source": [
    "#working\n",
    "from mewpy.omics.expression import ExpressionSet\n",
    "import numpy as np\n",
    "import pandas as pd\n",
    "from src.integration import *\n",
    "\n",
    "# read data as numpy array\n",
    "expr = pd.read_csv('data/inputs/tpm.tsv', sep='\\t')\n",
    "\n",
    "# get size of the data\n",
    "n_genes = expr.shape[0]\n"
   ]
  },
  {
   "cell_type": "code",
   "execution_count": 9,
   "metadata": {
    "pycharm": {
     "name": "#%%\n"
    }
   },
   "outputs": [],
   "source": [
    "#working\n",
    "expr[\"Geneid\"] = expr[\"Geneid\"] + \"_RA\"\n",
    "identifiers: list = expr['Geneid'].tolist()\n",
    "conditions: list = ['tpm']\n",
    "expression = expr['tpm'].to_numpy()[:, np.newaxis]\n",
    "\n",
    "set_expression = ExpressionSet(identifiers, conditions, expression)\n"
   ]
  },
  {
   "cell_type": "code",
   "execution_count": 7,
   "metadata": {
    "pycharm": {
     "name": "#%%\n"
    }
   },
   "outputs": [
    {
     "ename": "RuntimeError",
     "evalue": "Solver gurobi not available.",
     "output_type": "error",
     "traceback": [
      "\u001B[1;31m---------------------------------------------------------------------------\u001B[0m",
      "\u001B[1;31mRuntimeError\u001B[0m                              Traceback (most recent call last)",
      "\u001B[1;32m<ipython-input-7-88e75c060f6f>\u001B[0m in \u001B[0;36m<module>\u001B[1;34m\u001B[0m\n\u001B[0;32m      1\u001B[0m \u001B[1;32mimport\u001B[0m \u001B[0mmewpy\u001B[0m\u001B[1;33m\u001B[0m\u001B[1;33m\u001B[0m\u001B[0m\n\u001B[1;32m----> 2\u001B[1;33m \u001B[0mmewpy\u001B[0m\u001B[1;33m.\u001B[0m\u001B[0msimulation\u001B[0m\u001B[1;33m.\u001B[0m\u001B[0mset_default_solver\u001B[0m\u001B[1;33m(\u001B[0m\u001B[1;34m'gurobi'\u001B[0m\u001B[1;33m)\u001B[0m\u001B[1;33m\u001B[0m\u001B[1;33m\u001B[0m\u001B[0m\n\u001B[0m\u001B[0;32m      3\u001B[0m \u001B[0mGIMME\u001B[0m\u001B[1;33m(\u001B[0m\u001B[0mmodel\u001B[0m\u001B[1;33m=\u001B[0m\u001B[0mmodel\u001B[0m\u001B[1;33m,\u001B[0m \u001B[0mexpr\u001B[0m\u001B[1;33m=\u001B[0m\u001B[0mset_expression\u001B[0m\u001B[1;33m)\u001B[0m\u001B[1;33m\u001B[0m\u001B[1;33m\u001B[0m\u001B[0m\n",
      "\u001B[1;32mc:\\users\\bisbii\\onedrive - universidade do minho\\python scripts\\python36\\lib\\site-packages\\mewpy\\simulation\\__init__.py\u001B[0m in \u001B[0;36mset_default_solver\u001B[1;34m(solvername)\u001B[0m\n\u001B[0;32m     67\u001B[0m         \u001B[0mdefault_solver\u001B[0m \u001B[1;33m=\u001B[0m \u001B[0msolvername\u001B[0m\u001B[1;33m.\u001B[0m\u001B[0mlower\u001B[0m\u001B[1;33m(\u001B[0m\u001B[1;33m)\u001B[0m\u001B[1;33m\u001B[0m\u001B[1;33m\u001B[0m\u001B[0m\n\u001B[0;32m     68\u001B[0m     \u001B[1;32melse\u001B[0m\u001B[1;33m:\u001B[0m\u001B[1;33m\u001B[0m\u001B[1;33m\u001B[0m\u001B[0m\n\u001B[1;32m---> 69\u001B[1;33m         \u001B[1;32mraise\u001B[0m \u001B[0mRuntimeError\u001B[0m\u001B[1;33m(\u001B[0m\u001B[1;34mf\"Solver {solvername} not available.\"\u001B[0m\u001B[1;33m)\u001B[0m\u001B[1;33m\u001B[0m\u001B[1;33m\u001B[0m\u001B[0m\n\u001B[0m\u001B[0;32m     70\u001B[0m \u001B[1;33m\u001B[0m\u001B[0m\n\u001B[0;32m     71\u001B[0m \u001B[1;33m\u001B[0m\u001B[0m\n",
      "\u001B[1;31mRuntimeError\u001B[0m: Solver gurobi not available."
     ]
    }
   ],
   "source": [
    "import mewpy\n",
    "mewpy.simulation.set_default_solver('gurobi')\n",
    "GIMME(model=model, expr=set_expression)"
   ]
  },
  {
   "cell_type": "code",
   "execution_count": 8,
   "metadata": {
    "pycharm": {
     "name": "#%%\n"
    }
   },
   "outputs": [],
   "source": [
    "mewpy.simulation.set_default_solver('cplex')"
   ]
  },
  {
   "cell_type": "code",
   "execution_count": 9,
   "metadata": {
    "pycharm": {
     "name": "#%%\n"
    }
   },
   "outputs": [
    {
     "ename": "NameError",
     "evalue": "name 'model' is not defined",
     "output_type": "error",
     "traceback": [
      "\u001B[1;31m---------------------------------------------------------------------------\u001B[0m",
      "\u001B[1;31mNameError\u001B[0m                                 Traceback (most recent call last)",
      "\u001B[1;32m<ipython-input-9-1f8a688cae5d>\u001B[0m in \u001B[0;36m<module>\u001B[1;34m\u001B[0m\n\u001B[1;32m----> 1\u001B[1;33m \u001B[0mmodel\u001B[0m\u001B[1;33m\u001B[0m\u001B[1;33m\u001B[0m\u001B[0m\n\u001B[0m",
      "\u001B[1;31mNameError\u001B[0m: name 'model' is not defined"
     ]
    }
   ],
   "source": [
    "model"
   ]
  },
  {
   "cell_type": "code",
   "execution_count": 9,
   "metadata": {
    "pycharm": {
     "name": "#%%\n"
    }
   },
   "outputs": [],
   "source": [
    "import mewpy\n",
    "mewpy.simulation.set_default_solver('gurobi')\n"
   ]
  },
  {
   "cell_type": "code",
   "execution_count": 18,
   "metadata": {
    "pycharm": {
     "name": "#%%\n"
    }
   },
   "outputs": [
    {
     "name": "stderr",
     "output_type": "stream",
     "text": [
      "/Users/josediogomoura/opt/anaconda3/lib/python3.8/site-packages/mewpy/util/parsing.py:439: FutureWarning: elementwise comparison failed; returning scalar instead, but in the future will perform elementwise comparison\n",
      "  if op[len(self.prefix):] in self.genes_value:\n"
     ]
    },
    {
     "data": {
      "text/plain": [
       "objective: 0.0019045118370562273\n",
       "Status: OPTIMAL\n",
       "Constraints: OrderedDict([('R02434__chlo', (0, 1)), ('T_L_Tyrosine_V2__mitmem', (-1.0, 1.0)), ('TR0011455_PLAS__ermem', (-1.0, 1.0)), ('R01652__cytop', (0, 1.0)), ('R00243__mito', (-1.0, 1.0)), ('PKS_C204__cytop', (0, 1.0)), ('EX_C00188__dra', (0, 1)), ('EX_C05839__dra', (0, 1)), ('R03362__cytop', (0, 1.0)), ('R04537__cytop', (0, 1.0)), ('R02731__cytop', (0, 1.0)), ('TO1000117_PLAS__plas', (0, 1.0)), ('R00010__cytop', (0, 1.0)), ('R07396__chlo', (0, 1.0)), ('R00848__mito', (0, 1.0)), ('T_CoA___chlomem', (-1, 1)), ('R08174__cytop', (0, 1.0)), ('TO1000157_PLAS__plas', (0, 1.0)), ('TO1000060_PLAS__plas', (0, 1.0)), ('R12205__chlo', (0, 1.0)), ('R07084__cytop', (0, 1.0)), ('R07109__cytop', (0, 1.0)), ('R08183__mito', (0, 1.0)), ('R01731__chlo', (0, 1.0)), ('R04355__mito', (0, 1.0)), ('T_UDPG__chlomem', (-1.0, 1.0)), ('R06610__cytop', (0, 1.0)), ('R03479__nucl', (0, 1.0)), ('EX_C00899__dra', (0, 1)), ('R00010__vacu', (0, 1.0)), ('TO0000081_PLAS__ermem', (0, 1.0)), ('TI3000142_PLAS__chlomem', (0, 1.0)), ('R01626__chlo', (0, 1.0)), ('EX_C00181__dra', (0, 1)), ('R10039__cytop', (0, 1.0)), ('R08600__extr', (0, 1.0)), ('R05050__cytop', (0, 1.0)), ('R05616__cytop', (0, 1.0)), ('R00177__cytop', (0, 1.0)), ('R10035__chlo', (0, 1.0)), ('R00188__cytop', (0, 1.0)), ('EX_C01019__dra', (0, 1)), ('R03681__e_r_', (0, 1.0)), ('R00502__cytop', (-1.0, 1.0)), ('R06267__chlo', (0, 1.0)), ('R08190__pero', (0, 1.0)), ('R04566__mito', (0, 1.0)), ('R02250__cytop', (0, 1.0)), ('R08163__cytop', (0, 1.0)), ('R02480__chlo', (0, 1.0)), ('R09540__mito', (0, 1.0)), ('R01954__cytop', (0, 1.0)), ('R07083__e_r_', (0, 1.0)), ('T_7_Dehydrocholesterol__ermem', (-1, 1)), ('R06728__e_r_', (0, 1.0)), ('R05553__cytop', (0, 1.0)), ('R01218__cytop', (0, 1.0)), ('R04716__cytop', (0, 1.0)), ('R03530__cytop', (-1.0, 1.0)), ('R01039__cytop', (0, 1.0)), ('T_Glycolate__chlomem', (-1, 1)), ('R09432__cytop', (-1, 1)), ('R00112__chlo', (0, 1.0)), ('TZ2900041_PLAS__plas', (-1.0, 1.0)), ('R01229__cytop', (0, 1.0)), ('T_AKGMALth__chlomem', (-1.0, 1.0)), ('R00351__pero', (0, 1.0)), ('R06875__e_r_', (0, 1.0)), ('T_L_Aspartate_V1__mitmem', (-1.0, 1.0)), ('R00573__cytop', (0, 1.0)), ('R01641__cytop', (-1.0, 1.0)), ('R03458__chlo', (0, 1.0)), ('R04224__chlo', (0, 1.0)), ('R01220__mito', (0, 1.0)), ('R06867__chlo', (0, 1.0)), ('T_GLX__permem', (0, 1.0)), ('R07024__chlo', (0, 1.0)), ('R02887__cytop', (0, 1.0)), ('R00139__cytop', (0, 1.0)), ('R04463__cytop', (0, 1.0)), ('R02107__cytop', (0, 1.0)), ('R00897__cytop', (0, 1.0)), ('R04955__mito', (0, 1.0)), ('RXN_11887__e_r_', (0, 1.0)), ('R04742__pero', (-1.0, 1.0)), ('R01274__pero', (0, 1.0)), ('R07079__e_r_', (0, 1.0)), ('R10056__nucl', (0, 1.0)), ('R04430__cytop', (0, 1.0)), ('R01216__mito', (0, 1.0)), ('AMOBR__mito', (0, 1.0)), ('R03664__cytop', (0, 1.0)), ('R00344__mito', (0, 1.0)), ('TO0000667_PLAS__plas', (0, 1.0)), ('TO1000054_PLAS__plas', (0, 1.0)), ('R00842__cytop', (-1.0, 1.0)), ('R01786__cytop', (0, 1.0)), ('R01773__chlo', (0, 1.0)), ('R02853__mito', (0, 1.0)), ('R00372__cytop', (-1.0, 1.0)), ('T_Ammonia_V2__mitmem', (-1, 1)), ('R11921__cytop', (0, 1.0)), ('R05637__chlo', (0, 1.0)), ('R08344__e_r_', (0, 1.0)), ('R05616__mito', (0, 1.0)), ('R09465__cytop', (0, 1.0)), ('R10288__chlo', (0, 1.0)), ('R05640__e_r_', (0, 1.0)), ('R00475__pero', (0, 1.0)), ('R02558__cytop', (0, 1.0)), ('R01752__mito', (0, 1.0)), ('EX_C00777__dra', (0, 1)), ('R04749__mito', (-1.0, 1.0)), ('R04208__mito', (0, 1.0)), ('R01361__cytop', (-1.0, 1.0)), ('R08174__mito', (0, 1.0)), ('R04198__chlo', (0, 1.0)), ('R01372__cytop', (0, 1.0)), ('T_OOA__permem', (-1.0, 1.0)), ('R04964__mito', (0, 1.0)), ('TO0000304_PLAS__plas', (0, 1.0)), ('R04798__chlo', (0, 1.0)), ('R03161__cytop', (0, 1.0)), ('R10992__cytop', (0, 1.0)), ('R03313__cytop', (0, 1.0)), ('R00995__mito', (0, 1)), ('R00513__cytop', (0, 1.0)), ('TO1000053_PLAS__plas', (0, 1.0)), ('R02530__chlo', (-1.0, 1.0)), ('R07100__e_r_', (0, 1.0)), ('T_AMETtn__nucmem', (-1, 1)), ('R07364__cytop', (0, 1.0)), ('R00307__cytop', (-1.0, 1.0)), ('T_PNC_V1__permem', (0, 1.0)), ('R00927__cytop', (-1.0, 1.0)), ('R10280__mito', (0, 1.0)), ('R04967__chlo', (0, 1.0)), ('R07215__e_r_', (0, 1.0)), ('R10764__cytop', (-1.0, 1.0)), ('T_Oxygen_V4__permem', (-1, 1)), ('R00658__chlo', (-1.0, 1.0)), ('R10170__mito', (0, 1.0)), ('R08179__mito', (0, 1.0)), ('EX_e_Biomass__dra', (0, 1)), ('R04744__mito', (-1.0, 1.0)), ('R08258__extr', (0, 1.0)), ('R05800__cytop', (0, 1.0)), ('R00155__cytop', (0, 1.0)), ('R00548__chlo', (0, 1.0)), ('EX_C00267__dra', (0, 1)), ('R11099__cytop', (0, 1.0)), ('RXN_11878__e_r_', (0, 1.0)), ('R00513__nucl', (0, 1.0)), ('R04691__cytop', (0, 1.0)), ('R01799__mito', (0, 1.0)), ('R02565__mito', (0, 1.0)), ('R04969__mito', (0, 1.0)), ('R00390__mito', (0, 1.0)), ('PRISM_fluorescent_cool_215W__extr', (0, 1)), ('R07046__e_r_', (0, 1.0)), ('R04533__mito', (0, 1.0)), ('R04756__chlo', (-1.0, 1.0)), ('R02251__chlo', (0, 1.0)), ('T_Hydrogen_V1__chlomem', (-1, 1)), ('R10124__mito', (0, 1.0)), ('R02404__mito', (0, 1.0)), ('R02581__chlo', (0, 1.0)), ('TO1100073_PLAS__plas', (0, 1.0)), ('R04559__cytop', (-1.0, 1.0)), ('R08539__cytop', (0, 1.0)), ('EX_C14818__dra', (-1, 1)), ('T_MALOAAth__chlomem', (0, 1)), ('R05506__mito', (-1.0, 1.0)), ('R07136__cytop', (-1.0, 1.0)), ('R03393__e_r_', (0, 1.0)), ('TO0000021_PLAS__plas', (0, 1)), ('R10245__cytop', (0, 1)), ('TO1000227_PLAS__plas', (0, 1.0)), ('R02691__chlo', (0, 1.0)), ('R03183__cytop', (-1.0, 1.0)), ('R01209__chlo', (0, 1.0)), ('R03346__cytop', (0, 1.0)), ('R04430__chlo', (0, 1.0)), ('TR0011422_PLAS__ermem', (0, 1.0)), ('R03657__mito', (0, 1.0)), ('R03877__mito', (0, 1.0)), ('R10115__mito', (0, 1.0)), ('R01279__pero', (0, 1.0)), ('R01569__cytop', (0, 1.0)), ('R04325__cytop', (0, 1.0)), ('R11101__mito', (0, 1.0)), ('R03664__chlo', (0, 1.0)), ('R03123__cytop', (0, 1.0)), ('T_H2S_V1__mitmem', (-1, 1)), ('R11104__chlo', (0, 1.0)), ('R08094__pero', (0, 1.0)), ('R04144__mito', (0, 1.0)), ('R03661__mito', (0, 1.0)), ('T_L_Asparagine_V1__ermem', (0, 1)), ('R08569__e_r_', (-1.0, 1.0)), ('R02313__cytop', (-1.0, 1.0)), ('R01880__cytop', (0, 1.0)), ('R03217__mito', (0, 1.0)), ('R04536__chlo', (0, 1.0)), ('R12024__mito', (-1.0, 1.0)), ('EX_C00041__dra', (0, 1)), ('R10039__extr', (0, 1.0)), ('R04203__mito', (-1.0, 1.0)), ('R08220__extr', (0, 1.0)), ('TO1100709_PLAS__plas', (0, 1.0)), ('R01547__cytop', (-1.0, 1.0)), ('R00472__mito', (0, 1.0)), ('RXN_14485__e_r_', (0, 1.0)), ('R01010__cytop', (0, 1.0)), ('R04831__mito', (0, 1.0)), ('R11372__mito', (0, 1.0)), ('R01059__chlo', (0, 1.0)), ('R03165__chlo', (0, 1.0)), ('R04726__mito', (0, 1.0)), ('R02106__mito', (0, 1.0)), ('R01858__mito', (0, 1.0)), ('PKS_C185__cytop', (0, 1.0)), ('R00662__chlo', (0, 1.0)), ('PRISM_solar_litho__extr', (0, 1)), ('R00751__mito', (-1.0, 1.0)), ('TO1000226_PLAS__plas', (0, 1.0)), ('R04770__cytop', (0, 1.0)), ('R05799__cytop', (0, 1.0)), ('EX_C00027__dra', (0, 1)), ('R00014__mito', (0, 1.0)), ('R02057__golg', (0, 1.0)), ('R03530__chlo', (-1.0, 1.0)), ('R00087__cytop', (0, 1)), ('R02976__cytop', (0, 1.0)), ('R09409__e_r_', (0, 1.0)), ('TI3000022_PLAS__plas', (0, 1.0)), ('R00335__nucl', (0, 1)), ('TO1025981_PLAS__plas', (0, 1.0)), ('R07481__e_r_', (0, 1.0)), ('T_FAD__chlomem', (-1, 1)), ('R04941__mito', (0, 1.0)), ('R04998__e_r_', (0, 1.0)), ('R04463__chlo', (0, 1.0)), ('R05548__cytop', (0, 1.0)), ('R03471__chlo', (0, 1.0)), ('R04170__pero', (-1.0, 1.0)), ('R05202__cytop', (0, 1.0)), ('R02840__e_r_', (0, 1.0)), ('T_Tetradecanoic_acid__chlomem', (0, 1)), ('R04552__mito', (-1.0, 1.0)), ('R07092__e_r_', (0, 1.0)), ('EX_C00077__dra', (0, 1)), ('R12391__mito', (0, 1.0)), ('R07052__chlo', (0, 1.0)), ('R09404__e_r_', (0, 1.0)), ('T_Methanol__mitmem', (-1, 1)), ('R10993__chlo', (0, 1.0)), ('R03283__cytop', (0, 1.0)), ('R07263__pero', (0, 1.0)), ('R02530__cytop', (-1.0, 1.0)), ('R03050__chlo', (0, 1.0)), ('R04801__chlo', (-1.0, 1.0)), ('R00236__chlo', (0, 1.0)), ('R05578__chlo', (0, 1.0)), ('R04962__chlo', (0, 1.0)), ('T_Farnesyl_diphosphate__chlomem', (-1, 1)), ('e_Cofactor__cytop', (0, 1)), ('TO1102611_PLAS__plas', (0, 1.0)), ('T_L_Tyrosine_V1__vacmem', (0, 1.0)), ('R00209__chlo', (0, 1.0)), ('R02063__chlo', (0, 1.0)), ('R03067__cytop', (0, 1.0)), ('R03352__pero', (0, 1.0)), ('R05688__chlo', (0, 1.0)), ('R01185__mito', (0, 1.0)), ('R04591__cytop', (0, 1.0)), ('R11044__e_r_', (0, 1.0)), ('R00515__chlo', (0, 1.0)), ('RXN_21836__e_r_', (0, 1.0)), ('R09394__mito', (0, 1.0)), ('R01274__chlo', (0, 1.0)), ('R10118__cytop', (0, 1.0)), ('R05320__chlo', (0, 1.0)), ('R11891__cytop', (0, 1.0)), ('R03596__cytop', (0, 1.0)), ('R04804__e_r_', (0, 1.0)), ('R00899__nucl', (0, 1.0)), ('R01775__cytop', (0, 1.0)), ('R00316__mito', (0, 1.0)), ('R06517__e_r_', (0, 1.0)), ('R00987__cytop', (0, 1.0)), ('T_CO2_V5__nucmem', (-1, 1)), ('R04928__cytop', (0, 1.0)), ('PEROX__pero', (0, 1)), ('R00925__mito', (0, 1.0)), ('T_AHCYStn__nucmem', (-1, 1)), ('EX_C05361__dra', (0, 1)), ('R12479__golg', (0, 1.0)), ('T__5Z_8Z_11Z_14Z_17Z__Icosapentaenoyl_CoA__ermem', (0, 1)), ('R07055__e_r_', (0, 1.0)), ('R00897__chlo', (0, 1.0)), ('R02484__cytop', (-1.0, 1.0)), ('R08391__chlo', (0, 1.0)), ('R11100__cytop', (0, 1.0)), ('TR2000009_PLAS__mitmem', (0, 1.0)), ('EX_C00073__dra', (0, 1)), ('TO1000259_PLAS__plas', (0, 1.0)), ('R03270__chlo', (0, 1.0)), ('TZ2900034_PLAS__plas', (0, 1.0)), ('R01354__mito', (0, 1.0)), ('R00965__cytop', (0, 1.0)), ('R00705__mito', (0, 1.0)), ('R00904__chlo', (0, 1.0)), ('R03827__cytop', (0, 1.0)), ('R04866__cytop', (0, 1.0)), ('R10057__e_r_', (0, 1.0)), ('EX_C00217__dra', (0, 1)), ('R10563__cytop', (0, 1.0)), ('R01498__e_r_', (0, 1.0)), ('R07004__e_r_', (0, 1.0)), ('R10092__cytop', (-1.0, 1.0)), ('R00943__cytop', (0, 1.0)), ('R00206__mito', (-1.0, 1.0)), ('R04682__e_r_', (0, 1.0)), ('R02543__e_r_', (0, 1.0)), ('EX_C12650__dra', (0, 1)), ('R01187__chlo', (0, 1.0)), ('T_Glycine_V1__mitmem', (-1.0, 1.0)), ('EX_C07446__dra', (0, 1)), ('R02093__mito', (0, 1.0)), ('R07978__cytop', (0, 1.0)), ('R09067__chlo', (0, 1.0)), ('R04001__mito', (-1.0, 1.0)), ('R02283__chlo', (-1.0, 1.0)), ('PKS_C82__cytop', (0, 1.0)), ('R00904__cytop', (0, 1.0)), ('RXN_16380__e_r_', (0, 1.0)), ('R01466__chlo', (0, 1.0)), ('R02017__cytop', (0, 1.0)), ('R12657__mito', (0, 1.0)), ('R04580__cytop', (0, 1.0)), ('R03045__cytop', (-1, 1)), ('EX_C02805__dra', (0, 1)), ('R07274__cytop', (0, 1.0)), ('R03428__nucl', (0, 1.0)), ('R11804__chlo', (0, 1.0)), ('R09405__chlo', (0, 1.0)), ('R08280__e_r_', (0, 1.0)), ('R03697__chlo', (0, 1.0)), ('TO1100190_PLAS__plas', (0, 1.0)), ('TI3000930_PLAS__plas', (0, 1.0)), ('R10436__golg', (0, 1.0)), ('R08091__mito', (-1.0, 1.0)), ('R02326__mito', (0, 1.0)), ('R03648__cytop', (0, 1.0)), ('R07606__cytop', (0, 1)), ('R09958__mito', (0, 1.0)), ('R02094__mito', (-1.0, 1.0)), ('R02294__cytop', (-1.0, 1.0)), ('TO0000246_PLAS__vacmem', (0, 1.0)), ('R00434__cytop', (0, 1.0)), ('R00129__mito', (0, 1.0)), ('T_CO2_V1__chlomem', (-1, 1)), ('T_L_Ascorbate__chlomem', (-1, 1)), ('R03659__cytop', (0, 1.0)), ('R10122__cytop', (0, 1.0)), ('R02488__mito', (0, 1.0)), ('R02549__chlo', (0, 1.0)), ('R07023__e_r_', (0, 1.0)), ('PKS_C163__cytop', (0, 1.0)), ('R12172__e_r_', (0, 1.0)), ('TO1000274_PLAS__plas', (0, 1.0)), ('R00494__pero', (0, 1.0)), ('EX_C16641__dra', (0, 1)), ('TZ2900002_PLAS__vacmem', (0, 1.0)), ('R02487__mito', (0, 1.0)), ('T_Diphosphate__ermem', (-1, 1)), ('EX_C00070__dra', (0, 1)), ('R09477__cytop', (0, 1.0)), ('R04946__mito', (0, 1.0)), ('R08390__e_r_', (0, 1.0)), ('R00531__mito', (0, 1.0)), ('R01665__mito', (0, 1.0)), ('R01827__cytop', (-1.0, 1.0)), ('R03197__chlo', (0, 1.0)), ('R04998__vacu', (0, 1.0)), ('T_URATEtm__mitmem', (-1, 1)), ('R03036__chlo', (0, 1.0)), ('R00899__mito', (0, 1.0)), ('R10039__e_r_', (0, 1.0)), ('R07116__chlo', (0, 1.0)), ('PKS_C60__cytop', (0, 1.0)), ('R04506__mito', (0, 1.0)), ('R01071__cytop', (-1.0, 1.0)), ('R03971__cytop', (0, 1.0)), ('R09737__mito', (0, 1.0)), ('R00702__e_r_', (0, 1.0)), ('R02047__mito', (0, 1.0)), ('R02093__cytop', (0, 1.0)), ('R01021__cytop', (0, 1.0)), ('R07070__chlo', (0, 1.0)), ('R00582__mito', (0, 1.0)), ('EX_C05688__dra', (0, 1)), ('R08267__e_r_', (0, 1.0)), ('R10039__vacu', (0, 1.0)), ('R04747__pero', (-1.0, 1.0)), ('R08733__cytop', (0, 1.0)), ('T_OAAICITtm__mitmem', (-1.0, 1.0)), ('R02098__mito', (-1.0, 1.0)), ('T_CO__plas', (-1, 1)), ('T_L_Threonine__chlomem', (-1.0, 1.0)), ('R00424__chlo', (0, 1.0)), ('T_CMP_V3__golmem', (-1, 1)), ('TO1000751_PLAS__plas', (0, 1.0)), ('R01626__cytop', (0, 1.0)), ('R04960__cytop', (0, 1.0)), ('R04100__pero', (-1.0, 1.0)), ('R07509__e_r_', (0, 1.0)), ('R00089__nucl', (0, 1.0)), ('R08237__cytop', (0, 1.0)), ('R12173__e_r_', (0, 1.0)), ('R11319__cytop', (-1.0, 1.0)), ('R02327__nucl', (0, 1.0)), ('e_Lipid__cytop', (0, 1)), ('R08177__pero', (0, 1.0)), ('R02408__cytop', (0, 1.0)), ('R04681__e_r_', (0, 1.0)), ('R11308__cytop', (0, 1.0)), ('R01070__mito', (-1.0, 1.0)), ('R00277__cytop', (0, 1.0)), ('R03469__cytop', (0, 1.0)), ('R07945__chlo', (0, 1.0)), ('R00362__mito', (0, 1.0)), ('R01054__cytop', (0, 1.0)), ('R04956__cytop', (0, 1.0)), ('R04170__chlo', (-1.0, 1.0)), ('T_Ammonia_V4__ermem', (-1, 1)), ('R12017__chlo', (0, 1.0)), ('R12169__e_r_', (0, 1.0)), ('EX_C00159__dra', (0, 1)), ('R05575__mito', (-1.0, 1.0)), ('R07896__pero', (-1.0, 1.0)), ('R03659__chlo', (0, 1.0)), ('TZ2900003_PLAS__plas', (-1.0, 1.0)), ('TO3000696_PLAS__plas', (0, 1.0)), ('R11319__chlo', (-1.0, 1.0)), ('R02558__extr', (0, 1.0)), ('R01939__cytop', (-1.0, 1.0)), ('R01843__cytop', (0, 1.0)), ('R03083__cytop', (0, 1.0)), ('R07627__cytop', (0, 1.0)), ('R07043__chlo', (0, 1.0)), ('R07943__e_r_', (0, 1.0)), ('TZ2900023_PLAS__chlomem', (-1.0, 1.0)), ('T_OAACITtm__mitmem', (-1.0, 1.0)), ('R00926__mito', (0, 1.0)), ('T_Hydrogen_Peroxide_V2__chlomem', (-1, 1)), ('R08280__cytop', (0, 1.0)), ('TI3001536_PLAS__plas', (0, 1.0)), ('R07051__chlo', (0, 1.0)), ('TR0000020_PLAS__mitmem', (0, 1.0)), ('R10546__cytop', (0, 1.0)), ('R00127__chlo', (-1.0, 1.0)), ('EX_C00080__dra', (-1, 1)), ('R00143__cytop', (0, 1)), ('R02356__chlo', (0, 1.0)), ('T_Diphosphate_V1__permem', (-1, 1)), ('R08249__e_r_', (0, 1.0)), ('R06982__cytop', (0, 1)), ('R03472__chlo', (0, 1.0)), ('TO1000275_PLAS__plas', (0, 1.0)), ('EX_C00328__dra', (0, 1)), ('T__6Z_9Z_12Z__Hexadecatrienoyl_CoA__ermem', (0, 1)), ('R06865__mito', (0, 1.0)), ('RXN_12777__e_r_', (0, 1.0)), ('R10633__mito', (0, 1.0)), ('EX_C06232__dra', (0, 1)), ('R08945__cytop', (0, 1.0)), ('R11099__mito', (0, 1.0)), ('R04847__e_r_', (0, 1.0)), ('T_Tetrahydrofolate__chlomem', (0, 1.0)), ('R00514__cytop', (0, 1.0)), ('R03314__cytop', (0, 1)), ('R00742__cytop', (0, 1.0)), ('R02334__cytop', (0, 1.0)), ('R02892__e_r_', (0, 1.0)), ('TR2000137_PLAS__mitmem', (-1.0, 1.0)), ('R09420__mito', (0, 1.0)), ('R08954__e_r_', (0, 1.0)), ('R00684__cytop', (0, 1.0)), ('R03088__chlo', (0, 1.0)), ('R07098__e_r_', (0, 1.0)), ('R00239__cytop', (0, 1.0)), ('R06522__chlo', (0, 1.0)), ('R05165__chlo', (0, 1.0)), ('e_RNA__cytop', (0, 1)), ('R07056__chlo', (0, 1.0)), ('RXN_12997__e_r_', (0, 1.0)), ('R12427__mito', (0, 1.0)), ('R07135__cytop', (-1.0, 1.0)), ('TI2000430_PLAS__plas', (0, 1.0)), ('R06960__cytop', (-1.0, 1.0)), ('R08162__cytop', (0, 1.0)), ('R06286__chlo', (0, 1.0)), ('EX_C03855__dra', (0, 1)), ('R00357__cytop', (0, 1)), ('R07396__cytop', (0, 1.0)), ('R03777__mito', (0, 1.0)), ('R04543__mito', (0, 1.0)), ('TO1000588_PLAS__plas', (0, 1.0)), ('R08258__cytop', (0, 1.0)), ('R01082__chlo', (-1.0, 1.0)), ('R00569__golg', (0, 1.0)), ('TI3000282_PLAS__ermem', (0, 1.0)), ('R04137__chlo', (-1.0, 1.0)), ('R02208__e_r_', (0, 1.0)), ('TR2000106_PLAS__chlomem', (0, 1.0)), ('TO1000085_PLAS__plas', (0, 1.0)), ('R03552__nucl', (0, 1.0)), ('R07009__cytop', (0, 1)), ('TR2900003_PLAS__mitmem', (-1.0, 1.0)), ('R05615__cytop', (0, 1.0)), ('R09381__e_r_', (0, 1.0)), ('R05046__cytop', (0, 1.0)), ('R04957__chlo', (0, 1.0)), ('R07606__chlo', (0, 1.0)), ('EX_C08334__dra', (0, 1)), ('R05002__cytop', (0, 1.0)), ('R07897__mito', (-1.0, 1.0)), ('R02035__chlo', (0, 1.0)), ('R00959__cytop', (-1.0, 1.0)), ('R00465__chlo', (-1.0, 1.0)), ('R03968__mito', (0, 1.0)), ('R01899__mito', (-1.0, 1.0)), ('R04681__cytop', (0, 1.0)), ('RXN_13298__e_r_', (0, 1.0)), ('EX_C00378__dra', (0, 1)), ('R07080__chlo', (0, 1.0)), ('R07889__mito', (-1.0, 1.0)), ('R02372__cytop', (0, 1.0)), ('R10991__cytop', (0, 1.0)), ('R04737__pero', (-1.0, 1.0)), ('EX_C11004__dra', (0, 1)), ('R04536__cytop', (0, 1.0)), ('R02078__cytop', (0, 1.0)), ('R00706__mito', (0, 1.0)), ('R01492__mito', (0, 1.0)), ('R04738__chlo', (-1.0, 1.0)), ('T_H2O_V2__mitmem', (-1, 1)), ('R07267__chlo', (0, 1.0)), ('R05731__e_r_', (0, 1.0)), ('R03654__chlo', (0, 1.0)), ('EX_C00088__dra', (0, 1)), ('R01401__cytop', (0, 1.0)), ('R04429__mito', (0, 1.0)), ('R11043__e_r_', (0, 1.0)), ('R01827__chlo', (-1.0, 1.0)), ('R07083__cytop', (0, 1.0)), ('T_UMP__chlomem', (-1, 1)), ('R02241__e_r_', (0, 1.0)), ('R00710__mito', (0, 1.0)), ('R08312__chlo', (0, 1.0)), ('RXN_21837__e_r_', (0, 1)), ('R06366__mito', (0, 1.0)), ('R07048__chlo', (0, 1.0)), ('R07113__cytop', (0, 1.0)), ('T_ADP__chlomem', (-1.0, 1.0)), ('R01049__chlo', (0, 1.0)), ('R00885__cytop', (0, 1)), ('R09653__chlo', (0, 1.0)), ('T_AKGICITtm__mitmem', (-1.0, 1.0)), ('R07136__mito', (-1.0, 1.0)), ('R00115__mito', (0, 1.0)), ('R11262__cytop', (0, 1)), ('T_SAMT1_V1__mitmem', (-1, 1)), ('T_CMP__chlomem', (-1, 1)), ('R12423__mito', (0, 1.0)), ('R07898__mito', (-1.0, 1.0)), ('T_alpha_D_Glucose__ermem', (0, 1)), ('R01519__cytop', (0, 1.0)), ('R00192__cytop', (-1.0, 1.0)), ('R03674__cytop', (0, 1)), ('R00187__cytop', (0, 1.0)), ('R01101__cytop', (0, 1.0)), ('R00274__chlo', (0, 1.0)), ('R02568__chlo', (-1.0, 1.0)), ('R10633__nucl', (0, 1.0)), ('R09366__mito', (0, 1.0)), ('R00335__cytop', (0, 1.0)), ('R02133__cytop', (0, 1.0)), ('R09735__cytop', (0, 1.0)), ('R10953__cytop', (-1.0, 1.0)), ('R04929__cytop', (0, 1.0)), ('R00156__mito', (0, 1.0)), ('TO3000773_PLAS__plas', (0, 1.0)), ('R01281__e_r_', (0, 1.0)), ('TZ3101427_PLAS__plas', (0, 1.0)), ('R06272__chlo', (-1.0, 1.0)), ('EX_C05684__dra', (0, 1)), ('EX_G00012__dra', (0, 1)), ('R07762__chlo', (-1.0, 1.0)), ('R00287__chlo', (0, 1.0)), ('DEDOLP2__chlo', (0, 1.0)), ('R02906__cytop', (-1, 1)), ('R00330__mito', (0, 1.0)), ('R00662__cytop', (0, 1)), ('R00021__chlo', (0, 1.0)), ('T_L_Threonine_V1__mitmem', (-1.0, 1.0)), ('T_5_Deoxyadenosine_V1__mitmem', (-1, 1)), ('R00028__cytop', (0, 1.0)), ('TR2000129_PLAS__mitmem', (0, 1.0)), ('R01138__mito', (0, 1.0)), ('R01194__cytop', (0, 1.0)), ('TZ3100045_PLAS__ermem', (0, 1.0)), ('R02408__mito', (0, 1.0)), ('R08632__cytop', (0, 1.0)), ('R01470__extr', (0, 1.0)), ('R07085__chlo', (0, 1.0)), ('R07093__e_r_', (0, 1.0)), ('R07000__e_r_', (0, 1.0)), ('R00659__chlo', (0, 1.0)), ('TZ3100041_E_R___ermem', (0, 1.0)), ('R08310__cytop', (-1.0, 1.0)), ('ATPase__chlo', (-1, 1)), ('R01030__extr', (0, 1.0)), ('R02199__cytop', (-1.0, 1.0)), ('R05633__chlo', (0, 1.0)), ('R00900__chlo', (-1.0, 1.0)), ('R04204__mito', (0, 1.0)), ('EX_C00870__dra', (0, 1)), ('EX_C00038__dra', (0, 1)), ('R03416__extr', (0, 1.0)), ('R01700__mito', (0, 1.0)), ('R00127__cytop', (-1.0, 1.0)), ('EX_C00385__dra', (0, 1)), ('R06722__golg', (0, 1.0)), ('R08287__chlo', (0, 1.0)), ('R01857__mito', (0, 1.0)), ('R02570__mito', (0, 1.0)), ('EX_C04438__dra', (0, 1)), ('R00833__mito', (-1.0, 1.0)), ('R03652__cytop', (0, 1.0)), ('R08345__chlo', (0, 1.0)), ('TO3000350_PLAS__plas', (0, 1.0)), ('R08175__cytop', (0, 1.0)), ('R12459__cytop', (0, 1.0)), ('TO3000759_PLAS__plas', (0, 1.0)), ('R07891__pero', (-1.0, 1.0)), ('R00935__mito', (0, 1.0)), ('R09658__chlo', (0, 1.0)), ('R07108__cytop', (0, 1.0)), ('TO1000258_PLAS__plas', (0, 1.0)), ('R05069__chlo', (-1.0, 1.0)), ('R00105__cytop', (0, 1.0)), ('R01395__cytop', (0, 1.0)), ('EX_C07073__dra', (0, 1)), ('R00275__mito', (0, 1.0)), ('R03991__mito', (-1.0, 1.0)), ('EX_C00116__dra', (0, 1)), ('R09442__cytop', (0, 1)), ('R01351__cytop', (0, 1.0)), ('R03330__cytop', (0, 1.0)), ('RXN_21831__e_r_', (0, 1)), ('R09420__cytop', (0, 1.0)), ('R07890__pero', (-1.0, 1.0)), ('R05441__cytop', (0, 1.0)), ('R02832__cytop', (-1.0, 1.0)), ('R01185__golg', (0, 1.0)), ('R04638__cytop', (0, 1.0)), ('TO3000351_CHLO__chlomem', (0, 1.0)), ('R09365__cytop', (-1.0, 1.0)), ('R08249__extr', (0, 1.0)), ('R02199__mito', (-1.0, 1.0)), ('R01018__cytop', (0, 1.0)), ('R04035__cytop', (0, 1.0)), ('T_L_Leucine__chlomem', (-1.0, 1.0)), ('R02737__cytop', (0, 1.0)), ('R00342__pero', (-1.0, 1.0)), ('R03503__cytop', (0, 1.0)), ('R08249__cytop', (0, 1.0)), ('R05070__chlo', (0, 1.0)), ('R03636__cytop', (0, 1.0)), ('DM_photon450__chlo', (0, 1)), ('R00967__nucl', (0, 1.0)), ('R02558__vacu', (0, 1.0)), ('R01716__cytop', (0, 1.0)), ('EX_C05143__dra', (0, 1)), ('TI3001537_PLAS__plas', (0, 1.0)), ('R00289__cytop', (-1.0, 1.0)), ('R02094__cytop', (-1.0, 1.0)), ('TO0000367_PLAS__vacmem', (0, 1.0)), ('R04391__mito', (0, 1.0)), ('R01547__nucl', (-1.0, 1.0)), ('R02558__e_r_', (0, 1.0)), ('R08286__cytop', (0, 1)), ('T_MAL_L__permem', (-1.0, 1.0)), ('R07084__chlo', (0, 1.0)), ('R01132__cytop', (0, 1.0)), ('R08409__chlo', (0, 1.0)), ('R11010__e_r_', (0, 1.0)), ('R08270__e_r_', (0, 1.0)), ('R00366__cytop', (0, 1.0)), ('R05988__golg', (0, 1.0)), ('R04171__cytop', (0, 1.0)), ('R05692__cytop', (0, 1.0)), ('R02940__mito', (0, 1.0)), ('T_L_Histidine__chlomem', (-1.0, 1.0)), ('R07765__mito', (0, 1.0)), ('R04143__pero', (0, 1.0)), ('R01092__cytop', (0, 1.0)), ('R11098__mito', (0, 1.0)), ('R02569__mito', (0, 1.0)), ('R01658__cytop', (0, 1.0)), ('R03026__chlo', (-1.0, 1.0)), ('R01070__cytop', (-1.0, 1.0)), ('R04739__mito', (-1.0, 1.0)), ('R02661__mito', (0, 1.0)), ('R00619__cytop', (0, 1.0)), ('T_Aminoimidazole_ribotide__chlomem', (-1, 1)), ('TO1003193_PLAS__plas', (0, 1.0)), ('TR0000049_CHLO__chlomem', (-1.0, 1.0)), ('R03970__cytop', (0, 1.0)), ('T_CoA_V1__mitmem', (0, 1.0)), ('R04972__cytop', (0, 1.0)), ('EX_C01594__dra', (0, 1)), ('R09538__cytop', (0, 1.0)), ('R04420__pero', (-1.0, 1.0)), ('R01890__cytop', (0, 1.0)), ('R02988__cytop', (0, 1.0)), ('R04956__mito', (0, 1.0)), ('R07602__mito', (0, 1.0)), ('R03658__cytop', (0, 1.0)), ('R10035__extr', (0, 1.0)), ('R01547__mito', (-1.0, 1.0)), ('RXN_12753__mito', (0, 1)), ('T_Farnesyl_diphosphate_V1__ermem', (-1, 1)), ('EX_C00221__dra', (0, 1)), ('R00430__mito', (0, 1.0)), ('R01392__chlo', (0, 1.0)), ('R01108__chlo', (0, 1.0)), ('R07895__pero', (-1.0, 1.0)), ('R04738__pero', (-1.0, 1.0)), ('R03337__mito', (0, 1)), ('T_L_Lysine_V1__mitmem', (-1.0, 1.0)), ('R03479__cytop', (0, 1.0)), ('R05884__chlo', (0, 1.0)), ('R04958__chlo', (0, 1.0)), ('R04109__chlo', (0, 1.0)), ('R01518__mito', (-1.0, 1.0)), ('R08190__cytop', (0, 1.0)), ('R03596__chlo', (0, 1.0)), ('TO1100105_PLAS__plas', (0, 1.0)), ('R01325__mito', (-1.0, 1.0)), ('EX_C04233__dra', (0, 1)), ('R02240__e_r_', (0, 1.0)), ('T_Ammonia_V5__nucmem', (-1, 1)), ('R10074__mito', (0, 1.0)), ('R00483__cytop', (0, 1.0)), ('R01361__pero', (-1.0, 1.0)), ('R07763__mito', (0, 1.0)), ('R01890__nucl', (0, 1.0)), ('TI3000049_E_R___ermem', (0, 1.0)), ('R00999__mito', (0, 1.0)), ('R07459__chlo', (0, 1.0)), ('R08192__mito', (0, 1.0)), ('R02473__mito', (0, 1.0)), ('R04558__cytop', (0, 1.0)), ('T_ACATN__ermem', (-1.0, 1.0)), ('R00245__cytop', (0, 1.0)), ('R01011__cytop', (0, 1.0)), ('R01333__cytop', (0, 1)), ('R02088__cytop', (0, 1.0)), ('R03457__cytop', (0, 1.0)), ('R04953__chlo', (0, 1.0)), ('R03401__pero', (-1.0, 1.0)), ('EX_C00062__dra', (0, 1)), ('PKS_C184__cytop', (0, 1.0)), ('R05333__e_r_', (0, 1.0)), ('EX_C00392__dra', (0, 1)), ('R01234__cytop', (0, 1.0)), ('T_beta_Alanine__mitmem', (-1, 1)), ('R09418__e_r_', (0, 1.0)), ('R11644__e_r_', (0, 1.0)), ('R04867__cytop', (0, 1.0)), ('R00026__chlo', (0, 1.0)), ('R08162__chlo', (0, 1.0)), ('TR2000102_PLAS__chlomem', (0, 1.0)), ('R07108__mito', (0, 1.0)), ('R01512__chlo', (-1.0, 1.0)), ('TR0003387_PLAS__plas', (-1.0, 1.0)), ('R02814__chlo', (0, 1.0)), ('TR0000047_PLAS__chlomem', (-1.0, 1.0)), ('R07394__nucl', (0, 1.0)), ('R02975__cytop', (0, 1.0)), ('R12570__e_r_', (0, 1.0)), ('R00217__cytop', (0, 1.0)), ('T_Anthranilate__chlomem', (-1, 1)), ('R07939__e_r_', (0, 1.0)), ('R00548__extr', (0, 1.0)), ('R04944__cytop', (0, 1.0)), ('R07603__mito', (0, 1.0)), ('R07393__nucl', (0, 1.0)), ('TI3000720_PLAS__plas', (0, 1.0)), ('R06962__chlo', (-1.0, 1.0)), ('R12428__mito', (0, 1.0)), ('R04966__cytop', (0, 1.0)), ('R07893__mito', (-1.0, 1.0)), ('R00031__cytop', (0, 1.0)), ('R03650__chlo', (0, 1.0)), ('R02503__chlo', (0, 1.0)), ('R02499__e_r_', (0, 1.0)), ('R07604__mito', (0, 1.0)), ('R00093__mito', (0, 1.0)), ('PKS_C205__cytop', (0, 1.0)), ('R10040__chlo', (0, 1.0)), ('R03361__cytop', (0, 1.0)), ('R08220__cytop', (0, 1.0)), ('R07236__chlo', (0, 1.0)), ('TO1100100_PLAS__plas', (0, 1.0)), ('R01049__cytop', (0, 1.0)), ('TR0000532_PLAS__plas', (-1, 1)), ('R05590__cytop', (0, 1.0)), ('R04231__mito', (0, 1.0)), ('R02722__chlo', (0, 1.0)), ('TO1103193_PLAS__plas', (0, 1.0)), ('R00418__cytop', (-1.0, 1.0)), ('R08163__chlo', (0, 1.0)), ('R04208__cytop', (0, 1.0)), ('R04780__cytop', (0, 1.0)), ('R00562__pero', (0, 1.0)), ('R08198__mito', (-1.0, 1.0)), ('TO1100314_PLAS__plas', (0, 1.0)), ('R06963__chlo', (-1.0, 1.0)), ('R02497__e_r_', (0, 1.0)), ('R02022__cytop', (0, 1.0)), ('R03370__chlo', (0, 1.0)), ('R02295__cytop', (-1.0, 1.0)), ('R06261__e_r_', (0, 1.0)), ('TO1001605_PLAS__plas', (0, 1.0)), ('R00647__cytop', (0, 1.0)), ('R02610__e_r_', (0, 1.0)), ('R01664__cytop', (0, 1.0)), ('R05454__cytop', (0, 1)), ('R03186__mito', (0, 1.0)), ('R01186__golg', (0, 1.0)), ('R07069__e_r_', (0, 1.0)), ('R07674__chlo', (-1.0, 1.0)), ('R04673__chlo', (0, 1.0)), ('R01920__cytop', (0, 1.0)), ('R04014__chlo', (0, 1.0)), ('R02057__e_r_', (0, 1.0)), ('R00669__cytop', (0, 1.0)), ('R01175__mito', (0, 1.0)), ('R08551__e_r_', (0, 1.0)), ('R02003__chlo', (0, 1.0)), ('R01829__mito', (-1.0, 1.0)), ('TI3000295_ERMEM__ermem', (0, 1.0)), ('R08161__chlo', (0, 1.0)), ('R03469__nucl', (0, 1.0)), ('EX_C00954__dra', (0, 1)), ('R02038__cytop', (0, 1.0)), ('R00529__chlo', (0, 1.0)), ('TO1000448_PLAS__plas', (0, 1.0)), ('R00968__nucl', (0, 1.0)), ('R07109__mito', (0, 1.0)), ('R00402__cytop', (0, 1.0)), ('R04952__chlo', (0, 1.0)), ('R03077__cytop', (-1.0, 1.0)), ('R01206__cytop', (0, 1.0)), ('R07024__cytop', (0, 1.0)), ('R02016__cytop', (0, 1.0)), ('R07002__cytop', (0, 1.0)), ('R06260__e_r_', (0, 1.0)), ('EX_C20835__dra', (0, 1)), ('R00590__chlo', (0, 1.0)), ('R12168__e_r_', (0, 1.0)), ('T_beta_D_Glucose__ermem', (0, 1)), ('R00529__cytop', (0, 1.0)), ('R01321__e_r_', (0, 1.0)), ('R01430__pero', (-1.0, 1.0)), ('T_CO2_V2__mitmem', (-1, 1)), ('R03534__mito', (0, 1.0)), ('R02102__cytop', (0, 1.0)), ('RXN_12754__mito', (0, 1)), ('R03005__cytop', (0, 1)), ('R00974__cytop', (0, 1.0)), ('T_CDP_ethanolamine__ermem', (-1, 1)), ('R09833__cytop', (0, 1.0)), ('R04739__pero', (-1.0, 1.0)), ('EX_C18870__dra', (0, 1)), ('R03026__pero', (-1.0, 1.0)), ('R00650__cytop', (0, 1.0)), ('R02739__cytop', (-1.0, 1.0)), ('R01836__cytop', (-1.0, 1.0)), ('R08232__cytop', (0, 1.0)), ('R08093__pero', (-1.0, 1.0)), ('T_CIT__permem', (0, 1.0)), ('R02683__chlo', (0, 1.0)), ('TO1000107_PLAS__plas', (0, 1.0)), ('EX_C01327__dra', (0, 1)), ('R00287__cytop', (0, 1)), ('R01710__cytop', (0, 1.0)), ('R02613__cytop', (0, 1.0)), ('R10053__cytop', (0, 1)), ('R06262__e_r_', (0, 1.0)), ('R04968__chlo', (0, 1.0)), ('R03660__mito', (0, 1.0)), ('T_NADth__chlomem', (-1, 1)), ('R00945__mito', (-1.0, 1.0)), ('R07091__e_r_', (0, 1.0)), ('R03293__cytop', (0, 1.0)), ('TO0000182_PLAS__vacmem', (0, 1.0)), ('TO0000082_PLAS__ermem', (0, 1.0)), ('T_ASPSAth__chlomem', (-1, 1)), ('R02662__mito', (0, 1.0)), ('TO0000080_PLAS__ermem', (0, 1.0)), ('R01001__cytop', (0, 1.0)), ('R05577__chlo', (0, 1.0)), ('R00235__cytop', (0, 1.0)), ('R04963__mito', (0, 1.0)), ('EX_C00001__dra', (-1, 1)), ('R00485__cytop', (0, 1.0)), ('R01512__cytop', (-1.0, 1.0)), ('T_Hydrogen__plas', (-1, 1)), ('R01251__cytop', (0, 1.0)), ('R00746__cytop', (-1.0, 1.0)), ('R03024__cytop', (0, 1)), ('R01085__mito', (0, 1.0)), ('R04469__chlo', (0, 1.0)), ('R07024__e_r_', (0, 1.0)), ('R07999__cytop', (0, 1.0)), ('R09281__pero', (-1.0, 1.0)), ('R10707__chlo', (0, 1.0)), ('EX_C07086__dra', (0, 1)), ('R09955__e_r_', (-1.0, 1.0)), ('EX_C00123__dra', (0, 1)), ('R12461__cytop', (0, 1.0)), ('EX_C00099__dra', (0, 1)), ('T_ACCOAtm__mitmem', (-1.0, 1.0)), ('R07672__cytop', (0, 1.0)), ('R10116__cytop', (0, 1.0)), ('R06875__nucl', (0, 1.0)), ('R01385__cytop', (-1.0, 1.0)), ('R04671__e_r_', (-1.0, 1.0)), ('R02472__mito', (0, 1.0)), ('R10710__cytop', (-1.0, 1.0)), ('T_NADPH__ermem', (-1, 1)), ('R07316__mito', (0, 1.0)), ('R11059__e_r_', (0, 1.0)), ('EX_C18021__dra', (0, 1)), ('R00927__pero', (-1.0, 1.0)), ('R00214__mito', (0, 1.0)), ('R11100__chlo', (0, 1.0)), ('R02142__mito', (0, 1.0)), ('R03348__cytop', (0, 1.0)), ('R05636__chlo', (0, 1.0)), ('R09845__e_r_', (0, 1.0)), ('R09844__cytop', (0, 1.0)), ('R00390__e_r_', (0, 1.0)), ('R01195__chlo', (-1.0, 1.0)), ('T_Acetate__chlomem', (-1, 1)), ('EX_C00681__dra', (0, 1)), ('R03778__pero', (-1.0, 1.0)), ('TR0000243_PLAS__chlomem', (-1.0, 1.0)), ('R03509__chlo', (-1.0, 1.0)), ('R07113__e_r_', (0, 1.0)), ('R09138__cytop', (0, 1.0)), ('R00589__cytop', (-1.0, 1.0)), ('R00369__pero', (-1.0, 1.0)), ('TO1001257_PLAS__plas', (0, 1.0)), ('R09405__e_r_', (0, 1.0)), ('R00578__cytop', (0, 1.0)), ('T_CMP_V1__mitmem', (-1, 1)), ('R00851__chlo', (0, 1.0)), ('R01061__cytop', (-1.0, 1.0)), ('R02527__pero', (-1.0, 1.0)), ('R01799__e_r_', (0, 1.0)), ('TZ2900025_PLAS__plas', (-1.0, 1.0)), ('R06516__e_r_', (0, 1.0)), ('R01334__chlo', (0, 1.0)), ('R02100__chlo', (0, 1.0)), ('R04957__cytop', (0, 1.0)), ('T_5_Methylthioadenosine__mitmem', (-1, 1)), ('R12184__mito', (0, 1.0)), ('R07492__e_r_', (0, 1.0)), ('TO1000084_PLAS__plas', (0, 1.0)), ('R03005__nucl', (0, 1.0)), ('EX_C00561__dra', (0, 1)), ('R00900__cytop', (-1.0, 1.0)), ('R05286__mito', (0, 1.0)), ('R04959__chlo', (0, 1.0)), ('R00694__cytop', (-1.0, 1.0)), ('R00026__extr', (0, 1.0)), ('R03260__cytop', (0, 1.0)), ('R00183__cytop', (0, 1.0)), ('T_CO2__plas', (-1, 1)), ('TR2000061_PLAS__chlomem', (-1.0, 1.0)), ('R00194__cytop', (-1.0, 1.0)), ('R01868__mito', (0, 1.0)), ('R07046__chlo', (0, 1.0)), ('R02251__e_r_', (0, 1.0)), ('T_SLC25A17_V4__permem', (0, 1.0)), ('R09877__cytop', (0, 1.0)), ('R02777__cytop', (0, 1.0)), ('R08179__cytop', (0, 1.0)), ('R07054__e_r_', (0, 1.0)), ('R01699__mito', (0, 1.0)), ('R00221__mito', (0, 1.0)), ('R03013__cytop', (0, 1.0)), ('R09654__chlo', (0, 1.0)), ('R01334__pero', (0, 1.0)), ('R02247__cytop', (0, 1.0)), ('R06601__mito', (-1.0, 1.0)), ('R02352__cytop', (0, 1.0)), ('TO0000184_PLAS__vacmem', (0, 1.0)), ('R02527__chlo', (-1.0, 1.0)), ('R05718__cytop', (0, 1)), ('R07894__pero', (-1.0, 1.0)), ('T__GlcNAc_2_Man_5_Asn_1_V1__plas', (0, 1)), ('R07933__e_r_', (0, 1.0)), ('R01714__chlo', (0, 1.0)), ('R00713__mito', (0, 1.0)), ('T_G00012_V1__golmem', (0, 1)), ('R06734__cytop', (0, 1.0)), ('R08235__cytop', (0, 1.0)), ('R01529__chlo', (-1.0, 1.0)), ('R06284__chlo', (0, 1.0)), ('R00235__chlo', (0, 1.0)), ('R01187__cytop', (0, 1.0)), ('R03183__e_r_', (-1.0, 1.0)), ('EX_C00033__dra', (0, 1)), ('R04544__chlo', (0, 1.0)), ('PRISM_growth_room__extr', (0, 1)), ('TI3000031_PLAS__plas', (0, 1.0)), ('R02814__cytop', (0, 1.0)), ('R03276__mito', (-1.0, 1.0)), ('R07675__cytop', (0, 1.0)), ('R02735__chlo', (-1.0, 1.0)), ('R00842__chlo', (-1.0, 1.0)), ('R12595__cytop', (0, 1.0)), ('EX_C00270__dra', (0, 1)), ('R04867__nucl', (0, 1.0)), ('R02989__cytop', (0, 1.0)), ('EX_C00965__dra', (0, 1)), ('R07916__chlo', (0, 1.0)), ('RXN_21830__e_r_', (0, 1.0)), ('R00551__mito', (0, 1.0)), ('R00226__chlo', (0, 1.0)), ('R10508__chlo', (-1.0, 1.0)), ('R00497__chlo', (0, 1.0)), ('R01411__cytop', (0, 1.0)), ('R12205__e_r_', (0, 1.0)), ('T_Oxygen_V1__chlomem', (-1, 1)), ('T_5_10_Methylenetetrahydrofolate__chlomem', (0, 1.0)), ('R02029__e_r_', (0, 1.0)), ('R03990__mito', (0, 1.0)), ('TI3000878_PLAS__plas', (0, 1.0)), ('R04537__chlo', (0, 1.0)), ('T_UDPGA__chlomem', (-1.0, 1.0)), ('R00328__cytop', (0, 1.0)), ('RXN_14484__e_r_', (0, 1.0)), ('R04946__cytop', (0, 1.0)), ('e_FreeFattyAcid__cytop', (0, 1)), ('R00089__cytop', (0, 1.0)), ('R10119__chlo', (0, 1.0)), ('TO1000154_PLAS__plas', (0, 1.0)), ('ATPm__cytop', (0, 1.0)), ('T_3_Methyl_2_oxobutanoic_acid__chlomem', (-1, 1)), ('R05756__cytop', (0, 1.0)), ('R07045__e_r_', (0, 1.0)), ('R02412__chlo', (0, 1.0)), ('R00045__cytop', (0, 1.0)), ('R02016__mito', (0, 1.0)), ('R01007__cytop', (0, 1.0)), ('R04748__mito', (-1.0, 1.0)), ('R10116__mito', (0, 1.0)), ('R04859__cytop', (0, 1.0)), ('R08240__cytop', (0, 1.0)), ('TO0000249_PLAS__vacmem', (0, 1.0)), ('R00996__chlo', (0, 1.0)), ('R02405__mito', (0, 1.0)), ('R03269__mito', (0, 1.0)), ('EX_C00189__dra', (0, 1)), ('R01025__mito', (0, 1.0)), ('R00895__mito', (-1.0, 1.0)), ('R01137__chlo', (0, 1.0)), ('R01184__cytop', (0, 1.0)), ('T_Superoxide__mitmem', (-1, 1)), ('R08279__cytop', (0, 1)), ('R00465__pero', (-1.0, 1.0)), ('R01373__chlo', (0, 1.0)), ('R04741__pero', (-1.0, 1.0)), ('T_Ammonia_V1__chlomem', (-1, 1)), ('R03283__chlo', (0, 1.0)), ('R04954__cytop', (0, 1.0)), ('EX_C07447__dra', (0, 1)), ('R06282__chlo', (0, 1.0)), ('R09823__mito', (0, 1.0)), ('R10548__cytop', (0, 1.0)), ('ATP_Synthase__mitmem', (-1.0, 1.0)), ('TI3000297_PLAS__plas', (0, 1.0)), ('R07093__cytop', (0, 1.0)), ('R01830__cytop', (-1.0, 1.0)), ('R08980__e_r_', (0, 1.0)), ('R00704__pero', (-1.0, 1.0)), ('TE_2__cytop', (0, 1.0)), ('R00156__cytop', (0, 1.0)), ('R00802__cytop', (0, 1.0)), ('DM_photon298__cytop', (0, 1)), ('R01602__cytop', (-1.0, 1.0)), ('R09281__chlo', (-1.0, 1.0)), ('R00575__cytop', (0, 1.0)), ('R08381__cytop', (-1.0, 1.0)), ('R04163__e_r_', (0, 1.0)), ('R01926__cytop', (0, 1.0)), ('R07460__chlo', (0, 1.0)), ('R08093__chlo', (-1.0, 1.0)), ('R08601__cytop', (0, 1.0)), ('TO0000277_PLAS__vacmem', (0, 1.0)), ('R07052__e_r_', (0, 1.0)), ('R03956__cytop', (0, 1.0)), ('R06986__golg', (0, 1.0)), ('EX_C18060__dra', (0, 1)), ('R01416__mito', (0, 1.0)), ('R01026__extr', (0, 1.0)), ('R07505__e_r_', (0, 1.0)), ('R03662__cytop', (0, 1.0)), ('R01183__mito', (0, 1.0)), ('R07050__chlo', (0, 1.0)), ('EX_C00263__dra', (0, 1)), ('R00959__chlo', (-1.0, 1.0)), ('R01728__cytop', (0, 1)), ('R00734__chlo', (-1.0, 1.0)), ('R04241__mito', (0, 1.0)), ('R03869__chlo', (0, 1.0)), ('R00009__pero', (0, 1.0)), ('R09977__chlo', (-1, 1)), ('R03459__chlo', (0, 1.0)), ('TO1000128_PLAS__plas', (0, 1.0)), ('R09407__e_r_', (0, 1.0)), ('R01769__cytop', (0, 1.0)), ('R07034__cytop', (0, 1.0)), ('TO1100724_PLAS__plas', (0, 1.0)), ('T_Octadecenoic_acid__chlomem', (0, 1)), ('R10492__chlo', (0, 1.0)), ('R01496__e_r_', (0, 1.0)), ('R00586__cytop', (0, 1.0)), ('R07003__cytop', (0, 1.0)), ('R01352__cytop', (0, 1.0)), ('EX_C18796__dra', (0, 1)), ('TO0000311_PLAS__vacmem', (0, 1.0)), ('R10056__cytop', (0, 1)), ('R04065__cytop', (0, 1.0)), ('R04743__pero', (-1.0, 1.0)), ('R06893__mito', (0, 1.0)), ('T_all_trans_Nonaprenyl_diphosphate_V1__mitmem', (-1, 1)), ('R05861__cytop', (0, 1.0)), ('R05981__e_r_', (0, 1.0)), ('R02549__cytop', (0, 1.0)), ('R07064__cytop', (0, 1.0)), ('R10709__chlo', (0, 1.0)), ('Cytochrome_C_Reductase__mitmem', (0, 1.0)), ('R04326__cytop', (0, 1.0)), ('R00589__mito', (-1.0, 1.0)), ('R09450__mito', (0, 1.0)), ('R05071__cytop', (-1.0, 1.0)), ('R04740__mito', (-1.0, 1.0)), ('TI2903793_PLAS__mitmem', (0, 1.0)), ('R03037__mito', (0, 1.0)), ('T_Methanol_V1__permem', (-1, 1)), ('R04405__cytop', (0, 1.0)), ('R02023__cytop', (0, 1.0)), ('R04330__mito', (0, 1.0)), ('R08766__mito', (0, 1)), ('TO1100366_PLAS__plas', (0, 1.0)), ('R02317__cytop', (0, 1)), ('R01993__cytop', (-1.0, 1.0)), ('R02065__chlo', (0, 1.0)), ('R08090__mito', (-1.0, 1.0)), ('TO1100306_PLAS__plas', (0, 1.0)), ('R02687__cytop', (0, 1.0)), ('R01015__cytop', (-1.0, 1.0)), ('R01055__mito', (-1.0, 1.0)), ('R00112__cytop', (0, 1.0)), ('R10039__chlo', (0, 1.0)), ('R00189__cytop', (0, 1.0)), ('R00190__mito', (0, 1.0)), ('R02654__e_r_', (0, 1.0)), ('R02846__pero', (0, 1.0)), ('EX_C16834__dra', (0, 1)), ('R07618__chlo', (0, 1.0)), ('EX_C06697__dra', (0, 1)), ('R08392__e_r_', (0, 1.0)), ('R04725__cytop', (0, 1.0)), ('R07022__e_r_', (0, 1.0)), ('R07023__cytop', (0, 1.0)), ('R01229__mito', (0, 1.0)), ('R03697__e_r_', (0, 1.0)), ('R01301__mito', (0, 1)), ('R04998__cytop', (0, 1.0)), ('R06896__chlo', (-1.0, 1.0)), ('R01249__cytop', (0, 1)), ('R04509__chlo', (0, 1.0)), ('R08280__chlo', (0, 1.0)), ('R03084__chlo', (-1.0, 1.0)), ('R08390__chlo', (0, 1.0)), ('R03956__chlo', (0, 1.0)), ('R01004__cytop', (0, 1.0)), ('R11893__cytop', (-1.0, 1.0)), ('R02282__chlo', (-1.0, 1.0)), ('R01837__e_r_', (0, 1.0)), ('R01795__cytop', (0, 1.0)), ('R07945__e_r_', (0, 1.0)), ('R00238__mito', (-1.0, 1.0)), ('R03038__chlo', (0, 1.0)), ('R03103__cytop', (0, 1.0)), ('R01132__mito', (0, 1.0)), ('R00922__mito', (0, 1.0)), ('R05064__pero', (0, 1.0)), ('R01288__cytop', (-1.0, 1.0)), ('R09450_V1__mito', (0, 1.0)), ('R00238__cytop', (-1.0, 1.0)), ('R00533__mito', (0, 1.0)), ('R02747__cytop', (0, 1.0)), ('R01186__chlo', (0, 1.0)), ('T_SLC25A17_V1__permem', (0, 1.0)), ('TI3000278_PLAS__ermem', (0, 1.0)), ('R04724__chlo', (0, 1.0)), ('R02216__e_r_', (-1.0, 1.0)), ('R09087__nucl', (0, 1.0)), ('R04960__chlo', (0, 1.0)), ('EX_C05838__dra', (0, 1)), ('R01676__cytop', (0, 1.0)), ('T_Isopentenyl_diphosphate__ermem', (-1, 1)), ('R06258__e_r_', (0, 1.0)), ('R01708__cytop', (-1.0, 1.0)), ('R00261__cytop', (0, 1.0)), ('R03363__nucl', (0, 1.0)), ('R09030__chlo', (-1.0, 1.0)), ('RXN_12867__cytop', (0, 1)), ('R05595__chlo', (-1.0, 1.0)), ('R05066__pero', (-1.0, 1.0)), ('R03758__cytop', (0, 1.0)), ('R00497__pero', (0, 1.0)), ('R01310__cytop', (0, 1.0)), ('R00256__chlo', (0, 1.0)), ('R03665__cytop', (0, 1.0)), ('R06868__cytop', (0, 1.0)), ('R08175__pero', (0, 1.0)), ('R04725__mito', (0, 1.0)), ('R03991__pero', (-1.0, 1.0)), ('R07507__e_r_', (0, 1.0)), ('T_Glycolate_V1__mitmem', (-1, 1)), ('R03158__cytop', (0, 1.0)), ('R02098__cytop', (-1.0, 1.0)), ('R03194__chlo', (0, 1.0)), ('T_3_Fumarylpyruvate__mitmem', (-1, 1)), ('R03654__cytop', (0, 1.0)), ('R05334__cytop', (0, 1.0)), ('R04420__cytop', (-1.0, 1.0)), ('T_L_Alanine__chlomem', (-1.0, 1.0)), ('R04568__cytop', (0, 1.0)), ('R07559__chlo', (0, 1.0)), ('R04944__mito', (0, 1.0)), ('TO0000063_PLAS__plas', (0, 1.0)), ('T__S__Dihydroorotate__mitmem', (-1, 1)), ('R00694__chlo', (-1.0, 1.0)), ('TO3000675_PLAS__plas', (0, 1.0)), ('R04998__chlo', (0, 1.0)), ('R00586__chlo', (0, 1.0)), ('R06917__cytop', (0, 1.0)), ('R07276__mito', (0, 1.0)), ('R11232__cytop', (0, 1.0)), ('R01583__cytop', (0, 1.0)), ('T_Phosphatidylcholine__golmem', (-1, 1)), ('R08738__cytop', (0, 1.0)), ('R01836__mito', (-1.0, 1.0)), ('R00702__chlo', (0, 1.0)), ('T_CoA_ATP__mitmem', (-1.0, 1.0)), ('R05802__cytop', (0, 1.0)), ('R04241__nucl', (0, 1.0)), ('R09409__chlo', (0, 1.0)), ('R02904__cytop', (0, 1)), ('R00200__mito', (0, 1.0)), ('R02147__cytop', (-1.0, 1.0)), ('T_3_Isopropylmalate__chlomem', (-1, 1)), ('RXN_19211_V1__chlo', (0, 1.0)), ('EX_C04015__dra', (0, 1)), ('R03920__chlo', (0, 1.0)), ('R02433__mito', (-1.0, 1.0)), ('R00511__cytop', (0, 1.0)), ('EX_C00047__dra', (0, 1)), ('R09251__chlo', (0, 1.0)), ('R00087__chlo', (0, 1.0)), ('TO1125981_PLAS__plas', (0, 1.0)), ('R00004__cytop', (0, 1.0)), ('R00640__mito', (0, 1.0)), ('R08183__cytop', (0, 1.0)), ('R10046__cytop', (0, 1.0)), ('R04441__mito', (0, 1.0)), ('R09367__cytop', (0, 1)), ('R07116__cytop', (0, 1.0)), ('R04746__mito', (-1.0, 1.0)), ('PKS_C101__cytop', (0, 1.0)), ('R01801__chlo', (0, 1.0)), ('R00160__mito', (0, 1.0)), ('R07069__chlo', (0, 1.0)), ('R03223__chlo', (0, 1.0)), ('R03600__cytop', (0, 1.0)), ('R01931__cytop', (0, 1.0)), ('R01214__mito', (-1.0, 1.0)), ('R01560__cytop', (0, 1.0)), ('R00014__cytop', (0, 1.0)), ('R00794__cytop', (0, 1.0)), ('R00308__cytop', (0, 1.0)), ('R05237__chlo', (0, 1.0)), ('R03815__chlo', (-1.0, 1.0)), ('TR0000043_PLAS__golmem', (-1.0, 1.0)), ('R09725__mito', (0, 1)), ('R01471__chlo', (-1.0, 1.0)), ('R00308__extr', (0, 1.0)), ('R04544__cytop', (0, 1.0)), ('R07504__chlo', (0, 1.0)), ('EX_C00013__dra', (0, 1)), ('R10557__chlo', (0, 1.0)), ('R10118__mito', (0, 1.0)), ('R00253__cytop', (0, 1.0)), ('R08251__extr', (0, 1.0)), ('R02540__cytop', (0, 1.0)), ('R04800__chlo', (0, 1.0)), ('R00967__cytop', (0, 1.0)), ('RXN_10662__cytop', (0, 1.0)), ('R02018__cytop', (0, 1.0)), ('R02051__cytop', (0, 1.0)), ('R03172__mito', (0, 1.0)), ('R09542_V1__chlo', (0, 1)), ('R02740__chlo', (-1.0, 1.0)), ('PRISM_fluorescent_warm_18W__extr', (0, 1)), ('R05803__nucl', (0, 1.0)), ('R07080__e_r_', (0, 1.0)), ('EX_C00282__dra', (0, 1)), ('TO1000082_PLAS__plas', (0, 1.0)), ('R01813__cytop', (0, 1.0)), ('R01163__chlo', (0, 1.0)), ('R07168__cytop', (0, 1.0)), ('R07487__e_r_', (0, 1.0)), ('R06171__mito', (-1.0, 1.0)), ('R08964__cytop', (-1.0, 1.0)), ('R01321__golg', (0, 1.0)), ('R08678__cytop', (0, 1.0)), ('R01280__pero', (0, 1.0)), ('R08392__chlo', (0, 1.0)), ('R06927__cytop', (-1.0, 1.0)), ('R01579__cytop', (0, 1.0)), ('R07022__chlo', (0, 1.0)), ('R02241__chlo', (0, 1.0)), ('R02383__cytop', (0, 1.0)), ('R05976__e_r_', (0, 1.0)), ('R07056__e_r_', (0, 1.0)), ('TR2000103_PLAS__chlomem', (0, 1.0)), ('R04030__pero', (0, 1.0)), ('R01895__cytop', (-1.0, 1.0)), ('R01658__mito', (0, 1.0)), ('R06875__cytop', (0, 1.0)), ('R07459__cytop', (0, 1.0)), ('R00410__mito', (-1.0, 1.0)), ('R00926__cytop', (0, 1.0)), ('R01829__cytop', (-1.0, 1.0)), ('R10659__chlo', (0, 1.0)), ('R04621__cytop', (0, 1)), ('R07641__cytop', (0, 1.0)), ('EX_C00185__dra', (0, 1)), ('R00516__nucl', (0, 1.0)), ('TO1000065_PLAS__plas', (0, 1.0)), ('R03845_V1__chlo', (0, 1.0)), ('R00769__cytop', (0, 1.0)), ('EX_C00152__dra', (0, 1)), ('R00961__golg', (0, 1.0)), ('R04964__cytop', (0, 1.0)), ('R02092__cytop', (0, 1.0)), ('R10991__chlo', (0, 1.0)), ('R02085__mito', (-1.0, 1.0)), ('R02102__e_r_', (0, 1.0)), ('R04834__e_r_', (0, 1.0)), ('R08689__chlo', (0, 1.0)), ('R01736__cytop', (0, 1.0)), ('R07001__chlo', (0, 1.0)), ('TO3000355_E_R___ermem', (0, 1.0)), ('R06265__chlo', (0, 1.0)), ('EX_C00079__dra', (0, 1)), ('R04961__mito', (0, 1.0)), ('R02372__nucl', (0, 1.0)), ('TI2000703_PLAS__plas', (0, 1.0)), ('RXN_16380__cytop', (0, 1.0)), ('R04470__chlo', (0, 1.0)), ('R04967__cytop', (0, 1.0)), ('R00985__chlo', (0, 1.0)), ('R01061__chlo', (-1.0, 1.0)), ('R00330__cytop', (0, 1.0)), ('R11765__cytop', (0, 1.0)), ('R02093__chlo', (0, 1.0)), ('R04218__chlo', (0, 1.0)), ('T_H2O_V6__nucmem', (-1, 1)), ('R00918__cytop', (0, 1.0)), ('TR2000128_PLAS__mitmem', (-1.0, 1.0)), ('R05455__cytop', (0, 1)), ('R00570__mito', (0, 1.0)), ('R12570__chlo', (0, 1.0)), ('R05918__e_r_', (0, 1.0)), ('R09381__chlo', (0, 1.0)), ('R03662__mito', (0, 1.0)), ('T_L_Tryptophan__chlomem', (-1.0, 1.0)), ('R01251__mito', (0, 1.0)), ('R10282__chlo', (-1.0, 1.0)), ('R10281__mito', (0, 1.0)), ('R04328__e_r_', (0, 1.0)), ('R07026__chlo', (0, 1.0)), ('R07099__chlo', (0, 1.0)), ('R04966__chlo', (0, 1.0)), ('R02800__mito', (0, 1.0)), ('R02700__cytop', (0, 1.0)), ('R10996__mito', (0, 1.0)), ('T_L_Methionine__chlomem', (-1.0, 1.0)), ('R01241__cytop', (0, 1.0)), ('R02144__cytop', (0, 1.0)), ('R08294__e_r_', (0, 1.0)), ('R08557__cytop', (0, 1.0)), ('R03950__chlo', (0, 1.0)), ('EX_C00177__dra', (0, 1)), ('R00181__cytop', (0, 1.0)), ('R11323__chlo', (0, 1.0)), ('R00943__mito', (0, 1.0)), ('R03663__chlo', (0, 1.0)), ('R00512__mito', (-1.0, 1.0)), ('R04534__mito', (0, 1.0)), ('EX_C00491__dra', (0, 1)), ('R03004__chlo', (0, 1.0)), ('R08186__cytop', (0, 1.0)), ('R09542__chlo', (0, 1)), ('R02355__e_r_', (0, 1.0)), ('R11043__chlo', (0, 1.0)), ('R03824__chlo', (-1.0, 1.0)), ('T_Ammonia__plas', (-1, 1)), ('EX_C00111__dra', (0, 1)), ('R00514__golg', (0, 1.0)), ('R08312__e_r_', (0, 1.0)), ('R08287__e_r_', (0, 1.0)), ('R00531__cytop', (0, 1.0)), ('T_H2O_V3__ermem', (-1, 1)), ('R02237__nucl', (0, 1.0)), ('R09601__chlo', (0, 1.0)), ('R08091__pero', (-1.0, 1.0)), ('R04440__chlo', (0, 1.0)), ('R00502__chlo', (-1.0, 1.0)), ('R05238__mito', (0, 1.0)), ('R05202__nucl', (0, 1.0)), ('R12067__mito', (0, 1.0)), ('R06941__mito', (0, 1.0)), ('R02957__mito', (0, 1.0)), ('R00790__chlo', (0, 1.0)), ('R07762__cytop', (-1.0, 1.0)), ('R04095__mito', (0, 1.0)), ('R01090__mito', (-1.0, 1.0)), ('R03231__mito', (0, 1.0)), ('R06064__cytop', (0, 1)), ('R04429__cytop', (0, 1.0)), ('R02095__cytop', (0, 1)), ('R01857__cytop', (0, 1.0)), ('R08237__mito', (0, 1.0)), ('TI3000014_E_R___ermem', (0, 1.0)), ('TO1119001_PLAS__plas', (0, 1.0)), ('R08359__cytop', (0, 1.0)), ('R04998__extr', (0, 1.0)), ('R07043__e_r_', (0, 1.0)), ('TO3001047_PLAS__plas', (0, 1.0)), ('R08637__cytop', (0, 1)), ('R04014__cytop', (0, 1.0)), ('R07429__e_r_', (0, 1.0)), ('R05233__cytop', (0, 1.0)), ('R07050__e_r_', (0, 1.0)), ('R08178__mito', (0, 1.0)), ('EX_C00184__dra', (0, 1)), ('EX_C01081__dra', (0, 1)), ('DM_photon680__chlo', (0, 1)), ('R09827__nucl', (0, 1.0)), ('R03105__mito', (0, 1.0)), ('R09543__mito', (0, 1.0)), ('R02301__mito', (0, 1.0)), ('R00138__cytop', (0, 1.0)), ('TI3000047_PLAS__plas', (0, 1.0)), ('R01880__nucl', (0, 1.0)), ('R00269__cytop', (0, 1.0)), ('R05048__cytop', (0, 1.0)), ('TR2000109_PLAS__mitmem', (-1.0, 1.0)), ('T_Superoxide_V1__permem', (-1, 1)), ('R04970__mito', (0, 1.0)), ('TO1000035_PLAS__plas', (0, 1.0)), ('R02521__chlo', (0, 1.0)), ('EX_C00086__dra', (0, 1)), ('R09409__cytop', (0, 1.0)), ('TO3000363_E_R___ermem', (0, 1.0)), ('T_CoA_AMP__mitmem', (-1.0, 1.0)), ('R01975__mito', (0, 1.0)), ('T_PNC__permem', (0, 1.0)), ('R00722__mito', (0, 1.0)), ('R04535__chlo', (0, 1.0)), ('R01771__cytop', (0, 1.0)), ('R00704__cytop', (-1.0, 1.0)), ('R11060__e_r_', (0, 1.0)), ('TI3000141_PLAS__mitmem', (0, 1.0)), ('R04242__extr', (0, 1.0)), ('R05595__pero', (-1.0, 1.0)), ('R01329__cytop', (0, 1.0)), ('EX_C00242__dra', (0, 1)), ('R07981__cytop', (0, 1.0)), ('R09823__cytop', (0, 1.0)), ('R03657__cytop', (0, 1.0)), ('R08095__pero', (-1.0, 1.0)), ('R03363__cytop', (0, 1.0)), ('R10121__mito', (-1.0, 1.0)), ('R07761__e_r_', (-1.0, 1.0)), ('RXN_14486__e_r_', (0, 1.0)), ('R02466__cytop', (0, 1.0)), ('R07483__e_r_', (-1.0, 1.0)), ('T_Oxygen_V3__ermem', (-1, 1)), ('R08181__mito', (0, 1.0)), ('R08176__mito', (0, 1.0)), ('R01213__chlo', (0, 1.0)), ('RXN_12971__e_r_', (0, 1.0)), ('DEDOLP1__e_r_', (0, 1.0)), ('R00748__cytop', (0, 1.0)), ('R02619__mito', (0, 1.0)), ('R02422__cytop', (0, 1.0)), ('R07093__chlo', (0, 1.0)), ('R00160__cytop', (0, 1)), ('R00004__mito', (0, 1.0)), ('TO1000132_PLAS__plas', (0, 1.0)), ('R10120__cytop', (0, 1.0)), ('R09431__cytop', (-1, 1)), ('R01220__cytop', (0, 1.0)), ('R01625__chlo', (0, 1.0)), ('R12702__e_r_', (0, 1.0)), ('R02237__mito', (0, 1.0)), ('R02092__golg', (0, 1.0)), ('T_L_Isoleucine__chlomem', (-1.0, 1.0)), ('R04844__mito', (0, 1.0)), ('R00571__chlo', (0, 1.0)), ('EX_C00061__dra', (0, 1)), ('R02237__cytop', (0, 1.0)), ('TO1000041_PLAS__plas', (0, 1.0)), ('R04533__chlo', (0, 1.0)), ('TO1000186_PLAS__plas', (0, 1.0)), ('R12571__mito', (0, 1.0)), ('R07979__cytop', (0, 1.0)), ('TO0003279_PLAS__vacmem', (0, 1.0)), ('R02491__cytop', (0, 1.0)), ('R00724__mito', (0, 1.0)), ('R01978__cytop', (-1.0, 1.0)), ('T_L_Galactono_1_4_Lactone__mitmem', (-1, 1)), ('TO1000156_PLAS__plas', (0, 1.0)), ('R03997__cytop', (0, 1.0)), ('R08238__cytop', (0, 1.0)), ('T_Octadecanoic_acid_V1__ermem', (0, 1)), ('R00139__chlo', (0, 1.0)), ('R00939__cytop', (0, 1.0)), ('TO0000971_PLAS__plas', (0, 1.0)), ('T_Orthophosphate_V1__golmem', (-1, 1)), ('T_UDPGLCter__ermem', (-1, 1)), ('R08251__e_r_', (0, 1.0)), ('R07273__cytop', (0, 1.0)), ('R01253__mito', (0, 1.0)), ('T_H2O_V7__vacmem', (-1, 1)), ('R00008__mito', (0, 1.0)), ('R07280__chlo', (0, 1.0)), ('R00122__cytop', (0, 1.0)), ('R00667__mito', (-1.0, 1.0)), ('R09372__cytop', (0, 1.0)), ('R00549__chlo', (0, 1.0)), ('R00104__cytop', (0, 1.0)), ('R10122__chlo', (0, 1.0)), ('R04961__cytop', (0, 1.0)), ('R00268__mito', (0, 1.0)), ('R00100__mito', (0, 1.0)), ('RXN_16095__e_r_', (0, 1.0)), ('R10998__mito', (0, 1.0)), ('R01158__chlo', (0, 1.0)), ('R07026__cytop', (0, 1.0)), ('R00590__cytop', (0, 1.0)), ('R03180__cytop', (0, 1.0)), ('R03090__e_r_', (0, 1.0)), ('R10712__chlo', (0, 1.0)), ('T_2_Oxobutanoate__mitmem', (-1, 1)), ('R00509__cytop', (0, 1.0)), ('R11098__cytop', (0, 1)), ('R00235__pero', (0, 1.0)), ('R08771__mito', (-1.0, 1.0)), ('R04936__cytop', (0, 1.0)), ('R07394__cytop', (0, 1.0)), ('R04903__mito', (0, 1.0)), ('R10120__chlo', (0, 1.0)), ('R03858__pero', (-1.0, 1.0)), ('R05305__pero', (-1.0, 1.0)), ('R02020__cytop', (0, 1.0)), ('T_AHCYS__ermem', (-1, 1)), ('R00602__pero', (0, 1.0)), ('R10247__cytop', (-1.0, 1.0)), ('RXN_16097__e_r_', (0, 1.0)), ('R04439__chlo', (0, 1.0)), ('R01548__cytop', (0, 1)), ('R03600__mito', (0, 1.0)), ('R12371__cytop', (0, 1.0)), ('R06946__chlo', (0, 1.0)), ('R03601__pero', (0, 1.0)), ('R03217__cytop', (0, 1.0)), ('R10280__chlo', (0, 1.0)), ('R08176__cytop', (0, 1.0)), ('R07121__cytop', (0, 1.0)), ('R04779__cytop', (0, 1.0)), ('R00026__e_r_', (0, 1.0)), ('EX_C00208__dra', (0, 1)), ('R00026__vacu', (0, 1.0)), ('R10247__chlo', (-1.0, 1.0)), ('R01451__e_r_', (0, 1.0)), ('R03631__cytop', (0, 1.0)), ('R10463__mito', (0, 1.0)), ('R12621__cytop', (0, 1.0)), ('R00722__cytop', (0, 1.0)), ('R00130__mito', (0, 1.0)), ('R05038__cytop', (0, 1.0)), ('R08704__cytop', (-1, 1)), ('T_Myo_Inositol__ermem', (-1, 1)), ('R05739__mito', (0, 1.0)), ('EX_C00255__dra', (0, 1)), ('R00573__chlo', (0, 1.0)), ('TO1100138_PLAS__plas', (0, 1.0)), ('R08945__e_r_', (0, 1.0)), ('R07456__cytop', (0, 1.0)), ('R09504__mito', (0, 1.0)), ('R06521__e_r_', (0, 1.0)), ('R07084__e_r_', (0, 1.0)), ('EX_C00575__dra', (0, 1)), ('R00243__cytop', (0, 1.0)), ('EX_C00059__dra', (-1, 1)), ('R00859__chlo', (0, 1.0)), ('R02503__e_r_', (0, 1.0)), ('R08789__cytop', (-1.0, 1.0)), ('R02556__cytop', (0, 1.0)), ('R00351__mito', (0, 1.0)), ('R06525__e_r_', (0, 1.0)), ('R06154__cytop', (0, 1.0)), ('TO1000550_PLAS__plas', (0, 1.0)), ('R05775__chlo', (0, 1.0)), ('R01468__cytop', (0, 1.0)), ('R09244__e_r_', (0, 1.0)), ('R05066__cytop', (-1.0, 1.0)), ('R09514__cytop', (0, 1.0)), ('R04506__cytop', (0, 1.0)), ('R01900__mito', (-1.0, 1.0)), ('R08539__e_r_', (0, 1.0)), ('R03672__cytop', (0, 1)), ('R08146__mito', (0, 1.0)), ('T_Ethanolamine_phosphate__ermem', (0, 1)), ('T_Hexadecenoic_acid__chlomem', (0, 1)), ('R08921__mito', (0, 1.0)), ('R07599__mito', (0, 1.0)), ('R01063__chlo', (0, 1.0)), ('T_Phosphatidate_V1__ermem', (-1, 1)), ('R05052__mito', (0, 1.0)), ('R03857__mito', (0, 1.0)), ('R00086__cytop', (0, 1.0)), ('R00572__mito', (0, 1.0)), ('R00256__cytop', (0, 1.0)), ('R00086__golg', (0, 1.0)), ('R08186__pero', (0, 1.0)), ('R04534__cytop', (0, 1.0)), ('R11762__cytop', (-1.0, 1.0)), ('EX_C11173__dra', (0, 1)), ('EX_C00379__dra', (0, 1)), ('R08599__golg', (0, 1.0)), ('R09418__chlo', (0, 1.0)), ('R00103__chlo', (0, 1.0)), ('R00078__chlo', (0, 1.0)), ('R04027__cytop', (0, 1)), ('T_R_Allantoin__mitmem', (-1, 1)), ('EX_C00288__dra', (0, 1)), ('R02331__mito', (0, 1.0)), ('TO1115390_PLAS__plas', (0, 1.0)), ('R04756__pero', (-1.0, 1.0)), ('TI3000243_PLAS__plas', (0, 1.0)), ('R04780__chlo', (0, 1.0)), ('EX_C08325__dra', (0, 1)), ('R08551__chlo', (0, 1.0)), ('R03077__chlo', (-1.0, 1.0)), ('R05421__cytop', (0, 1.0)), ('TO1100179_PLAS__plas', (0, 1.0)), ('R09416__chlo', (0, 1.0)), ('DM_photon437__chlo', (0, 1)), ('R04148__cytop', (0, 1.0)), ('R00670__cytop', (0, 1.0)), ('T_L_Isoleucine_V2__vacmem', (0, 1.0)), ('R05050__mito', (0, 1.0)), ('R04786__chlo', (0, 1.0)), ('R07939__chlo', (0, 1.0)), ('R11892__mito', (0, 1.0)), ('R04426__cytop', (0, 1.0)), ('R01286__chlo', (0, 1.0)), ('T_SLC25A17_V2__permem', (0, 1.0)), ('R00355__mito', (-1.0, 1.0)), ('R01842__chlo', (0, 1.0)), ('R01780__mito', (-1.0, 1.0)), ('R00964__cytop', (0, 1.0)), ('R09434__cytop', (-1, 1)), ('EX_C00366__dra', (0, 1)), ('R00829__pero', (0, 1.0)), ('R07765__cytop', (0, 1.0)), ('R04065__mito', (0, 1.0)), ('TZ2900022_PLAS__chlomem', (-1.0, 1.0)), ('R03595__cytop', (0, 1.0)), ('R07840__chlo', (-1.0, 1.0)), ('R08182__pero', (0, 1.0)), ('R01130__cytop', (-1.0, 1.0)), ('R01457__e_r_', (0, 1.0)), ('R00707__cytop', (0, 1.0)), ('R00686__cytop', (0, 1.0)), ('TO3000358_E_R___ermem', (0, 1.0)), ('R04754__pero', (0, 1.0)), ('TR2000130_PLAS__ermem', (-1.0, 1.0)), ('R08648__chlo', (0, 1.0)), ('R08281__cytop', (-1.0, 1.0)), ('RXN_16656__cytop', (0, 1.0)), ('R10092__mito', (-1.0, 1.0)), ('R00429__cytop', (0, 1.0)), ('R06412__mito', (0, 1.0)), ('R04404__nucl', (0, 1.0)), ('R06983__cytop', (0, 1.0)), ('T_Propanoyl_CoA__chlomem', (-1, 1)), ('R04884__cytop', (0, 1.0)), ('TI3000688_PLAS__mitmem', (0, 1.0)), ('R00357__mito', (0, 1.0)), ('R00480__chlo', (0, 1.0)), ('TO1000190_PLAS__plas', (0, 1.0)), ('R03417__cytop', (0, 1.0)), ('R04037__cytop', (-1.0, 1.0)), ('R03321__cytop', (-1.0, 1.0)), ('R04866__nucl', (0, 1.0)), ('e_DNA__cytop', (0, 1)), ('R07890__mito', (-1.0, 1.0)), ('R08657__mito', (0, 1.0)), ('T_Chorismate__chlomem', (-1, 1)), ('TO1022637_PLAS__plas', (0, 1.0)), ('R04952__cytop', (0, 1.0)), ('R04507__cytop', (0, 1.0)), ('R00158__cytop', (-1.0, 1.0)), ('R00746__e_r_', (-1.0, 1.0)), ('R00122__golg', (0, 1.0)), ('R07003__chlo', (0, 1.0)), ('T_Cholesterol__ermem', (-1, 1)), ('R08678__chlo', (0, 1.0)), ('R00112__mito', (0, 1.0)), ('R04566__chlo', (0, 1.0)), ('R04097__mito', (0, 1.0)), ('R07091__chlo', (0, 1.0)), ('R02327__cytop', (0, 1.0)), ('R03634__cytop', (0, 1.0)), ('R02480__mito', (0, 1.0)), ('EX_C00147__dra', (0, 1)), ('R08361__cytop', (0, 1)), ('R01682__cytop', (0, 1.0)), ('R02739__chlo', (-1.0, 1.0)), ('R01715__chlo', (-1.0, 1.0)), ('R11895__chlo', (0, 1.0)), ('R00674__chlo', (0, 1.0)), ('R09223__cytop', (0, 1.0)), ('R03352__mito', (0, 1.0)), ('T_Icosenoyl_CoA__ermem', (0, 1)), ('EX_C02986__dra', (0, 1)), ('R02091__nucl', (0, 1.0)), ('R00851__e_r_', (0, 1.0)), ('R01009__cytop', (0, 1.0)), ('TO1100259_PLAS__plas', (0, 1.0)), ('R02029__chlo', (0, 1.0)), ('R07211__cytop', (0, 1.0)), ('R02003__mito', (0, 1.0)), ('R00390__chlo', (0, 1.0)), ('R02014__cytop', (0, 1.0)), ('R07447__e_r_', (0, 1.0)), ('R12403__e_r_', (0, 1.0)), ('R11063__cytop', (0, 1.0)), ('R05355__cytop', (0, 1.0)), ('R04955__chlo', (0, 1.0)), ('R12170__e_r_', (0, 1.0)), ('R02566__cytop', (0, 1.0)), ('TI3000694_PLAS__plas', (0, 1.0)), ('EX_C00244__dra', (-1, 1)), ('R01013__e_r_', (0, 1.0)), ('R01736__mito', (0, 1.0)), ('R00243__chlo', (0, 1.0)), ('R08255__e_r_', (0, 1.0)), ('R01288__mito', (-1.0, 1.0)), ('R01810__extr', (0, 1.0)), ('R12612__cytop', (0, 1)), ('R05556__e_r_', (0, 1.0)), ('T_Hydrogen_Peroxide__plas', (-1, 1)), ('R01187__mito', (0, 1.0)), ('R02353__e_r_', (0, 1.0)), ('R05803__cytop', (0, 1.0)), ('R10115__chlo', (0, 1.0)), ('R01752__chlo', (0, 1.0)), ('R07764__chlo', (0, 1.0)), ('R03293__mito', (0, 1.0)), ('DM_photon673__chlo', (0, 1)), ('R11312__chlo', (0, 1.0)), ('R01481__e_r_', (0, 1.0)), ('R11527__extr', (0, 1.0)), ('R05725__e_r_', (0, 1.0)), ('R02291__cytop', (0, 1.0)), ('R06520__chlo', (0, 1.0)), ('R09726__cytop', (0, 1.0)), ('R03656__cytop', (0, 1.0)), ('R07113__chlo', (0, 1.0)), ('R07898__pero', (-1.0, 1.0)), ('R00570__cytop', (0, 1.0)), ('EX_C00025__dra', (0, 1)), ('R03601__chlo', (0, 1.0)), ('R00408__chlo', (0, 1)), ('R01600__cytop', (0, 1.0)), ('R04325__mito', (0, 1.0)), ('R03330__e_r_', (0, 1.0)), ('R01626__mito', (0, 1.0)), ('R11061__pero', (0, 1.0)), ('R11231__cytop', (0, 1.0)), ('R08767__mito', (0, 1)), ('R00878__cytop', (-1.0, 1.0)), ('R07895__mito', (-1.0, 1.0)), ('R07859__cytop', (0, 1.0)), ('R02846__cytop', (0, 1.0)), ('R07054__chlo', (0, 1.0)), ('TO3000349_MITO__mitmem', (0, 1.0)), ('R04355__chlo', (0, 1.0)), ('EX_C02426__dra', (0, 1)), ('R04724__cytop', (0, 1.0)), ('R02549__mito', (0, 1.0)), ('T__GlcNAc_2_Man_9_Asn_1__golmem', (0, 1)), ('R03936__cytop', (0, 1.0)), ('R01968__cytop', (0, 1.0)), ('EX_C00535__dra', (0, 1)), ('R09540__chlo', (0, 1.0)), ('R00129__chlo', (0, 1.0)), ('TO0000254_PLAS__plas', (0, 1.0)), ('R11308__chlo', (0, 1.0)), ('R01058__cytop', (0, 1.0)), ('R03601__cytop', (0, 1.0)), ('R03174__mito', (-1.0, 1.0)), ('R01663__nucl', (0, 1.0)), ('R07893__pero', (-1.0, 1.0)), ('R04756__mito', (-1.0, 1.0)), ('R02581__mito', (0, 1.0)), ('R03775__e_r_', (-1.0, 1.0)), ('R04861__mito', (0, 1)), ('R02088__e_r_', (0, 1.0)), ('EX_C00262__dra', (0, 1)), ('e_Pigment__chlo', (0, 1)), ('R01799__chlo', (0, 1.0)), ('TO1101605_PLAS__plas', (0, 1.0)), ('TZ3100002_PLAS__plas', (0, 1.0)), ('R02590__nucl', (0, 1.0)), ('R01706__chlo', (0, 1.0)), ('R02047__cytop', (0, 1.0)), ('R06947__chlo', (0, 1.0)), ('R04292__cytop', (0, 1.0)), ('R07942__cytop', (0, 1.0)), ('R01209__mito', (0, 1.0)), ('R07002__e_r_', (0, 1.0)), ('R11553__nucl', (0, 1.0)), ('R00889__cytop', (0, 1.0)), ('R04444__cytop', (0, 1.0)), ('R01655__cytop', (0, 1.0)), ('EX_C20836__dra', (0, 1)), ('R08551__cytop', (0, 1.0)), ('R07010__cytop', (0, 1)), ('TO1100020_PLAS__chlomem', (0, 1.0)), ('TR0000150_PLAS__plas', (-1, 1)), ('R02058__cytop', (0, 1.0)), ('R09503__chlo', (0, 1)), ('RXN_12753__chlo', (0, 1)), ('TR2000163_PLAS__golmem', (-1.0, 1.0)), ('R00894__chlo', (0, 1.0)), ('R01664__e_r_', (0, 1.0)), ('R03238__cytop', (0, 1.0)), ('TZ3100029_PLAS__plas', (0, 1.0)), ('R01432__cytop', (-1.0, 1.0)), ('R03877__chlo', (0, 1.0)), ('R04773__cytop', (0, 1)), ('TO0000577_PLAS__plas', (0, 1.0)), ('R11101__chlo', (0, 1.0)), ('R02678__cytop', (0, 1)), ('R00782__cytop', (0, 1.0)), ('R12477__golg', (0, 1.0)), ('R00372__pero', (-1.0, 1.0)), ('TO3001162_PLAS__plas', (0, 1.0)), ('R08343__chlo', (0, 1.0)), ('TR2000175_PLAS__golmem', (-1.0, 1.0)), ('R12183__mito', (0, 1.0)), ('R08964__nucl', (-1.0, 1.0)), ('R07045__chlo', (0, 1.0)), ('R07092__cytop', (0, 1.0)), ('R04903__cytop', (0, 1.0)), ('R02750__cytop', (0, 1.0)), ('R10563__e_r_', (0, 1.0)), ('T_L_Leucine_V1__vacmem', (0, 1.0)), ('R08300__e_r_', (0, 1.0)), ('R02688__e_r_', (0, 1.0)), ('R01951__cytop', (0, 1.0)), ('PKS_C122__cytop', (0, 1.0)), ('R00662__mito', (0, 1.0)), ('R00724__chlo', (0, 1.0)), ('R05086__cytop', (0, 1.0)), ('T_CO2_V3__ermem', (-1, 1)), ('R00416__cytop', (-1.0, 1.0)), ('EX_C00704__dra', (0, 1)), ('T_Hexadecanoic_acid__chlomem', (0, 1)), ('R02984__cytop', (-1.0, 1.0)), ('R09562__e_r_', (0, 1.0)), ('R05053__cytop', (0, 1.0)), ('R02297__cytop', (-1.0, 1.0)), ('R11104__nucl', (0, 1.0)), ('R04859__chlo', (0, 1.0)), ('R04430__mito', (0, 1.0)), ('R06605__mito', (0, 1)), ('R04427__e_r_', (0, 1.0)), ('R04749__chlo', (-1.0, 1.0)), ('R07409__mito', (0, 1.0)), ('R01372__chlo', (0, 1.0)), ('R10951__nucl', (0, 1.0)), ('R01381__chlo', (-1.0, 1.0)), ('R03724__e_r_', (0, 1.0)), ('R02096__cytop', (0, 1)), ('R00014__chlo', (0, 1.0)), ('R09655__chlo', (-1.0, 1.0)), ('R04100__mito', (-1.0, 1.0)), ('R07763__cytop', (0, 1.0)), ('R03428__cytop', (0, 1.0)), ('R11104__cytop', (0, 1.0)), ('R02354__chlo', (0, 1.0)), ('R07087__chlo', (0, 1.0)), ('R07484__e_r_', (-1.0, 1.0)), ('R11895__cytop', (0, 1.0)), ('R04751__mito', (0, 1.0)), ('TO1100588_PLAS__plas', (0, 1.0)), ('R04941__cytop', (0, 1.0)), ('R06942__chlo', (0, 1.0)), ('R08289__cytop', (0, 1)), ('PRISM_white_LED__extr', (0, 1)), ('TZ2900062_PLAS__plas', (0, 1.0)), ('R04963__cytop', (0, 1.0)), ('R01286__cytop', (0, 1.0)), ('R08293__chlo', (0, 1.0)), ('R12172_V1__e_r_', (0, 1.0)), ('R10242__e_r_', (0, 1.0)), ('R00658__mito', (-1.0, 1.0)), ('R03524__pero', (0, 1.0)), ('R02940__cytop', (0, 1.0)), ('R00961__cytop', (0, 1.0)), ('R01176__pero', (0, 1.0)), ('R04930__cytop', (0, 1.0)), ('R01819__cytop', (-1.0, 1.0)), ('R04967__mito', (0, 1.0)), ('R01416__cytop', (0, 1.0)), ('R02413__chlo', (-1.0, 1.0)), ('R07044__e_r_', (0, 1.0)), ('R00527__cytop', (0, 1.0)), ('R00531__chlo', (0, 1.0)), ('R00161__chlo', (0, 1.0)), ('R03868__cytop', (0, 1.0)), ('R00236__mito', (0, 1.0)), ('DM_photon490__chlo', (0, 1)), ('R08717__vacu', (0, 1.0)), ('R04428__chlo', (0, 1.0)), ('R04969__chlo', (0, 1.0)), ('R10040__cytop', (0, 1.0)), ('R07889__pero', (-1.0, 1.0)), ('R08245__cytop', (0, 1.0)), ('R00405__mito', (-1.0, 1.0)), ('R02792__mito', (0, 1.0)), ('R06848__cytop', (0, 1.0)), ('R02332__cytop', (0, 1.0)), ('R01274__mito', (0, 1.0)), ('R04506__chlo', (0, 1.0)), ('R01384__mito', (0, 1.0)), ('EX_C16635__dra', (0, 1)), ('R00209__mito', (0, 1.0)), ('R04962__mito', (0, 1.0)), ('R10178__mito', (-1.0, 1.0)), ('R00515__mito', (0, 1.0)), ('R01051__cytop', (0, 1.0)), ('R09407__chlo', (0, 1.0)), ('TR2000131_PLAS__mitmem', (0, 1.0)), ('R00946__cytop', (0, 1.0)), ('EX_C00011__dra', (-1, 1)), ('R07759__e_r_', (-1.0, 1.0)), ('R02090__cytop', (-1.0, 1.0)), ('R03361__nucl', (0, 1.0)), ('R01158__cytop', (0, 1.0)), ('R09421__chlo', (0, 1.0)), ('R00274__cytop', (0, 1.0)), ('R00004__extr', (0, 1.0)), ('R03018__mito', (0, 1.0)), ('T_HCO3__mitmem', (-1, 1)), ('R10783__cytop', (-1.0, 1.0)), ('TO1000709_PLAS__plas', (0, 1.0)), ('R00316__chlo', (0, 1.0)), ('R07856__chlo', (-1.0, 1.0)), ('R01528__chlo', (0, 1.0)), ('R07025__e_r_', (0, 1.0)), ('R01185__chlo', (0, 1.0)), ('R03270__mito', (0, 1.0)), ('EX_C00962__dra', (0, 1)), ('R07070__cytop', (0, 1.0)), ('T_L_Asparagine__vacmem', (0, 1.0)), ('R00155__golg', (0, 1.0)), ('R00472__chlo', (0, 1.0)), ('R09107__cytop', (-1.0, 1.0)), ('R10928__nucl', (-1.0, 1.0)), ('R00081__mito', (0, 1.0)), ('R02872__chlo', (0, 1.0)), ('R02239__e_r_', (0, 1.0)), ('R03363__e_r_', (0, 1.0)), ('R04536__mito', (0, 1.0)), ('T_L_Lysine__chlomem', (-1.0, 1.0)), ('T_G00012__golmem', (0, 1)), ('PKS_C144__cytop', (0, 1.0)), ('R01354__chlo', (0, 1.0)), ('R01481__cytop', (0, 1.0)), ('T_Oxygen_V2__mitmem', (-1, 1)), ('R07998__cytop', (0, 1.0)), ('R10288__mito', (0, 1.0)), ('R01858__chlo', (0, 1.0)), ('R11009__e_r_', (0, 1.0)), ('EX_C00305__dra', (-1, 1)), ('R00429__mito', (0, 1.0)), ('TO1100258_PLAS__plas', (0, 1.0)), ('R02283__mito', (-1.0, 1.0)), ('R01523__chlo', (-1.0, 1.0)), ('EX_C00237__dra', (0, 1)), ('R00904__mito', (0, 1.0)), ('TI2903796_PLAS__mitmem', (-1.0, 1.0)), ('EX_C00007__dra', (-1, 1)), ('R01054__mito', (0, 1.0)), ('R07274__chlo', (0, 1.0)), ('R03777__pero', (0, 1.0)), ('R01579__chlo', (0, 1.0)), ('R01775__chlo', (0, 1.0)), ('R04742__mito', (-1.0, 1.0)), ('EX_C00283__dra', (0, 1)), ('R00258__pero', (-1.0, 1.0)), ('R09395__cytop', (0, 1.0)), ('R01041__e_r_', (-1.0, 1.0)), ('R12757__cytop', (0, 1)), ('R02670__pero', (0, 1.0)), ('EX_C01330__dra', (-1, 1)), ('R05341__chlo', (-1.0, 1.0)), ('R04964__chlo', (0, 1.0)), ('T_H2O_V5__permem', (-1, 1)), ('R08255__extr', (0, 1.0)), ('TZ2900007_PLAS__plas', (-1.0, 1.0)), ('EX_C00740__dra', (0, 1)), ('R03408__e_r_', (0, 1.0)), ('R04744__chlo', (-1.0, 1.0)), ('R03425__mito', (0, 1.0)), ('R04552__chlo', (-1.0, 1.0)), ('R02778__cytop', (0, 1.0)), ('R00330__chlo', (0, 1.0)), ('R00019__chlo', (0, 1.0)), ('R03024__extr', (0, 1.0)), ('R01056__chlo', (-1.0, 1.0)), ('R00287__mito', (0, 1.0)), ('EX_C00844__dra', (0, 1)), ('R03037__cytop', (0, 1.0)), ('R00899__chlo', (0, 1.0)), ('EX_C00014__dra', (0, 1)), ('R07111__cytop', (0, 1.0)), ('T_Formaldehyde__mitmem', (-1, 1)), ('R02326__chlo', (0, 1.0)), ('T_CMP_V2__ermem', (-1, 1)), ('R02103__cytop', (0, 1.0)), ('T_Hydrogen_Peroxide_V1__mitmem', (-1, 1)), ('R09832__cytop', (0, 1.0)), ('R04749__pero', (-1.0, 1.0)), ('R02061__chlo', (0, 1.0)), ('R03629__chlo', (0, 1.0)), ('R04959__cytop', (0, 1.0)), ('R08174__pero', (0, 1.0)), ('R00429__nucl', (0, 1.0)), ('R00190__cytop', (0, 1.0)), ('R02142__cytop', (0, 1.0)), ('R01103__cytop', (0, 1.0)), ('R09737__chlo', (0, 1.0)), ('R09406__e_r_', (0, 1.0)), ('R05578__mito', (0, 1.0)), ('R07110__mito', (0, 1.0)), ('T_L_Allothreonine__chlomem', (-1.0, 1.0)), ('R00923__mito', (0, 1.0)), ('R05688__mito', (0, 1.0)), ('R03036__mito', (0, 1.0)), ('R08177__cytop', (0, 1.0)), ('R06259__e_r_', (0, 1.0)), ('R00968__cytop', (0, 1.0)), ('R01070__chlo', (-1.0, 1.0)), ('R00348__cytop', (0, 1.0)), ('R00582__chlo', (0, 1.0)), ('R08179__pero', (0, 1.0)), ('R07111__mito', (0, 1.0)), ('R05863__cytop', (0, 1.0)), ('R04744__pero', (-1.0, 1.0)), ('R00925__chlo', (0, 1.0)), ('R07498__e_r_', (0, 1.0)), ('R02340__chlo', (0, 1.0)), ('R07021__chlo', (0, 1.0)), ('R01993__mito', (-1.0, 1.0)), ('TO1000033_PLAS__plas', (0, 1.0)), ('R10491__chlo', (0, 1.0)), ('TR2300023_PLAS__mitmem', (0, 1.0)), ('R09425__e_r_', (0, 1.0)), ('EX_C00093__dra', (0, 1)), ('R02985__e_r_', (0, 1.0)), ('R04559__mito', (-1.0, 1.0)), ('R07461__cytop', (0, 1.0)), ('R09289__chlo', (-1.0, 1.0)), ('R00866__chlo', (0, 1.0)), ('TO1100232_PLAS__plas', (0, 1.0)), ('R08166__cytop', (-1.0, 1.0)), ('R04745__pero', (-1.0, 1.0)), ('R03427__e_r_', (0, 1.0)), ('R06830__cytop', (0, 1)), ('R04503__mito', (0, 1.0)), ('RXN0_7160__nucl', (0, 1.0)), ('R00734__cytop', (-1.0, 1.0)), ('R06942__pero', (0, 1.0)), ('R09424__e_r_', (0, 1.0)), ('R04726__chlo', (0, 1.0)), ('R00206__chlo', (-1.0, 1.0)), ('R01315__cytop', (0, 1.0)), ('R07673__cytop', (-1.0, 1.0)), ('R00311__chlo', (0, 1.0)), ('R02434__mito', (0, 1)), ('R00767__cytop', (0, 1.0)), ('R02719__cytop', (0, 1.0)), ('TR2900004_PLAS__mitmem', (-1.0, 1.0)), ('R04224__mito', (0, 1.0)), ('R01398__cytop', (0, 1.0)), ('EX_C02659__dra', (0, 1)), ('R02985__vacu', (0, 1.0)), ('R03530__mito', (-1.0, 1.0)), ('R01801__e_r_', (0, 1.0)), ('R02098__chlo', (-1.0, 1.0)), ('R09692__chlo', (0, 1.0)), ('R00751__chlo', (-1.0, 1.0)), ('R02909__cytop', (0, 1.0)), ('R01354__cytop', (0, 1.0)), ('R00974__nucl', (0, 1.0)), ('R03089__e_r_', (0, 1.0)), ('R10951__cytop', (0, 1.0)), ('R00516__cytop', (0, 1.0)), ('R07100__cytop', (0, 1.0)), ('T_SAM_V1__ermem', (-1, 1)), ('R01909__cytop', (0, 1.0)), ('R07558__chlo', (0, 1.0)), ('T_SUCFUMthr__chlomem', (-1, 1)), ('R01800__e_r_', (0, 1.0)), ('T_FADH2__chlomem', (-1, 1)), ('TO1100157_PLAS__plas', (0, 1.0)), ('R12571__cytop', (0, 1.0)), ('R03197__cytop', (0, 1.0)), ('R01279__mito', (0, 1.0)), ('R06127__cytop', (0, 1.0)), ('TO1000322_PLAS__plas', (0, 1.0)), ('R03186__cytop', (0, 1.0)), ('TO1000724_PLAS__plas', (0, 1.0)), ('T_all_trans_Nonaprenyl_diphosphate__chlomem', (-1, 1)), ('T_MalonylCoA__ermem', (-1, 1)), ('R08265__chlo', (0, 1.0)), ('R08094__mito', (0, 1.0)), ('R03660__cytop', (0, 1.0)), ('R02265__mito', (0, 1.0)), ('T_L_Valine__chlomem', (-1.0, 1.0)), ('R02688__cytop', (0, 1.0)), ('R00900__mito', (-1.0, 1.0)), ('R00127__nucl', (-1.0, 1.0)), ('R05068__chlo', (0, 1.0)), ('R02030__mito', (0, 1.0)), ('R05634__chlo', (0, 1.0)), ('R01274__cytop', (0, 1.0)), ('R00566__cytop', (0, 1.0)), ('RXN_11884__e_r_', (-1.0, 1.0)), ('R10147__chlo', (0, 1.0)), ('R02493__cytop', (0, 1.0)), ('R00940__cytop', (0, 1.0)), ('R02746__cytop', (0, 1.0)), ('R07897__chlo', (-1.0, 1.0)), ('R07238__chlo', (0, 1.0)), ('R11319__nucl', (-1.0, 1.0)), ('R07889__chlo', (-1.0, 1.0)), ('R01324__mito', (-1.0, 1.0)), ('TO1100154_PLAS__plas', (0, 1.0)), ('R03237__cytop', (0, 1.0)), ('T_ACACtm__mitmem', (-1, 1)), ('R05799__nucl', (0, 1.0)), ('R03355__cytop', (0, 1.0)), ('R00562__mito', (0, 1.0)), ('R00529__mito', (0, 1.0)), ('R11894__cytop', (0, 1)), ('R04533__cytop', (0, 1.0)), ('EX_C01419__dra', (0, 1)), ('R07105__cytop', (0, 1.0)), ('R03572__cytop', (0, 1.0)), ('RXN_16380__pero', (0, 1.0)), ('R07179__chlo', (0, 1.0)), ('R06366__chlo', (0, 1.0)), ('R00621__mito', (0, 1.0)), ('R05862__cytop', (0, 1.0)), ('R10035__cytop', (0, 1.0)), ('R04738__mito', (-1.0, 1.0)), ('R01771__chlo', (0, 1.0)), ('R02529__cytop', (0, 1.0)), ('R10115__cytop', (0, 1.0)), ('TR0000098_PLAS__plas', (-1.0, 1.0)), ('T_Hexadecanoic_acid_V1__ermem', (0, 1)), ('R06411__cytop', (-1, 1)), ('T_Linoleoyl_CoA__ermem', (0, 1)), ('TZ2900004_PLAS__chlomem', (-1.0, 1.0)), ('R07760__pero', (-1.0, 1.0)), ('R04170__mito', (-1.0, 1.0)), ('TR0000058_PLAS__plas', (0, 1)), ('T_Oxygen_V5__nucmem', (-1, 1)), ('R08178__cytop', (0, 1.0)), ('R00342__mito', (-1.0, 1.0)), ('RXN_21829__e_r_', (0, 1.0)), ('R04429__chlo', (0, 1.0)), ('R08181__cytop', (0, 1.0)), ('R07364__nucl', (0, 1.0)), ('R02985__cytop', (0, 1.0)), ('R07268__mito', (0, 1.0)), ('R06519__e_r_', (0, 1.0)), ('R07026__e_r_', (0, 1.0)), ('R02026__cytop', (0, 1.0)), ('TO1000135_PLAS__plas', (0, 1.0)), ('TO1001242_PLAS__plas', (0, 1.0)), ('R01126__cytop', (0, 1.0)), ('R07355__cytop', (0, 1.0)), ('R05071__chlo', (-1.0, 1.0)), ('R06264__e_r_', (0, 1.0)), ('R03646__mito', (0, 1.0)), ('R00216__chlo', (0, 1.0)), ('R01818__cytop', (-1.0, 1.0)), ('TR0000075_PLAS__plas', (0, 1.0)), ('R00127__mito', (-1.0, 1.0)), ('R04953__mito', (0, 1.0)), ('R10852__chlo', (0, 1.0)), ('RXN_16655__cytop', (0, 1.0)), ('T_MANtg__golmem', (-1, 1)), ('R07850__chlo', (0, 1.0)), ('R01252__cytop', (0, 1.0)), ('R01830__chlo', (-1.0, 1.0)), ('RXN_14051__mito', (-1.0, 1.0)), ('R00962__cytop', (0, 1.0)), ('R04920__golg', (0, 1.0)), ('R04740__pero', (-1.0, 1.0)), ('R11174__e_r_', (0, 1.0)), ('R01361__mito', (-1.0, 1.0)), ('R00085__cytop', (0, 1.0)), ('5DORK__cytop', (0, 1.0)), ('R00926__chlo', (0, 1.0)), ('RXN_19210_V3__chlo', (0, 1.0)), ('R05722__pero', (0, 1.0)), ('R09425__chlo', (0, 1.0)), ('R08192__pero', (0, 1.0)), ('R04640__cytop', (0, 1.0)), ('R00156__chlo', (0, 1.0)), ('R01431__cytop', (0, 1.0)), ('R10994__cytop', (0, 1.0)), ('RXN_19211__chlo', (0, 1.0)), ('RXN_13441__e_r_', (0, 1.0)), ('R03429__cytop', (0, 1.0)), ('R02353__cytop', (0, 1.0)), ('TR2000104_PLAS__mitmem', (-1.0, 1.0)), ('R01138__chlo', (0, 1.0)), ('R03845__chlo', (0, 1.0)), ('R03210__mito', (0, 1.0)), ('R07081__chlo', (0, 1.0)), ('R01082__mito', (-1.0, 1.0)), ('R09073__e_r_', (0, 1.0)), ('R07042__cytop', (0, 1)), ('R08255__cytop', (0, 1.0)), ('R02331__cytop', (0, 1.0)), ('EX_C00951__dra', (0, 1)), ('R10688__e_r_', (-1.0, 1.0)), ('R00159__golg', (0, 1.0)), ('R01104__cytop', (0, 1.0)), ('R00341__cytop', (0, 1.0)), ('R00149__mito', (0, 1.0)), ('R10764__mito', (-1.0, 1.0)), ('R12427__chlo', (0, 1.0)), ('R03650__mito', (0, 1.0)), ('R02097__cytop', (0, 1.0)), ('R00316__cytop', (0, 1.0)), ('R07764__cytop', (0, 1.0)), ('R07601__mito', (0, 1.0)), ('R09087__cytop', (0, 1.0)), ('R06447__e_r_', (0, 1.0)), ('R01148__cytop', (-1.0, 1.0)), ('TZ2900008_PLAS__vacmem', (-1.0, 1.0)), ('R01466__cytop', (0, 1.0)), ('R03416__cytop', (0, 1.0)), ('T_Thiamine__chlomem', (-1, 1)), ('R03869__cytop', (0, 1.0)), ('R07762__mito', (-1.0, 1.0)), ('R04137__mito', (-1.0, 1.0)), ('EX_C00327__dra', (0, 1)), ('T_OAAAKGtm__mitmem', (-1.0, 1.0)), ('R04543__chlo', (0, 1.0)), ('R04953__cytop', (0, 1.0)), ('RXN_12968__e_r_', (0, 1.0)), ('T_L_Leucine_V2__mitmem', (-1.0, 1.0)), ('R04734__cytop', (0, 1.0)), ('R01857__chlo', (0, 1.0)), ('R04957__mito', (0, 1.0)), ('R03655__mito', (0, 1.0)), ('EX_C00078__dra', (0, 1)), ('R01230__cytop', (0, 1.0)), ('R07034__e_r_', (0, 1.0)), ('R07094__e_r_', (0, 1.0)), ('EX_C00402__dra', (0, 1)), ('R04204__chlo', (0, 1.0)), ('R00782__mito', (0, 1.0)), ('R02957__cytop', (0, 1.0)), ('R07270__chlo', (0, 1.0)), ('T_Glucosylceramide__ermem', (0, 1)), ('R08300__cytop', (0, 1.0)), ('R04958__mito', (0, 1.0)), ('R12300__mito', (0, 1.0)), ('TI3000692_PLAS__plas', (0, 1.0)), ('R03596__mito', (0, 1.0)), ('R04962__cytop', (0, 1.0)), ('R01280__cytop', (0, 1.0)), ('TI3001549_PLAS__plas', (0, 1.0)), ('T_Glycine__chlomem', (-1.0, 1.0)), ('RXN_1641__e_r_', (0, 1.0)), ('R00137__cytop', (0, 1.0)), ('T_NADtr__ermem', (-1, 1)), ('R10507__mito', (0, 1.0)), ('R07099__e_r_', (0, 1.0)), ('R07001__e_r_', (0, 1.0)), ('R00286__cytop', (0, 1.0)), ('R05064__mito', (0, 1.0)), ('R01280__e_r_', (0, 1.0)), ('R00159__cytop', (0, 1.0)), ('EX_C00819__dra', (0, 1)), ('R00115__chlo', (0, 1.0)), ('T_Biotin__mitmem', (-1, 1)), ('R11319__mito', (-1.0, 1.0)), ('R12423__chlo', (0, 1.0)), ('R08294__chlo', (0, 1.0)), ('R00678__cytop', (0, 1)), ('DEDOLP1__chlo', (0, 1.0)), ('R01175__pero', (0, 1.0)), ('R07393__cytop', (0, 1.0)), ('R00220__cytop', (0, 1)), ('R10851__cytop', (0, 1.0)), ('R04783__cytop', (0, 1.0)), ('R01639__cytop', (0, 1.0)), ('R05238__cytop', (0, 1.0)), ('TO1000105_PLAS__plas', (0, 1.0)), ('R00994__cytop', (0, 1.0)), ('R03096__cytop', (0, 1.0)), ('T_CO_V1__chlomem', (-1, 1)), ('R00217__mito', (0, 1.0)), ('R06740__cytop', (0, 1.0)), ('TO1000066_PLAS__plas', (0, 1.0)), ('R07892__pero', (-1.0, 1.0)), ('EX_C00410__dra', (0, 1)), ('TR2000144_PLAS__golmem', (-1.0, 1.0)), ('R07758__e_r_', (-1.0, 1.0)), ('TR2900000_PLAS__mitmem', (-1.0, 1.0)), ('R02568__mito', (-1.0, 1.0)), ('R04560__cytop', (-1.0, 1.0)), ('R04138__mito', (0, 1.0)), ('R04428__cytop', (0, 1.0)), ('R00770__cytop', (0, 1.0)), ('R09540__cytop', (0, 1.0)), ('R09993__cytop', (0, 1.0)), ('R00343__chlo', (-1.0, 1.0)), ('R02035__cytop', (0, 1.0)), ('R03417__extr', (0, 1.0)), ('T_4_Aminobutanoate_V1__mitmem', (-1, 1)), ('TO0010516_PLAS__mitmem', (0, 1.0)), ('R11099__chlo', (0, 1.0)), ('RXN_11876__e_r_', (-1.0, 1.0)), ('TO3000356_E_R___ermem', (0, 1.0)), ('R00181__nucl', (0, 1.0)), ('R08926__cytop', (-1.0, 1.0)), ('R05842__mito', (0, 1.0)), ('R00472__pero', (0, 1.0)), ('R00236__cytop', (0, 1.0)), ('T_FattyAcid__ermem', (0, 1)), ('R03646__cytop', (0, 1.0)), ('R03243__cytop', (-1.0, 1.0)), ('TR2000132_PLAS__ermem', (-1.0, 1.0)), ('R02355__chlo', (0, 1.0)), ('R11098__chlo', (0, 1.0)), ('R02247__e_r_', (0, 1.0)), ('R01231__cytop', (0, 1.0)), ('R02433__cytop', (-1.0, 1.0)), ('R00465__cytop', (-1.0, 1.0)), ('R00291__cytop', (-1.0, 1.0)), ('R09656__chlo', (0, 1.0)), ('R01842__e_r_', (0, 1.0)), ('R02366__cytop', (0, 1.0)), ('EX_C02336__dra', (0, 1)), ('R00590__mito', (0, 1.0)), ('R07674__mito', (-1.0, 1.0)), ('R05578__cytop', (0, 1.0)), ('R07110__cytop', (0, 1.0)), ('R00158__mito', (-1.0, 1.0)), ('R04031__cytop', (-1.0, 1.0)), ('R00115__cytop', (0, 1.0)), ('R04956__chlo', (0, 1.0)), ('R12299__cytop', (0, 1)), ('R06521__chlo', (0, 1.0)), ('EX_C00032__dra', (0, 1)), ('R12570__cytop', (0, 1.0)), ('R00434__nucl', (0, 1.0)), ('R05922__e_r_', (0, 1.0)), ('RXN_19210_V2__chlo', (0, 1.0)), ('R02619__cytop', (0, 1.0)), ('R07460__cytop', (0, 1.0)), ('EX_C00133__dra', (0, 1)), ('TO0001430_PLAS__plas', (0, 1.0)), ('T_CO2_V4__golmem', (-1, 1)), ('R09423__cytop', (0, 1)), ('R01547__chlo', (-1.0, 1.0)), ('TO3001154_PLAS__plas', (0, 1.0)), ('R08190__mito', (0, 1.0)), ('R03186__chlo', (0, 1.0)), ('EX_C00065__dra', (0, 1)), ('R05575__pero', (-1.0, 1.0)), ('TI3000050_E_R___ermem', (0, 1.0)), ('R07044__chlo', (0, 1.0)), ('R04969__cytop', (0, 1.0)), ('EX_C05697__dra', (0, 1)), ('R07237__chlo', (0, 1.0)), ('R00405__cytop', (-1.0, 1.0)), ('R04443__cytop', (0, 1)), ('TO0000365_PLAS__plas', (0, 1.0)), ('R07015__cytop', (0, 1.0)), ('TI2903792_PLAS__mitmem', (0, 1.0)), ('TO1100448_PLAS__plas', (0, 1.0)), ('T_SLC25A17_V5__permem', (0, 1.0)), ('R00895__cytop', (-1.0, 1.0)), ('R07011__cytop', (0, 1)), ('R07679__mito', (0, 1.0)), ('RXN_13294__e_r_', (0, 1.0)), ('R09833__chlo', (0, 1.0)), ('T_Oxygen__plas', (-1, 1)), ('T_L_Serine__chlomem', (-1.0, 1.0)), ('R06263__e_r_', (0, 1.0)), ('R10634__mito', (0, 1.0)), ('R02747__extr', (0, 1.0)), ('R01364__cytop', (0, 1.0)), ('T_NADP__ermem', (-1, 1)), ('R08165__cytop', (0, 1.0)), ('EX_C07585__dra', (0, 1)), ('R12461__nucl', (0, 1.0)), ('R10170__chlo', (0, 1.0)), ('R01641__chlo', (-1.0, 1.0)), ('EX_C01801__dra', (0, 1)), ('EX_C00068__dra', (0, 1)), ('R01549__nucl', (0, 1.0)), ('R10634__nucl', (0, 1.0)), ('R02199__chlo', (-1.0, 1.0)), ('R07674__cytop', (-1.0, 1.0)), ('T_AMP__golmem', (-1, 1)), ('R03460__chlo', (0, 1.0)), ('R01049__mito', (0, 1.0)), ('R04737__mito', (-1.0, 1.0)), ('R03353__e_r_', (-1.0, 1.0)), ('R02291__chlo', (0, 1.0)), ('R00480__cytop', (0, 1.0)), ('R06366__cytop', (0, 1.0)), ('R03819__cytop', (0, 1.0)), ('EX_C18846__dra', (0, 1)), ('R03661__cytop', (0, 1.0)), ('RXN_19210__chlo', (0, 1.0)), ('R07894__mito', (-1.0, 1.0)), ('T_L_Isoleucine_V1__mitmem', (-1.0, 1.0)), ('R09072__e_r_', (0, 1.0)), ('R00251__cytop', (0, 1.0)), ('R03182__mito', (0, 1.0)), ('R12428__chlo', (0, 1.0)), ('R01794__cytop', (0, 1.0)), ('TO1000314_PLAS__plas', (0, 1.0)), ('R07765__chlo', (0, 1.0)), ('R06128__cytop', (0, 1.0)), ('R10687__e_r_', (-1.0, 1.0)), ('R02053__cytop', (0, 1.0)), ('R01826__chlo', (0, 1.0)), ('R07600__mito', (0, 1.0)), ('T_Orthophosphate__ermem', (-1, 1)), ('R03875__nucl', (0, 1.0)), ('R00742__chlo', (0, 1.0)), ('R04286__cytop', (0, 1.0)), ('R09372__chlo', (0, 1.0)), ('R00024__chlo', (0, 1.0)), ('R05052__cytop', (0, 1.0)), ('R01360__mito', (0, 1.0)), ('TR0000026_PLAS__golmem', (0, 1.0)), ('T_L_Serine_V1__mitmem', (-1.0, 1.0)), ('R03778__mito', (-1.0, 1.0)), ('R10548__nucl', (0, 1.0)), ('R00755__cytop', (0, 1.0)), ('EX_C00082__dra', (0, 1)), ('R07897__pero', (-1.0, 1.0)), ('R00019__cytop', (0, 1.0)), ('R12376__cytop', (0, 1.0)), ('R08208__cytop', (0, 1.0)), ('R12424__mito', (0, 1.0)), ('T_Octadecanoic_acid__chlomem', (0, 1)), ('R02887__chlo', (0, 1.0)), ('R00432__mito', (-1.0, 1.0)), ('R11645__e_r_', (0, 1.0)), ('T_NADH__chlomem', (-1, 1)), ('R02971__mito', (0, 1.0)), ('TR2900030_CHLO__chlomem', (0, 1.0)), ('R04849__e_r_', (0, 1.0)), ('R05220__mito', (0, 1.0)), ('R09368__cytop', (0, 1)), ('R02702__cytop', (0, 1.0)), ('R01829__chlo', (-1.0, 1.0)), ('R07899__pero', (-1.0, 1.0)), ('R00093__chlo', (0, 1.0)), ('R04203__pero', (-1.0, 1.0)), ('R01528__cytop', (0, 1.0)), ('R07267__mito', (0, 1.0)), ('R03968__chlo', (0, 1.0)), ('EX_C02265__dra', (0, 1)), ('T_L_Methionine_V1__mitmem', (-1.0, 1.0)), ('R01086__cytop', (0, 1.0)), ('R04326__mito', (0, 1.0)), ('T_IMP__chlomem', (-1, 1)), ('TR0000966_PLAS__plas', (-1.0, 1.0)), ('TO1000610_PLAS__plas', (0, 1.0)), ('R00430__chlo', (0, 1.0)), ('R05819__chlo', (0, 1.0)), ('R00964__nucl', (0, 1.0)), ('R08193__cytop', (-1.0, 1.0)), ('R00369__cytop', (-1.0, 1.0)), ('R05506__pero', (-1.0, 1.0)), ('R04237__chlo', (0, 1.0)), ('EX_C14819__dra', (0, 1)), ('R04457__chlo', (0, 1.0)), ('R00248__chlo', (-1.0, 1.0)), ('R00517__cytop', (0, 1.0)), ('R03028__mito', (0, 1.0)), ('R02163__mito', (0, 1.0)), ('R04954__chlo', (0, 1.0)), ('R01518__chlo', (-1.0, 1.0)), ('R01187__golg', (0, 1.0)), ('R01135__cytop', (0, 1.0)), ('T_5_Methylthioadenosine_V1__ermem', (-1, 1)), ('R05259__chlo', (0, 1.0)), ('R00069__cytop', (0, 1)), ('R02889__cytop', (0, 1.0)), ('R06590__chlo', (0, 1.0)), ('T_Orotate__mitmem', (-1, 1)), ('TO1000129_PLAS__plas', (0, 1.0)), ('R01252__e_r_', (0, 1.0)), ('R00710__chlo', (0, 1.0)), ('R02164__mito', (0, 1.0)), ('T__11Z_14Z__Icosadienoyl_CoA__ermem', (0, 1)), ('R04545__cytop', (0, 1.0)), ('R04173__chlo', (-1.0, 1.0)), ('TI3000836_PLAS__plas', (0, 1.0)), ('R07178__chlo', (0, 1.0)), ('R03655__cytop', (0, 1.0)), ('R01827__mito', (-1.0, 1.0)), ('R04952__mito', (0, 1.0)), ('R01163__cytop', (0, 1.0)), ('R07395__nucl', (0, 1.0)), ('T_Oleoyl_CoA__ermem', (0, 1)), ('R00582__cytop', (0, 1.0)), ('R00966__nucl', (0, 1.0)), ('R06514__cytop', (0, 1.0)), ('R01513__chlo', (-1.0, 1.0)), ('R05000__mito', (0, 1.0)), ('TZ2900024_PLAS__chlomem', (-1.0, 1.0)), ('EX_C00984__dra', (0, 1)), ('R03090__chlo', (0, 1.0)), ('R01177__mito', (-1.0, 1.0)), ('R00174__cytop', (0, 1.0)), ('R01512__mito', (-1.0, 1.0)), ('R04143__cytop', (0, 1.0)), ('R07324__cytop', (0, 1.0)), ('R01015__chlo', (-1.0, 1.0)), ('R07891__mito', (-1.0, 1.0)), ('R01392__cytop', (0, 1.0)), ('R04300__cytop', (0, 1.0)), ('R00935__pero', (0, 1.0)), ('R00187__mito', (0, 1.0)), ('R08300__extr', (0, 1.0)), ('R04672__chlo', (0, 1.0)), ('RXN_13322__e_r_', (0, 1.0)), ('R02940__chlo', (0, 1.0)), ('TR0000034_PLAS__plas', (-1, 1)), ('R07512__chlo', (-1.0, 1.0)), ('R01731__mito', (0, 1.0)), ('R04844__e_r_', (0, 1.0)), ('R01569__e_r_', (0, 1.0)), ('R03311__cytop', (0, 1)), ('R12167__e_r_', (0, 1.0)), ('TO0000412_PLAS__vacmem', (0, 1.0)), ('R07893__chlo', (-1.0, 1.0)), ('R03482__e_r_', (0, 1.0)), ('R00925__cytop', (0, 1.0)), ('RXN_12994__e_r_', (0, 1.0)), ('R05818__chlo', (0, 1.0)), ('R09416__e_r_', (0, 1.0)), ('T_TCYNTtm__mitmem', (-1, 1)), ('R10907__cytop', (0, 1)), ('R01514__chlo', (0, 1.0)), ('EX_C00183__dra', (0, 1)), ('R01185__cytop', (0, 1.0)), ('R04204__pero', (0, 1.0)), ('R03026__mito', (-1.0, 1.0)), ('TI3000535_PLAS__plas', (0, 1.0)), ('EX_C00114__dra', (0, 1)), ('R03920__cytop', (0, 1.0)), ('T_Ammonia_V3__permem', (-1, 1)), ('R12459__mito', (0, 1.0)), ('R04963__chlo', (0, 1.0)), ('PKS_C40__cytop', (0, 1.0)), ('R00256__mito', (0, 1.0)), ('TR0011456_PLAS__ermem', (-1.0, 1.0)), ('R08743__cytop', (0, 1.0)), ('R00719__golg', (0, 1.0)), ('R12390__mito', (0, 1.0)), ('R07977__cytop', (0, 1.0)), ('R00716__cytop', (-1.0, 1.0)), ('R04968__mito', (0, 1.0)), ('R12356__pero', (0, 1.0)), ('TO1000100_PLAS__plas', (0, 1.0)), ('R09832__chlo', (0, 1.0)), ('R04058__extr', (0, 1.0)), ('R07083__chlo', (0, 1.0)), ('R08770__mito', (0, 1.0)), ('R12416__e_r_', (0, 1.0)), ('R06063__cytop', (0, 1)), ('R10619__cytop', (-1.0, 1.0)), ('R05286__cytop', (0, 1.0)), ('R00216__cytop', (0, 1.0)), ('R00257__cytop', (0, 1.0)), ('T_FADH2_V2__mitmem', (-1, 1)), ('R02746__extr', (0, 1.0)), ('R03140__chlo', (0, 1.0)), ('R02016__chlo', (0, 1.0)), ('R01770__cytop', (0, 1.0)), ('R10994__chlo', (0, 1.0)), ('RXN_11959__e_r_', (0, 1.0)), ('R00768__cytop', (0, 1.0)), ('PKS_C81__cytop', (0, 1.0)), ('R01123__chlo', (-1.0, 1.0)), ('R00087__mito', (0, 1.0)), ('R00310__chlo', (0, 1.0)), ('RXN_16096__e_r_', (0, 1.0)), ('R00963__cytop', (0, 1.0)), ('R00197__mito', (0, 1.0)), ('R07531__chlo', (0, 1.0)), ('R07003__e_r_', (0, 1.0)), ('R08343__e_r_', (0, 1.0)), ('R00200__chlo', (0, 1.0)), ('T_Palmitoleoyl_CoA__ermem', (0, 1)), ('R05234__cytop', (-1.0, 1.0)), ('R04920__e_r_', (0, 1.0)), ('TO3001378_PLAS__plas', (0, 1.0)), ('R00548__cytop', (0, 1.0)), ('R01317__cytop', (0, 1.0)), ('R05237__cytop', (0, 1.0)), ('RXN_12754__chlo', (0, 1)), ('T_Arachidonyl_CoA__ermem', (0, 1)), ('EX_C00049__dra', (0, 1)), ('T_L_Tyrosine__chlomem', (-1.0, 1.0)), ('PRISM_solar_exo__extr', (0, 1)), ('R11308__vacu', (0, 1.0)), ('R02124__cytop', (-1, 1)), ('R03314__mito', (0, 1)), ('R02434__cytop', (0, 1)), ('R09450__pero', (0, 1.0)), ('R08358__cytop', (0, 1)), ('R00238__pero', (-1.0, 1.0)), ('R08306__cytop', (-1.0, 1.0)), ('TI3000298_PLAS__plas', (0, 1.0)), ('EX_C02380__dra', (0, 1)), ('R06520__e_r_', (0, 1.0)), ('R10035__e_r_', (0, 1.0)), ('R07463__chlo', (0, 1.0)), ('TZ2900065_PLAS__plas', (0, 1.0)), ('R00120__cytop', (0, 1.0)), ('T_3__4_Hydroxyphenyl_pyruvate__mitmem', (0, 1)), ('R00708__cytop', (0, 1.0)), ('R00572__chlo', (0, 1.0)), ('R00221__chlo', (0, 1.0)), ('R03327__e_r_', (-1.0, 1.0)), ('R01968__e_r_', (0, 1.0)), ('R03429__nucl', (0, 1.0)), ('T_L_Aspartate__chlomem', (-1.0, 1.0)), ('T_L_Serine_V2__ermem', (0, 1)), ('R10179__mito', (-1.0, 1.0)), ('T__9Z_12Z__hexadeca_9_12_dienoate__ermem', (0, 1)), ('T_NADtm__mitmem', (-1, 1)), ('R04144__cytop', (0, 1.0)), ('R00345__mito', (0, 1.0)), ('R01083__cytop', (0, 1.0)), ('R03330__nucl', (0, 1.0)), ('e_Protein__cytop', (0, 1)), ('R03051__chlo', (0, 1.0)), ('R00131__cytop', (0, 1.0)), ('R01072__cytop', (0, 1.0)), ('TI3000040_PLAS__mitmem', (0, 1.0)), ('EX_C00794__dra', (0, 1)), ('R07763__chlo', (0, 1.0)), ('R05703__e_r_', (0, 1.0)), ('R05577__cytop', (0, 1.0)), ('R03139__cytop', (0, 1.0)), ('R02236__cytop', (0, 1.0)), ('TO0000017_PLAS__mitmem', (0, 1.0)), ('R09366__cytop', (0, 1.0)), ('TO0000244_PLAS__plas', (0, 1.0)), ('R03220__chlo', (0, 1.0)), ('R00066__chlo', (0, 1.0)), ('R04743__mito', (-1.0, 1.0)), ('R03869__mito', (0, 1.0)), ('R07079__chlo', (0, 1.0)), ('T_CoA_ADP__mitmem', (-1.0, 1.0)), ('R02519__cytop', (0, 1.0)), ('RXN_11881__e_r_', (0, 1.0)), ('TO0000255_PLAS__chlomem', (0, 1.0)), ('EX_C00076__dra', (0, 1)), ('R07059__cytop', (0, 1.0)), ('EX_C04230__dra', (0, 1)), ('R01526__cytop', (0, 1.0)), ('R00006__chlo', (0, 1.0)), ('TO1101242_PLAS__plas', (0, 1.0)), ('R07060__cytop', (0, 1.0)), ('R00754__cytop', (-1.0, 1.0)), ('TO0000438_PLAS__vacmem', (0, 1.0)), ('R01080__cytop', (0, 1.0)), ('R11100__mito', (0, 1.0)), ('EX_C01885__dra', (0, 1)), ('R09503_V1__chlo', (0, 1)), ('EX_C00525__dra', (0, 1)), ('R09502__chlo', (0, 1.0)), ('R04831__e_r_', (0, 1.0)), ('TO1100082_PLAS__plas', (0, 1.0)), ('PKS_C143__cytop', (0, 1.0)), ('R07899__mito', (-1.0, 1.0)), ('R08344__chlo', (0, 1.0)), ('R05615__mito', (0, 1.0)), ('R02091__cytop', (0, 1.0)), ('R09372__mito', (0, 1.0)), ('R01005__e_r_', (0, 1.0)), ('R08293__e_r_', (0, 1.0)), ('PRISM_red_LED_array_653nm__extr', (0, 1)), ('R02019__cytop', (0, 1.0)), ('R05286__chlo', (0, 1.0)), ('EX_C00187__dra', (0, 1)), ('R12459__nucl', (0, 1.0)), ('R12424__chlo', (0, 1.0)), ('R09450_V1__pero', (0, 1.0)), ('R02354__e_r_', (0, 1.0)), ('R07087__e_r_', (0, 1.0)), ('R04922__golg', (0, 1.0)), ('R02464__e_r_', (0, 1.0)), ('TO1000023_PLAS__plas', (0, 1.0)), ('R04972__chlo', (0, 1.0)), ('T_FAD_V1__permem', (-1, 1)), ('RXN_12969__e_r_', (0, 1.0)), ('R00922__pero', (0, 1.0)), ('R11945__mitmem', (0, 1.0)), ('R00996__mito', (0, 1.0)), ('R10116__chlo', (0, 1.0)), ('R02668__cytop', (0, 1.0)), ('R02683__mito', (0, 1.0)), ('R02569__chlo', (0, 1.0)), ('R05070__mito', (0, 1.0)), ('T_CDP_Choline_V1__golmem', (-1, 1)), ('R01127__cytop', (-1.0, 1.0)), ('R08175__mito', (0, 1.0)), ('TR2900128_PLAS__mitmem', (-1.0, 1.0)), ('R07092__chlo', (0, 1.0)), ('R04959__mito', (0, 1.0)), ('R07392__cytop', (0, 1.0)), ('R08295__cytop', (-1, 1)), ('TO1000320_PLAS__plas', (0, 1.0)), ('R01896__cytop', (-1.0, 1.0)), ('R07354__cytop', (0, 1.0)), ('R03656__mito', (0, 1.0)), ('R00999__cytop', (0, 1.0)), ('R01863__cytop', (-1.0, 1.0)), ('R01814__cytop', (0, 1.0)), ('R05066__mito', (-1.0, 1.0)), ('TO1000306_PLAS__plas', (0, 1.0)), ('R07265__e_r_', (-1.0, 1.0)), ('R03401__cytop', (-1.0, 1.0)), ('R02472__cytop', (0, 1.0)), ('R09823__chlo', (0, 1.0)), ('R02918__cytop', (0, 1.0)), ('R00966__cytop', (0, 1.0)), ('R08182__mito', (0, 1.0)), ('T_2OXOADPtim__mitmem', (-1, 1)), ('R01177__pero', (-1.0, 1.0)), ('R04427__chlo', (0, 1.0)), ('R01471__cytop', (-1.0, 1.0)), ('R01859__mito', (0, 1.0)), ('R03546__mito', (0, 1.0)), ('TI3001341_PLAS__plas', (0, 1.0)), ('EX_C00051__dra', (0, 1)), ('R03875__cytop', (0, 1.0)), ('R04968__cytop', (0, 1.0)), ('EX_C00473__dra', (0, 1)), ('T_Hydrogen_Peroxide_V3__permem', (-1, 1)), ('R01699__chlo', (0, 1.0)), ('R08251__cytop', (0, 1.0)), ('PRISM_high_pressure_sodium__extr', (0, 1)), ('R02566__mito', (0, 1.0)), ('R02687__e_r_', (0, 1.0)), ('TR0000242_PLAS__plas', (-1.0, 1.0)), ('R03394__e_r_', (0, 1.0)), ('R08698__cytop', (0, 1)), ('R07481__chlo', (0, 1.0)), ('R07100__chlo', (0, 1.0)), ('R04199__chlo', (0, 1.0)), ('R04543__cytop', (0, 1.0)), ('EX_C05443__dra', (0, 1)), ('R02135__chlo', (0, 1.0)), ('R00710__cytop', (0, 1.0)), ('R06194__cytop', (0, 1)), ('R00842__mito', (-1.0, 1.0)), ('R00847__cytop', (0, 1.0)), ('R08146__cytop', (0, 1.0)), ('R02765__mito', (-1, 1)), ('R01802__e_r_', (0, 1.0)), ('EX_C00162__dra', (0, 1)), ('R08093__mito', (-1.0, 1.0)), ('T_FattyAcid_V2__chlomem', (0, 1.0)), ('R00517__nucl', (0, 1.0)), ('R00659__mito', (0, 1.0)), ('R03658__mito', (0, 1.0)), ('R07023__chlo', (0, 1.0)), ('R07057__e_r_', (0, 1.0)), ('R04746__pero', (-1.0, 1.0)), ('PKS_C206__cytop', (0, 1.0)), ('R00428__cytop', (0, 1.0)), ('R12171__e_r_', (0, 1.0)), ('R01226__mito', (-1.0, 1.0)), ('TO3000348_PLAS__chlomem', (0, 1.0)), ('R02740__cytop', (-1.0, 1.0)), ('R05595__mito', (-1.0, 1.0)), ('R07500__e_r_', (0, 1.0)), ('R02371__nucl', (0, 1.0)), ('R01078__mito', (0, 1.0)), ('R07004__chlo', (0, 1.0)), ('R04965__cytop', (0, 1.0)), ('R04682__cytop', (0, 1.0)), ('R02095__mito', (0, 1.0)), ('T_SLC25A20__mitmem', (-1.0, 1.0)), ('R11763__cytop', (0, 1.0)), ('R07116__e_r_', (0, 1.0)), ('R02097__nucl', (0, 1.0)), ('R00589__chlo', (-1.0, 1.0)), ('R00970__nucl', (0, 1.0)), ('TI3000051_E_R___ermem', (0, 1.0)), ('R01624__cytop', (0, 1.0)), ('T_H2O__plas', (-1, 1)), ('R00694__mito', (-1.0, 1.0)), ('R02433__chlo', (-1.0, 1.0)), ('R00332__cytop', (-1.0, 1.0)), ('R03283__mito', (0, 1.0)), ('EX_C00121__dra', (0, 1)), ('R00899__cytop', (0, 1.0)), ('TO1100751_PLAS__plas', (0, 1.0)), ('R00888__cytop', (0, 1.0)), ('T_Hexadecanoyl_CoA__chlomem', (0, 1.0)), ('T_L_Valine_V1__mitmem', (-1.0, 1.0)), ('R03184__cytop', (0, 1.0)), ('R01665__cytop', (0, 1.0)), ('TO1000051_PLAS__plas', (0, 1.0)), ('R03222__chlo', (0, 1.0)), ('RXN_16380__mito', (0, 1.0)), ('R03478__nucl', (0, 1.0)), ('R00927__mito', (-1.0, 1.0)), ('R12185__cytop', (0, 1)), ('R07618__mito', (0, 1.0)), ('R11308__extr', (0, 1.0)), ('R00479__mito', (0, 1.0)), ('EX_C05080__dra', (0, 1)), ('R07002__chlo', (0, 1.0)), ('TO1001526_PLAS__plas', (0, 1.0)), ('R04929__mito', (0, 1.0)), ('R01137__mito', (0, 1.0)), ('R00335__e_r_', (0, 1)), ('R08159__chlo', (0, 1.0)), ('R00895__chlo', (-1.0, 1.0)), ('R00289__chlo', (-1.0, 1.0)), ('R05919__e_r_', (0, 1.0)), ('R10040__extr', (0, 1.0)), ('R08782__chlo', (0, 1.0)), ('R01010__extr', (0, 1.0)), ('R02874__e_r_', (0, 1.0)), ('R10992__pero', (0, 1.0)), ('R00178__cytop', (0, 1.0)), ('R03200__e_r_', (0, 1.0)), ('R07055__chlo', (0, 1.0)), ('R04378__cytop', (0, 1.0)), ('EX_C00097__dra', (0, 1)), ('R01227__cytop', (0, 1.0)), ('R09380__e_r_', (-1.0, 1.0)), ('T_H2S__chlomem', (-1, 1)), ('R03316__mito', (0, 1.0)), ('R01004__chlo', (0, 1.0)), ('EX_C00148__dra', (0, 1)), ('T_CTP__ermem', (-1, 1)), ('R02872__e_r_', (0, 1.0)), ('R07213__cytop', (0, 1.0)), ('T_Formaldehyde_V1__permem', (-1, 1)), ('EX_C00942__dra', (0, 1)), ('EX_C16837__dra', (0, 1)), ('R02527__cytop', (-1.0, 1.0)), ('PRISM_metal_halide__extr', (0, 1)), ('R01518__cytop', (-1.0, 1.0)), ('R03628__cytop', (0, 1.0)), ('R02568__cytop', (-1.0, 1.0)), ('R08232__nucl', (0, 1.0)), ('T__11Z_14Z_17Z__Icosatrienoyl_CoA__ermem', (0, 1)), ('R04960__mito', (0, 1.0)), ('R02557__cytop', (-1.0, 1.0)), ('R04880__cytop', (-1.0, 1.0)), ('TO1000381_PLAS__plas', (0, 1.0)), ('R01186__mito', (0, 1.0)), ('R07025__chlo', (0, 1.0)), ('R01529__cytop', (-1.0, 1.0)), ('R10089__cytop', (0, 1.0)), ('R04901__cytop', (0, 1.0)), ('R09450_V1__cytop', (0, 1.0)), ('T_ATP__nucmem', (-1, 1)), ('R01224__cytop', (0, 1.0)), ('R04639__cytop', (-1.0, 1.0)), ('T_CDP_Choline__ermem', (-1, 1)), ('EX_C00175__dra', (0, 1)), ('R02985__chlo', (0, 1.0)), ('PKS_C102__cytop', (0, 1.0)), ('PRISM_red_LED_674nm__extr', (0, 1)), ('R04502__cytop', (0, 1.0)), ('R00719__cytop', (0, 1.0)), ('R00734__mito', (-1.0, 1.0)), ('R07025__cytop', (0, 1.0)), ('R02918__chlo', (0, 1.0)), ('R04945__mito', (0, 1.0)), ('R08705__cytop', (-1, 1)), ('CYSPH_RXN__cytop', (0, 1.0)), ('RXN_13001__e_r_', (0, 1.0)), ('R09424__chlo', (0, 1.0)), ('R09404__chlo', (0, 1.0)), ('TI3000697_PLAS__plas', (0, 1.0)), ('R07012__cytop', (0, 1)), ('R07781__cytop', (0, 1.0)), ('EX_C00577__dra', (0, 1)), ('R11766__cytop', (0, 1)), ('R09450__cytop', (0, 1.0)), ('TO3000758_PLAS__plas', (0, 1.0)), ('R06941__pero', (0, 1.0)), ('OAADCO__mito', (0, 1)), ('R01773__cytop', (0, 1.0)), ('5DORI__cytop', (-1.0, 1.0)), ('R04961__chlo', (0, 1.0)), ('R08391__e_r_', (0, 1.0)), ('R04725__chlo', (0, 1.0)), ('R03408__chlo', (0, 1.0)), ('R04137__pero', (-1.0, 1.0)), ('R10035__vacu', (0, 1.0)), ('T_L_Glutamine__vacmem', (0, 1.0)), ('R03990__pero', (0, 1.0)), ('R07613__chlo', (-1.0, 1.0)), ('EX_C00695__dra', (0, 1)), ('TO1101257_PLAS__plas', (0, 1.0)), ('R05693__cytop', (-1.0, 1.0)), ('R03089__chlo', (0, 1.0)), ('R03524__cytop', (0, 1.0)), ('R07276__chlo', (0, 1.0)), ('R00259__chlo', (0, 1.0)), ('EX_C16543__dra', (0, 1)), ('EX_C03742__dra', (0, 1)), ('TO1000119_PLAS__plas', (0, 1.0)), ('R12658__mito', (0, 1.0)), ('EX_C00956__dra', (0, 1)), ('TO1002611_PLAS__plas', (0, 1.0)), ('R00691__chlo', (0, 1.0)), ('R02326__cytop', (0, 1.0)), ('R01549__cytop', (0, 1.0)), ('R09433__cytop', (-1, 1)), ('DM_photon646__chlo', (0, 1)), ('R00491__e_r_', (-1.0, 1.0)), ('R07273__mito', (0, 1.0)), ('R08107__e_r_', (0, 1.0)), ('R07411__cytop', (-1.0, 1.0)), ('R07943__chlo', (0, 1.0)), ('R07499__e_r_', (0, 1.0)), ('R00253__chlo', (0, 1.0)), ('R03083__chlo', (0, 1.0)), ('R07395__cytop', (0, 1.0)), ('R02382__cytop', (0, 1.0)), ('R04740__chlo', (-1.0, 1.0)), ('TR0000099_PLAS__mitmem', (-1.0, 1.0)), ('R09420__chlo', (0, 1.0)), ('TI3001535_PLAS__plas', (0, 1.0)), ('EX_C00037__dra', (0, 1)), ('R09406__chlo', (0, 1.0)), ('T_H2O_V1__chlomem', (-1, 1)), ('R01776__mito', (-1.0, 1.0)), ('T_H2O_V4__golmem', (-1, 1)), ('R08265__e_r_', (0, 1.0)), ('EX_C00504__dra', (0, 1)), ('EX_C05394__dra', (0, 1)), ('R03956__mito', (0, 1.0)), ('R04285__cytop', (0, 1.0)), ('TR2000105_PLAS__mitmem', (-1.0, 1.0)), ('R00363__mito', (0, 1.0)), ('R07070__e_r_', (0, 1.0)), ('R03814__e_r_', (0, 1.0)), ('R05051__cytop', (0, 1.0)), ('R12375__cytop', (0, 1.0)), ('R08267__chlo', (0, 1.0)), ('R08178__pero', (0, 1.0)), ('EX_C00155__dra', (0, 1)), ('R00425__chlo', (0, 1.0)), ('R03181__cytop', (-1.0, 1.0)), ('R04241__cytop', (0, 1.0)), ('TO1000366_PLAS__plas', (0, 1.0)), ('TO0000149_PLAS__plas', (0, 1.0)), ('RXN_19211_V2__chlo', (0, 1.0)), ('T_SLC25A17__permem', (0, 1.0)), ('R09920__e_r_', (-1.0, 1.0)), ('R00533__cytop', (0, 1.0)), ('R01616__mito', (0, 1)), ('R01388__mito', (-1.0, 1.0)), ('R07021__e_r_', (0, 1.0)), ('R08176__pero', (0, 1.0)), ('T_Acetate_V1__mitmem', (-1, 1)), ('TO3000354_E_R___ermem', (0, 1.0)), ('EX_C03360__dra', (0, 1)), ('R04535__cytop', (0, 1.0)), ('R03276__pero', (-1.0, 1.0)), ('R02371__cytop', (0, 1.0)), ('R09408__chlo', (0, 1.0)), ('R08095__mito', (-1.0, 1.0)), ('R10183__cytop', (0, 1.0)), ('R04150__pero', (-1.0, 1.0)), ('R07362__cytop', (0, 1.0)), ('R03088__e_r_', (0, 1.0)), ('EX_C00135__dra', (0, 1)), ('R01411__nucl', (0, 1.0)), ('R00036__chlo', (0, 1.0)), ('R09421__e_r_', (0, 1.0)), ('R00026__cytop', (0, 1.0)), ('R01561__cytop', (-1.0, 1.0)), ('EX_C07054__dra', (0, 1)), ('R04748__pero', (-1.0, 1.0)), ('TO1000161_PLAS__plas', (0, 1.0)), ('R01073__chlo', (0, 1.0)), ('R04834__mito', (0, 1.0)), ('T_MALICITtm__mitmem', (-1.0, 1.0)), ('R04724__mito', (0, 1.0)), ('R02926__cytop', (0, 1.0)), ('R03105__chlo', (0, 1.0)), ('R06522__e_r_', (0, 1.0)), ('T_PYR__permem', (0, 1.0)), ('R10928__cytop', (-1.0, 1.0)), ('R06171__chlo', (-1.0, 1.0)), ('R01658__chlo', (0, 1.0)), ('R04065__chlo', (0, 1.0)), ('R00209__cytop', (0, 1.0)), ('R04496__e_r_', (0, 1.0)), ('R01598__cytop', (0, 1.0)), ('R05050__chlo', (0, 1.0)), ('R04678__e_r_', (0, 1.0)), ('T_L_Phenylalanine__chlomem', (-1.0, 1.0)), ('R07085__e_r_', (0, 1.0)), ('R02323__cytop', (0, 1.0)), ('T_L_Cysteine__chlomem', (-1.0, 1.0)), ('R02135__extr', (0, 1.0)), ('R01969__cytop', (-1.0, 1.0)), ('R07091__cytop', (0, 1.0)), ('R04404__cytop', (0, 1.0)), ('R01186__cytop', (0, 1.0)), ('R01286__mito', (0, 1.0)), ('T_Hexadecenal__ermem', (0, 1)), ('EX_C04501__dra', (0, 1)), ('R00355__chlo', (-1.0, 1.0)), ('R01057__cytop', (-1.0, 1.0)), ('R08192__cytop', (0, 1.0)), ('R07888__pero', (0, 1.0)), ('R07051__e_r_', (0, 1.0)), ('R03877__cytop', (0, 1.0)), ('R11125__cytop', (0, 1.0)), ('R03012__cytop', (0, 1.0)), ('e_Biomass__cytop', (0, 1)), ('T_L_Ornithine__chlomem', (-1, 1)), ('EX_C01898__dra', (0, 1)), ('R02521__cytop', (0, 1.0)), ('R02037__cytop', (0, 1.0)), ('T_Phosphatidate__chlomem', (-1, 1)), ('R00481__cytop', (0, 1.0)), ('R00570__chlo', (0, 1.0)), ('R08210__chlo', (0, 1.0)), ('R03451__mito', (0, 1.0)), ('R02021__cytop', (0, 1.0)), ('T_L_Ascorbate_V1__mitmem', (-1, 1)), ('R00970__cytop', (0, 1.0)), ('R03362__nucl', (0, 1.0)), ('R00942__nucl', (0, 1.0)), ('R09251__mito', (0, 1.0)), ('R00489__cytop', (0, 1.0)), ('R00084__chlo', (0, 1.0)), ('R00004__chlo', (0, 1.0)), ('R09408__e_r_', (0, 1.0)), ('R07461__chlo', (0, 1.0)), ('R10040__vacu', (0, 1.0)), ('R04167__chlo', (0, 1.0)), ('PKS_C123__cytop', (0, 1.0)), ('R01801__mito', (0, 1.0)), ('TI3000689_PLAS__plas', (0, 1.0)), ('R10065__cytop', (0, 1.0)), ('R12570__mito', (0, 1.0)), ('R10040__e_r_', (0, 1.0)), ('R04209__cytop', (-1.0, 1.0)), ('R00731__cytop', (0, 1.0)), ('EX_C00670__dra', (0, 1)), ('R04970__cytop', (0, 1.0)), ('R04746__chlo', (-1.0, 1.0)), ('T_Riboflavin__chlomem', (-1, 1)), ('R05639__e_r_', (-1.0, 1.0)), ('R04441__chlo', (0, 1.0)), ('TI3000296_PLAS__plas', (0, 1.0)), ('R00497__cytop', (0, 1.0)), ('R00160__chlo', (0, 1.0)), ('R03815__mito', (-1.0, 1.0)), ('R04001__chlo', (-1.0, 1.0)), ('EX_C03708__dra', (0, 1)), ('R03629__e_r_', (0, 1.0)), ('R04247__cytop', (0, 1.0)), ('R03858__mito', (-1.0, 1.0)), ('R10281__chlo', (0, 1.0)), ('R04965__chlo', (0, 1.0)), ('RXN_13302__e_r_', (0, 1.0)), ('R07098__chlo', (0, 1.0)), ('T_SLC25A17_V6__permem', (0, 1.0)), ('R04566__cytop', (0, 1.0)), ('R01090__chlo', (-1.0, 1.0)), ('R02887__extr', (0, 1.0)), ('R04231__cytop', (0, 1.0)), ('R04945__cytop', (0, 1.0)), ('R05085__mito', (-1.0, 1.0)), ('R04741__mito', (-1.0, 1.0)), ('R03599__cytop', (0, 1.0)), ('R04433__mito', (0, 1.0)), ('R05755__cytop', (0, 1.0)), ('R00328__golg', (0, 1.0)), ('R08245__mito', (0, 1.0)), ('R00705__pero', (0, 1.0)), ('EX_C15681__dra', (0, 1)), ('R07069__cytop', (0, 1.0)), ('TO1001608_PLAS__plas', (0, 1.0)), ('R01137__cytop', (0, 1.0)), ('R00258__mito', (-1.0, 1.0)), ('T_SAM__chlomem', (-1, 1)), ('R08244__cytop', (0, 1.0)), ('T_4_Aminobutanoate__chlomem', (-1, 1)), ('R08772__mito', (0, 1)), ('R00352__cytop', (0, 1.0)), ('R00350__mito', (0, 1.0)), ('R05305__mito', (-1.0, 1.0)), ('PKS_C164__cytop', (0, 1.0)), ('R02933__cytop', (-1.0, 1.0)), ('R07094__cytop', (0, 1.0)), ('R05980__e_r_', (0, 1.0)), ('T_PCHOL_HStg__golmem', (-1, 1)), ('TO1000069_PLAS__plas', (0, 1.0)), ('R01706__cytop', (0, 1.0)), ('TO1000411_PLAS__plas', (0, 1.0)), ('R02367__cytop', (0, 1.0)), ('R01183__cytop', (0, 1.0)), ('TR2000107_PLAS__chlomem', (-1.0, 1.0)), ('R03004__cytop', (0, 1.0)), ('TO1100074_PLAS__mitmem', (-1.0, 1.0)), ('R02101__cytop', (0, 1.0)), ('R00727__mito', (-1.0, 1.0)), ('PRISM_incandescent_60W__extr', (0, 1)), ('T_L_Cysteine_V1__mitmem', (-1.0, 1.0)), ('R00569__cytop', (0, 1.0)), ('R11044__chlo', (0, 1.0)), ('TI3000016_PLAS__plas', (0, 1.0)), ('R11861__cytop', (0, 1.0)), ('R03383__mito', (0, 1.0)), ('R08186__mito', (0, 1.0)), ('TO0000309_PLAS__plas', (0, 1.0)), ('T_1_Phosphatidyl_D_myo_inositol__nucmem', (-1, 1)), ('R04330__e_r_', (0, 1.0)), ('EX_C00101__dra', (0, 1)), ('R02736__chlo', (0, 1.0)), ('R01870__cytop', (-1.0, 1.0)), ('R06412__pero', (0, 1.0)), ('EX_C01324__dra', (0, 1)), ('EX_C05973__dra', (0, 1)), ('TZ2900000_PLAS__vacmem', (0, 1.0)), ('R02985__extr', (0, 1.0)), ('R04847__mito', (0, 1.0)), ('R07000__chlo', (0, 1.0)), ('R07048__e_r_', (0, 1.0)), ('R02619__chlo', (0, 1.0)), ('R00899__pero', (0, 1.0)), ('R04922__e_r_', (0, 1.0)), ('EX_C00064__dra', (0, 1)), ('R02073__cytop', (-1.0, 1.0)), ('R10463__chlo', (0, 1.0)), ('R02026__mito', (0, 1.0)), ('R10991__mito', (0, 1.0)), ('T_SAMT1__chlomem', (-1, 1)), ('R02250__e_r_', (0, 1.0)), ('R04494__cytop', (0, 1.0)), ('R00722__chlo', (0, 1.0)), ('T_L_Homocysteine__chlomem', (-1, 1)), ('T_FADH2_V1__permem', (-1, 1)), ('R01375__mito', (-1.0, 1.0)), ('R07491__e_r_', (0, 1.0)), ('R08345__e_r_', (0, 1.0)), ('TO0001217_PLAS__vacmem', (0, 1.0)), ('EX_C00407__dra', (0, 1)), ('T__9Z_12Z_15Z__Octadecatrienoyl_CoA__ermem', (0, 1)), ('R03857__pero', (0, 1.0)), ('R03004__nucl', (0, 1.0)), ('R00267__mito', (0, 1.0)), ('TR2000108_PLAS__chlomem', (-1.0, 1.0)), ('R00275__cytop', (0, 1.0)), ('R02732__cytop', (0, 1.0)), ('TO1122637_PLAS__plas', (0, 1.0)), ('R03478__cytop', (0, 1.0)), ('R01041__cytop', (-1.0, 1.0)), ('R04224__pero', (0, 1.0)), ('TO1000232_PLAS__plas', (0, 1.0)), ('R01711__cytop', (0, 1.0)), ('R01384__golg', (0, 1.0)), ('TO1000179_PLAS__plas', (0, 1.0)), ('R00945__cytop', (-1.0, 1.0)), ('R05237__mito', (0, 1.0)), ('TO0000654_PLAS__vacmem', (0, 1.0)), ('R07267__cytop', (0, 1)), ('TZ2900012_PLAS__mitmem', (0, 1.0)), ('DEDOLP2__e_r_', (0, 1.0)), ('R03443__chlo', (0, 1.0)), ('R00829__mito', (0, 1.0)), ('R00868__cytop', (-1.0, 1.0)), ('R04966__mito', (0, 1.0)), ('R07486__e_r_', (0, 1.0)), ('R02024__cytop', (0, 1.0)), ('R02356__e_r_', (0, 1.0)), ('R02800__chlo', (0, 1.0)), ('R10117__mito', (-1.0, 1.0)), ('R06866__cytop', (0, 1)), ('R04745__mito', (-1.0, 1.0)), ('T_FAD_V2__mitmem', (-1, 1)), ('R01956__cytop', (0, 1.0)), ('R11323__mito', (0, 1.0)), ('R03004__mito', (0, 1.0)), ('R10118__chlo', (0, 1.0)), ('R07501__cytop', (0, 1.0)), ('R07760__e_r_', (-1.0, 1.0)), ('R01214__chlo', (-1.0, 1.0)), ('R10997__mito', (0, 1.0)), ('R04754__mito', (0, 1.0)), ('R03663__cytop', (0, 1.0)), ('R01214__cytop', (-1.0, 1.0)), ('R05802__nucl', (0, 1.0)), ('R04534__chlo', (0, 1.0)), ('R10093__cytop', (-1.0, 1.0)), ('R06604__mito', (0, 1.0)), ('R00451__chlo', (0, 1.0)), ('R05549__cytop', (0, 1.0)), ('R08177__mito', (0, 1.0)), ('R07762__e_r_', (-1.0, 1.0)), ('R09224__cytop', (0, 1.0)), ('R03012__chlo', (0, 1.0)), ('R01793__cytop', (0, 1.0)), ('R02239__chlo', (0, 1.0)), ('TO0000056_PLAS__plas', (0, 1.0)), ('R10122__mito', (0, 1.0)), ('R08921__cytop', (0, 1.0)), ('R00942__mito', (0, 1.0)), ('R07094__chlo', (0, 1.0)), ('R01678__cytop', (0, 1.0)), ('R01384__cytop', (0, 1.0)), ('TO1000039_PLAS__plas', (0, 1.0)), ('R03504__cytop', (0, 1.0)), ('R04747__mito', (-1.0, 1.0)), ('R04445__cytop', (0, 1.0)), ('R01090__cytop', (-1.0, 1.0)), ('T_NADH_V1__ermem', (-1, 1)), ('R05238__chlo', (0, 1.0)), ('R02300__mito', (0, 1.0)), ('TE_1__cytop', (0, 1.0)), ('R02957__chlo', (0, 1.0)), ('R04355__cytop', (0, 1.0)), ('EX_C16647__dra', (0, 1)), ('R00354__mito', (0, 1.0)), ('TY3000001_PLAS__plas', (0, 1.0)), ('R10120__mito', (0, 1.0)), ('R03508__chlo', (0, 1.0)), ('R04903__chlo', (0, 1.0)), ('T__GlcNAc_2_Man_5_Asn_1__golmem', (0, 1)), ('R00105__mito', (0, 1.0)), ('SOX__mito', (0, 1)), ('R04958__cytop', (0, 1.0)), ('EX_C00376__dra', (0, 1)), ('TO1019001_PLAS__plas', (0, 1.0)), ('R02748__cytop', (-1.0, 1.0)), ('R09137__cytop', (0, 1.0)), ('R08924__mito', (0, 1.0)), ('EX_C00309__dra', (0, 1)), ('R00278__cytop', (0, 1.0)), ('R02352__e_r_', (0, 1.0)), ('R02240__chlo', (0, 1.0)), ('R04970__chlo', (0, 1.0)), ('TO3001046_PLAS__plas', (0, 1.0)), ('R03600__chlo', (0, 1.0)), ('R01845__cytop', (0, 1.0)), ('R00942__cytop', (0, 1.0)), ('R02649__chlo', (0, 1.0)), ('RXN_12127__cytop', (0, 1.0)), ('TI3000695_PLAS__plas', (0, 1.0)), ('T_Prephenate__chlomem', (-1, 1)), ('R00571__cytop', (0, 1.0)), ('R03239__cytop', (0, 1.0)), ('R06942__mito', (0, 1.0)), ('R10119__mito', (0, 1.0)), ('T_2_Succinylbenzoate__permem', (-1, 1)), ('R01931__mito', (0, 1.0)), ('R04726__cytop', (0, 1.0)), ('R07316__cytop', (0, 1)), ('TR0000209_PLAS__plas', (0, 1.0)), ('R00085__golg', (0, 1.0)), ('T_AKGCITtm__mitmem', (-1.0, 1.0)), ('EX_C00310__dra', (0, 1)), ('R00335__golg', (0, 1.0)), ('R11527__cytop', (0, 1.0)), ('EX_C02110__dra', (0, 1)), ('R07004__cytop', (0, 1.0)), ('R04787__chlo', (0, 1.0)), ('R06238__cytop', (0, 1.0)), ('TR0000239_PLAS__plas', (-1.0, 1.0)), ('TO3000572_PLAS__plas', (0, 1.0)), ('R03118__cytop', (0, 1.0)), ('R08146__chlo', (0, 1.0)), ('R04203__cytop', (-1.0, 1.0)), ('EX_C01233__dra', (0, 1)), ('EX_C05993__dra', (0, 1)), ('R06266__chlo', (0, 1.0)), ('R08258__e_r_', (0, 1.0)), ('R00355__cytop', (-1.0, 1.0)), ('R04785__cytop', (0, 1.0)), ('R00221__cytop', (0, 1.0)), ('R02887__e_r_', (0, 1.0)), ('R06286_V1__chlo', (0, 1.0)), ('R05551__cytop', (0, 1.0)), ('R00571__mito', (0, 1.0)), ('R06590__cytop', (0, 1.0)), ('R08921__chlo', (0, 1.0)), ('R02887__vacu', (0, 1.0)), ('R08238__mito', (0, 1.0)), ('R02905__cytop', (0, 1)), ('T_Glycerol__permem', (-1, 1)), ('R01280__mito', (0, 1.0)), ('TR6900007_PLAS__mitmem', (0, 1.0)), ('R00491__cytop', (-1.0, 1.0)), ('R03650__cytop', (0, 1.0)), ('R02565__cytop', (0, 1.0)), ('R02978__e_r_', (0, 1.0)), ('R00512__cytop', (-1.0, 1.0)), ('R02084__mito', (-1.0, 1.0)), ('R00986__chlo', (0, 1.0)), ('R05801__cytop', (0, 1.0)), ('R05259__e_r_', (0, 1.0)), ('R09827__cytop', (0, 1.0)), ('R04711__mito', (0, 1.0)), ('T_S_Allantoin__mitmem', (-1, 1)), ('TO3001997_PLAS__plas', (0, 1.0)), ('R00515__cytop', (0, 1)), ('TO1015390_PLAS__plas', (0, 1.0)), ('R05842__cytop', (0, 1.0)), ('TI2903797_PLAS__mitmem', (-1.0, 1.0)), ('R00103__mito', (0, 1.0)), ('R03102__cytop', (0, 1.0)), ('R05086__chlo', (0, 1.0)), ('R01655__mito', (0, 1.0)), ('R01933__mito', (0, 1.0)), ('R03236__cytop', (0, 1.0)), ('TO0000205_PLAS__plas', (0, 1.0)), ('R00494__cytop', (0, 1.0)), ('R05041__cytop', (0, 1)), ('R02558__chlo', (0, 1.0)), ('TR2300186_PLAS__mitmem', (0, 1.0)), ('R08198__cytop', (-1.0, 1.0)), ('R07140__cytop', (0, 1.0)), ('R08980__cytop', (0, 1.0)), ('PKS_C61__cytop', (0, 1.0)), ('R04955__cytop', (0, 1.0)), ('TO1000064_PLAS__plas', (0, 1.0)), ('TO1000705_PLAS__plas', (0, 1.0)), ('R00206__cytop', (-1.0, 1.0)), ('R04751__pero', (0, 1.0)), ('R08181__pero', (0, 1.0)), ('TI3000046_PLAS__plas', (0, 1.0)), ('R01273__cytop', (0, 1.0)), ('R03430__e_r_', (0, 1.0)), ('T_Formate__ermem', (-1, 1)), ('R00342__cytop', (-1.0, 1.0)), ('R00104__chlo', (0, 1.0)), ('R00185__cytop', (0, 1.0)), ('EX_C01825__dra', (0, 1)), ('TI0004098_PLAS__plas', (0, 1.0)), ('R02135__cytop', (0, 1.0)), ('R08182__cytop', (0, 1.0)), ('R03038__cytop', (0, 1.0)), ('R04125__mito', (0, 1.0)), ('EX_C16836__dra', (0, 1)), ('T_Hexadecanoyl_CoA_V1__permem', (0, 1.0)), ('R07081__e_r_', (0, 1.0)), ('R08380__cytop', (-1.0, 1.0)), ('T_Hexadecanal__ermem', (0, 1)), ('R01582__cytop', (-1.0, 1.0)), ('R05724__e_r_', (0, 1.0)), ('R01752__cytop', (0, 1.0)), ('RXN_13306__e_r_', (0, 1.0)), ('R04568__chlo', (0, 1.0)), ('R03260__mito', (0, 1.0)), ('EX_C19609__dra', (0, 1)), ('T_Sulfite__chlomem', (-1, 1)), ('T__R__Lactate__mitmem', (-1, 1)), ('R00573__mito', (0, 1.0)), ('EX_C00474__dra', (0, 1)), ('T_Glycolate_V2__permem', (-1, 1)), ('R08231__cytop', (-1.0, 1.0)), ('EX_C01996__dra', (0, 1)), ('R01397__cytop', (0, 1.0)), ('DM_photon438__chlo', (0, 1)), ('T_Cytidine__nucmem', (-1, 1)), ('T_ATPtg__golmem', (-1, 1)), ('R07281__chlo', (0, 1.0)), ('R06869__cytop', (0, 1.0)), ('TI3000279_PLAS__ermem', (0, 1.0)), ('R03572__mito', (0, 1.0)), ('R11891__mito', (0, 1.0)), ('R00293__cytop', (0, 1.0)), ('R06412__chlo', (0, 1.0)), ('EX_C03541__dra', (0, 1)), ('T_ACACtx__permem', (-1, 1)), ('R01456__e_r_', (0, 1.0)), ('R00103__nucl', (0, 1.0)), ('T_H__ermem', (-1, 1)), ('R05979__e_r_', (0, 1.0)), ('R01975__pero', (0, 1.0)), ('TO1000138_PLAS__plas', (0, 1.0)), ('R10092__chlo', (-1.0, 1.0)), ('R08380__e_r_', (-1.0, 1.0)), ('R01768__cytop', (0, 1.0)), ('EX_C00238__dra', (0, 1)), ('RXN_16094__e_r_', (0, 1.0)), ('R05586__mito', (-1.0, 1.0)), ('R11896__chlo', (-1.0, 1.0)), ('R02222__e_r_', (0, 1.0)), ('R00139__mito', (0, 1.0)), ('R08183__pero', (0, 1.0)), ('EX_C00205__dra', (-1, 1)), ('R01381__cytop', (-1.0, 1.0)), ('R03689__e_r_', (0, 1.0)), ('R06526__e_r_', (0, 1.0)), ('TI3000690_PLAS__plas', (0, 1.0)), ('R01845__chlo', (0, 1.0)), ('T_5_Deoxyadenosine__chlomem', (-1, 1)), ('R10052__cytop', (0, 1)), ('R11892__cytop', (0, 1.0)), ('R08220__e_r_', (0, 1.0)), ('R02272__chlo', (-1.0, 1.0)), ('R02331__chlo', (0, 1.0)), ('CYSPH_RXN__mito', (0, 1.0)), ('R02332__nucl', (0, 1.0)), ('R11895__mito', (0, 1.0)), ('R05223__e_r_', (0, 1.0)), ('R01430__cytop', (-1.0, 1.0)), ('e_Carbohydrate__cytop', (0, 1)), ('R07035__cytop', (0, 1)), ('TZ3100001_PLAS__plas', (0, 1.0)), ('R03066__cytop', (0, 1.0)), ('R01724__cytop', (0, 1.0)), ('R02490__mito', (0, 1.0)), ('R00893__cytop', (0, 1.0)), ('R05165__cytop', (0, 1.0)), ('R08270__chlo', (0, 1.0)), ('T_HMGCOAtm__mitmem', (-1, 1)), ('EX_C00009__dra', (-1, 1)), ('R05052__chlo', (0, 1.0))])\n",
       "Method:SimulationMethod.FBA"
      ]
     },
     "execution_count": 18,
     "metadata": {},
     "output_type": "execute_result"
    }
   ],
   "source": [
    "eFlux(model=model, expr=set_expression)"
   ]
  },
  {
   "cell_type": "code",
   "execution_count": 22,
   "metadata": {
    "pycharm": {
     "name": "#%%\n"
    }
   },
   "outputs": [
    {
     "name": "stderr",
     "output_type": "stream",
     "text": [
      "72520 does not conform to 'http(s)://identifiers.org/collection/id' or'http(s)://identifiers.org/COLLECTION:id\n"
     ]
    },
    {
     "name": "stdout",
     "output_type": "stream",
     "text": [
      "Objective: 6679692.881971141\n",
      "Status: Optimal\n",
      "\n"
     ]
    }
   ],
   "source": [
    "import cobra\n",
    "import mewpy\n",
    "\n",
    "\n",
    "expr = pd.read_csv('data/inputs/tpm.tsv', sep='\\t')\n",
    "expr[\"Geneid\"] = expr[\"Geneid\"] + \"_RA\"\n",
    "n_genes = expr.shape[0]\n",
    "identifiers = expr['Geneid'].tolist()\n",
    "conditions = ['tpm']\n",
    "expression = expr['tpm'].to_numpy()[:, np.newaxis]\n",
    "set_expression = ExpressionSet(identifiers, conditions, expression)\n",
    "model = cobra.io.read_sbml_model(\"data/inputs/model_ngaditana.xml\")\n",
    "gimme = GIMME(model, set_expression, \"e_Biomass__cytop\", condition=\"tpm\", parsimonious =True)\n",
    "print(gimme)"
   ]
  },
  {
   "cell_type": "code",
   "execution_count": 16,
   "metadata": {
    "pycharm": {
     "name": "#%%\n"
    }
   },
   "outputs": [],
   "source": [
    "import mewpy\n",
    "mewpy.simulation.set_default_solver('gurobi')"
   ]
  },
  {
   "cell_type": "code",
   "execution_count": 25,
   "metadata": {
    "pycharm": {
     "name": "#%%\n"
    }
   },
   "outputs": [
    {
     "name": "stdout",
     "output_type": "stream",
     "text": [
      "Model loaded\n",
      "Metabolites:\n",
      "C_00001 191\n",
      "C_00002 668\n",
      "C_00003 484\n",
      "C_00004 1189\n",
      "C_00005 748\n",
      "C_00006 186\n",
      "C_00007 41\n",
      "C_00008 108\n",
      "C_00009 52\n",
      "C_00010 1\n",
      "C_00011 1\n",
      "\n",
      "Reactions:\n",
      "enzymatic 2664\n",
      "transport 529\n",
      "exchange 199\n",
      "sink 0\n",
      "other 124\n",
      "None\n",
      "Model deleted\n"
     ]
    }
   ],
   "source": [
    "from src.integration import Integration\n",
    "model = Integration(model=\"data/inputs/model_ngaditana.xml\")"
   ]
  },
  {
   "cell_type": "code",
   "execution_count": 24,
   "metadata": {
    "pycharm": {
     "name": "#%%\n"
    }
   },
   "outputs": [
    {
     "ename": "AttributeError",
     "evalue": "'Integration' object has no attribute 'set_solver'",
     "output_type": "error",
     "traceback": [
      "\u001B[0;31m---------------------------------------------------------------------------\u001B[0m",
      "\u001B[0;31mAttributeError\u001B[0m                            Traceback (most recent call last)",
      "\u001B[0;32m<ipython-input-24-6441591c6f54>\u001B[0m in \u001B[0;36m<module>\u001B[0;34m\u001B[0m\n\u001B[0;32m----> 1\u001B[0;31m \u001B[0mmodel\u001B[0m\u001B[0;34m.\u001B[0m\u001B[0mset_solver\u001B[0m\u001B[0;34m(\u001B[0m\u001B[0;34m'gurobi'\u001B[0m\u001B[0;34m)\u001B[0m\u001B[0;34m\u001B[0m\u001B[0;34m\u001B[0m\u001B[0m\n\u001B[0m",
      "\u001B[0;31mAttributeError\u001B[0m: 'Integration' object has no attribute 'set_solver'"
     ]
    }
   ],
   "source": [
    "model.set_solver('gurobi')"
   ]
  },
  {
   "cell_type": "code",
   "execution_count": 27,
   "metadata": {
    "pycharm": {
     "name": "#%%\n"
    }
   },
   "outputs": [
    {
     "name": "stdout",
     "output_type": "stream",
     "text": [
      "Model loaded\n",
      "Metabolites:\n",
      "C_00001 191\n",
      "C_00002 668\n",
      "C_00003 484\n",
      "C_00004 1189\n",
      "C_00005 748\n",
      "C_00006 186\n",
      "C_00007 41\n",
      "C_00008 108\n",
      "C_00009 52\n",
      "C_00010 1\n",
      "C_00011 1\n",
      "\n",
      "Reactions:\n",
      "enzymatic 2664\n",
      "transport 529\n",
      "exchange 199\n",
      "sink 0\n",
      "other 124\n",
      "None\n",
      "Model deleted\n"
     ]
    }
   ],
   "source": [
    "from src.integration import Integration\n",
    "model = Integration(model=\"data/inputs/model_ngaditana.xml\")"
   ]
  },
  {
   "cell_type": "code",
   "execution_count": 4,
   "metadata": {
    "pycharm": {
     "name": "#%%\n"
    }
   },
   "outputs": [],
   "source": [
    "import mewpy\n",
    "mewpy.solvers.set_default_solver('gurobi')\n",
    "#mewpy.solvers.get_default_solver()"
   ]
  },
  {
   "cell_type": "code",
   "execution_count": 29,
   "metadata": {
    "pycharm": {
     "name": "#%%\n"
    }
   },
   "outputs": [
    {
     "name": "stderr",
     "output_type": "stream",
     "text": [
      "Exception ignored in: <function Integration.__del__ at 0x7f8331e2d790>\n",
      "Traceback (most recent call last):\n",
      "  File \"/Users/josediogomoura/Documents/GitHub/bioinformatics-project/src/integration.py\", line 21, in __del__\n",
      "    \n",
      "AttributeError: model\n"
     ]
    },
    {
     "ename": "TypeError",
     "evalue": "__init__() got an unexpected keyword argument 'solver'",
     "output_type": "error",
     "traceback": [
      "\u001B[0;31m---------------------------------------------------------------------------\u001B[0m",
      "\u001B[0;31mTypeError\u001B[0m                                 Traceback (most recent call last)",
      "\u001B[0;32m<ipython-input-29-07a0b72c4d6d>\u001B[0m in \u001B[0;36m<module>\u001B[0;34m\u001B[0m\n\u001B[0;32m----> 1\u001B[0;31m \u001B[0mmodel\u001B[0m \u001B[0;34m=\u001B[0m \u001B[0mIntegration\u001B[0m\u001B[0;34m(\u001B[0m\u001B[0mmodel\u001B[0m\u001B[0;34m=\u001B[0m\u001B[0;34m\"data/inputs/model_ngaditana.xml\"\u001B[0m\u001B[0;34m,\u001B[0m \u001B[0msolver\u001B[0m\u001B[0;34m=\u001B[0m\u001B[0;34m'gurobi'\u001B[0m\u001B[0;34m)\u001B[0m\u001B[0;34m\u001B[0m\u001B[0;34m\u001B[0m\u001B[0m\n\u001B[0m",
      "\u001B[0;31mTypeError\u001B[0m: __init__() got an unexpected keyword argument 'solver'"
     ]
    }
   ],
   "source": [
    "model = Integration(model=\"data/inputs/model_ngaditana.xml\", solver='gurobi')"
   ]
  },
  {
   "cell_type": "code",
   "execution_count": 1,
   "metadata": {
    "pycharm": {
     "name": "#%%\n"
    }
   },
   "outputs": [
    {
     "name": "stdout",
     "output_type": "stream",
     "text": [
      "Set parameter Username\n",
      "Academic license - for non-commercial use only - expires 2022-12-11\n",
      "Model loaded\n",
      "Metabolites:\n",
      "C_00001 191\n",
      "C_00002 668\n",
      "C_00003 484\n",
      "C_00004 1189\n",
      "C_00005 748\n",
      "C_00006 186\n",
      "C_00007 41\n",
      "C_00008 108\n",
      "C_00009 52\n",
      "C_00010 1\n",
      "C_00011 1\n",
      "\n",
      "Reactions:\n",
      "enzymatic 2664\n",
      "transport 529\n",
      "exchange 199\n",
      "sink 0\n",
      "other 124\n",
      "None\n"
     ]
    },
    {
     "ename": "KeyError",
     "evalue": "'Geneid'",
     "output_type": "error",
     "traceback": [
      "\u001B[0;31m---------------------------------------------------------------------------\u001B[0m",
      "\u001B[0;31mKeyError\u001B[0m                                  Traceback (most recent call last)",
      "\u001B[0;32m~/opt/anaconda3/lib/python3.8/site-packages/pandas/core/indexes/base.py\u001B[0m in \u001B[0;36mget_loc\u001B[0;34m(self, key, method, tolerance)\u001B[0m\n\u001B[1;32m   3079\u001B[0m             \u001B[0;32mtry\u001B[0m\u001B[0;34m:\u001B[0m\u001B[0;34m\u001B[0m\u001B[0;34m\u001B[0m\u001B[0m\n\u001B[0;32m-> 3080\u001B[0;31m                 \u001B[0;32mreturn\u001B[0m \u001B[0mself\u001B[0m\u001B[0;34m.\u001B[0m\u001B[0m_engine\u001B[0m\u001B[0;34m.\u001B[0m\u001B[0mget_loc\u001B[0m\u001B[0;34m(\u001B[0m\u001B[0mcasted_key\u001B[0m\u001B[0;34m)\u001B[0m\u001B[0;34m\u001B[0m\u001B[0;34m\u001B[0m\u001B[0m\n\u001B[0m\u001B[1;32m   3081\u001B[0m             \u001B[0;32mexcept\u001B[0m \u001B[0mKeyError\u001B[0m \u001B[0;32mas\u001B[0m \u001B[0merr\u001B[0m\u001B[0;34m:\u001B[0m\u001B[0;34m\u001B[0m\u001B[0;34m\u001B[0m\u001B[0m\n",
      "\u001B[0;32mpandas/_libs/index.pyx\u001B[0m in \u001B[0;36mpandas._libs.index.IndexEngine.get_loc\u001B[0;34m()\u001B[0m\n",
      "\u001B[0;32mpandas/_libs/index.pyx\u001B[0m in \u001B[0;36mpandas._libs.index.IndexEngine.get_loc\u001B[0;34m()\u001B[0m\n",
      "\u001B[0;32mpandas/_libs/hashtable_class_helper.pxi\u001B[0m in \u001B[0;36mpandas._libs.hashtable.PyObjectHashTable.get_item\u001B[0;34m()\u001B[0m\n",
      "\u001B[0;32mpandas/_libs/hashtable_class_helper.pxi\u001B[0m in \u001B[0;36mpandas._libs.hashtable.PyObjectHashTable.get_item\u001B[0;34m()\u001B[0m\n",
      "\u001B[0;31mKeyError\u001B[0m: 'Geneid'",
      "\nThe above exception was the direct cause of the following exception:\n",
      "\u001B[0;31mKeyError\u001B[0m                                  Traceback (most recent call last)",
      "\u001B[0;32m<ipython-input-1-4d14aa084710>\u001B[0m in \u001B[0;36m<module>\u001B[0;34m\u001B[0m\n\u001B[1;32m      2\u001B[0m \u001B[0mmodel1\u001B[0m \u001B[0;34m=\u001B[0m \u001B[0mIntegration\u001B[0m\u001B[0;34m(\u001B[0m\u001B[0mmodel\u001B[0m\u001B[0;34m=\u001B[0m\u001B[0;34m\"data/inputs/model_ngaditana.xml\"\u001B[0m\u001B[0;34m)\u001B[0m\u001B[0;34m\u001B[0m\u001B[0;34m\u001B[0m\u001B[0m\n\u001B[1;32m      3\u001B[0m \u001B[0;34m\u001B[0m\u001B[0m\n\u001B[0;32m----> 4\u001B[0;31m \u001B[0mmodel1\u001B[0m\u001B[0;34m.\u001B[0m\u001B[0mgimme\u001B[0m\u001B[0;34m(\u001B[0m\u001B[0mexpr\u001B[0m\u001B[0;34m=\u001B[0m\u001B[0;34m\"data/inputs/tpm.tsv\"\u001B[0m\u001B[0;34m)\u001B[0m\u001B[0;34m\u001B[0m\u001B[0;34m\u001B[0m\u001B[0m\n\u001B[0m",
      "\u001B[0;32m~/Documents/GitHub/bioinformatics-project/src/integration.py\u001B[0m in \u001B[0;36mgimme\u001B[0;34m(self, expr)\u001B[0m\n\u001B[1;32m     29\u001B[0m         \u001B[0;34m:\u001B[0m\u001B[0;32mreturn\u001B[0m\u001B[0;34m:\u001B[0m\u001B[0;34m\u001B[0m\u001B[0;34m\u001B[0m\u001B[0m\n\u001B[1;32m     30\u001B[0m         \"\"\"\n\u001B[0;32m---> 31\u001B[0;31m         \u001B[0mset_expression\u001B[0m \u001B[0;34m=\u001B[0m \u001B[0mself\u001B[0m\u001B[0;34m.\u001B[0m\u001B[0mset_expression\u001B[0m\u001B[0;34m(\u001B[0m\u001B[0mexpr\u001B[0m\u001B[0;34m)\u001B[0m\u001B[0;34m\u001B[0m\u001B[0;34m\u001B[0m\u001B[0m\n\u001B[0m\u001B[1;32m     32\u001B[0m \u001B[0;34m\u001B[0m\u001B[0m\n\u001B[1;32m     33\u001B[0m         \u001B[0mgimme\u001B[0m \u001B[0;34m=\u001B[0m \u001B[0mGIMME\u001B[0m\u001B[0;34m(\u001B[0m\u001B[0mself\u001B[0m\u001B[0;34m.\u001B[0m\u001B[0mmodel\u001B[0m\u001B[0;34m,\u001B[0m \u001B[0mset_expression\u001B[0m\u001B[0;34m,\u001B[0m \u001B[0;34m\"e_Biomass__cytop\"\u001B[0m\u001B[0;34m,\u001B[0m \u001B[0mcondition\u001B[0m\u001B[0;34m=\u001B[0m\u001B[0;34m\"tpm\"\u001B[0m\u001B[0;34m,\u001B[0m \u001B[0mparsimonious\u001B[0m\u001B[0;34m=\u001B[0m\u001B[0;32mTrue\u001B[0m\u001B[0;34m)\u001B[0m\u001B[0;34m\u001B[0m\u001B[0;34m\u001B[0m\u001B[0m\n",
      "\u001B[0;32m~/Documents/GitHub/bioinformatics-project/src/integration.py\u001B[0m in \u001B[0;36mset_expression\u001B[0;34m(expr, conditions)\u001B[0m\n\u001B[1;32m     50\u001B[0m         \u001B[0mexpr\u001B[0m \u001B[0;34m=\u001B[0m \u001B[0mexpr\u001B[0m\u001B[0;34m.\u001B[0m\u001B[0mset_index\u001B[0m\u001B[0;34m(\u001B[0m\u001B[0;34m\"Geneid\"\u001B[0m\u001B[0;34m)\u001B[0m\u001B[0;34m\u001B[0m\u001B[0;34m\u001B[0m\u001B[0m\n\u001B[1;32m     51\u001B[0m         \u001B[0mn_genes\u001B[0m \u001B[0;34m=\u001B[0m \u001B[0mexpr\u001B[0m\u001B[0;34m.\u001B[0m\u001B[0mshape\u001B[0m\u001B[0;34m[\u001B[0m\u001B[0;36m0\u001B[0m\u001B[0;34m]\u001B[0m\u001B[0;34m\u001B[0m\u001B[0;34m\u001B[0m\u001B[0m\n\u001B[0;32m---> 52\u001B[0;31m         \u001B[0midentifiers\u001B[0m \u001B[0;34m=\u001B[0m \u001B[0mexpr\u001B[0m\u001B[0;34m[\u001B[0m\u001B[0;34m'Geneid'\u001B[0m\u001B[0;34m]\u001B[0m\u001B[0;34m.\u001B[0m\u001B[0mtolist\u001B[0m\u001B[0;34m(\u001B[0m\u001B[0;34m)\u001B[0m\u001B[0;34m\u001B[0m\u001B[0;34m\u001B[0m\u001B[0m\n\u001B[0m\u001B[1;32m     53\u001B[0m \u001B[0;34m\u001B[0m\u001B[0m\n\u001B[1;32m     54\u001B[0m         \u001B[0;32mif\u001B[0m \u001B[0mconditions\u001B[0m \u001B[0;32mis\u001B[0m \u001B[0;32mNone\u001B[0m\u001B[0;34m:\u001B[0m\u001B[0;34m\u001B[0m\u001B[0;34m\u001B[0m\u001B[0m\n",
      "\u001B[0;32m~/opt/anaconda3/lib/python3.8/site-packages/pandas/core/frame.py\u001B[0m in \u001B[0;36m__getitem__\u001B[0;34m(self, key)\u001B[0m\n\u001B[1;32m   3022\u001B[0m             \u001B[0;32mif\u001B[0m \u001B[0mself\u001B[0m\u001B[0;34m.\u001B[0m\u001B[0mcolumns\u001B[0m\u001B[0;34m.\u001B[0m\u001B[0mnlevels\u001B[0m \u001B[0;34m>\u001B[0m \u001B[0;36m1\u001B[0m\u001B[0;34m:\u001B[0m\u001B[0;34m\u001B[0m\u001B[0;34m\u001B[0m\u001B[0m\n\u001B[1;32m   3023\u001B[0m                 \u001B[0;32mreturn\u001B[0m \u001B[0mself\u001B[0m\u001B[0;34m.\u001B[0m\u001B[0m_getitem_multilevel\u001B[0m\u001B[0;34m(\u001B[0m\u001B[0mkey\u001B[0m\u001B[0;34m)\u001B[0m\u001B[0;34m\u001B[0m\u001B[0;34m\u001B[0m\u001B[0m\n\u001B[0;32m-> 3024\u001B[0;31m             \u001B[0mindexer\u001B[0m \u001B[0;34m=\u001B[0m \u001B[0mself\u001B[0m\u001B[0;34m.\u001B[0m\u001B[0mcolumns\u001B[0m\u001B[0;34m.\u001B[0m\u001B[0mget_loc\u001B[0m\u001B[0;34m(\u001B[0m\u001B[0mkey\u001B[0m\u001B[0;34m)\u001B[0m\u001B[0;34m\u001B[0m\u001B[0;34m\u001B[0m\u001B[0m\n\u001B[0m\u001B[1;32m   3025\u001B[0m             \u001B[0;32mif\u001B[0m \u001B[0mis_integer\u001B[0m\u001B[0;34m(\u001B[0m\u001B[0mindexer\u001B[0m\u001B[0;34m)\u001B[0m\u001B[0;34m:\u001B[0m\u001B[0;34m\u001B[0m\u001B[0;34m\u001B[0m\u001B[0m\n\u001B[1;32m   3026\u001B[0m                 \u001B[0mindexer\u001B[0m \u001B[0;34m=\u001B[0m \u001B[0;34m[\u001B[0m\u001B[0mindexer\u001B[0m\u001B[0;34m]\u001B[0m\u001B[0;34m\u001B[0m\u001B[0;34m\u001B[0m\u001B[0m\n",
      "\u001B[0;32m~/opt/anaconda3/lib/python3.8/site-packages/pandas/core/indexes/base.py\u001B[0m in \u001B[0;36mget_loc\u001B[0;34m(self, key, method, tolerance)\u001B[0m\n\u001B[1;32m   3080\u001B[0m                 \u001B[0;32mreturn\u001B[0m \u001B[0mself\u001B[0m\u001B[0;34m.\u001B[0m\u001B[0m_engine\u001B[0m\u001B[0;34m.\u001B[0m\u001B[0mget_loc\u001B[0m\u001B[0;34m(\u001B[0m\u001B[0mcasted_key\u001B[0m\u001B[0;34m)\u001B[0m\u001B[0;34m\u001B[0m\u001B[0;34m\u001B[0m\u001B[0m\n\u001B[1;32m   3081\u001B[0m             \u001B[0;32mexcept\u001B[0m \u001B[0mKeyError\u001B[0m \u001B[0;32mas\u001B[0m \u001B[0merr\u001B[0m\u001B[0;34m:\u001B[0m\u001B[0;34m\u001B[0m\u001B[0;34m\u001B[0m\u001B[0m\n\u001B[0;32m-> 3082\u001B[0;31m                 \u001B[0;32mraise\u001B[0m \u001B[0mKeyError\u001B[0m\u001B[0;34m(\u001B[0m\u001B[0mkey\u001B[0m\u001B[0;34m)\u001B[0m \u001B[0;32mfrom\u001B[0m \u001B[0merr\u001B[0m\u001B[0;34m\u001B[0m\u001B[0;34m\u001B[0m\u001B[0m\n\u001B[0m\u001B[1;32m   3083\u001B[0m \u001B[0;34m\u001B[0m\u001B[0m\n\u001B[1;32m   3084\u001B[0m         \u001B[0;32mif\u001B[0m \u001B[0mtolerance\u001B[0m \u001B[0;32mis\u001B[0m \u001B[0;32mnot\u001B[0m \u001B[0;32mNone\u001B[0m\u001B[0;34m:\u001B[0m\u001B[0;34m\u001B[0m\u001B[0;34m\u001B[0m\u001B[0m\n",
      "\u001B[0;31mKeyError\u001B[0m: 'Geneid'"
     ]
    }
   ],
   "source": [
    "from src.integration import Integration\n",
    "model1 = Integration(model=\"data/inputs/model_ngaditana.xml\")\n",
    "\n",
    "model1.gimme(expr=\"data/inputs/tpm.tsv\")"
   ]
  },
  {
   "cell_type": "code",
   "execution_count": null,
   "metadata": {
    "pycharm": {
     "name": "#%%\n"
    }
   },
   "outputs": [],
   "source": []
  }
 ],
 "metadata": {
  "kernelspec": {
   "display_name": "Python 3",
   "language": "python",
   "name": "python3"
  },
  "language_info": {
   "codemirror_mode": {
    "name": "ipython",
    "version": 3
   },
   "file_extension": ".py",
   "mimetype": "text/x-python",
   "name": "python",
   "nbconvert_exporter": "python",
   "pygments_lexer": "ipython3",
   "version": "3.6.7"
  }
 },
 "nbformat": 4,
 "nbformat_minor": 4
}
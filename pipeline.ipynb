{
 "cells": [
  {
   "cell_type": "markdown",
   "metadata": {
    "pycharm": {
     "name": "#%% md\n"
    }
   },
   "source": [
    "#aqui será feito o esqueleto para a seguinte fase do projeto"
   ]
  },
  {
   "cell_type": "code",
   "execution_count": 1,
   "metadata": {
    "collapsed": false,
    "jupyter": {
     "outputs_hidden": false
    },
    "pycharm": {
     "name": "#%%\n"
    }
   },
   "outputs": [],
   "source": [
    "from bioblend import galaxy\n",
    "from src.preprocessing import *"
   ]
  },
  {
   "cell_type": "code",
   "execution_count": 2,
   "outputs": [],
   "source": [
    "gi = galaxy.GalaxyInstance(url='https://usegalaxy.org/', key='879271b2a412ff7df93ae34a5d163eed')\n",
    "preprocessing = PreProcessing(galaxy_instance = gi)"
   ],
   "metadata": {
    "collapsed": false,
    "pycharm": {
     "name": "#%%\n"
    }
   }
  },
  {
   "cell_type": "code",
   "execution_count": null,
   "outputs": [],
   "source": [
    "#ver usuários\n",
    "users = gi.users.get_users()\n",
    "print(users)"
   ],
   "metadata": {
    "collapsed": false,
    "pycharm": {
     "name": "#%%\n"
    }
   }
  },
  {
   "cell_type": "code",
   "execution_count": null,
   "outputs": [],
   "source": [
    "#histórias\n",
    "histories = gi.histories.get_histories()\n",
    "print(histories)"
   ],
   "metadata": {
    "collapsed": false,
    "pycharm": {
     "name": "#%%\n"
    }
   }
  },
  {
   "cell_type": "code",
   "execution_count": 3,
   "outputs": [
    {
     "ename": "AttributeError",
     "evalue": "'PreProcessing' object has no attribute 'upload_data'",
     "output_type": "error",
     "traceback": [
      "\u001B[1;31m---------------------------------------------------------------------------\u001B[0m",
      "\u001B[1;31mAttributeError\u001B[0m                            Traceback (most recent call last)",
      "\u001B[1;32m<ipython-input-3-4eb885c956fd>\u001B[0m in \u001B[0;36m<module>\u001B[1;34m\u001B[0m\n\u001B[1;32m----> 1\u001B[1;33m \u001B[0mpreprocessing\u001B[0m\u001B[1;33m.\u001B[0m\u001B[0mupload_data\u001B[0m\u001B[1;33m(\u001B[0m\u001B[1;33m)\u001B[0m\u001B[1;33m\u001B[0m\u001B[1;33m\u001B[0m\u001B[0m\n\u001B[0m",
      "\u001B[1;31mAttributeError\u001B[0m: 'PreProcessing' object has no attribute 'upload_data'"
     ]
    }
   ],
   "source": [
    "preprocessing.upload_data()"
   ],
   "metadata": {
    "collapsed": false,
    "pycharm": {
     "name": "#%%\n"
    }
   }
  },
  {
   "cell_type": "code",
   "execution_count": null,
   "outputs": [],
   "source": [
    "#bibliotecas\n",
    "lib = gi.libraries.get_libraries()\n",
    "print(lib)"
   ],
   "metadata": {
    "collapsed": false,
    "pycharm": {
     "name": "#%%\n"
    }
   }
  },
  {
   "cell_type": "code",
   "execution_count": null,
   "outputs": [],
   "source": [
    "#erro\n",
    "preprocessing.create_history()"
   ],
   "metadata": {
    "collapsed": false,
    "pycharm": {
     "name": "#%%\n"
    }
   }
  },
  {
   "cell_type": "code",
   "execution_count": null,
   "outputs": [],
   "source": [],
   "metadata": {
    "collapsed": false,
    "pycharm": {
     "name": "#%%\n"
    }
   }
  },
  {
   "cell_type": "code",
   "execution_count": 4,
   "metadata": {
    "pycharm": {
     "name": "#%%\n"
    }
   },
   "outputs": [
    {
     "name": "stdout",
     "output_type": "stream",
     "text": [
      "[{'name': 'projeto', 'annotation': None, 'published': False, 'purged': False, 'tags': [], 'update_time': '2022-04-28T19:51:18.074670', 'deleted': False, 'id': '77d77febf1e1394a', 'url': '/api/histories/77d77febf1e1394a', 'model_class': 'History'}, {'name': 'Unnamed history', 'annotation': None, 'published': False, 'purged': False, 'tags': [], 'update_time': '2022-04-28T17:26:47.348654', 'deleted': False, 'id': 'ab18f357fb3a7b44', 'url': '/api/histories/ab18f357fb3a7b44', 'model_class': 'History'}]\n"
     ]
    }
   ],
   "source": [
    "#histórias\n",
    "histories = gi.histories.get_histories()\n",
    "print(histories)"
   ]
  },
  {
   "cell_type": "code",
   "execution_count": 5,
   "metadata": {
    "collapsed": false,
    "jupyter": {
     "outputs_hidden": false
    },
    "pycharm": {
     "name": "#%%\n"
    }
   },
   "outputs": [
    {
     "ename": "AttributeError",
     "evalue": "'PreProcessing' object has no attribute 'upload_data'",
     "output_type": "error",
     "traceback": [
      "\u001B[0;31m---------------------------------------------------------------------------\u001B[0m",
      "\u001B[0;31mAttributeError\u001B[0m                            Traceback (most recent call last)",
      "\u001B[0;32m<ipython-input-5-4eb885c956fd>\u001B[0m in \u001B[0;36m<module>\u001B[0;34m\u001B[0m\n\u001B[0;32m----> 1\u001B[0;31m \u001B[0mpreprocessing\u001B[0m\u001B[0;34m.\u001B[0m\u001B[0mupload_data\u001B[0m\u001B[0;34m(\u001B[0m\u001B[0;34m)\u001B[0m\u001B[0;34m\u001B[0m\u001B[0;34m\u001B[0m\u001B[0m\n\u001B[0m",
      "\u001B[0;31mAttributeError\u001B[0m: 'PreProcessing' object has no attribute 'upload_data'"
     ]
    }
   ],
   "source": [
    "preprocessing.upload_data()"
   ]
  },
  {
   "cell_type": "code",
   "execution_count": 19,
   "metadata": {
    "pycharm": {
     "name": "#%%\n"
    }
   },
   "outputs": [
    {
     "name": "stdout",
     "output_type": "stream",
     "text": [
      "[{'model_class': 'Library', 'id': 'd2409f4a98066d94', 'name': '2019_nCoV', 'description': 'Data related to 2019 Coronavirus outbreak', 'synopsis': '', 'root_folder_id': 'Fe878daae442969ff', 'create_time': '2020-01-31T20:49:17.181254', 'deleted': False, 'create_time_pretty': '2.2575342465753425 years ago', 'public': True, 'can_user_add': False, 'can_user_modify': False, 'can_user_manage': False}, {'model_class': 'Library', 'id': '175812cd7caaf439', 'name': 'Windshield splatter', 'description': 'Metagenomic analysis (454)', 'synopsis': None, 'root_folder_id': 'Fed01147b4aa1e8de', 'create_time': '2009-08-21T16:29:04.012743', 'deleted': False, 'create_time_pretty': '12.70958904109589 years ago', 'public': True, 'can_user_add': False, 'can_user_modify': False, 'can_user_manage': False}, {'model_class': 'Library', 'id': 'e4de88c47079d971', 'name': 'Evolutionary Trajectories in a Phage', 'description': 'Experimental evolution (Illumina)', 'synopsis': None, 'root_folder_id': 'F175d7d5ddeeb1d43', 'create_time': '2009-08-27T13:19:38.050546', 'deleted': False, 'create_time_pretty': '12.693150684931506 years ago', 'public': True, 'can_user_add': False, 'can_user_modify': False, 'can_user_manage': False}, {'model_class': 'Library', 'id': '0bbfef2771c2ff2a', 'name': 'Codon Usage Frequencies', 'description': '', 'synopsis': None, 'root_folder_id': 'F5141774efbefaf3e', 'create_time': '2009-09-18T16:11:33.871776', 'deleted': False, 'create_time_pretty': '12.632876712328768 years ago', 'public': True, 'can_user_add': False, 'can_user_modify': False, 'can_user_manage': False}, {'model_class': 'Library', 'id': '0b51cc33f0ee471b', 'name': 'Sample NGS Datasets', 'description': 'Examples of Illumina, SOLiD, and 454 data', 'synopsis': 'Use these data to play with Galaxy Tools', 'root_folder_id': 'F5bee13e9f312df25', 'create_time': '2010-04-07T13:50:56.453920', 'deleted': False, 'create_time_pretty': '12.082191780821917 years ago', 'public': True, 'can_user_add': False, 'can_user_modify': False, 'can_user_manage': False}, {'model_class': 'Library', 'id': 'def1f3d165efeae2', 'name': '1000 Genomes', 'description': 'Data from the 1000 Genomes Project FTP site', 'synopsis': '', 'root_folder_id': 'Ff5109f746542d96d', 'create_time': '2010-06-07T20:07:51.945667', 'deleted': False, 'create_time_pretty': '11.915068493150685 years ago', 'public': True, 'can_user_add': False, 'can_user_modify': False, 'can_user_manage': False}, {'model_class': 'Library', 'id': '946f67f475408fac', 'name': 'mtProjectDemo', 'description': 'Human mtDNA resequencing samples', 'synopsis': 'Sample data for identification of heteroplasmic sites in single individual', 'root_folder_id': 'Fded0dccf38d68a18', 'create_time': '2010-06-09T14:42:48.549215', 'deleted': False, 'create_time_pretty': '11.90958904109589 years ago', 'public': True, 'can_user_add': False, 'can_user_modify': False, 'can_user_manage': False}, {'model_class': 'Library', 'id': 'a25bcf89b6148ac3', 'name': 'guru_1000GP', 'description': '', 'synopsis': '', 'root_folder_id': 'Fd922e573b63af05b', 'create_time': '2010-07-15T18:00:41.870568', 'deleted': False, 'create_time_pretty': '11.810958904109588 years ago', 'public': True, 'can_user_add': False, 'can_user_modify': False, 'can_user_manage': False}, {'model_class': 'Library', 'id': '208627a06ac7ef49', 'name': 'Irish whole genome', 'description': 'Irish whole genome sequence and analysis', 'synopsis': '', 'root_folder_id': 'F90191ce08fa7fc29', 'create_time': '2010-08-04T15:16:07.714203', 'deleted': False, 'create_time_pretty': '11.756164383561643 years ago', 'public': True, 'can_user_add': False, 'can_user_modify': False, 'can_user_manage': False}, {'model_class': 'Library', 'id': 'e7e502574a48abf0', 'name': 'He-2010', 'description': '', 'synopsis': '', 'root_folder_id': 'Fbe18635952f0ac68', 'create_time': '2010-08-23T20:31:28.035058', 'deleted': False, 'create_time_pretty': '11.704109589041096 years ago', 'public': True, 'can_user_add': False, 'can_user_modify': False, 'can_user_manage': False}, {'model_class': 'Library', 'id': '5d03b168e8ff4c0d', 'name': 'puc18', 'description': '', 'synopsis': '', 'root_folder_id': 'F1c9c3560eba2590b', 'create_time': '2010-09-01T17:07:57.307452', 'deleted': False, 'create_time_pretty': '11.67945205479452 years ago', 'public': True, 'can_user_add': False, 'can_user_modify': False, 'can_user_manage': False}, {'model_class': 'Library', 'id': 'e3fca37c12996169', 'name': 'Kasthuri', 'description': '', 'synopsis': '', 'root_folder_id': 'Fe71ab93152910258', 'create_time': '2010-10-22T15:32:33.342003', 'deleted': False, 'create_time_pretty': '11.53972602739726 years ago', 'public': True, 'can_user_add': False, 'can_user_modify': False, 'can_user_manage': False}, {'model_class': 'Library', 'id': 'b9dd912636c41cce', 'name': 'mtProject', 'description': 'Dynamics of mitochondrial heteroplasmy in three families (Illumina 1.6+)', 'synopsis': '', 'root_folder_id': 'F96d1ef4698eaa22d', 'create_time': '2010-01-07T19:16:00.504010', 'deleted': False, 'create_time_pretty': '12.32876712328767 years ago', 'public': True, 'can_user_add': False, 'can_user_modify': False, 'can_user_manage': False}, {'model_class': 'Library', 'id': '5a50031e389c2768', 'name': 'AC-exome', 'description': '', 'synopsis': '', 'root_folder_id': 'Fe97a7f2d0070b57e', 'create_time': '2010-12-02T20:58:44.037249', 'deleted': False, 'create_time_pretty': '11.427397260273972 years ago', 'public': True, 'can_user_add': False, 'can_user_modify': False, 'can_user_manage': False}, {'model_class': 'Library', 'id': '01f54382e0bec4c8', 'name': 'the Y', 'description': '', 'synopsis': '', 'root_folder_id': 'Ff83b81a168e3a581', 'create_time': '2010-12-21T18:32:24.880033', 'deleted': False, 'create_time_pretty': '11.375342465753425 years ago', 'public': True, 'can_user_add': False, 'can_user_modify': False, 'can_user_manage': False}, {'model_class': 'Library', 'id': 'b55b4ccbdd06e42c', 'name': 'Erythroid Epigenetic Landscape', 'description': 'Dynamics of the epigenetic landscape during erythroid differentiation after GATA1 restoration', 'synopsis': 'Dynamics of the epigenetic landscape during erythroid differentiation after GATA1 restoration', 'root_folder_id': 'Feb41682201c6b5df', 'create_time': '2011-01-27T20:06:23.038207', 'deleted': False, 'create_time_pretty': '11.273972602739725 years ago', 'public': True, 'can_user_add': False, 'can_user_modify': False, 'can_user_manage': False}, {'model_class': 'Library', 'id': '95006dbc688dd3fd', 'name': 'Heteroplasmy', 'description': 'Data for Genome Biology 2011 manuscript', 'synopsis': '', 'root_folder_id': 'F7928ac94528c9991', 'create_time': '2011-06-07T16:44:44.499830', 'deleted': False, 'create_time_pretty': '10.915068493150685 years ago', 'public': True, 'can_user_add': False, 'can_user_modify': False, 'can_user_manage': False}, {'model_class': 'Library', 'id': 'e660f0c750f4b341', 'name': 'Putative SNP phenotypes', 'description': 'Possible phenotypes and disease associations for SNPs in human builds hg18 and hg19.', 'synopsis': '', 'root_folder_id': 'F5e8d62e584e19e3b', 'create_time': '2010-03-22T18:35:25.078919', 'deleted': False, 'create_time_pretty': '12.126027397260273 years ago', 'public': True, 'can_user_add': False, 'can_user_modify': False, 'can_user_manage': False}, {'model_class': 'Library', 'id': '99b05ea914524955', 'name': 'Genome Diversity', 'description': 'Nucleotide polymorphisms for several threatened species', 'synopsis': 'Nucleotide polymorphisms for several threatened species', 'root_folder_id': 'F8282e20cd374b88f', 'create_time': '2011-04-15T13:47:26.703272', 'deleted': False, 'create_time_pretty': '11.06027397260274 years ago', 'public': True, 'can_user_add': False, 'can_user_modify': False, 'can_user_manage': False}, {'model_class': 'Library', 'id': '2e44b3e708bb57c4', 'name': 'Variant Detection Demo', 'description': '', 'synopsis': '', 'root_folder_id': 'F3d30e89e0e6c4a97', 'create_time': '2011-07-21T22:15:06.812410', 'deleted': False, 'create_time_pretty': '10.794520547945206 years ago', 'public': True, 'can_user_add': False, 'can_user_modify': False, 'can_user_manage': False}, {'model_class': 'Library', 'id': 'd0c8e88ab05c469f', 'name': 'Illumina iDEA Datasets (sub-sampled)', 'description': 'Sub-samapled versions of datasets used for the Illumina iDEA challenge', 'synopsis': '', 'root_folder_id': 'F77ce11b6d3c0d73a', 'create_time': '2011-07-29T17:19:03.802488', 'deleted': False, 'create_time_pretty': '10.772602739726027 years ago', 'public': True, 'can_user_add': False, 'can_user_modify': False, 'can_user_manage': False}, {'model_class': 'Library', 'id': 'bd305ecbdbed0ec6', 'name': 'Whale Drop', 'description': '', 'synopsis': '', 'root_folder_id': 'Ff7361dde000af9b5', 'create_time': '2011-08-09T19:37:47.026198', 'deleted': False, 'create_time_pretty': '10.742465753424657 years ago', 'public': True, 'can_user_add': False, 'can_user_modify': False, 'can_user_manage': False}, {'model_class': 'Library', 'id': 'b29fdfddd1226ffc', 'name': 'Coleman', 'description': 'IonPGM', 'synopsis': '', 'root_folder_id': 'F64546582a2b19794', 'create_time': '2011-09-08T13:11:44.056153', 'deleted': False, 'create_time_pretty': '10.66027397260274 years ago', 'public': True, 'can_user_add': False, 'can_user_modify': False, 'can_user_manage': False}, {'model_class': 'Library', 'id': '79da64dbfcb9e25e', 'name': 'GCAT', 'description': 'Consortium', 'synopsis': '', 'root_folder_id': 'F1d458aedb2b00738', 'create_time': '2011-09-28T13:22:58.092868', 'deleted': False, 'create_time_pretty': '10.605479452054794 years ago', 'public': True, 'can_user_add': False, 'can_user_modify': False, 'can_user_manage': False}, {'model_class': 'Library', 'id': '7326a8d3a4a8ef18', 'name': 'Current Protocols: Protocol 5', 'description': '', 'synopsis': '', 'root_folder_id': 'Fcd5281fb1b036794', 'create_time': '2020-07-13T21:57:06.962896', 'deleted': False, 'create_time_pretty': '1.8082191780821917 years ago', 'public': True, 'can_user_add': False, 'can_user_modify': False, 'can_user_manage': False}, {'model_class': 'Library', 'id': '8bb3ab7690e13de8', 'name': 'Illumina BodyMap 2.0', 'description': 'RNA-seq data for the Illumina BodyMap 2.0 project', 'synopsis': '', 'root_folder_id': 'Fd795f6d3e169879a', 'create_time': '2012-01-16T19:38:50.562525', 'deleted': False, 'create_time_pretty': '10.304109589041095 years ago', 'public': True, 'can_user_add': False, 'can_user_modify': False, 'can_user_manage': False}, {'model_class': 'Library', 'id': 'acd2639f491ec818', 'name': 'Ribosome Profiling Data', 'description': 'Data from Guo, H., Ingolia, N. T., Weissman, J. S. X Bartel, D. P. Mammalian microRNAs predominantly act to decrease target mRNA levels. Nature 466, 835X840 (2010)', 'synopsis': 'Ribosomal Profiling and RNA-seq data', 'root_folder_id': 'Faf1b75bdd6c25367', 'create_time': '2012-03-15T09:55:19.508300', 'deleted': False, 'create_time_pretty': '10.145205479452056 years ago', 'public': True, 'can_user_add': False, 'can_user_modify': False, 'can_user_manage': False}, {'model_class': 'Library', 'id': 'f9ba60baa2e6ba6d', 'name': 'GATK', 'description': '', 'synopsis': '', 'root_folder_id': 'F02175c549a96d749', 'create_time': '2012-03-21T13:19:40.609414', 'deleted': False, 'create_time_pretty': '10.126027397260273 years ago', 'public': True, 'can_user_add': False, 'can_user_modify': False, 'can_user_manage': False}, {'model_class': 'Library', 'id': 'a041b331babfb419', 'name': 'Omics Data', 'description': '', 'synopsis': '', 'root_folder_id': 'Fb778b6da6fbd6bdf', 'create_time': '2012-06-08T09:31:01.626735', 'deleted': False, 'create_time_pretty': '9.912328767123288 years ago', 'public': True, 'can_user_add': False, 'can_user_modify': False, 'can_user_manage': False}, {'model_class': 'Library', 'id': '4ab3a886a95d362e', 'name': 'iGenomes', 'description': 'Selected files from Illumina iGenomes collection', 'synopsis': '', 'root_folder_id': 'F10a969fd4d6ed6fe', 'create_time': '2012-06-08T18:57:53.847450', 'deleted': False, 'create_time_pretty': '9.90958904109589 years ago', 'public': True, 'can_user_add': False, 'can_user_modify': False, 'can_user_manage': False}, {'model_class': 'Library', 'id': '1de29d50c3c44272', 'name': 'XPrize', 'description': 'Archon Genomics X PRIZE Data', 'synopsis': '', 'root_folder_id': 'F60acc80e3adeed20', 'create_time': '2012-11-12T17:00:07.316107', 'deleted': False, 'create_time_pretty': '9.479452054794521 years ago', 'public': True, 'can_user_add': False, 'can_user_modify': False, 'can_user_manage': False}, {'model_class': 'Library', 'id': '7aefd5869a9a28ee', 'name': 'CloudMap', 'description': 'Contains userguide, reference files, and configuration files for the Cloudmap WGS analysis pipeline', 'synopsis': '', 'root_folder_id': 'Fe2745d1ec24daabf', 'create_time': '2012-09-18T06:00:22.564696', 'deleted': False, 'create_time_pretty': '9.632876712328768 years ago', 'public': True, 'can_user_add': False, 'can_user_modify': False, 'can_user_manage': False}, {'model_class': 'Library', 'id': 'eed0ab5744bc71cc', 'name': 'Denisovan sequences', 'description': 'Files from \\'A high-coverage genome sequence from an archaic Denisovan Individual\" Meyer et al. Science 2012 and basic processed data.', 'synopsis': '', 'root_folder_id': 'F718be9500ee0f13b', 'create_time': '2012-09-26T14:40:55.762646', 'deleted': False, 'create_time_pretty': '9.608219178082193 years ago', 'public': True, 'can_user_add': False, 'can_user_modify': False, 'can_user_manage': False}, {'model_class': 'Library', 'id': '4e6a692dd7d3508d', 'name': 'ChIP-Seq Mouse Example', 'description': 'Data used in examples that demonstrate analysis of ChIP-Seq data', 'synopsis': 'Use this data to test out and learn Galaxy\\'s ChIP-Seq capabilities.  It has been scaled down to relatively small sizes.<br /><br />These files are from <a href=\"http://bit.ly/QmD6Nk\">this mouse ChIP-SEQ experiment in the ENCODE project</a>. These data were generated and analyzed by the labs of <a href=\"http://snyderlab.stanford.edu/\">Michael Snyder at Stanford University</a> and <a href=\"http://info.med.yale.edu/bcmm/SMW/SMWhome2.html\">Sherman Weissman at Yale University</a>.<br /><br />The original files from ENCODE were too large to use in teaching examples, so they have been reduced to contain only data that corresponds to chromosome 19 (the shortest).<br /><br />These files were created by, well, cheating. We first processed the entire dataset, mapping it to MM9. When went back and extracted from the original datasets only those records that eventually mapped to chromosome 19. ', 'root_folder_id': 'Fca70286e457e0a27', 'create_time': '2011-09-19T19:36:33.372536', 'deleted': False, 'create_time_pretty': '10.63013698630137 years ago', 'public': True, 'can_user_add': False, 'can_user_modify': False, 'can_user_manage': False}, {'model_class': 'Library', 'id': 'a24fb72e059884e2', 'name': 'Pancreatic Cancer Cell Lines', 'description': 'Exome + Transcriptome Sequencing', 'synopsis': 'Targeted Exome and Whole Transcriptome Sequencing of 3 Pancreatic Cancer Cell Lines: MiaPaCa2, PANC1, and HPAC', 'root_folder_id': 'Fd059b71c7ea66d10', 'create_time': '2014-01-24T22:32:47.887204', 'deleted': False, 'create_time_pretty': '8.27945205479452 years ago', 'public': True, 'can_user_add': False, 'can_user_modify': False, 'can_user_manage': False}, {'model_class': 'Library', 'id': 'db23461568f103ca', 'name': 'Bushman', 'description': 'Data for two papers about the Khoisan and other populations.', 'synopsis': 'The dataset called \"Kim et al.\" is analyzed in the paper \"Khoisan hunter-gatherers have been the largest population throughout most of modern human demographic history\", and contains genotypes for 419,969 SNPs from 1462 worldwide individuals including Khoisan populations. The other data underly the analyses reported in the paper \"Complete Khoisan and Bantu genomes from southern Africa\" by S. C. Schuster et al., published in the journal Nature, February 18, 2010. Each data set can be downloaded and/or imported into a Galaxy history.', 'root_folder_id': 'F946f67f475408fac', 'create_time': '2010-01-28T15:04:36.905278', 'deleted': False, 'create_time_pretty': '12.271232876712329 years ago', 'public': True, 'can_user_add': False, 'can_user_modify': False, 'can_user_manage': False}, {'model_class': 'Library', 'id': '508faf565c0560ef', 'name': 'Charts Example Data', 'description': '', 'synopsis': '', 'root_folder_id': 'Fd7aafbcc7ecb00e4', 'create_time': '2014-10-31T16:14:19.162798', 'deleted': False, 'create_time_pretty': '7.512328767123288 years ago', 'public': True, 'can_user_add': False, 'can_user_modify': False, 'can_user_manage': False}, {'model_class': 'Library', 'id': '6f124c2ade81ff6d', 'name': 'Demonstration Datasets', 'description': 'Demonstration datasets collected from various Galaxy tutorials', 'synopsis': '', 'root_folder_id': 'F00fdabcadd09fb14', 'create_time': '2015-01-11T18:34:50.603957', 'deleted': False, 'create_time_pretty': '7.315068493150685 years ago', 'public': True, 'can_user_add': False, 'can_user_modify': False, 'can_user_manage': False}, {'model_class': 'Library', 'id': '1b1913d85ad75c7d', 'name': 'Wolbachia Example', 'description': 'Datasets used in small SNP calling example.', 'synopsis': 'Datasets used in small SNP calling example.', 'root_folder_id': 'F55aa743125c2465d', 'create_time': '2015-01-13T13:45:12.784365', 'deleted': False, 'create_time_pretty': '7.30958904109589 years ago', 'public': True, 'can_user_add': False, 'can_user_modify': False, 'can_user_manage': False}, {'model_class': 'Library', 'id': 'f46be30101e5acde', 'name': 'Current protocol 2020 - Protocol II', 'description': '', 'synopsis': '', 'root_folder_id': 'F2c759498a100cf3b', 'create_time': '2020-07-14T19:30:43.501210', 'deleted': False, 'create_time_pretty': '1.8054794520547945 years ago', 'public': True, 'can_user_add': False, 'can_user_modify': False, 'can_user_manage': False}, {'model_class': 'Library', 'id': '30c30a5f56317e4b', 'name': 'NGS data logistics', 'description': 'SRA files used for the eponymous training tutorial ', 'synopsis': '', 'root_folder_id': 'F2e1e4b2e1914fd19', 'create_time': '2021-02-25T17:20:53.295923', 'deleted': False, 'create_time_pretty': '1.1863013698630136 years ago', 'public': True, 'can_user_add': False, 'can_user_modify': False, 'can_user_manage': False}, {'model_class': 'Library', 'id': 'f11cf06cdcc13cfd', 'name': 'Mt Study 2014', 'description': 'Data from Rebolledo-Jaramillo et al. 2014', 'synopsis': 'fastq reads (sanger format)', 'root_folder_id': 'Fbdc8f33b87a051b7', 'create_time': '2016-01-28T14:15:18.276124', 'deleted': False, 'create_time_pretty': '6.2684931506849315 years ago', 'public': True, 'can_user_add': False, 'can_user_modify': False, 'can_user_manage': False}, {'model_class': 'Library', 'id': 'ca858c4c28f5b301', 'name': 'dbSNP', 'description': 'dbSNP releases', 'synopsis': 'dbSNP releases in VCF format', 'root_folder_id': 'Fe06719afe7c27e53', 'create_time': '2016-03-22T14:27:03.614672', 'deleted': False, 'create_time_pretty': '6.120547945205479 years ago', 'public': True, 'can_user_add': False, 'can_user_modify': False, 'can_user_manage': False}, {'model_class': 'Library', 'id': '9b1360d4e4e0c900', 'name': 'Tutorials', 'description': 'datasets used in Galaxy tutorials', 'synopsis': 'tutorial data', 'root_folder_id': 'F60eb9d65ee96ba3b', 'create_time': '2016-03-23T14:07:18.963166', 'deleted': False, 'create_time_pretty': '6.117808219178082 years ago', 'public': True, 'can_user_add': False, 'can_user_modify': False, 'can_user_manage': False}, {'model_class': 'Library', 'id': '2828cd96b51204d5', 'name': 'prueba', 'description': 'esta es la descripcion', 'synopsis': 'esta es la sinopsis', 'root_folder_id': 'F808f1a4b3c43ed0e', 'create_time': '2016-06-28T16:57:32.447470', 'deleted': False, 'create_time_pretty': '5.852054794520548 years ago', 'public': True, 'can_user_add': False, 'can_user_modify': False, 'can_user_manage': False}, {'model_class': 'Library', 'id': '71da45b5cac57b18', 'name': 'Test Trinity', 'description': '', 'synopsis': '', 'root_folder_id': 'F65063aa2c697f935', 'create_time': '2017-12-07T16:13:38.662209', 'deleted': False, 'create_time_pretty': '4.4082191780821915 years ago', 'public': True, 'can_user_add': False, 'can_user_modify': False, 'can_user_manage': False}, {'model_class': 'Library', 'id': '00b73c7735c2f000', 'name': 'JG Tutorials', 'description': 'Datasets for Tutorials taught by Jeremy Goecks', 'synopsis': '', 'root_folder_id': 'Fcad2bae1b5da4dc0', 'create_time': '2018-02-19T23:17:16.048181', 'deleted': False, 'create_time_pretty': '4.205479452054795 years ago', 'public': True, 'can_user_add': False, 'can_user_modify': False, 'can_user_manage': False}, {'model_class': 'Library', 'id': 'c22e920dc0226fc7', 'name': 'Analyze Your Genome', 'description': '', 'synopsis': '', 'root_folder_id': 'Ff7c0c3182168bf3a', 'create_time': '2019-04-17T16:18:30.902260', 'deleted': False, 'create_time_pretty': '3.0493150684931507 years ago', 'public': True, 'can_user_add': False, 'can_user_modify': False, 'can_user_manage': False}, {'model_class': 'Library', 'id': '6f4082136a3b05e9', 'name': 'GTN - Material', 'description': 'Galaxy Training Network Material', 'synopsis': 'Galaxy Training Network Material. See https://training.galaxyproject.org', 'root_folder_id': 'Fb063e4a03864ef16', 'create_time': '2019-07-09T11:04:47.583061', 'deleted': False, 'create_time_pretty': '2.824657534246575 years ago', 'public': True, 'can_user_add': False, 'can_user_modify': False, 'can_user_manage': False}]\n"
     ]
    }
   ],
   "source": [
    "#bibliotecas\n",
    "lib = gi.libraries.get_libraries()\n",
    "print(lib)"
   ]
  },
  {
   "cell_type": "code",
   "execution_count": 6,
   "metadata": {
    "pycharm": {
     "name": "#%%\n"
    }
   },
   "outputs": [
    {
     "ename": "AttributeError",
     "evalue": "'PreProcessing' object has no attribute 'histories'",
     "output_type": "error",
     "traceback": [
      "\u001B[0;31m---------------------------------------------------------------------------\u001B[0m",
      "\u001B[0;31mAttributeError\u001B[0m                            Traceback (most recent call last)",
      "\u001B[0;32m<ipython-input-6-a9203d594dc5>\u001B[0m in \u001B[0;36m<module>\u001B[0;34m\u001B[0m\n\u001B[1;32m      1\u001B[0m \u001B[0;31m#erro\u001B[0m\u001B[0;34m\u001B[0m\u001B[0;34m\u001B[0m\u001B[0;34m\u001B[0m\u001B[0m\n\u001B[0;32m----> 2\u001B[0;31m \u001B[0mpreprocessing\u001B[0m\u001B[0;34m.\u001B[0m\u001B[0mcreate_history\u001B[0m\u001B[0;34m(\u001B[0m\u001B[0;34m)\u001B[0m\u001B[0;34m\u001B[0m\u001B[0;34m\u001B[0m\u001B[0m\n\u001B[0m",
      "\u001B[0;32m~/Documents/GitHub/bioinformatics-project/src/preprocessing.py\u001B[0m in \u001B[0;36mcreate_history\u001B[0;34m(self, name)\u001B[0m\n\u001B[1;32m     16\u001B[0m             \u001B[0mdict\u001B[0m\u001B[0;34m:\u001B[0m \u001B[0mdictionary\u001B[0m \u001B[0mcontaining\u001B[0m \u001B[0minformation\u001B[0m \u001B[0mabout\u001B[0m \u001B[0mnewly\u001B[0m \u001B[0mcreated\u001B[0m \u001B[0mhistory\u001B[0m\u001B[0;34m\u001B[0m\u001B[0;34m\u001B[0m\u001B[0m\n\u001B[1;32m     17\u001B[0m         \"\"\"\n\u001B[0;32m---> 18\u001B[0;31m         \u001B[0;32mreturn\u001B[0m \u001B[0mself\u001B[0m\u001B[0;34m.\u001B[0m\u001B[0mhistories\u001B[0m\u001B[0;34m.\u001B[0m\u001B[0mHistoryClient\u001B[0m\u001B[0;34m(\u001B[0m\u001B[0mname\u001B[0m\u001B[0;34m)\u001B[0m\u001B[0;34m\u001B[0m\u001B[0;34m\u001B[0m\u001B[0m\n\u001B[0m\u001B[1;32m     19\u001B[0m \u001B[0;34m\u001B[0m\u001B[0m\n\u001B[1;32m     20\u001B[0m \u001B[0;34m\u001B[0m\u001B[0m\n",
      "\u001B[0;31mAttributeError\u001B[0m: 'PreProcessing' object has no attribute 'histories'"
     ]
    }
   ],
   "source": [
    "#erro\n",
    "preprocessing.create_history()"
   ]
  },
  {
   "cell_type": "code",
   "execution_count": null,
   "metadata": {
    "pycharm": {
     "name": "#%%\n"
    }
   },
   "outputs": [],
   "source": []
  }
 ],
 "metadata": {
  "interpreter": {
   "hash": "aee8b7b246df8f9039afb4144a1f6fd8d2ca17a180786b69acc140d282b71a49"
  },
  "kernelspec": {
   "display_name": "Python 3",
   "language": "python",
   "name": "python3"
  },
  "language_info": {
   "codemirror_mode": {
    "name": "ipython",
    "version": 3
   },
   "file_extension": ".py",
   "mimetype": "text/x-python",
   "name": "python",
   "nbconvert_exporter": "python",
   "pygments_lexer": "ipython3",
   "version": "3.10.0"
  }
 },
 "nbformat": 4,
 "nbformat_minor": 4
}
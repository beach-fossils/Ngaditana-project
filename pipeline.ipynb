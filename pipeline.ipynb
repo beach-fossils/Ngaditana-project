{
 "cells": [
  {
   "cell_type": "markdown",
   "metadata": {
    "pycharm": {
     "name": "#%% md\n"
    }
   },
   "source": [
    "#aqui será feito o esqueleto para a seguinte fase do projeto"
   ]
  },
  {
   "cell_type": "code",
   "execution_count": 2,
   "outputs": [],
   "source": [
    "from bioblend import galaxy\n",
    "from src.preprocessing import *"
   ],
   "metadata": {
    "collapsed": false,
    "pycharm": {
     "name": "#%%\n"
    }
   }
  },
  {
   "cell_type": "code",
   "execution_count": 3,
   "outputs": [],
   "source": [
    "gi = galaxy.GalaxyInstance(url='https://usegalaxy.org/', key='b3a37dd4f27915d58f6bbcfe5b9158f2')\n",
    "preprocessing = PreProcessing(galaxy_instance = gi)"
   ],
   "metadata": {
    "collapsed": false,
    "pycharm": {
     "name": "#%%\n"
    }
   }
  },
  {
   "cell_type": "code",
   "execution_count": 6,
   "outputs": [
    {
     "data": {
      "text/plain": "[{'model_class': 'Job',\n  'id': 'bbd44e69cb8906b52f92411178fc6288',\n  'state': 'ok',\n  'exit_code': 0,\n  'update_time': '2022-03-10T11:41:22.852011',\n  'create_time': '2022-03-10T10:55:53.701254',\n  'galaxy_version': '22.01',\n  'tool_id': 'toolshed.g2.bx.psu.edu/repos/iuc/featurecounts/featurecounts/2.0.1+galaxy2',\n  'history_id': '00171fbac338ace6'},\n {'model_class': 'Job',\n  'id': 'bbd44e69cb8906b5a9d6249733961330',\n  'state': 'ok',\n  'exit_code': 0,\n  'update_time': '2022-03-10T10:52:34.134822',\n  'create_time': '2022-03-10T09:47:51.505763',\n  'galaxy_version': '22.01',\n  'tool_id': 'toolshed.g2.bx.psu.edu/repos/iuc/rgrnastar/rna_star/2.7.8a+galaxy0',\n  'history_id': '00171fbac338ace6'},\n {'model_class': 'Job',\n  'id': 'bbd44e69cb8906b52b8fd17c11ba4ad5',\n  'state': 'ok',\n  'exit_code': 0,\n  'update_time': '2022-03-10T09:45:28.288493',\n  'create_time': '2022-03-10T09:45:04.361104',\n  'galaxy_version': '22.01',\n  'tool_id': 'toolshed.g2.bx.psu.edu/repos/devteam/gffread/gffread/2.2.1.3+galaxy0',\n  'history_id': '00171fbac338ace6'},\n {'model_class': 'Job',\n  'id': 'bbd44e69cb8906b5ec4a488c1de0bc7e',\n  'state': 'ok',\n  'exit_code': 0,\n  'update_time': '2022-03-09T23:50:33.352915',\n  'create_time': '2022-03-09T23:47:55.472048',\n  'galaxy_version': '22.01',\n  'tool_id': 'toolshed.g2.bx.psu.edu/repos/devteam/fastqc/fastqc/0.63',\n  'history_id': '00171fbac338ace6'},\n {'model_class': 'Job',\n  'id': 'bbd44e69cb8906b5bd10f6957a852d21',\n  'state': 'ok',\n  'exit_code': 0,\n  'update_time': '2022-03-09T23:48:53.905807',\n  'create_time': '2022-03-09T23:47:55.375747',\n  'galaxy_version': '22.01',\n  'tool_id': 'CONVERTER_gz_to_uncompressed',\n  'history_id': '00171fbac338ace6'},\n {'model_class': 'Job',\n  'id': 'bbd44e69cb8906b52e45fcf047f8fd7b',\n  'state': 'ok',\n  'exit_code': 0,\n  'update_time': '2022-03-09T23:44:32.374696',\n  'create_time': '2022-03-09T23:44:07.378298',\n  'galaxy_version': '22.01',\n  'tool_id': '__SET_METADATA__',\n  'history_id': '00171fbac338ace6'},\n {'model_class': 'Job',\n  'id': 'bbd44e69cb8906b52e210e1905a21bb2',\n  'state': 'ok',\n  'exit_code': 0,\n  'update_time': '2022-03-09T23:43:01.725638',\n  'create_time': '2022-03-09T23:42:35.149243',\n  'galaxy_version': '22.01',\n  'tool_id': 'upload1',\n  'history_id': '00171fbac338ace6'},\n {'model_class': 'Job',\n  'id': 'bbd44e69cb8906b54c4ba72c73affee9',\n  'state': 'ok',\n  'exit_code': 0,\n  'update_time': '2022-03-09T23:42:50.220591',\n  'create_time': '2022-03-09T23:42:31.236290',\n  'galaxy_version': '22.01',\n  'tool_id': 'upload1',\n  'history_id': '00171fbac338ace6'},\n {'model_class': 'Job',\n  'id': 'bbd44e69cb8906b55fd12de4b04dbcaa',\n  'state': 'ok',\n  'exit_code': 0,\n  'update_time': '2022-03-09T23:42:40.998560',\n  'create_time': '2022-03-09T23:42:23.151788',\n  'galaxy_version': '22.01',\n  'tool_id': 'upload1',\n  'history_id': '00171fbac338ace6'},\n {'model_class': 'Job',\n  'id': 'bbd44e69cb8906b5dac02e25eff73af4',\n  'state': 'ok',\n  'exit_code': 0,\n  'update_time': '2022-03-09T23:39:11.390662',\n  'create_time': '2022-03-09T23:38:58.122901',\n  'galaxy_version': '22.01',\n  'tool_id': 'upload1',\n  'history_id': '00171fbac338ace6'}]"
     },
     "execution_count": 6,
     "metadata": {},
     "output_type": "execute_result"
    }
   ],
   "source": [
    "preprocessing.upload_data()"
   ],
   "metadata": {
    "collapsed": false,
    "pycharm": {
     "name": "#%%\n"
    }
   }
  }
 ],
 "metadata": {
  "language_info": {
   "name": "python"
  },
  "orig_nbformat": 4
 },
 "nbformat": 4,
 "nbformat_minor": 2
}